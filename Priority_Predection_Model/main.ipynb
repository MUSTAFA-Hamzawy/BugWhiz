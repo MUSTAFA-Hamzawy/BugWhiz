{
 "cells": [
  {
   "cell_type": "code",
   "execution_count": 1,
   "metadata": {},
   "outputs": [
    {
     "name": "stderr",
     "output_type": "stream",
     "text": [
      "[nltk_data] Downloading package stopwords to\n",
      "[nltk_data]     C:\\Users\\ascom\\AppData\\Roaming\\nltk_data...\n",
      "[nltk_data]   Package stopwords is already up-to-date!\n",
      "[nltk_data] Downloading package punkt to\n",
      "[nltk_data]     C:\\Users\\ascom\\AppData\\Roaming\\nltk_data...\n",
      "[nltk_data]   Package punkt is already up-to-date!\n",
      "[nltk_data] Downloading package wordnet to\n",
      "[nltk_data]     C:\\Users\\ascom\\AppData\\Roaming\\nltk_data...\n",
      "[nltk_data]   Package wordnet is already up-to-date!\n"
     ]
    },
    {
     "name": "stdout",
     "output_type": "stream",
     "text": [
      "Iteration 0: Cost 0.9584\n",
      "Iteration 100: Cost 0.2954\n",
      "Iteration 200: Cost 0.2318\n",
      "Iteration 300: Cost 0.1989\n",
      "Iteration 400: Cost 0.1776\n",
      "Iteration 500: Cost 0.1621\n",
      "Iteration 600: Cost 0.1501\n",
      "Iteration 700: Cost 0.1404\n",
      "Iteration 800: Cost 0.1323\n",
      "Iteration 900: Cost 0.1255\n",
      "Iteration 999: Cost 0.1196\n"
     ]
    }
   ],
   "source": [
    "import pandas as pd\n",
    "from sklearn.model_selection import train_test_split\n",
    "from sklearn.feature_extraction.text import TfidfVectorizer\n",
    "from sklearn.metrics import classification_report\n",
    "from Model import SoftmaxRegressionCustom\n",
    "from Data_Preprocessing import TextClassifier\n",
    "import sys\n",
    "\n",
    "df = pd.read_csv('Data.csv')\n",
    "\n",
    "X = df['Summary']\n",
    "y = df['Priority']  \n",
    "\n",
    "text_classifier = TextClassifier()\n",
    "text_classifier.fit(X, y)\n",
    "\n",
    "text_classifier.save('priority_prediction.pkl')\n",
    "\n",
    "X_train, X_test, y_train, y_test = train_test_split(X, y, test_size=0.2, random_state=42)\n",
    "\n",
    "X_preprocessed = [text_classifier.preprocess(text) for text in X_train]\n",
    "\n",
    "# Convert the train data into TF-IDF features using the same vectorizer\n",
    "vectorizer = TfidfVectorizer(max_features=5000)\n",
    "X_train_tfidf = vectorizer.fit_transform(X_preprocessed)\n",
    "y_encoded = text_classifier.label_encoder.fit_transform(y_train)\n",
    "\n",
    "# Train the custom softmax regression model\n",
    "softmax_model = SoftmaxRegressionCustom()\n",
    "softmax_model.fit(X_train_tfidf.toarray(), pd.get_dummies(y_encoded).values)\n",
    "\n",
    "y_pred_softmax = softmax_model.predict(X_train_tfidf.toarray())\n",
    "\n",
    "# Redirect stdout to a file\n",
    "with open('output.txt', 'w') as f:\n",
    "    sys.stdout = f  # Change the standard output to the file we created.\n",
    "    \n",
    "    print(f\"Custom Softmax Regression Train Accuracy: {softmax_model.accuracy(y_encoded, y_pred_softmax):.4f}\")\n",
    "    print(f\"Classification Report:\\n{classification_report(y_encoded, y_pred_softmax, target_names=text_classifier.label_encoder.classes_)}\")\n",
    "    \n",
    "    # Predict on the test set using both models for comparison\n",
    "    X_test_preprocessed = [text_classifier.preprocess(text) for text in X_test]\n",
    "    X_test_tfidf = vectorizer.transform(X_test_preprocessed)\n",
    "    y_test_encoded = text_classifier.label_encoder.transform(y_test)\n",
    "    \n",
    "    # Custom Softmax Regression predictions\n",
    "    y_pred_softmax_test = softmax_model.predict(X_test_tfidf.toarray())\n",
    "    \n",
    "    print(f\"Custom Softmax Regression Test Accuracy: {softmax_model.accuracy(y_test_encoded, y_pred_softmax_test):.4f}\")\n",
    "    print(f\"Classification Report:\\n{classification_report(y_test_encoded, y_pred_softmax_test, target_names=text_classifier.label_encoder.classes_)}\")\n",
    "    \n",
    "    sys.stdout = sys.__stdout__\n"
   ]
  }
 ],
 "metadata": {
  "kernelspec": {
   "display_name": "Python 3",
   "language": "python",
   "name": "python3"
  },
  "language_info": {
   "codemirror_mode": {
    "name": "ipython",
    "version": 3
   },
   "file_extension": ".py",
   "mimetype": "text/x-python",
   "name": "python",
   "nbconvert_exporter": "python",
   "pygments_lexer": "ipython3",
   "version": "3.12.2"
  }
 },
 "nbformat": 4,
 "nbformat_minor": 2
}
