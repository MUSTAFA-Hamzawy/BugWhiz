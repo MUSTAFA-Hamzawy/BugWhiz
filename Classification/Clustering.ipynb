{
  "cells": [
    {
      "cell_type": "markdown",
      "metadata": {
        "id": "H1owhJo-7c_s"
      },
      "source": [
        "**Import Libraries**"
      ]
    },
    {
      "cell_type": "code",
      "execution_count": 1,
      "metadata": {
        "id": "WfJvhCiZ6gft"
      },
      "outputs": [],
      "source": [
        "# Import necessary libraries\n",
        "import pandas as pd  # Pandas for data manipulation and analysis\n",
        "from sklearn.preprocessing import LabelEncoder  # LabelEncoder for encoding categorical target labels\n",
        "from sklearn.feature_extraction.text import TfidfVectorizer  # TfidfVectorizer for converting text data to TF-IDF features\n",
        "from sklearn.svm import SVC  # SVC (Support Vector Classifier) for SVM classification\n",
        "from sklearn.metrics import accuracy_score, top_k_accuracy_score  # Metrics for evaluating model performance\n",
        "from sklearn.model_selection import StratifiedShuffleSplit  # StratifiedShuffleSplit for train-test splitting\n",
        "import joblib  # Joblib for saving and loading models\n",
        "from sklearn.decomposition import TruncatedSVD  # TruncatedSVD for dimensionality reduction using Singular Value Decomposition (SVD)\n",
        "from sklearn.cluster import KMeans\n",
        "from sklearn.model_selection import train_test_split"
      ]
    },
    {
      "cell_type": "markdown",
      "metadata": {
        "id": "mIjQw4jv7jlz"
      },
      "source": [
        "**Load The Dataset**"
      ]
    },
    {
      "cell_type": "code",
      "execution_count": 2,
      "metadata": {
        "colab": {
          "base_uri": "https://localhost:8080/"
        },
        "id": "tgkV2Cg3gIk5",
        "outputId": "10b224df-55ba-40b1-fbba-4373555fcd97"
      },
      "outputs": [
        {
          "output_type": "stream",
          "name": "stdout",
          "text": [
            "Mounted at /content/drive\n"
          ]
        }
      ],
      "source": [
        "# Mount Google Drive to access files and save outputs\n",
        "from google.colab import drive\n",
        "drive.mount('/content/drive')"
      ]
    },
    {
      "cell_type": "code",
      "execution_count": 3,
      "metadata": {
        "id": "9bLUtRI77py8"
      },
      "outputs": [],
      "source": [
        "# Specify the file path in Google Drive and load the dataset after preprocessing\n",
        "file_path = '/content/drive/My Drive/kaggle_dataset_after_preprocessing.csv'\n",
        "dataset = pd.read_csv(file_path)"
      ]
    },
    {
      "cell_type": "code",
      "execution_count": 4,
      "metadata": {
        "colab": {
          "base_uri": "https://localhost:8080/",
          "height": 423
        },
        "id": "JOBbEojOA7sa",
        "outputId": "22e7fef2-da3b-4d52-ef59-cea8750c7d57"
      },
      "outputs": [
        {
          "output_type": "execute_result",
          "data": {
            "text/plain": [
              "                                         Summary_Stemmed  \\\n",
              "0      ['scroll', 'scroll', 'mice', 'touchpad', 'etc'...   \n",
              "1      ['add', 'check', 'item', 'download', 'panel', ...   \n",
              "2      ['useafterfre', 'navig', 'document', 'form', '...   \n",
              "3      ['add', 'address', 'properli', 'autofil', 'opt...   \n",
              "4      ['libxmlgyp', 'defin', 'libxmlstat', 'direct',...   \n",
              "...                                                  ...   \n",
              "33446  ['onaddstream', 'fire', 'second', 'stream', 's...   \n",
              "33447  ['default', 'toolchain', 'clang', 'linux', 'ca...   \n",
              "33448  ['scatter', 'chart', 'updat', 'modifi', 'valu'...   \n",
              "33449  ['consid', 'use', '1em', 'margin', 'list', 'it...   \n",
              "33450  ['unabl', 'cast', 'tab', 'chrome', 'cast', 'tu...   \n",
              "\n",
              "                                       processed_summary  \\\n",
              "0                 scroll scroll mice touchpad etc scroll   \n",
              "1             add check item download panel browser test   \n",
              "2      useafterfre navig document form valid messag s...   \n",
              "3         add address properli autofil option dialog box   \n",
              "4               libxmlgyp defin libxmlstat direct depend   \n",
              "...                                                  ...   \n",
              "33446  onaddstream fire second stream sdp contain ams...   \n",
              "33447  default toolchain clang linux caus build failu...   \n",
              "33448         scatter chart updat modifi valu refer cell   \n",
              "33449  consid use 1em margin list item identifi speci...   \n",
              "33450  unabl cast tab chrome cast tutori video finish...   \n",
              "\n",
              "                        Assignee  \n",
              "0              amit@chromium.org  \n",
              "1           achuith@chromium.org  \n",
              "2             tkent@chromium.org  \n",
              "3               sky@chromium.org  \n",
              "4               wtc@chromium.org  \n",
              "...                          ...  \n",
              "33446      deadbeef@chromium.org  \n",
              "33447       vivek...@samsung.com  \n",
              "33448     amol.w...@synerzip.com  \n",
              "33449         glebl@chromium.org  \n",
              "33450  markdavidscott@google.com  \n",
              "\n",
              "[33451 rows x 3 columns]"
            ],
            "text/html": [
              "\n",
              "  <div id=\"df-2a262625-58b2-46fe-9bb5-3e36e66ccc96\" class=\"colab-df-container\">\n",
              "    <div>\n",
              "<style scoped>\n",
              "    .dataframe tbody tr th:only-of-type {\n",
              "        vertical-align: middle;\n",
              "    }\n",
              "\n",
              "    .dataframe tbody tr th {\n",
              "        vertical-align: top;\n",
              "    }\n",
              "\n",
              "    .dataframe thead th {\n",
              "        text-align: right;\n",
              "    }\n",
              "</style>\n",
              "<table border=\"1\" class=\"dataframe\">\n",
              "  <thead>\n",
              "    <tr style=\"text-align: right;\">\n",
              "      <th></th>\n",
              "      <th>Summary_Stemmed</th>\n",
              "      <th>processed_summary</th>\n",
              "      <th>Assignee</th>\n",
              "    </tr>\n",
              "  </thead>\n",
              "  <tbody>\n",
              "    <tr>\n",
              "      <th>0</th>\n",
              "      <td>['scroll', 'scroll', 'mice', 'touchpad', 'etc'...</td>\n",
              "      <td>scroll scroll mice touchpad etc scroll</td>\n",
              "      <td>amit@chromium.org</td>\n",
              "    </tr>\n",
              "    <tr>\n",
              "      <th>1</th>\n",
              "      <td>['add', 'check', 'item', 'download', 'panel', ...</td>\n",
              "      <td>add check item download panel browser test</td>\n",
              "      <td>achuith@chromium.org</td>\n",
              "    </tr>\n",
              "    <tr>\n",
              "      <th>2</th>\n",
              "      <td>['useafterfre', 'navig', 'document', 'form', '...</td>\n",
              "      <td>useafterfre navig document form valid messag s...</td>\n",
              "      <td>tkent@chromium.org</td>\n",
              "    </tr>\n",
              "    <tr>\n",
              "      <th>3</th>\n",
              "      <td>['add', 'address', 'properli', 'autofil', 'opt...</td>\n",
              "      <td>add address properli autofil option dialog box</td>\n",
              "      <td>sky@chromium.org</td>\n",
              "    </tr>\n",
              "    <tr>\n",
              "      <th>4</th>\n",
              "      <td>['libxmlgyp', 'defin', 'libxmlstat', 'direct',...</td>\n",
              "      <td>libxmlgyp defin libxmlstat direct depend</td>\n",
              "      <td>wtc@chromium.org</td>\n",
              "    </tr>\n",
              "    <tr>\n",
              "      <th>...</th>\n",
              "      <td>...</td>\n",
              "      <td>...</td>\n",
              "      <td>...</td>\n",
              "    </tr>\n",
              "    <tr>\n",
              "      <th>33446</th>\n",
              "      <td>['onaddstream', 'fire', 'second', 'stream', 's...</td>\n",
              "      <td>onaddstream fire second stream sdp contain ams...</td>\n",
              "      <td>deadbeef@chromium.org</td>\n",
              "    </tr>\n",
              "    <tr>\n",
              "      <th>33447</th>\n",
              "      <td>['default', 'toolchain', 'clang', 'linux', 'ca...</td>\n",
              "      <td>default toolchain clang linux caus build failu...</td>\n",
              "      <td>vivek...@samsung.com</td>\n",
              "    </tr>\n",
              "    <tr>\n",
              "      <th>33448</th>\n",
              "      <td>['scatter', 'chart', 'updat', 'modifi', 'valu'...</td>\n",
              "      <td>scatter chart updat modifi valu refer cell</td>\n",
              "      <td>amol.w...@synerzip.com</td>\n",
              "    </tr>\n",
              "    <tr>\n",
              "      <th>33449</th>\n",
              "      <td>['consid', 'use', '1em', 'margin', 'list', 'it...</td>\n",
              "      <td>consid use 1em margin list item identifi speci...</td>\n",
              "      <td>glebl@chromium.org</td>\n",
              "    </tr>\n",
              "    <tr>\n",
              "      <th>33450</th>\n",
              "      <td>['unabl', 'cast', 'tab', 'chrome', 'cast', 'tu...</td>\n",
              "      <td>unabl cast tab chrome cast tutori video finish...</td>\n",
              "      <td>markdavidscott@google.com</td>\n",
              "    </tr>\n",
              "  </tbody>\n",
              "</table>\n",
              "<p>33451 rows × 3 columns</p>\n",
              "</div>\n",
              "    <div class=\"colab-df-buttons\">\n",
              "\n",
              "  <div class=\"colab-df-container\">\n",
              "    <button class=\"colab-df-convert\" onclick=\"convertToInteractive('df-2a262625-58b2-46fe-9bb5-3e36e66ccc96')\"\n",
              "            title=\"Convert this dataframe to an interactive table.\"\n",
              "            style=\"display:none;\">\n",
              "\n",
              "  <svg xmlns=\"http://www.w3.org/2000/svg\" height=\"24px\" viewBox=\"0 -960 960 960\">\n",
              "    <path d=\"M120-120v-720h720v720H120Zm60-500h600v-160H180v160Zm220 220h160v-160H400v160Zm0 220h160v-160H400v160ZM180-400h160v-160H180v160Zm440 0h160v-160H620v160ZM180-180h160v-160H180v160Zm440 0h160v-160H620v160Z\"/>\n",
              "  </svg>\n",
              "    </button>\n",
              "\n",
              "  <style>\n",
              "    .colab-df-container {\n",
              "      display:flex;\n",
              "      gap: 12px;\n",
              "    }\n",
              "\n",
              "    .colab-df-convert {\n",
              "      background-color: #E8F0FE;\n",
              "      border: none;\n",
              "      border-radius: 50%;\n",
              "      cursor: pointer;\n",
              "      display: none;\n",
              "      fill: #1967D2;\n",
              "      height: 32px;\n",
              "      padding: 0 0 0 0;\n",
              "      width: 32px;\n",
              "    }\n",
              "\n",
              "    .colab-df-convert:hover {\n",
              "      background-color: #E2EBFA;\n",
              "      box-shadow: 0px 1px 2px rgba(60, 64, 67, 0.3), 0px 1px 3px 1px rgba(60, 64, 67, 0.15);\n",
              "      fill: #174EA6;\n",
              "    }\n",
              "\n",
              "    .colab-df-buttons div {\n",
              "      margin-bottom: 4px;\n",
              "    }\n",
              "\n",
              "    [theme=dark] .colab-df-convert {\n",
              "      background-color: #3B4455;\n",
              "      fill: #D2E3FC;\n",
              "    }\n",
              "\n",
              "    [theme=dark] .colab-df-convert:hover {\n",
              "      background-color: #434B5C;\n",
              "      box-shadow: 0px 1px 3px 1px rgba(0, 0, 0, 0.15);\n",
              "      filter: drop-shadow(0px 1px 2px rgba(0, 0, 0, 0.3));\n",
              "      fill: #FFFFFF;\n",
              "    }\n",
              "  </style>\n",
              "\n",
              "    <script>\n",
              "      const buttonEl =\n",
              "        document.querySelector('#df-2a262625-58b2-46fe-9bb5-3e36e66ccc96 button.colab-df-convert');\n",
              "      buttonEl.style.display =\n",
              "        google.colab.kernel.accessAllowed ? 'block' : 'none';\n",
              "\n",
              "      async function convertToInteractive(key) {\n",
              "        const element = document.querySelector('#df-2a262625-58b2-46fe-9bb5-3e36e66ccc96');\n",
              "        const dataTable =\n",
              "          await google.colab.kernel.invokeFunction('convertToInteractive',\n",
              "                                                    [key], {});\n",
              "        if (!dataTable) return;\n",
              "\n",
              "        const docLinkHtml = 'Like what you see? Visit the ' +\n",
              "          '<a target=\"_blank\" href=https://colab.research.google.com/notebooks/data_table.ipynb>data table notebook</a>'\n",
              "          + ' to learn more about interactive tables.';\n",
              "        element.innerHTML = '';\n",
              "        dataTable['output_type'] = 'display_data';\n",
              "        await google.colab.output.renderOutput(dataTable, element);\n",
              "        const docLink = document.createElement('div');\n",
              "        docLink.innerHTML = docLinkHtml;\n",
              "        element.appendChild(docLink);\n",
              "      }\n",
              "    </script>\n",
              "  </div>\n",
              "\n",
              "\n",
              "<div id=\"df-00a2fb56-f817-4e52-b609-a0e1ad76e7c9\">\n",
              "  <button class=\"colab-df-quickchart\" onclick=\"quickchart('df-00a2fb56-f817-4e52-b609-a0e1ad76e7c9')\"\n",
              "            title=\"Suggest charts\"\n",
              "            style=\"display:none;\">\n",
              "\n",
              "<svg xmlns=\"http://www.w3.org/2000/svg\" height=\"24px\"viewBox=\"0 0 24 24\"\n",
              "     width=\"24px\">\n",
              "    <g>\n",
              "        <path d=\"M19 3H5c-1.1 0-2 .9-2 2v14c0 1.1.9 2 2 2h14c1.1 0 2-.9 2-2V5c0-1.1-.9-2-2-2zM9 17H7v-7h2v7zm4 0h-2V7h2v10zm4 0h-2v-4h2v4z\"/>\n",
              "    </g>\n",
              "</svg>\n",
              "  </button>\n",
              "\n",
              "<style>\n",
              "  .colab-df-quickchart {\n",
              "      --bg-color: #E8F0FE;\n",
              "      --fill-color: #1967D2;\n",
              "      --hover-bg-color: #E2EBFA;\n",
              "      --hover-fill-color: #174EA6;\n",
              "      --disabled-fill-color: #AAA;\n",
              "      --disabled-bg-color: #DDD;\n",
              "  }\n",
              "\n",
              "  [theme=dark] .colab-df-quickchart {\n",
              "      --bg-color: #3B4455;\n",
              "      --fill-color: #D2E3FC;\n",
              "      --hover-bg-color: #434B5C;\n",
              "      --hover-fill-color: #FFFFFF;\n",
              "      --disabled-bg-color: #3B4455;\n",
              "      --disabled-fill-color: #666;\n",
              "  }\n",
              "\n",
              "  .colab-df-quickchart {\n",
              "    background-color: var(--bg-color);\n",
              "    border: none;\n",
              "    border-radius: 50%;\n",
              "    cursor: pointer;\n",
              "    display: none;\n",
              "    fill: var(--fill-color);\n",
              "    height: 32px;\n",
              "    padding: 0;\n",
              "    width: 32px;\n",
              "  }\n",
              "\n",
              "  .colab-df-quickchart:hover {\n",
              "    background-color: var(--hover-bg-color);\n",
              "    box-shadow: 0 1px 2px rgba(60, 64, 67, 0.3), 0 1px 3px 1px rgba(60, 64, 67, 0.15);\n",
              "    fill: var(--button-hover-fill-color);\n",
              "  }\n",
              "\n",
              "  .colab-df-quickchart-complete:disabled,\n",
              "  .colab-df-quickchart-complete:disabled:hover {\n",
              "    background-color: var(--disabled-bg-color);\n",
              "    fill: var(--disabled-fill-color);\n",
              "    box-shadow: none;\n",
              "  }\n",
              "\n",
              "  .colab-df-spinner {\n",
              "    border: 2px solid var(--fill-color);\n",
              "    border-color: transparent;\n",
              "    border-bottom-color: var(--fill-color);\n",
              "    animation:\n",
              "      spin 1s steps(1) infinite;\n",
              "  }\n",
              "\n",
              "  @keyframes spin {\n",
              "    0% {\n",
              "      border-color: transparent;\n",
              "      border-bottom-color: var(--fill-color);\n",
              "      border-left-color: var(--fill-color);\n",
              "    }\n",
              "    20% {\n",
              "      border-color: transparent;\n",
              "      border-left-color: var(--fill-color);\n",
              "      border-top-color: var(--fill-color);\n",
              "    }\n",
              "    30% {\n",
              "      border-color: transparent;\n",
              "      border-left-color: var(--fill-color);\n",
              "      border-top-color: var(--fill-color);\n",
              "      border-right-color: var(--fill-color);\n",
              "    }\n",
              "    40% {\n",
              "      border-color: transparent;\n",
              "      border-right-color: var(--fill-color);\n",
              "      border-top-color: var(--fill-color);\n",
              "    }\n",
              "    60% {\n",
              "      border-color: transparent;\n",
              "      border-right-color: var(--fill-color);\n",
              "    }\n",
              "    80% {\n",
              "      border-color: transparent;\n",
              "      border-right-color: var(--fill-color);\n",
              "      border-bottom-color: var(--fill-color);\n",
              "    }\n",
              "    90% {\n",
              "      border-color: transparent;\n",
              "      border-bottom-color: var(--fill-color);\n",
              "    }\n",
              "  }\n",
              "</style>\n",
              "\n",
              "  <script>\n",
              "    async function quickchart(key) {\n",
              "      const quickchartButtonEl =\n",
              "        document.querySelector('#' + key + ' button');\n",
              "      quickchartButtonEl.disabled = true;  // To prevent multiple clicks.\n",
              "      quickchartButtonEl.classList.add('colab-df-spinner');\n",
              "      try {\n",
              "        const charts = await google.colab.kernel.invokeFunction(\n",
              "            'suggestCharts', [key], {});\n",
              "      } catch (error) {\n",
              "        console.error('Error during call to suggestCharts:', error);\n",
              "      }\n",
              "      quickchartButtonEl.classList.remove('colab-df-spinner');\n",
              "      quickchartButtonEl.classList.add('colab-df-quickchart-complete');\n",
              "    }\n",
              "    (() => {\n",
              "      let quickchartButtonEl =\n",
              "        document.querySelector('#df-00a2fb56-f817-4e52-b609-a0e1ad76e7c9 button');\n",
              "      quickchartButtonEl.style.display =\n",
              "        google.colab.kernel.accessAllowed ? 'block' : 'none';\n",
              "    })();\n",
              "  </script>\n",
              "</div>\n",
              "\n",
              "  <div id=\"id_8086fc51-c385-4290-94d8-fe47b37e693f\">\n",
              "    <style>\n",
              "      .colab-df-generate {\n",
              "        background-color: #E8F0FE;\n",
              "        border: none;\n",
              "        border-radius: 50%;\n",
              "        cursor: pointer;\n",
              "        display: none;\n",
              "        fill: #1967D2;\n",
              "        height: 32px;\n",
              "        padding: 0 0 0 0;\n",
              "        width: 32px;\n",
              "      }\n",
              "\n",
              "      .colab-df-generate:hover {\n",
              "        background-color: #E2EBFA;\n",
              "        box-shadow: 0px 1px 2px rgba(60, 64, 67, 0.3), 0px 1px 3px 1px rgba(60, 64, 67, 0.15);\n",
              "        fill: #174EA6;\n",
              "      }\n",
              "\n",
              "      [theme=dark] .colab-df-generate {\n",
              "        background-color: #3B4455;\n",
              "        fill: #D2E3FC;\n",
              "      }\n",
              "\n",
              "      [theme=dark] .colab-df-generate:hover {\n",
              "        background-color: #434B5C;\n",
              "        box-shadow: 0px 1px 3px 1px rgba(0, 0, 0, 0.15);\n",
              "        filter: drop-shadow(0px 1px 2px rgba(0, 0, 0, 0.3));\n",
              "        fill: #FFFFFF;\n",
              "      }\n",
              "    </style>\n",
              "    <button class=\"colab-df-generate\" onclick=\"generateWithVariable('dataset')\"\n",
              "            title=\"Generate code using this dataframe.\"\n",
              "            style=\"display:none;\">\n",
              "\n",
              "  <svg xmlns=\"http://www.w3.org/2000/svg\" height=\"24px\"viewBox=\"0 0 24 24\"\n",
              "       width=\"24px\">\n",
              "    <path d=\"M7,19H8.4L18.45,9,17,7.55,7,17.6ZM5,21V16.75L18.45,3.32a2,2,0,0,1,2.83,0l1.4,1.43a1.91,1.91,0,0,1,.58,1.4,1.91,1.91,0,0,1-.58,1.4L9.25,21ZM18.45,9,17,7.55Zm-12,3A5.31,5.31,0,0,0,4.9,8.1,5.31,5.31,0,0,0,1,6.5,5.31,5.31,0,0,0,4.9,4.9,5.31,5.31,0,0,0,6.5,1,5.31,5.31,0,0,0,8.1,4.9,5.31,5.31,0,0,0,12,6.5,5.46,5.46,0,0,0,6.5,12Z\"/>\n",
              "  </svg>\n",
              "    </button>\n",
              "    <script>\n",
              "      (() => {\n",
              "      const buttonEl =\n",
              "        document.querySelector('#id_8086fc51-c385-4290-94d8-fe47b37e693f button.colab-df-generate');\n",
              "      buttonEl.style.display =\n",
              "        google.colab.kernel.accessAllowed ? 'block' : 'none';\n",
              "\n",
              "      buttonEl.onclick = () => {\n",
              "        google.colab.notebook.generateWithVariable('dataset');\n",
              "      }\n",
              "      })();\n",
              "    </script>\n",
              "  </div>\n",
              "\n",
              "    </div>\n",
              "  </div>\n"
            ],
            "application/vnd.google.colaboratory.intrinsic+json": {
              "type": "dataframe",
              "variable_name": "dataset",
              "summary": "{\n  \"name\": \"dataset\",\n  \"rows\": 33451,\n  \"fields\": [\n    {\n      \"column\": \"Summary_Stemmed\",\n      \"properties\": {\n        \"dtype\": \"string\",\n        \"num_unique_values\": 33443,\n        \"samples\": [\n          \"['audio', 'clickpop', 'everi', '10', 'second', 'play', 'back', 'upload', 'youtub', 'video']\",\n          \"['cursor', 'visibl', 'secur', 'field', 'dialog']\",\n          \"['beltinofreon', 'canari', 'releas', 'branch', 'builder', 'fail', 'build', 'chrome']\"\n        ],\n        \"semantic_type\": \"\",\n        \"description\": \"\"\n      }\n    },\n    {\n      \"column\": \"processed_summary\",\n      \"properties\": {\n        \"dtype\": \"string\",\n        \"num_unique_values\": 33443,\n        \"samples\": [\n          \"audio clickpop everi 10 second play back upload youtub video\",\n          \"cursor visibl secur field dialog\",\n          \"beltinofreon canari releas branch builder fail build chrome\"\n        ],\n        \"semantic_type\": \"\",\n        \"description\": \"\"\n      }\n    },\n    {\n      \"column\": \"Assignee\",\n      \"properties\": {\n        \"dtype\": \"category\",\n        \"num_unique_values\": 1125,\n        \"samples\": [\n          \"nilesh.k...@synerzip.com\",\n          \"joshualitt@chromium.org\",\n          \"spang@chromium.org\"\n        ],\n        \"semantic_type\": \"\",\n        \"description\": \"\"\n      }\n    }\n  ]\n}"
            }
          },
          "metadata": {},
          "execution_count": 4
        }
      ],
      "source": [
        "# Display the DataFrame 'dataset'\n",
        "# This will print the first and last 5 rows of the DataFrame along with the column names and index\n",
        "# Useful for a quick overview of the data after processing\n",
        "dataset"
      ]
    },
    {
      "cell_type": "code",
      "source": [
        "def leave_out_bugs(df, leave_out_ratio=0.2):\n",
        "    train_dfs = []\n",
        "    test_dfs = []\n",
        "    for _, group in df.groupby('Assignee'):\n",
        "        train_group, test_group = train_test_split(group, test_size=leave_out_ratio, random_state=42)\n",
        "        train_dfs.append(train_group)\n",
        "        test_dfs.append(test_group)\n",
        "    return pd.concat(train_dfs), pd.concat(test_dfs)\n",
        "\n",
        "# Split the data\n",
        "train_df, test_df = leave_out_bugs(dataset, leave_out_ratio=0.2)"
      ],
      "metadata": {
        "id": "uvKdWrD-PFv4"
      },
      "execution_count": 5,
      "outputs": []
    },
    {
      "cell_type": "code",
      "source": [
        "# Extract features and labels\n",
        "X_train = train_df['processed_summary']\n",
        "y_train = train_df['Assignee']\n",
        "X_test = test_df['processed_summary']\n",
        "y_test = test_df['Assignee']"
      ],
      "metadata": {
        "id": "iIyaZgZKPURD"
      },
      "execution_count": 6,
      "outputs": []
    },
    {
      "cell_type": "code",
      "source": [
        "from sklearn.feature_extraction.text import TfidfVectorizer\n",
        "from sklearn.cluster import KMeans\n",
        "\n",
        "# Initialize the TF-IDF vectorizer with n-gram range (1, 2)\n",
        "tfidf_vectorizer = TfidfVectorizer(ngram_range=(1, 2))\n",
        "\n",
        "# Fit and transform the training data\n",
        "X_train_tfidf = tfidf_vectorizer.fit_transform(X_train)\n",
        "\n",
        "# Step 2: Clustering bugs\n",
        "num_clusters = 200  # Adjust as needed\n",
        "kmeans = KMeans(n_clusters=num_clusters, random_state=42)\n",
        "kmeans.fit(X_train_tfidf)\n",
        "\n",
        "cluster_labels_train = kmeans.predict(X_train_tfidf)"
      ],
      "metadata": {
        "id": "JWVUwhE2Pdnb",
        "colab": {
          "base_uri": "https://localhost:8080/"
        },
        "outputId": "e27d6f93-90b6-40a2-dc03-b4dc403ff05f"
      },
      "execution_count": 43,
      "outputs": [
        {
          "output_type": "stream",
          "name": "stderr",
          "text": [
            "/usr/local/lib/python3.10/dist-packages/sklearn/cluster/_kmeans.py:870: FutureWarning: The default value of `n_init` will change from 10 to 'auto' in 1.4. Set the value of `n_init` explicitly to suppress the warning\n",
            "  warnings.warn(\n"
          ]
        }
      ]
    },
    {
      "cell_type": "code",
      "source": [
        "# Transform the left-out (test) data\n",
        "X_test_tfidf = tfidf_vectorizer.transform(X_test)"
      ],
      "metadata": {
        "id": "B8BJRaXVPiBZ"
      },
      "execution_count": 27,
      "outputs": []
    },
    {
      "cell_type": "code",
      "source": [
        "# Predict clusters for the left-out bugs\n",
        "cluster_labels_test = kmeans.predict(X_test_tfidf)"
      ],
      "metadata": {
        "id": "aQ5rhQi6Rtq_"
      },
      "execution_count": 44,
      "outputs": []
    },
    {
      "cell_type": "code",
      "source": [
        "from collections import defaultdict\n",
        "\n",
        "# Create a mapping from cluster labels to developers based on the training data\n",
        "cluster_to_developers = defaultdict(list)\n",
        "for cluster_label, developer in zip(cluster_labels_train, y_train):\n",
        "    cluster_to_developers[cluster_label].append(developer)\n",
        "\n",
        "# Determine the majority developer in each cluster\n",
        "majority_developer_in_cluster = {}\n",
        "for cluster_label, developers in cluster_to_developers.items():\n",
        "    majority_developer_in_cluster[cluster_label] = max(set(developers), key=developers.count)\n",
        "\n",
        "# Verify the left-out bugs\n",
        "correct_assignments = 0\n",
        "total_assignments = len(cluster_labels_test)\n",
        "\n",
        "for cluster_label, developer in zip(cluster_labels_test, y_test):\n",
        "    if developer == majority_developer_in_cluster.get(cluster_label):\n",
        "        correct_assignments += 1\n",
        "\n",
        "accuracy = correct_assignments / total_assignments\n",
        "\n",
        "print(f\"Accuracy of assigning left-out bugs: {accuracy:.2f}\")"
      ],
      "metadata": {
        "id": "69U8oOuJQH8Q",
        "colab": {
          "base_uri": "https://localhost:8080/"
        },
        "outputId": "32bb0296-2224-4def-b85d-d54a8de48d2f"
      },
      "execution_count": 40,
      "outputs": [
        {
          "output_type": "stream",
          "name": "stdout",
          "text": [
            "Accuracy of assigning left-out bugs: 0.05\n"
          ]
        }
      ]
    },
    {
      "cell_type": "code",
      "source": [
        "from collections import defaultdict\n",
        "\n",
        "# Create a mapping from developers to their cluster assignments\n",
        "developer_to_clusters = defaultdict(list)\n",
        "for developer, cluster_label in zip(y_train, cluster_labels_train):\n",
        "    developer_to_clusters[developer].append(cluster_label)\n",
        "\n",
        "# Determine the majority cluster for each developer\n",
        "majority_cluster_for_developer = {}\n",
        "for developer, clusters in developer_to_clusters.items():\n",
        "    majority_cluster_for_developer[developer] = max(set(clusters), key=clusters.count)\n",
        "\n",
        "# Verify the left-out bugs\n",
        "correct_assignments = 0\n",
        "total_assignments = len(cluster_labels_test)\n",
        "\n",
        "for cluster_label, developer in zip(cluster_labels_test, y_test):\n",
        "    if developer in majority_cluster_for_developer and cluster_label == majority_cluster_for_developer[developer]:\n",
        "        correct_assignments += 1\n",
        "\n",
        "accuracy = correct_assignments / total_assignments\n",
        "\n",
        "print(f\"Accuracy of assigning left-out bugs: {accuracy:.2f}\")"
      ],
      "metadata": {
        "id": "DMkq-o1SQqTn",
        "colab": {
          "base_uri": "https://localhost:8080/"
        },
        "outputId": "5fe9ef3d-01fb-4121-b10f-9cedf9002b88"
      },
      "execution_count": 41,
      "outputs": [
        {
          "output_type": "stream",
          "name": "stdout",
          "text": [
            "Accuracy of assigning left-out bugs: 0.22\n"
          ]
        }
      ]
    },
    {
      "cell_type": "code",
      "source": [
        "from sklearn.cluster import KMeans\n",
        "from sklearn.metrics import adjusted_rand_score, normalized_mutual_info_score, homogeneity_score, completeness_score, v_measure_score"
      ],
      "metadata": {
        "id": "hBcC7oPdh9mF"
      },
      "execution_count": 24,
      "outputs": []
    },
    {
      "cell_type": "code",
      "source": [
        "# Extract true labels from the training and validation data\n",
        "true_labels_train = train_df['Assignee'].values\n",
        "true_labels_val = test_df['Assignee'].values\n",
        "\n",
        "# Evaluation metrics for the training set\n",
        "ari_train = adjusted_rand_score(true_labels_train, cluster_labels_train)\n",
        "nmi_train = normalized_mutual_info_score(true_labels_train, cluster_labels_train)\n",
        "homogeneity_train = homogeneity_score(true_labels_train, cluster_labels_train)\n",
        "completeness_train = completeness_score(true_labels_train, cluster_labels_train)\n",
        "v_measure_train = v_measure_score(true_labels_train, cluster_labels_train)\n",
        "\n",
        "print(f\"Training set evaluation:\")\n",
        "print(f\"Adjusted Rand Index: {ari_train}\")\n",
        "print(f\"Normalized Mutual Information: {nmi_train}\")\n",
        "print(f\"Homogeneity: {homogeneity_train}\")\n",
        "print(f\"Completeness: {completeness_train}\")\n",
        "print(f\"V-measure: {v_measure_train}\")\n",
        "\n",
        "# Evaluation metrics for the validation set\n",
        "ari_val = adjusted_rand_score(true_labels_val, cluster_labels_test)\n",
        "nmi_val = normalized_mutual_info_score(true_labels_val, cluster_labels_test)\n",
        "homogeneity_val = homogeneity_score(true_labels_val, cluster_labels_test)\n",
        "completeness_val = completeness_score(true_labels_val, cluster_labels_test)\n",
        "v_measure_val = v_measure_score(true_labels_val, cluster_labels_test)\n",
        "\n",
        "print(f\"Validation set evaluation:\")\n",
        "print(f\"Adjusted Rand Index: {ari_val}\")\n",
        "print(f\"Normalized Mutual Information: {nmi_val}\")\n",
        "print(f\"Homogeneity: {homogeneity_val}\")\n",
        "print(f\"Completeness: {completeness_val}\")\n",
        "print(f\"V-measure: {v_measure_val}\")"
      ],
      "metadata": {
        "colab": {
          "base_uri": "https://localhost:8080/"
        },
        "id": "l_0u0m5uhzDR",
        "outputId": "b5c0db88-39b4-427b-f5f3-d7df73590686"
      },
      "execution_count": 45,
      "outputs": [
        {
          "output_type": "stream",
          "name": "stdout",
          "text": [
            "Training set evaluation:\n",
            "Adjusted Rand Index: 0.01085768696902282\n",
            "Normalized Mutual Information: 0.38075345293706814\n",
            "Homogeneity: 0.3352502440076427\n",
            "Completeness: 0.4405487288918974\n",
            "V-measure: 0.38075345293706825\n",
            "Validation set evaluation:\n",
            "Adjusted Rand Index: 0.01036117981469603\n",
            "Normalized Mutual Information: 0.5181144162419392\n",
            "Homogeneity: 0.45274150313976985\n",
            "Completeness: 0.6055521940614514\n",
            "V-measure: 0.5181144162419391\n"
          ]
        }
      ]
    },
    {
      "cell_type": "markdown",
      "metadata": {
        "id": "DKXnH87j8Hmb"
      },
      "source": [
        "**Encode the labels**\n",
        "\n"
      ]
    },
    {
      "cell_type": "code",
      "execution_count": null,
      "metadata": {
        "id": "s_m3q3r18K1V"
      },
      "outputs": [],
      "source": [
        "# Initialize the LabelEncoder\n",
        "label_encoder = LabelEncoder()\n",
        "\n",
        "# Fit the LabelEncoder to the 'Assignee' column and transform it to numeric labels\n",
        "# This step converts categorical labels in the 'Assignee' column to numeric labels,\n",
        "# which is necessary for training machine learning models.\n",
        "dataset['Assignee_Class'] = label_encoder.fit_transform(dataset['Assignee'])\n",
        "\n",
        "# The LabelEncoder in scikit-learn assigns numeric labels to the unique categories in alphabetical order\n",
        "# (or lexicographical order for strings).\n",
        "# This means that the first unique category in alphabetical order is labeled as 0, the second as 1, and so on."
      ]
    },
    {
      "cell_type": "code",
      "execution_count": null,
      "metadata": {
        "colab": {
          "base_uri": "https://localhost:8080/",
          "height": 423
        },
        "id": "71-lnHG58VQN",
        "outputId": "973aea41-667b-4e66-8c35-4d4bc7bf386b"
      },
      "outputs": [
        {
          "data": {
            "application/vnd.google.colaboratory.intrinsic+json": {
              "type": "dataframe",
              "variable_name": "dataset"
            },
            "text/html": [
              "\n",
              "  <div id=\"df-765f259e-ef45-4a47-9981-413b76f4a97d\" class=\"colab-df-container\">\n",
              "    <div>\n",
              "<style scoped>\n",
              "    .dataframe tbody tr th:only-of-type {\n",
              "        vertical-align: middle;\n",
              "    }\n",
              "\n",
              "    .dataframe tbody tr th {\n",
              "        vertical-align: top;\n",
              "    }\n",
              "\n",
              "    .dataframe thead th {\n",
              "        text-align: right;\n",
              "    }\n",
              "</style>\n",
              "<table border=\"1\" class=\"dataframe\">\n",
              "  <thead>\n",
              "    <tr style=\"text-align: right;\">\n",
              "      <th></th>\n",
              "      <th>Summary_Stemmed</th>\n",
              "      <th>processed_summary</th>\n",
              "      <th>Assignee</th>\n",
              "      <th>Assignee_Class</th>\n",
              "    </tr>\n",
              "  </thead>\n",
              "  <tbody>\n",
              "    <tr>\n",
              "      <th>0</th>\n",
              "      <td>['scroll', 'scroll', 'mice', 'touchpad', 'etc'...</td>\n",
              "      <td>scroll scroll mice touchpad etc scroll</td>\n",
              "      <td>amit@chromium.org</td>\n",
              "      <td>124</td>\n",
              "    </tr>\n",
              "    <tr>\n",
              "      <th>1</th>\n",
              "      <td>['add', 'check', 'item', 'download', 'panel', ...</td>\n",
              "      <td>add check item download panel browser test</td>\n",
              "      <td>achuith@chromium.org</td>\n",
              "      <td>52</td>\n",
              "    </tr>\n",
              "    <tr>\n",
              "      <th>2</th>\n",
              "      <td>['useafterfre', 'navig', 'document', 'form', '...</td>\n",
              "      <td>useafterfre navig document form valid messag s...</td>\n",
              "      <td>tkent@chromium.org</td>\n",
              "      <td>2118</td>\n",
              "    </tr>\n",
              "    <tr>\n",
              "      <th>3</th>\n",
              "      <td>['add', 'address', 'properli', 'autofil', 'opt...</td>\n",
              "      <td>add address properli autofil option dialog box</td>\n",
              "      <td>sky@chromium.org</td>\n",
              "      <td>1972</td>\n",
              "    </tr>\n",
              "    <tr>\n",
              "      <th>4</th>\n",
              "      <td>['libxmlgyp', 'defin', 'libxmlstat', 'direct',...</td>\n",
              "      <td>libxmlgyp defin libxmlstat direct depend</td>\n",
              "      <td>wtc@chromium.org</td>\n",
              "      <td>2282</td>\n",
              "    </tr>\n",
              "    <tr>\n",
              "      <th>...</th>\n",
              "      <td>...</td>\n",
              "      <td>...</td>\n",
              "      <td>...</td>\n",
              "      <td>...</td>\n",
              "    </tr>\n",
              "    <tr>\n",
              "      <th>117376</th>\n",
              "      <td>['updat', 'gleanj', 'dashboard', 'ignor', 'gle...</td>\n",
              "      <td>updat gleanj dashboard ignor glean sdk data vpn</td>\n",
              "      <td>brosa</td>\n",
              "      <td>278</td>\n",
              "    </tr>\n",
              "    <tr>\n",
              "      <th>117377</th>\n",
              "      <td>['autocomplet', 'type', 'valid', 'valu', 'pass...</td>\n",
              "      <td>autocomplet type valid valu pass record</td>\n",
              "      <td>brosa</td>\n",
              "      <td>278</td>\n",
              "    </tr>\n",
              "    <tr>\n",
              "      <th>117378</th>\n",
              "      <td>['intermitt', 'slow', 'see', 'ping', 'show', '...</td>\n",
              "      <td>intermitt slow see ping show debug ping viewer</td>\n",
              "      <td>brosa</td>\n",
              "      <td>278</td>\n",
              "    </tr>\n",
              "    <tr>\n",
              "      <th>117379</th>\n",
              "      <td>['investig', 'string', 'metric', 'type', 'adeq...</td>\n",
              "      <td>investig string metric type adequ captur gfxad...</td>\n",
              "      <td>pmcmanis</td>\n",
              "      <td>1685</td>\n",
              "    </tr>\n",
              "    <tr>\n",
              "      <th>117380</th>\n",
              "      <td>['remov', 'manual', 'page', 'load', 'event', '...</td>\n",
              "      <td>remov manual page load event glean debug ping ...</td>\n",
              "      <td>brosa</td>\n",
              "      <td>278</td>\n",
              "    </tr>\n",
              "  </tbody>\n",
              "</table>\n",
              "<p>117381 rows × 4 columns</p>\n",
              "</div>\n",
              "    <div class=\"colab-df-buttons\">\n",
              "\n",
              "  <div class=\"colab-df-container\">\n",
              "    <button class=\"colab-df-convert\" onclick=\"convertToInteractive('df-765f259e-ef45-4a47-9981-413b76f4a97d')\"\n",
              "            title=\"Convert this dataframe to an interactive table.\"\n",
              "            style=\"display:none;\">\n",
              "\n",
              "  <svg xmlns=\"http://www.w3.org/2000/svg\" height=\"24px\" viewBox=\"0 -960 960 960\">\n",
              "    <path d=\"M120-120v-720h720v720H120Zm60-500h600v-160H180v160Zm220 220h160v-160H400v160Zm0 220h160v-160H400v160ZM180-400h160v-160H180v160Zm440 0h160v-160H620v160ZM180-180h160v-160H180v160Zm440 0h160v-160H620v160Z\"/>\n",
              "  </svg>\n",
              "    </button>\n",
              "\n",
              "  <style>\n",
              "    .colab-df-container {\n",
              "      display:flex;\n",
              "      gap: 12px;\n",
              "    }\n",
              "\n",
              "    .colab-df-convert {\n",
              "      background-color: #E8F0FE;\n",
              "      border: none;\n",
              "      border-radius: 50%;\n",
              "      cursor: pointer;\n",
              "      display: none;\n",
              "      fill: #1967D2;\n",
              "      height: 32px;\n",
              "      padding: 0 0 0 0;\n",
              "      width: 32px;\n",
              "    }\n",
              "\n",
              "    .colab-df-convert:hover {\n",
              "      background-color: #E2EBFA;\n",
              "      box-shadow: 0px 1px 2px rgba(60, 64, 67, 0.3), 0px 1px 3px 1px rgba(60, 64, 67, 0.15);\n",
              "      fill: #174EA6;\n",
              "    }\n",
              "\n",
              "    .colab-df-buttons div {\n",
              "      margin-bottom: 4px;\n",
              "    }\n",
              "\n",
              "    [theme=dark] .colab-df-convert {\n",
              "      background-color: #3B4455;\n",
              "      fill: #D2E3FC;\n",
              "    }\n",
              "\n",
              "    [theme=dark] .colab-df-convert:hover {\n",
              "      background-color: #434B5C;\n",
              "      box-shadow: 0px 1px 3px 1px rgba(0, 0, 0, 0.15);\n",
              "      filter: drop-shadow(0px 1px 2px rgba(0, 0, 0, 0.3));\n",
              "      fill: #FFFFFF;\n",
              "    }\n",
              "  </style>\n",
              "\n",
              "    <script>\n",
              "      const buttonEl =\n",
              "        document.querySelector('#df-765f259e-ef45-4a47-9981-413b76f4a97d button.colab-df-convert');\n",
              "      buttonEl.style.display =\n",
              "        google.colab.kernel.accessAllowed ? 'block' : 'none';\n",
              "\n",
              "      async function convertToInteractive(key) {\n",
              "        const element = document.querySelector('#df-765f259e-ef45-4a47-9981-413b76f4a97d');\n",
              "        const dataTable =\n",
              "          await google.colab.kernel.invokeFunction('convertToInteractive',\n",
              "                                                    [key], {});\n",
              "        if (!dataTable) return;\n",
              "\n",
              "        const docLinkHtml = 'Like what you see? Visit the ' +\n",
              "          '<a target=\"_blank\" href=https://colab.research.google.com/notebooks/data_table.ipynb>data table notebook</a>'\n",
              "          + ' to learn more about interactive tables.';\n",
              "        element.innerHTML = '';\n",
              "        dataTable['output_type'] = 'display_data';\n",
              "        await google.colab.output.renderOutput(dataTable, element);\n",
              "        const docLink = document.createElement('div');\n",
              "        docLink.innerHTML = docLinkHtml;\n",
              "        element.appendChild(docLink);\n",
              "      }\n",
              "    </script>\n",
              "  </div>\n",
              "\n",
              "\n",
              "<div id=\"df-0e995bc2-47f4-4bc6-8762-e801207b85a6\">\n",
              "  <button class=\"colab-df-quickchart\" onclick=\"quickchart('df-0e995bc2-47f4-4bc6-8762-e801207b85a6')\"\n",
              "            title=\"Suggest charts\"\n",
              "            style=\"display:none;\">\n",
              "\n",
              "<svg xmlns=\"http://www.w3.org/2000/svg\" height=\"24px\"viewBox=\"0 0 24 24\"\n",
              "     width=\"24px\">\n",
              "    <g>\n",
              "        <path d=\"M19 3H5c-1.1 0-2 .9-2 2v14c0 1.1.9 2 2 2h14c1.1 0 2-.9 2-2V5c0-1.1-.9-2-2-2zM9 17H7v-7h2v7zm4 0h-2V7h2v10zm4 0h-2v-4h2v4z\"/>\n",
              "    </g>\n",
              "</svg>\n",
              "  </button>\n",
              "\n",
              "<style>\n",
              "  .colab-df-quickchart {\n",
              "      --bg-color: #E8F0FE;\n",
              "      --fill-color: #1967D2;\n",
              "      --hover-bg-color: #E2EBFA;\n",
              "      --hover-fill-color: #174EA6;\n",
              "      --disabled-fill-color: #AAA;\n",
              "      --disabled-bg-color: #DDD;\n",
              "  }\n",
              "\n",
              "  [theme=dark] .colab-df-quickchart {\n",
              "      --bg-color: #3B4455;\n",
              "      --fill-color: #D2E3FC;\n",
              "      --hover-bg-color: #434B5C;\n",
              "      --hover-fill-color: #FFFFFF;\n",
              "      --disabled-bg-color: #3B4455;\n",
              "      --disabled-fill-color: #666;\n",
              "  }\n",
              "\n",
              "  .colab-df-quickchart {\n",
              "    background-color: var(--bg-color);\n",
              "    border: none;\n",
              "    border-radius: 50%;\n",
              "    cursor: pointer;\n",
              "    display: none;\n",
              "    fill: var(--fill-color);\n",
              "    height: 32px;\n",
              "    padding: 0;\n",
              "    width: 32px;\n",
              "  }\n",
              "\n",
              "  .colab-df-quickchart:hover {\n",
              "    background-color: var(--hover-bg-color);\n",
              "    box-shadow: 0 1px 2px rgba(60, 64, 67, 0.3), 0 1px 3px 1px rgba(60, 64, 67, 0.15);\n",
              "    fill: var(--button-hover-fill-color);\n",
              "  }\n",
              "\n",
              "  .colab-df-quickchart-complete:disabled,\n",
              "  .colab-df-quickchart-complete:disabled:hover {\n",
              "    background-color: var(--disabled-bg-color);\n",
              "    fill: var(--disabled-fill-color);\n",
              "    box-shadow: none;\n",
              "  }\n",
              "\n",
              "  .colab-df-spinner {\n",
              "    border: 2px solid var(--fill-color);\n",
              "    border-color: transparent;\n",
              "    border-bottom-color: var(--fill-color);\n",
              "    animation:\n",
              "      spin 1s steps(1) infinite;\n",
              "  }\n",
              "\n",
              "  @keyframes spin {\n",
              "    0% {\n",
              "      border-color: transparent;\n",
              "      border-bottom-color: var(--fill-color);\n",
              "      border-left-color: var(--fill-color);\n",
              "    }\n",
              "    20% {\n",
              "      border-color: transparent;\n",
              "      border-left-color: var(--fill-color);\n",
              "      border-top-color: var(--fill-color);\n",
              "    }\n",
              "    30% {\n",
              "      border-color: transparent;\n",
              "      border-left-color: var(--fill-color);\n",
              "      border-top-color: var(--fill-color);\n",
              "      border-right-color: var(--fill-color);\n",
              "    }\n",
              "    40% {\n",
              "      border-color: transparent;\n",
              "      border-right-color: var(--fill-color);\n",
              "      border-top-color: var(--fill-color);\n",
              "    }\n",
              "    60% {\n",
              "      border-color: transparent;\n",
              "      border-right-color: var(--fill-color);\n",
              "    }\n",
              "    80% {\n",
              "      border-color: transparent;\n",
              "      border-right-color: var(--fill-color);\n",
              "      border-bottom-color: var(--fill-color);\n",
              "    }\n",
              "    90% {\n",
              "      border-color: transparent;\n",
              "      border-bottom-color: var(--fill-color);\n",
              "    }\n",
              "  }\n",
              "</style>\n",
              "\n",
              "  <script>\n",
              "    async function quickchart(key) {\n",
              "      const quickchartButtonEl =\n",
              "        document.querySelector('#' + key + ' button');\n",
              "      quickchartButtonEl.disabled = true;  // To prevent multiple clicks.\n",
              "      quickchartButtonEl.classList.add('colab-df-spinner');\n",
              "      try {\n",
              "        const charts = await google.colab.kernel.invokeFunction(\n",
              "            'suggestCharts', [key], {});\n",
              "      } catch (error) {\n",
              "        console.error('Error during call to suggestCharts:', error);\n",
              "      }\n",
              "      quickchartButtonEl.classList.remove('colab-df-spinner');\n",
              "      quickchartButtonEl.classList.add('colab-df-quickchart-complete');\n",
              "    }\n",
              "    (() => {\n",
              "      let quickchartButtonEl =\n",
              "        document.querySelector('#df-0e995bc2-47f4-4bc6-8762-e801207b85a6 button');\n",
              "      quickchartButtonEl.style.display =\n",
              "        google.colab.kernel.accessAllowed ? 'block' : 'none';\n",
              "    })();\n",
              "  </script>\n",
              "</div>\n",
              "\n",
              "  <div id=\"id_b6c74fb3-20c3-4d61-9d07-bf53d6315119\">\n",
              "    <style>\n",
              "      .colab-df-generate {\n",
              "        background-color: #E8F0FE;\n",
              "        border: none;\n",
              "        border-radius: 50%;\n",
              "        cursor: pointer;\n",
              "        display: none;\n",
              "        fill: #1967D2;\n",
              "        height: 32px;\n",
              "        padding: 0 0 0 0;\n",
              "        width: 32px;\n",
              "      }\n",
              "\n",
              "      .colab-df-generate:hover {\n",
              "        background-color: #E2EBFA;\n",
              "        box-shadow: 0px 1px 2px rgba(60, 64, 67, 0.3), 0px 1px 3px 1px rgba(60, 64, 67, 0.15);\n",
              "        fill: #174EA6;\n",
              "      }\n",
              "\n",
              "      [theme=dark] .colab-df-generate {\n",
              "        background-color: #3B4455;\n",
              "        fill: #D2E3FC;\n",
              "      }\n",
              "\n",
              "      [theme=dark] .colab-df-generate:hover {\n",
              "        background-color: #434B5C;\n",
              "        box-shadow: 0px 1px 3px 1px rgba(0, 0, 0, 0.15);\n",
              "        filter: drop-shadow(0px 1px 2px rgba(0, 0, 0, 0.3));\n",
              "        fill: #FFFFFF;\n",
              "      }\n",
              "    </style>\n",
              "    <button class=\"colab-df-generate\" onclick=\"generateWithVariable('dataset')\"\n",
              "            title=\"Generate code using this dataframe.\"\n",
              "            style=\"display:none;\">\n",
              "\n",
              "  <svg xmlns=\"http://www.w3.org/2000/svg\" height=\"24px\"viewBox=\"0 0 24 24\"\n",
              "       width=\"24px\">\n",
              "    <path d=\"M7,19H8.4L18.45,9,17,7.55,7,17.6ZM5,21V16.75L18.45,3.32a2,2,0,0,1,2.83,0l1.4,1.43a1.91,1.91,0,0,1,.58,1.4,1.91,1.91,0,0,1-.58,1.4L9.25,21ZM18.45,9,17,7.55Zm-12,3A5.31,5.31,0,0,0,4.9,8.1,5.31,5.31,0,0,0,1,6.5,5.31,5.31,0,0,0,4.9,4.9,5.31,5.31,0,0,0,6.5,1,5.31,5.31,0,0,0,8.1,4.9,5.31,5.31,0,0,0,12,6.5,5.46,5.46,0,0,0,6.5,12Z\"/>\n",
              "  </svg>\n",
              "    </button>\n",
              "    <script>\n",
              "      (() => {\n",
              "      const buttonEl =\n",
              "        document.querySelector('#id_b6c74fb3-20c3-4d61-9d07-bf53d6315119 button.colab-df-generate');\n",
              "      buttonEl.style.display =\n",
              "        google.colab.kernel.accessAllowed ? 'block' : 'none';\n",
              "\n",
              "      buttonEl.onclick = () => {\n",
              "        google.colab.notebook.generateWithVariable('dataset');\n",
              "      }\n",
              "      })();\n",
              "    </script>\n",
              "  </div>\n",
              "\n",
              "    </div>\n",
              "  </div>\n"
            ],
            "text/plain": [
              "                                          Summary_Stemmed  \\\n",
              "0       ['scroll', 'scroll', 'mice', 'touchpad', 'etc'...   \n",
              "1       ['add', 'check', 'item', 'download', 'panel', ...   \n",
              "2       ['useafterfre', 'navig', 'document', 'form', '...   \n",
              "3       ['add', 'address', 'properli', 'autofil', 'opt...   \n",
              "4       ['libxmlgyp', 'defin', 'libxmlstat', 'direct',...   \n",
              "...                                                   ...   \n",
              "117376  ['updat', 'gleanj', 'dashboard', 'ignor', 'gle...   \n",
              "117377  ['autocomplet', 'type', 'valid', 'valu', 'pass...   \n",
              "117378  ['intermitt', 'slow', 'see', 'ping', 'show', '...   \n",
              "117379  ['investig', 'string', 'metric', 'type', 'adeq...   \n",
              "117380  ['remov', 'manual', 'page', 'load', 'event', '...   \n",
              "\n",
              "                                        processed_summary  \\\n",
              "0                  scroll scroll mice touchpad etc scroll   \n",
              "1              add check item download panel browser test   \n",
              "2       useafterfre navig document form valid messag s...   \n",
              "3          add address properli autofil option dialog box   \n",
              "4                libxmlgyp defin libxmlstat direct depend   \n",
              "...                                                   ...   \n",
              "117376    updat gleanj dashboard ignor glean sdk data vpn   \n",
              "117377            autocomplet type valid valu pass record   \n",
              "117378     intermitt slow see ping show debug ping viewer   \n",
              "117379  investig string metric type adequ captur gfxad...   \n",
              "117380  remov manual page load event glean debug ping ...   \n",
              "\n",
              "                    Assignee  Assignee_Class  \n",
              "0          amit@chromium.org             124  \n",
              "1       achuith@chromium.org              52  \n",
              "2         tkent@chromium.org            2118  \n",
              "3           sky@chromium.org            1972  \n",
              "4           wtc@chromium.org            2282  \n",
              "...                      ...             ...  \n",
              "117376                 brosa             278  \n",
              "117377                 brosa             278  \n",
              "117378                 brosa             278  \n",
              "117379              pmcmanis            1685  \n",
              "117380                 brosa             278  \n",
              "\n",
              "[117381 rows x 4 columns]"
            ]
          },
          "execution_count": 7,
          "metadata": {},
          "output_type": "execute_result"
        }
      ],
      "source": [
        "# Display the DataFrame 'dataset'\n",
        "# This will print the first and last 5 rows of the DataFrame along with the column names and index\n",
        "# Useful for a quick overview of the data after labeling\n",
        "dataset"
      ]
    },
    {
      "cell_type": "code",
      "execution_count": null,
      "metadata": {
        "colab": {
          "base_uri": "https://localhost:8080/"
        },
        "id": "AFY1Micb98uu",
        "outputId": "0529c8f9-d88f-409d-88eb-78a766046d68"
      },
      "outputs": [
        {
          "data": {
            "text/plain": [
              "Summary_Stemmed      117103\n",
              "processed_summary    117103\n",
              "Assignee               2370\n",
              "Assignee_Class         2370\n",
              "dtype: int64"
            ]
          },
          "execution_count": 60,
          "metadata": {},
          "output_type": "execute_result"
        }
      ],
      "source": [
        "# Display the number of unique values in each column of the dataset\n",
        "dataset.nunique()"
      ]
    },
    {
      "cell_type": "code",
      "execution_count": null,
      "metadata": {
        "colab": {
          "base_uri": "https://localhost:8080/"
        },
        "id": "9OkGo3er2ikC",
        "outputId": "4e166c39-c9d0-4470-f31d-33b9e0390aae"
      },
      "outputs": [
        {
          "name": "stdout",
          "output_type": "stream",
          "text": [
            "(117381, 4)\n",
            "Assignee_Class\n",
            "1014    2478\n",
            "1408    2412\n",
            "1009    1467\n",
            "1643    1377\n",
            "1013    1162\n",
            "        ... \n",
            "1704       5\n",
            "607        5\n",
            "899        5\n",
            "351        5\n",
            "947        5\n",
            "Name: count, Length: 2370, dtype: int64\n"
          ]
        }
      ],
      "source": [
        "# Print the shape of the dataset\n",
        "print(dataset.shape)\n",
        "# This line prints the shape of the dataset, which includes the number of rows and columns.\n",
        "# It helps to understand the dimensions of the dataset.\n",
        "\n",
        "# Print the class distribution of 'Assignee_Class'\n",
        "print(dataset['Assignee_Class'].value_counts())\n",
        "# This line prints the count of each unique value in the 'Assignee_Class' column.\n",
        "# It provides insight into the distribution of classes, which is useful for understanding class imbalance."
      ]
    },
    {
      "cell_type": "markdown",
      "metadata": {
        "id": "PwNRutinFUoq"
      },
      "source": [
        "**Split the dataset**"
      ]
    },
    {
      "cell_type": "code",
      "execution_count": null,
      "metadata": {
        "id": "xNWFW87T2r_-"
      },
      "outputs": [],
      "source": [
        "# Create the StratifiedShuffleSplit object\n",
        "sss = StratifiedShuffleSplit(n_splits=1, test_size=0.2, random_state=42)\n",
        "\n",
        "# This line creates a StratifiedShuffleSplit object with the following parameters:\n",
        "# - n_splits=1: Specifies that there will be only one split.\n",
        "# - test_size=0.2: Indicates that 20% of the dataset will be used as the test set.\n",
        "# - random_state=42: Ensures reproducibility by using a fixed seed for the random number generator.\n",
        "\n",
        "# Split the dataset into train and test sets\n",
        "train_idx, test_idx = next(sss.split(dataset, dataset['Assignee_Class']))\n",
        "\n",
        "# This line performs the split based on the 'Assignee_Class' column to ensure that the train and test sets\n",
        "# have a similar class distribution. 'sss.split' returns the indices of the train and test samples.\n",
        "\n",
        "# Create the training DataFrame\n",
        "train_df = dataset.iloc[train_idx].reset_index(drop=True)\n",
        "\n",
        "# This line creates a training DataFrame using the indices obtained from the split.\n",
        "# 'iloc' is used to select the rows corresponding to the train indices.\n",
        "# 'reset_index(drop=True)' resets the index of the training DataFrame.\n",
        "\n",
        "# Create the test DataFrame\n",
        "test_df = dataset.iloc[test_idx].reset_index(drop=True)\n",
        "\n",
        "# This line creates a test DataFrame using the indices obtained from the split.\n",
        "# 'iloc' is used to select the rows corresponding to the test indices.\n",
        "# 'reset_index(drop=True)' resets the index of the test DataFrame."
      ]
    },
    {
      "cell_type": "code",
      "execution_count": null,
      "metadata": {
        "id": "__r_SW452wQ3"
      },
      "outputs": [],
      "source": [
        "# Create another StratifiedShuffleSplit object for the train-validation split\n",
        "sss_val = StratifiedShuffleSplit(n_splits=1, test_size=0.2, random_state=42)\n",
        "\n",
        "# This line creates a new StratifiedShuffleSplit object specifically for splitting the initial training set\n",
        "# into train and validation sets with the following parameters:\n",
        "# - n_splits=1: Specifies that there will be only one split.\n",
        "# - test_size=0.2: Indicates that 20% of the training set will be used as the validation set.\n",
        "# - random_state=42: Ensures reproducibility by using a fixed seed for the random number generator.\n",
        "\n",
        "# Split the initial train set into train and validation sets\n",
        "for train_idx, val_idx in sss_val.split(train_df, train_df['Assignee_Class']):\n",
        "    final_train_df = train_df.iloc[train_idx].reset_index(drop=True)\n",
        "    val_df = train_df.iloc[val_idx].reset_index(drop=True)\n",
        "\n",
        "# This loop performs the split based on the 'Assignee_Class' column to ensure that the train and validation sets\n",
        "# have a similar class distribution. 'sss_val.split' returns the indices of the train and validation samples.\n",
        "\n",
        "# Create the final training DataFrame\n",
        "final_train_df = train_df.iloc[train_idx].reset_index(drop=True)\n",
        "\n",
        "# This line creates a final training DataFrame using the indices obtained from the split.\n",
        "# 'iloc' is used to select the rows corresponding to the train indices.\n",
        "# 'reset_index(drop=True)' resets the index of the final training DataFrame.\n",
        "\n",
        "# Create the validation DataFrame\n",
        "val_df = train_df.iloc[val_idx].reset_index(drop=True)\n",
        "\n",
        "# This line creates a validation DataFrame using the indices obtained from the split.\n",
        "# 'iloc' is used to select the rows corresponding to the validation indices.\n",
        "# 'reset_index(drop=True)' resets the index of the validation DataFrame."
      ]
    },
    {
      "cell_type": "code",
      "execution_count": null,
      "metadata": {
        "colab": {
          "base_uri": "https://localhost:8080/"
        },
        "id": "2dZqKl4vQyR4",
        "outputId": "89c208cf-b951-4b32-a073-dc594c97fb1c"
      },
      "outputs": [
        {
          "name": "stdout",
          "output_type": "stream",
          "text": [
            "(75123, 4)\n",
            "(18781, 4)\n",
            "(23477, 4)\n"
          ]
        }
      ],
      "source": [
        "# Output the shapes of hathe resulting DataFrames\n",
        "print(final_train_df.spe)\n",
        "print(val_df.shape)\n",
        "print(test_df.shape)"
      ]
    },
    {
      "cell_type": "code",
      "execution_count": null,
      "metadata": {
        "id": "e7wSnTmm28lY"
      },
      "outputs": [],
      "source": [
        "# Separate features (X) and labels (y) for train, validation, and test sets\n",
        "X_train, y_train = final_train_df['processed_summary'], final_train_df['Assignee_Class']\n",
        "X_val, y_val = val_df['processed_summary'], val_df['Assignee_Class']\n",
        "X_test, y_test = test_df['processed_summary'], test_df['Assignee_Class']"
      ]
    },
    {
      "cell_type": "markdown",
      "metadata": {
        "id": "kc04vMX7-RrB"
      },
      "source": [
        "**Apply TF-IDF Transformation**"
      ]
    },
    {
      "cell_type": "code",
      "execution_count": null,
      "metadata": {
        "colab": {
          "base_uri": "https://localhost:8080/",
          "height": 72
        },
        "id": "U3PsBg22-TTW",
        "outputId": "be47b460-bcf4-45ad-ff8b-ce29620887e7"
      },
      "outputs": [
        {
          "data": {
            "application/vnd.google.colaboratory.intrinsic+json": {
              "type": "string"
            },
            "text/plain": [
              "'\\nPurpose:\\n- Transforms the test data using the same TF-IDF vectorizer fitted on the training data.\\n\\nOutputs:\\n- X_test_tfidf: TF-IDF matrix for test data using the fitted TF-IDF vectorizer.\\n'"
            ]
          },
          "execution_count": 8,
          "metadata": {},
          "output_type": "execute_result"
        }
      ],
      "source": [
        "# Initialize the TF-IDF vectorizer with n-gram range (1, 2)\n",
        "tfidf_vectorizer = TfidfVectorizer(ngram_range=(1, 2))\n",
        "\n",
        "# Fit and transform the training dataval_df\n",
        "X_train_tfidf = tfidf_vectorizer.fit_transform(X_train)\n",
        "\"\"\"\n",
        "Purpose:\n",
        "- Initializes a TF-IDF vectorizer object with a specified n-gram range (1, 2).\n",
        "- Fits the vectorizer on the training data and transforms it into a TF-IDF matrix.\n",
        "\n",
        "Parameters:\n",
        "- ngram_range=(1, 2): Specifies to extract unigrams and bigrams.\n",
        "\n",
        "Outputs:\n",
        "- X_train_tfidf: TF-IDF matrix for training data where rows are documents and columns are TF-IDF features.\n",
        "\"\"\"\n",
        "\n",
        "# Transform the validation data\n",
        "X_val_tfidf = tfidf_vectorizer.transform(X_val)\n",
        "\"\"\"\n",
        "Purpose:\n",
        "- Transforms the validation data using the same TF-IDF vectorizer fitted on the training data.\n",
        "\n",
        "Outputs:\n",
        "- X_val_tfidf: TF-IDF matrix for validation data using the fitted TF-IDF vectorizer.\n",
        "\"\"\"\n",
        "\n",
        "# Transform the test data\n",
        "X_test_tfidf = tfidf_vectorizer.transform(X_test)\n",
        "\"\"\"\n",
        "Purpose:\n",
        "- Transforms the test data using the same TF-IDF vectorizer fitted on the training data.\n",
        "\n",
        "Outputs:\n",
        "- X_test_tfidf: TF-IDF matrix for test data using the fitted TF-IDF vectorizer.\n",
        "\"\"\""
      ]
    },
    {
      "cell_type": "code",
      "execution_count": null,
      "metadata": {
        "colab": {
          "background_save": true,
          "base_uri": "https://localhost:8080/"
        },
        "id": "pzCPk3QPIW6Q",
        "outputId": "cba74ea7-f65a-47fe-ed68-9566614bb3f5"
      },
      "outputs": [
        {
          "metadata": {
            "tags": null
          },
          "name": "stderr",
          "output_type": "stream",
          "text": [
            "/usr/local/lib/python3.10/dist-packages/sklearn/cluster/_kmeans.py:870: FutureWarning: The default value of `n_init` will change from 10 to 'auto' in 1.4. Set the value of `n_init` explicitly to suppress the warning\n",
            "  warnings.warn(\n"
          ]
        }
      ],
      "source": [
        "import matplotlib.pyplot as plt\n",
        "from sklearn.cluster import KMeans\n",
        "\n",
        "# Calculate WCSS for different number of clusters\n",
        "wcss = []\n",
        "max_clusters = 100\n",
        "for i in range(1, max_clusters + 1):\n",
        "    kmeans = KMeans(n_clusters=i, random_state=42)\n",
        "    kmeans.fit(X_train_tfidf)\n",
        "    wcss.append(kmeans.inertia_)\n",
        "\n",
        "# Plot the elbow curve\n",
        "plt.figure(figsize=(10, 6))\n",
        "plt.plot(range(1, max_clusters + 1), wcss, marker='o')\n",
        "plt.xlabel('Number of Clusters')\n",
        "plt.ylabel('WCSS')\n",
        "plt.title('Elbow Method for Optimal Number of Clusters')\n",
        "plt.show()"
      ]
    },
    {
      "cell_type": "code",
      "execution_count": null,
      "metadata": {
        "colab": {
          "base_uri": "https://localhost:8080/",
          "height": 131
        },
        "id": "eQ-RbbqQFmH7",
        "outputId": "7774233d-2865-4dcb-d657-c60bf06c45c6"
      },
      "outputs": [
        {
          "name": "stderr",
          "output_type": "stream",
          "text": [
            "/usr/local/lib/python3.10/dist-packages/sklearn/cluster/_kmeans.py:870: FutureWarning: The default value of `n_init` will change from 10 to 'auto' in 1.4. Set the value of `n_init` explicitly to suppress the warning\n",
            "  warnings.warn(\n"
          ]
        },
        {
          "data": {
            "text/html": [
              "<style>#sk-container-id-1 {color: black;background-color: white;}#sk-container-id-1 pre{padding: 0;}#sk-container-id-1 div.sk-toggleable {background-color: white;}#sk-container-id-1 label.sk-toggleable__label {cursor: pointer;display: block;width: 100%;margin-bottom: 0;padding: 0.3em;box-sizing: border-box;text-align: center;}#sk-container-id-1 label.sk-toggleable__label-arrow:before {content: \"▸\";float: left;margin-right: 0.25em;color: #696969;}#sk-container-id-1 label.sk-toggleable__label-arrow:hover:before {color: black;}#sk-container-id-1 div.sk-estimator:hover label.sk-toggleable__label-arrow:before {color: black;}#sk-container-id-1 div.sk-toggleable__content {max-height: 0;max-width: 0;overflow: hidden;text-align: left;background-color: #f0f8ff;}#sk-container-id-1 div.sk-toggleable__content pre {margin: 0.2em;color: black;border-radius: 0.25em;background-color: #f0f8ff;}#sk-container-id-1 input.sk-toggleable__control:checked~div.sk-toggleable__content {max-height: 200px;max-width: 100%;overflow: auto;}#sk-container-id-1 input.sk-toggleable__control:checked~label.sk-toggleable__label-arrow:before {content: \"▾\";}#sk-container-id-1 div.sk-estimator input.sk-toggleable__control:checked~label.sk-toggleable__label {background-color: #d4ebff;}#sk-container-id-1 div.sk-label input.sk-toggleable__control:checked~label.sk-toggleable__label {background-color: #d4ebff;}#sk-container-id-1 input.sk-hidden--visually {border: 0;clip: rect(1px 1px 1px 1px);clip: rect(1px, 1px, 1px, 1px);height: 1px;margin: -1px;overflow: hidden;padding: 0;position: absolute;width: 1px;}#sk-container-id-1 div.sk-estimator {font-family: monospace;background-color: #f0f8ff;border: 1px dotted black;border-radius: 0.25em;box-sizing: border-box;margin-bottom: 0.5em;}#sk-container-id-1 div.sk-estimator:hover {background-color: #d4ebff;}#sk-container-id-1 div.sk-parallel-item::after {content: \"\";width: 100%;border-bottom: 1px solid gray;flex-grow: 1;}#sk-container-id-1 div.sk-label:hover label.sk-toggleable__label {background-color: #d4ebff;}#sk-container-id-1 div.sk-serial::before {content: \"\";position: absolute;border-left: 1px solid gray;box-sizing: border-box;top: 0;bottom: 0;left: 50%;z-index: 0;}#sk-container-id-1 div.sk-serial {display: flex;flex-direction: column;align-items: center;background-color: white;padding-right: 0.2em;padding-left: 0.2em;position: relative;}#sk-container-id-1 div.sk-item {position: relative;z-index: 1;}#sk-container-id-1 div.sk-parallel {display: flex;align-items: stretch;justify-content: center;background-color: white;position: relative;}#sk-container-id-1 div.sk-item::before, #sk-container-id-1 div.sk-parallel-item::before {content: \"\";position: absolute;border-left: 1px solid gray;box-sizing: border-box;top: 0;bottom: 0;left: 50%;z-index: -1;}#sk-container-id-1 div.sk-parallel-item {display: flex;flex-direction: column;z-index: 1;position: relative;background-color: white;}#sk-container-id-1 div.sk-parallel-item:first-child::after {align-self: flex-end;width: 50%;}#sk-container-id-1 div.sk-parallel-item:last-child::after {align-self: flex-start;width: 50%;}#sk-container-id-1 div.sk-parallel-item:only-child::after {width: 0;}#sk-container-id-1 div.sk-dashed-wrapped {border: 1px dashed gray;margin: 0 0.4em 0.5em 0.4em;box-sizing: border-box;padding-bottom: 0.4em;background-color: white;}#sk-container-id-1 div.sk-label label {font-family: monospace;font-weight: bold;display: inline-block;line-height: 1.2em;}#sk-container-id-1 div.sk-label-container {text-align: center;}#sk-container-id-1 div.sk-container {/* jupyter's `normalize.less` sets `[hidden] { display: none; }` but bootstrap.min.css set `[hidden] { display: none !important; }` so we also need the `!important` here to be able to override the default hidden behavior on the sphinx rendered scikit-learn.org. See: https://github.com/scikit-learn/scikit-learn/issues/21755 */display: inline-block !important;position: relative;}#sk-container-id-1 div.sk-text-repr-fallback {display: none;}</style><div id=\"sk-container-id-1\" class=\"sk-top-container\"><div class=\"sk-text-repr-fallback\"><pre>KMeans(n_clusters=50, random_state=42)</pre><b>In a Jupyter environment, please rerun this cell to show the HTML representation or trust the notebook. <br />On GitHub, the HTML representation is unable to render, please try loading this page with nbviewer.org.</b></div><div class=\"sk-container\" hidden><div class=\"sk-item\"><div class=\"sk-estimator sk-toggleable\"><input class=\"sk-toggleable__control sk-hidden--visually\" id=\"sk-estimator-id-1\" type=\"checkbox\" checked><label for=\"sk-estimator-id-1\" class=\"sk-toggleable__label sk-toggleable__label-arrow\">KMeans</label><div class=\"sk-toggleable__content\"><pre>KMeans(n_clusters=50, random_state=42)</pre></div></div></div></div></div>"
            ],
            "text/plain": [
              "KMeans(n_clusters=50, random_state=42)"
            ]
          },
          "execution_count": 9,
          "metadata": {},
          "output_type": "execute_result"
        }
      ],
      "source": [
        "# Step 2: Clustering bugs\n",
        "num_clusters = 50  # Adjust as needed\n",
        "kmeans = KMeans(n_clusters=num_clusters, random_state=42)\n",
        "kmeans.fit(X_train_tfidf)"
      ]
    },
    {
      "cell_type": "code",
      "execution_count": null,
      "metadata": {
        "id": "GCA7W-EeJLvD"
      },
      "outputs": [],
      "source": [
        "cluster_labels_train = kmeans.predict(X_train_tfidf)\n",
        "cluster_developers = {}\n",
        "\n",
        "for cluster_id in range(num_clusters):\n",
        "    bugs_in_cluster = final_train_df.iloc[cluster_labels_train == cluster_id]\n",
        "    developers_in_cluster = bugs_in_cluster['Assignee'].unique().tolist()\n",
        "    cluster_developers[cluster_id] = developers_in_cluster"
      ]
    },
    {
      "cell_type": "markdown",
      "metadata": {
        "id": "m0HoYLZGSt4b"
      },
      "source": [
        "**Apply SVD**"
      ]
    },
    {
      "cell_type": "code",
      "execution_count": null,
      "metadata": {
        "id": "Y47mSwwPSvvV"
      },
      "outputs": [],
      "source": [
        "# Apply SVD to reduce dimensionality\n",
        "svd = TruncatedSVD(n_components=1100, random_state=42)\n",
        "\"\"\"\n",
        "Purpose:\n",
        "- Initializes a TruncatedSVD object to reduce the dimensionality of the TF-IDF vectors.\n",
        "\n",
        "Parameters:\n",
        "- n_components=1100: Specifies the number of components (dimensions) to retain after dimensionality reduction.\n",
        "- random_state=42: Ensures reproducibility of results by fixing the random seed.\n",
        "\n",
        "Outputs:\n",
        "- svd: TruncatedSVD object configured with specified parameters.\n",
        "\"\"\"\n",
        "\n",
        "# Fit and transform the training data\n",
        "X_train_svd = svd.fit_transform(X_train_tfidf)\n",
        "\"\"\"\n",
        "Purpose:\n",
        "- Fits the TruncatedSVD model on the training TF-IDF data and transforms it to reduce dimensions.\n",
        "\n",
        "Outputs:\n",
        "- X_train_svd: Reduced-dimensional representation of the training TF-IDF data.\n",
        "\"\"\"\n",
        "\n",
        "# Transform the validation data\n",
        "X_val_svd = svd.transform(X_val_tfidf)\n",
        "\"\"\"\n",
        "Purpose:\n",
        "- Transforms the validation TF-IDF data using the fitted TruncatedSVD model.\n",
        "\n",
        "Outputs:\n",
        "- X_val_svd: Reduced-dimensional representation of the validation TF-IDF data using the fitted SVD.\n",
        "\"\"\"\n",
        "\n",
        "# Transform the test data\n",
        "X_test_svd = svd.transform(X_test_tfidf)\n",
        "\"\"\"\n",
        "Purpose:\n",
        "- Transforms the test TF-IDF data using the fitted TruncatedSVD model.\n",
        "\n",
        "Outputs:\n",
        "- X_test_svd: Reduced-dimensional representation of the test TF-IDF data using the fitted SVD.\n",
        "\"\"\""
      ]
    },
    {
      "cell_type": "markdown",
      "metadata": {
        "id": "rJhb-p-w-e88"
      },
      "source": [
        "**Train an SVM Classifier**"
      ]
    },
    {
      "cell_type": "code",
      "execution_count": null,
      "metadata": {
        "id": "wR6HbMsQhlyy"
      },
      "outputs": [],
      "source": [
        "# Initialize the SVM classifier\n",
        "svm_classifier = SVC(C=10, kernel='linear', probability=True)\n",
        "\n",
        "# Train the classifier on the TF-IDF transformed training data\n",
        "svm_classifier.fit(X_train_tfidf, cluster_labels_train)\n"
      ]
    },
    {
      "cell_type": "code",
      "execution_count": null,
      "metadata": {
        "id": "8q_j6gcZJ2Jq"
      },
      "outputs": [],
      "source": [
        "from sklearn.metrics import accuracy_score, classification_report\n",
        "# Step 5: Predict clusters for validation set and evaluate\n",
        "predicted_clusters_val = svm_classifier.predict(X_val_tfidf)\n",
        "\n",
        "cluster_labels_train = kmeans.predict(X_train_tfidf)\n",
        "# Map Assignees to actual clusters based on training data\n",
        "assignee_to_cluster = {}\n",
        "for assignee, cluster_id in zip(final_train_df['Assignee'], cluster_labels_train):\n",
        "    assignee_to_cluster[assignee] = cluster_id\n",
        "\n",
        "# Evaluate against actual clusters for validation set\n",
        "actual_clusters_val = [assignee_to_cluster[assignee] for assignee in val_df['Assignee']]\n",
        "accuracy = accuracy_score(actual_clusters_val, predicted_clusters_val)\n",
        "print(f\"Validation Accuracy: {accuracy:.2f}\")\n",
        "\n",
        "# Classification report (optional)\n",
        "print(classification_report(actual_clusters_val, predicted_clusters_val))"
      ]
    },
    {
      "cell_type": "markdown",
      "metadata": {
        "id": "z82UJoqB-8LE"
      },
      "source": [
        "**Evaluate the Classifier on the Validation Set**"
      ]
    },
    {
      "cell_type": "code",
      "execution_count": null,
      "metadata": {
        "colab": {
          "base_uri": "https://localhost:8080/"
        },
        "id": "lTLhh3OlXXb4",
        "outputId": "5f695585-6672-4b4c-87f6-f46f20579854"
      },
      "outputs": [
        {
          "name": "stdout",
          "output_type": "stream",
          "text": [
            "Validation Accuracy: 0.20664576802507836\n"
          ]
        }
      ],
      "source": [
        "# Predict labels on the validation set\n",
        "val_predictions = svm_classifier.predict(X_val_tfidf)\n",
        "\"\"\"\n",
        "Purpose:\n",
        "- Predicts the class labels for the validation set using the trained SVM classifier.\n",
        "\n",
        "Parameters:\n",
        "- svm_classifier: Trained SVM classifier object.\n",
        "- X_val_tfidf: Validation set features transformed into TF-IDF format.\n",
        "\n",
        "Outputs:\n",
        "- val_predictions: Predicted class labels for the validation set.\n",
        "\"\"\"\n",
        "\n",
        "# Calculate accuracy on the validation set\n",
        "val_accuracy = accuracy_score(y_val, val_predictions)\n",
        "print(\"Validation Accuracy:\", val_accuracy)\n",
        "\"\"\"\n",
        "Purpose:\n",
        "- Computes the accuracy of the SVM classifier on the validation set.\n",
        "\n",
        "Parameters:\n",
        "- y_val: True class labels of the validation set.\n",
        "- val_predictions: Predicted class labels obtained from the SVM classifier.\n",
        "\n",
        "Outputs:\n",
        "- Prints the validation accuracy score.\n",
        "\"\"\""
      ]
    },
    {
      "cell_type": "code",
      "execution_count": null,
      "metadata": {
        "id": "X48deClM-Eao"
      },
      "outputs": [],
      "source": [
        "# Load the model from Google Drive\n",
        "model_filename = '/content/drive/MyDrive/checkpoints/svm_classifier_model_with_probability.joblib'\n",
        "svm_classifier = joblib.load(model_filename)\n",
        "\"\"\"\n",
        "Purpose:\n",
        "- Loads a pre-trained SVM classifier model from a specified file.\n",
        "\n",
        "Parameters:\n",
        "- model_filename: File path where the SVM classifier model is stored.\n",
        "\n",
        "Outputs:\n",
        "- svm_classifier: Loaded SVM classifier object ready for inference.\n",
        "\"\"\""
      ]
    },
    {
      "cell_type": "code",
      "execution_count": null,
      "metadata": {
        "id": "vonsx4tM-FIN"
      },
      "outputs": [],
      "source": [
        "# Predict probabilities on the validation set\n",
        "val_probabilities = svm_classifier.predict_proba(X_val_tfidf)\n",
        "\"\"\"\n",
        "Purpose:\n",
        "- Predicts class probabilities for each sample in the validation set using the trained SVM classifier.\n",
        "\n",
        "Parameters:\n",
        "- svm_classifier: SVM classifier model previously trained and loaded.\n",
        "- X_val_tfidf: TF-IDF transformed validation set features.\n",
        "\n",
        "Outputs:\n",
        "- val_probabilities: Predicted probabilities of each class for each sample in the validation set.\n",
        "\"\"\""
      ]
    },
    {
      "cell_type": "code",
      "execution_count": null,
      "metadata": {
        "colab": {
          "base_uri": "https://localhost:8080/"
        },
        "id": "tdVGoHtm_FeL",
        "outputId": "d3755804-458a-4d38-ffb2-960d0f657e6e"
      },
      "outputs": [
        {
          "name": "stdout",
          "output_type": "stream",
          "text": [
            "Validation Top-3 Accuracy: 0.40301368404238325\n",
            "Validation Top-3 Accuracy: 0.40301368404238325\n",
            "Validation Top-3 Accuracy: 0.40301368404238325\n"
          ]
        }
      ],
      "source": [
        "# Calculate top-3 accuracy\n",
        "top_k = 3\n",
        "val_top_k_accuracy = top_k_accuracy_score(y_val, val_probabilities, k=top_k)\n",
        "\"\"\"\n",
        "Purpose:\n",
        "- Calculates the top-K accuracy for the validation set predictions based on predicted probabilities.\n",
        "\n",
        "Parameters:\n",
        "- y_val: True labels of the validation set.\n",
        "- val_probabilities: Predicted probabilities of each class for each sample in the validation set.\n",
        "- k: Number of top predictions to consider for accuracy calculation.\n",
        "\n",
        "Outputs:\n",
        "- val_top_k_accuracy: Top-K accuracy score for the validation set predictions.\n",
        "\"\"\"\n",
        "\n",
        "print(f\"Validation Top-{top_k} Accuracy:\", val_top_k_accuracy)\n",
        "\"\"\"\n",
        "Purpose:\n",
        "- Prints the computed top-K accuracy score for the validation set predictions.\n",
        "\"\"\""
      ]
    },
    {
      "cell_type": "code",
      "execution_count": null,
      "metadata": {
        "colab": {
          "base_uri": "https://localhost:8080/"
        },
        "id": "N4UX8hGu_F-Z",
        "outputId": "794e37d4-f768-44c1-90f0-6afc5441ce3e"
      },
      "outputs": [
        {
          "name": "stdout",
          "output_type": "stream",
          "text": [
            "Validation Top-5 Accuracy: 0.469144348011288\n",
            "Validation Top-5 Accuracy: 0.469144348011288\n",
            "Validation Top-5 Accuracy: 0.469144348011288\n"
          ]
        }
      ],
      "source": [
        "# Calculate top-5 accuracy\n",
        "top_k = 5\n",
        "val_top_k_accuracy = top_k_accuracy_score(y_val, val_probabilities, k=top_k)\n",
        "\"\"\"\n",
        "Purpose:\n",
        "- Calculates the top-K accuracy for the validation set predictions based on predicted probabilities.\n",
        "\n",
        "Parameters:\n",
        "- y_val: True labels of the validation set.\n",
        "- val_probabilities: Predicted probabilities of each class for each sample in the validation set.\n",
        "- k: Number of top predictions to consider for accuracy calculation.\n",
        "\n",
        "Outputs:\n",
        "- val_top_k_accuracy: Top-K accuracy score for the validation set predictions.\n",
        "\"\"\"\n",
        "\n",
        "print(f\"Validation Top-{top_k} Accuracy:\", val_top_k_accuracy)\n",
        "\"\"\"\n",
        "Purpose:\n",
        "- Prints the computed top-K accuracy score for the validation set predictions.\n",
        "\"\"\""
      ]
    },
    {
      "cell_type": "code",
      "execution_count": null,
      "metadata": {
        "colab": {
          "base_uri": "https://localhost:8080/"
        },
        "id": "33BWYc50_GaX",
        "outputId": "2f3fbef8-2d17-4dbe-cf5f-576d5ef14fb2"
      },
      "outputs": [
        {
          "name": "stdout",
          "output_type": "stream",
          "text": [
            "Validation Top-10 Accuracy: 0.5530056972472179\n",
            "Validation Top-10 Accuracy: 0.5530056972472179\n",
            "Validation Top-10 Accuracy: 0.5530056972472179\n"
          ]
        }
      ],
      "source": [
        "# Calculate top-10 accuracy\n",
        "top_k = 10\n",
        "val_top_k_accuracy = top_k_accuracy_score(y_val, val_probabilities, k=top_k)\n",
        "\"\"\"\n",
        "Purpose:\n",
        "- Calculates the top-K accuracy for the validation set predictions based on predicted probabilities.\n",
        "\n",
        "Parameters:\n",
        "- y_val: True labels of the validation set.\n",
        "- val_probabilities: Predicted probabilities of each class for each sample in the validation set.\n",
        "- k: Number of top predictions to consider for accuracy calculation.\n",
        "\n",
        "Outputs:\n",
        "- val_top_k_accuracy: Top-K accuracy score for the validation set predictions.\n",
        "\"\"\"\n",
        "\n",
        "print(f\"Validation Top-{top_k} Accuracy:\", val_top_k_accuracy)\n",
        "\"\"\"\n",
        "Purpose:\n",
        "- Prints the computed top-K accuracy score for the validation set predictions.\n",
        "\"\"\""
      ]
    },
    {
      "cell_type": "code",
      "execution_count": null,
      "metadata": {
        "colab": {
          "base_uri": "https://localhost:8080/"
        },
        "id": "XRuj1pQSlR7q",
        "outputId": "c1800276-de65-42ce-ae43-e8d9a680177c"
      },
      "outputs": [
        {
          "name": "stdout",
          "output_type": "stream",
          "text": [
            "Validation Top-50 Accuracy: 0.7214738299345083\n"
          ]
        }
      ],
      "source": [
        "# Calculate top-50 accuracy\n",
        "top_k = 50\n",
        "val_top_k_accuracy = top_k_accuracy_score(y_val, val_probabilities, k=top_k)\n",
        "\"\"\"\n",
        "Purpose:\n",
        "- Calculates the top-K accuracy for the validation set predictions based on predicted probabilities.\n",
        "\n",
        "Parameters:\n",
        "- y_val: True labels of the validation set.\n",
        "- val_probabilities: Predicted probabilities of each class for each sample in the validation set.\n",
        "- k: Number of top predictions to consider for accuracy calculation.\n",
        "\n",
        "Outputs:\n",
        "- val_top_k_accuracy: Top-K accuracy score for the validation set predictions.\n",
        "\"\"\"\n",
        "\n",
        "print(f\"Validation Top-{top_k} Accuracy:\", val_top_k_accuracy)\n",
        "\"\"\"\n",
        "Purpose:\n",
        "- Prints the computed top-K accuracy score for the validation set predictions.\n",
        "\"\"\""
      ]
    }
  ],
  "metadata": {
    "colab": {
      "provenance": []
    },
    "kernelspec": {
      "display_name": "Python 3",
      "name": "python3"
    },
    "language_info": {
      "name": "python"
    }
  },
  "nbformat": 4,
  "nbformat_minor": 0
}