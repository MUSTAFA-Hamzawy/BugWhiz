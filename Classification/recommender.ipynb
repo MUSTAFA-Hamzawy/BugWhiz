{
  "cells": [
    {
      "cell_type": "code",
      "execution_count": 31,
      "metadata": {
        "colab": {
          "base_uri": "https://localhost:8080/"
        },
        "id": "837wtVlaDoAm",
        "outputId": "f59d2f01-7d51-4c9d-8c4b-9b5e1ab765e9"
      },
      "outputs": [
        {
          "name": "stdout",
          "output_type": "stream",
          "text": [
            "Drive already mounted at /content/drive; to attempt to forcibly remount, call drive.mount(\"/content/drive\", force_remount=True).\n"
          ]
        }
      ],
      "source": [
        "# Mount Google Drive\n",
        "from google.colab import drive\n",
        "drive.mount('/content/drive')"
      ]
    },
    {
      "cell_type": "code",
      "execution_count": 48,
      "metadata": {
        "colab": {
          "base_uri": "https://localhost:8080/"
        },
        "id": "2dDi2yE1u6d3",
        "outputId": "fdbbb6d9-96c9-4cbe-aa37-3f9818bd4009"
      },
      "outputs": [
        {
          "name": "stdout",
          "output_type": "stream",
          "text": [
            "Overwriting predict_developers.py\n"
          ]
        }
      ],
      "source": [
        "%%writefile predict_developers.py\n",
        "\n",
        "import nltk\n",
        "from nltk.stem import PorterStemmer\n",
        "from nltk.corpus import stopwords\n",
        "from nltk.tokenize import word_tokenize\n",
        "import joblib\n",
        "import sys\n",
        "import json\n",
        "import numpy as np \n",
        "import utils\n",
        "\n",
        "# Get the class using the svm_classifier\n",
        "def predict_summary(summary, tfidf_vectorizer, svm_classifier):\n",
        "    # Preprocess the input summary\n",
        "    summary_tfidf = tfidf_vectorizer.transform(summary)\n",
        "\n",
        "    # Predict the class\n",
        "    predicted_class = svm_classifier.predict(summary_tfidf)\n",
        "\n",
        "    return predicted_class[0]\n",
        "\n",
        "# Define the prediction function to get top 5 classes\n",
        "def predict_top_5_classes(summary, tfidf_vectorizer, svm_classifier, label_encoder):\n",
        "    summary_tfidf = tfidf_vectorizer.transform([' '.join(summary)])\n",
        "    probabilities = svm_classifier.predict_proba(summary_tfidf)[0]\n",
        "    top_5_indices = np.argsort(probabilities)[-5:][::-1]\n",
        "    return set(top_5_indices)\n",
        "\n",
        "# Function for inference based on bug report\n",
        "def Inference(bug_report, stop_words, stemmer, tfidf_vectorizer, svm_classifier, label_encoder):\n",
        "    # Tokenize the bug report\n",
        "    tokens = utils.tokenize_summary(bug_report)\n",
        "\n",
        "    # Remove stop words\n",
        "    tokens_without_stop_words = utils.remove_stopwords(tokens)\n",
        "\n",
        "    # Apply stemming\n",
        "    stemmed_tokens = utils.stem_tokens(tokens_without_stop_words)\n",
        "\n",
        "    joined_tokens = utils.join_tokens(stemmed_tokens)\n",
        "    # Predict the top 5 classes using the svm_classifier after applying TF-IDF\n",
        "    top_5_classes = predict_top_5_classes(joined_tokens, tfidf_vectorizer, svm_classifier, label_encoder)\n",
        "\n",
        "    return top_5_classes\n",
        "\n",
        "def main():\n",
        "    # Load the claddifier, TF-IDF vectorizer and label encoder\n",
        "    svm_classifier = joblib.load('/content/drive/My Drive/checkpoints/svm_classifier_model_with_probability.joblib')\n",
        "    tfidf_vectorizer = joblib.load('/content/drive/My Drive/checkpoints/tfidf_vectorizer.joblib')\n",
        "    label_encoder = joblib.load('/content/drive/My Drive/checkpoints/label_encoder.joblib')\n",
        "\n",
        "    # Load and parse the input data\n",
        "    data = json.loads(sys.argv[1])\n",
        "    bug_description = data[\"bugDescription\"]\n",
        "\n",
        "    # Perform inference to predict top 5 classes for the input bug description\n",
        "    input_bug_top_5_classes = Inference(bug_description, stop_words, stemmer, tfidf_vectorizer, svm_classifier, label_encoder)\n",
        "\n",
        "    # Dictionary to store the number of common classes for each developer\n",
        "    developers_bugs_classes = {}\n",
        "\n",
        "    # Set to store developers with no bugs solved\n",
        "    developers_with_no_bugs = set()\n",
        "\n",
        "    # Iterate over developers' data\n",
        "    for developer in data[\"developersData\"]:\n",
        "        developer_id = developer[\"developerID\"]\n",
        "        old_bugs = developer[\"oldBugsDescription\"]\n",
        "\n",
        "        # Check if the developer has no old bugs\n",
        "        if not old_bugs:\n",
        "            developers_with_no_bugs.add(developer_id)\n",
        "            continue\n",
        "\n",
        "        # Count common classes between input bug and each old bug\n",
        "        common_classes_count = 0\n",
        "        for bug in old_bugs:\n",
        "            predicted_top_5_classes = Inference(bug, stop_words, stemmer, tfidf_vectorizer, svm_classifier, label_encoder)\n",
        "            common_classes = input_bug_top_5_classes.intersection(predicted_top_5_classes)\n",
        "            common_classes_count += len(common_classes)\n",
        "        \n",
        "        # Store the total common classes count for the developer\n",
        "        developers_bugs_classes[developer_id] = common_classes_count\n",
        "\n",
        "    # Sort developers by common class counts in descending order\n",
        "    sorted_developers = sorted(developers_bugs_classes.items(), key=lambda item: item[1], reverse=True)\n",
        "\n",
        "    # Get the top developers (at most 5)\n",
        "    num_top_developers = min(5, len(sorted_developers))\n",
        "\n",
        "    # Get the top 5 developers based on common class counts\n",
        "    recommended_developers = [developer_id for developer_id, _ in sorted_developers[:num_top_developers]]\n",
        "\n",
        "    # Ensure that all developers with no bugs are considered for recommendation\n",
        "    if developers_with_no_bugs:\n",
        "      if(len(recommended_developers)==5):\n",
        "        # Replace the last recommendation with a developer with no bugs\n",
        "        recommended_developers[4] = developers_with_no_bugs.pop()\n",
        "      else:\n",
        "        # Add developers with no bugs until the recommended list reaches 5 developers\n",
        "        while(len(recommended_developers) < 5 and developers_with_no_bugs):\n",
        "          recommended_developers.append(developers_with_no_bugs.pop())\n",
        "\n",
        "    # Print the recommended developers\n",
        "    print(\"Recommended Developers:\", recommended_developers)\n",
        "\n",
        "if __name__ == \"__main__\":\n",
        "    main()"
      ]
    },
    {
      "cell_type": "code",
      "execution_count": 47,
      "metadata": {
        "colab": {
          "base_uri": "https://localhost:8080/"
        },
        "id": "s96__oNmztih",
        "outputId": "77a2580e-8c2b-4747-fccd-afdbd4c26d4a"
      },
      "outputs": [
        {
          "name": "stdout",
          "output_type": "stream",
          "text": [
            "[nltk_data] Downloading package punkt to /root/nltk_data...\n",
            "[nltk_data]   Package punkt is already up-to-date!\n",
            "[nltk_data] Downloading package stopwords to /root/nltk_data...\n",
            "[nltk_data]   Package stopwords is already up-to-date!\n",
            "/usr/local/lib/python3.10/dist-packages/sklearn/base.py:318: UserWarning: Trying to unpickle estimator SVC from version 0.24.2 when using version 1.2.2. This might lead to breaking code or invalid results. Use at your own risk. For more info please refer to:\n",
            "https://scikit-learn.org/stable/model_persistence.html#security-maintainability-limitations\n",
            "  warnings.warn(\n",
            "/usr/local/lib/python3.10/dist-packages/sklearn/base.py:318: UserWarning: Trying to unpickle estimator TfidfTransformer from version 0.24.2 when using version 1.2.2. This might lead to breaking code or invalid results. Use at your own risk. For more info please refer to:\n",
            "https://scikit-learn.org/stable/model_persistence.html#security-maintainability-limitations\n",
            "  warnings.warn(\n",
            "/usr/local/lib/python3.10/dist-packages/sklearn/base.py:318: UserWarning: Trying to unpickle estimator TfidfVectorizer from version 0.24.2 when using version 1.2.2. This might lead to breaking code or invalid results. Use at your own risk. For more info please refer to:\n",
            "https://scikit-learn.org/stable/model_persistence.html#security-maintainability-limitations\n",
            "  warnings.warn(\n",
            "Input Bug Top 5 Classes: {1536, 1, 1445, 726, 440}\n",
            "Developers with no bugs: {'667a76f471631147e0b6e0deedd'}\n",
            "Developers' Bugs Classes and Common Counts: {'667a760a6da0c47fe0a327cd': 5, '667a76f471631147e0b6e0d6': 0}\n",
            "Recommended Developers: ['667a760a6da0c47fe0a327cd', '667a76f471631147e0b6e0d6', '667a76f471631147e0b6e0d', '667a76f471631147e0b6e0ddd', '667a76f471631147e0b6e0dbbd']\n"
          ]
        }
      ],
      "source": [
        "!python predict_developers.py '{\"bugDescription\": \"Maximize on second larger monitor not working \", \"developersData\": [{\"developerID\": \"667a76f471631147e0b6e0d\", \"jobTitle\": \"Backend Developer\", \"oldBugsDescription\": []},{\"developerID\": \"667a76f471631147e0b6e0ddd\", \"jobTitle\": \"Backend Developer\", \"oldBugsDescription\": []},{\"developerID\": \"667a76f471631147e0b6e0dbbd\", \"jobTitle\": \"Backend Developer\", \"oldBugsDescription\": []},{\"developerID\": \"667a76f471631147e0b6e0deedd\", \"jobTitle\": \"Backend Developer\", \"oldBugsDescription\": []},{\"developerID\": \"667a760a6da0c47fe0a327cd\", \"jobTitle\": \"Backend Developer\", \"oldBugsDescription\": [\"Maximize on second larger monitor not working\", \"the font size is very small\"]}, {\"developerID\": \"667a76f471631147e0b6e0d6\", \"jobTitle\": \"Backend Developer\", \"oldBugsDescription\": [\"Manual guide installation is not clear\"]}]}'"
      ]
    }
  ],
  "metadata": {
    "colab": {
      "provenance": []
    },
    "kernelspec": {
      "display_name": "Python 3",
      "name": "python3"
    },
    "language_info": {
      "name": "python"
    }
  },
  "nbformat": 4,
  "nbformat_minor": 0
}
