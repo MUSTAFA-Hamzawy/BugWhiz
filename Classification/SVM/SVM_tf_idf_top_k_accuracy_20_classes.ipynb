{
  "cells": [
    {
      "cell_type": "markdown",
      "metadata": {
        "id": "H1owhJo-7c_s"
      },
      "source": [
        "**Import Libraries**"
      ]
    },
    {
      "cell_type": "code",
      "execution_count": 1,
      "metadata": {
        "id": "WfJvhCiZ6gft"
      },
      "outputs": [],
      "source": [
        "# Import necessary libraries\n",
        "import pandas as pd  # Pandas for data manipulation and analysis\n",
        "from sklearn.preprocessing import LabelEncoder  # LabelEncoder for encoding categorical target labels\n",
        "from sklearn.feature_extraction.text import TfidfVectorizer  # TfidfVectorizer for converting text data to TF-IDF features\n",
        "from sklearn.svm import SVC  # SVC (Support Vector Classifier) for SVM classification\n",
        "from sklearn.metrics import accuracy_score, top_k_accuracy_score  # Metrics for evaluating model performance\n",
        "from sklearn.model_selection import StratifiedShuffleSplit  # StratifiedShuffleSplit for train-test splitting\n",
        "import joblib  # Joblib for saving and loading models\n",
        "from sklearn.decomposition import TruncatedSVD  # TruncatedSVD for dimensionality reduction using Singular Value Decomposition (SVD)"
      ]
    },
    {
      "cell_type": "markdown",
      "metadata": {
        "id": "mIjQw4jv7jlz"
      },
      "source": [
        "**Load The Dataset**"
      ]
    },
    {
      "cell_type": "code",
      "execution_count": 2,
      "metadata": {
        "colab": {
          "base_uri": "https://localhost:8080/"
        },
        "id": "tgkV2Cg3gIk5",
        "outputId": "fbd147c1-6741-42a7-8c19-440a65a29098"
      },
      "outputs": [
        {
          "output_type": "stream",
          "name": "stdout",
          "text": [
            "Mounted at /content/drive\n"
          ]
        }
      ],
      "source": [
        "# Mount Google Drive to access files and save outputs\n",
        "from google.colab import drive\n",
        "drive.mount('/content/drive')"
      ]
    },
    {
      "cell_type": "code",
      "execution_count": 141,
      "metadata": {
        "id": "9bLUtRI77py8"
      },
      "outputs": [],
      "source": [
        "# Specify the file path in Google Drive and load the dataset after preprocessing\n",
        "file_path = '/content/drive/My Drive/dataset_after_preprocessing.csv'\n",
        "dataset = pd.read_csv(file_path)"
      ]
    },
    {
      "cell_type": "code",
      "execution_count": 142,
      "metadata": {
        "colab": {
          "base_uri": "https://localhost:8080/",
          "height": 423
        },
        "id": "JOBbEojOA7sa",
        "outputId": "343eb5a6-e27d-4a28-e578-448c53cb3d00"
      },
      "outputs": [
        {
          "output_type": "execute_result",
          "data": {
            "text/plain": [
              "                                          Summary_Stemmed  \\\n",
              "0       ['scroll', 'scroll', 'mice', 'touchpad', 'etc'...   \n",
              "1       ['add', 'check', 'item', 'download', 'panel', ...   \n",
              "2       ['useafterfre', 'navig', 'document', 'form', '...   \n",
              "3       ['add', 'address', 'properli', 'autofil', 'opt...   \n",
              "4       ['libxmlgyp', 'defin', 'libxmlstat', 'direct',...   \n",
              "...                                                   ...   \n",
              "117376  ['updat', 'gleanj', 'dashboard', 'ignor', 'gle...   \n",
              "117377  ['autocomplet', 'type', 'valid', 'valu', 'pass...   \n",
              "117378  ['intermitt', 'slow', 'see', 'ping', 'show', '...   \n",
              "117379  ['investig', 'string', 'metric', 'type', 'adeq...   \n",
              "117380  ['remov', 'manual', 'page', 'load', 'event', '...   \n",
              "\n",
              "                                        processed_summary  \\\n",
              "0                  scroll scroll mice touchpad etc scroll   \n",
              "1              add check item download panel browser test   \n",
              "2       useafterfre navig document form valid messag s...   \n",
              "3          add address properli autofil option dialog box   \n",
              "4                libxmlgyp defin libxmlstat direct depend   \n",
              "...                                                   ...   \n",
              "117376    updat gleanj dashboard ignor glean sdk data vpn   \n",
              "117377            autocomplet type valid valu pass record   \n",
              "117378     intermitt slow see ping show debug ping viewer   \n",
              "117379  investig string metric type adequ captur gfxad...   \n",
              "117380  remov manual page load event glean debug ping ...   \n",
              "\n",
              "                    Assignee  \n",
              "0          amit@chromium.org  \n",
              "1       achuith@chromium.org  \n",
              "2         tkent@chromium.org  \n",
              "3           sky@chromium.org  \n",
              "4           wtc@chromium.org  \n",
              "...                      ...  \n",
              "117376                 brosa  \n",
              "117377                 brosa  \n",
              "117378                 brosa  \n",
              "117379              pmcmanis  \n",
              "117380                 brosa  \n",
              "\n",
              "[117381 rows x 3 columns]"
            ],
            "text/html": [
              "\n",
              "  <div id=\"df-3ec2a72d-460d-49d2-b2f1-ef1f23096a63\" class=\"colab-df-container\">\n",
              "    <div>\n",
              "<style scoped>\n",
              "    .dataframe tbody tr th:only-of-type {\n",
              "        vertical-align: middle;\n",
              "    }\n",
              "\n",
              "    .dataframe tbody tr th {\n",
              "        vertical-align: top;\n",
              "    }\n",
              "\n",
              "    .dataframe thead th {\n",
              "        text-align: right;\n",
              "    }\n",
              "</style>\n",
              "<table border=\"1\" class=\"dataframe\">\n",
              "  <thead>\n",
              "    <tr style=\"text-align: right;\">\n",
              "      <th></th>\n",
              "      <th>Summary_Stemmed</th>\n",
              "      <th>processed_summary</th>\n",
              "      <th>Assignee</th>\n",
              "    </tr>\n",
              "  </thead>\n",
              "  <tbody>\n",
              "    <tr>\n",
              "      <th>0</th>\n",
              "      <td>['scroll', 'scroll', 'mice', 'touchpad', 'etc'...</td>\n",
              "      <td>scroll scroll mice touchpad etc scroll</td>\n",
              "      <td>amit@chromium.org</td>\n",
              "    </tr>\n",
              "    <tr>\n",
              "      <th>1</th>\n",
              "      <td>['add', 'check', 'item', 'download', 'panel', ...</td>\n",
              "      <td>add check item download panel browser test</td>\n",
              "      <td>achuith@chromium.org</td>\n",
              "    </tr>\n",
              "    <tr>\n",
              "      <th>2</th>\n",
              "      <td>['useafterfre', 'navig', 'document', 'form', '...</td>\n",
              "      <td>useafterfre navig document form valid messag s...</td>\n",
              "      <td>tkent@chromium.org</td>\n",
              "    </tr>\n",
              "    <tr>\n",
              "      <th>3</th>\n",
              "      <td>['add', 'address', 'properli', 'autofil', 'opt...</td>\n",
              "      <td>add address properli autofil option dialog box</td>\n",
              "      <td>sky@chromium.org</td>\n",
              "    </tr>\n",
              "    <tr>\n",
              "      <th>4</th>\n",
              "      <td>['libxmlgyp', 'defin', 'libxmlstat', 'direct',...</td>\n",
              "      <td>libxmlgyp defin libxmlstat direct depend</td>\n",
              "      <td>wtc@chromium.org</td>\n",
              "    </tr>\n",
              "    <tr>\n",
              "      <th>...</th>\n",
              "      <td>...</td>\n",
              "      <td>...</td>\n",
              "      <td>...</td>\n",
              "    </tr>\n",
              "    <tr>\n",
              "      <th>117376</th>\n",
              "      <td>['updat', 'gleanj', 'dashboard', 'ignor', 'gle...</td>\n",
              "      <td>updat gleanj dashboard ignor glean sdk data vpn</td>\n",
              "      <td>brosa</td>\n",
              "    </tr>\n",
              "    <tr>\n",
              "      <th>117377</th>\n",
              "      <td>['autocomplet', 'type', 'valid', 'valu', 'pass...</td>\n",
              "      <td>autocomplet type valid valu pass record</td>\n",
              "      <td>brosa</td>\n",
              "    </tr>\n",
              "    <tr>\n",
              "      <th>117378</th>\n",
              "      <td>['intermitt', 'slow', 'see', 'ping', 'show', '...</td>\n",
              "      <td>intermitt slow see ping show debug ping viewer</td>\n",
              "      <td>brosa</td>\n",
              "    </tr>\n",
              "    <tr>\n",
              "      <th>117379</th>\n",
              "      <td>['investig', 'string', 'metric', 'type', 'adeq...</td>\n",
              "      <td>investig string metric type adequ captur gfxad...</td>\n",
              "      <td>pmcmanis</td>\n",
              "    </tr>\n",
              "    <tr>\n",
              "      <th>117380</th>\n",
              "      <td>['remov', 'manual', 'page', 'load', 'event', '...</td>\n",
              "      <td>remov manual page load event glean debug ping ...</td>\n",
              "      <td>brosa</td>\n",
              "    </tr>\n",
              "  </tbody>\n",
              "</table>\n",
              "<p>117381 rows × 3 columns</p>\n",
              "</div>\n",
              "    <div class=\"colab-df-buttons\">\n",
              "\n",
              "  <div class=\"colab-df-container\">\n",
              "    <button class=\"colab-df-convert\" onclick=\"convertToInteractive('df-3ec2a72d-460d-49d2-b2f1-ef1f23096a63')\"\n",
              "            title=\"Convert this dataframe to an interactive table.\"\n",
              "            style=\"display:none;\">\n",
              "\n",
              "  <svg xmlns=\"http://www.w3.org/2000/svg\" height=\"24px\" viewBox=\"0 -960 960 960\">\n",
              "    <path d=\"M120-120v-720h720v720H120Zm60-500h600v-160H180v160Zm220 220h160v-160H400v160Zm0 220h160v-160H400v160ZM180-400h160v-160H180v160Zm440 0h160v-160H620v160ZM180-180h160v-160H180v160Zm440 0h160v-160H620v160Z\"/>\n",
              "  </svg>\n",
              "    </button>\n",
              "\n",
              "  <style>\n",
              "    .colab-df-container {\n",
              "      display:flex;\n",
              "      gap: 12px;\n",
              "    }\n",
              "\n",
              "    .colab-df-convert {\n",
              "      background-color: #E8F0FE;\n",
              "      border: none;\n",
              "      border-radius: 50%;\n",
              "      cursor: pointer;\n",
              "      display: none;\n",
              "      fill: #1967D2;\n",
              "      height: 32px;\n",
              "      padding: 0 0 0 0;\n",
              "      width: 32px;\n",
              "    }\n",
              "\n",
              "    .colab-df-convert:hover {\n",
              "      background-color: #E2EBFA;\n",
              "      box-shadow: 0px 1px 2px rgba(60, 64, 67, 0.3), 0px 1px 3px 1px rgba(60, 64, 67, 0.15);\n",
              "      fill: #174EA6;\n",
              "    }\n",
              "\n",
              "    .colab-df-buttons div {\n",
              "      margin-bottom: 4px;\n",
              "    }\n",
              "\n",
              "    [theme=dark] .colab-df-convert {\n",
              "      background-color: #3B4455;\n",
              "      fill: #D2E3FC;\n",
              "    }\n",
              "\n",
              "    [theme=dark] .colab-df-convert:hover {\n",
              "      background-color: #434B5C;\n",
              "      box-shadow: 0px 1px 3px 1px rgba(0, 0, 0, 0.15);\n",
              "      filter: drop-shadow(0px 1px 2px rgba(0, 0, 0, 0.3));\n",
              "      fill: #FFFFFF;\n",
              "    }\n",
              "  </style>\n",
              "\n",
              "    <script>\n",
              "      const buttonEl =\n",
              "        document.querySelector('#df-3ec2a72d-460d-49d2-b2f1-ef1f23096a63 button.colab-df-convert');\n",
              "      buttonEl.style.display =\n",
              "        google.colab.kernel.accessAllowed ? 'block' : 'none';\n",
              "\n",
              "      async function convertToInteractive(key) {\n",
              "        const element = document.querySelector('#df-3ec2a72d-460d-49d2-b2f1-ef1f23096a63');\n",
              "        const dataTable =\n",
              "          await google.colab.kernel.invokeFunction('convertToInteractive',\n",
              "                                                    [key], {});\n",
              "        if (!dataTable) return;\n",
              "\n",
              "        const docLinkHtml = 'Like what you see? Visit the ' +\n",
              "          '<a target=\"_blank\" href=https://colab.research.google.com/notebooks/data_table.ipynb>data table notebook</a>'\n",
              "          + ' to learn more about interactive tables.';\n",
              "        element.innerHTML = '';\n",
              "        dataTable['output_type'] = 'display_data';\n",
              "        await google.colab.output.renderOutput(dataTable, element);\n",
              "        const docLink = document.createElement('div');\n",
              "        docLink.innerHTML = docLinkHtml;\n",
              "        element.appendChild(docLink);\n",
              "      }\n",
              "    </script>\n",
              "  </div>\n",
              "\n",
              "\n",
              "<div id=\"df-f9ca8b8e-af7b-4678-aec8-d662ae2d16ca\">\n",
              "  <button class=\"colab-df-quickchart\" onclick=\"quickchart('df-f9ca8b8e-af7b-4678-aec8-d662ae2d16ca')\"\n",
              "            title=\"Suggest charts\"\n",
              "            style=\"display:none;\">\n",
              "\n",
              "<svg xmlns=\"http://www.w3.org/2000/svg\" height=\"24px\"viewBox=\"0 0 24 24\"\n",
              "     width=\"24px\">\n",
              "    <g>\n",
              "        <path d=\"M19 3H5c-1.1 0-2 .9-2 2v14c0 1.1.9 2 2 2h14c1.1 0 2-.9 2-2V5c0-1.1-.9-2-2-2zM9 17H7v-7h2v7zm4 0h-2V7h2v10zm4 0h-2v-4h2v4z\"/>\n",
              "    </g>\n",
              "</svg>\n",
              "  </button>\n",
              "\n",
              "<style>\n",
              "  .colab-df-quickchart {\n",
              "      --bg-color: #E8F0FE;\n",
              "      --fill-color: #1967D2;\n",
              "      --hover-bg-color: #E2EBFA;\n",
              "      --hover-fill-color: #174EA6;\n",
              "      --disabled-fill-color: #AAA;\n",
              "      --disabled-bg-color: #DDD;\n",
              "  }\n",
              "\n",
              "  [theme=dark] .colab-df-quickchart {\n",
              "      --bg-color: #3B4455;\n",
              "      --fill-color: #D2E3FC;\n",
              "      --hover-bg-color: #434B5C;\n",
              "      --hover-fill-color: #FFFFFF;\n",
              "      --disabled-bg-color: #3B4455;\n",
              "      --disabled-fill-color: #666;\n",
              "  }\n",
              "\n",
              "  .colab-df-quickchart {\n",
              "    background-color: var(--bg-color);\n",
              "    border: none;\n",
              "    border-radius: 50%;\n",
              "    cursor: pointer;\n",
              "    display: none;\n",
              "    fill: var(--fill-color);\n",
              "    height: 32px;\n",
              "    padding: 0;\n",
              "    width: 32px;\n",
              "  }\n",
              "\n",
              "  .colab-df-quickchart:hover {\n",
              "    background-color: var(--hover-bg-color);\n",
              "    box-shadow: 0 1px 2px rgba(60, 64, 67, 0.3), 0 1px 3px 1px rgba(60, 64, 67, 0.15);\n",
              "    fill: var(--button-hover-fill-color);\n",
              "  }\n",
              "\n",
              "  .colab-df-quickchart-complete:disabled,\n",
              "  .colab-df-quickchart-complete:disabled:hover {\n",
              "    background-color: var(--disabled-bg-color);\n",
              "    fill: var(--disabled-fill-color);\n",
              "    box-shadow: none;\n",
              "  }\n",
              "\n",
              "  .colab-df-spinner {\n",
              "    border: 2px solid var(--fill-color);\n",
              "    border-color: transparent;\n",
              "    border-bottom-color: var(--fill-color);\n",
              "    animation:\n",
              "      spin 1s steps(1) infinite;\n",
              "  }\n",
              "\n",
              "  @keyframes spin {\n",
              "    0% {\n",
              "      border-color: transparent;\n",
              "      border-bottom-color: var(--fill-color);\n",
              "      border-left-color: var(--fill-color);\n",
              "    }\n",
              "    20% {\n",
              "      border-color: transparent;\n",
              "      border-left-color: var(--fill-color);\n",
              "      border-top-color: var(--fill-color);\n",
              "    }\n",
              "    30% {\n",
              "      border-color: transparent;\n",
              "      border-left-color: var(--fill-color);\n",
              "      border-top-color: var(--fill-color);\n",
              "      border-right-color: var(--fill-color);\n",
              "    }\n",
              "    40% {\n",
              "      border-color: transparent;\n",
              "      border-right-color: var(--fill-color);\n",
              "      border-top-color: var(--fill-color);\n",
              "    }\n",
              "    60% {\n",
              "      border-color: transparent;\n",
              "      border-right-color: var(--fill-color);\n",
              "    }\n",
              "    80% {\n",
              "      border-color: transparent;\n",
              "      border-right-color: var(--fill-color);\n",
              "      border-bottom-color: var(--fill-color);\n",
              "    }\n",
              "    90% {\n",
              "      border-color: transparent;\n",
              "      border-bottom-color: var(--fill-color);\n",
              "    }\n",
              "  }\n",
              "</style>\n",
              "\n",
              "  <script>\n",
              "    async function quickchart(key) {\n",
              "      const quickchartButtonEl =\n",
              "        document.querySelector('#' + key + ' button');\n",
              "      quickchartButtonEl.disabled = true;  // To prevent multiple clicks.\n",
              "      quickchartButtonEl.classList.add('colab-df-spinner');\n",
              "      try {\n",
              "        const charts = await google.colab.kernel.invokeFunction(\n",
              "            'suggestCharts', [key], {});\n",
              "      } catch (error) {\n",
              "        console.error('Error during call to suggestCharts:', error);\n",
              "      }\n",
              "      quickchartButtonEl.classList.remove('colab-df-spinner');\n",
              "      quickchartButtonEl.classList.add('colab-df-quickchart-complete');\n",
              "    }\n",
              "    (() => {\n",
              "      let quickchartButtonEl =\n",
              "        document.querySelector('#df-f9ca8b8e-af7b-4678-aec8-d662ae2d16ca button');\n",
              "      quickchartButtonEl.style.display =\n",
              "        google.colab.kernel.accessAllowed ? 'block' : 'none';\n",
              "    })();\n",
              "  </script>\n",
              "</div>\n",
              "\n",
              "  <div id=\"id_27bf77cc-4bdb-49f0-b742-b76efc7fe3c2\">\n",
              "    <style>\n",
              "      .colab-df-generate {\n",
              "        background-color: #E8F0FE;\n",
              "        border: none;\n",
              "        border-radius: 50%;\n",
              "        cursor: pointer;\n",
              "        display: none;\n",
              "        fill: #1967D2;\n",
              "        height: 32px;\n",
              "        padding: 0 0 0 0;\n",
              "        width: 32px;\n",
              "      }\n",
              "\n",
              "      .colab-df-generate:hover {\n",
              "        background-color: #E2EBFA;\n",
              "        box-shadow: 0px 1px 2px rgba(60, 64, 67, 0.3), 0px 1px 3px 1px rgba(60, 64, 67, 0.15);\n",
              "        fill: #174EA6;\n",
              "      }\n",
              "\n",
              "      [theme=dark] .colab-df-generate {\n",
              "        background-color: #3B4455;\n",
              "        fill: #D2E3FC;\n",
              "      }\n",
              "\n",
              "      [theme=dark] .colab-df-generate:hover {\n",
              "        background-color: #434B5C;\n",
              "        box-shadow: 0px 1px 3px 1px rgba(0, 0, 0, 0.15);\n",
              "        filter: drop-shadow(0px 1px 2px rgba(0, 0, 0, 0.3));\n",
              "        fill: #FFFFFF;\n",
              "      }\n",
              "    </style>\n",
              "    <button class=\"colab-df-generate\" onclick=\"generateWithVariable('dataset')\"\n",
              "            title=\"Generate code using this dataframe.\"\n",
              "            style=\"display:none;\">\n",
              "\n",
              "  <svg xmlns=\"http://www.w3.org/2000/svg\" height=\"24px\"viewBox=\"0 0 24 24\"\n",
              "       width=\"24px\">\n",
              "    <path d=\"M7,19H8.4L18.45,9,17,7.55,7,17.6ZM5,21V16.75L18.45,3.32a2,2,0,0,1,2.83,0l1.4,1.43a1.91,1.91,0,0,1,.58,1.4,1.91,1.91,0,0,1-.58,1.4L9.25,21ZM18.45,9,17,7.55Zm-12,3A5.31,5.31,0,0,0,4.9,8.1,5.31,5.31,0,0,0,1,6.5,5.31,5.31,0,0,0,4.9,4.9,5.31,5.31,0,0,0,6.5,1,5.31,5.31,0,0,0,8.1,4.9,5.31,5.31,0,0,0,12,6.5,5.46,5.46,0,0,0,6.5,12Z\"/>\n",
              "  </svg>\n",
              "    </button>\n",
              "    <script>\n",
              "      (() => {\n",
              "      const buttonEl =\n",
              "        document.querySelector('#id_27bf77cc-4bdb-49f0-b742-b76efc7fe3c2 button.colab-df-generate');\n",
              "      buttonEl.style.display =\n",
              "        google.colab.kernel.accessAllowed ? 'block' : 'none';\n",
              "\n",
              "      buttonEl.onclick = () => {\n",
              "        google.colab.notebook.generateWithVariable('dataset');\n",
              "      }\n",
              "      })();\n",
              "    </script>\n",
              "  </div>\n",
              "\n",
              "    </div>\n",
              "  </div>\n"
            ],
            "application/vnd.google.colaboratory.intrinsic+json": {
              "type": "dataframe",
              "variable_name": "dataset"
            }
          },
          "metadata": {},
          "execution_count": 142
        }
      ],
      "source": [
        "# Display the DataFrame 'dataset'\n",
        "# This will print the first and last 5 rows of the DataFrame along with the column names and index\n",
        "# Useful for a quick overview of the data after processing\n",
        "dataset"
      ]
    },
    {
      "cell_type": "markdown",
      "metadata": {
        "id": "DKXnH87j8Hmb"
      },
      "source": [
        "**Encode the labels**\n",
        "\n"
      ]
    },
    {
      "cell_type": "code",
      "execution_count": 143,
      "metadata": {
        "id": "s_m3q3r18K1V"
      },
      "outputs": [],
      "source": [
        "# Initialize the LabelEncoder\n",
        "label_encoder = LabelEncoder()\n",
        "\n",
        "# Fit the LabelEncoder to the 'Assignee' column and transform it to numeric labels\n",
        "# This step converts categorical labels in the 'Assignee' column to numeric labels,\n",
        "# which is necessary for training machine learning models.\n",
        "dataset['Assignee_Class'] = label_encoder.fit_transform(dataset['Assignee'])\n",
        "\n",
        "# The LabelEncoder in scikit-learn assigns numeric labels to the unique categories in alphabetical order\n",
        "# (or lexicographical order for strings).\n",
        "# This means that the first unique category in alphabetical order is labeled as 0, the second as 1, and so on."
      ]
    },
    {
      "cell_type": "code",
      "execution_count": 144,
      "metadata": {
        "colab": {
          "base_uri": "https://localhost:8080/",
          "height": 423
        },
        "id": "71-lnHG58VQN",
        "outputId": "05d8fb54-ee39-4b2f-ecf8-89a39083c882"
      },
      "outputs": [
        {
          "output_type": "execute_result",
          "data": {
            "text/plain": [
              "                                          Summary_Stemmed  \\\n",
              "0       ['scroll', 'scroll', 'mice', 'touchpad', 'etc'...   \n",
              "1       ['add', 'check', 'item', 'download', 'panel', ...   \n",
              "2       ['useafterfre', 'navig', 'document', 'form', '...   \n",
              "3       ['add', 'address', 'properli', 'autofil', 'opt...   \n",
              "4       ['libxmlgyp', 'defin', 'libxmlstat', 'direct',...   \n",
              "...                                                   ...   \n",
              "117376  ['updat', 'gleanj', 'dashboard', 'ignor', 'gle...   \n",
              "117377  ['autocomplet', 'type', 'valid', 'valu', 'pass...   \n",
              "117378  ['intermitt', 'slow', 'see', 'ping', 'show', '...   \n",
              "117379  ['investig', 'string', 'metric', 'type', 'adeq...   \n",
              "117380  ['remov', 'manual', 'page', 'load', 'event', '...   \n",
              "\n",
              "                                        processed_summary  \\\n",
              "0                  scroll scroll mice touchpad etc scroll   \n",
              "1              add check item download panel browser test   \n",
              "2       useafterfre navig document form valid messag s...   \n",
              "3          add address properli autofil option dialog box   \n",
              "4                libxmlgyp defin libxmlstat direct depend   \n",
              "...                                                   ...   \n",
              "117376    updat gleanj dashboard ignor glean sdk data vpn   \n",
              "117377            autocomplet type valid valu pass record   \n",
              "117378     intermitt slow see ping show debug ping viewer   \n",
              "117379  investig string metric type adequ captur gfxad...   \n",
              "117380  remov manual page load event glean debug ping ...   \n",
              "\n",
              "                    Assignee  Assignee_Class  \n",
              "0          amit@chromium.org             124  \n",
              "1       achuith@chromium.org              52  \n",
              "2         tkent@chromium.org            2118  \n",
              "3           sky@chromium.org            1972  \n",
              "4           wtc@chromium.org            2282  \n",
              "...                      ...             ...  \n",
              "117376                 brosa             278  \n",
              "117377                 brosa             278  \n",
              "117378                 brosa             278  \n",
              "117379              pmcmanis            1685  \n",
              "117380                 brosa             278  \n",
              "\n",
              "[117381 rows x 4 columns]"
            ],
            "text/html": [
              "\n",
              "  <div id=\"df-cc1cb675-aa08-48af-aeca-284d9378ab46\" class=\"colab-df-container\">\n",
              "    <div>\n",
              "<style scoped>\n",
              "    .dataframe tbody tr th:only-of-type {\n",
              "        vertical-align: middle;\n",
              "    }\n",
              "\n",
              "    .dataframe tbody tr th {\n",
              "        vertical-align: top;\n",
              "    }\n",
              "\n",
              "    .dataframe thead th {\n",
              "        text-align: right;\n",
              "    }\n",
              "</style>\n",
              "<table border=\"1\" class=\"dataframe\">\n",
              "  <thead>\n",
              "    <tr style=\"text-align: right;\">\n",
              "      <th></th>\n",
              "      <th>Summary_Stemmed</th>\n",
              "      <th>processed_summary</th>\n",
              "      <th>Assignee</th>\n",
              "      <th>Assignee_Class</th>\n",
              "    </tr>\n",
              "  </thead>\n",
              "  <tbody>\n",
              "    <tr>\n",
              "      <th>0</th>\n",
              "      <td>['scroll', 'scroll', 'mice', 'touchpad', 'etc'...</td>\n",
              "      <td>scroll scroll mice touchpad etc scroll</td>\n",
              "      <td>amit@chromium.org</td>\n",
              "      <td>124</td>\n",
              "    </tr>\n",
              "    <tr>\n",
              "      <th>1</th>\n",
              "      <td>['add', 'check', 'item', 'download', 'panel', ...</td>\n",
              "      <td>add check item download panel browser test</td>\n",
              "      <td>achuith@chromium.org</td>\n",
              "      <td>52</td>\n",
              "    </tr>\n",
              "    <tr>\n",
              "      <th>2</th>\n",
              "      <td>['useafterfre', 'navig', 'document', 'form', '...</td>\n",
              "      <td>useafterfre navig document form valid messag s...</td>\n",
              "      <td>tkent@chromium.org</td>\n",
              "      <td>2118</td>\n",
              "    </tr>\n",
              "    <tr>\n",
              "      <th>3</th>\n",
              "      <td>['add', 'address', 'properli', 'autofil', 'opt...</td>\n",
              "      <td>add address properli autofil option dialog box</td>\n",
              "      <td>sky@chromium.org</td>\n",
              "      <td>1972</td>\n",
              "    </tr>\n",
              "    <tr>\n",
              "      <th>4</th>\n",
              "      <td>['libxmlgyp', 'defin', 'libxmlstat', 'direct',...</td>\n",
              "      <td>libxmlgyp defin libxmlstat direct depend</td>\n",
              "      <td>wtc@chromium.org</td>\n",
              "      <td>2282</td>\n",
              "    </tr>\n",
              "    <tr>\n",
              "      <th>...</th>\n",
              "      <td>...</td>\n",
              "      <td>...</td>\n",
              "      <td>...</td>\n",
              "      <td>...</td>\n",
              "    </tr>\n",
              "    <tr>\n",
              "      <th>117376</th>\n",
              "      <td>['updat', 'gleanj', 'dashboard', 'ignor', 'gle...</td>\n",
              "      <td>updat gleanj dashboard ignor glean sdk data vpn</td>\n",
              "      <td>brosa</td>\n",
              "      <td>278</td>\n",
              "    </tr>\n",
              "    <tr>\n",
              "      <th>117377</th>\n",
              "      <td>['autocomplet', 'type', 'valid', 'valu', 'pass...</td>\n",
              "      <td>autocomplet type valid valu pass record</td>\n",
              "      <td>brosa</td>\n",
              "      <td>278</td>\n",
              "    </tr>\n",
              "    <tr>\n",
              "      <th>117378</th>\n",
              "      <td>['intermitt', 'slow', 'see', 'ping', 'show', '...</td>\n",
              "      <td>intermitt slow see ping show debug ping viewer</td>\n",
              "      <td>brosa</td>\n",
              "      <td>278</td>\n",
              "    </tr>\n",
              "    <tr>\n",
              "      <th>117379</th>\n",
              "      <td>['investig', 'string', 'metric', 'type', 'adeq...</td>\n",
              "      <td>investig string metric type adequ captur gfxad...</td>\n",
              "      <td>pmcmanis</td>\n",
              "      <td>1685</td>\n",
              "    </tr>\n",
              "    <tr>\n",
              "      <th>117380</th>\n",
              "      <td>['remov', 'manual', 'page', 'load', 'event', '...</td>\n",
              "      <td>remov manual page load event glean debug ping ...</td>\n",
              "      <td>brosa</td>\n",
              "      <td>278</td>\n",
              "    </tr>\n",
              "  </tbody>\n",
              "</table>\n",
              "<p>117381 rows × 4 columns</p>\n",
              "</div>\n",
              "    <div class=\"colab-df-buttons\">\n",
              "\n",
              "  <div class=\"colab-df-container\">\n",
              "    <button class=\"colab-df-convert\" onclick=\"convertToInteractive('df-cc1cb675-aa08-48af-aeca-284d9378ab46')\"\n",
              "            title=\"Convert this dataframe to an interactive table.\"\n",
              "            style=\"display:none;\">\n",
              "\n",
              "  <svg xmlns=\"http://www.w3.org/2000/svg\" height=\"24px\" viewBox=\"0 -960 960 960\">\n",
              "    <path d=\"M120-120v-720h720v720H120Zm60-500h600v-160H180v160Zm220 220h160v-160H400v160Zm0 220h160v-160H400v160ZM180-400h160v-160H180v160Zm440 0h160v-160H620v160ZM180-180h160v-160H180v160Zm440 0h160v-160H620v160Z\"/>\n",
              "  </svg>\n",
              "    </button>\n",
              "\n",
              "  <style>\n",
              "    .colab-df-container {\n",
              "      display:flex;\n",
              "      gap: 12px;\n",
              "    }\n",
              "\n",
              "    .colab-df-convert {\n",
              "      background-color: #E8F0FE;\n",
              "      border: none;\n",
              "      border-radius: 50%;\n",
              "      cursor: pointer;\n",
              "      display: none;\n",
              "      fill: #1967D2;\n",
              "      height: 32px;\n",
              "      padding: 0 0 0 0;\n",
              "      width: 32px;\n",
              "    }\n",
              "\n",
              "    .colab-df-convert:hover {\n",
              "      background-color: #E2EBFA;\n",
              "      box-shadow: 0px 1px 2px rgba(60, 64, 67, 0.3), 0px 1px 3px 1px rgba(60, 64, 67, 0.15);\n",
              "      fill: #174EA6;\n",
              "    }\n",
              "\n",
              "    .colab-df-buttons div {\n",
              "      margin-bottom: 4px;\n",
              "    }\n",
              "\n",
              "    [theme=dark] .colab-df-convert {\n",
              "      background-color: #3B4455;\n",
              "      fill: #D2E3FC;\n",
              "    }\n",
              "\n",
              "    [theme=dark] .colab-df-convert:hover {\n",
              "      background-color: #434B5C;\n",
              "      box-shadow: 0px 1px 3px 1px rgba(0, 0, 0, 0.15);\n",
              "      filter: drop-shadow(0px 1px 2px rgba(0, 0, 0, 0.3));\n",
              "      fill: #FFFFFF;\n",
              "    }\n",
              "  </style>\n",
              "\n",
              "    <script>\n",
              "      const buttonEl =\n",
              "        document.querySelector('#df-cc1cb675-aa08-48af-aeca-284d9378ab46 button.colab-df-convert');\n",
              "      buttonEl.style.display =\n",
              "        google.colab.kernel.accessAllowed ? 'block' : 'none';\n",
              "\n",
              "      async function convertToInteractive(key) {\n",
              "        const element = document.querySelector('#df-cc1cb675-aa08-48af-aeca-284d9378ab46');\n",
              "        const dataTable =\n",
              "          await google.colab.kernel.invokeFunction('convertToInteractive',\n",
              "                                                    [key], {});\n",
              "        if (!dataTable) return;\n",
              "\n",
              "        const docLinkHtml = 'Like what you see? Visit the ' +\n",
              "          '<a target=\"_blank\" href=https://colab.research.google.com/notebooks/data_table.ipynb>data table notebook</a>'\n",
              "          + ' to learn more about interactive tables.';\n",
              "        element.innerHTML = '';\n",
              "        dataTable['output_type'] = 'display_data';\n",
              "        await google.colab.output.renderOutput(dataTable, element);\n",
              "        const docLink = document.createElement('div');\n",
              "        docLink.innerHTML = docLinkHtml;\n",
              "        element.appendChild(docLink);\n",
              "      }\n",
              "    </script>\n",
              "  </div>\n",
              "\n",
              "\n",
              "<div id=\"df-8b2a63e5-6975-4882-8bb5-c59e1e2fff74\">\n",
              "  <button class=\"colab-df-quickchart\" onclick=\"quickchart('df-8b2a63e5-6975-4882-8bb5-c59e1e2fff74')\"\n",
              "            title=\"Suggest charts\"\n",
              "            style=\"display:none;\">\n",
              "\n",
              "<svg xmlns=\"http://www.w3.org/2000/svg\" height=\"24px\"viewBox=\"0 0 24 24\"\n",
              "     width=\"24px\">\n",
              "    <g>\n",
              "        <path d=\"M19 3H5c-1.1 0-2 .9-2 2v14c0 1.1.9 2 2 2h14c1.1 0 2-.9 2-2V5c0-1.1-.9-2-2-2zM9 17H7v-7h2v7zm4 0h-2V7h2v10zm4 0h-2v-4h2v4z\"/>\n",
              "    </g>\n",
              "</svg>\n",
              "  </button>\n",
              "\n",
              "<style>\n",
              "  .colab-df-quickchart {\n",
              "      --bg-color: #E8F0FE;\n",
              "      --fill-color: #1967D2;\n",
              "      --hover-bg-color: #E2EBFA;\n",
              "      --hover-fill-color: #174EA6;\n",
              "      --disabled-fill-color: #AAA;\n",
              "      --disabled-bg-color: #DDD;\n",
              "  }\n",
              "\n",
              "  [theme=dark] .colab-df-quickchart {\n",
              "      --bg-color: #3B4455;\n",
              "      --fill-color: #D2E3FC;\n",
              "      --hover-bg-color: #434B5C;\n",
              "      --hover-fill-color: #FFFFFF;\n",
              "      --disabled-bg-color: #3B4455;\n",
              "      --disabled-fill-color: #666;\n",
              "  }\n",
              "\n",
              "  .colab-df-quickchart {\n",
              "    background-color: var(--bg-color);\n",
              "    border: none;\n",
              "    border-radius: 50%;\n",
              "    cursor: pointer;\n",
              "    display: none;\n",
              "    fill: var(--fill-color);\n",
              "    height: 32px;\n",
              "    padding: 0;\n",
              "    width: 32px;\n",
              "  }\n",
              "\n",
              "  .colab-df-quickchart:hover {\n",
              "    background-color: var(--hover-bg-color);\n",
              "    box-shadow: 0 1px 2px rgba(60, 64, 67, 0.3), 0 1px 3px 1px rgba(60, 64, 67, 0.15);\n",
              "    fill: var(--button-hover-fill-color);\n",
              "  }\n",
              "\n",
              "  .colab-df-quickchart-complete:disabled,\n",
              "  .colab-df-quickchart-complete:disabled:hover {\n",
              "    background-color: var(--disabled-bg-color);\n",
              "    fill: var(--disabled-fill-color);\n",
              "    box-shadow: none;\n",
              "  }\n",
              "\n",
              "  .colab-df-spinner {\n",
              "    border: 2px solid var(--fill-color);\n",
              "    border-color: transparent;\n",
              "    border-bottom-color: var(--fill-color);\n",
              "    animation:\n",
              "      spin 1s steps(1) infinite;\n",
              "  }\n",
              "\n",
              "  @keyframes spin {\n",
              "    0% {\n",
              "      border-color: transparent;\n",
              "      border-bottom-color: var(--fill-color);\n",
              "      border-left-color: var(--fill-color);\n",
              "    }\n",
              "    20% {\n",
              "      border-color: transparent;\n",
              "      border-left-color: var(--fill-color);\n",
              "      border-top-color: var(--fill-color);\n",
              "    }\n",
              "    30% {\n",
              "      border-color: transparent;\n",
              "      border-left-color: var(--fill-color);\n",
              "      border-top-color: var(--fill-color);\n",
              "      border-right-color: var(--fill-color);\n",
              "    }\n",
              "    40% {\n",
              "      border-color: transparent;\n",
              "      border-right-color: var(--fill-color);\n",
              "      border-top-color: var(--fill-color);\n",
              "    }\n",
              "    60% {\n",
              "      border-color: transparent;\n",
              "      border-right-color: var(--fill-color);\n",
              "    }\n",
              "    80% {\n",
              "      border-color: transparent;\n",
              "      border-right-color: var(--fill-color);\n",
              "      border-bottom-color: var(--fill-color);\n",
              "    }\n",
              "    90% {\n",
              "      border-color: transparent;\n",
              "      border-bottom-color: var(--fill-color);\n",
              "    }\n",
              "  }\n",
              "</style>\n",
              "\n",
              "  <script>\n",
              "    async function quickchart(key) {\n",
              "      const quickchartButtonEl =\n",
              "        document.querySelector('#' + key + ' button');\n",
              "      quickchartButtonEl.disabled = true;  // To prevent multiple clicks.\n",
              "      quickchartButtonEl.classList.add('colab-df-spinner');\n",
              "      try {\n",
              "        const charts = await google.colab.kernel.invokeFunction(\n",
              "            'suggestCharts', [key], {});\n",
              "      } catch (error) {\n",
              "        console.error('Error during call to suggestCharts:', error);\n",
              "      }\n",
              "      quickchartButtonEl.classList.remove('colab-df-spinner');\n",
              "      quickchartButtonEl.classList.add('colab-df-quickchart-complete');\n",
              "    }\n",
              "    (() => {\n",
              "      let quickchartButtonEl =\n",
              "        document.querySelector('#df-8b2a63e5-6975-4882-8bb5-c59e1e2fff74 button');\n",
              "      quickchartButtonEl.style.display =\n",
              "        google.colab.kernel.accessAllowed ? 'block' : 'none';\n",
              "    })();\n",
              "  </script>\n",
              "</div>\n",
              "\n",
              "  <div id=\"id_8339521e-a089-4678-a7fa-0527c952cb59\">\n",
              "    <style>\n",
              "      .colab-df-generate {\n",
              "        background-color: #E8F0FE;\n",
              "        border: none;\n",
              "        border-radius: 50%;\n",
              "        cursor: pointer;\n",
              "        display: none;\n",
              "        fill: #1967D2;\n",
              "        height: 32px;\n",
              "        padding: 0 0 0 0;\n",
              "        width: 32px;\n",
              "      }\n",
              "\n",
              "      .colab-df-generate:hover {\n",
              "        background-color: #E2EBFA;\n",
              "        box-shadow: 0px 1px 2px rgba(60, 64, 67, 0.3), 0px 1px 3px 1px rgba(60, 64, 67, 0.15);\n",
              "        fill: #174EA6;\n",
              "      }\n",
              "\n",
              "      [theme=dark] .colab-df-generate {\n",
              "        background-color: #3B4455;\n",
              "        fill: #D2E3FC;\n",
              "      }\n",
              "\n",
              "      [theme=dark] .colab-df-generate:hover {\n",
              "        background-color: #434B5C;\n",
              "        box-shadow: 0px 1px 3px 1px rgba(0, 0, 0, 0.15);\n",
              "        filter: drop-shadow(0px 1px 2px rgba(0, 0, 0, 0.3));\n",
              "        fill: #FFFFFF;\n",
              "      }\n",
              "    </style>\n",
              "    <button class=\"colab-df-generate\" onclick=\"generateWithVariable('dataset')\"\n",
              "            title=\"Generate code using this dataframe.\"\n",
              "            style=\"display:none;\">\n",
              "\n",
              "  <svg xmlns=\"http://www.w3.org/2000/svg\" height=\"24px\"viewBox=\"0 0 24 24\"\n",
              "       width=\"24px\">\n",
              "    <path d=\"M7,19H8.4L18.45,9,17,7.55,7,17.6ZM5,21V16.75L18.45,3.32a2,2,0,0,1,2.83,0l1.4,1.43a1.91,1.91,0,0,1,.58,1.4,1.91,1.91,0,0,1-.58,1.4L9.25,21ZM18.45,9,17,7.55Zm-12,3A5.31,5.31,0,0,0,4.9,8.1,5.31,5.31,0,0,0,1,6.5,5.31,5.31,0,0,0,4.9,4.9,5.31,5.31,0,0,0,6.5,1,5.31,5.31,0,0,0,8.1,4.9,5.31,5.31,0,0,0,12,6.5,5.46,5.46,0,0,0,6.5,12Z\"/>\n",
              "  </svg>\n",
              "    </button>\n",
              "    <script>\n",
              "      (() => {\n",
              "      const buttonEl =\n",
              "        document.querySelector('#id_8339521e-a089-4678-a7fa-0527c952cb59 button.colab-df-generate');\n",
              "      buttonEl.style.display =\n",
              "        google.colab.kernel.accessAllowed ? 'block' : 'none';\n",
              "\n",
              "      buttonEl.onclick = () => {\n",
              "        google.colab.notebook.generateWithVariable('dataset');\n",
              "      }\n",
              "      })();\n",
              "    </script>\n",
              "  </div>\n",
              "\n",
              "    </div>\n",
              "  </div>\n"
            ],
            "application/vnd.google.colaboratory.intrinsic+json": {
              "type": "dataframe",
              "variable_name": "dataset"
            }
          },
          "metadata": {},
          "execution_count": 144
        }
      ],
      "source": [
        "# Display the DataFrame 'dataset'\n",
        "# This will print the first and last 5 rows of the DataFrame along with the column names and index\n",
        "# Useful for a quick overview of the data after labeling\n",
        "dataset"
      ]
    },
    {
      "cell_type": "code",
      "source": [
        "dataset= dataset[dataset['Assignee_Class']<20]"
      ],
      "metadata": {
        "id": "wwrJdn_E76f1"
      },
      "execution_count": 145,
      "outputs": []
    },
    {
      "cell_type": "code",
      "execution_count": 146,
      "metadata": {
        "colab": {
          "base_uri": "https://localhost:8080/"
        },
        "id": "AFY1Micb98uu",
        "outputId": "53d9db2e-a929-47fa-bb3c-af6610c65c8d"
      },
      "outputs": [
        {
          "output_type": "execute_result",
          "data": {
            "text/plain": [
              "Summary_Stemmed      2747\n",
              "processed_summary    2747\n",
              "Assignee               20\n",
              "Assignee_Class         20\n",
              "dtype: int64"
            ]
          },
          "metadata": {},
          "execution_count": 146
        }
      ],
      "source": [
        "# Display the number of unique values in each column of the dataset\n",
        "dataset.nunique()"
      ]
    },
    {
      "cell_type": "code",
      "execution_count": 147,
      "metadata": {
        "colab": {
          "base_uri": "https://localhost:8080/"
        },
        "id": "9OkGo3er2ikC",
        "outputId": "12fcf7a5-7fc0-42fb-d6db-80e93ca9df3b"
      },
      "outputs": [
        {
          "output_type": "stream",
          "name": "stdout",
          "text": [
            "(2748, 4)\n",
            "Assignee_Class\n",
            "11    779\n",
            "0     641\n",
            "19    560\n",
            "1     251\n",
            "16    115\n",
            "13    113\n",
            "8      80\n",
            "5      42\n",
            "4      40\n",
            "7      31\n",
            "17     24\n",
            "18     15\n",
            "12     13\n",
            "15      9\n",
            "6       7\n",
            "3       7\n",
            "10      6\n",
            "14      5\n",
            "2       5\n",
            "9       5\n",
            "Name: count, dtype: int64\n"
          ]
        }
      ],
      "source": [
        "# Print the shape of the dataset\n",
        "print(dataset.shape)\n",
        "# This line prints the shape of the dataset, which includes the number of rows and columns.\n",
        "# It helps to understand the dimensions of the dataset.\n",
        "\n",
        "# Print the class distribution of 'Assignee_Class'\n",
        "print(dataset['Assignee_Class'].value_counts())\n",
        "# This line prints the count of each unique value in the 'Assignee_Class' column.\n",
        "# It provides insight into the distribution of classes, which is useful for understanding class imbalance."
      ]
    },
    {
      "cell_type": "markdown",
      "metadata": {
        "id": "XtcqOEoI6Nd2"
      },
      "source": [
        "**Split the dataset**"
      ]
    },
    {
      "cell_type": "code",
      "execution_count": 148,
      "metadata": {
        "id": "xNWFW87T2r_-"
      },
      "outputs": [],
      "source": [
        "# Create the StratifiedShuffleSplit object\n",
        "sss = StratifiedShuffleSplit(n_splits=1, test_size=0.2, random_state=42)\n",
        "\n",
        "# This line creates a StratifiedShuffleSplit object with the following parameters:\n",
        "# - n_splits=1: Specifies that there will be only one split.\n",
        "# - test_size=0.2: Indicates that 20% of the dataset will be used as the test set.\n",
        "# - random_state=42: Ensures reproducibility by using a fixed seed for the random number generator.\n",
        "\n",
        "# Split the dataset into train and test sets\n",
        "train_idx, test_idx = next(sss.split(dataset, dataset['Assignee_Class']))\n",
        "\n",
        "# This line performs the split based on the 'Assignee_Class' column to ensure that the train and test sets\n",
        "# have a similar class distribution. 'sss.split' returns the indices of the train and test samples.\n",
        "\n",
        "# Create the training DataFrame\n",
        "train_df = dataset.iloc[train_idx].reset_index(drop=True)\n",
        "\n",
        "# This line creates a training DataFrame using the indices obtained from the split.\n",
        "# 'iloc' is used to select the rows corresponding to the train indices.\n",
        "# 'reset_index(drop=True)' resets the index of the training DataFrame.\n",
        "\n",
        "# Create the test DataFrame\n",
        "test_df = dataset.iloc[test_idx].reset_index(drop=True)\n",
        "\n",
        "# This line creates a test DataFrame using the indices obtained from the split.\n",
        "# 'iloc' is used to select the rows corresponding to the test indices.\n",
        "# 'reset_index(drop=True)' resets the index of the test DataFrame."
      ]
    },
    {
      "cell_type": "code",
      "execution_count": 149,
      "metadata": {
        "id": "__r_SW452wQ3"
      },
      "outputs": [],
      "source": [
        "# Create another StratifiedShuffleSplit object for the train-validation split\n",
        "sss_val = StratifiedShuffleSplit(n_splits=1, test_size=0.2, random_state=42)\n",
        "\n",
        "# This line creates a new StratifiedShuffleSplit object specifically for splitting the initial training set\n",
        "# into train and validation sets with the following parameters:\n",
        "# - n_splits=1: Specifies that there will be only one split.\n",
        "# - test_size=0.2: Indicates that 20% of the training set will be used as the validation set.\n",
        "# - random_state=42: Ensures reproducibility by using a fixed seed for the random number generator.\n",
        "\n",
        "# Split the initial train set into train and validation sets\n",
        "for train_idx, val_idx in sss_val.split(train_df, train_df['Assignee_Class']):\n",
        "    final_train_df = train_df.iloc[train_idx].reset_index(drop=True)\n",
        "    val_df = train_df.iloc[val_idx].reset_index(drop=True)\n",
        "\n",
        "# This loop performs the split based on the 'Assignee_Class' column to ensure that the train and validation sets\n",
        "# have a similar class distribution. 'sss_val.split' returns the indices of the train and validation samples.\n",
        "\n",
        "# Create the final training DataFrame\n",
        "final_train_df = train_df.iloc[train_idx].reset_index(drop=True)\n",
        "\n",
        "# This line creates a final training DataFrame using the indices obtained from the split.\n",
        "# 'iloc' is used to select the rows corresponding to the train indices.\n",
        "# 'reset_index(drop=True)' resets the index of the final training DataFrame.\n",
        "\n",
        "# Create the validation DataFrame\n",
        "val_df = train_df.iloc[val_idx].reset_index(drop=True)\n",
        "\n",
        "# This line creates a validation DataFrame using the indices obtained from the split.\n",
        "# 'iloc' is used to select the rows corresponding to the validation indices.\n",
        "# 'reset_index(drop=True)' resets the index of the validation DataFrame."
      ]
    },
    {
      "cell_type": "code",
      "execution_count": 150,
      "metadata": {
        "colab": {
          "base_uri": "https://localhost:8080/"
        },
        "id": "2dZqKl4vQyR4",
        "outputId": "c61abc52-8646-4d92-bf82-de5a2d9074c4"
      },
      "outputs": [
        {
          "output_type": "stream",
          "name": "stdout",
          "text": [
            "(1758, 4)\n",
            "(440, 4)\n",
            "(550, 4)\n"
          ]
        }
      ],
      "source": [
        "# Output the shapes of hathe resulting DataFrames\n",
        "print(final_train_df.shape)\n",
        "print(val_df.shape)\n",
        "print(test_df.shape)"
      ]
    },
    {
      "cell_type": "code",
      "execution_count": 151,
      "metadata": {
        "id": "e7wSnTmm28lY"
      },
      "outputs": [],
      "source": [
        "# Separate features (X) and labels (y) for train, validation, and test sets\n",
        "X_train, y_train = final_train_df['processed_summary'], final_train_df['Assignee_Class']\n",
        "X_val, y_val = val_df['processed_summary'], val_df['Assignee_Class']\n",
        "X_test, y_test = test_df['processed_summary'], test_df['Assignee_Class']"
      ]
    },
    {
      "cell_type": "markdown",
      "metadata": {
        "id": "kc04vMX7-RrB"
      },
      "source": [
        "**Apply TF-IDF Transformation**"
      ]
    },
    {
      "cell_type": "code",
      "execution_count": 152,
      "metadata": {
        "id": "U3PsBg22-TTW",
        "colab": {
          "base_uri": "https://localhost:8080/",
          "height": 54
        },
        "outputId": "f795bd0d-b61f-4614-f455-33657a6fbaad"
      },
      "outputs": [
        {
          "output_type": "execute_result",
          "data": {
            "text/plain": [
              "'\\nPurpose:\\n- Transforms the test data using the same TF-IDF vectorizer fitted on the training data.\\n\\nOutputs:\\n- X_test_tfidf: TF-IDF matrix for test data using the fitted TF-IDF vectorizer.\\n'"
            ],
            "application/vnd.google.colaboratory.intrinsic+json": {
              "type": "string"
            }
          },
          "metadata": {},
          "execution_count": 152
        }
      ],
      "source": [
        "# Initialize the TF-IDF vectorizer with n-gram range (1, 2)\n",
        "tfidf_vectorizer = TfidfVectorizer(ngram_range=(1, 2))\n",
        "\n",
        "# Fit and transform the training data\n",
        "X_train_tfidf = tfidf_vectorizer.fit_transform(X_train)\n",
        "\"\"\"\n",
        "Purpose:\n",
        "- Initializes a TF-IDF vectorizer object with a specified n-gram range (1, 2).\n",
        "- Fits the vectorizer on the training data and transforms it into a TF-IDF matrix.\n",
        "\n",
        "Parameters:\n",
        "- ngram_range=(1, 2): Specifies to extract unigrams and bigrams.\n",
        "\n",
        "Outputs:\n",
        "- X_train_tfidf: TF-IDF matrix for training data where rows are documents and columns are TF-IDF features.\n",
        "\"\"\"\n",
        "\n",
        "# Transform the validation data\n",
        "X_val_tfidf = tfidf_vectorizer.transform(X_val)\n",
        "\"\"\"\n",
        "Purpose:\n",
        "- Transforms the validation data using the same TF-IDF vectorizer fitted on the training data.\n",
        "\n",
        "Outputs:\n",
        "- X_val_tfidf: TF-IDF matrix for validation data using the fitted TF-IDF vectorizer.\n",
        "\"\"\"\n",
        "\n",
        "# Transform the test data\n",
        "X_test_tfidf = tfidf_vectorizer.transform(X_test)\n",
        "\"\"\"\n",
        "Purpose:\n",
        "- Transforms the test data using the same TF-IDF vectorizer fitted on the training data.\n",
        "\n",
        "Outputs:\n",
        "- X_test_tfidf: TF-IDF matrix for test data using the fitted TF-IDF vectorizer.\n",
        "\"\"\""
      ]
    },
    {
      "cell_type": "markdown",
      "metadata": {
        "id": "m0HoYLZGSt4b"
      },
      "source": [
        "**Apply SVD**"
      ]
    },
    {
      "cell_type": "code",
      "execution_count": null,
      "metadata": {
        "id": "Y47mSwwPSvvV"
      },
      "outputs": [],
      "source": [
        "# Apply SVD to reduce dimensionality\n",
        "svd = TruncatedSVD(n_components=1100, random_state=42)\n",
        "\"\"\"\n",
        "Purpose:\n",
        "- Initializes a TruncatedSVD object to reduce the dimensionality of the TF-IDF vectors.\n",
        "\n",
        "Parameters:\n",
        "- n_components=1100: Specifies the number of components (dimensions) to retain after dimensionality reduction.\n",
        "- random_state=42: Ensures reproducibility of results by fixing the random seed.\n",
        "\n",
        "Outputs:\n",
        "- svd: TruncatedSVD object configured with specified parameters.\n",
        "\"\"\"\n",
        "\n",
        "# Fit and transform the training data\n",
        "X_train_svd = svd.fit_transform(X_train_tfidf)\n",
        "\"\"\"\n",
        "Purpose:\n",
        "- Fits the TruncatedSVD model on the training TF-IDF data and transforms it to reduce dimensions.\n",
        "\n",
        "Outputs:\n",
        "- X_train_svd: Reduced-dimensional representation of the training TF-IDF data.\n",
        "\"\"\"\n",
        "\n",
        "# Transform the validation data\n",
        "X_val_svd = svd.transform(X_val_tfidf)\n",
        "\"\"\"\n",
        "Purpose:\n",
        "- Transforms the validation TF-IDF data using the fitted TruncatedSVD model.\n",
        "\n",
        "Outputs:\n",
        "- X_val_svd: Reduced-dimensional representation of the validation TF-IDF data using the fitted SVD.\n",
        "\"\"\"\n",
        "\n",
        "# Transform the test data\n",
        "X_test_svd = svd.transform(X_test_tfidf)\n",
        "\"\"\"\n",
        "Purpose:\n",
        "- Transforms the test TF-IDF data using the fitted TruncatedSVD model.\n",
        "\n",
        "Outputs:\n",
        "- X_test_svd: Reduced-dimensional representation of the test TF-IDF data using the fitted SVD.\n",
        "\"\"\""
      ]
    },
    {
      "cell_type": "markdown",
      "metadata": {
        "id": "rJhb-p-w-e88"
      },
      "source": [
        "**Train an SVM Classifier**"
      ]
    },
    {
      "cell_type": "code",
      "execution_count": 153,
      "metadata": {
        "colab": {
          "base_uri": "https://localhost:8080/",
          "height": 72
        },
        "id": "wR6HbMsQhlyy",
        "outputId": "1b8f9f81-a8ae-4f2a-ce34-7570cd04f6ab"
      },
      "outputs": [
        {
          "output_type": "execute_result",
          "data": {
            "text/plain": [
              "'\\nPurpose:\\n- Saves the trained SVM classifier model to a specified file location on Google Drive.\\n\\nParameters:\\n- svm_classifier: Trained SVM classifier object.\\n- model_filename: File path where the trained model will be saved.\\n\\nOutputs:\\n- Saved model file: Persists the trained SVM classifier to the specified file location.\\n'"
            ],
            "application/vnd.google.colaboratory.intrinsic+json": {
              "type": "string"
            }
          },
          "metadata": {},
          "execution_count": 153
        }
      ],
      "source": [
        "# Initialize the SVM classifier\n",
        "svm_classifier = SVC(C=10, kernel='linear', probability=True)\n",
        "\"\"\"\n",
        "Purpose:\n",
        "- Initializes a Support Vector Machine (SVM) classifier with the specified parameters.\n",
        "\n",
        "Parameters:\n",
        "- C=10: Penalty parameter C of the error term.\n",
        "- kernel='linear': Specifies the linear kernel for the SVM.\n",
        "- probability=True: Enables probability estimation, necessary for Platt scaling.\n",
        "\n",
        "Outputs:\n",
        "- svm_classifier: Initialized SVM classifier object configured with specified parameters.\n",
        "\"\"\"\n",
        "\n",
        "# Train the classifier on the TF-IDF transformed training data\n",
        "svm_classifier.fit(X_train_tfidf, y_train)\n",
        "\"\"\"\n",
        "Purpose:\n",
        "- Trains the SVM classifier on the TF-IDF transformed training data.\n",
        "\n",
        "Parameters:\n",
        "- X_train_tfidf: Training data features transformed into TF-IDF format.\n",
        "- y_train: Training data labels.\n",
        "\n",
        "Outputs:\n",
        "- Trained svm_classifier: SVM classifier fitted to the training data.\n",
        "\"\"\"\n",
        "\n",
        "# Save the trained model to Google Drive\n",
        "model_filename = '/content/drive/MyDrive/checkpoints/svm_classifier_model_with_probability.joblib'\n",
        "#joblib.dump(svm_classifier, model_filename)\n",
        "\"\"\"\n",
        "Purpose:\n",
        "- Saves the trained SVM classifier model to a specified file location on Google Drive.\n",
        "\n",
        "Parameters:\n",
        "- svm_classifier: Trained SVM classifier object.\n",
        "- model_filename: File path where the trained model will be saved.\n",
        "\n",
        "Outputs:\n",
        "- Saved model file: Persists the trained SVM classifier to the specified file location.\n",
        "\"\"\""
      ]
    },
    {
      "cell_type": "markdown",
      "metadata": {
        "id": "z82UJoqB-8LE"
      },
      "source": [
        "**Evaluate the Classifier on the Validation Set**"
      ]
    },
    {
      "cell_type": "code",
      "execution_count": 154,
      "metadata": {
        "colab": {
          "base_uri": "https://localhost:8080/",
          "height": 90
        },
        "id": "lTLhh3OlXXb4",
        "outputId": "54ed3651-2aeb-4a63-c243-688d29018bd8"
      },
      "outputs": [
        {
          "output_type": "stream",
          "name": "stdout",
          "text": [
            "Validation Accuracy: 0.7659090909090909\n"
          ]
        },
        {
          "output_type": "execute_result",
          "data": {
            "text/plain": [
              "'\\nPurpose:\\n- Computes the accuracy of the SVM classifier on the validation set.\\n\\nParameters:\\n- y_val: True class labels of the validation set.\\n- val_predictions: Predicted class labels obtained from the SVM classifier.\\n\\nOutputs:\\n- Prints the validation accuracy score.\\n'"
            ],
            "application/vnd.google.colaboratory.intrinsic+json": {
              "type": "string"
            }
          },
          "metadata": {},
          "execution_count": 154
        }
      ],
      "source": [
        "# Predict labels on the validation set\n",
        "val_predictions = svm_classifier.predict(X_val_tfidf)\n",
        "\"\"\"\n",
        "Purpose:\n",
        "- Predicts the class labels for the validation set using the trained SVM classifier.\n",
        "\n",
        "Parameters:\n",
        "- svm_classifier: Trained SVM classifier object.\n",
        "- X_val_tfidf: Validation set features transformed into TF-IDF format.\n",
        "\n",
        "Outputs:\n",
        "- val_predictions: Predicted class labels for the validation set.\n",
        "\"\"\"\n",
        "\n",
        "# Calculate accuracy on the validation set\n",
        "val_accuracy = accuracy_score(y_val, val_predictions)\n",
        "print(\"Validation Accuracy:\", val_accuracy)\n",
        "\"\"\"\n",
        "Purpose:\n",
        "- Computes the accuracy of the SVM classifier on the validation set.\n",
        "\n",
        "Parameters:\n",
        "- y_val: True class labels of the validation set.\n",
        "- val_predictions: Predicted class labels obtained from the SVM classifier.\n",
        "\n",
        "Outputs:\n",
        "- Prints the validation accuracy score.\n",
        "\"\"\""
      ]
    },
    {
      "cell_type": "code",
      "execution_count": 55,
      "metadata": {
        "id": "X48deClM-Eao",
        "colab": {
          "base_uri": "https://localhost:8080/",
          "height": 72
        },
        "outputId": "6f46f655-2893-4154-a777-76b2292cc80c"
      },
      "outputs": [
        {
          "output_type": "execute_result",
          "data": {
            "text/plain": [
              "'\\nPurpose:\\n- Loads a pre-trained SVM classifier model from a specified file.\\n\\nParameters:\\n- model_filename: File path where the SVM classifier model is stored.\\n\\nOutputs:\\n- svm_classifier: Loaded SVM classifier object ready for inference.\\n'"
            ],
            "application/vnd.google.colaboratory.intrinsic+json": {
              "type": "string"
            }
          },
          "metadata": {},
          "execution_count": 55
        }
      ],
      "source": [
        "# Load the model from Google Drive\n",
        "model_filename = '/content/drive/MyDrive/checkpoints/svm_classifier_model_with_probability.joblib'\n",
        "svm_classifier = joblib.load(model_filename)\n",
        "\"\"\"\n",
        "Purpose:\n",
        "- Loads a pre-trained SVM classifier model from a specified file.\n",
        "\n",
        "Parameters:\n",
        "- model_filename: File path where the SVM classifier model is stored.\n",
        "\n",
        "Outputs:\n",
        "- svm_classifier: Loaded SVM classifier object ready for inference.\n",
        "\"\"\""
      ]
    },
    {
      "cell_type": "code",
      "execution_count": 155,
      "metadata": {
        "id": "vonsx4tM-FIN",
        "colab": {
          "base_uri": "https://localhost:8080/",
          "height": 90
        },
        "outputId": "28343096-5255-4e88-f015-0c8676f2fcbe"
      },
      "outputs": [
        {
          "output_type": "execute_result",
          "data": {
            "text/plain": [
              "'\\nPurpose:\\n- Predicts class probabilities for each sample in the validation set using the trained SVM classifier.\\n\\nParameters:\\n- svm_classifier: SVM classifier model previously trained and loaded.\\n- X_val_tfidf: TF-IDF transformed validation set features.\\n\\nOutputs:\\n- val_probabilities: Predicted probabilities of each class for each sample in the validation set.\\n'"
            ],
            "application/vnd.google.colaboratory.intrinsic+json": {
              "type": "string"
            }
          },
          "metadata": {},
          "execution_count": 155
        }
      ],
      "source": [
        "# Predict probabilities on the validation set\n",
        "val_probabilities = svm_classifier.predict_proba(X_val_tfidf)\n",
        "\"\"\"\n",
        "Purpose:\n",
        "- Predicts class probabilities for each sample in the validation set using the trained SVM classifier.\n",
        "\n",
        "Parameters:\n",
        "- svm_classifier: SVM classifier model previously trained and loaded.\n",
        "- X_val_tfidf: TF-IDF transformed validation set features.\n",
        "\n",
        "Outputs:\n",
        "- val_probabilities: Predicted probabilities of each class for each sample in the validation set.\n",
        "\"\"\""
      ]
    },
    {
      "cell_type": "code",
      "execution_count": 156,
      "metadata": {
        "colab": {
          "base_uri": "https://localhost:8080/",
          "height": 54
        },
        "id": "tdVGoHtm_FeL",
        "outputId": "22a19820-ab13-4d48-f65a-115f6546110b"
      },
      "outputs": [
        {
          "output_type": "stream",
          "name": "stdout",
          "text": [
            "Validation Top-3 Accuracy: 0.925\n"
          ]
        },
        {
          "output_type": "execute_result",
          "data": {
            "text/plain": [
              "'\\nPurpose:\\n- Prints the computed top-K accuracy score for the validation set predictions.\\n'"
            ],
            "application/vnd.google.colaboratory.intrinsic+json": {
              "type": "string"
            }
          },
          "metadata": {},
          "execution_count": 156
        }
      ],
      "source": [
        "# Calculate top-3 accuracy\n",
        "top_k = 3\n",
        "val_top_k_accuracy = top_k_accuracy_score(y_val, val_probabilities, k=top_k)\n",
        "\"\"\"\n",
        "Purpose:dataset\n",
        "- Calculates the top-K accuracy for the validation set predictions based on predicted probabilities.\n",
        "\n",
        "Parameters:\n",
        "- y_val: True labels of the validation set.\n",
        "- val_probabilities: Predicted probabilities of each class for each sample in the validation set.\n",
        "- k: Number of top predictions to consider for accuracy calculation.\n",
        "\n",
        "Outputs:\n",
        "- val_top_k_accuracy: Top-K accuracy score for the validation set predictions.\n",
        "\"\"\"\n",
        "\n",
        "print(f\"Validation Top-{top_k} Accuracy:\", val_top_k_accuracy)\n",
        "\"\"\"\n",
        "Purpose:\n",
        "- Prints the computed top-K accuracy score for the validation set predictions.\n",
        "\"\"\""
      ]
    },
    {
      "cell_type": "code",
      "execution_count": 157,
      "metadata": {
        "colab": {
          "base_uri": "https://localhost:8080/",
          "height": 54
        },
        "id": "N4UX8hGu_F-Z",
        "outputId": "65d136a8-122b-47db-bd5b-b55c59822161"
      },
      "outputs": [
        {
          "output_type": "stream",
          "name": "stdout",
          "text": [
            "Validation Top-5 Accuracy: 0.9659090909090909\n"
          ]
        },
        {
          "output_type": "execute_result",
          "data": {
            "text/plain": [
              "'\\nPurpose:\\n- Prints the computed top-K accuracy score for the validation set predictions.\\n'"
            ],
            "application/vnd.google.colaboratory.intrinsic+json": {
              "type": "string"
            }
          },
          "metadata": {},
          "execution_count": 157
        }
      ],
      "source": [
        "# Calculate top-5 accuracy\n",
        "top_k = 5\n",
        "val_top_k_accuracy = top_k_accuracy_score(y_val, val_probabilities, k=top_k)\n",
        "\"\"\"\n",
        "Purpose:\n",
        "- Calculates the top-K accuracy for the validation set predictions based on predicted probabilities.\n",
        "\n",
        "Parameters:\n",
        "- y_val: True labels of the validation set.\n",
        "- val_probabilities: Predicted probabilities of each class for each sample in the validation set.\n",
        "- k: Number of top predictions to consider for accuracy calculation.\n",
        "\n",
        "Outputs:\n",
        "- val_top_k_accuracy: Top-K accuracy score for the validation set predictions.\n",
        "\"\"\"\n",
        "\n",
        "print(f\"Validation Top-{top_k} Accuracy:\", val_top_k_accuracy)\n",
        "\"\"\"\n",
        "Purpose:\n",
        "- Prints the computed top-K accuracy score for the validation set predictions.\n",
        "\"\"\""
      ]
    },
    {
      "cell_type": "code",
      "execution_count": 158,
      "metadata": {
        "colab": {
          "base_uri": "https://localhost:8080/",
          "height": 54
        },
        "id": "33BWYc50_GaX",
        "outputId": "0d065553-e760-476d-d558-b19be2578d34"
      },
      "outputs": [
        {
          "output_type": "stream",
          "name": "stdout",
          "text": [
            "Validation Top-10 Accuracy: 0.9863636363636363\n"
          ]
        },
        {
          "output_type": "execute_result",
          "data": {
            "text/plain": [
              "'\\nPurpose:\\n- Prints the computed top-K accuracy score for the validation set predictions.\\n'"
            ],
            "application/vnd.google.colaboratory.intrinsic+json": {
              "type": "string"
            }
          },
          "metadata": {},
          "execution_count": 158
        }
      ],
      "source": [
        "# Calculate top-10 accuracy\n",
        "top_k = 10\n",
        "val_top_k_accuracy = top_k_accuracy_score(y_val, val_probabilities, k=top_k)\n",
        "\"\"\"\n",
        "Purpose:\n",
        "- Calculates the top-K accuracy for the validation set predictions based on predicted probabilities.\n",
        "\n",
        "Parameters:\n",
        "- y_val: True labels of the validation set.\n",
        "- val_probabilities: Predicted probabilities of each class for each sample in the validation set.\n",
        "- k: Number of top predictions to consider for accuracy calculation.\n",
        "\n",
        "Outputs:\n",
        "- val_top_k_accuracy: Top-K accuracy score for the validation set predictions.\n",
        "\"\"\"\n",
        "\n",
        "print(f\"Validation Top-{top_k} Accuracy:\", val_top_k_accuracy)\n",
        "\"\"\"\n",
        "Purpose:\n",
        "- Prints the computed top-K accuracy score for the validation set predictions.\n",
        "\"\"\""
      ]
    }
  ],
  "metadata": {
    "colab": {
      "provenance": []
    },
    "kernelspec": {
      "display_name": "Python 3",
      "name": "python3"
    },
    "language_info": {
      "name": "python"
    }
  },
  "nbformat": 4,
  "nbformat_minor": 0
}