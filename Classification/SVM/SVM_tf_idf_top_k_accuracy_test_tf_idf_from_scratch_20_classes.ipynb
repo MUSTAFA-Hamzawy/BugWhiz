{
  "cells": [
    {
      "cell_type": "markdown",
      "metadata": {
        "id": "H1owhJo-7c_s"
      },
      "source": [
        "**Import Libraries**"
      ]
    },
    {
      "cell_type": "code",
      "execution_count": 4,
      "metadata": {
        "id": "WfJvhCiZ6gft"
      },
      "outputs": [],
      "source": [
        "# Import necessary libraries\n",
        "import pandas as pd  # Pandas for data manipulation and analysis\n",
        "from sklearn.preprocessing import LabelEncoder  # LabelEncoder for encoding categorical target labels\n",
        "from sklearn.svm import SVC # SVC (Support Vector Classifier) for SVM classification\n",
        "from sklearn.metrics import accuracy_score, top_k_accuracy_score # Metrics for evaluating model performance\n",
        "from sklearn.model_selection import StratifiedShuffleSplit # StratifiedShuffleSplit for train-test splitting\n",
        "import joblib # Joblib for saving and loading models\n",
        "import tf_idf_utils # Importing the custom module tf_idf_utils\n",
        "import math # Importing the math module for mathematical functions  "
      ]
    },
    {
      "cell_type": "markdown",
      "metadata": {
        "id": "mIjQw4jv7jlz"
      },
      "source": [
        "**Load The Dataset**"
      ]
    },
    {
      "cell_type": "code",
      "execution_count": 5,
      "metadata": {
        "colab": {
          "base_uri": "https://localhost:8080/"
        },
        "id": "tgkV2Cg3gIk5",
        "outputId": "7f95c4f1-a522-4687-b8c6-aeee014e2e4f"
      },
      "outputs": [
        {
          "name": "stdout",
          "output_type": "stream",
          "text": [
            "Mounted at /content/drive\n"
          ]
        }
      ],
      "source": [
        "# Mount Google Drive to access files and save outputs\n",
        "from google.colab import drive\n",
        "drive.mount('/content/drive')"
      ]
    },
    {
      "cell_type": "code",
      "execution_count": 6,
      "metadata": {
        "id": "9bLUtRI77py8"
      },
      "outputs": [],
      "source": [
        "# Specify the file path in Google Drive and load the dataset after preprocessing\n",
        "file_path = '/content/drive/My Drive/dataset_after_preprocessing.csv'\n",
        "dataset = pd.read_csv(file_path)"
      ]
    },
    {
      "cell_type": "code",
      "execution_count": 7,
      "metadata": {
        "colab": {
          "base_uri": "https://localhost:8080/",
          "height": 423
        },
        "id": "JOBbEojOA7sa",
        "outputId": "6062b1de-03b1-4a91-c026-a9b63508fa02"
      },
      "outputs": [
        {
          "data": {
            "application/vnd.google.colaboratory.intrinsic+json": {
              "type": "dataframe",
              "variable_name": "dataset"
            },
            "text/html": [
              "\n",
              "  <div id=\"df-54684cc7-ef34-4fd2-98ae-67d03b17a6de\" class=\"colab-df-container\">\n",
              "    <div>\n",
              "<style scoped>\n",
              "    .dataframe tbody tr th:only-of-type {\n",
              "        vertical-align: middle;\n",
              "    }\n",
              "\n",
              "    .dataframe tbody tr th {\n",
              "        vertical-align: top;\n",
              "    }\n",
              "\n",
              "    .dataframe thead th {\n",
              "        text-align: right;\n",
              "    }\n",
              "</style>\n",
              "<table border=\"1\" class=\"dataframe\">\n",
              "  <thead>\n",
              "    <tr style=\"text-align: right;\">\n",
              "      <th></th>\n",
              "      <th>Summary_Stemmed</th>\n",
              "      <th>processed_summary</th>\n",
              "      <th>Assignee</th>\n",
              "    </tr>\n",
              "  </thead>\n",
              "  <tbody>\n",
              "    <tr>\n",
              "      <th>0</th>\n",
              "      <td>['scroll', 'scroll', 'mice', 'touchpad', 'etc'...</td>\n",
              "      <td>scroll scroll mice touchpad etc scroll</td>\n",
              "      <td>amit@chromium.org</td>\n",
              "    </tr>\n",
              "    <tr>\n",
              "      <th>1</th>\n",
              "      <td>['add', 'check', 'item', 'download', 'panel', ...</td>\n",
              "      <td>add check item download panel browser test</td>\n",
              "      <td>achuith@chromium.org</td>\n",
              "    </tr>\n",
              "    <tr>\n",
              "      <th>2</th>\n",
              "      <td>['useafterfre', 'navig', 'document', 'form', '...</td>\n",
              "      <td>useafterfre navig document form valid messag s...</td>\n",
              "      <td>tkent@chromium.org</td>\n",
              "    </tr>\n",
              "    <tr>\n",
              "      <th>3</th>\n",
              "      <td>['add', 'address', 'properli', 'autofil', 'opt...</td>\n",
              "      <td>add address properli autofil option dialog box</td>\n",
              "      <td>sky@chromium.org</td>\n",
              "    </tr>\n",
              "    <tr>\n",
              "      <th>4</th>\n",
              "      <td>['libxmlgyp', 'defin', 'libxmlstat', 'direct',...</td>\n",
              "      <td>libxmlgyp defin libxmlstat direct depend</td>\n",
              "      <td>wtc@chromium.org</td>\n",
              "    </tr>\n",
              "    <tr>\n",
              "      <th>...</th>\n",
              "      <td>...</td>\n",
              "      <td>...</td>\n",
              "      <td>...</td>\n",
              "    </tr>\n",
              "    <tr>\n",
              "      <th>117376</th>\n",
              "      <td>['updat', 'gleanj', 'dashboard', 'ignor', 'gle...</td>\n",
              "      <td>updat gleanj dashboard ignor glean sdk data vpn</td>\n",
              "      <td>brosa</td>\n",
              "    </tr>\n",
              "    <tr>\n",
              "      <th>117377</th>\n",
              "      <td>['autocomplet', 'type', 'valid', 'valu', 'pass...</td>\n",
              "      <td>autocomplet type valid valu pass record</td>\n",
              "      <td>brosa</td>\n",
              "    </tr>\n",
              "    <tr>\n",
              "      <th>117378</th>\n",
              "      <td>['intermitt', 'slow', 'see', 'ping', 'show', '...</td>\n",
              "      <td>intermitt slow see ping show debug ping viewer</td>\n",
              "      <td>brosa</td>\n",
              "    </tr>\n",
              "    <tr>\n",
              "      <th>117379</th>\n",
              "      <td>['investig', 'string', 'metric', 'type', 'adeq...</td>\n",
              "      <td>investig string metric type adequ captur gfxad...</td>\n",
              "      <td>pmcmanis</td>\n",
              "    </tr>\n",
              "    <tr>\n",
              "      <th>117380</th>\n",
              "      <td>['remov', 'manual', 'page', 'load', 'event', '...</td>\n",
              "      <td>remov manual page load event glean debug ping ...</td>\n",
              "      <td>brosa</td>\n",
              "    </tr>\n",
              "  </tbody>\n",
              "</table>\n",
              "<p>117381 rows × 3 columns</p>\n",
              "</div>\n",
              "    <div class=\"colab-df-buttons\">\n",
              "\n",
              "  <div class=\"colab-df-container\">\n",
              "    <button class=\"colab-df-convert\" onclick=\"convertToInteractive('df-54684cc7-ef34-4fd2-98ae-67d03b17a6de')\"\n",
              "            title=\"Convert this dataframe to an interactive table.\"\n",
              "            style=\"display:none;\">\n",
              "\n",
              "  <svg xmlns=\"http://www.w3.org/2000/svg\" height=\"24px\" viewBox=\"0 -960 960 960\">\n",
              "    <path d=\"M120-120v-720h720v720H120Zm60-500h600v-160H180v160Zm220 220h160v-160H400v160Zm0 220h160v-160H400v160ZM180-400h160v-160H180v160Zm440 0h160v-160H620v160ZM180-180h160v-160H180v160Zm440 0h160v-160H620v160Z\"/>\n",
              "  </svg>\n",
              "    </button>\n",
              "\n",
              "  <style>\n",
              "    .colab-df-container {\n",
              "      display:flex;\n",
              "      gap: 12px;\n",
              "    }\n",
              "\n",
              "    .colab-df-convert {\n",
              "      background-color: #E8F0FE;\n",
              "      border: none;\n",
              "      border-radius: 50%;\n",
              "      cursor: pointer;\n",
              "      display: none;\n",
              "      fill: #1967D2;\n",
              "      height: 32px;\n",
              "      padding: 0 0 0 0;\n",
              "      width: 32px;\n",
              "    }\n",
              "\n",
              "    .colab-df-convert:hover {\n",
              "      background-color: #E2EBFA;\n",
              "      box-shadow: 0px 1px 2px rgba(60, 64, 67, 0.3), 0px 1px 3px 1px rgba(60, 64, 67, 0.15);\n",
              "      fill: #174EA6;\n",
              "    }\n",
              "\n",
              "    .colab-df-buttons div {\n",
              "      margin-bottom: 4px;\n",
              "    }\n",
              "\n",
              "    [theme=dark] .colab-df-convert {\n",
              "      background-color: #3B4455;\n",
              "      fill: #D2E3FC;\n",
              "    }\n",
              "\n",
              "    [theme=dark] .colab-df-convert:hover {\n",
              "      background-color: #434B5C;\n",
              "      box-shadow: 0px 1px 3px 1px rgba(0, 0, 0, 0.15);\n",
              "      filter: drop-shadow(0px 1px 2px rgba(0, 0, 0, 0.3));\n",
              "      fill: #FFFFFF;\n",
              "    }\n",
              "  </style>\n",
              "\n",
              "    <script>\n",
              "      const buttonEl =\n",
              "        document.querySelector('#df-54684cc7-ef34-4fd2-98ae-67d03b17a6de button.colab-df-convert');\n",
              "      buttonEl.style.display =\n",
              "        google.colab.kernel.accessAllowed ? 'block' : 'none';\n",
              "\n",
              "      async function convertToInteractive(key) {\n",
              "        const element = document.querySelector('#df-54684cc7-ef34-4fd2-98ae-67d03b17a6de');\n",
              "        const dataTable =\n",
              "          await google.colab.kernel.invokeFunction('convertToInteractive',\n",
              "                                                    [key], {});\n",
              "        if (!dataTable) return;\n",
              "\n",
              "        const docLinkHtml = 'Like what you see? Visit the ' +\n",
              "          '<a target=\"_blank\" href=https://colab.research.google.com/notebooks/data_table.ipynb>data table notebook</a>'\n",
              "          + ' to learn more about interactive tables.';\n",
              "        element.innerHTML = '';\n",
              "        dataTable['output_type'] = 'display_data';\n",
              "        await google.colab.output.renderOutput(dataTable, element);\n",
              "        const docLink = document.createElement('div');\n",
              "        docLink.innerHTML = docLinkHtml;\n",
              "        element.appendChild(docLink);\n",
              "      }\n",
              "    </script>\n",
              "  </div>\n",
              "\n",
              "\n",
              "<div id=\"df-881f1fd0-f1d8-4e3e-908c-048374c69b02\">\n",
              "  <button class=\"colab-df-quickchart\" onclick=\"quickchart('df-881f1fd0-f1d8-4e3e-908c-048374c69b02')\"\n",
              "            title=\"Suggest charts\"\n",
              "            style=\"display:none;\">\n",
              "\n",
              "<svg xmlns=\"http://www.w3.org/2000/svg\" height=\"24px\"viewBox=\"0 0 24 24\"\n",
              "     width=\"24px\">\n",
              "    <g>\n",
              "        <path d=\"M19 3H5c-1.1 0-2 .9-2 2v14c0 1.1.9 2 2 2h14c1.1 0 2-.9 2-2V5c0-1.1-.9-2-2-2zM9 17H7v-7h2v7zm4 0h-2V7h2v10zm4 0h-2v-4h2v4z\"/>\n",
              "    </g>\n",
              "</svg>\n",
              "  </button>\n",
              "\n",
              "<style>\n",
              "  .colab-df-quickchart {\n",
              "      --bg-color: #E8F0FE;\n",
              "      --fill-color: #1967D2;\n",
              "      --hover-bg-color: #E2EBFA;\n",
              "      --hover-fill-color: #174EA6;\n",
              "      --disabled-fill-color: #AAA;\n",
              "      --disabled-bg-color: #DDD;\n",
              "  }\n",
              "\n",
              "  [theme=dark] .colab-df-quickchart {\n",
              "      --bg-color: #3B4455;\n",
              "      --fill-color: #D2E3FC;\n",
              "      --hover-bg-color: #434B5C;\n",
              "      --hover-fill-color: #FFFFFF;\n",
              "      --disabled-bg-color: #3B4455;\n",
              "      --disabled-fill-color: #666;\n",
              "  }\n",
              "\n",
              "  .colab-df-quickchart {\n",
              "    background-color: var(--bg-color);\n",
              "    border: none;\n",
              "    border-radius: 50%;\n",
              "    cursor: pointer;\n",
              "    display: none;\n",
              "    fill: var(--fill-color);\n",
              "    height: 32px;\n",
              "    padding: 0;\n",
              "    width: 32px;\n",
              "  }\n",
              "\n",
              "  .colab-df-quickchart:hover {\n",
              "    background-color: var(--hover-bg-color);\n",
              "    box-shadow: 0 1px 2px rgba(60, 64, 67, 0.3), 0 1px 3px 1px rgba(60, 64, 67, 0.15);\n",
              "    fill: var(--button-hover-fill-color);\n",
              "  }\n",
              "\n",
              "  .colab-df-quickchart-complete:disabled,\n",
              "  .colab-df-quickchart-complete:disabled:hover {\n",
              "    background-color: var(--disabled-bg-color);\n",
              "    fill: var(--disabled-fill-color);\n",
              "    box-shadow: none;\n",
              "  }\n",
              "\n",
              "  .colab-df-spinner {\n",
              "    border: 2px solid var(--fill-color);\n",
              "    border-color: transparent;\n",
              "    border-bottom-color: var(--fill-color);\n",
              "    animation:\n",
              "      spin 1s steps(1) infinite;\n",
              "  }\n",
              "\n",
              "  @keyframes spin {\n",
              "    0% {\n",
              "      border-color: transparent;\n",
              "      border-bottom-color: var(--fill-color);\n",
              "      border-left-color: var(--fill-color);\n",
              "    }\n",
              "    20% {\n",
              "      border-color: transparent;\n",
              "      border-left-color: var(--fill-color);\n",
              "      border-top-color: var(--fill-color);\n",
              "    }\n",
              "    30% {\n",
              "      border-color: transparent;\n",
              "      border-left-color: var(--fill-color);\n",
              "      border-top-color: var(--fill-color);\n",
              "      border-right-color: var(--fill-color);\n",
              "    }\n",
              "    40% {\n",
              "      border-color: transparent;\n",
              "      border-right-color: var(--fill-color);\n",
              "      border-top-color: var(--fill-color);\n",
              "    }\n",
              "    60% {\n",
              "      border-color: transparent;\n",
              "      border-right-color: var(--fill-color);\n",
              "    }\n",
              "    80% {\n",
              "      border-color: transparent;\n",
              "      border-right-color: var(--fill-color);\n",
              "      border-bottom-color: var(--fill-color);\n",
              "    }\n",
              "    90% {\n",
              "      border-color: transparent;\n",
              "      border-bottom-color: var(--fill-color);\n",
              "    }\n",
              "  }\n",
              "</style>\n",
              "\n",
              "  <script>\n",
              "    async function quickchart(key) {\n",
              "      const quickchartButtonEl =\n",
              "        document.querySelector('#' + key + ' button');\n",
              "      quickchartButtonEl.disabled = true;  // To prevent multiple clicks.\n",
              "      quickchartButtonEl.classList.add('colab-df-spinner');\n",
              "      try {\n",
              "        const charts = await google.colab.kernel.invokeFunction(\n",
              "            'suggestCharts', [key], {});\n",
              "      } catch (error) {\n",
              "        console.error('Error during call to suggestCharts:', error);\n",
              "      }\n",
              "      quickchartButtonEl.classList.remove('colab-df-spinner');\n",
              "      quickchartButtonEl.classList.add('colab-df-quickchart-complete');\n",
              "    }\n",
              "    (() => {\n",
              "      let quickchartButtonEl =\n",
              "        document.querySelector('#df-881f1fd0-f1d8-4e3e-908c-048374c69b02 button');\n",
              "      quickchartButtonEl.style.display =\n",
              "        google.colab.kernel.accessAllowed ? 'block' : 'none';\n",
              "    })();\n",
              "  </script>\n",
              "</div>\n",
              "\n",
              "  <div id=\"id_b8206ada-5e3f-428f-a1b0-2835145968d1\">\n",
              "    <style>\n",
              "      .colab-df-generate {\n",
              "        background-color: #E8F0FE;\n",
              "        border: none;\n",
              "        border-radius: 50%;\n",
              "        cursor: pointer;\n",
              "        display: none;\n",
              "        fill: #1967D2;\n",
              "        height: 32px;\n",
              "        padding: 0 0 0 0;\n",
              "        width: 32px;\n",
              "      }\n",
              "\n",
              "      .colab-df-generate:hover {\n",
              "        background-color: #E2EBFA;\n",
              "        box-shadow: 0px 1px 2px rgba(60, 64, 67, 0.3), 0px 1px 3px 1px rgba(60, 64, 67, 0.15);\n",
              "        fill: #174EA6;\n",
              "      }\n",
              "\n",
              "      [theme=dark] .colab-df-generate {\n",
              "        background-color: #3B4455;\n",
              "        fill: #D2E3FC;\n",
              "      }\n",
              "\n",
              "      [theme=dark] .colab-df-generate:hover {\n",
              "        background-color: #434B5C;\n",
              "        box-shadow: 0px 1px 3px 1px rgba(0, 0, 0, 0.15);\n",
              "        filter: drop-shadow(0px 1px 2px rgba(0, 0, 0, 0.3));\n",
              "        fill: #FFFFFF;\n",
              "      }\n",
              "    </style>\n",
              "    <button class=\"colab-df-generate\" onclick=\"generateWithVariable('dataset')\"\n",
              "            title=\"Generate code using this dataframe.\"\n",
              "            style=\"display:none;\">\n",
              "\n",
              "  <svg xmlns=\"http://www.w3.org/2000/svg\" height=\"24px\"viewBox=\"0 0 24 24\"\n",
              "       width=\"24px\">\n",
              "    <path d=\"M7,19H8.4L18.45,9,17,7.55,7,17.6ZM5,21V16.75L18.45,3.32a2,2,0,0,1,2.83,0l1.4,1.43a1.91,1.91,0,0,1,.58,1.4,1.91,1.91,0,0,1-.58,1.4L9.25,21ZM18.45,9,17,7.55Zm-12,3A5.31,5.31,0,0,0,4.9,8.1,5.31,5.31,0,0,0,1,6.5,5.31,5.31,0,0,0,4.9,4.9,5.31,5.31,0,0,0,6.5,1,5.31,5.31,0,0,0,8.1,4.9,5.31,5.31,0,0,0,12,6.5,5.46,5.46,0,0,0,6.5,12Z\"/>\n",
              "  </svg>\n",
              "    </button>\n",
              "    <script>\n",
              "      (() => {\n",
              "      const buttonEl =\n",
              "        document.querySelector('#id_b8206ada-5e3f-428f-a1b0-2835145968d1 button.colab-df-generate');\n",
              "      buttonEl.style.display =\n",
              "        google.colab.kernel.accessAllowed ? 'block' : 'none';\n",
              "\n",
              "      buttonEl.onclick = () => {\n",
              "        google.colab.notebook.generateWithVariable('dataset');\n",
              "      }\n",
              "      })();\n",
              "    </script>\n",
              "  </div>\n",
              "\n",
              "    </div>\n",
              "  </div>\n"
            ],
            "text/plain": [
              "                                          Summary_Stemmed  \\\n",
              "0       ['scroll', 'scroll', 'mice', 'touchpad', 'etc'...   \n",
              "1       ['add', 'check', 'item', 'download', 'panel', ...   \n",
              "2       ['useafterfre', 'navig', 'document', 'form', '...   \n",
              "3       ['add', 'address', 'properli', 'autofil', 'opt...   \n",
              "4       ['libxmlgyp', 'defin', 'libxmlstat', 'direct',...   \n",
              "...                                                   ...   \n",
              "117376  ['updat', 'gleanj', 'dashboard', 'ignor', 'gle...   \n",
              "117377  ['autocomplet', 'type', 'valid', 'valu', 'pass...   \n",
              "117378  ['intermitt', 'slow', 'see', 'ping', 'show', '...   \n",
              "117379  ['investig', 'string', 'metric', 'type', 'adeq...   \n",
              "117380  ['remov', 'manual', 'page', 'load', 'event', '...   \n",
              "\n",
              "                                        processed_summary  \\\n",
              "0                  scroll scroll mice touchpad etc scroll   \n",
              "1              add check item download panel browser test   \n",
              "2       useafterfre navig document form valid messag s...   \n",
              "3          add address properli autofil option dialog box   \n",
              "4                libxmlgyp defin libxmlstat direct depend   \n",
              "...                                                   ...   \n",
              "117376    updat gleanj dashboard ignor glean sdk data vpn   \n",
              "117377            autocomplet type valid valu pass record   \n",
              "117378     intermitt slow see ping show debug ping viewer   \n",
              "117379  investig string metric type adequ captur gfxad...   \n",
              "117380  remov manual page load event glean debug ping ...   \n",
              "\n",
              "                    Assignee  \n",
              "0          amit@chromium.org  \n",
              "1       achuith@chromium.org  \n",
              "2         tkent@chromium.org  \n",
              "3           sky@chromium.org  \n",
              "4           wtc@chromium.org  \n",
              "...                      ...  \n",
              "117376                 brosa  \n",
              "117377                 brosa  \n",
              "117378                 brosa  \n",
              "117379              pmcmanis  \n",
              "117380                 brosa  \n",
              "\n",
              "[117381 rows x 3 columns]"
            ]
          },
          "execution_count": 7,
          "metadata": {},
          "output_type": "execute_result"
        }
      ],
      "source": [
        "# Display the DataFrame 'dataset'\n",
        "# This will print the first and last 5 rows of the DataFrame along with the column names and index\n",
        "# Useful for a quick overview of the data after processing\n",
        "dataset"
      ]
    },
    {
      "cell_type": "markdown",
      "metadata": {
        "id": "DKXnH87j8Hmb"
      },
      "source": [
        "**Encode the labels**\n",
        "\n"
      ]
    },
    {
      "cell_type": "code",
      "execution_count": 8,
      "metadata": {
        "id": "s_m3q3r18K1V"
      },
      "outputs": [],
      "source": [
        "# Initialize the LabelEncoder\n",
        "label_encoder = LabelEncoder()\n",
        "\n",
        "# Fit the LabelEncoder to the 'Assignee' column and transform it to numeric labels\n",
        "# This step converts categorical labels in the 'Assignee' column to numeric labels,\n",
        "# which is necessary for training machine learning models.\n",
        "dataset['Assignee_Class'] = label_encoder.fit_transform(dataset['Assignee'])\n",
        "\n",
        "# The LabelEncoder in scikit-learn assigns numeric labels to the unique categories in alphabetical order\n",
        "# (or lexicographical order for strings).\n",
        "# This means that the first unique category in alphabetical order is labeled as 0, the second as 1, and so on."
      ]
    },
    {
      "cell_type": "code",
      "execution_count": 9,
      "metadata": {
        "colab": {
          "base_uri": "https://localhost:8080/",
          "height": 423
        },
        "id": "71-lnHG58VQN",
        "outputId": "3596e592-9fb2-44bb-fdfa-52651b0dd326"
      },
      "outputs": [
        {
          "data": {
            "application/vnd.google.colaboratory.intrinsic+json": {
              "type": "dataframe",
              "variable_name": "dataset"
            },
            "text/html": [
              "\n",
              "  <div id=\"df-65ee279a-dca6-4865-af93-75fc656fb6ed\" class=\"colab-df-container\">\n",
              "    <div>\n",
              "<style scoped>\n",
              "    .dataframe tbody tr th:only-of-type {\n",
              "        vertical-align: middle;\n",
              "    }\n",
              "\n",
              "    .dataframe tbody tr th {\n",
              "        vertical-align: top;\n",
              "    }\n",
              "\n",
              "    .dataframe thead th {\n",
              "        text-align: right;\n",
              "    }\n",
              "</style>\n",
              "<table border=\"1\" class=\"dataframe\">\n",
              "  <thead>\n",
              "    <tr style=\"text-align: right;\">\n",
              "      <th></th>\n",
              "      <th>Summary_Stemmed</th>\n",
              "      <th>processed_summary</th>\n",
              "      <th>Assignee</th>\n",
              "      <th>Assignee_Class</th>\n",
              "    </tr>\n",
              "  </thead>\n",
              "  <tbody>\n",
              "    <tr>\n",
              "      <th>0</th>\n",
              "      <td>['scroll', 'scroll', 'mice', 'touchpad', 'etc'...</td>\n",
              "      <td>scroll scroll mice touchpad etc scroll</td>\n",
              "      <td>amit@chromium.org</td>\n",
              "      <td>124</td>\n",
              "    </tr>\n",
              "    <tr>\n",
              "      <th>1</th>\n",
              "      <td>['add', 'check', 'item', 'download', 'panel', ...</td>\n",
              "      <td>add check item download panel browser test</td>\n",
              "      <td>achuith@chromium.org</td>\n",
              "      <td>52</td>\n",
              "    </tr>\n",
              "    <tr>\n",
              "      <th>2</th>\n",
              "      <td>['useafterfre', 'navig', 'document', 'form', '...</td>\n",
              "      <td>useafterfre navig document form valid messag s...</td>\n",
              "      <td>tkent@chromium.org</td>\n",
              "      <td>2118</td>\n",
              "    </tr>\n",
              "    <tr>\n",
              "      <th>3</th>\n",
              "      <td>['add', 'address', 'properli', 'autofil', 'opt...</td>\n",
              "      <td>add address properli autofil option dialog box</td>\n",
              "      <td>sky@chromium.org</td>\n",
              "      <td>1972</td>\n",
              "    </tr>\n",
              "    <tr>\n",
              "      <th>4</th>\n",
              "      <td>['libxmlgyp', 'defin', 'libxmlstat', 'direct',...</td>\n",
              "      <td>libxmlgyp defin libxmlstat direct depend</td>\n",
              "      <td>wtc@chromium.org</td>\n",
              "      <td>2282</td>\n",
              "    </tr>\n",
              "    <tr>\n",
              "      <th>...</th>\n",
              "      <td>...</td>\n",
              "      <td>...</td>\n",
              "      <td>...</td>\n",
              "      <td>...</td>\n",
              "    </tr>\n",
              "    <tr>\n",
              "      <th>117376</th>\n",
              "      <td>['updat', 'gleanj', 'dashboard', 'ignor', 'gle...</td>\n",
              "      <td>updat gleanj dashboard ignor glean sdk data vpn</td>\n",
              "      <td>brosa</td>\n",
              "      <td>278</td>\n",
              "    </tr>\n",
              "    <tr>\n",
              "      <th>117377</th>\n",
              "      <td>['autocomplet', 'type', 'valid', 'valu', 'pass...</td>\n",
              "      <td>autocomplet type valid valu pass record</td>\n",
              "      <td>brosa</td>\n",
              "      <td>278</td>\n",
              "    </tr>\n",
              "    <tr>\n",
              "      <th>117378</th>\n",
              "      <td>['intermitt', 'slow', 'see', 'ping', 'show', '...</td>\n",
              "      <td>intermitt slow see ping show debug ping viewer</td>\n",
              "      <td>brosa</td>\n",
              "      <td>278</td>\n",
              "    </tr>\n",
              "    <tr>\n",
              "      <th>117379</th>\n",
              "      <td>['investig', 'string', 'metric', 'type', 'adeq...</td>\n",
              "      <td>investig string metric type adequ captur gfxad...</td>\n",
              "      <td>pmcmanis</td>\n",
              "      <td>1685</td>\n",
              "    </tr>\n",
              "    <tr>\n",
              "      <th>117380</th>\n",
              "      <td>['remov', 'manual', 'page', 'load', 'event', '...</td>\n",
              "      <td>remov manual page load event glean debug ping ...</td>\n",
              "      <td>brosa</td>\n",
              "      <td>278</td>\n",
              "    </tr>\n",
              "  </tbody>\n",
              "</table>\n",
              "<p>117381 rows × 4 columns</p>\n",
              "</div>\n",
              "    <div class=\"colab-df-buttons\">\n",
              "\n",
              "  <div class=\"colab-df-container\">\n",
              "    <button class=\"colab-df-convert\" onclick=\"convertToInteractive('df-65ee279a-dca6-4865-af93-75fc656fb6ed')\"\n",
              "            title=\"Convert this dataframe to an interactive table.\"\n",
              "            style=\"display:none;\">\n",
              "\n",
              "  <svg xmlns=\"http://www.w3.org/2000/svg\" height=\"24px\" viewBox=\"0 -960 960 960\">\n",
              "    <path d=\"M120-120v-720h720v720H120Zm60-500h600v-160H180v160Zm220 220h160v-160H400v160Zm0 220h160v-160H400v160ZM180-400h160v-160H180v160Zm440 0h160v-160H620v160ZM180-180h160v-160H180v160Zm440 0h160v-160H620v160Z\"/>\n",
              "  </svg>\n",
              "    </button>\n",
              "\n",
              "  <style>\n",
              "    .colab-df-container {\n",
              "      display:flex;\n",
              "      gap: 12px;\n",
              "    }\n",
              "\n",
              "    .colab-df-convert {\n",
              "      background-color: #E8F0FE;\n",
              "      border: none;\n",
              "      border-radius: 50%;\n",
              "      cursor: pointer;\n",
              "      display: none;\n",
              "      fill: #1967D2;\n",
              "      height: 32px;\n",
              "      padding: 0 0 0 0;\n",
              "      width: 32px;\n",
              "    }\n",
              "\n",
              "    .colab-df-convert:hover {\n",
              "      background-color: #E2EBFA;\n",
              "      box-shadow: 0px 1px 2px rgba(60, 64, 67, 0.3), 0px 1px 3px 1px rgba(60, 64, 67, 0.15);\n",
              "      fill: #174EA6;\n",
              "    }\n",
              "\n",
              "    .colab-df-buttons div {\n",
              "      margin-bottom: 4px;\n",
              "    }\n",
              "\n",
              "    [theme=dark] .colab-df-convert {\n",
              "      background-color: #3B4455;\n",
              "      fill: #D2E3FC;\n",
              "    }\n",
              "\n",
              "    [theme=dark] .colab-df-convert:hover {\n",
              "      background-color: #434B5C;\n",
              "      box-shadow: 0px 1px 3px 1px rgba(0, 0, 0, 0.15);\n",
              "      filter: drop-shadow(0px 1px 2px rgba(0, 0, 0, 0.3));\n",
              "      fill: #FFFFFF;\n",
              "    }\n",
              "  </style>\n",
              "\n",
              "    <script>\n",
              "      const buttonEl =\n",
              "        document.querySelector('#df-65ee279a-dca6-4865-af93-75fc656fb6ed button.colab-df-convert');\n",
              "      buttonEl.style.display =\n",
              "        google.colab.kernel.accessAllowed ? 'block' : 'none';\n",
              "\n",
              "      async function convertToInteractive(key) {\n",
              "        const element = document.querySelector('#df-65ee279a-dca6-4865-af93-75fc656fb6ed');\n",
              "        const dataTable =\n",
              "          await google.colab.kernel.invokeFunction('convertToInteractive',\n",
              "                                                    [key], {});\n",
              "        if (!dataTable) return;\n",
              "\n",
              "        const docLinkHtml = 'Like what you see? Visit the ' +\n",
              "          '<a target=\"_blank\" href=https://colab.research.google.com/notebooks/data_table.ipynb>data table notebook</a>'\n",
              "          + ' to learn more about interactive tables.';\n",
              "        element.innerHTML = '';\n",
              "        dataTable['output_type'] = 'display_data';\n",
              "        await google.colab.output.renderOutput(dataTable, element);\n",
              "        const docLink = document.createElement('div');\n",
              "        docLink.innerHTML = docLinkHtml;\n",
              "        element.appendChild(docLink);\n",
              "      }\n",
              "    </script>\n",
              "  </div>\n",
              "\n",
              "\n",
              "<div id=\"df-b8333921-7be6-4e6c-9685-fd8d5e76483b\">\n",
              "  <button class=\"colab-df-quickchart\" onclick=\"quickchart('df-b8333921-7be6-4e6c-9685-fd8d5e76483b')\"\n",
              "            title=\"Suggest charts\"\n",
              "            style=\"display:none;\">\n",
              "\n",
              "<svg xmlns=\"http://www.w3.org/2000/svg\" height=\"24px\"viewBox=\"0 0 24 24\"\n",
              "     width=\"24px\">\n",
              "    <g>\n",
              "        <path d=\"M19 3H5c-1.1 0-2 .9-2 2v14c0 1.1.9 2 2 2h14c1.1 0 2-.9 2-2V5c0-1.1-.9-2-2-2zM9 17H7v-7h2v7zm4 0h-2V7h2v10zm4 0h-2v-4h2v4z\"/>\n",
              "    </g>\n",
              "</svg>\n",
              "  </button>\n",
              "\n",
              "<style>\n",
              "  .colab-df-quickchart {\n",
              "      --bg-color: #E8F0FE;\n",
              "      --fill-color: #1967D2;\n",
              "      --hover-bg-color: #E2EBFA;\n",
              "      --hover-fill-color: #174EA6;\n",
              "      --disabled-fill-color: #AAA;\n",
              "      --disabled-bg-color: #DDD;\n",
              "  }\n",
              "\n",
              "  [theme=dark] .colab-df-quickchart {\n",
              "      --bg-color: #3B4455;\n",
              "      --fill-color: #D2E3FC;\n",
              "      --hover-bg-color: #434B5C;\n",
              "      --hover-fill-color: #FFFFFF;\n",
              "      --disabled-bg-color: #3B4455;\n",
              "      --disabled-fill-color: #666;\n",
              "  }\n",
              "\n",
              "  .colab-df-quickchart {\n",
              "    background-color: var(--bg-color);\n",
              "    border: none;\n",
              "    border-radius: 50%;\n",
              "    cursor: pointer;\n",
              "    display: none;\n",
              "    fill: var(--fill-color);\n",
              "    height: 32px;\n",
              "    padding: 0;\n",
              "    width: 32px;\n",
              "  }\n",
              "\n",
              "  .colab-df-quickchart:hover {\n",
              "    background-color: var(--hover-bg-color);\n",
              "    box-shadow: 0 1px 2px rgba(60, 64, 67, 0.3), 0 1px 3px 1px rgba(60, 64, 67, 0.15);\n",
              "    fill: var(--button-hover-fill-color);\n",
              "  }\n",
              "\n",
              "  .colab-df-quickchart-complete:disabled,\n",
              "  .colab-df-quickchart-complete:disabled:hover {\n",
              "    background-color: var(--disabled-bg-color);\n",
              "    fill: var(--disabled-fill-color);\n",
              "    box-shadow: none;\n",
              "  }\n",
              "\n",
              "  .colab-df-spinner {\n",
              "    border: 2px solid var(--fill-color);\n",
              "    border-color: transparent;\n",
              "    border-bottom-color: var(--fill-color);\n",
              "    animation:\n",
              "      spin 1s steps(1) infinite;\n",
              "  }\n",
              "\n",
              "  @keyframes spin {\n",
              "    0% {\n",
              "      border-color: transparent;\n",
              "      border-bottom-color: var(--fill-color);\n",
              "      border-left-color: var(--fill-color);\n",
              "    }\n",
              "    20% {\n",
              "      border-color: transparent;\n",
              "      border-left-color: var(--fill-color);\n",
              "      border-top-color: var(--fill-color);\n",
              "    }\n",
              "    30% {\n",
              "      border-color: transparent;\n",
              "      border-left-color: var(--fill-color);\n",
              "      border-top-color: var(--fill-color);\n",
              "      border-right-color: var(--fill-color);\n",
              "    }\n",
              "    40% {\n",
              "      border-color: transparent;\n",
              "      border-right-color: var(--fill-color);\n",
              "      border-top-color: var(--fill-color);\n",
              "    }\n",
              "    60% {\n",
              "      border-color: transparent;\n",
              "      border-right-color: var(--fill-color);\n",
              "    }\n",
              "    80% {\n",
              "      border-color: transparent;\n",
              "      border-right-color: var(--fill-color);\n",
              "      border-bottom-color: var(--fill-color);\n",
              "    }\n",
              "    90% {\n",
              "      border-color: transparent;\n",
              "      border-bottom-color: var(--fill-color);\n",
              "    }\n",
              "  }\n",
              "</style>\n",
              "\n",
              "  <script>\n",
              "    async function quickchart(key) {\n",
              "      const quickchartButtonEl =\n",
              "        document.querySelector('#' + key + ' button');\n",
              "      quickchartButtonEl.disabled = true;  // To prevent multiple clicks.\n",
              "      quickchartButtonEl.classList.add('colab-df-spinner');\n",
              "      try {\n",
              "        const charts = await google.colab.kernel.invokeFunction(\n",
              "            'suggestCharts', [key], {});\n",
              "      } catch (error) {\n",
              "        console.error('Error during call to suggestCharts:', error);\n",
              "      }\n",
              "      quickchartButtonEl.classList.remove('colab-df-spinner');\n",
              "      quickchartButtonEl.classList.add('colab-df-quickchart-complete');\n",
              "    }\n",
              "    (() => {\n",
              "      let quickchartButtonEl =\n",
              "        document.querySelector('#df-b8333921-7be6-4e6c-9685-fd8d5e76483b button');\n",
              "      quickchartButtonEl.style.display =\n",
              "        google.colab.kernel.accessAllowed ? 'block' : 'none';\n",
              "    })();\n",
              "  </script>\n",
              "</div>\n",
              "\n",
              "  <div id=\"id_8bef8aad-36bf-41a1-b30a-66278c0decb7\">\n",
              "    <style>\n",
              "      .colab-df-generate {\n",
              "        background-color: #E8F0FE;\n",
              "        border: none;\n",
              "        border-radius: 50%;\n",
              "        cursor: pointer;\n",
              "        display: none;\n",
              "        fill: #1967D2;\n",
              "        height: 32px;\n",
              "        padding: 0 0 0 0;\n",
              "        width: 32px;\n",
              "      }\n",
              "\n",
              "      .colab-df-generate:hover {\n",
              "        background-color: #E2EBFA;\n",
              "        box-shadow: 0px 1px 2px rgba(60, 64, 67, 0.3), 0px 1px 3px 1px rgba(60, 64, 67, 0.15);\n",
              "        fill: #174EA6;\n",
              "      }\n",
              "\n",
              "      [theme=dark] .colab-df-generate {\n",
              "        background-color: #3B4455;\n",
              "        fill: #D2E3FC;\n",
              "      }\n",
              "\n",
              "      [theme=dark] .colab-df-generate:hover {\n",
              "        background-color: #434B5C;\n",
              "        box-shadow: 0px 1px 3px 1px rgba(0, 0, 0, 0.15);\n",
              "        filter: drop-shadow(0px 1px 2px rgba(0, 0, 0, 0.3));\n",
              "        fill: #FFFFFF;\n",
              "      }\n",
              "    </style>\n",
              "    <button class=\"colab-df-generate\" onclick=\"generateWithVariable('dataset')\"\n",
              "            title=\"Generate code using this dataframe.\"\n",
              "            style=\"display:none;\">\n",
              "\n",
              "  <svg xmlns=\"http://www.w3.org/2000/svg\" height=\"24px\"viewBox=\"0 0 24 24\"\n",
              "       width=\"24px\">\n",
              "    <path d=\"M7,19H8.4L18.45,9,17,7.55,7,17.6ZM5,21V16.75L18.45,3.32a2,2,0,0,1,2.83,0l1.4,1.43a1.91,1.91,0,0,1,.58,1.4,1.91,1.91,0,0,1-.58,1.4L9.25,21ZM18.45,9,17,7.55Zm-12,3A5.31,5.31,0,0,0,4.9,8.1,5.31,5.31,0,0,0,1,6.5,5.31,5.31,0,0,0,4.9,4.9,5.31,5.31,0,0,0,6.5,1,5.31,5.31,0,0,0,8.1,4.9,5.31,5.31,0,0,0,12,6.5,5.46,5.46,0,0,0,6.5,12Z\"/>\n",
              "  </svg>\n",
              "    </button>\n",
              "    <script>\n",
              "      (() => {\n",
              "      const buttonEl =\n",
              "        document.querySelector('#id_8bef8aad-36bf-41a1-b30a-66278c0decb7 button.colab-df-generate');\n",
              "      buttonEl.style.display =\n",
              "        google.colab.kernel.accessAllowed ? 'block' : 'none';\n",
              "\n",
              "      buttonEl.onclick = () => {\n",
              "        google.colab.notebook.generateWithVariable('dataset');\n",
              "      }\n",
              "      })();\n",
              "    </script>\n",
              "  </div>\n",
              "\n",
              "    </div>\n",
              "  </div>\n"
            ],
            "text/plain": [
              "                                          Summary_Stemmed  \\\n",
              "0       ['scroll', 'scroll', 'mice', 'touchpad', 'etc'...   \n",
              "1       ['add', 'check', 'item', 'download', 'panel', ...   \n",
              "2       ['useafterfre', 'navig', 'document', 'form', '...   \n",
              "3       ['add', 'address', 'properli', 'autofil', 'opt...   \n",
              "4       ['libxmlgyp', 'defin', 'libxmlstat', 'direct',...   \n",
              "...                                                   ...   \n",
              "117376  ['updat', 'gleanj', 'dashboard', 'ignor', 'gle...   \n",
              "117377  ['autocomplet', 'type', 'valid', 'valu', 'pass...   \n",
              "117378  ['intermitt', 'slow', 'see', 'ping', 'show', '...   \n",
              "117379  ['investig', 'string', 'metric', 'type', 'adeq...   \n",
              "117380  ['remov', 'manual', 'page', 'load', 'event', '...   \n",
              "\n",
              "                                        processed_summary  \\\n",
              "0                  scroll scroll mice touchpad etc scroll   \n",
              "1              add check item download panel browser test   \n",
              "2       useafterfre navig document form valid messag s...   \n",
              "3          add address properli autofil option dialog box   \n",
              "4                libxmlgyp defin libxmlstat direct depend   \n",
              "...                                                   ...   \n",
              "117376    updat gleanj dashboard ignor glean sdk data vpn   \n",
              "117377            autocomplet type valid valu pass record   \n",
              "117378     intermitt slow see ping show debug ping viewer   \n",
              "117379  investig string metric type adequ captur gfxad...   \n",
              "117380  remov manual page load event glean debug ping ...   \n",
              "\n",
              "                    Assignee  Assignee_Class  \n",
              "0          amit@chromium.org             124  \n",
              "1       achuith@chromium.org              52  \n",
              "2         tkent@chromium.org            2118  \n",
              "3           sky@chromium.org            1972  \n",
              "4           wtc@chromium.org            2282  \n",
              "...                      ...             ...  \n",
              "117376                 brosa             278  \n",
              "117377                 brosa             278  \n",
              "117378                 brosa             278  \n",
              "117379              pmcmanis            1685  \n",
              "117380                 brosa             278  \n",
              "\n",
              "[117381 rows x 4 columns]"
            ]
          },
          "execution_count": 9,
          "metadata": {},
          "output_type": "execute_result"
        }
      ],
      "source": [
        "# Display the DataFrame 'dataset'\n",
        "# This will print the first and last 5 rows of the DataFrame along with the column names and index\n",
        "# Useful for a quick overview of the data after labeling\n",
        "dataset"
      ]
    },
    {
      "cell_type": "markdown",
      "metadata": {},
      "source": [
        "**Train only on 20 classes of the data**"
      ]
    },
    {
      "cell_type": "code",
      "execution_count": 10,
      "metadata": {
        "id": "fEoajeIWRKYv"
      },
      "outputs": [],
      "source": [
        "dataset= dataset[dataset['Assignee_Class']<20]"
      ]
    },
    {
      "cell_type": "code",
      "execution_count": 11,
      "metadata": {
        "colab": {
          "base_uri": "https://localhost:8080/"
        },
        "id": "AFY1Micb98uu",
        "outputId": "fa10f579-03cc-4916-9534-5c633308838d"
      },
      "outputs": [
        {
          "data": {
            "text/plain": [
              "Summary_Stemmed      2747\n",
              "processed_summary    2747\n",
              "Assignee               20\n",
              "Assignee_Class         20\n",
              "dtype: int64"
            ]
          },
          "execution_count": 11,
          "metadata": {},
          "output_type": "execute_result"
        }
      ],
      "source": [
        "# Display the number of unique values in each column of the dataset\n",
        "dataset.nunique()"
      ]
    },
    {
      "cell_type": "markdown",
      "metadata": {
        "id": "7rcK7Qwm89P_"
      },
      "source": [
        "**Split the dataset**"
      ]
    },
    {
      "cell_type": "code",
      "execution_count": 12,
      "metadata": {
        "colab": {
          "base_uri": "https://localhost:8080/"
        },
        "id": "9OkGo3er2ikC",
        "outputId": "d87f0212-2724-41c7-d825-9a1b5179d100"
      },
      "outputs": [
        {
          "name": "stdout",
          "output_type": "stream",
          "text": [
            "(2748, 4)\n",
            "Assignee_Class\n",
            "11    779\n",
            "0     641\n",
            "19    560\n",
            "1     251\n",
            "16    115\n",
            "13    113\n",
            "8      80\n",
            "5      42\n",
            "4      40\n",
            "7      31\n",
            "17     24\n",
            "18     15\n",
            "12     13\n",
            "15      9\n",
            "6       7\n",
            "3       7\n",
            "10      6\n",
            "14      5\n",
            "2       5\n",
            "9       5\n",
            "Name: count, dtype: int64\n"
          ]
        }
      ],
      "source": [
        "# Print the shape of the dataset\n",
        "print(dataset.shape)\n",
        "# This line prints the shape of the dataset, which includes the number of rows and columns.\n",
        "# It helps to understand the dimensions of the dataset.\n",
        "\n",
        "# Print the class distribution of 'Assignee_Class'\n",
        "print(dataset['Assignee_Class'].value_counts())\n",
        "# This line prints the count of each unique value in the 'Assignee_Class' column.\n",
        "# It provides insight into the distribution of classes, which is useful for understanding class imbalance."
      ]
    },
    {
      "cell_type": "code",
      "execution_count": 13,
      "metadata": {
        "id": "xNWFW87T2r_-"
      },
      "outputs": [],
      "source": [
        "# Create the StratifiedShuffleSplit object\n",
        "sss = StratifiedShuffleSplit(n_splits=1, test_size=0.2, random_state=42)\n",
        "\n",
        "# This line creates a StratifiedShuffleSplit object with the following parameters:\n",
        "# - n_splits=1: Specifies that there will be only one split.\n",
        "# - test_size=0.2: Indicates that 20% of the dataset will be used as the test set.\n",
        "# - random_state=42: Ensures reproducibility by using a fixed seed for the random number generator.\n",
        "\n",
        "# Split the dataset into train and test sets\n",
        "train_idx, test_idx = next(sss.split(dataset, dataset['Assignee_Class']))\n",
        "\n",
        "# This line performs the split based on the 'Assignee_Class' column to ensure that the train and test sets\n",
        "# have a similar class distribution. 'sss.split' returns the indices of the train and test samples.\n",
        "\n",
        "# Create the training DataFrame\n",
        "train_df = dataset.iloc[train_idx].reset_index(drop=True)\n",
        "\n",
        "# This line creates a training DataFrame using the indices obtained from the split.\n",
        "# 'iloc' is used to select the rows corresponding to the train indices.\n",
        "# 'reset_index(drop=True)' resets the index of the training DataFrame.\n",
        "\n",
        "# Create the test DataFrame\n",
        "test_df = dataset.iloc[test_idx].reset_index(drop=True)\n",
        "\n",
        "# This line creates a test DataFrame using the indices obtained from the split.\n",
        "# 'iloc' is used to select the rows corresponding to the test indices.\n",
        "# 'reset_index(drop=True)' resets the index of the test DataFrame."
      ]
    },
    {
      "cell_type": "code",
      "execution_count": 14,
      "metadata": {
        "colab": {
          "base_uri": "https://localhost:8080/"
        },
        "id": "2dZqKl4vQyR4",
        "outputId": "c563f0aa-7890-4ec7-a408-672d4a2bcc77"
      },
      "outputs": [
        {
          "name": "stdout",
          "output_type": "stream",
          "text": [
            "(2198, 4)\n",
            "(550, 4)\n"
          ]
        }
      ],
      "source": [
        "# Output the shapes of hathe resulting DataFrames\n",
        "print(train_df.shape)\n",
        "print(test_df.shape)"
      ]
    },
    {
      "cell_type": "code",
      "execution_count": 15,
      "metadata": {
        "id": "e7wSnTmm28lY"
      },
      "outputs": [],
      "source": [
        "# Separate features (X) and labels (y) for train, validation, and test sets\n",
        "X_train, y_train = train_df['processed_summary'], train_df['Assignee_Class']\n",
        "X_test, y_test = test_df['processed_summary'], test_df['Assignee_Class']"
      ]
    },
    {
      "cell_type": "markdown",
      "metadata": {
        "id": "kc04vMX7-RrB"
      },
      "source": [
        "**Apply TF-IDF Transformation**"
      ]
    },
    {
      "cell_type": "code",
      "execution_count": 16,
      "metadata": {
        "colab": {
          "base_uri": "https://localhost:8080/",
          "height": 200
        },
        "id": "U3PsBg22-TTW",
        "outputId": "8d4aa67a-7b7d-49a2-bcb8-ea3c824e3eb5"
      },
      "outputs": [
        {
          "name": "stdout",
          "output_type": "stream",
          "text": [
            "Training TF-IDF Sparse Matrix Shape: (2198, 15888)\n",
            "Test TF-IDF Sparse Matrix Shape: (550, 15888)\n"
          ]
        },
        {
          "data": {
            "application/vnd.google.colaboratory.intrinsic+json": {
              "type": "string"
            },
            "text/plain": [
              "'\\nPurpose: Tokenizes text data, computes TF-IDF values, builds vocabulary, and converts TF-IDF vectors to sparse matrices.\\n\\nUses the custom_tokenize function from the tf_idf_utils module to tokenize each document in X_train and X_test.\\nCalculates IDF using the compute_idf function from tf_idf_utils based on X_train_tokens.\\nComputes TF-IDF for each document in X_train_tokens and X_test_tokens using compute_tf and compute_tfidf functions from tf_idf_utils.\\nConstructs a vocabulary (vocab) mapping each word to its index based on the IDF keys.\\nAssigns default_idx to the length of vocab to handle unseen words during matrix conversion.\\nConverts TF-IDF vectors (X_train_tfidf and X_test_tfidf) to sparse matrices (X_train_tfidf_matrix and X_test_tfidf_matrix) using tfidf_to_sparse_matrix function from tf_idf_utils.\\nPrints the shapes of the resulting sparse matrices (X_train_tfidf_matrix and X_test_tfidf_matrix).\\n'"
            ]
          },
          "execution_count": 16,
          "metadata": {},
          "output_type": "execute_result"
        }
      ],
      "source": [
        "# Tokenize the dataset using the custom tokenizer from tf_idf_utils module\n",
        "X_train_tokens = [tf_idf_utils.custom_tokenize(doc) for doc in X_train]\n",
        "X_test_tokens = [tf_idf_utils.custom_tokenize(doc) for doc in X_test]\n",
        "\n",
        "# Compute IDF (Inverse Document Frequency) using the training data tokens\n",
        "idf = tf_idf_utils.compute_idf(X_train_tokens)\n",
        "default_idf = math.log(len(X_train_tokens) / 1)  # Default IDF for unseen words\n",
        "\n",
        "# Compute TF-IDF (Term Frequency-Inverse Document Frequency) for each document in the training set\n",
        "X_train_tfidf = [tf_idf_utils.compute_tfidf(tf_idf_utils.compute_tf(doc), idf, default_idf) for doc in X_train_tokens]\n",
        "\n",
        "# Transform test sets using the IDF from the training set\n",
        "X_test_tfidf = [tf_idf_utils.compute_tfidf(tf_idf_utils.compute_tf(doc), idf, default_idf) for doc in X_test_tokens]\n",
        "\"\"\"\n",
        "When transforming test data (X_test) into TF-IDF vectors, \n",
        "it's essential to maintain the same scale and feature representation as the training data (X_train). \n",
        "Using IDF values from X_train ensures that the test set is processed in the same context as the training set, \n",
        "preventing any bias or information leakage that could occur if test set statistics were used.\n",
        "\"\"\"\n",
        "\n",
        "# Build vocabulary using unique words from IDF dictionary keys\n",
        "vocab = {word: idx for idx, word in enumerate(idf.keys())}\n",
        "\n",
        "# Use an index for unseen words in the vocabulary\n",
        "default_idx = len(vocab)\n",
        "\n",
        "# Convert the TF-IDF vectors to a sparse matrix format\n",
        "X_train_tfidf_matrix = tf_idf_utils.tfidf_to_sparse_matrix(X_train_tfidf, vocab, default_idx)\n",
        "X_test_tfidf_matrix = tf_idf_utils.tfidf_to_sparse_matrix(X_test_tfidf, vocab, default_idx)\n",
        "\n",
        "# Print the shapes of the TF-IDF sparse matrices\n",
        "print(\"Training TF-IDF Sparse Matrix Shape:\", X_train_tfidf_matrix.shape)\n",
        "print(\"Test TF-IDF Sparse Matrix Shape:\", X_test_tfidf_matrix.shape)\n",
        "\n",
        "\"\"\"\n",
        "Purpose: Tokenizes text data, computes TF-IDF values, builds vocabulary, and converts TF-IDF vectors to sparse matrices.\n",
        "\n",
        "Uses the custom_tokenize function from the tf_idf_utils module to tokenize each document in X_train and X_test.\n",
        "Calculates IDF using the compute_idf function from tf_idf_utils based on X_train_tokens.\n",
        "Computes TF-IDF for each document in X_train_tokens and X_test_tokens using compute_tf and compute_tfidf functions from tf_idf_utils.\n",
        "Constructs a vocabulary (vocab) mapping each word to its index based on the IDF keys.\n",
        "Assigns default_idx to the length of vocab to handle unseen words during matrix conversion.\n",
        "Converts TF-IDF vectors (X_train_tfidf and X_test_tfidf) to sparse matrices (X_train_tfidf_matrix and X_test_tfidf_matrix) using tfidf_to_sparse_matrix function from tf_idf_utils.\n",
        "Prints the shapes of the resulting sparse matrices (X_train_tfidf_matrix and X_test_tfidf_matrix).\n",
        "\"\"\""
      ]
    },
    {
      "cell_type": "code",
      "execution_count": 25,
      "metadata": {
        "colab": {
          "base_uri": "https://localhost:8080/"
        },
        "id": "gCasEaUWVaFL",
        "outputId": "a1a26e8b-156a-4b5d-ebe8-8963b8b14ac5"
      },
      "outputs": [
        {
          "data": {
            "text/plain": [
              "['/content/drive/MyDrive/checkpoints/custom_tfidf_vectorizer_final.pkl']"
            ]
          },
          "execution_count": 25,
          "metadata": {},
          "output_type": "execute_result"
        }
      ],
      "source": [
        "# Save the components\n",
        "joblib.dump((idf, default_idf, vocab, default_idx), '/content/drive/MyDrive/checkpoints/custom_tfidf_vectorizer_final.pkl')"
      ]
    },
    {
      "cell_type": "markdown",
      "metadata": {
        "id": "rJhb-p-w-e88"
      },
      "source": [
        "**Train an SVM Classifier**"
      ]
    },
    {
      "cell_type": "code",
      "execution_count": 17,
      "metadata": {
        "colab": {
          "base_uri": "https://localhost:8080/",
          "height": 72
        },
        "id": "wR6HbMsQhlyy",
        "outputId": "f982c0b2-675d-4bf7-f15a-9de9e51bce81"
      },
      "outputs": [
        {
          "data": {
            "application/vnd.google.colaboratory.intrinsic+json": {
              "type": "string"
            },
            "text/plain": [
              "'\\nPurpose:\\n- Saves the trained SVM classifier model to a specified file location on Google Drive.\\n\\nParameters:\\n- svm_classifier: Trained SVM classifier object.\\n- model_filename: File path where the trained model will be saved.\\n\\nOutputs:\\n- Saved model file: Persists the trained SVM classifier to the specified file location.\\n'"
            ]
          },
          "execution_count": 17,
          "metadata": {},
          "output_type": "execute_result"
        }
      ],
      "source": [
        "# Initialize the SVM classifier\n",
        "svm_classifier = SVC(C=10, kernel='linear',gamma = 'scale', class_weight = 'balanced' ,probability=True)\n",
        "\"\"\"\n",
        "Purpose:\n",
        "- Initializes a Support Vector Machine (SVM) classifier with the specified parameters.\n",
        "\n",
        "Parameters:\n",
        "- C=10: Penalty parameter C of the error term.\n",
        "- kernel='linear': Specifies the linear kernel for the SVM.\n",
        "- probability=True: Enables probability estimation, necessary for Platt scaling.\n",
        "\n",
        "Outputs:\n",
        "- svm_classifier: Initialized SVM classifier object configured with specified parameters.\n",
        "\"\"\"\n",
        "\n",
        "# Train the classifier on the TF-IDF transformed training data\n",
        "svm_classifier.fit(X_train_tfidf_matrix, y_train)\n",
        "\"\"\"\n",
        "Purpose:\n",
        "- Trains the SVM classifier on the TF-IDF transformed training data.\n",
        "\n",
        "Parameters:\n",
        "- X_train_tfidf_matrix: Training data features transformed into TF-IDF format.\n",
        "- y_train: Training data labels.\n",
        "\n",
        "Outputs:\n",
        "- Trained svm_classifier: SVM classifier fitted to the training data.\n",
        "\"\"\"\n",
        "\n",
        "# Save the trained model to Google Drive\n",
        "model_filename = '/content/drive/MyDrive/checkpoints/svm_classifier_model_with_tf_idf_implementation_final.joblib'\n",
        "joblib.dump(svm_classifier, model_filename)\n",
        "\"\"\"\n",
        "Purpose:\n",
        "- Saves the trained SVM classifier model to a specified file location on Google Drive.\n",
        "\n",
        "Parameters:\n",
        "- svm_classifier: Trained SVM classifier object.\n",
        "- model_filename: File path where the trained model will be saved.\n",
        "\n",
        "Outputs:\n",
        "- Saved model file: Persists the trained SVM classifier to the specified file location.\n",
        "\"\"\""
      ]
    },
    {
      "cell_type": "code",
      "execution_count": null,
      "metadata": {
        "colab": {
          "base_uri": "https://localhost:8080/",
          "height": 110
        },
        "id": "X48deClM-Eao",
        "outputId": "8a869eff-66a1-4009-eeb9-c471af43d5fc"
      },
      "outputs": [
        {
          "name": "stderr",
          "output_type": "stream",
          "text": [
            "/usr/local/lib/python3.10/dist-packages/sklearn/base.py:318: UserWarning: Trying to unpickle estimator SVC from version 0.24.2 when using version 1.2.2. This might lead to breaking code or invalid results. Use at your own risk. For more info please refer to:\n",
            "https://scikit-learn.org/stable/model_persistence.html#security-maintainability-limitations\n",
            "  warnings.warn(\n"
          ]
        },
        {
          "data": {
            "application/vnd.google.colaboratory.intrinsic+json": {
              "type": "string"
            },
            "text/plain": [
              "'\\nPurpose: Loads a pre-trained SVM classifier model from a specified file path in Google Drive.\\n'"
            ]
          },
          "execution_count": 4,
          "metadata": {},
          "output_type": "execute_result"
        }
      ],
      "source": [
        "# Load the model from Google Drive\n",
        "model_filename = '/content/drive/MyDrive/checkpoints/svm_classifier_model_with_tf_idf_implementation_final.joblib'\n",
        "svm_classifier = joblib.load(model_filename)\n",
        "\"\"\"\n",
        "Purpose: Loads a pre-trained SVM classifier model from a specified file path in Google Drive.\n",
        "\"\"\""
      ]
    },
    {
      "cell_type": "markdown",
      "metadata": {
        "id": "TGJAwsof_Cgb"
      },
      "source": [
        "**Test the Final Model on the Test Set**"
      ]
    },
    {
      "cell_type": "code",
      "execution_count": 18,
      "metadata": {
        "colab": {
          "base_uri": "https://localhost:8080/",
          "height": 90
        },
        "id": "QLrui_9c_GxV",
        "outputId": "05b316b2-8b46-497b-da79-be61bbf99b39"
      },
      "outputs": [
        {
          "name": "stdout",
          "output_type": "stream",
          "text": [
            "Test Accuracy: 0.7418181818181818\n"
          ]
        },
        {
          "data": {
            "application/vnd.google.colaboratory.intrinsic+json": {
              "type": "string"
            },
            "text/plain": [
              "'\\nPurpose:\\n- Computes the accuracy of the SVM classifier on the test set.\\n\\nParameters:\\n- y_test: True class labels of the test set.\\n- test_predictions: Predicted class labels obtained from the SVM classifier.\\n\\nOutputs:\\n- Prints the Test accuracy score.\\n'"
            ]
          },
          "execution_count": 18,
          "metadata": {},
          "output_type": "execute_result"
        }
      ],
      "source": [
        "# Predict labels on the test set\n",
        "test_predictions = svm_classifier.predict(X_test_tfidf_matrix)\n",
        "\"\"\"\n",
        "Purpose:\n",
        "- Predicts the class labels for the test set using the trained SVM classifier.\n",
        "\n",
        "Parameters:\n",
        "- svm_classifier: Trained SVM classifier object.\n",
        "- X_test_tfidf_matrix: Test set features transformed into TF-IDF format.\n",
        "\n",
        "Outputs:\n",
        "- test_predictions: Predicted class labels for the test set.\n",
        "\"\"\"\n",
        "\n",
        "# Calculate accuracy on the test set\n",
        "test_accuracy = accuracy_score(y_test, test_predictions)\n",
        "print(\"Test Accuracy:\", test_accuracy)\n",
        "\"\"\"\n",
        "Purpose:\n",
        "- Computes the accuracy of the SVM classifier on the test set.\n",
        "\n",
        "Parameters:\n",
        "- y_test: True class labels of the test set.\n",
        "- test_predictions: Predicted class labels obtained from the SVM classifier.\n",
        "\n",
        "Outputs:\n",
        "- Prints the Test accuracy score.\n",
        "\"\"\""
      ]
    },
    {
      "cell_type": "code",
      "execution_count": 19,
      "metadata": {
        "colab": {
          "base_uri": "https://localhost:8080/",
          "height": 72
        },
        "id": "aPJ1V5t0h3jW",
        "outputId": "9744d875-cb70-45a5-a8ea-2d905251019e"
      },
      "outputs": [
        {
          "data": {
            "application/vnd.google.colaboratory.intrinsic+json": {
              "type": "string"
            },
            "text/plain": [
              "'\\nPurpose:\\n- Predicts class probabilities for each sample in the test set using the trained SVM classifier.\\n\\nParameters:\\n- svm_classifier: SVM classifier model previously trained and loaded.\\n- X_test_tfidf_matrix: TF-IDF transformed Test set features.\\n\\nOutputs:\\n- test_probabilities: Predicted probabilities of each class for each sample in the test set.\\n'"
            ]
          },
          "execution_count": 19,
          "metadata": {},
          "output_type": "execute_result"
        }
      ],
      "source": [
        "# Predict probabilities on the test set\n",
        "test_probabilities = svm_classifier.predict_proba(X_test_tfidf_matrix)\n",
        "\"\"\"\n",
        "Purpose:\n",
        "- Predicts class probabilities for each sample in the test set using the trained SVM classifier.\n",
        "\n",
        "Parameters:\n",
        "- svm_classifier: SVM classifier model previously trained and loaded.\n",
        "- X_test_tfidf_matrix: TF-IDF transformed Test set features.\n",
        "\n",
        "Outputs:\n",
        "- test_probabilities: Predicted probabilities of each class for each sample in the test set.\n",
        "\"\"\""
      ]
    },
    {
      "cell_type": "code",
      "execution_count": 20,
      "metadata": {
        "colab": {
          "base_uri": "https://localhost:8080/",
          "height": 54
        },
        "id": "_KctqhVih8SE",
        "outputId": "2c0bcada-21cf-434b-ad24-c21db5f576cf"
      },
      "outputs": [
        {
          "name": "stdout",
          "output_type": "stream",
          "text": [
            "Test Top-3 Accuracy: 0.9381818181818182\n"
          ]
        },
        {
          "data": {
            "application/vnd.google.colaboratory.intrinsic+json": {
              "type": "string"
            },
            "text/plain": [
              "'\\nPurpose:\\n- Prints the computed top-K accuracy score for the test set predictions.\\n'"
            ]
          },
          "execution_count": 20,
          "metadata": {},
          "output_type": "execute_result"
        }
      ],
      "source": [
        "# Calculate top-3 accuracy\n",
        "top_k = 3\n",
        "test_top_k_accuracy = top_k_accuracy_score(y_test, test_probabilities, k=top_k)\n",
        "\"\"\"\n",
        "Purpose:\n",
        "- Calculates the top-K accuracy for the test set predictions based on predicted probabilities.\n",
        "\n",
        "Parameters:\n",
        "- y_test: True labels of the test set.\n",
        "- test_probabilities: Predicted probabilities of each class for each sample in the test set.\n",
        "- k: Number of top predictions to consider for accuracy calculation.\n",
        "\n",
        "Outputs:\n",
        "- test_top_k_accuracy: Top-K accuracy score for the test set predictions.\n",
        "\"\"\"\n",
        "print(f\"Test Top-{top_k} Accuracy:\", test_top_k_accuracy)\n",
        "\"\"\"\n",
        "Purpose:\n",
        "- Prints the computed top-K accuracy score for the test set predictions.\n",
        "\"\"\""
      ]
    },
    {
      "cell_type": "code",
      "execution_count": 21,
      "metadata": {
        "colab": {
          "base_uri": "https://localhost:8080/",
          "height": 54
        },
        "id": "knB9lDqBiOOJ",
        "outputId": "44af1f1d-5ba1-473a-e838-4410d7a9522b"
      },
      "outputs": [
        {
          "name": "stdout",
          "output_type": "stream",
          "text": [
            "Test Top-5 Accuracy: 0.9654545454545455\n"
          ]
        },
        {
          "data": {
            "application/vnd.google.colaboratory.intrinsic+json": {
              "type": "string"
            },
            "text/plain": [
              "'\\nPurpose:\\n- Prints the computed top-K accuracy score for the test set predictions.\\n'"
            ]
          },
          "execution_count": 21,
          "metadata": {},
          "output_type": "execute_result"
        }
      ],
      "source": [
        "# Calculate top-5 accuracy\n",
        "top_k = 5\n",
        "test_top_k_accuracy = top_k_accuracy_score(y_test, test_probabilities, k=top_k)\n",
        "\"\"\"\n",
        "Purpose:\n",
        "- Calculates the top-K accuracy for the test set predictions based on predicted probabilities.\n",
        "\n",
        "Parameters:\n",
        "- y_test: True labels of the test set.\n",
        "- test_probabilities: Predicted probabilities of each class for each sample in the test set.\n",
        "- k: Number of top predictions to consider for accuracy calculation.\n",
        "\n",
        "Outputs:\n",
        "- test_top_k_accuracy: Top-K accuracy score for the test set predictions.\n",
        "\"\"\"\n",
        "print(f\"Test Top-{top_k} Accuracy:\", test_top_k_accuracy)\n",
        "\"\"\"\n",
        "Purpose:\n",
        "- Prints the computed top-K accuracy score for the test set predictions.\n",
        "\"\"\""
      ]
    },
    {
      "cell_type": "code",
      "execution_count": 22,
      "metadata": {
        "colab": {
          "base_uri": "https://localhost:8080/",
          "height": 54
        },
        "id": "AaE6VYpwiHzu",
        "outputId": "d0da0bb7-560f-4c87-d242-77592f6cfeae"
      },
      "outputs": [
        {
          "name": "stdout",
          "output_type": "stream",
          "text": [
            "Test Top-10 Accuracy: 0.990909090909091\n"
          ]
        },
        {
          "data": {
            "application/vnd.google.colaboratory.intrinsic+json": {
              "type": "string"
            },
            "text/plain": [
              "'\\nPurpose:\\n- Prints the computed top-K accuracy score for the test set predictions.\\n'"
            ]
          },
          "execution_count": 22,
          "metadata": {},
          "output_type": "execute_result"
        }
      ],
      "source": [
        "# Calculate top-10 accuracy\n",
        "top_k = 10\n",
        "test_top_k_accuracy = top_k_accuracy_score(y_test, test_probabilities, k=top_k)\n",
        "\"\"\"\n",
        "Purpose:\n",
        "- Calculates the top-K accuracy for the test set predictions based on predicted probabilities.\n",
        "\n",
        "Parameters:\n",
        "- y_test: True labels of the test set.\n",
        "- test_probabilities: Predicted probabilities of each class for each sample in the test set.\n",
        "- k: Number of top predictions to consider for accuracy calculation.\n",
        "\n",
        "Outputs:\n",
        "- test_top_k_accuracy: Top-K accuracy score for the test set predictions.\n",
        "\"\"\"\n",
        "print(f\"Test Top-{top_k} Accuracy:\", test_top_k_accuracy)\n",
        "\"\"\"\n",
        "Purpose:\n",
        "- Prints the computed top-K accuracy score for the test set predictions.\n",
        "\"\"\""
      ]
    }
  ],
  "metadata": {
    "colab": {
      "provenance": []
    },
    "kernelspec": {
      "display_name": "Python 3",
      "name": "python3"
    },
    "language_info": {
      "name": "python"
    }
  },
  "nbformat": 4,
  "nbformat_minor": 0
}
