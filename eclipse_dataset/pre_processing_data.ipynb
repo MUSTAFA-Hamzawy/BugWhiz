{
 "cells": [
  {
   "cell_type": "code",
   "execution_count": 1,
   "metadata": {
    "colab": {
     "base_uri": "https://localhost:8080/"
    },
    "id": "TOUh0894Z2QM",
    "outputId": "8a05336a-818f-4882-b110-624020d0333e"
   },
   "outputs": [
    {
     "name": "stdout",
     "output_type": "stream",
     "text": [
      "Number of lines in the file: 333668\n"
     ]
    }
   ],
   "source": [
    "file_path = 'merged_file.csv'\n",
    "\n",
    "# Open the file in read mode\n",
    "with open(file_path, 'r') as file:\n",
    "    # Use a loop to iterate over each line in the file\n",
    "    line_count = sum(1 for line in file)\n",
    "\n",
    "print(\"Number of lines in the original file:\", line_count)\n"
   ]
  },
  {
   "cell_type": "code",
   "execution_count": 2,
   "metadata": {},
   "outputs": [
    {
     "name": "stdout",
     "output_type": "stream",
     "text": [
      "Column names in the CSV file: ['Bug ID', 'Product', 'Component', 'Assignee', 'Status', 'Resolution', 'Summary', 'Changed']\n"
     ]
    }
   ],
   "source": [
    "import csv\n",
    "\n",
    "file_path = 'merged_file.csv'\n",
    "\n",
    "# Open the CSV file in read mode\n",
    "with open(file_path, 'r') as file:\n",
    "    # Create a CSV reader object\n",
    "    csv_reader = csv.reader(file)\n",
    "    \n",
    "    # Read the first row of the CSV file\n",
    "    column_names = next(csv_reader)\n",
    "\n",
    "print(\"Column names in the CSV file:\", column_names)\n"
   ]
  },
  {
   "cell_type": "code",
   "execution_count": 4,
   "metadata": {},
   "outputs": [
    {
     "name": "stdout",
     "output_type": "stream",
     "text": [
      "Unique elements in the 'Assignee' column:\n",
      "['UNCONFIRMED' 'NEW' 'ASSIGNED' 'REOPENED' 'RESOLVED' 'VERIFIED' 'CLOSED']\n"
     ]
    }
   ],
   "source": [
    "import pandas as pd\n",
    "\n",
    "file_path = 'merged_file.csv'\n",
    "\n",
    "# Read the CSV file into a DataFrame\n",
    "df = pd.read_csv(file_path)\n",
    "\n",
    "# Get the unique elements in the \"Assignee\" column\n",
    "unique_assignees = df['Status'].unique()\n",
    "\n",
    "print(\"Unique elements in the 'Status' column:\")\n",
    "print(unique_assignees)\n"
   ]
  },
  {
   "cell_type": "code",
   "execution_count": 5,
   "metadata": {},
   "outputs": [
    {
     "name": "stdout",
     "output_type": "stream",
     "text": [
      "Unique elements in the 'Resolution' column:\n",
      "[' ---' 'FIXED' 'WONTFIX' 'INVALID' 'NOT_ECLIPSE' 'WORKSFORME' 'DUPLICATE'\n",
      " 'MOVED']\n"
     ]
    }
   ],
   "source": [
    "import pandas as pd\n",
    "\n",
    "file_path = 'merged_file.csv'\n",
    "\n",
    "# Read the CSV file into a DataFrame\n",
    "df = pd.read_csv(file_path)\n",
    "\n",
    "# Get the unique elements in the \"Assignee\" column\n",
    "unique_assignees = df['Resolution'].unique()\n",
    "\n",
    "print(\"Unique elements in the 'Resolution' column:\")\n",
    "print(unique_assignees)\n"
   ]
  },
  {
   "cell_type": "code",
   "execution_count": 11,
   "metadata": {},
   "outputs": [],
   "source": [
    "import pandas as pd\n",
    "\n",
    "file_path = 'merged_file.csv'\n",
    "\n",
    "# Read the CSV file into a DataFrame\n",
    "df = pd.read_csv(file_path)\n",
    "\n",
    "# Filter out rows with 'Duplicate' in the 'Status' column\n",
    "df = df[df['Resolution'] != 'DUPLICATE']\n",
    "\n",
    "# Write the filtered DataFrame back to a CSV file\n",
    "df.to_csv('filtered_file.csv', index=False)\n"
   ]
  },
  {
   "cell_type": "code",
   "execution_count": 12,
   "metadata": {},
   "outputs": [
    {
     "name": "stdout",
     "output_type": "stream",
     "text": [
      "Number of lines after filtering: 305093\n"
     ]
    }
   ],
   "source": [
    "file_path = 'filtered_file.csv'\n",
    "\n",
    "# Open the file in read mode\n",
    "with open(file_path, 'r') as file:\n",
    "    # Use a loop to iterate over each line in the file\n",
    "    line_count = sum(1 for line in file)\n",
    "\n",
    "print(\"Number of lines after filtering:\", line_count)\n"
   ]
  },
  {
   "cell_type": "code",
   "execution_count": 13,
   "metadata": {},
   "outputs": [
    {
     "name": "stdout",
     "output_type": "stream",
     "text": [
      "Unique elements in the 'Resolution' column:\n",
      "['UNCONFIRMED' 'NEW' 'ASSIGNED' 'REOPENED' 'RESOLVED' 'VERIFIED' 'CLOSED']\n"
     ]
    }
   ],
   "source": [
    "import pandas as pd\n",
    "\n",
    "file_path = 'merged_file.csv'\n",
    "\n",
    "# Read the CSV file into a DataFrame\n",
    "df = pd.read_csv(file_path)\n",
    "\n",
    "# Get the unique elements in the \"Assignee\" column\n",
    "unique_assignees = df['Status'].unique()\n",
    "\n",
    "print(\"Unique elements in the 'Resolution' column:\")\n",
    "print(unique_assignees)\n"
   ]
  },
  {
   "cell_type": "code",
   "execution_count": null,
   "metadata": {},
   "outputs": [],
   "source": []
  }
 ],
 "metadata": {
  "accelerator": "GPU",
  "colab": {
   "gpuType": "T4",
   "provenance": []
  },
  "kernelspec": {
   "display_name": "Python 3 (ipykernel)",
   "language": "python",
   "name": "python3"
  },
  "language_info": {
   "codemirror_mode": {
    "name": "ipython",
    "version": 3
   },
   "file_extension": ".py",
   "mimetype": "text/x-python",
   "name": "python",
   "nbconvert_exporter": "python",
   "pygments_lexer": "ipython3",
   "version": "3.8.10"
  }
 },
 "nbformat": 4,
 "nbformat_minor": 4
}
