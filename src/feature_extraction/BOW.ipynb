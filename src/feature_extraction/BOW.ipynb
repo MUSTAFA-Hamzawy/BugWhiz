{
 "cells": [
  {
   "cell_type": "code",
   "execution_count": 8,
   "metadata": {},
   "outputs": [],
   "source": [
    "from sklearn.feature_extraction.text import CountVectorizer\n",
    "from sklearn.metrics.pairwise import cosine_similarity\n",
    "import re"
   ]
  },
  {
   "cell_type": "code",
   "execution_count": 9,
   "metadata": {},
   "outputs": [],
   "source": [
    "def preprocess_bug_description(description):\n",
    "\n",
    "    # Convert to lowercase\n",
    "    description = description.lower()\n",
    "\n",
    "    # Remove punctuation and special characters\n",
    "    description = re.sub(r'[^a-zA-Z0-9\\s]', '', description)\n",
    "\n",
    "    # Remove numbers\n",
    "    description = re.sub(r'\\b\\d+\\b', '', description)\n",
    "\n",
    "    # Remove extra whitespace\n",
    "    description = re.sub(r'\\s+', ' ', description)\n",
    "\n",
    "    return description"
   ]
  },
  {
   "cell_type": "code",
   "execution_count": 10,
   "metadata": {},
   "outputs": [],
   "source": [
    "# Preprocess Bug Reports\n",
    "def preprocess_bug_reports(bug_reports):\n",
    "    preprocessed_reports = []\n",
    "    for report in bug_reports:\n",
    "        # Implement your preprocessing steps here\n",
    "        preprocessed_report = preprocess_bug_description(report)\n",
    "        preprocessed_reports.append(preprocessed_report)\n",
    "    return preprocessed_reports"
   ]
  },
  {
   "cell_type": "code",
   "execution_count": 11,
   "metadata": {},
   "outputs": [],
   "source": [
    "# Create a Vocabulary and Generate BoW Vectors\n",
    "def generate_bow_vectors(bug_reports):\n",
    "    # Initialize CountVectorizer to create BoW vectors\n",
    "    vectorizer = CountVectorizer()\n",
    "    # Fit the vectorizer on preprocessed bug reports to build the vocabulary\n",
    "    vectorizer.fit(bug_reports)\n",
    "    # Transform bug reports into BoW vectors\n",
    "    bow_vectors = vectorizer.transform(bug_reports)\n",
    "    return bow_vectors"
   ]
  },
  {
   "cell_type": "code",
   "execution_count": 12,
   "metadata": {},
   "outputs": [],
   "source": [
    "# Calculate Similarity\n",
    "def calculate_similarity(bow_vectors):\n",
    "    # Calculate cosine similarity between each pair of bug reports\n",
    "    num_reports = bow_vectors.shape[0]\n",
    "    similarities = []\n",
    "    for i in range(num_reports):\n",
    "        for j in range(i+1, num_reports):\n",
    "            similarity_score = cosine_similarity(bow_vectors[i], bow_vectors[j])[0][0]\n",
    "            similarities.append(similarity_score)\n",
    "    return similarities"
   ]
  },
  {
   "cell_type": "code",
   "execution_count": 13,
   "metadata": {},
   "outputs": [
    {
     "name": "stdout",
     "output_type": "stream",
     "text": [
      "Similarity between Bug Report 1 and other bug reports: 0.1543\n",
      "Similarity between Bug Report 2 and other bug reports: 0.6211\n",
      "Similarity between Bug Report 3 and other bug reports: 0.2485\n"
     ]
    }
   ],
   "source": [
    "# Sample bug report data\n",
    "bug_reports = [\n",
    "    \"Bug report 1: UnknownHostException is not caught when the host name is invalid\",\n",
    "    \"Bug report 2: After having synchronized and released successfully with teamstream (on zrhcvs), I attempted to version the project org.eclipse.jdt.core and got a dialog saying 'CVS communication error'\",\n",
    "    \"Bug report 3: When the connection to the repositories fails, InterruptedIOException is not caught\"\n",
    "]\n",
    "\n",
    "# Preprocess bug reports\n",
    "preprocessed_bug_reports = preprocess_bug_reports(bug_reports)\n",
    "\n",
    "# Generate BoW vectors\n",
    "bow_vectors = generate_bow_vectors(preprocessed_bug_reports)\n",
    "\n",
    "# Calculate similarity\n",
    "similarities = calculate_similarity(bow_vectors)\n",
    "\n",
    "# Print similarity scores\n",
    "for i, similarity in enumerate(similarities, start=1):\n",
    "    print(f\"Similarity between Bug Report {i} and other bug reports: {similarity:.4f}\")\n"
   ]
  },
  {
   "cell_type": "code",
   "execution_count": null,
   "metadata": {},
   "outputs": [],
   "source": []
  }
 ],
 "metadata": {
  "kernelspec": {
   "display_name": "Python 3",
   "language": "python",
   "name": "python3"
  },
  "language_info": {
   "codemirror_mode": {
    "name": "ipython",
    "version": 3
   },
   "file_extension": ".py",
   "mimetype": "text/x-python",
   "name": "python",
   "nbconvert_exporter": "python",
   "pygments_lexer": "ipython3",
   "version": "3.10.2"
  }
 },
 "nbformat": 4,
 "nbformat_minor": 2
}
