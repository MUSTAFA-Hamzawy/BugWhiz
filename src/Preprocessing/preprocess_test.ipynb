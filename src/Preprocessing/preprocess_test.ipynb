{
 "cells": [
  {
   "cell_type": "code",
   "execution_count": 12,
   "metadata": {},
   "outputs": [],
   "source": [
    "import preprocessing"
   ]
  },
  {
   "cell_type": "code",
   "execution_count": 13,
   "metadata": {},
   "outputs": [],
   "source": [
    "import nltk\n",
    "from nltk.corpus import stopwords\n",
    "from nltk.tokenize import word_tokenize\n",
    "from nltk.stem import WordNetLemmatizer"
   ]
  },
  {
   "cell_type": "code",
   "execution_count": 14,
   "metadata": {},
   "outputs": [
    {
     "name": "stderr",
     "output_type": "stream",
     "text": [
      "[nltk_data] Downloading package punkt to\n",
      "[nltk_data]     C:\\Users\\Lenovo\\AppData\\Roaming\\nltk_data...\n",
      "[nltk_data]   Package punkt is already up-to-date!\n",
      "[nltk_data] Downloading package stopwords to\n",
      "[nltk_data]     C:\\Users\\Lenovo\\AppData\\Roaming\\nltk_data...\n",
      "[nltk_data]   Package stopwords is already up-to-date!\n",
      "[nltk_data] Downloading package wordnet to\n",
      "[nltk_data]     C:\\Users\\Lenovo\\AppData\\Roaming\\nltk_data...\n",
      "[nltk_data]   Package wordnet is already up-to-date!\n"
     ]
    },
    {
     "data": {
      "text/plain": [
       "True"
      ]
     },
     "execution_count": 14,
     "metadata": {},
     "output_type": "execute_result"
    }
   ],
   "source": [
    "# Download NLTK resources\n",
    "nltk.download('punkt')\n",
    "nltk.download('stopwords')\n",
    "nltk.download('wordnet')"
   ]
  },
  {
   "cell_type": "code",
   "execution_count": 15,
   "metadata": {},
   "outputs": [
    {
     "name": "stdout",
     "output_type": "stream",
     "text": [
      "Original Bug Description:\n",
      "Usually, a check-out is not \"reserved\" if a merge is not difficult, \n",
      "e.g. if there are merge tools.\n",
      "If there are no merge tools, and a merge by hand is not trivial, the \n",
      "check-out should be a\n",
      "\"reserved\" check-out.\n",
      "\n",
      "NOTES:\n",
      "\n",
      "BB (3/1/2001 9:36:23 AM)\n",
      "Proposed change to the VCM API: checkout() takes an additional boolean \n",
      "parameter\n",
      "\"reserved\" and the corresponding activity event is changed accordingly. \n",
      "Does not seem relevant for\n",
      "CVS. Moving to Active_MarkH for comment.\n",
      "\n",
      "SK (4/11/2001 6:10:17 PM)\n",
      "This will be solved via use of ICCActivity to do checkout and unlock.\n",
      "\n",
      "SK (4/25/2001 3:49:50 PM)\n",
      "Moving back to active, as this work is only a release candidate.\n",
      "\n",
      "KM (4/25/01 4:42:08 PM)\n",
      "From note from Mark H:\n",
      "I am not exposed to the whole development\n",
      "community, so I am not aware of what people are complaining \n",
      "about/asking\n",
      "for.  It is needed if we want to support serial development.\n",
      "\n",
      "Estimated development time is 1 week by Steve, so I would think \n",
      "that puts\n",
      "it in the future bucket by necessity.\n",
      "\n",
      "Jean-Michel (11/06/2001 9:37:22 AM)\n",
      "Our current internal VCM API does not support a pessimistic model.\n",
      "\n",
      "Preprocessed Bug Description:\n",
      "usually a checkout is not reserved if a merge is not difficult eg if there are merge tools if there are no merge tools and a merge by hand is not trivial the checkout should be a reserved checkout notes bb am proposed change to the vcm api checkout takes an additional boolean parameter reserved and the corresponding activity event is changed accordingly does not seem relevant for cvs moving to activemarkh for comment sk pm this will be solved via use of iccactivity to do checkout and unlock sk pm moving back to active as this work is only a release candidate km pm from note from mark h i am not exposed to the whole development community so i am not aware of what people are complaining aboutasking for it is needed if we want to support serial development estimated development time is week by steve so i would think that puts it in the future bucket by necessity jeanmichel am our current internal vcm api does not support a pessimistic model\n"
     ]
    }
   ],
   "source": [
    "# Initialize the WordNet Lemmatizer\n",
    "lemmatizer = WordNetLemmatizer()\n",
    "\n",
    "# Example usage:\n",
    "bug_description = \"\"\"Usually, a check-out is not \"reserved\" if a merge is not difficult, \n",
    "e.g. if there are merge tools.\n",
    "If there are no merge tools, and a merge by hand is not trivial, the \n",
    "check-out should be a\n",
    "\"reserved\" check-out.\n",
    "\n",
    "NOTES:\n",
    "\n",
    "BB (3/1/2001 9:36:23 AM)\n",
    "Proposed change to the VCM API: checkout() takes an additional boolean \n",
    "parameter\n",
    "\"reserved\" and the corresponding activity event is changed accordingly. \n",
    "Does not seem relevant for\n",
    "CVS. Moving to Active_MarkH for comment.\n",
    "\n",
    "SK (4/11/2001 6:10:17 PM)\n",
    "This will be solved via use of ICCActivity to do checkout and unlock.\n",
    "\n",
    "SK (4/25/2001 3:49:50 PM)\n",
    "Moving back to active, as this work is only a release candidate.\n",
    "\n",
    "KM (4/25/01 4:42:08 PM)\n",
    "From note from Mark H:\n",
    "I am not exposed to the whole development\n",
    "community, so I am not aware of what people are complaining \n",
    "about/asking\n",
    "for.  It is needed if we want to support serial development.\n",
    "\n",
    "Estimated development time is 1 week by Steve, so I would think \n",
    "that puts\n",
    "it in the future bucket by necessity.\n",
    "\n",
    "Jean-Michel (11/06/2001 9:37:22 AM)\n",
    "Our current internal VCM API does not support a pessimistic model.\"\"\"\n",
    "\n",
    "preprocessed_bug_description = preprocessing.preprocess_bug_description(bug_description)\n",
    "print(\"Original Bug Description:\")\n",
    "print(bug_description)\n",
    "print(\"\\nPreprocessed Bug Description:\")\n",
    "print(preprocessed_bug_description)\n"
   ]
  },
  {
   "cell_type": "code",
   "execution_count": null,
   "metadata": {},
   "outputs": [],
   "source": []
  }
 ],
 "metadata": {
  "kernelspec": {
   "display_name": "Python 3",
   "language": "python",
   "name": "python3"
  },
  "language_info": {
   "codemirror_mode": {
    "name": "ipython",
    "version": 3
   },
   "file_extension": ".py",
   "mimetype": "text/x-python",
   "name": "python",
   "nbconvert_exporter": "python",
   "pygments_lexer": "ipython3",
   "version": "3.10.2"
  }
 },
 "nbformat": 4,
 "nbformat_minor": 2
}
