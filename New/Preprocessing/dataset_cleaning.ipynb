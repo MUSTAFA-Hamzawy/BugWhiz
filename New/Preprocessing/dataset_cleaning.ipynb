{
 "cells": [
  {
   "cell_type": "code",
   "execution_count": 17,
   "metadata": {},
   "outputs": [],
   "source": [
    "import pandas as pd\n",
    "import os\n",
    "import numpy as np"
   ]
  },
  {
   "cell_type": "code",
   "execution_count": 18,
   "metadata": {},
   "outputs": [],
   "source": [
    "# Define the directory paths\n",
    "directories = [\n",
    "    #(\"..\\\\dataset\\\\eclipse\", \"..\\\\new_dataset\\\\eclipse\"),\n",
    "    #(\"..\\\\dataset\\\\eclipse_test\", \"..\\\\new_dataset\\\\eclipse_test\"),\n",
    "    #(\"..\\\\dataset\\\\firefox\", \"..\\\\new_dataset\\\\firefox\"),\n",
    "    (\"..\\\\dataset\\\\netbeans\", \"..\\\\new_dataset\\\\netbeans\"),\n",
    "    #(\"..\\\\dataset\\\\openoffice\", \"..\\\\new_dataset\\\\openoffice\")\n",
    "]"
   ]
  },
  {
   "cell_type": "code",
   "execution_count": 20,
   "metadata": {},
   "outputs": [
    {
     "name": "stdout",
     "output_type": "stream",
     "text": [
      "netbeans-Copia.csv\n",
      "netbeans.csv\n",
      "netbeans_pairs-Copia.csv\n",
      "netbeans_pairs.csv\n"
     ]
    }
   ],
   "source": [
    "# Iterate over each directory\n",
    "for source_dir, target_dir in directories:\n",
    "    # Iterate over each file in the directory\n",
    "    for file_name in os.listdir(source_dir):\n",
    "        print(file_name)\n",
    "        # Check if the file is a CSV file        \n",
    "        if file_name.endswith(\".csv\") and \"pairs\" not in file_name:\n",
    "            # Load the CSV file\n",
    "            df = pd.read_csv(os.path.join(source_dir, file_name))\n",
    "            \n",
    "            # check if the file name has pairs in it break the loop\n",
    "            if \"pairs\" in file_name:\n",
    "                break\n",
    "\n",
    "            # Check if the DataFrame is empty (end of file reached)\n",
    "            if df.empty:\n",
    "                print(\"End of file reached for:\", file_name)\n",
    "                continue\n",
    "            \n",
    "            # Create a new DataFrame with four columns\n",
    "            new_df = pd.DataFrame(columns=[\"bug_id\", \"bug_severity\", \"description\", \"dup_id\", \"priority\", \"short_desc\"])\n",
    "\n",
    "            # Populate the new DataFrame with data from the loaded DataFrame\n",
    "            new_df[\"bug_id\"] = df[\"bug_id\"]\n",
    "            # if the file is firefox, skip the bug_severity column\n",
    "            if \"firefox\" in source_dir:\n",
    "                new_df[\"bug_severity\"] = \"\"\n",
    "            else:\n",
    "                new_df[\"bug_severity\"] = df[\"bug_severity\"]\n",
    "\n",
    "            new_df[\"description\"] = df[\"description\"]\n",
    "            new_df[\"dup_id\"] = df[\"dup_id\"]\n",
    "            new_df[\"priority\"] = df[\"priority\"]\n",
    "            new_df[\"short_desc\"] = df[\"short_desc\"]\n",
    "\n",
    "            # Save the new DataFrame to a new CSV file in the target directory\n",
    "            new_file_path = os.path.join(target_dir, file_name.replace(\".csv\", \"_new.csv\"))\n",
    "            new_df.to_csv(new_file_path, index=False)\n"
   ]
  },
  {
   "cell_type": "code",
   "execution_count": null,
   "metadata": {},
   "outputs": [],
   "source": []
  }
 ],
 "metadata": {
  "kernelspec": {
   "display_name": "Python 3",
   "language": "python",
   "name": "python3"
  },
  "language_info": {
   "codemirror_mode": {
    "name": "ipython",
    "version": 3
   },
   "file_extension": ".py",
   "mimetype": "text/x-python",
   "name": "python",
   "nbconvert_exporter": "python",
   "pygments_lexer": "ipython3",
   "version": "3.10.2"
  }
 },
 "nbformat": 4,
 "nbformat_minor": 2
}
