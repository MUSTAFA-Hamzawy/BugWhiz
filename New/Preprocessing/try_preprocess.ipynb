{
 "cells": [
  {
   "cell_type": "code",
   "execution_count": 57,
   "metadata": {},
   "outputs": [],
   "source": [
    "import pandas as pd\n",
    "import os\n",
    "import numpy as np\n",
    "import string\n",
    "import re\n",
    "from nltk.tokenize import word_tokenize\n",
    "from nltk.stem import WordNetLemmatizer"
   ]
  },
  {
   "cell_type": "code",
   "execution_count": 58,
   "metadata": {},
   "outputs": [],
   "source": [
    "# Define the directory paths\n",
    "directories = [\n",
    "    #(\"..\\\\new_dataset\\\\eclipse\", \"..\\\\new_dataset\\\\eclipse\"),\n",
    "    #(\"..\\\\new_dataset\\\\eclipse_test\", \"..\\\\new_dataset\\\\eclipse_test\"),\n",
    "    #(\"..\\\\new_dataset\\\\firefox\", \"..\\\\new_dataset\\\\firefox\"),\n",
    "    #(\"..\\\\new_dataset\\\\netbeans\", \"..\\\\new_dataset\\\\netbeans\"),\n",
    "    (\"..\\\\new_dataset\\\\openoffice\", \"..\\\\new_dataset\\\\openoffice\")\n",
    "]"
   ]
  },
  {
   "cell_type": "code",
   "execution_count": 59,
   "metadata": {},
   "outputs": [],
   "source": [
    "def convert_lower_case(data):\n",
    "    return str(data).lower()"
   ]
  },
  {
   "cell_type": "code",
   "execution_count": 60,
   "metadata": {},
   "outputs": [],
   "source": [
    "def remove_punctuation(data):\n",
    "    symbols = \"!\\\"#$%&()*+-./:;<=>?@[\\]^_`{|}~\\n\"\n",
    "    for i in symbols:\n",
    "        data = np.char.replace(data, i, ' ')\n",
    "\n",
    "    return str(data)\n"
   ]
  },
  {
   "cell_type": "code",
   "execution_count": 61,
   "metadata": {},
   "outputs": [],
   "source": [
    "def remove_apostrophe(data):\n",
    "    return np.char.replace(data, \"'\", \"\")"
   ]
  },
  {
   "cell_type": "code",
   "execution_count": 62,
   "metadata": {},
   "outputs": [],
   "source": [
    "def remove_numbers(data):\n",
    "    return re.sub(r'\\d+', '', str(data))"
   ]
  },
  {
   "cell_type": "code",
   "execution_count": 63,
   "metadata": {},
   "outputs": [],
   "source": [
    "def remove_single_characters(tokens):\n",
    "    new_text = \"\"\n",
    "    for w in tokens:\n",
    "        if len(w) > 1:\n",
    "            new_text = new_text + \" \" + w\n",
    "    return new_text"
   ]
  },
  {
   "cell_type": "code",
   "execution_count": 64,
   "metadata": {},
   "outputs": [],
   "source": [
    "def lemmatization(data):\n",
    "    lemmatizer = WordNetLemmatizer()\n",
    "    tokens = word_tokenize(data)\n",
    "    data = remove_single_characters(tokens)\n",
    "    lemmatized_output = ' '.join([lemmatizer.lemmatize(word) for word in tokens])\n",
    "    return lemmatized_output"
   ]
  },
  {
   "cell_type": "code",
   "execution_count": 65,
   "metadata": {},
   "outputs": [],
   "source": [
    "def preprocess(data):\n",
    "    data = convert_lower_case(data)\n",
    "    data = remove_punctuation(data)\n",
    "    data = remove_apostrophe(data)\n",
    "    data = remove_numbers(data)\n",
    "    data = lemmatization(data)\n",
    "    return data"
   ]
  },
  {
   "cell_type": "code",
   "execution_count": 66,
   "metadata": {},
   "outputs": [],
   "source": [
    "bug_report = [\n",
    "    \"\"\"Description:\n",
    "  Exception is thrown out when link a label to another label.\n",
    "\n",
    "Test Date:\n",
    "20080102\n",
    "\n",
    "Test Build:\n",
    "BIRT2.3.0 Daily Build: v20080102-1021\n",
    "\n",
    "Step to reproduce:\n",
    "\n",
    "1. Creat a label, set text as \"label\"\n",
    "2. Set it's bookmark as \"label\"\n",
    "3. Add another label \"dde\"and set its hyperlink as \"internal bookmark\", enter \"label\".\n",
    "4. Preview report.\n",
    "\n",
    "Error log:\n",
    "org.eclipse.birt.report.service.api.ReportServiceException: Error happened while running the report; nested exception is: org.mozilla.javascript.EcmaError: ReferenceError: \"label\" is not defined. (#1) \n",
    "Show Exception Stack Trace \n",
    "Hide Exception Stack Trace  \n",
    "Stack Trace:\n",
    " \n",
    "org.mozilla.javascript.ScriptRuntime.constructError(ScriptRuntime.java:3350)\n",
    "org.mozilla.javascript.ScriptRuntime.constructError(ScriptRuntime.java:3340)\n",
    "org.mozilla.javascript.ScriptRuntime.notFoundError(ScriptRuntime.java:3413)\n",
    "org.mozilla.javascript.ScriptRuntime.name(ScriptRuntime.java:1612)\n",
    "org.mozilla.javascript.gen.c770._c0(:1)\n",
    "org.mozilla.javascript.gen.c770.call()\n",
    "org.mozilla.javascript.ContextFactory.doTopCall(ContextFactory.java:393)\n",
    "org.mozilla.javascript.ScriptRuntime.doTopCall(ScriptRuntime.java:2834)\n",
    "org.mozilla.javascript.gen.c770.call()\n",
    "org.mozilla.javascript.gen.c770.exec()\n",
    "org.eclipse.birt.core.script.ScriptContext.eval(ScriptContext.java:230)\n",
    "org.eclipse.birt.core.script.ScriptContext.eval(ScriptContext.java:204)\n",
    "org.eclipse.birt.report.engine.executor.ExecutionContext.evaluate(ExecutionContext.java:594)\n",
    "org.eclipse.birt.report.engine.executor.ReportItemExecutor.evaluate(ReportItemExecutor.java:275)\n",
    "org.eclipse.birt.report.engine.executor.ReportItemExecutor.processBookmark(ReportItemExecutor.java:295)\n",
    "org.eclipse.birt.report.engine.executor.LabelItemExecutor.execute(LabelItemExecutor.java:63)\n",
    "org.eclipse.birt.report.engine.internal.executor.dup.SuppressDuplicateItemExecutor.execute(SuppressDuplicateItemExecutor.java:42)\n",
    "org.eclipse.birt.report.engine.internal.executor.wrap.WrappedReportItemExecutor.execute(WrappedReportItemExecutor.java:45)\n",
    "org.eclipse.birt.report.engine.internal.executor.l18n.LocalizedReportItemExecutor.execute(LocalizedReportItemExecutor.java:33)\n",
    "org.eclipse.birt.report.engine.layout.html.HTMLBlockStackingLM.layoutNodes(HTMLBlockStackingLM.java:63)\n",
    "org.eclipse.birt.report.engine.layout.html.HTMLPageLM.layout(HTMLPageLM.java:85)\n",
    "org.eclipse.birt.report.engine.layout.html.HTMLReportLayoutEngine.layout(HTMLReportLayoutEngine.java:106)\n",
    "org.eclipse.birt.report.engine.api.impl.RunAndRenderTask.doRun(RunAndRenderTask.java:138)\n",
    "org.eclipse.birt.report.engine.api.impl.RunAndRenderTask.run(RunAndRenderTask.java:66)\n",
    "org.eclipse.birt.report.service.ReportEngineService.runAndRenderReport(Unknown Source)\n",
    "org.eclipse.birt.report.service.ReportEngineService.runAndRenderReport(Unknown Source)\n",
    "org.eclipse.birt.report.service.BirtViewerReportService.runAndRenderReport(Unknown Source)\n",
    "org.eclipse.birt.report.service.actionhandler.BirtGetPageAllActionHandler.__execute(Unknown Source)\n",
    "org.eclipse.birt.report.service.actionhandler.AbstractBaseActionHandler.execute(Unknown Source)\n",
    "org.eclipse.birt.report.soapengine.processor.AbstractBaseDocumentProcessor.__executeAction(Unknown Source)\n",
    "org.eclipse.birt.report.soapengine.processor.AbstractBaseComponentProcessor.executeAction(Unknown Source)\n",
    "org.eclipse.birt.report.soapengine.processor.BirtDocumentProcessor.handleGetPageAll(Unknown Source)\n",
    "sun.reflect.GeneratedMethodAccessor97.invoke(Unknown Source)\n",
    "sun.reflect.DelegatingMethodAccessorImpl.invoke(Unknown Source)\n",
    "java.lang.reflect.Method.invoke(Unknown Source)\n",
    "org.eclipse.birt.report.soapengine.processor.AbstractBaseComponentProcessor.process(Unknown Source)\n",
    "org.eclipse.birt.report.soapengine.endpoint.BirtSoapBindingImpl.getUpdatedObjects(Unknown Source)\n",
    "sun.reflect.GeneratedMethodAccessor96.invoke(Unknown Source)\n",
    "sun.reflect.DelegatingMethodAccessorImpl.invoke(Unknown Source)\n",
    "java.lang.reflect.Method.invoke(Unknown Source)\n",
    "org.apache.axis.providers.java.RPCProvider.invokeMethod(RPCProvider.java:397)\n",
    "org.apache.axis.providers.java.RPCProvider.processMessage(RPCProvider.java:186)\n",
    "org.apache.axis.providers.java.JavaProvider.invoke(JavaProvider.java:323)\n",
    "org.apache.axis.strategies.InvocationStrategy.visit(InvocationStrategy.java:32)\n",
    "org.apache.axis.SimpleChain.doVisiting(SimpleChain.java:118)\n",
    "org.apache.axis.SimpleChain.invoke(SimpleChain.java:83)\n",
    "org.apache.axis.handlers.soap.SOAPService.invoke(SOAPService.java:453)\n",
    "org.apache.axis.server.AxisServer.invoke(AxisServer.java:281)\n",
    "org.apache.axis.transport.http.AxisServlet.doPost(AxisServlet.java:699)\n",
    "org.eclipse.birt.report.servlet.BirtSoapMessageDispatcherServlet.doPost(Unknown Source)\n",
    "javax.servlet.http.HttpServlet.service(HttpServlet.java:616)\n",
    "org.apache.axis.transport.http.AxisServletBase.service(AxisServletBase.java:327)\n",
    "javax.servlet.http.HttpServlet.service(HttpServlet.java:689)\n",
    "org.eclipse.equinox.http.registry.internal.ServletManager$ServletWrapper.service(ServletManager.java:180)\n",
    "org.eclipse.equinox.http.servlet.internal.ServletRegistration.handleRequest(ServletRegistration.java:90)\n",
    "org.eclipse.equinox.http.servlet.internal.ProxyServlet.processAlias(ProxyServlet.java:111)\n",
    "org.eclipse.equinox.http.servlet.internal.ProxyServlet.service(ProxyServlet.java:59)\n",
    "javax.servlet.http.HttpServlet.service(HttpServlet.java:689)\n",
    "org.eclipse.equinox.http.jetty.internal.HttpServerManager$InternalHttpServiceServlet.service(HttpServerManager.java:270)\n",
    "org.mortbay.jetty.servlet.ServletHolder.handle(ServletHolder.java:428)\n",
    "org.mortbay.jetty.servlet.ServletHandler.dispatch(ServletHandler.java:677)\n",
    "org.mortbay.jetty.servlet.ServletHandler.handle(ServletHandler.java:568)\n",
    "org.mortbay.http.HttpContext.handle(HttpContext.java:1530)\n",
    "org.mortbay.http.HttpContext.handle(HttpContext.java:1482)\n",
    "org.mortbay.http.HttpServer.service(HttpServer.java:909)\n",
    "org.mortbay.http.HttpConnection.service(HttpConnection.java:820)\n",
    "org.mortbay.http.HttpConnection.handleNext(HttpConnection.java:986)\n",
    "org.mortbay.http.HttpConnection.handle(HttpConnection.java:837)\n",
    "org.mortbay.http.SocketListener.handleConnection(SocketListener.java:245)\n",
    "org.mortbay.util.ThreadedServer.handle(ThreadedServer.java:357)\n",
    "org.mortbay.util.ThreadPool$PoolThread.run(ThreadPool.java:534)\"\"\"\n",
    "]"
   ]
  },
  {
   "cell_type": "code",
   "execution_count": 67,
   "metadata": {},
   "outputs": [
    {
     "name": "stdout",
     "output_type": "stream",
     "text": [
      "description exception is thrown out when link a label to another label test date test build birt daily build v step to reproduce creat a label , set text a label set it bookmark a label add another label dde and set it hyperlink a internal bookmark , enter label preview report error log org eclipse birt report service api reportserviceexception error happened while running the report nested exception is org mozilla javascript ecmaerror referenceerror label is not defined show exception stack trace hide exception stack trace stack trace org mozilla javascript scriptruntime constructerror scriptruntime java org mozilla javascript scriptruntime constructerror scriptruntime java org mozilla javascript scriptruntime notfounderror scriptruntime java org mozilla javascript scriptruntime name scriptruntime java org mozilla javascript gen c c org mozilla javascript gen c call org mozilla javascript contextfactory dotopcall contextfactory java org mozilla javascript scriptruntime dotopcall scriptruntime java org mozilla javascript gen c call org mozilla javascript gen c exec org eclipse birt core script scriptcontext eval scriptcontext java org eclipse birt core script scriptcontext eval scriptcontext java org eclipse birt report engine executor executioncontext evaluate executioncontext java org eclipse birt report engine executor reportitemexecutor evaluate reportitemexecutor java org eclipse birt report engine executor reportitemexecutor processbookmark reportitemexecutor java org eclipse birt report engine executor labelitemexecutor execute labelitemexecutor java org eclipse birt report engine internal executor dup suppressduplicateitemexecutor execute suppressduplicateitemexecutor java org eclipse birt report engine internal executor wrap wrappedreportitemexecutor execute wrappedreportitemexecutor java org eclipse birt report engine internal executor ln localizedreportitemexecutor execute localizedreportitemexecutor java org eclipse birt report engine layout html htmlblockstackinglm layoutnodes htmlblockstackinglm java org eclipse birt report engine layout html htmlpagelm layout htmlpagelm java org eclipse birt report engine layout html htmlreportlayoutengine layout htmlreportlayoutengine java org eclipse birt report engine api impl runandrendertask dorun runandrendertask java org eclipse birt report engine api impl runandrendertask run runandrendertask java org eclipse birt report service reportengineservice runandrenderreport unknown source org eclipse birt report service reportengineservice runandrenderreport unknown source org eclipse birt report service birtviewerreportservice runandrenderreport unknown source org eclipse birt report service actionhandler birtgetpageallactionhandler execute unknown source org eclipse birt report service actionhandler abstractbaseactionhandler execute unknown source org eclipse birt report soapengine processor abstractbasedocumentprocessor executeaction unknown source org eclipse birt report soapengine processor abstractbasecomponentprocessor executeaction unknown source org eclipse birt report soapengine processor birtdocumentprocessor handlegetpageall unknown source sun reflect generatedmethodaccessor invoke unknown source sun reflect delegatingmethodaccessorimpl invoke unknown source java lang reflect method invoke unknown source org eclipse birt report soapengine processor abstractbasecomponentprocessor process unknown source org eclipse birt report soapengine endpoint birtsoapbindingimpl getupdatedobjects unknown source sun reflect generatedmethodaccessor invoke unknown source sun reflect delegatingmethodaccessorimpl invoke unknown source java lang reflect method invoke unknown source org apache axis provider java rpcprovider invokemethod rpcprovider java org apache axis provider java rpcprovider processmessage rpcprovider java org apache axis provider java javaprovider invoke javaprovider java org apache axis strategy invocationstrategy visit invocationstrategy java org apache axis simplechain dovisiting simplechain java org apache axis simplechain invoke simplechain java org apache axis handler soap soapservice invoke soapservice java org apache axis server axisserver invoke axisserver java org apache axis transport http axisservlet dopost axisservlet java org eclipse birt report servlet birtsoapmessagedispatcherservlet dopost unknown source javax servlet http httpservlet service httpservlet java org apache axis transport http axisservletbase service axisservletbase java javax servlet http httpservlet service httpservlet java org eclipse equinox http registry internal servletmanager servletwrapper service servletmanager java org eclipse equinox http servlet internal servletregistration handlerequest servletregistration java org eclipse equinox http servlet internal proxyservlet processalias proxyservlet java org eclipse equinox http servlet internal proxyservlet service proxyservlet java javax servlet http httpservlet service httpservlet java org eclipse equinox http jetty internal httpservermanager internalhttpserviceservlet service httpservermanager java org mortbay jetty servlet servletholder handle servletholder java org mortbay jetty servlet servlethandler dispatch servlethandler java org mortbay jetty servlet servlethandler handle servlethandler java org mortbay http httpcontext handle httpcontext java org mortbay http httpcontext handle httpcontext java org mortbay http httpserver service httpserver java org mortbay http httpconnection service httpconnection java org mortbay http httpconnection handlenext httpconnection java org mortbay http httpconnection handle httpconnection java org mortbay http socketlistener handleconnection socketlistener java org mortbay util threadedserver handle threadedserver java org mortbay util threadpool poolthread run threadpool java\n"
     ]
    }
   ],
   "source": [
    "# Example usage:\n",
    "preprocessed_text = preprocess(bug_report[0])\n",
    "print(preprocessed_text)\n"
   ]
  },
  {
   "cell_type": "code",
   "execution_count": 68,
   "metadata": {},
   "outputs": [
    {
     "name": "stdout",
     "output_type": "stream",
     "text": [
      "openoffice_new.csv\n",
      "Preprocessing done for: openoffice_new.csv\n",
      "Preprocessing done for all files in: ..\\new_dataset\\openoffice\n",
      "Preprocessing done for all files in all directories\n"
     ]
    }
   ],
   "source": [
    "# Iterate over each directory\n",
    "for source_dir, target_dir in directories:\n",
    "    # Iterate over each file in the directory\n",
    "    for file_name in os.listdir(source_dir):\n",
    "        print(file_name)\n",
    "\n",
    "        # Check if the file is a CSV file        \n",
    "        if file_name.endswith(\".csv\"):\n",
    "            # Load the CSV file\n",
    "            df = pd.read_csv(os.path.join(source_dir, file_name))\n",
    "            \n",
    "            # Check if the DataFrame is empty (end of file reached)\n",
    "            if df.empty:\n",
    "                print(\"End of file reached for:\", file_name)\n",
    "                continue\n",
    "            \n",
    "            # Preprocess the bug report\n",
    "            df['preprocessed_description'] = df['description'].apply(preprocess)\n",
    "\n",
    "            # Save the preprocessed DataFrame to the existing CSV file in new column named 'preprocessed_description'\n",
    "            df.to_csv(os.path.join(target_dir, file_name), index=False)\n",
    "            print(\"Preprocessing done for:\", file_name)\n",
    "        else:\n",
    "            print(\"Not a CSV file:\", file_name)\n",
    "            continue\n",
    "    print(\"Preprocessing done for all files in:\", source_dir)\n",
    "print(\"Preprocessing done for all files in all directories\")\n"
   ]
  },
  {
   "cell_type": "code",
   "execution_count": 69,
   "metadata": {},
   "outputs": [
    {
     "name": "stdout",
     "output_type": "stream",
     "text": [
      "openoffice_new.csv\n",
      "Preprocessing done for: openoffice_new.csv\n",
      "Preprocessing done for all files in: ..\\new_dataset\\openoffice\n",
      "Preprocessing done for all files in all directories\n"
     ]
    }
   ],
   "source": [
    "# Iterate over each directory\n",
    "for source_dir, target_dir in directories:\n",
    "    # Iterate over each file in the directory\n",
    "    for file_name in os.listdir(source_dir):\n",
    "        print(file_name)\n",
    "\n",
    "        # Check if the file is a CSV file        \n",
    "        if file_name.endswith(\".csv\"):\n",
    "\n",
    "            # Load the CSV file\n",
    "            df = pd.read_csv(os.path.join(source_dir, file_name))\n",
    "            \n",
    "            # Check if the DataFrame is empty (end of file reached)\n",
    "            if df.empty:\n",
    "                print(\"End of file reached for:\", file_name)\n",
    "                continue\n",
    "            \n",
    "            # check if the preprocessed_description is nan remove the row\n",
    "            df = df.dropna(subset=['preprocessed_description'])\n",
    "\n",
    "            # Save the preprocessed DataFrame to the existing CSV file in new column named 'preprocessed_description'\n",
    "            df.to_csv(os.path.join(target_dir, file_name), index=False)\n",
    "            print(\"Preprocessing done for:\", file_name)\n",
    "        else:\n",
    "            print(\"Not a CSV file:\", file_name)\n",
    "            continue\n",
    "    print(\"Preprocessing done for all files in:\", source_dir)\n",
    "print(\"Preprocessing done for all files in all directories\")\n"
   ]
  },
  {
   "cell_type": "code",
   "execution_count": null,
   "metadata": {},
   "outputs": [],
   "source": []
  }
 ],
 "metadata": {
  "kernelspec": {
   "display_name": "Python 3",
   "language": "python",
   "name": "python3"
  },
  "language_info": {
   "codemirror_mode": {
    "name": "ipython",
    "version": 3
   },
   "file_extension": ".py",
   "mimetype": "text/x-python",
   "name": "python",
   "nbconvert_exporter": "python",
   "pygments_lexer": "ipython3",
   "version": "3.10.2"
  }
 },
 "nbformat": 4,
 "nbformat_minor": 2
}
