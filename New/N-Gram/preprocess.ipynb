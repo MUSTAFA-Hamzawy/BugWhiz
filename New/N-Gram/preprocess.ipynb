{
 "cells": [
  {
   "cell_type": "code",
   "execution_count": null,
   "metadata": {},
   "outputs": [],
   "source": [
    "#!/bin/env python\n",
    "\n",
    "import nltk\n",
    "\n",
    "SOS = \"<s> \"\n",
    "EOS = \"</s>\"\n",
    "UNK = \"<UNK>\"\n",
    "\n",
    "def add_sentence_tokens(sentences, n):\n",
    "    \"\"\"Wrap each sentence in SOS and EOS tokens.\n",
    "\n",
    "    For n >= 2, n-1 SOS tokens are added, otherwise only one is added.\n",
    "\n",
    "    Args:\n",
    "        sentences (list of str): the sentences to wrap.\n",
    "        n (int): order of the n-gram model which will use these sentences.\n",
    "    Returns:\n",
    "        List of sentences with SOS and EOS tokens wrapped around them.\n",
    "\n",
    "    \"\"\"\n",
    "    sos = SOS * (n-1) if n > 1 else SOS\n",
    "    return ['{}{} {}'.format(sos, s, EOS) for s in sentences]\n",
    "\n",
    "def replace_singletons(tokens):\n",
    "    \"\"\"Replace tokens which appear only once in the corpus with <UNK>.\n",
    "    \n",
    "    Args:\n",
    "        tokens (list of str): the tokens comprising the corpus.\n",
    "    Returns:\n",
    "        The same list of tokens with each singleton replaced by <UNK>.\n",
    "    \n",
    "    \"\"\"\n",
    "    vocab = nltk.FreqDist(tokens)\n",
    "    return [token if vocab[token] > 1 else UNK for token in tokens]\n",
    "\n",
    "def preprocess(sentences, n):\n",
    "    \"\"\"Add SOS/EOS/UNK tokens to given sentences and tokenize.\n",
    "\n",
    "    Args:\n",
    "        sentences (list of str): the sentences to preprocess.\n",
    "        n (int): order of the n-gram model which will use these sentences.\n",
    "    Returns:\n",
    "        The preprocessed sentences, tokenized by words.\n",
    "\n",
    "    \"\"\"\n",
    "    sentences = add_sentence_tokens(sentences, n)\n",
    "    tokens = ' '.join(sentences).split(' ')\n",
    "    tokens = replace_singletons(tokens)\n",
    "    return tokens\n",
    "\n"
   ]
  }
 ],
 "metadata": {
  "language_info": {
   "name": "python"
  }
 },
 "nbformat": 4,
 "nbformat_minor": 2
}
