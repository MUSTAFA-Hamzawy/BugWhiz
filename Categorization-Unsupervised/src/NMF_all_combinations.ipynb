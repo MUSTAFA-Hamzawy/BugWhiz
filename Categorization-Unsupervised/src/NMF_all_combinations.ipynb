{
 "cells": [
  {
   "cell_type": "code",
   "execution_count": 1,
   "metadata": {},
   "outputs": [],
   "source": [
    "import pandas as pd\n",
    "import os\n",
    "import numpy as np\n",
    "import string\n",
    "import re\n",
    "from nltk.tokenize import word_tokenize\n",
    "from nltk.stem import WordNetLemmatizer"
   ]
  },
  {
   "cell_type": "code",
   "execution_count": 2,
   "metadata": {},
   "outputs": [],
   "source": [
    "# path of training data\n",
    "train_path = 'train.xlsx'\n",
    "\n",
    "# path of testing data\n",
    "test_path = 'test.xlsx'"
   ]
  },
  {
   "cell_type": "code",
   "execution_count": 3,
   "metadata": {},
   "outputs": [
    {
     "name": "stdout",
     "output_type": "stream",
     "text": [
      "                                              report class_name  class_index\n",
      "0  \"For any event on my bookmarked projects\" opti...    Backend            1\n",
      "1           Switch to using full l10n id's in urlbar   Frontend            2\n",
      "2  Consider removing hasicon property to simplify...   Frontend            2\n",
      "3  Method to obtain current URL from WebBrowserEd...   Frontend            2\n",
      "4              Fix: migration fails in MS SQL-Server    Backend            1\n",
      "                                              report class_name  class_index\n",
      "0  REST API - ability to list sub projects for a ...    Backend            1\n",
      "1  support selective text on right if set in GNOM...   Frontend            2\n",
      "2  [meta][userstory] Ship v1 of Pre-populated top...   Frontend            2\n",
      "3  Include updated_on and passwd_changed_on colum...    Backend            1\n",
      "4    Problem with email integration to MS Office 365    Backend            1\n"
     ]
    }
   ],
   "source": [
    "# show the first 5 rows of the training data\n",
    "train_df = pd.read_excel(train_path)\n",
    "print(train_df.head())\n",
    "\n",
    "# show the first 5 rows of the testing data\n",
    "test_df = pd.read_excel(test_path)\n",
    "print(test_df.head())"
   ]
  },
  {
   "cell_type": "code",
   "execution_count": 4,
   "metadata": {},
   "outputs": [],
   "source": [
    "def convert_lower_case(data):\n",
    "    return str(data).lower()"
   ]
  },
  {
   "cell_type": "code",
   "execution_count": 5,
   "metadata": {},
   "outputs": [],
   "source": [
    "def remove_punctuation(data):\n",
    "    symbols = \"!\\\"#$%&()*+-./:;<=>?@[\\]^_`{|}~\\n\"\n",
    "    for i in symbols:\n",
    "        data = np.char.replace(data, i, ' ')\n",
    "\n",
    "    return str(data)\n"
   ]
  },
  {
   "cell_type": "code",
   "execution_count": 6,
   "metadata": {},
   "outputs": [],
   "source": [
    "def remove_apostrophe(data):\n",
    "    return np.char.replace(data, \"'\", \"\")"
   ]
  },
  {
   "cell_type": "code",
   "execution_count": 7,
   "metadata": {},
   "outputs": [],
   "source": [
    "def remove_numbers(data):\n",
    "    return re.sub(r'\\d+', '', str(data))"
   ]
  },
  {
   "cell_type": "code",
   "execution_count": 8,
   "metadata": {},
   "outputs": [],
   "source": [
    "def remove_single_characters(tokens):\n",
    "    new_text = \"\"\n",
    "    for w in tokens:\n",
    "        if len(w) > 1:\n",
    "            new_text = new_text + \" \" + w\n",
    "    return new_text"
   ]
  },
  {
   "cell_type": "code",
   "execution_count": 9,
   "metadata": {},
   "outputs": [],
   "source": [
    "def lemmatization(data):\n",
    "    lemmatizer = WordNetLemmatizer()\n",
    "    tokens = word_tokenize(data)\n",
    "    data = remove_single_characters(tokens)\n",
    "    lemmatized_output = ' '.join([lemmatizer.lemmatize(word) for word in tokens])\n",
    "    return lemmatized_output"
   ]
  },
  {
   "cell_type": "code",
   "execution_count": 10,
   "metadata": {},
   "outputs": [],
   "source": [
    "def preprocess(data):\n",
    "    data = convert_lower_case(data)\n",
    "    data = remove_punctuation(data)\n",
    "    data = remove_apostrophe(data)\n",
    "    data = remove_numbers(data)\n",
    "    data = lemmatization(data)\n",
    "    return data"
   ]
  },
  {
   "cell_type": "code",
   "execution_count": 11,
   "metadata": {},
   "outputs": [
    {
     "name": "stdout",
     "output_type": "stream",
     "text": [
      "\"For any event on my bookmarked projects\" option not sending notifications for non-member bookmarked projects\n"
     ]
    }
   ],
   "source": [
    "# print the first report of the training data\n",
    "print(train_df['report'][0])\n"
   ]
  },
  {
   "cell_type": "code",
   "execution_count": 12,
   "metadata": {},
   "outputs": [
    {
     "name": "stdout",
     "output_type": "stream",
     "text": [
      "for any event on my bookmarked project option not sending notification for non member bookmarked project\n"
     ]
    }
   ],
   "source": [
    "# preprocess the first report of the training data\n",
    "print(preprocess(train_df['report'][0]))\n"
   ]
  },
  {
   "cell_type": "code",
   "execution_count": null,
   "metadata": {},
   "outputs": [],
   "source": [
    "import pandas as pd\n",
    "\n",
    "# Assuming train_df is your DataFrame containing training data\n",
    "# Assuming train_df has columns 'id', 'report', and 'class_name'\n",
    "\n",
    "# Initialize counter\n",
    "counter = 1\n",
    "\n",
    "# Iterate over each row in the DataFrame\n",
    "with open('preprocessed_train_data.csv', 'w', encoding='utf-8') as f:\n",
    "    f.write('bug_description , class_name\\n')  # Write header\n",
    "\n",
    "    for _, row in train_df.iterrows():\n",
    "        # Preprocess the 'report' column\n",
    "        preprocessed_report = preprocess(row['report'])\n",
    "\n",
    "        # Write data to the file with incremented counter\n",
    "        f.write(f\"{preprocessed_report},{row['class_name']}\\n\")\n",
    "\n",
    "# Print the first preprocessed report\n",
    "print(train_df['report'][0])\n"
   ]
  },
  {
   "cell_type": "code",
   "execution_count": null,
   "metadata": {},
   "outputs": [],
   "source": [
    "# FOR TESTING DATA\n",
    "\n",
    "# Iterate over each row in the DataFrame\n",
    "with open('preprocessed_test_data.csv', 'w', encoding='utf-8') as f:\n",
    "    f.write('bug_description , class_name\\n')  # Write header\n",
    "\n",
    "    for _, row in test_df.iterrows():\n",
    "        # Preprocess the 'report' column\n",
    "        preprocessed_report = preprocess(row['report'])\n",
    "\n",
    "        # Write data to the file with incremented counter\n",
    "        f.write(f\"{preprocessed_report},{row['class_name']}\\n\")\n",
    "\n",
    "# Print the first preprocessed report\n",
    "print(test_df['report'][0])\n"
   ]
  },
  {
   "cell_type": "code",
   "execution_count": null,
   "metadata": {},
   "outputs": [],
   "source": [
    "# Open the preprocessed data file for reading\n",
    "with open('preprocessed_train_data.csv', 'r', encoding='utf-8') as f:\n",
    "    # Open the new file for writing preprocessed data with 2 columns\n",
    "    with open('preprocessed_train_data2.csv', 'w', encoding='utf-8') as f_out:\n",
    "        # Iterate over each line in the file\n",
    "        for i, line in enumerate(f):\n",
    "            # Skip the header\n",
    "            if i == 0:\n",
    "                continue\n",
    "            \n",
    "            # Split the line into columns based on comma delimiter\n",
    "            columns = line.strip().split(',')\n",
    "            \n",
    "            # Check the number of columns\n",
    "            if len(columns) == 2:\n",
    "                # Get the preprocessed report and class name\n",
    "                preprocessed_report = columns[0]\n",
    "                class_name = columns[1]\n",
    "                \n",
    "                # Write the preprocessed report and class name to the new file\n",
    "                f_out.write(f\"{preprocessed_report},{class_name}\\n\")\n",
    "            else:\n",
    "                # Skip the line if it doesn't have exactly 2 columns\n",
    "                continue\n"
   ]
  },
  {
   "cell_type": "code",
   "execution_count": null,
   "metadata": {},
   "outputs": [],
   "source": [
    "# FOR TESTING DATA\n",
    "\n",
    "# Open the preprocessed data file for reading\n",
    "with open('preprocessed_test_data.csv', 'r', encoding='utf-8') as f:\n",
    "    # Open the new file for writing preprocessed data with 2 columns\n",
    "    with open('preprocessed_test_data2.csv', 'w', encoding='utf-8') as f_out:\n",
    "        # Iterate over each line in the file\n",
    "        for i, line in enumerate(f):\n",
    "            # Skip the header\n",
    "            if i == 0:\n",
    "                continue\n",
    "            \n",
    "            # Split the line into columns based on comma delimiter\n",
    "            columns = line.strip().split(',')\n",
    "            \n",
    "            # Check the number of columns\n",
    "            if len(columns) == 2:\n",
    "                # Get the preprocessed report and class name\n",
    "                preprocessed_report = columns[0]\n",
    "                class_name = columns[1]\n",
    "                \n",
    "                # Write the preprocessed report and class name to the new file\n",
    "                f_out.write(f\"{preprocessed_report},{class_name}\\n\")\n",
    "            else:\n",
    "                # Skip the line if it doesn't have exactly 2 columns\n",
    "                continue\n"
   ]
  },
  {
   "cell_type": "code",
   "execution_count": 13,
   "metadata": {},
   "outputs": [
    {
     "name": "stdout",
     "output_type": "stream",
     "text": [
      "                                     bug_description class_name\n",
      "0  for any event on my bookmarked project option ...    Backend\n",
      "1               switch to using full ln id in urlbar   Frontend\n",
      "2  consider removing hasicon property to simplify...   Frontend\n",
      "3  method to obtain current url from webbrowsered...   Frontend\n",
      "4                fix migration fails in m sql server    Backend\n"
     ]
    }
   ],
   "source": [
    "# read the preprocessed data from the new file\n",
    "preprocessed_train_df = pd.read_csv('preprocessed_train_data2.csv')\n",
    "\n",
    "# show the first 5 rows of the preprocessed training data\n",
    "print(preprocessed_train_df.head())"
   ]
  },
  {
   "cell_type": "code",
   "execution_count": 14,
   "metadata": {},
   "outputs": [
    {
     "name": "stdout",
     "output_type": "stream",
     "text": [
      "                                     bug_description class_name\n",
      "0  rest api ability to list sub project for a pro...    Backend\n",
      "1  support selective text on right if set in gnom...   Frontend\n",
      "2  meta userstory ship v of pre populated topsite...   Frontend\n",
      "3  include updated on and passwd changed on colum...    Backend\n",
      "4         problem with email integration to m office    Backend\n"
     ]
    }
   ],
   "source": [
    "# read the preprocessed data from the new file\n",
    "preprocessed_test_df = pd.read_csv('preprocessed_test_data2.csv')\n",
    "\n",
    "# show the first 5 rows of the preprocessed training data\n",
    "print(preprocessed_test_df.head())"
   ]
  },
  {
   "cell_type": "code",
   "execution_count": 15,
   "metadata": {},
   "outputs": [
    {
     "name": "stderr",
     "output_type": "stream",
     "text": [
      "[nltk_data] Downloading package stopwords to\n",
      "[nltk_data]     C:\\Users\\Lenovo\\AppData\\Roaming\\nltk_data...\n",
      "[nltk_data]   Package stopwords is already up-to-date!\n",
      "[nltk_data] Downloading package punkt to\n",
      "[nltk_data]     C:\\Users\\Lenovo\\AppData\\Roaming\\nltk_data...\n",
      "[nltk_data]   Package punkt is already up-to-date!\n",
      "[nltk_data] Downloading package wordnet to\n",
      "[nltk_data]     C:\\Users\\Lenovo\\AppData\\Roaming\\nltk_data...\n",
      "[nltk_data]   Package wordnet is already up-to-date!\n"
     ]
    },
    {
     "data": {
      "text/plain": [
       "True"
      ]
     },
     "execution_count": 15,
     "metadata": {},
     "output_type": "execute_result"
    }
   ],
   "source": [
    "# remove the stop words from the preprocessed data using nltk\n",
    "import nltk\n",
    "from nltk.corpus import stopwords\n",
    "\n",
    "nltk.download('stopwords')\n",
    "nltk.download('punkt')\n",
    "\n",
    "stop_words = set(stopwords.words('english'))\n",
    "\n",
    "import nltk\n",
    "nltk.download('wordnet')"
   ]
  },
  {
   "cell_type": "code",
   "execution_count": 16,
   "metadata": {},
   "outputs": [
    {
     "name": "stdout",
     "output_type": "stream",
     "text": [
      "for any event on my bookmarked project option not sending notification for non member bookmarked project\n",
      "event bookmarked project option sending notification non member bookmarked project\n",
      "rest api ability to list sub project for a project\n",
      "rest api ability list sub project project\n"
     ]
    }
   ],
   "source": [
    "def remove_stop_words(data):\n",
    "    tokens = word_tokenize(data)\n",
    "    data = ' '.join([i for i in tokens if not i in stop_words])\n",
    "    return data\n",
    "\n",
    "# preprocess the first report of the training data\n",
    "print(preprocess(preprocessed_train_df['bug_description'][0]))\n",
    "\n",
    "# remove the stop words from the preprocessed data\n",
    "print(remove_stop_words(preprocess(preprocessed_train_df['bug_description'][0])))\n",
    "\n",
    "# preprocess the first report of the testing data\n",
    "print(preprocess(preprocessed_test_df['bug_description'][0]))\n",
    "\n",
    "# remove the stop words from the preprocessed data\n",
    "print(remove_stop_words(preprocess(preprocessed_test_df['bug_description'][0])))\n"
   ]
  },
  {
   "cell_type": "code",
   "execution_count": 17,
   "metadata": {},
   "outputs": [
    {
     "name": "stdout",
     "output_type": "stream",
     "text": [
      "                                     bug_description class_name\n",
      "0  event bookmarked project option sending notifi...    Backend\n",
      "1                     switch using full ln id urlbar   Frontend\n",
      "2  consider removing hasicon property simplify st...   Frontend\n",
      "3         method obtain current url webbrowsereditor   Frontend\n",
      "4                     fix migration fails sql server    Backend\n",
      "                                     bug_description class_name\n",
      "0          rest api ability list sub project project    Backend\n",
      "1     support selective text right set gnome setting   Frontend\n",
      "2  meta userstory ship v pre populated topsites a...   Frontend\n",
      "3  include updated passwd changed column user api...    Backend\n",
      "4                   problem email integration office    Backend\n"
     ]
    }
   ],
   "source": [
    "# Convert non-string values to strings in 'bug_description' column\n",
    "preprocessed_train_df['bug_description'] = preprocessed_train_df['bug_description'].apply(lambda x: str(x))\n",
    "preprocessed_test_df['bug_description'] = preprocessed_test_df['bug_description'].apply(lambda x: str(x))\n",
    "\n",
    "# Remove stop words from 'bug_description' column\n",
    "preprocessed_train_df['bug_description'] = preprocessed_train_df['bug_description'].apply(lambda x: remove_stop_words(x))\n",
    "preprocessed_test_df['bug_description'] = preprocessed_test_df['bug_description'].apply(lambda x: remove_stop_words(x))\n",
    "\n",
    "# Show the first 5 rows of the preprocessed training data\n",
    "print(preprocessed_train_df.head())\n",
    "\n",
    "# Show the first 5 rows of the preprocessed testing data\n",
    "print(preprocessed_test_df.head())\n"
   ]
  },
  {
   "cell_type": "code",
   "execution_count": 20,
   "metadata": {},
   "outputs": [
    {
     "name": "stdout",
     "output_type": "stream",
     "text": [
      "Filtered Training Data:\n",
      "                                     bug_description class_name\n",
      "0  event bookmarked project option sending notifi...    Backend\n",
      "1                     switch using full ln id urlbar   Frontend\n",
      "2  consider removing hasicon property simplify st...   Frontend\n",
      "3         method obtain current url webbrowsereditor   Frontend\n",
      "4                     fix migration fails sql server    Backend\n",
      "\n",
      "Filtered Testing Data:\n",
      "                                     bug_description class_name\n",
      "0          rest api ability list sub project project    Backend\n",
      "1     support selective text right set gnome setting   Frontend\n",
      "2  meta userstory ship v pre populated topsites a...   Frontend\n",
      "3  include updated passwd changed column user api...    Backend\n",
      "4                   problem email integration office    Backend\n"
     ]
    }
   ],
   "source": [
    "# keep only the reports that has class_name of Frontend, Backend, Security, Documentation\n",
    "# Filter the training data\n",
    "filtered_train_df = preprocessed_train_df[\n",
    "    (preprocessed_train_df['class_name'] == 'Frontend') | \n",
    "    (preprocessed_train_df['class_name'] == 'Backend') |\n",
    "    (preprocessed_train_df['class_name'] == 'Security') |\n",
    "    (preprocessed_train_df['class_name'] == 'Documentation')\n",
    "]\n",
    "\n",
    "# Filter the testing data\n",
    "filtered_test_df = preprocessed_test_df[\n",
    "    (preprocessed_test_df['class_name'] == 'Frontend') | \n",
    "    (preprocessed_test_df['class_name'] == 'Backend') |\n",
    "    (preprocessed_test_df['class_name'] == 'Security') |\n",
    "    (preprocessed_test_df['class_name'] == 'Documentation')\n",
    "]\n",
    "\n",
    "# Show the first 5 rows of the filtered training data\n",
    "print(\"Filtered Training Data:\")\n",
    "print(filtered_train_df.head())\n",
    "\n",
    "# Show the first 5 rows of the filtered testing data\n",
    "print(\"\\nFiltered Testing Data:\")\n",
    "print(filtered_test_df.head())\n"
   ]
  },
  {
   "cell_type": "code",
   "execution_count": 22,
   "metadata": {},
   "outputs": [
    {
     "name": "stdout",
     "output_type": "stream",
     "text": [
      "['Frontend' 'Backend' 'Security' 'Documentation']\n",
      "['Frontend' 'Backend' 'Security' 'Documentation']\n"
     ]
    }
   ],
   "source": [
    "# Define the mapping of class names to the desired order\n",
    "class_name_mapping = {\n",
    "    'Backend': 1,\n",
    "    'Frontend': 0,\n",
    "    'Security': 2,\n",
    "    'Documentation': 3\n",
    "}\n",
    "\n",
    "# Map class names in both training and testing data to the desired order\n",
    "filtered_train_df['class_label'] = filtered_train_df['class_name'].map(class_name_mapping)\n",
    "filtered_test_df['class_label'] = filtered_test_df['class_name'].map(class_name_mapping)\n",
    "\n",
    "# order them based on the number of class_label\n",
    "filtered_train_df = filtered_train_df.sort_values(by=['class_label'])\n",
    "filtered_test_df = filtered_test_df.sort_values(by=['class_label'])\n",
    "\n",
    "# Print the unique class names in the training data\n",
    "print(filtered_train_df['class_name'].unique())\n",
    "\n",
    "# Print the unique class names in the testing data\n",
    "print(filtered_test_df['class_name'].unique())\n"
   ]
  },
  {
   "cell_type": "markdown",
   "metadata": {},
   "source": [
    "## Feature Exraction"
   ]
  },
  {
   "cell_type": "code",
   "execution_count": 23,
   "metadata": {},
   "outputs": [
    {
     "name": "stdout",
     "output_type": "stream",
     "text": [
      "(13777, 7536)\n"
     ]
    }
   ],
   "source": [
    "from sklearn.feature_extraction.text import TfidfVectorizer\n",
    "\n",
    "# Replace NaN values with an empty string\n",
    "preprocessed_train_df['bug_description'].fillna('', inplace=True)\n",
    "\n",
    "# Initialize the TfidfVectorizer\n",
    "vectorizer = TfidfVectorizer()\n",
    "\n",
    "# Fit and transform the preprocessed data\n",
    "X_train = vectorizer.fit_transform(filtered_train_df['bug_description'])\n",
    "\n",
    "# Print the shape of X_train\n",
    "print(X_train.shape)"
   ]
  },
  {
   "cell_type": "code",
   "execution_count": 24,
   "metadata": {},
   "outputs": [
    {
     "name": "stdout",
     "output_type": "stream",
     "text": [
      "  (0, 6367)\t0.396556165255602\n",
      "  (0, 1009)\t0.48935869459498377\n",
      "  (0, 6719)\t0.5879602895701754\n",
      "  (0, 3518)\t0.5075174614834652\n"
     ]
    }
   ],
   "source": [
    "# print the vector representation of the first report\n",
    "print(X_train[0])"
   ]
  },
  {
   "cell_type": "code",
   "execution_count": 25,
   "metadata": {},
   "outputs": [
    {
     "name": "stdout",
     "output_type": "stream",
     "text": [
      "4\n",
      "['Frontend' 'Backend' 'Security' 'Documentation']\n",
      "Backend          7437\n",
      "Frontend         5799\n",
      "Security          367\n",
      "Documentation     174\n",
      "Name: class_name, dtype: int64\n"
     ]
    }
   ],
   "source": [
    "# Print the number of unique class_name in the training data\n",
    "print(filtered_train_df['class_name'].nunique())\n",
    "\n",
    "# print their unique values\n",
    "print(filtered_train_df['class_name'].unique())\n",
    "\n",
    "# print the number of reports in each class\n",
    "print(filtered_train_df['class_name'].value_counts())\n",
    "\n"
   ]
  },
  {
   "cell_type": "code",
   "execution_count": 26,
   "metadata": {},
   "outputs": [],
   "source": [
    "# Create a mapping between cluster labels and class names\n",
    "cluster_class_mapping = {\n",
    "    1: 'Backend',  # Example mapping, adjust based on your actual clusters\n",
    "    0: 'Frontend',\n",
    "    2: 'Security',\n",
    "    3: 'Documentation'\n",
    "}\n"
   ]
  },
  {
   "cell_type": "code",
   "execution_count": 30,
   "metadata": {},
   "outputs": [
    {
     "name": "stdout",
     "output_type": "stream",
     "text": [
      "Evaluating cluster mapping: Mapping 1\n",
      "Classification Report:\n",
      "               precision    recall  f1-score   support\n",
      "\n",
      "      Backend       0.78      0.60      0.68      1345\n",
      "Documentation       0.00      0.00      0.00        21\n",
      "     Frontend       0.56      0.79      0.66       987\n",
      "     Security       0.00      0.00      0.00        70\n",
      "\n",
      "     accuracy                           0.65      2423\n",
      "    macro avg       0.33      0.35      0.33      2423\n",
      " weighted avg       0.66      0.65      0.64      2423\n",
      "\n",
      "Confusion Matrix:\n",
      "[[808   0 537   0]\n",
      " [  6   0  15   0]\n",
      " [208   0 779   0]\n",
      " [ 20   0  50   0]]\n",
      "Accuracy: 0.6549731737515476\n",
      "Precision: 0.6602173996153039\n",
      "Recall: 0.6549731737515476\n",
      "F1 Score: 0.6438099641760294\n"
     ]
    },
    {
     "name": "stderr",
     "output_type": "stream",
     "text": [
      "c:\\Users\\Lenovo\\AppData\\Local\\Programs\\Python\\Python310\\lib\\site-packages\\sklearn\\metrics\\_classification.py:1344: UndefinedMetricWarning: Precision and F-score are ill-defined and being set to 0.0 in labels with no predicted samples. Use `zero_division` parameter to control this behavior.\n",
      "  _warn_prf(average, modifier, msg_start, len(result))\n",
      "c:\\Users\\Lenovo\\AppData\\Local\\Programs\\Python\\Python310\\lib\\site-packages\\sklearn\\metrics\\_classification.py:1344: UndefinedMetricWarning: Precision and F-score are ill-defined and being set to 0.0 in labels with no predicted samples. Use `zero_division` parameter to control this behavior.\n",
      "  _warn_prf(average, modifier, msg_start, len(result))\n",
      "c:\\Users\\Lenovo\\AppData\\Local\\Programs\\Python\\Python310\\lib\\site-packages\\sklearn\\metrics\\_classification.py:1344: UndefinedMetricWarning: Precision and F-score are ill-defined and being set to 0.0 in labels with no predicted samples. Use `zero_division` parameter to control this behavior.\n",
      "  _warn_prf(average, modifier, msg_start, len(result))\n",
      "c:\\Users\\Lenovo\\AppData\\Local\\Programs\\Python\\Python310\\lib\\site-packages\\sklearn\\metrics\\_classification.py:1344: UndefinedMetricWarning: Precision and F-score are ill-defined and being set to 0.0 in labels with no predicted samples. Use `zero_division` parameter to control this behavior.\n",
      "  _warn_prf(average, modifier, msg_start, len(result))\n"
     ]
    }
   ],
   "source": [
    "from itertools import permutations\n",
    "from sklearn.decomposition import NMF\n",
    "from sklearn.metrics import classification_report, confusion_matrix, precision_recall_fscore_support\n",
    "\n",
    "def evaluate_cluster_mapping(data, class_name, cluster_class_mappings, n_components=4, ngram_range=(3, 5), random_state=42):\n",
    "    \"\"\"\n",
    "    Evaluate the performance of NMF topic modeling with different cluster mappings.\n",
    "\n",
    "    Parameters:\n",
    "    - data: DataFrame containing the text data to be modeled.\n",
    "    - class_name: Series containing the class names corresponding to the data.\n",
    "    - cluster_class_mappings: Dictionary containing different cluster mappings.\n",
    "    - n_components: Number of topics to be generated (default is 2).\n",
    "    - ngram_range: Tuple specifying the range of n-grams to consider (default is (1, 2)).\n",
    "    - random_state: Random seed for reproducibility (default is 42).\n",
    "\n",
    "    Returns:\n",
    "    - None\n",
    "    \"\"\"\n",
    "    # Initialize the TfidfVectorizer\n",
    "    vectorizer = TfidfVectorizer(ngram_range=ngram_range)\n",
    "\n",
    "    # Fit and transform the data\n",
    "    X_train = vectorizer.fit_transform(data)\n",
    "\n",
    "    for mapping_name, cluster_class_mapping in cluster_class_mappings.items():\n",
    "        print(f\"Evaluating cluster mapping: {mapping_name}\")\n",
    "\n",
    "        # Initialize the NMF model\n",
    "        nmf_model = NMF(n_components=n_components, random_state=random_state)\n",
    "\n",
    "        # Fit the NMF model\n",
    "        nmf_model.fit(X_train)\n",
    "\n",
    "        # Transform the preprocessed test data\n",
    "        X_test = vectorizer.transform(filtered_test_df['bug_description'])\n",
    "\n",
    "        # Predict the topics for the test data\n",
    "        topic_predictions = nmf_model.transform(X_test)\n",
    "\n",
    "        # Map numerical indices to class names\n",
    "        predicted_class_names = [cluster_class_mapping[prediction] for prediction in np.argmax(topic_predictions, axis=1)]\n",
    "\n",
    "        # Print evaluation metrics\n",
    "        print(\"Classification Report:\")\n",
    "        print(classification_report(class_name, predicted_class_names))\n",
    "\n",
    "        print(\"Confusion Matrix:\")\n",
    "        print(confusion_matrix(class_name, predicted_class_names))\n",
    "\n",
    "        accuracy = np.mean(class_name == predicted_class_names)\n",
    "        print(\"Accuracy:\", accuracy)\n",
    "\n",
    "        precision, recall, f1_score, _ = precision_recall_fscore_support(class_name, predicted_class_names, average='weighted')\n",
    "        print(\"Precision:\", precision)\n",
    "        print(\"Recall:\", recall)\n",
    "        print(\"F1 Score:\", f1_score)\n",
    "\n",
    "# Define all possible mappings\n",
    "cluster_class_mappings = {\n",
    "    \"Mapping 1\": {0: 'Frontend', 1: 'Backend', 2: 'Security', 3: 'Documentation'},\n",
    "    # Add more mappings if needed\n",
    "}\n",
    "\n",
    "# Usage example:\n",
    "evaluate_cluster_mapping(filtered_train_df['bug_description'], filtered_test_df['class_name'], cluster_class_mappings, n_components=2)\n"
   ]
  },
  {
   "cell_type": "code",
   "execution_count": null,
   "metadata": {},
   "outputs": [],
   "source": [
    "# iterate to cover all possible combinations of ngram_range:\n",
    "# 1- (1, 1) , (1, 2) , (1, 3)and so on till (1,15)\n",
    "# 2- (2, 2) , (2, 3) , (2, 4)and so on till (2,15)\n",
    "# 3- (3, 3) , (3, 4) , (3, 5)and so on till (3,15)\n",
    "# and so on till (15, 15)\n",
    "# 1 => Backend , 0 => Frontend , 2 => Security\n",
    "\n",
    "# Define all possible mappings\n",
    "cluster_class_mappings = {\n",
    "#    \"Mapping 1\": {0: 'Backend', 1: 'Frontend', 2: 'Security'},\n",
    "    \"Mapping 2\": {0: 'Frontend', 1: 'Backend', 2: 'Security', 3: 'Documentation'},\n",
    "#    \"Mapping 3\": {0: 'Security', 1: 'Frontend', 2: 'Backend'},\n",
    "#    \"Mapping 4\": {0: 'Backend', 1: 'Security', 2: 'Frontend'},\n",
    "#    \"Mapping 5\": {0: 'Frontend', 1: 'Security', 2: 'Backend'},\n",
    "#    \"Mapping 6\": {0: 'Security', 1: 'Backend', 2: 'Frontend'},\n",
    "}\n",
    "\n",
    "# Create a list of tuples containing the range of n-grams to consider\n",
    "ngram_ranges = [(i, j) for i in range(1, 16) for j in range(i, 16)]\n",
    "\n",
    "# Try components from 2 to 10\n",
    "for n_components in range(2, 3):\n",
    "    print(f\"Evaluating with {n_components} components:\")\n",
    "    for ngram_range in ngram_ranges:\n",
    "        print(f\"Evaluating with ngram_range: {ngram_range}\")\n",
    "        evaluate_cluster_mapping(filtered_train_df['bug_description'], filtered_test_df['class_name'], cluster_class_mappings, n_components=n_components, ngram_range=ngram_range)\n"
   ]
  },
  {
   "cell_type": "code",
   "execution_count": null,
   "metadata": {},
   "outputs": [],
   "source": []
  }
 ],
 "metadata": {
  "kernelspec": {
   "display_name": "Python 3",
   "language": "python",
   "name": "python3"
  },
  "language_info": {
   "codemirror_mode": {
    "name": "ipython",
    "version": 3
   },
   "file_extension": ".py",
   "mimetype": "text/x-python",
   "name": "python",
   "nbconvert_exporter": "python",
   "pygments_lexer": "ipython3",
   "version": "3.10.2"
  }
 },
 "nbformat": 4,
 "nbformat_minor": 2
}
