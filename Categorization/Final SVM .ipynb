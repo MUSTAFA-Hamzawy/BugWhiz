{
  "cells": [
    {
      "cell_type": "code",
      "execution_count": 1,
      "metadata": {
        "colab": {
          "base_uri": "https://localhost:8080/"
        },
        "id": "me6NI_YUQg6D",
        "outputId": "67159646-8c1e-44c8-9ec7-7765dc796338"
      },
      "outputs": [
        {
          "output_type": "stream",
          "name": "stderr",
          "text": [
            "[nltk_data] Downloading package stopwords to /root/nltk_data...\n",
            "[nltk_data]   Unzipping corpora/stopwords.zip.\n",
            "[nltk_data] Downloading package punkt to /root/nltk_data...\n",
            "[nltk_data]   Unzipping tokenizers/punkt.zip.\n",
            "[nltk_data] Downloading package wordnet to /root/nltk_data...\n"
          ]
        }
      ],
      "source": [
        "import pandas as pd\n",
        "import os\n",
        "import numpy as np\n",
        "import string\n",
        "import re\n",
        "from itertools import combinations\n",
        "from sklearn.feature_extraction.text import TfidfVectorizer\n",
        "\n",
        "\n",
        "import nltk\n",
        "from nltk.corpus import stopwords\n",
        "from nltk.tokenize import word_tokenize\n",
        "from nltk.stem import WordNetLemmatizer\n",
        "\n",
        "nltk.download('stopwords')\n",
        "nltk.download('punkt')\n",
        "nltk.download('wordnet')\n",
        "\n",
        "stop_words = set(stopwords.words('english'))\n"
      ]
    },
    {
      "cell_type": "code",
      "execution_count": 2,
      "metadata": {
        "id": "Gx3g7GYsQg6E"
      },
      "outputs": [],
      "source": [
        "# path of training data\n",
        "train_path = 'train.xlsx'\n",
        "\n",
        "# path of testing data\n",
        "test_path = 'test.xlsx'"
      ]
    },
    {
      "cell_type": "code",
      "execution_count": 5,
      "metadata": {
        "colab": {
          "base_uri": "https://localhost:8080/"
        },
        "id": "rOH1X8pdQg6E",
        "outputId": "6530ec62-d08f-45e9-8e87-6c486d017c34"
      },
      "outputs": [
        {
          "output_type": "stream",
          "name": "stdout",
          "text": [
            "                                              report class_name  class_index\n",
            "0  \"For any event on my bookmarked projects\" opti...    Backend            1\n",
            "1           Switch to using full l10n id's in urlbar   Frontend            2\n",
            "2  Consider removing hasicon property to simplify...   Frontend            2\n",
            "3  Method to obtain current URL from WebBrowserEd...   Frontend            2\n",
            "4              Fix: migration fails in MS SQL-Server    Backend            1\n",
            "                                              report class_name  class_index\n",
            "0  REST API - ability to list sub projects for a ...    Backend            1\n",
            "1  support selective text on right if set in GNOM...   Frontend            2\n",
            "2  [meta][userstory] Ship v1 of Pre-populated top...   Frontend            2\n",
            "3  Include updated_on and passwd_changed_on colum...    Backend            1\n",
            "4    Problem with email integration to MS Office 365    Backend            1\n"
          ]
        }
      ],
      "source": [
        "# show the first 5 rows of the training data\n",
        "train_df = pd.read_excel(train_path)\n",
        "print(train_df.head())\n",
        "\n",
        "# show the first 5 rows of the testing data\n",
        "test_df = pd.read_excel(test_path)\n",
        "print(test_df.head())"
      ]
    },
    {
      "cell_type": "code",
      "execution_count": 4,
      "metadata": {
        "id": "za89WztBQg6E"
      },
      "outputs": [],
      "source": [
        "def convert_lower_case(data):\n",
        "    return str(data).lower()"
      ]
    },
    {
      "cell_type": "code",
      "execution_count": 6,
      "metadata": {
        "id": "VpUXDgXmQg6F"
      },
      "outputs": [],
      "source": [
        "def remove_punctuation(data):\n",
        "    symbols = \"!\\\"#$%&()*+-./:;<=>?@[\\]^_`{|}~\\n\"\n",
        "    for i in symbols:\n",
        "        data = np.char.replace(data, i, ' ')\n",
        "\n",
        "    return str(data)\n"
      ]
    },
    {
      "cell_type": "code",
      "execution_count": 7,
      "metadata": {
        "id": "XMER2MBSQg6F"
      },
      "outputs": [],
      "source": [
        "def remove_apostrophe(data):\n",
        "    return np.char.replace(data, \"'\", \"\")"
      ]
    },
    {
      "cell_type": "code",
      "execution_count": 8,
      "metadata": {
        "id": "YABKQ2WSQg6F"
      },
      "outputs": [],
      "source": [
        "def remove_numbers(data):\n",
        "    return re.sub(r'\\d+', '', str(data))"
      ]
    },
    {
      "cell_type": "code",
      "execution_count": 9,
      "metadata": {
        "id": "p7H_7YoQQg6F"
      },
      "outputs": [],
      "source": [
        "def remove_single_characters(tokens):\n",
        "    new_text = \"\"\n",
        "    for w in tokens:\n",
        "        if len(w) > 1:\n",
        "            new_text = new_text + \" \" + w\n",
        "    return new_text"
      ]
    },
    {
      "cell_type": "code",
      "execution_count": 10,
      "metadata": {
        "id": "CP8xMpcYQg6F"
      },
      "outputs": [],
      "source": [
        "def lemmatization(data):\n",
        "    lemmatizer = WordNetLemmatizer()\n",
        "    tokens = word_tokenize(data)\n",
        "    data = remove_single_characters(tokens)\n",
        "    lemmatized_output = ' '.join([lemmatizer.lemmatize(word) for word in tokens])\n",
        "    return lemmatized_output"
      ]
    },
    {
      "cell_type": "code",
      "execution_count": 11,
      "metadata": {
        "id": "thx4H0iZQg6F"
      },
      "outputs": [],
      "source": [
        "def preprocess(data):\n",
        "    data = convert_lower_case(data)\n",
        "    data = remove_punctuation(data)\n",
        "    data = remove_apostrophe(data)\n",
        "    data = remove_numbers(data)\n",
        "    data = lemmatization(data)\n",
        "    return data"
      ]
    },
    {
      "cell_type": "code",
      "execution_count": 12,
      "metadata": {
        "colab": {
          "base_uri": "https://localhost:8080/"
        },
        "id": "865Bp0hMQg6F",
        "outputId": "04997d51-c2c3-454a-ba79-a6f4ed174c39"
      },
      "outputs": [
        {
          "output_type": "stream",
          "name": "stdout",
          "text": [
            "\"For any event on my bookmarked projects\" option not sending notifications for non-member bookmarked projects\n"
          ]
        }
      ],
      "source": [
        "# print the first report of the training data\n",
        "print(train_df['report'][0])\n"
      ]
    },
    {
      "cell_type": "code",
      "execution_count": 13,
      "metadata": {
        "colab": {
          "base_uri": "https://localhost:8080/"
        },
        "id": "_An3zqS3Qg6F",
        "outputId": "35464548-808f-4810-d4ec-fc906b99d2bd"
      },
      "outputs": [
        {
          "output_type": "stream",
          "name": "stdout",
          "text": [
            "for any event on my bookmarked project option not sending notification for non member bookmarked project\n"
          ]
        }
      ],
      "source": [
        "# preprocess the first report of the training data\n",
        "print(preprocess(train_df['report'][0]))\n"
      ]
    },
    {
      "cell_type": "code",
      "execution_count": 14,
      "metadata": {
        "colab": {
          "base_uri": "https://localhost:8080/"
        },
        "id": "BYeLeVodQg6F",
        "outputId": "abe053dc-4e26-4b1c-cbb7-e812d1f15342"
      },
      "outputs": [
        {
          "output_type": "stream",
          "name": "stdout",
          "text": [
            "                                     bug_description class_name\n",
            "0  for any event on my bookmarked project option ...    Backend\n",
            "1               switch to using full ln id in urlbar   Frontend\n",
            "2  consider removing hasicon property to simplify...   Frontend\n",
            "3  method to obtain current url from webbrowsered...   Frontend\n",
            "4                fix migration fails in m sql server    Backend\n"
          ]
        }
      ],
      "source": [
        "# read the preprocessed data from the new file\n",
        "preprocessed_train_df = pd.read_csv('preprocessed_train_data2.csv')\n",
        "\n",
        "# show the first 5 rows of the preprocessed training data\n",
        "print(preprocessed_train_df.head())"
      ]
    },
    {
      "cell_type": "code",
      "execution_count": 15,
      "metadata": {
        "colab": {
          "base_uri": "https://localhost:8080/"
        },
        "id": "IsQQE1l2Qg6G",
        "outputId": "acd04073-72c5-41a2-ae64-3cdb36dce1f2"
      },
      "outputs": [
        {
          "output_type": "stream",
          "name": "stdout",
          "text": [
            "                                     bug_description class_name\n",
            "0  rest api ability to list sub project for a pro...    Backend\n",
            "1  support selective text on right if set in gnom...   Frontend\n",
            "2  meta userstory ship v of pre populated topsite...   Frontend\n",
            "3  include updated on and passwd changed on colum...    Backend\n",
            "4         problem with email integration to m office    Backend\n"
          ]
        }
      ],
      "source": [
        "# read the preprocessed data from the new file\n",
        "preprocessed_test_df = pd.read_csv('preprocessed_test_data2.csv')\n",
        "\n",
        "# show the first 5 rows of the preprocessed training data\n",
        "print(preprocessed_test_df.head())"
      ]
    },
    {
      "cell_type": "code",
      "execution_count": 16,
      "metadata": {
        "colab": {
          "base_uri": "https://localhost:8080/",
          "height": 105
        },
        "id": "TZgpJN9_Qg6G",
        "outputId": "087bd89b-cbbb-4fe6-8bb0-ebef9d1d0062"
      },
      "outputs": [
        {
          "output_type": "stream",
          "name": "stdout",
          "text": [
            "for any event on my bookmarked project option not sending notification for non member bookmarked project\n",
            "event bookmarked project option sending notification non member bookmarked project\n",
            "rest api ability to list sub project for a project\n",
            "rest api ability list sub project project\n"
          ]
        },
        {
          "output_type": "execute_result",
          "data": {
            "text/plain": [
              "'rest api ability to list sub project for a project'"
            ],
            "application/vnd.google.colaboratory.intrinsic+json": {
              "type": "string"
            }
          },
          "metadata": {},
          "execution_count": 16
        }
      ],
      "source": [
        "def remove_stop_words(data):\n",
        "    tokens = word_tokenize(data)\n",
        "    data = ' '.join([i for i in tokens if not i in stop_words])\n",
        "    return data\n",
        "\n",
        "# preprocess the first report of the training data\n",
        "print(preprocess(preprocessed_train_df['bug_description'][0]))\n",
        "\n",
        "# remove the stop words from the preprocessed data\n",
        "print(remove_stop_words(preprocess(preprocessed_train_df['bug_description'][0])))\n",
        "\n",
        "# preprocess the first report of the testing data\n",
        "print(preprocess(preprocessed_test_df['bug_description'][0]))\n",
        "\n",
        "# remove the stop words from the preprocessed data\n",
        "print(remove_stop_words(preprocess(preprocessed_test_df['bug_description'][0])))\n",
        "\n",
        "preprocessed_test_df['bug_description'][0]"
      ]
    },
    {
      "cell_type": "code",
      "execution_count": 17,
      "metadata": {
        "colab": {
          "base_uri": "https://localhost:8080/"
        },
        "id": "InUxEgprQg6G",
        "outputId": "c3d77ef0-de10-4fff-b01b-57c320f41777"
      },
      "outputs": [
        {
          "output_type": "stream",
          "name": "stdout",
          "text": [
            "rest api ability list sub project project\n",
            "event bookmarked project option sending notification non member bookmarked project\n"
          ]
        }
      ],
      "source": [
        "# Convert non-string values to strings in 'bug_description' column\n",
        "preprocessed_train_df['bug_description'] = preprocessed_train_df['bug_description'].apply(lambda x: str(x))\n",
        "preprocessed_test_df['bug_description'] = preprocessed_test_df['bug_description'].apply(lambda x: str(x))\n",
        "\n",
        "# Remove stop words from 'bug_description' column\n",
        "preprocessed_train_df['bug_description'] = preprocessed_train_df['bug_description'].apply(lambda x: remove_stop_words(x))\n",
        "preprocessed_test_df['bug_description'] = preprocessed_test_df['bug_description'].apply(lambda x: remove_stop_words(x))\n",
        "\n",
        "print( preprocessed_test_df['bug_description'][0] )\n",
        "print( preprocessed_train_df['bug_description'][0] )\n"
      ]
    },
    {
      "cell_type": "code",
      "execution_count": 18,
      "metadata": {
        "colab": {
          "base_uri": "https://localhost:8080/"
        },
        "id": "dntR6uJrQg6G",
        "outputId": "dda1b22b-5745-4c30-c595-a397e01c97f6"
      },
      "outputs": [
        {
          "output_type": "stream",
          "name": "stdout",
          "text": [
            "Filtered Training Data:\n",
            "                                     bug_description class_name\n",
            "0  event bookmarked project option sending notifi...    Backend\n",
            "1                     switch using full ln id urlbar   Frontend\n",
            "2  consider removing hasicon property simplify st...   Frontend\n",
            "3         method obtain current url webbrowsereditor   Frontend\n",
            "4                     fix migration fails sql server    Backend\n",
            "\n",
            "Filtered Testing Data:\n",
            "                                     bug_description class_name\n",
            "0          rest api ability list sub project project    Backend\n",
            "1     support selective text right set gnome setting   Frontend\n",
            "2  meta userstory ship v pre populated topsites a...   Frontend\n",
            "3  include updated passwd changed column user api...    Backend\n",
            "4                   problem email integration office    Backend\n"
          ]
        }
      ],
      "source": [
        "# keep only the reports that has class_name of Frontend, Backend, Security, Documentation\n",
        "# Filter the training data\n",
        "filtered_train_df = preprocessed_train_df[\n",
        "    (preprocessed_train_df['class_name'] == 'Frontend') |\n",
        "    (preprocessed_train_df['class_name'] == 'Backend') |\n",
        "    (preprocessed_train_df['class_name'] == 'Security') |\n",
        "    (preprocessed_train_df['class_name'] == 'Documentation')\n",
        "]\n",
        "\n",
        "# Filter the testing data\n",
        "filtered_test_df = preprocessed_test_df[\n",
        "    (preprocessed_test_df['class_name'] == 'Frontend') |\n",
        "    (preprocessed_test_df['class_name'] == 'Backend') |\n",
        "    (preprocessed_test_df['class_name'] == 'Security') |\n",
        "    (preprocessed_test_df['class_name'] == 'Documentation')\n",
        "]\n",
        "\n",
        "# Show the first 5 rows of the filtered training data\n",
        "print(\"Filtered Training Data:\")\n",
        "print(filtered_train_df.head())\n",
        "\n",
        "# Show the first 5 rows of the filtered testing data\n",
        "print(\"\\nFiltered Testing Data:\")\n",
        "print(filtered_test_df.head())\n"
      ]
    },
    {
      "cell_type": "code",
      "execution_count": 19,
      "metadata": {
        "colab": {
          "base_uri": "https://localhost:8080/"
        },
        "id": "fu0kjTg9Qg6G",
        "outputId": "fead1c94-d61e-46e8-e8fe-4a5df87477c8"
      },
      "outputs": [
        {
          "output_type": "stream",
          "name": "stdout",
          "text": [
            "['Frontend' 'Backend' 'Security' 'Documentation']\n",
            "['Frontend' 'Backend' 'Security' 'Documentation']\n"
          ]
        },
        {
          "output_type": "stream",
          "name": "stderr",
          "text": [
            "<ipython-input-19-3d5cdb24e424>:9: SettingWithCopyWarning: \n",
            "A value is trying to be set on a copy of a slice from a DataFrame.\n",
            "Try using .loc[row_indexer,col_indexer] = value instead\n",
            "\n",
            "See the caveats in the documentation: https://pandas.pydata.org/pandas-docs/stable/user_guide/indexing.html#returning-a-view-versus-a-copy\n",
            "  filtered_train_df['class_label'] = filtered_train_df['class_name'].map(class_name_mapping)\n",
            "<ipython-input-19-3d5cdb24e424>:10: SettingWithCopyWarning: \n",
            "A value is trying to be set on a copy of a slice from a DataFrame.\n",
            "Try using .loc[row_indexer,col_indexer] = value instead\n",
            "\n",
            "See the caveats in the documentation: https://pandas.pydata.org/pandas-docs/stable/user_guide/indexing.html#returning-a-view-versus-a-copy\n",
            "  filtered_test_df['class_label'] = filtered_test_df['class_name'].map(class_name_mapping)\n"
          ]
        }
      ],
      "source": [
        "# Define the mapping of class names to the desired order\n",
        "class_name_mapping = {\n",
        "    'Backend': 1,\n",
        "    'Frontend': 0,\n",
        "    'Security': 2\n",
        "}\n",
        "\n",
        "# Map class names in both training and testing data to the desired order\n",
        "filtered_train_df['class_label'] = filtered_train_df['class_name'].map(class_name_mapping)\n",
        "filtered_test_df['class_label'] = filtered_test_df['class_name'].map(class_name_mapping)\n",
        "\n",
        "# order them based on the number of class_label\n",
        "filtered_train_df = filtered_train_df.sort_values(by=['class_label'])\n",
        "filtered_test_df = filtered_test_df.sort_values(by=['class_label'])\n",
        "\n",
        "# Print the unique class names in the training data\n",
        "print(filtered_train_df['class_name'].unique())\n",
        "\n",
        "# Print the unique class names in the testing data\n",
        "print(filtered_test_df['class_name'].unique())\n"
      ]
    },
    {
      "cell_type": "markdown",
      "metadata": {
        "id": "ZfEqyVOaQg6G"
      },
      "source": [
        "## Feature Exraction"
      ]
    },
    {
      "cell_type": "code",
      "execution_count": 20,
      "metadata": {
        "colab": {
          "base_uri": "https://localhost:8080/"
        },
        "id": "Aq5-PntvQg6H",
        "outputId": "f1dd9f7a-1c0c-4570-9168-c8f003ed10ca"
      },
      "outputs": [
        {
          "output_type": "stream",
          "name": "stdout",
          "text": [
            "Processing n-gram range: (1, 1)\n",
            "Processing n-gram range: (1, 2)\n",
            "Processing n-gram range: (1, 3)\n",
            "Processing n-gram range: (1, 4)\n",
            "Processing n-gram range: (1, 5)\n",
            "Processing n-gram range: (1, 6)\n",
            "Processing n-gram range: (1, 7)\n",
            "Processing n-gram range: (1, 8)\n",
            "Processing n-gram range: (1, 9)\n",
            "Processing n-gram range: (1, 10)\n",
            "Processing n-gram range: (1, 11)\n",
            "Processing n-gram range: (1, 12)\n",
            "Processing n-gram range: (1, 13)\n",
            "Processing n-gram range: (1, 14)\n",
            "Processing n-gram range: (1, 15)\n",
            "Processing n-gram range: (2, 2)\n",
            "Processing n-gram range: (2, 3)\n",
            "Processing n-gram range: (2, 4)\n",
            "Processing n-gram range: (2, 5)\n",
            "Processing n-gram range: (2, 6)\n",
            "Processing n-gram range: (2, 7)\n",
            "Processing n-gram range: (2, 8)\n",
            "Processing n-gram range: (2, 9)\n",
            "Processing n-gram range: (2, 10)\n",
            "Processing n-gram range: (2, 11)\n",
            "Processing n-gram range: (2, 12)\n",
            "Processing n-gram range: (2, 13)\n",
            "Processing n-gram range: (2, 14)\n",
            "Processing n-gram range: (2, 15)\n",
            "Shape of transformed data for n-gram range (1, 1): (13777, 7536)\n",
            "Shape of transformed data for n-gram range (1, 2): (13777, 54649)\n",
            "Shape of transformed data for n-gram range (1, 3): (13777, 104655)\n",
            "Shape of transformed data for n-gram range (1, 4): (13777, 146165)\n",
            "Shape of transformed data for n-gram range (1, 5): (13777, 178207)\n",
            "Shape of transformed data for n-gram range (1, 6): (13777, 201545)\n",
            "Shape of transformed data for n-gram range (1, 7): (13777, 217580)\n",
            "Shape of transformed data for n-gram range (1, 8): (13777, 228048)\n",
            "Shape of transformed data for n-gram range (1, 9): (13777, 234568)\n",
            "Shape of transformed data for n-gram range (1, 10): (13777, 238500)\n",
            "Shape of transformed data for n-gram range (1, 11): (13777, 240827)\n",
            "Shape of transformed data for n-gram range (1, 12): (13777, 242181)\n",
            "Shape of transformed data for n-gram range (1, 13): (13777, 242976)\n",
            "Shape of transformed data for n-gram range (1, 14): (13777, 243454)\n",
            "Shape of transformed data for n-gram range (1, 15): (13777, 243739)\n",
            "Shape of transformed data for n-gram range (2, 2): (13777, 47113)\n",
            "Shape of transformed data for n-gram range (2, 3): (13777, 97119)\n",
            "Shape of transformed data for n-gram range (2, 4): (13777, 138629)\n",
            "Shape of transformed data for n-gram range (2, 5): (13777, 170671)\n",
            "Shape of transformed data for n-gram range (2, 6): (13777, 194009)\n",
            "Shape of transformed data for n-gram range (2, 7): (13777, 210044)\n",
            "Shape of transformed data for n-gram range (2, 8): (13777, 220512)\n",
            "Shape of transformed data for n-gram range (2, 9): (13777, 227032)\n",
            "Shape of transformed data for n-gram range (2, 10): (13777, 230964)\n",
            "Shape of transformed data for n-gram range (2, 11): (13777, 233291)\n",
            "Shape of transformed data for n-gram range (2, 12): (13777, 234645)\n",
            "Shape of transformed data for n-gram range (2, 13): (13777, 235440)\n",
            "Shape of transformed data for n-gram range (2, 14): (13777, 235918)\n",
            "Shape of transformed data for n-gram range (2, 15): (13777, 236203)\n"
          ]
        }
      ],
      "source": [
        "\n",
        "def try_ngram_combinations(data, ngram_ranges):\n",
        "    \"\"\"\n",
        "    Try different combinations of n-grams using TfidfVectorizer.\n",
        "\n",
        "    Args:\n",
        "    - data: The input data to be transformed.\n",
        "    - ngram_ranges: A list of tuples representing the n-gram ranges to try.\n",
        "\n",
        "    Returns:\n",
        "    - A list of tuples containing the transformed data and corresponding vectorizer instances for each n-gram combination.\n",
        "    \"\"\"\n",
        "    results = []\n",
        "\n",
        "    for ngrams in ngram_ranges:\n",
        "        print(f\"Processing n-gram range: {ngrams}\")\n",
        "\n",
        "        # Initialize the TfidfVectorizer\n",
        "        vectorizer = TfidfVectorizer(ngram_range=ngrams)\n",
        "\n",
        "        # Fit and transform the data\n",
        "        X_transformed = vectorizer.fit_transform(data)\n",
        "\n",
        "        # Append the transformed data and vectorizer to the results list\n",
        "        results.append((X_transformed, vectorizer))\n",
        "\n",
        "    return results\n",
        "\n",
        "# Example usage:\n",
        "\n",
        "# all n-gram ranges till (6,7)\n",
        "ngram_ranges = [(1, 1), (1, 2), (1, 3) , (1,4) , (1,5) , (1,6) , (1,7) , (1,8) , (1,9) , (1,10) ,(1,11) , (1,12) , (1,13) , (1,14) , (1,15)\n",
        "                , (2,2) , (2,3) , (2,4) , (2,5) , (2,6) , (2,7) , (2,8) , (2,9) , (2,10) , (2,11) , (2,12) , (2,13) , (2,14) , (2,15) ]\n",
        "\n",
        "\n",
        "transformed_data = try_ngram_combinations(filtered_train_df['bug_description'], ngram_ranges)\n",
        "\n",
        "# Print the shape of transformed data for each combination\n",
        "for data, vectorizer in transformed_data:\n",
        "    print(f\"Shape of transformed data for n-gram range {vectorizer.ngram_range}: {data.shape}\")\n"
      ]
    },
    {
      "cell_type": "code",
      "source": [
        "print(transformed_data[1][0])"
      ],
      "metadata": {
        "colab": {
          "base_uri": "https://localhost:8080/"
        },
        "id": "w5MfJ65AX0DJ",
        "outputId": "3db7cf27-4b86-4f85-bffc-c9fb38d096ff"
      },
      "execution_count": 26,
      "outputs": [
        {
          "output_type": "stream",
          "name": "stdout",
          "text": [
            "  (0, 7588)\t0.4867008091462089\n",
            "  (0, 48499)\t0.4867008091462089\n",
            "  (0, 25222)\t0.44136904540604455\n",
            "  (0, 45482)\t0.2282999744781496\n",
            "  (0, 7525)\t0.2817269967664868\n",
            "  (0, 48496)\t0.3384925790184528\n",
            "  (0, 25160)\t0.29218111746972414\n",
            "  (1, 39554)\t0.23614033587424835\n",
            "  (1, 40700)\t0.259118790069001\n",
            "  (1, 34344)\t0.278759753520867\n",
            "  (1, 12970)\t0.278759753520867\n",
            "  (1, 54220)\t0.26727052642349064\n",
            "  (1, 20923)\t0.278759753520867\n",
            "  (1, 4477)\t0.26727052642349064\n",
            "  (1, 4470)\t0.259118790069001\n",
            "  (1, 12295)\t0.14183192137462816\n",
            "  (1, 39537)\t0.16444583123675113\n",
            "  (1, 40655)\t0.16321897638797775\n",
            "  (1, 34313)\t0.17423195831572566\n",
            "  (1, 12917)\t0.16158600242410265\n",
            "  (1, 54198)\t0.15604443757941375\n",
            "  (1, 20921)\t0.26727052642349064\n",
            "  (1, 4469)\t0.4559771990395175\n",
            "  (2, 21537)\t0.28082165583402013\n",
            "  (2, 46414)\t0.2610354140646695\n",
            "  :\t:\n",
            "  (13774, 13348)\t0.3367046070844293\n",
            "  (13775, 48400)\t0.38716879589336206\n",
            "  (13775, 46151)\t0.3439321441218973\n",
            "  (13775, 28233)\t0.37121143416932245\n",
            "  (13775, 21020)\t0.3511075359710895\n",
            "  (13775, 31068)\t0.29279795736932174\n",
            "  (13775, 21016)\t0.2553309874296574\n",
            "  (13775, 28214)\t0.25602756661363574\n",
            "  (13775, 46142)\t0.25464652328239795\n",
            "  (13775, 5804)\t0.3378654367559112\n",
            "  (13775, 5593)\t0.1789461059798962\n",
            "  (13775, 48336)\t0.2079477991839993\n",
            "  (13776, 40336)\t0.31407415381481446\n",
            "  (13776, 53655)\t0.31407415381481446\n",
            "  (13776, 29749)\t0.31407415381481446\n",
            "  (13776, 18594)\t0.31407415381481446\n",
            "  (13776, 40335)\t0.31407415381481446\n",
            "  (13776, 9119)\t0.2790002662418893\n",
            "  (13776, 54482)\t0.28482099649502024\n",
            "  (13776, 54481)\t0.26605553791214287\n",
            "  (13776, 29746)\t0.2919449945716358\n",
            "  (13776, 16287)\t0.234741947755532\n",
            "  (13776, 53646)\t0.2439263786689642\n",
            "  (13776, 9089)\t0.20196585937902836\n",
            "  (13776, 18555)\t0.19081793209654718\n"
          ]
        }
      ]
    },
    {
      "cell_type": "code",
      "execution_count": 27,
      "metadata": {
        "colab": {
          "base_uri": "https://localhost:8080/"
        },
        "id": "55lQmxW9Qg6H",
        "outputId": "1409caf5-d8b6-4272-8bf0-95e2d9a786a1"
      },
      "outputs": [
        {
          "output_type": "stream",
          "name": "stdout",
          "text": [
            "  (0, 6367)\t0.396556165255602\n",
            "  (0, 1009)\t0.48935869459498377\n",
            "  (0, 6719)\t0.5879602895701754\n",
            "  (0, 3518)\t0.5075174614834652\n"
          ]
        }
      ],
      "source": [
        "# print the vector representation of the first report\n",
        "print(transformed_data[0][0][0])"
      ]
    },
    {
      "cell_type": "code",
      "execution_count": 28,
      "metadata": {
        "colab": {
          "base_uri": "https://localhost:8080/"
        },
        "id": "6L6I8mXLQg6H",
        "outputId": "cb90dbc7-2cea-41a9-b84d-d59f4bde1c8d"
      },
      "outputs": [
        {
          "output_type": "stream",
          "name": "stdout",
          "text": [
            "4\n",
            "['Frontend' 'Backend' 'Security' 'Documentation']\n",
            "class_name\n",
            "Backend          7437\n",
            "Frontend         5799\n",
            "Security          367\n",
            "Documentation     174\n",
            "Name: count, dtype: int64\n"
          ]
        }
      ],
      "source": [
        "# Print the number of unique class_name in the training data\n",
        "print(filtered_train_df['class_name'].nunique())\n",
        "\n",
        "# print their unique values\n",
        "print(filtered_train_df['class_name'].unique())\n",
        "\n",
        "# print the number of reports in each class\n",
        "print(filtered_train_df['class_name'].value_counts())\n",
        "\n"
      ]
    },
    {
      "cell_type": "code",
      "execution_count": 29,
      "metadata": {
        "id": "3sx7AJiqQg6H"
      },
      "outputs": [],
      "source": [
        "# Create a mapping between cluster labels and class names\n",
        "cluster_class_mapping = {\n",
        "    1: 'Backend',  # Example mapping, adjust based on your actual clusters\n",
        "    0: 'Frontend',\n",
        "    2: 'Security',\n",
        "    3: 'Documentation'\n",
        "}\n"
      ]
    },
    {
      "cell_type": "code",
      "execution_count": null,
      "metadata": {
        "id": "8knbURNVQg6H",
        "outputId": "77e0cfc3-c9d8-419d-be26-53573ca55380"
      },
      "outputs": [
        {
          "name": "stdout",
          "output_type": "stream",
          "text": [
            "Model trained using n-gram range: (1, 1)\n",
            "Cross-Validation Scores: [0.88134978 0.89187228 0.88421053 0.87876588 0.8907441 ]\n",
            "               precision    recall  f1-score   support\n",
            "\n",
            "     Frontend       0.92      0.92      0.92      1345\n",
            "      Backend       1.00      0.43      0.60        21\n",
            "     Security       0.87      0.91      0.89       987\n",
            "Documentation       0.86      0.54      0.67        70\n",
            "\n",
            "     accuracy                           0.90      2423\n",
            "    macro avg       0.91      0.70      0.77      2423\n",
            " weighted avg       0.90      0.90      0.90      2423\n",
            "\n",
            "Predicted      Backend  Documentation  Frontend  Security\n",
            "Actual                                                   \n",
            "Backend           1235              0       107         3\n",
            "Documentation        7              9         5         0\n",
            "Frontend            87              0       897         3\n",
            "Security            14              0        18        38\n",
            "Accuracy: 0.8992983904250929\n",
            "Model trained using n-gram range: (1, 2)\n",
            "Cross-Validation Scores: [0.86901306 0.88824383 0.87876588 0.87404719 0.89292196]\n",
            "               precision    recall  f1-score   support\n",
            "\n",
            "     Frontend       0.92      0.92      0.92      1345\n",
            "      Backend       0.88      0.33      0.48        21\n",
            "     Security       0.88      0.92      0.90       987\n",
            "Documentation       0.88      0.53      0.66        70\n",
            "\n",
            "     accuracy                           0.90      2423\n",
            "    macro avg       0.89      0.68      0.74      2423\n",
            " weighted avg       0.90      0.90      0.90      2423\n",
            "\n",
            "Predicted      Backend  Documentation  Frontend  Security\n",
            "Actual                                                   \n",
            "Backend           1238              1       104         2\n",
            "Documentation       10              7         4         0\n",
            "Frontend            77              0       907         3\n",
            "Security            14              0        19        37\n",
            "Accuracy: 0.9034255055716055\n",
            "Model trained using n-gram range: (1, 3)\n",
            "Cross-Validation Scores: [0.8661103  0.88171263 0.86969147 0.87114338 0.88493648]\n",
            "               precision    recall  f1-score   support\n",
            "\n",
            "     Frontend       0.92      0.92      0.92      1345\n",
            "      Backend       0.88      0.33      0.48        21\n",
            "     Security       0.87      0.92      0.89       987\n",
            "Documentation       0.90      0.50      0.64        70\n",
            "\n",
            "     accuracy                           0.90      2423\n",
            "    macro avg       0.89      0.67      0.73      2423\n",
            " weighted avg       0.90      0.90      0.90      2423\n",
            "\n",
            "Predicted      Backend  Documentation  Frontend  Security\n",
            "Actual                                                   \n",
            "Backend           1233              1       110         1\n",
            "Documentation       10              7         4         0\n",
            "Frontend            79              0       905         3\n",
            "Security            15              0        20        35\n",
            "Accuracy: 0.8997111019397441\n",
            "Model trained using n-gram range: (1, 4)\n",
            "Cross-Validation Scores: [0.8628447  0.87626996 0.86497278 0.87114338 0.87912886]\n",
            "               precision    recall  f1-score   support\n",
            "\n",
            "     Frontend       0.92      0.91      0.92      1345\n",
            "      Backend       0.88      0.33      0.48        21\n",
            "     Security       0.87      0.91      0.89       987\n",
            "Documentation       0.90      0.50      0.64        70\n",
            "\n",
            "     accuracy                           0.90      2423\n",
            "    macro avg       0.89      0.66      0.73      2423\n",
            " weighted avg       0.90      0.90      0.89      2423\n",
            "\n",
            "Predicted      Backend  Documentation  Frontend  Security\n",
            "Actual                                                   \n",
            "Backend           1229              1       114         1\n",
            "Documentation       10              7         4         0\n",
            "Frontend            85              0       899         3\n",
            "Security            16              0        19        35\n",
            "Accuracy: 0.8955839867932315\n",
            "Model trained using n-gram range: (1, 5)\n",
            "Cross-Validation Scores: [0.86103048 0.87445573 0.85916515 0.86932849 0.876951  ]\n",
            "               precision    recall  f1-score   support\n",
            "\n",
            "     Frontend       0.92      0.91      0.91      1345\n",
            "      Backend       0.88      0.33      0.48        21\n",
            "     Security       0.86      0.91      0.88       987\n",
            "Documentation       0.89      0.49      0.63        70\n",
            "\n",
            "     accuracy                           0.89      2423\n",
            "    macro avg       0.89      0.66      0.73      2423\n",
            " weighted avg       0.89      0.89      0.89      2423\n",
            "\n",
            "Predicted      Backend  Documentation  Frontend  Security\n",
            "Actual                                                   \n",
            "Backend           1222              1       121         1\n",
            "Documentation       10              7         4         0\n",
            "Frontend            87              0       897         3\n",
            "Security            16              0        20        34\n",
            "Accuracy: 0.8914568716467189\n",
            "Model trained using n-gram range: (1, 6)\n",
            "Cross-Validation Scores: [0.85703919 0.87264151 0.85735027 0.86787659 0.87549909]\n",
            "               precision    recall  f1-score   support\n",
            "\n",
            "     Frontend       0.92      0.91      0.91      1345\n",
            "      Backend       0.88      0.33      0.48        21\n",
            "     Security       0.86      0.91      0.88       987\n",
            "Documentation       0.89      0.47      0.62        70\n",
            "\n",
            "     accuracy                           0.89      2423\n",
            "    macro avg       0.89      0.66      0.72      2423\n",
            " weighted avg       0.89      0.89      0.89      2423\n",
            "\n",
            "Predicted      Backend  Documentation  Frontend  Security\n",
            "Actual                                                   \n",
            "Backend           1221              1       122         1\n",
            "Documentation       10              7         4         0\n",
            "Frontend            87              0       897         3\n",
            "Security            15              0        22        33\n",
            "Accuracy: 0.8906314486174164\n",
            "Model trained using n-gram range: (1, 7)\n",
            "Cross-Validation Scores: [0.85776488 0.87300435 0.85589837 0.86569873 0.87441016]\n",
            "               precision    recall  f1-score   support\n",
            "\n",
            "     Frontend       0.92      0.91      0.91      1345\n",
            "      Backend       0.88      0.33      0.48        21\n",
            "     Security       0.86      0.91      0.88       987\n",
            "Documentation       0.89      0.47      0.62        70\n",
            "\n",
            "     accuracy                           0.89      2423\n",
            "    macro avg       0.88      0.65      0.72      2423\n",
            " weighted avg       0.89      0.89      0.89      2423\n",
            "\n",
            "Predicted      Backend  Documentation  Frontend  Security\n",
            "Actual                                                   \n",
            "Backend           1219              1       124         1\n",
            "Documentation       10              7         4         0\n",
            "Frontend            87              0       897         3\n",
            "Security            15              0        22        33\n",
            "Accuracy: 0.889806025588114\n",
            "Model trained using n-gram range: (1, 8)\n",
            "Cross-Validation Scores: [0.85812772 0.87227866 0.85589837 0.86424682 0.87368421]\n",
            "               precision    recall  f1-score   support\n",
            "\n",
            "     Frontend       0.92      0.91      0.91      1345\n",
            "      Backend       0.88      0.33      0.48        21\n",
            "     Security       0.86      0.91      0.88       987\n",
            "Documentation       0.89      0.47      0.62        70\n",
            "\n",
            "     accuracy                           0.89      2423\n",
            "    macro avg       0.88      0.65      0.72      2423\n",
            " weighted avg       0.89      0.89      0.89      2423\n",
            "\n",
            "Predicted      Backend  Documentation  Frontend  Security\n",
            "Actual                                                   \n",
            "Backend           1218              1       125         1\n",
            "Documentation       10              7         4         0\n",
            "Frontend            88              0       896         3\n",
            "Security            15              0        22        33\n",
            "Accuracy: 0.8889806025588114\n",
            "Model trained using n-gram range: (1, 9)\n",
            "Cross-Validation Scores: [0.85812772 0.87191582 0.85480944 0.86424682 0.87332123]\n",
            "               precision    recall  f1-score   support\n",
            "\n",
            "     Frontend       0.92      0.91      0.91      1345\n",
            "      Backend       0.88      0.33      0.48        21\n",
            "     Security       0.86      0.91      0.88       987\n",
            "Documentation       0.89      0.47      0.62        70\n",
            "\n",
            "     accuracy                           0.89      2423\n",
            "    macro avg       0.88      0.65      0.72      2423\n",
            " weighted avg       0.89      0.89      0.89      2423\n",
            "\n",
            "Predicted      Backend  Documentation  Frontend  Security\n",
            "Actual                                                   \n",
            "Backend           1218              1       125         1\n",
            "Documentation       10              7         4         0\n",
            "Frontend            88              0       896         3\n",
            "Security            15              0        22        33\n",
            "Accuracy: 0.8889806025588114\n",
            "Model trained using n-gram range: (1, 10)\n",
            "Cross-Validation Scores: [0.85776488 0.87191582 0.85517241 0.86424682 0.87332123]\n",
            "               precision    recall  f1-score   support\n",
            "\n",
            "     Frontend       0.91      0.91      0.91      1345\n",
            "      Backend       0.88      0.33      0.48        21\n",
            "     Security       0.86      0.91      0.88       987\n",
            "Documentation       0.89      0.47      0.62        70\n",
            "\n",
            "     accuracy                           0.89      2423\n",
            "    macro avg       0.88      0.65      0.72      2423\n",
            " weighted avg       0.89      0.89      0.89      2423\n",
            "\n",
            "Predicted      Backend  Documentation  Frontend  Security\n",
            "Actual                                                   \n",
            "Backend           1218              1       125         1\n",
            "Documentation       10              7         4         0\n",
            "Frontend            89              0       895         3\n",
            "Security            15              0        22        33\n",
            "Accuracy: 0.8885678910441601\n",
            "Model trained using n-gram range: (1, 11)\n",
            "Cross-Validation Scores: [0.85776488 0.87191582 0.85553539 0.86424682 0.87332123]\n",
            "               precision    recall  f1-score   support\n",
            "\n",
            "     Frontend       0.91      0.90      0.91      1345\n",
            "      Backend       0.88      0.33      0.48        21\n",
            "     Security       0.85      0.91      0.88       987\n",
            "Documentation       0.89      0.47      0.62        70\n",
            "\n",
            "     accuracy                           0.89      2423\n",
            "    macro avg       0.88      0.65      0.72      2423\n",
            " weighted avg       0.89      0.89      0.89      2423\n",
            "\n",
            "Predicted      Backend  Documentation  Frontend  Security\n",
            "Actual                                                   \n",
            "Backend           1217              1       126         1\n",
            "Documentation       10              7         4         0\n",
            "Frontend            89              0       895         3\n",
            "Security            15              0        22        33\n",
            "Accuracy: 0.8881551795295088\n",
            "Model trained using n-gram range: (1, 12)\n",
            "Cross-Validation Scores: [0.85776488 0.87191582 0.85553539 0.86424682 0.87295826]\n",
            "               precision    recall  f1-score   support\n",
            "\n",
            "     Frontend       0.91      0.90      0.91      1345\n",
            "      Backend       0.88      0.33      0.48        21\n",
            "     Security       0.85      0.91      0.88       987\n",
            "Documentation       0.89      0.47      0.62        70\n",
            "\n",
            "     accuracy                           0.89      2423\n",
            "    macro avg       0.88      0.65      0.72      2423\n",
            " weighted avg       0.89      0.89      0.89      2423\n",
            "\n",
            "Predicted      Backend  Documentation  Frontend  Security\n",
            "Actual                                                   \n",
            "Backend           1217              1       126         1\n",
            "Documentation       10              7         4         0\n",
            "Frontend            89              0       895         3\n",
            "Security            15              0        22        33\n",
            "Accuracy: 0.8881551795295088\n",
            "Model trained using n-gram range: (1, 13)\n",
            "Cross-Validation Scores: [0.85776488 0.87191582 0.85517241 0.86424682 0.87295826]\n",
            "               precision    recall  f1-score   support\n",
            "\n",
            "     Frontend       0.91      0.90      0.91      1345\n",
            "      Backend       0.88      0.33      0.48        21\n",
            "     Security       0.85      0.91      0.88       987\n",
            "Documentation       0.89      0.47      0.62        70\n",
            "\n",
            "     accuracy                           0.89      2423\n",
            "    macro avg       0.88      0.65      0.72      2423\n",
            " weighted avg       0.89      0.89      0.89      2423\n",
            "\n",
            "Predicted      Backend  Documentation  Frontend  Security\n",
            "Actual                                                   \n",
            "Backend           1217              1       126         1\n",
            "Documentation       10              7         4         0\n",
            "Frontend            89              0       895         3\n",
            "Security            15              0        22        33\n",
            "Accuracy: 0.8881551795295088\n",
            "Model trained using n-gram range: (1, 14)\n",
            "Cross-Validation Scores: [0.85776488 0.87191582 0.85517241 0.86388385 0.87332123]\n",
            "               precision    recall  f1-score   support\n",
            "\n",
            "     Frontend       0.91      0.90      0.91      1345\n",
            "      Backend       0.88      0.33      0.48        21\n",
            "     Security       0.85      0.91      0.88       987\n",
            "Documentation       0.89      0.47      0.62        70\n",
            "\n",
            "     accuracy                           0.89      2423\n",
            "    macro avg       0.88      0.65      0.72      2423\n",
            " weighted avg       0.89      0.89      0.89      2423\n",
            "\n",
            "Predicted      Backend  Documentation  Frontend  Security\n",
            "Actual                                                   \n",
            "Backend           1217              1       126         1\n",
            "Documentation       10              7         4         0\n",
            "Frontend            89              0       895         3\n",
            "Security            15              0        22        33\n",
            "Accuracy: 0.8881551795295088\n",
            "Model trained using n-gram range: (1, 15)\n",
            "Cross-Validation Scores: [0.85776488 0.87191582 0.85517241 0.86388385 0.87332123]\n",
            "               precision    recall  f1-score   support\n",
            "\n",
            "     Frontend       0.91      0.90      0.91      1345\n",
            "      Backend       0.88      0.33      0.48        21\n",
            "     Security       0.85      0.91      0.88       987\n",
            "Documentation       0.89      0.47      0.62        70\n",
            "\n",
            "     accuracy                           0.89      2423\n",
            "    macro avg       0.88      0.65      0.72      2423\n",
            " weighted avg       0.89      0.89      0.89      2423\n",
            "\n",
            "Predicted      Backend  Documentation  Frontend  Security\n",
            "Actual                                                   \n",
            "Backend           1217              1       126         1\n",
            "Documentation       10              7         4         0\n",
            "Frontend            89              0       895         3\n",
            "Security            15              0        22        33\n",
            "Accuracy: 0.8881551795295088\n",
            "Model trained using n-gram range: (2, 2)\n",
            "Cross-Validation Scores: [0.80805515 0.81676343 0.81270417 0.80471869 0.81088929]\n",
            "               precision    recall  f1-score   support\n",
            "\n",
            "     Frontend       0.82      0.90      0.86      1345\n",
            "      Backend       1.00      0.19      0.32        21\n",
            "     Security       0.82      0.75      0.78       987\n",
            "Documentation       0.75      0.26      0.38        70\n",
            "\n",
            "     accuracy                           0.82      2423\n",
            "    macro avg       0.85      0.53      0.59      2423\n",
            " weighted avg       0.82      0.82      0.81      2423\n",
            "\n",
            "Predicted      Backend  Documentation  Frontend  Security\n",
            "Actual                                                   \n",
            "Backend           1214              0       129         2\n",
            "Documentation       11              4         6         0\n",
            "Frontend           240              0       743         4\n",
            "Security            22              0        30        18\n",
            "Accuracy: 0.8167560874948411\n",
            "Model trained using n-gram range: (2, 3)\n",
            "Cross-Validation Scores: [0.78882438 0.79862119 0.78947368 0.7862069  0.7938294 ]\n",
            "               precision    recall  f1-score   support\n",
            "\n",
            "     Frontend       0.82      0.88      0.85      1345\n",
            "      Backend       1.00      0.10      0.17        21\n",
            "     Security       0.79      0.77      0.78       987\n",
            "Documentation       0.80      0.23      0.36        70\n",
            "\n",
            "     accuracy                           0.81      2423\n",
            "    macro avg       0.85      0.49      0.54      2423\n",
            " weighted avg       0.81      0.81      0.80      2423\n",
            "\n",
            "Predicted      Backend  Documentation  Frontend  Security\n",
            "Actual                                                   \n",
            "Backend           1182              0       163         0\n",
            "Documentation       10              2         9         0\n",
            "Frontend           226              0       757         4\n",
            "Security            20              0        34        16\n",
            "Accuracy: 0.8076764341725134\n",
            "Model trained using n-gram range: (2, 4)\n",
            "Cross-Validation Scores: [0.77503628 0.78773585 0.77822142 0.77132486 0.78330309]\n",
            "               precision    recall  f1-score   support\n",
            "\n",
            "     Frontend       0.82      0.87      0.85      1345\n",
            "      Backend       1.00      0.10      0.17        21\n",
            "     Security       0.77      0.78      0.77       987\n",
            "Documentation       0.82      0.20      0.32        70\n",
            "\n",
            "     accuracy                           0.80      2423\n",
            "    macro avg       0.86      0.48      0.53      2423\n",
            " weighted avg       0.80      0.80      0.80      2423\n",
            "\n",
            "Predicted      Backend  Documentation  Frontend  Security\n",
            "Actual                                                   \n",
            "Backend           1166              0       179         0\n",
            "Documentation       10              2         9         0\n",
            "Frontend           219              0       765         3\n",
            "Security            19              0        37        14\n",
            "Accuracy: 0.8035493190260008\n",
            "Model trained using n-gram range: (2, 5)\n",
            "Cross-Validation Scores: [0.76959361 0.78120464 0.7738657  0.76442831 0.77459165]\n",
            "               precision    recall  f1-score   support\n",
            "\n",
            "     Frontend       0.82      0.86      0.84      1345\n",
            "      Backend       1.00      0.10      0.17        21\n",
            "     Security       0.76      0.78      0.77       987\n",
            "Documentation       0.83      0.14      0.24        70\n",
            "\n",
            "     accuracy                           0.80      2423\n",
            "    macro avg       0.85      0.47      0.51      2423\n",
            " weighted avg       0.80      0.80      0.79      2423\n",
            "\n",
            "Predicted      Backend  Documentation  Frontend  Security\n",
            "Actual                                                   \n",
            "Backend           1150              0       195         0\n",
            "Documentation       10              2         9         0\n",
            "Frontend           218              0       767         2\n",
            "Security            18              0        42        10\n",
            "Accuracy: 0.7961205117622782\n",
            "Model trained using n-gram range: (2, 6)\n",
            "Cross-Validation Scores: [0.7670537  0.77576197 0.76878403 0.76043557 0.76987296]\n",
            "               precision    recall  f1-score   support\n",
            "\n",
            "     Frontend       0.82      0.85      0.84      1345\n",
            "      Backend       1.00      0.10      0.17        21\n",
            "     Security       0.75      0.78      0.77       987\n",
            "Documentation       0.91      0.14      0.25        70\n",
            "\n",
            "     accuracy                           0.79      2423\n",
            "    macro avg       0.87      0.47      0.51      2423\n",
            " weighted avg       0.80      0.79      0.79      2423\n",
            "\n",
            "Predicted      Backend  Documentation  Frontend  Security\n",
            "Actual                                                   \n",
            "Backend           1144              0       201         0\n",
            "Documentation       10              2         9         0\n",
            "Frontend           217              0       769         1\n",
            "Security            17              0        43        10\n",
            "Accuracy: 0.7944696657036732\n",
            "Model trained using n-gram range: (2, 7)\n",
            "Cross-Validation Scores: [0.76596517 0.77322206 0.76660617 0.75970962 0.76660617]\n",
            "               precision    recall  f1-score   support\n",
            "\n",
            "     Frontend       0.82      0.85      0.84      1345\n",
            "      Backend       1.00      0.10      0.17        21\n",
            "     Security       0.75      0.78      0.77       987\n",
            "Documentation       0.91      0.14      0.25        70\n",
            "\n",
            "     accuracy                           0.79      2423\n",
            "    macro avg       0.87      0.47      0.51      2423\n",
            " weighted avg       0.80      0.79      0.78      2423\n",
            "\n",
            "Predicted      Backend  Documentation  Frontend  Security\n",
            "Actual                                                   \n",
            "Backend           1141              0       204         0\n",
            "Documentation       10              2         9         0\n",
            "Frontend           216              0       770         1\n",
            "Security            17              0        43        10\n",
            "Accuracy: 0.7936442426743706\n",
            "Model trained using n-gram range: (2, 8)\n",
            "Cross-Validation Scores: [0.76415094 0.77213353 0.76551724 0.75934664 0.76624319]\n",
            "               precision    recall  f1-score   support\n",
            "\n",
            "     Frontend       0.83      0.85      0.84      1345\n",
            "      Backend       1.00      0.10      0.17        21\n",
            "     Security       0.75      0.78      0.77       987\n",
            "Documentation       0.90      0.13      0.23        70\n",
            "\n",
            "     accuracy                           0.79      2423\n",
            "    macro avg       0.87      0.46      0.50      2423\n",
            " weighted avg       0.80      0.79      0.78      2423\n",
            "\n",
            "Predicted      Backend  Documentation  Frontend  Security\n",
            "Actual                                                   \n",
            "Backend           1141              0       204         0\n",
            "Documentation       10              2         9         0\n",
            "Frontend           214              0       772         1\n",
            "Security            18              0        43         9\n",
            "Accuracy: 0.7940569541890219\n",
            "Model trained using n-gram range: (2, 9)\n",
            "Cross-Validation Scores: [0.76306241 0.7703193  0.76442831 0.75898367 0.76551724]\n",
            "               precision    recall  f1-score   support\n",
            "\n",
            "     Frontend       0.82      0.85      0.84      1345\n",
            "      Backend       1.00      0.10      0.17        21\n",
            "     Security       0.75      0.78      0.77       987\n",
            "Documentation       0.90      0.13      0.23        70\n",
            "\n",
            "     accuracy                           0.79      2423\n",
            "    macro avg       0.87      0.46      0.50      2423\n",
            " weighted avg       0.80      0.79      0.78      2423\n",
            "\n",
            "Predicted      Backend  Documentation  Frontend  Security\n",
            "Actual                                                   \n",
            "Backend           1139              0       206         0\n",
            "Documentation       10              2         9         0\n",
            "Frontend           214              0       772         1\n",
            "Security            18              0        43         9\n",
            "Accuracy: 0.7932315311597193\n",
            "Model trained using n-gram range: (2, 10)\n",
            "Cross-Validation Scores: [0.76306241 0.76959361 0.76442831 0.75898367 0.76551724]\n",
            "               precision    recall  f1-score   support\n",
            "\n",
            "     Frontend       0.82      0.85      0.84      1345\n",
            "      Backend       1.00      0.10      0.17        21\n",
            "     Security       0.75      0.78      0.77       987\n",
            "Documentation       0.90      0.13      0.23        70\n",
            "\n",
            "     accuracy                           0.79      2423\n",
            "    macro avg       0.87      0.46      0.50      2423\n",
            " weighted avg       0.80      0.79      0.78      2423\n",
            "\n",
            "Predicted      Backend  Documentation  Frontend  Security\n",
            "Actual                                                   \n",
            "Backend           1139              0       206         0\n",
            "Documentation       10              2         9         0\n",
            "Frontend           214              0       772         1\n",
            "Security            18              0        43         9\n",
            "Accuracy: 0.7932315311597193\n",
            "Model trained using n-gram range: (2, 11)\n",
            "Cross-Validation Scores: [0.76306241 0.76923077 0.76442831 0.75898367 0.76551724]\n",
            "               precision    recall  f1-score   support\n",
            "\n",
            "     Frontend       0.82      0.85      0.84      1345\n",
            "      Backend       1.00      0.10      0.17        21\n",
            "     Security       0.75      0.78      0.77       987\n",
            "Documentation       0.90      0.13      0.23        70\n",
            "\n",
            "     accuracy                           0.79      2423\n",
            "    macro avg       0.87      0.46      0.50      2423\n",
            " weighted avg       0.80      0.79      0.78      2423\n",
            "\n",
            "Predicted      Backend  Documentation  Frontend  Security\n",
            "Actual                                                   \n",
            "Backend           1139              0       206         0\n",
            "Documentation       10              2         9         0\n",
            "Frontend           214              0       772         1\n",
            "Security            18              0        43         9\n",
            "Accuracy: 0.7932315311597193\n",
            "Model trained using n-gram range: (2, 12)\n",
            "Cross-Validation Scores: [0.76342525 0.76923077 0.76442831 0.75934664 0.76551724]\n",
            "               precision    recall  f1-score   support\n",
            "\n",
            "     Frontend       0.82      0.85      0.84      1345\n",
            "      Backend       1.00      0.10      0.17        21\n",
            "     Security       0.75      0.78      0.77       987\n",
            "Documentation       0.90      0.13      0.23        70\n",
            "\n",
            "     accuracy                           0.79      2423\n",
            "    macro avg       0.87      0.46      0.50      2423\n",
            " weighted avg       0.80      0.79      0.78      2423\n",
            "\n",
            "Predicted      Backend  Documentation  Frontend  Security\n",
            "Actual                                                   \n",
            "Backend           1139              0       206         0\n",
            "Documentation       10              2         9         0\n",
            "Frontend           214              0       772         1\n",
            "Security            18              0        43         9\n",
            "Accuracy: 0.7932315311597193\n",
            "Model trained using n-gram range: (2, 13)\n",
            "Cross-Validation Scores: [0.76342525 0.76886792 0.76406534 0.75934664 0.76551724]\n",
            "               precision    recall  f1-score   support\n",
            "\n",
            "     Frontend       0.82      0.85      0.84      1345\n",
            "      Backend       1.00      0.10      0.17        21\n",
            "     Security       0.75      0.78      0.76       987\n",
            "Documentation       0.90      0.13      0.23        70\n",
            "\n",
            "     accuracy                           0.79      2423\n",
            "    macro avg       0.87      0.46      0.50      2423\n",
            " weighted avg       0.80      0.79      0.78      2423\n",
            "\n",
            "Predicted      Backend  Documentation  Frontend  Security\n",
            "Actual                                                   \n",
            "Backend           1139              0       206         0\n",
            "Documentation       10              2         9         0\n",
            "Frontend           215              0       771         1\n",
            "Security            18              0        43         9\n",
            "Accuracy: 0.7928188196450681\n",
            "Model trained using n-gram range: (2, 14)\n",
            "Cross-Validation Scores: [0.7637881  0.76886792 0.76406534 0.75934664 0.76551724]\n",
            "               precision    recall  f1-score   support\n",
            "\n",
            "     Frontend       0.82      0.85      0.84      1345\n",
            "      Backend       1.00      0.10      0.17        21\n",
            "     Security       0.75      0.78      0.76       987\n",
            "Documentation       0.90      0.13      0.23        70\n",
            "\n",
            "     accuracy                           0.79      2423\n",
            "    macro avg       0.87      0.46      0.50      2423\n",
            " weighted avg       0.80      0.79      0.78      2423\n",
            "\n",
            "Predicted      Backend  Documentation  Frontend  Security\n",
            "Actual                                                   \n",
            "Backend           1139              0       206         0\n",
            "Documentation       10              2         9         0\n",
            "Frontend           215              0       771         1\n",
            "Security            18              0        43         9\n",
            "Accuracy: 0.7928188196450681\n",
            "Model trained using n-gram range: (2, 15)\n",
            "Cross-Validation Scores: [0.7637881  0.76886792 0.76406534 0.75934664 0.76551724]\n",
            "               precision    recall  f1-score   support\n",
            "\n",
            "     Frontend       0.82      0.85      0.84      1345\n",
            "      Backend       1.00      0.10      0.17        21\n",
            "     Security       0.75      0.78      0.76       987\n",
            "Documentation       0.90      0.13      0.23        70\n",
            "\n",
            "     accuracy                           0.79      2423\n",
            "    macro avg       0.87      0.46      0.50      2423\n",
            " weighted avg       0.80      0.79      0.78      2423\n",
            "\n",
            "Predicted      Backend  Documentation  Frontend  Security\n",
            "Actual                                                   \n",
            "Backend           1139              0       206         0\n",
            "Documentation       10              2         9         0\n",
            "Frontend           215              0       771         1\n",
            "Security            18              0        43         9\n",
            "Accuracy: 0.7928188196450681\n"
          ]
        }
      ],
      "source": [
        "from sklearn.svm import SVC\n",
        "from sklearn.metrics import classification_report\n",
        "from sklearn.model_selection import cross_val_score\n",
        "import pandas as pd\n",
        "\n",
        "# Initialize the SVM model\n",
        "model = SVC(C = 100)\n",
        "\n",
        "# Iterate over each combination of transformed data and vectorizer\n",
        "for data, vectorizer in transformed_data:\n",
        "    print(f\"Model trained using n-gram range: {vectorizer.ngram_range}\")\n",
        "\n",
        "    # Perform cross-validation to evaluate the model\n",
        "    scores = cross_val_score(model, data, filtered_train_df['class_name'], cv=5)\n",
        "    print(f\"Cross-Validation Scores: {scores}\")\n",
        "\n",
        "    # Fit the model on the entire training data\n",
        "    model.fit(data, filtered_train_df['class_name'])\n",
        "\n",
        "    # Predict the class labels for the testing data\n",
        "    X_test_transformed = vectorizer.transform(filtered_test_df['bug_description'])\n",
        "    y_pred = model.predict(X_test_transformed)\n",
        "\n",
        "    # Print the classification report\n",
        "    print(classification_report(filtered_test_df['class_name'], y_pred, target_names=filtered_test_df['class_name'].unique()))\n",
        "\n",
        "    # Print the confusion matrix\n",
        "    print(pd.crosstab(filtered_test_df['class_name'], y_pred, rownames=['Actual'], colnames=['Predicted']))\n",
        "\n",
        "    # Print the accuracy\n",
        "    accuracy = model.score(X_test_transformed, filtered_test_df['class_name'])\n",
        "    print(f\"Accuracy: {accuracy}\")\n"
      ]
    },
    {
      "cell_type": "code",
      "source": [
        "\n",
        "def try_ngram_combinations(data, ngram_ranges):\n",
        "    \"\"\"\n",
        "    Try different combinations of n-grams using TfidfVectorizer.\n",
        "\n",
        "    Args:\n",
        "    - data: The input data to be transformed.\n",
        "    - ngram_ranges: A list of tuples representing the n-gram ranges to try.\n",
        "\n",
        "    Returns:\n",
        "    - A list of tuples containing the transformed data and corresponding vectorizer instances for each n-gram combination.\n",
        "    \"\"\"\n",
        "    results = []\n",
        "\n",
        "    for ngrams in ngram_ranges:\n",
        "        print(f\"Processing n-gram range: {ngrams}\")\n",
        "\n",
        "        # Initialize the TfidfVectorizer\n",
        "        vectorizer = TfidfVectorizer(ngram_range=ngrams)\n",
        "\n",
        "        # Fit and transform the data\n",
        "        X_transformed = vectorizer.fit_transform(data)\n",
        "\n",
        "        # Append the transformed data and vectorizer to the results list\n",
        "        results.append((X_transformed, vectorizer))\n",
        "\n",
        "    return results\n",
        "\n",
        "# Example usage:\n",
        "\n",
        "# all n-gram ranges till (6,7)\n",
        "ngram_ranges = [(1, 2) ]\n",
        "\n",
        "\n",
        "transformed_data = try_ngram_combinations(filtered_train_df['bug_description'], ngram_ranges)\n",
        "data1, vectorizer1 = transformed_data[0]\n",
        "print(f\"Shape of transformed data for n-gram range {vectorizer.ngram_range}: {data.shape}\")\n",
        "\n"
      ],
      "metadata": {
        "colab": {
          "base_uri": "https://localhost:8080/"
        },
        "id": "IKGKDUjybRhd",
        "outputId": "bd3c9202-3601-4aab-dde7-6269190e7c36"
      },
      "execution_count": 38,
      "outputs": [
        {
          "output_type": "stream",
          "name": "stdout",
          "text": [
            "Processing n-gram range: (1, 2)\n",
            "Shape of transformed data for n-gram range (1, 2): (13777, 54649)\n"
          ]
        }
      ]
    },
    {
      "cell_type": "code",
      "source": [
        "from sklearn.svm import SVC\n",
        "from sklearn.metrics import classification_report\n",
        "from sklearn.model_selection import cross_val_score\n",
        "import pandas as pd\n",
        "\n",
        "# Initialize the SVM model\n",
        "model = SVC(C = 100)\n",
        "\n",
        "\n",
        "print(f\"Model trained using n-gram range: {vectorizer1.ngram_range}\")\n",
        "\n",
        "# Perform cross-validation to evaluate the model\n",
        "scores = cross_val_score(model, data1, filtered_train_df['class_name'], cv=5)\n",
        "print(f\"Cross-Validation Scores: {scores}\")\n",
        "\n",
        "# Fit the model on the entire training data\n",
        "model.fit(data1, filtered_train_df['class_name'])\n",
        "\n",
        "# Predict the class labels for the testing data\n",
        "X_test_transformed = vectorizer1.transform(filtered_test_df['bug_description'])\n",
        "y_pred = model.predict(X_test_transformed)\n",
        "\n",
        "# Print the classification report\n",
        "print(classification_report(filtered_test_df['class_name'], y_pred, target_names=filtered_test_df['class_name'].unique()))\n",
        "\n",
        "# Print the confusion matrix\n",
        "print(pd.crosstab(filtered_test_df['class_name'], y_pred, rownames=['Actual'], colnames=['Predicted']))\n",
        "\n",
        "# Print the accuracy\n",
        "accuracy = model.score(X_test_transformed, filtered_test_df['class_name'])\n",
        "print(f\"Accuracy: {accuracy}\")\n"
      ],
      "metadata": {
        "colab": {
          "base_uri": "https://localhost:8080/"
        },
        "id": "K1fBI4MmderA",
        "outputId": "5b93d7db-dbc5-402f-f4db-1826b1d4c4e9"
      },
      "execution_count": 39,
      "outputs": [
        {
          "output_type": "stream",
          "name": "stdout",
          "text": [
            "Model trained using n-gram range: (1, 2)\n",
            "Cross-Validation Scores: [0.86901306 0.88824383 0.87876588 0.87404719 0.89292196]\n",
            "               precision    recall  f1-score   support\n",
            "\n",
            "     Frontend       0.92      0.92      0.92      1345\n",
            "      Backend       0.88      0.33      0.48        21\n",
            "     Security       0.88      0.92      0.90       987\n",
            "Documentation       0.88      0.53      0.66        70\n",
            "\n",
            "     accuracy                           0.90      2423\n",
            "    macro avg       0.89      0.68      0.74      2423\n",
            " weighted avg       0.90      0.90      0.90      2423\n",
            "\n",
            "Predicted      Backend  Documentation  Frontend  Security\n",
            "Actual                                                   \n",
            "Backend           1238              1       104         2\n",
            "Documentation       10              7         4         0\n",
            "Frontend            77              0       907         3\n",
            "Security            14              0        19        37\n",
            "Accuracy: 0.9034255055716055\n"
          ]
        }
      ]
    },
    {
      "cell_type": "code",
      "source": [
        "import joblib\n",
        "# Save the model and the vectorizer\n",
        "joblib.dump(model, 'svm_model.pkl')\n",
        "joblib.dump(vectorizer1, 'vectorizer.pkl')\n",
        "print(\"Model and vectorizer saved successfully.\")"
      ],
      "metadata": {
        "colab": {
          "base_uri": "https://localhost:8080/"
        },
        "id": "kIJlvjftg4JI",
        "outputId": "b402df85-afdd-48ba-9ff1-7b8c8c7b88f3"
      },
      "execution_count": 41,
      "outputs": [
        {
          "output_type": "stream",
          "name": "stdout",
          "text": [
            "Model and vectorizer saved successfully.\n"
          ]
        }
      ]
    },
    {
      "cell_type": "code",
      "source": [
        "import joblib\n",
        "\n",
        "# Load the model and the vectorizer\n",
        "loaded_model = joblib.load('svm_model.pkl')\n",
        "loaded_vectorizer = joblib.load('vectorizer.pkl')\n",
        "\n",
        "# Example new data for prediction\n",
        "new_data = [\"We have some problems in api and it slows down the system.\"]\n",
        "\n",
        "# Transform the new data using the loaded vectorizer\n",
        "new_data_transformed = loaded_vectorizer.transform(new_data)\n",
        "\n",
        "# Predict the class label for the new data\n",
        "new_pred = loaded_model.predict(new_data_transformed)\n",
        "\n",
        "# Print the prediction\n",
        "print(f\"Predicted class for the new input: {new_pred[0]}\")\n"
      ],
      "metadata": {
        "colab": {
          "base_uri": "https://localhost:8080/"
        },
        "id": "iScN82MdhAgY",
        "outputId": "41e49f9c-e12a-45ad-f28d-44501f322da8"
      },
      "execution_count": 42,
      "outputs": [
        {
          "output_type": "stream",
          "name": "stdout",
          "text": [
            "Predicted class for the new input: Backend\n"
          ]
        }
      ]
    }
  ],
  "metadata": {
    "kernelspec": {
      "display_name": "Python 3",
      "language": "python",
      "name": "python3"
    },
    "language_info": {
      "codemirror_mode": {
        "name": "ipython",
        "version": 3
      },
      "file_extension": ".py",
      "mimetype": "text/x-python",
      "name": "python",
      "nbconvert_exporter": "python",
      "pygments_lexer": "ipython3",
      "version": "3.10.2"
    },
    "colab": {
      "provenance": []
    }
  },
  "nbformat": 4,
  "nbformat_minor": 0
}