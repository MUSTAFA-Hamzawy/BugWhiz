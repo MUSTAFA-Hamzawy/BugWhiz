{
 "cells": [
  {
   "cell_type": "code",
   "execution_count": 1,
   "metadata": {},
   "outputs": [],
   "source": [
    "import pandas as pd\n",
    "import os\n",
    "import numpy as np\n",
    "import string\n",
    "import re\n",
    "from nltk.tokenize import word_tokenize\n",
    "from nltk.stem import WordNetLemmatizer"
   ]
  },
  {
   "cell_type": "code",
   "execution_count": 2,
   "metadata": {},
   "outputs": [],
   "source": [
    "# path of training data\n",
    "train_path = 'train.xlsx'\n",
    "\n",
    "# path of testing data\n",
    "test_path = 'test.xlsx'"
   ]
  },
  {
   "cell_type": "code",
   "execution_count": 3,
   "metadata": {},
   "outputs": [
    {
     "name": "stdout",
     "output_type": "stream",
     "text": [
      "                                              report class_name  class_index\n",
      "0  \"For any event on my bookmarked projects\" opti...    Backend            1\n",
      "1           Switch to using full l10n id's in urlbar   Frontend            2\n",
      "2  Consider removing hasicon property to simplify...   Frontend            2\n",
      "3  Method to obtain current URL from WebBrowserEd...   Frontend            2\n",
      "4              Fix: migration fails in MS SQL-Server    Backend            1\n",
      "                                              report class_name  class_index\n",
      "0  REST API - ability to list sub projects for a ...    Backend            1\n",
      "1  support selective text on right if set in GNOM...   Frontend            2\n",
      "2  [meta][userstory] Ship v1 of Pre-populated top...   Frontend            2\n",
      "3  Include updated_on and passwd_changed_on colum...    Backend            1\n",
      "4    Problem with email integration to MS Office 365    Backend            1\n"
     ]
    }
   ],
   "source": [
    "# show the first 5 rows of the training data\n",
    "train_df = pd.read_excel(train_path)\n",
    "print(train_df.head())\n",
    "\n",
    "# show the first 5 rows of the testing data\n",
    "test_df = pd.read_excel(test_path)\n",
    "print(test_df.head())"
   ]
  },
  {
   "cell_type": "code",
   "execution_count": 4,
   "metadata": {},
   "outputs": [],
   "source": [
    "def convert_lower_case(data):\n",
    "    return str(data).lower()"
   ]
  },
  {
   "cell_type": "code",
   "execution_count": 5,
   "metadata": {},
   "outputs": [],
   "source": [
    "def remove_punctuation(data):\n",
    "    symbols = \"!\\\"#$%&()*+-./:;<=>?@[\\]^_`{|}~\\n\"\n",
    "    for i in symbols:\n",
    "        data = np.char.replace(data, i, ' ')\n",
    "\n",
    "    return str(data)\n"
   ]
  },
  {
   "cell_type": "code",
   "execution_count": 6,
   "metadata": {},
   "outputs": [],
   "source": [
    "def remove_apostrophe(data):\n",
    "    return np.char.replace(data, \"'\", \"\")"
   ]
  },
  {
   "cell_type": "code",
   "execution_count": 7,
   "metadata": {},
   "outputs": [],
   "source": [
    "def remove_numbers(data):\n",
    "    return re.sub(r'\\d+', '', str(data))"
   ]
  },
  {
   "cell_type": "code",
   "execution_count": 8,
   "metadata": {},
   "outputs": [],
   "source": [
    "def remove_single_characters(tokens):\n",
    "    new_text = \"\"\n",
    "    for w in tokens:\n",
    "        if len(w) > 1:\n",
    "            new_text = new_text + \" \" + w\n",
    "    return new_text"
   ]
  },
  {
   "cell_type": "code",
   "execution_count": 9,
   "metadata": {},
   "outputs": [],
   "source": [
    "def lemmatization(data):\n",
    "    lemmatizer = WordNetLemmatizer()\n",
    "    tokens = word_tokenize(data)\n",
    "    data = remove_single_characters(tokens)\n",
    "    lemmatized_output = ' '.join([lemmatizer.lemmatize(word) for word in tokens])\n",
    "    return lemmatized_output"
   ]
  },
  {
   "cell_type": "code",
   "execution_count": 10,
   "metadata": {},
   "outputs": [],
   "source": [
    "def preprocess(data):\n",
    "    data = convert_lower_case(data)\n",
    "    data = remove_punctuation(data)\n",
    "    data = remove_apostrophe(data)\n",
    "    data = remove_numbers(data)\n",
    "    data = lemmatization(data)\n",
    "    return data"
   ]
  },
  {
   "cell_type": "code",
   "execution_count": 11,
   "metadata": {},
   "outputs": [
    {
     "name": "stdout",
     "output_type": "stream",
     "text": [
      "\"For any event on my bookmarked projects\" option not sending notifications for non-member bookmarked projects\n"
     ]
    }
   ],
   "source": [
    "# print the first report of the training data\n",
    "print(train_df['report'][0])\n"
   ]
  },
  {
   "cell_type": "code",
   "execution_count": 12,
   "metadata": {},
   "outputs": [
    {
     "name": "stdout",
     "output_type": "stream",
     "text": [
      "for any event on my bookmarked project option not sending notification for non member bookmarked project\n"
     ]
    }
   ],
   "source": [
    "# preprocess the first report of the training data\n",
    "print(preprocess(train_df['report'][0]))\n"
   ]
  },
  {
   "cell_type": "code",
   "execution_count": null,
   "metadata": {},
   "outputs": [],
   "source": [
    "import pandas as pd\n",
    "\n",
    "# Assuming train_df is your DataFrame containing training data\n",
    "# Assuming train_df has columns 'id', 'report', and 'class_name'\n",
    "\n",
    "# Initialize counter\n",
    "counter = 1\n",
    "\n",
    "# Iterate over each row in the DataFrame\n",
    "with open('preprocessed_train_data.csv', 'w', encoding='utf-8') as f:\n",
    "    f.write('bug_description , class_name\\n')  # Write header\n",
    "\n",
    "    for _, row in train_df.iterrows():\n",
    "        # Preprocess the 'report' column\n",
    "        preprocessed_report = preprocess(row['report'])\n",
    "\n",
    "        # Write data to the file with incremented counter\n",
    "        f.write(f\"{preprocessed_report},{row['class_name']}\\n\")\n",
    "\n",
    "# Print the first preprocessed report\n",
    "print(train_df['report'][0])\n"
   ]
  },
  {
   "cell_type": "code",
   "execution_count": null,
   "metadata": {},
   "outputs": [],
   "source": [
    "# FOR TESTING DATA\n",
    "\n",
    "# Iterate over each row in the DataFrame\n",
    "with open('preprocessed_test_data.csv', 'w', encoding='utf-8') as f:\n",
    "    f.write('bug_description , class_name\\n')  # Write header\n",
    "\n",
    "    for _, row in test_df.iterrows():\n",
    "        # Preprocess the 'report' column\n",
    "        preprocessed_report = preprocess(row['report'])\n",
    "\n",
    "        # Write data to the file with incremented counter\n",
    "        f.write(f\"{preprocessed_report},{row['class_name']}\\n\")\n",
    "\n",
    "# Print the first preprocessed report\n",
    "print(test_df['report'][0])\n"
   ]
  },
  {
   "cell_type": "code",
   "execution_count": null,
   "metadata": {},
   "outputs": [],
   "source": [
    "# Open the preprocessed data file for reading\n",
    "with open('preprocessed_train_data.csv', 'r', encoding='utf-8') as f:\n",
    "    # Open the new file for writing preprocessed data with 2 columns\n",
    "    with open('preprocessed_train_data2.csv', 'w', encoding='utf-8') as f_out:\n",
    "        # Iterate over each line in the file\n",
    "        for i, line in enumerate(f):\n",
    "            # Skip the header\n",
    "            if i == 0:\n",
    "                continue\n",
    "            \n",
    "            # Split the line into columns based on comma delimiter\n",
    "            columns = line.strip().split(',')\n",
    "            \n",
    "            # Check the number of columns\n",
    "            if len(columns) == 2:\n",
    "                # Get the preprocessed report and class name\n",
    "                preprocessed_report = columns[0]\n",
    "                class_name = columns[1]\n",
    "                \n",
    "                # Write the preprocessed report and class name to the new file\n",
    "                f_out.write(f\"{preprocessed_report},{class_name}\\n\")\n",
    "            else:\n",
    "                # Skip the line if it doesn't have exactly 2 columns\n",
    "                continue\n"
   ]
  },
  {
   "cell_type": "code",
   "execution_count": null,
   "metadata": {},
   "outputs": [],
   "source": [
    "# FOR TESTING DATA\n",
    "\n",
    "# Open the preprocessed data file for reading\n",
    "with open('preprocessed_test_data.csv', 'r', encoding='utf-8') as f:\n",
    "    # Open the new file for writing preprocessed data with 2 columns\n",
    "    with open('preprocessed_test_data2.csv', 'w', encoding='utf-8') as f_out:\n",
    "        # Iterate over each line in the file\n",
    "        for i, line in enumerate(f):\n",
    "            # Skip the header\n",
    "            if i == 0:\n",
    "                continue\n",
    "            \n",
    "            # Split the line into columns based on comma delimiter\n",
    "            columns = line.strip().split(',')\n",
    "            \n",
    "            # Check the number of columns\n",
    "            if len(columns) == 2:\n",
    "                # Get the preprocessed report and class name\n",
    "                preprocessed_report = columns[0]\n",
    "                class_name = columns[1]\n",
    "                \n",
    "                # Write the preprocessed report and class name to the new file\n",
    "                f_out.write(f\"{preprocessed_report},{class_name}\\n\")\n",
    "            else:\n",
    "                # Skip the line if it doesn't have exactly 2 columns\n",
    "                continue\n"
   ]
  },
  {
   "cell_type": "code",
   "execution_count": 13,
   "metadata": {},
   "outputs": [
    {
     "name": "stdout",
     "output_type": "stream",
     "text": [
      "                                     bug_description class_name\n",
      "0  for any event on my bookmarked project option ...    Backend\n",
      "1               switch to using full ln id in urlbar   Frontend\n",
      "2  consider removing hasicon property to simplify...   Frontend\n",
      "3  method to obtain current url from webbrowsered...   Frontend\n",
      "4                fix migration fails in m sql server    Backend\n"
     ]
    }
   ],
   "source": [
    "# read the preprocessed data from the new file\n",
    "preprocessed_train_df = pd.read_csv('preprocessed_train_data2.csv')\n",
    "\n",
    "# show the first 5 rows of the preprocessed training data\n",
    "print(preprocessed_train_df.head())"
   ]
  },
  {
   "cell_type": "code",
   "execution_count": 14,
   "metadata": {},
   "outputs": [
    {
     "name": "stdout",
     "output_type": "stream",
     "text": [
      "                                     bug_description class_name\n",
      "0  rest api ability to list sub project for a pro...    Backend\n",
      "1  support selective text on right if set in gnom...   Frontend\n",
      "2  meta userstory ship v of pre populated topsite...   Frontend\n",
      "3  include updated on and passwd changed on colum...    Backend\n",
      "4         problem with email integration to m office    Backend\n"
     ]
    }
   ],
   "source": [
    "# read the preprocessed data from the new file\n",
    "preprocessed_test_df = pd.read_csv('preprocessed_test_data2.csv')\n",
    "\n",
    "# show the first 5 rows of the preprocessed training data\n",
    "print(preprocessed_test_df.head())"
   ]
  },
  {
   "cell_type": "code",
   "execution_count": 15,
   "metadata": {},
   "outputs": [
    {
     "name": "stderr",
     "output_type": "stream",
     "text": [
      "[nltk_data] Downloading package stopwords to\n",
      "[nltk_data]     C:\\Users\\Lenovo\\AppData\\Roaming\\nltk_data...\n",
      "[nltk_data]   Package stopwords is already up-to-date!\n",
      "[nltk_data] Downloading package punkt to\n",
      "[nltk_data]     C:\\Users\\Lenovo\\AppData\\Roaming\\nltk_data...\n",
      "[nltk_data]   Package punkt is already up-to-date!\n",
      "[nltk_data] Downloading package wordnet to\n",
      "[nltk_data]     C:\\Users\\Lenovo\\AppData\\Roaming\\nltk_data...\n",
      "[nltk_data]   Package wordnet is already up-to-date!\n"
     ]
    },
    {
     "data": {
      "text/plain": [
       "True"
      ]
     },
     "execution_count": 15,
     "metadata": {},
     "output_type": "execute_result"
    }
   ],
   "source": [
    "# remove the stop words from the preprocessed data using nltk\n",
    "import nltk\n",
    "from nltk.corpus import stopwords\n",
    "\n",
    "nltk.download('stopwords')\n",
    "nltk.download('punkt')\n",
    "\n",
    "stop_words = set(stopwords.words('english'))\n",
    "\n",
    "import nltk\n",
    "nltk.download('wordnet')"
   ]
  },
  {
   "cell_type": "code",
   "execution_count": 16,
   "metadata": {},
   "outputs": [
    {
     "name": "stdout",
     "output_type": "stream",
     "text": [
      "for any event on my bookmarked project option not sending notification for non member bookmarked project\n",
      "event bookmarked project option sending notification non member bookmarked project\n",
      "rest api ability to list sub project for a project\n",
      "rest api ability list sub project project\n"
     ]
    }
   ],
   "source": [
    "def remove_stop_words(data):\n",
    "    tokens = word_tokenize(data)\n",
    "    data = ' '.join([i for i in tokens if not i in stop_words])\n",
    "    return data\n",
    "\n",
    "# preprocess the first report of the training data\n",
    "print(preprocess(preprocessed_train_df['bug_description'][0]))\n",
    "\n",
    "# remove the stop words from the preprocessed data\n",
    "print(remove_stop_words(preprocess(preprocessed_train_df['bug_description'][0])))\n",
    "\n",
    "# preprocess the first report of the testing data\n",
    "print(preprocess(preprocessed_test_df['bug_description'][0]))\n",
    "\n",
    "# remove the stop words from the preprocessed data\n",
    "print(remove_stop_words(preprocess(preprocessed_test_df['bug_description'][0])))\n"
   ]
  },
  {
   "cell_type": "code",
   "execution_count": 17,
   "metadata": {},
   "outputs": [
    {
     "name": "stdout",
     "output_type": "stream",
     "text": [
      "                                     bug_description class_name\n",
      "0  event bookmarked project option sending notifi...    Backend\n",
      "1                     switch using full ln id urlbar   Frontend\n",
      "2  consider removing hasicon property simplify st...   Frontend\n",
      "3         method obtain current url webbrowsereditor   Frontend\n",
      "4                     fix migration fails sql server    Backend\n",
      "                                     bug_description class_name\n",
      "0          rest api ability list sub project project    Backend\n",
      "1     support selective text right set gnome setting   Frontend\n",
      "2  meta userstory ship v pre populated topsites a...   Frontend\n",
      "3  include updated passwd changed column user api...    Backend\n",
      "4                   problem email integration office    Backend\n"
     ]
    }
   ],
   "source": [
    "# Convert non-string values to strings in 'bug_description' column\n",
    "preprocessed_train_df['bug_description'] = preprocessed_train_df['bug_description'].apply(lambda x: str(x))\n",
    "preprocessed_test_df['bug_description'] = preprocessed_test_df['bug_description'].apply(lambda x: str(x))\n",
    "\n",
    "# Remove stop words from 'bug_description' column\n",
    "preprocessed_train_df['bug_description'] = preprocessed_train_df['bug_description'].apply(lambda x: remove_stop_words(x))\n",
    "preprocessed_test_df['bug_description'] = preprocessed_test_df['bug_description'].apply(lambda x: remove_stop_words(x))\n",
    "\n",
    "# Show the first 5 rows of the preprocessed training data\n",
    "print(preprocessed_train_df.head())\n",
    "\n",
    "# Show the first 5 rows of the preprocessed testing data\n",
    "print(preprocessed_test_df.head())\n"
   ]
  },
  {
   "cell_type": "code",
   "execution_count": 60,
   "metadata": {},
   "outputs": [
    {
     "name": "stdout",
     "output_type": "stream",
     "text": [
      "Filtered Training Data:\n",
      "                                     bug_description class_name\n",
      "0  event bookmarked project option sending notifi...    Backend\n",
      "1                     switch using full ln id urlbar   Frontend\n",
      "2  consider removing hasicon property simplify st...   Frontend\n",
      "3         method obtain current url webbrowsereditor   Frontend\n",
      "4                     fix migration fails sql server    Backend\n",
      "\n",
      "Filtered Testing Data:\n",
      "                                     bug_description class_name\n",
      "0          rest api ability list sub project project    Backend\n",
      "1     support selective text right set gnome setting   Frontend\n",
      "2  meta userstory ship v pre populated topsites a...   Frontend\n",
      "3  include updated passwd changed column user api...    Backend\n",
      "4                   problem email integration office    Backend\n"
     ]
    }
   ],
   "source": [
    "# keep only the reports that has class_name of Frontend, Backend, Security, Documentation\n",
    "# Filter the training data\n",
    "filtered_train_df = preprocessed_train_df[\n",
    "    (preprocessed_train_df['class_name'] == 'Frontend') | \n",
    "    (preprocessed_train_df['class_name'] == 'Backend') |\n",
    "    (preprocessed_train_df['class_name'] == 'Security') \n",
    "]\n",
    "\n",
    "# Filter the testing data\n",
    "filtered_test_df = preprocessed_test_df[\n",
    "    (preprocessed_test_df['class_name'] == 'Frontend') | \n",
    "    (preprocessed_test_df['class_name'] == 'Backend') |\n",
    "    (preprocessed_test_df['class_name'] == 'Security')\n",
    "]\n",
    "\n",
    "# Show the first 5 rows of the filtered training data\n",
    "print(\"Filtered Training Data:\")\n",
    "print(filtered_train_df.head())\n",
    "\n",
    "# Show the first 5 rows of the filtered testing data\n",
    "print(\"\\nFiltered Testing Data:\")\n",
    "print(filtered_test_df.head())\n"
   ]
  },
  {
   "cell_type": "code",
   "execution_count": 62,
   "metadata": {},
   "outputs": [
    {
     "name": "stdout",
     "output_type": "stream",
     "text": [
      "['Frontend' 'Backend' 'Security']\n",
      "['Frontend' 'Backend' 'Security']\n"
     ]
    }
   ],
   "source": [
    "# Define the mapping of class names to the desired order\n",
    "class_name_mapping = {\n",
    "    'Backend': 1,\n",
    "    'Frontend': 0,\n",
    "    'Security': 2\n",
    "}\n",
    "\n",
    "# Map class names in both training and testing data to the desired order\n",
    "filtered_train_df['class_label'] = filtered_train_df['class_name'].map(class_name_mapping)\n",
    "filtered_test_df['class_label'] = filtered_test_df['class_name'].map(class_name_mapping)\n",
    "\n",
    "# order them based on the number of class_label\n",
    "filtered_train_df = filtered_train_df.sort_values(by=['class_label'])\n",
    "filtered_test_df = filtered_test_df.sort_values(by=['class_label'])\n",
    "\n",
    "# Print the unique class names in the training data\n",
    "print(filtered_train_df['class_name'].unique())\n",
    "\n",
    "# Print the unique class names in the testing data\n",
    "print(filtered_test_df['class_name'].unique())\n"
   ]
  },
  {
   "cell_type": "markdown",
   "metadata": {},
   "source": [
    "## Feature Exraction"
   ]
  },
  {
   "cell_type": "code",
   "execution_count": 63,
   "metadata": {},
   "outputs": [
    {
     "name": "stdout",
     "output_type": "stream",
     "text": [
      "(13603, 7483)\n"
     ]
    }
   ],
   "source": [
    "from sklearn.feature_extraction.text import TfidfVectorizer\n",
    "\n",
    "# Replace NaN values with an empty string\n",
    "preprocessed_train_df['bug_description'].fillna('', inplace=True)\n",
    "\n",
    "# Initialize the TfidfVectorizer\n",
    "vectorizer = TfidfVectorizer()\n",
    "\n",
    "# Fit and transform the preprocessed data\n",
    "X_train = vectorizer.fit_transform(filtered_train_df['bug_description'])\n",
    "\n",
    "# Print the shape of X_train\n",
    "print(X_train.shape)"
   ]
  },
  {
   "cell_type": "code",
   "execution_count": 64,
   "metadata": {},
   "outputs": [
    {
     "name": "stdout",
     "output_type": "stream",
     "text": [
      "  (0, 6321)\t0.39810213343122414\n",
      "  (0, 1005)\t0.48891468317581693\n",
      "  (0, 6672)\t0.5876471675976369\n",
      "  (0, 3503)\t0.507097555059254\n"
     ]
    }
   ],
   "source": [
    "# print the vector representation of the first report\n",
    "print(X_train[0])"
   ]
  },
  {
   "cell_type": "code",
   "execution_count": 65,
   "metadata": {},
   "outputs": [
    {
     "name": "stdout",
     "output_type": "stream",
     "text": [
      "3\n",
      "['Frontend' 'Backend' 'Security']\n",
      "Backend     7437\n",
      "Frontend    5799\n",
      "Security     367\n",
      "Name: class_name, dtype: int64\n"
     ]
    }
   ],
   "source": [
    "# Print the number of unique class_name in the training data\n",
    "print(filtered_train_df['class_name'].nunique())\n",
    "\n",
    "# print their unique values\n",
    "print(filtered_train_df['class_name'].unique())\n",
    "\n",
    "# print the number of reports in each class\n",
    "print(filtered_train_df['class_name'].value_counts())\n",
    "\n"
   ]
  },
  {
   "cell_type": "code",
   "execution_count": 66,
   "metadata": {},
   "outputs": [],
   "source": [
    "class_name_mapping = {\n",
    "    'Backend': 1,\n",
    "    'Frontend': 0\n",
    "}"
   ]
  },
  {
   "cell_type": "code",
   "execution_count": 72,
   "metadata": {},
   "outputs": [
    {
     "name": "stdout",
     "output_type": "stream",
     "text": [
      "Processing n-gram range: (3, 3)\n",
      "Processing n-gram range: (3, 4)\n",
      "Processing n-gram range: (3, 5)\n",
      "Processing n-gram range: (3, 6)\n",
      "Processing n-gram range: (3, 7)\n",
      "Processing n-gram range: (3, 8)\n",
      "Processing n-gram range: (3, 9)\n",
      "Processing n-gram range: (3, 10)\n"
     ]
    },
    {
     "ename": "ValueError",
     "evalue": "could not convert string to float: 'Backend'",
     "output_type": "error",
     "traceback": [
      "\u001b[1;31m---------------------------------------------------------------------------\u001b[0m",
      "\u001b[1;31mValueError\u001b[0m                                Traceback (most recent call last)",
      "Input \u001b[1;32mIn [72]\u001b[0m, in \u001b[0;36m<module>\u001b[1;34m\u001b[0m\n\u001b[0;32m     62\u001b[0m \u001b[38;5;66;03m# Train NMF on the augmented feature set\u001b[39;00m\n\u001b[0;32m     63\u001b[0m nmf_model \u001b[38;5;241m=\u001b[39m NMF(n_components\u001b[38;5;241m=\u001b[39m\u001b[38;5;241m3\u001b[39m, random_state\u001b[38;5;241m=\u001b[39m\u001b[38;5;241m42\u001b[39m)\n\u001b[1;32m---> 64\u001b[0m \u001b[43mnmf_model\u001b[49m\u001b[38;5;241;43m.\u001b[39;49m\u001b[43mfit\u001b[49m\u001b[43m(\u001b[49m\u001b[43mX_train_augmented\u001b[49m\u001b[43m)\u001b[49m\n\u001b[0;32m     66\u001b[0m \u001b[38;5;66;03m# Predictions using NMF\u001b[39;00m\n\u001b[0;32m     67\u001b[0m test_predictions \u001b[38;5;241m=\u001b[39m nmf_model\u001b[38;5;241m.\u001b[39mtransform(X_test_augmented)\n",
      "File \u001b[1;32mc:\\Users\\Lenovo\\AppData\\Local\\Programs\\Python\\Python310\\lib\\site-packages\\sklearn\\decomposition\\_nmf.py:1239\u001b[0m, in \u001b[0;36m_BaseNMF.fit\u001b[1;34m(self, X, y, **params)\u001b[0m\n\u001b[0;32m   1217\u001b[0m \u001b[38;5;124;03m\"\"\"Learn a NMF model for the data X.\u001b[39;00m\n\u001b[0;32m   1218\u001b[0m \n\u001b[0;32m   1219\u001b[0m \u001b[38;5;124;03mParameters\u001b[39;00m\n\u001b[1;32m   (...)\u001b[0m\n\u001b[0;32m   1235\u001b[0m \u001b[38;5;124;03m    Returns the instance itself.\u001b[39;00m\n\u001b[0;32m   1236\u001b[0m \u001b[38;5;124;03m\"\"\"\u001b[39;00m\n\u001b[0;32m   1237\u001b[0m \u001b[38;5;66;03m# param validation is done in fit_transform\u001b[39;00m\n\u001b[1;32m-> 1239\u001b[0m \u001b[38;5;28mself\u001b[39m\u001b[38;5;241m.\u001b[39mfit_transform(X, \u001b[38;5;241m*\u001b[39m\u001b[38;5;241m*\u001b[39mparams)\n\u001b[0;32m   1240\u001b[0m \u001b[38;5;28;01mreturn\u001b[39;00m \u001b[38;5;28mself\u001b[39m\n",
      "File \u001b[1;32mc:\\Users\\Lenovo\\AppData\\Local\\Programs\\Python\\Python310\\lib\\site-packages\\sklearn\\utils\\_set_output.py:140\u001b[0m, in \u001b[0;36m_wrap_method_output.<locals>.wrapped\u001b[1;34m(self, X, *args, **kwargs)\u001b[0m\n\u001b[0;32m    138\u001b[0m \u001b[38;5;129m@wraps\u001b[39m(f)\n\u001b[0;32m    139\u001b[0m \u001b[38;5;28;01mdef\u001b[39;00m \u001b[38;5;21mwrapped\u001b[39m(\u001b[38;5;28mself\u001b[39m, X, \u001b[38;5;241m*\u001b[39margs, \u001b[38;5;241m*\u001b[39m\u001b[38;5;241m*\u001b[39mkwargs):\n\u001b[1;32m--> 140\u001b[0m     data_to_wrap \u001b[38;5;241m=\u001b[39m f(\u001b[38;5;28mself\u001b[39m, X, \u001b[38;5;241m*\u001b[39margs, \u001b[38;5;241m*\u001b[39m\u001b[38;5;241m*\u001b[39mkwargs)\n\u001b[0;32m    141\u001b[0m     \u001b[38;5;28;01mif\u001b[39;00m \u001b[38;5;28misinstance\u001b[39m(data_to_wrap, \u001b[38;5;28mtuple\u001b[39m):\n\u001b[0;32m    142\u001b[0m         \u001b[38;5;66;03m# only wrap the first output for cross decomposition\u001b[39;00m\n\u001b[0;32m    143\u001b[0m         \u001b[38;5;28;01mreturn\u001b[39;00m (\n\u001b[0;32m    144\u001b[0m             _wrap_data_with_container(method, data_to_wrap[\u001b[38;5;241m0\u001b[39m], X, \u001b[38;5;28mself\u001b[39m),\n\u001b[0;32m    145\u001b[0m             \u001b[38;5;241m*\u001b[39mdata_to_wrap[\u001b[38;5;241m1\u001b[39m:],\n\u001b[0;32m    146\u001b[0m         )\n",
      "File \u001b[1;32mc:\\Users\\Lenovo\\AppData\\Local\\Programs\\Python\\Python310\\lib\\site-packages\\sklearn\\decomposition\\_nmf.py:1561\u001b[0m, in \u001b[0;36mNMF.fit_transform\u001b[1;34m(self, X, y, W, H)\u001b[0m\n\u001b[0;32m   1535\u001b[0m \u001b[38;5;124;03m\"\"\"Learn a NMF model for the data X and returns the transformed data.\u001b[39;00m\n\u001b[0;32m   1536\u001b[0m \n\u001b[0;32m   1537\u001b[0m \u001b[38;5;124;03mThis is more efficient than calling fit followed by transform.\u001b[39;00m\n\u001b[1;32m   (...)\u001b[0m\n\u001b[0;32m   1557\u001b[0m \u001b[38;5;124;03m    Transformed data.\u001b[39;00m\n\u001b[0;32m   1558\u001b[0m \u001b[38;5;124;03m\"\"\"\u001b[39;00m\n\u001b[0;32m   1559\u001b[0m \u001b[38;5;28mself\u001b[39m\u001b[38;5;241m.\u001b[39m_validate_params()\n\u001b[1;32m-> 1561\u001b[0m X \u001b[38;5;241m=\u001b[39m \u001b[38;5;28;43mself\u001b[39;49m\u001b[38;5;241;43m.\u001b[39;49m\u001b[43m_validate_data\u001b[49m\u001b[43m(\u001b[49m\n\u001b[0;32m   1562\u001b[0m \u001b[43m    \u001b[49m\u001b[43mX\u001b[49m\u001b[43m,\u001b[49m\u001b[43m \u001b[49m\u001b[43maccept_sparse\u001b[49m\u001b[38;5;241;43m=\u001b[39;49m\u001b[43m(\u001b[49m\u001b[38;5;124;43m\"\u001b[39;49m\u001b[38;5;124;43mcsr\u001b[39;49m\u001b[38;5;124;43m\"\u001b[39;49m\u001b[43m,\u001b[49m\u001b[43m \u001b[49m\u001b[38;5;124;43m\"\u001b[39;49m\u001b[38;5;124;43mcsc\u001b[39;49m\u001b[38;5;124;43m\"\u001b[39;49m\u001b[43m)\u001b[49m\u001b[43m,\u001b[49m\u001b[43m \u001b[49m\u001b[43mdtype\u001b[49m\u001b[38;5;241;43m=\u001b[39;49m\u001b[43m[\u001b[49m\u001b[43mnp\u001b[49m\u001b[38;5;241;43m.\u001b[39;49m\u001b[43mfloat64\u001b[49m\u001b[43m,\u001b[49m\u001b[43m \u001b[49m\u001b[43mnp\u001b[49m\u001b[38;5;241;43m.\u001b[39;49m\u001b[43mfloat32\u001b[49m\u001b[43m]\u001b[49m\n\u001b[0;32m   1563\u001b[0m \u001b[43m\u001b[49m\u001b[43m)\u001b[49m\n\u001b[0;32m   1565\u001b[0m \u001b[38;5;28;01mwith\u001b[39;00m config_context(assume_finite\u001b[38;5;241m=\u001b[39m\u001b[38;5;28;01mTrue\u001b[39;00m):\n\u001b[0;32m   1566\u001b[0m     W, H, n_iter \u001b[38;5;241m=\u001b[39m \u001b[38;5;28mself\u001b[39m\u001b[38;5;241m.\u001b[39m_fit_transform(X, W\u001b[38;5;241m=\u001b[39mW, H\u001b[38;5;241m=\u001b[39mH)\n",
      "File \u001b[1;32mc:\\Users\\Lenovo\\AppData\\Local\\Programs\\Python\\Python310\\lib\\site-packages\\sklearn\\base.py:565\u001b[0m, in \u001b[0;36mBaseEstimator._validate_data\u001b[1;34m(self, X, y, reset, validate_separately, **check_params)\u001b[0m\n\u001b[0;32m    563\u001b[0m     \u001b[38;5;28;01mraise\u001b[39;00m \u001b[38;5;167;01mValueError\u001b[39;00m(\u001b[38;5;124m\"\u001b[39m\u001b[38;5;124mValidation should be done on X, y or both.\u001b[39m\u001b[38;5;124m\"\u001b[39m)\n\u001b[0;32m    564\u001b[0m \u001b[38;5;28;01melif\u001b[39;00m \u001b[38;5;129;01mnot\u001b[39;00m no_val_X \u001b[38;5;129;01mand\u001b[39;00m no_val_y:\n\u001b[1;32m--> 565\u001b[0m     X \u001b[38;5;241m=\u001b[39m check_array(X, input_name\u001b[38;5;241m=\u001b[39m\u001b[38;5;124m\"\u001b[39m\u001b[38;5;124mX\u001b[39m\u001b[38;5;124m\"\u001b[39m, \u001b[38;5;241m*\u001b[39m\u001b[38;5;241m*\u001b[39mcheck_params)\n\u001b[0;32m    566\u001b[0m     out \u001b[38;5;241m=\u001b[39m X\n\u001b[0;32m    567\u001b[0m \u001b[38;5;28;01melif\u001b[39;00m no_val_X \u001b[38;5;129;01mand\u001b[39;00m \u001b[38;5;129;01mnot\u001b[39;00m no_val_y:\n",
      "File \u001b[1;32mc:\\Users\\Lenovo\\AppData\\Local\\Programs\\Python\\Python310\\lib\\site-packages\\sklearn\\utils\\validation.py:879\u001b[0m, in \u001b[0;36mcheck_array\u001b[1;34m(array, accept_sparse, accept_large_sparse, dtype, order, copy, force_all_finite, ensure_2d, allow_nd, ensure_min_samples, ensure_min_features, estimator, input_name)\u001b[0m\n\u001b[0;32m    877\u001b[0m         array \u001b[38;5;241m=\u001b[39m xp\u001b[38;5;241m.\u001b[39mastype(array, dtype, copy\u001b[38;5;241m=\u001b[39m\u001b[38;5;28;01mFalse\u001b[39;00m)\n\u001b[0;32m    878\u001b[0m     \u001b[38;5;28;01melse\u001b[39;00m:\n\u001b[1;32m--> 879\u001b[0m         array \u001b[38;5;241m=\u001b[39m \u001b[43m_asarray_with_order\u001b[49m\u001b[43m(\u001b[49m\u001b[43marray\u001b[49m\u001b[43m,\u001b[49m\u001b[43m \u001b[49m\u001b[43morder\u001b[49m\u001b[38;5;241;43m=\u001b[39;49m\u001b[43morder\u001b[49m\u001b[43m,\u001b[49m\u001b[43m \u001b[49m\u001b[43mdtype\u001b[49m\u001b[38;5;241;43m=\u001b[39;49m\u001b[43mdtype\u001b[49m\u001b[43m,\u001b[49m\u001b[43m \u001b[49m\u001b[43mxp\u001b[49m\u001b[38;5;241;43m=\u001b[39;49m\u001b[43mxp\u001b[49m\u001b[43m)\u001b[49m\n\u001b[0;32m    880\u001b[0m \u001b[38;5;28;01mexcept\u001b[39;00m ComplexWarning \u001b[38;5;28;01mas\u001b[39;00m complex_warning:\n\u001b[0;32m    881\u001b[0m     \u001b[38;5;28;01mraise\u001b[39;00m \u001b[38;5;167;01mValueError\u001b[39;00m(\n\u001b[0;32m    882\u001b[0m         \u001b[38;5;124m\"\u001b[39m\u001b[38;5;124mComplex data not supported\u001b[39m\u001b[38;5;130;01m\\n\u001b[39;00m\u001b[38;5;132;01m{}\u001b[39;00m\u001b[38;5;130;01m\\n\u001b[39;00m\u001b[38;5;124m\"\u001b[39m\u001b[38;5;241m.\u001b[39mformat(array)\n\u001b[0;32m    883\u001b[0m     ) \u001b[38;5;28;01mfrom\u001b[39;00m \u001b[38;5;21;01mcomplex_warning\u001b[39;00m\n",
      "File \u001b[1;32mc:\\Users\\Lenovo\\AppData\\Local\\Programs\\Python\\Python310\\lib\\site-packages\\sklearn\\utils\\_array_api.py:185\u001b[0m, in \u001b[0;36m_asarray_with_order\u001b[1;34m(array, dtype, order, copy, xp)\u001b[0m\n\u001b[0;32m    182\u001b[0m     xp, _ \u001b[38;5;241m=\u001b[39m get_namespace(array)\n\u001b[0;32m    183\u001b[0m \u001b[38;5;28;01mif\u001b[39;00m xp\u001b[38;5;241m.\u001b[39m\u001b[38;5;18m__name__\u001b[39m \u001b[38;5;129;01min\u001b[39;00m {\u001b[38;5;124m\"\u001b[39m\u001b[38;5;124mnumpy\u001b[39m\u001b[38;5;124m\"\u001b[39m, \u001b[38;5;124m\"\u001b[39m\u001b[38;5;124mnumpy.array_api\u001b[39m\u001b[38;5;124m\"\u001b[39m}:\n\u001b[0;32m    184\u001b[0m     \u001b[38;5;66;03m# Use NumPy API to support order\u001b[39;00m\n\u001b[1;32m--> 185\u001b[0m     array \u001b[38;5;241m=\u001b[39m \u001b[43mnumpy\u001b[49m\u001b[38;5;241;43m.\u001b[39;49m\u001b[43masarray\u001b[49m\u001b[43m(\u001b[49m\u001b[43marray\u001b[49m\u001b[43m,\u001b[49m\u001b[43m \u001b[49m\u001b[43morder\u001b[49m\u001b[38;5;241;43m=\u001b[39;49m\u001b[43morder\u001b[49m\u001b[43m,\u001b[49m\u001b[43m \u001b[49m\u001b[43mdtype\u001b[49m\u001b[38;5;241;43m=\u001b[39;49m\u001b[43mdtype\u001b[49m\u001b[43m)\u001b[49m\n\u001b[0;32m    186\u001b[0m     \u001b[38;5;28;01mreturn\u001b[39;00m xp\u001b[38;5;241m.\u001b[39masarray(array, copy\u001b[38;5;241m=\u001b[39mcopy)\n\u001b[0;32m    187\u001b[0m \u001b[38;5;28;01melse\u001b[39;00m:\n",
      "\u001b[1;31mValueError\u001b[0m: could not convert string to float: 'Backend'"
     ]
    }
   ],
   "source": [
    "import numpy as np\n",
    "from sklearn.feature_extraction.text import TfidfVectorizer\n",
    "from sklearn.ensemble import RandomForestClassifier\n",
    "from sklearn.decomposition import NMF\n",
    "from sklearn.metrics import accuracy_score, precision_score, recall_score, f1_score\n",
    "from sklearn.model_selection import train_test_split\n",
    "\n",
    "# Define a function to compute classification metrics\n",
    "def compute_metrics(y_true, y_pred):\n",
    "    accuracy = accuracy_score(y_true, y_pred)\n",
    "    precision = precision_score(y_true, y_pred, average='weighted')\n",
    "    recall = recall_score(y_true, y_pred, average='weighted')\n",
    "    f1 = f1_score(y_true, y_pred, average='weighted')\n",
    "    return accuracy, precision, recall, f1\n",
    "\n",
    "# Define the class name mapping\n",
    "class_name_mapping = {\n",
    "    0: 'Frontend',\n",
    "    1: 'Backend',\n",
    "    2: 'Security'\n",
    "}\n",
    "\n",
    "# Define the n-grams\n",
    "ngram_ranges = [(3,3), (3,4), (3,5), (3,6), (3,7), (3,8), (3,9), (3,10)]\n",
    "\n",
    "# Initialize lists to store data and labels\n",
    "X_data = filtered_train_df['bug_description']\n",
    "y_labels = filtered_train_df['class_name']\n",
    "\n",
    "# Initialize arrays to store augmented features\n",
    "X_train_augmented = None\n",
    "X_test_augmented = None\n",
    "\n",
    "# Loop over each n-gram range\n",
    "for ngram_range in ngram_ranges:\n",
    "    print(f\"Processing n-gram range: {ngram_range}\")\n",
    "    \n",
    "    # Initialize the TfidfVectorizer\n",
    "    vectorizer = TfidfVectorizer(ngram_range=ngram_range)\n",
    "    \n",
    "    # Vectorize the data\n",
    "    X = vectorizer.fit_transform(X_data)\n",
    "    \n",
    "    # Split the data into train and test sets\n",
    "    X_train, X_test, y_train, y_test = train_test_split(X, y_labels, test_size=0.8, random_state=42)\n",
    "    \n",
    "    # Train the supervised model (Random Forest) on labeled data\n",
    "    rf_model = RandomForestClassifier(n_estimators=100, random_state=42)\n",
    "    rf_model.fit(X_train, y_train)\n",
    "    \n",
    "    # Use the predictions from the supervised model as additional features for NMF\n",
    "    labeled_predictions_train = rf_model.predict(X_train)\n",
    "    labeled_predictions_test = rf_model.predict(X_test)\n",
    "    \n",
    "    if X_train_augmented is None:\n",
    "        X_train_augmented = labeled_predictions_train.reshape(-1, 1)\n",
    "        X_test_augmented = labeled_predictions_test.reshape(-1, 1)\n",
    "    else:\n",
    "        X_train_augmented = np.hstack((X_train_augmented, labeled_predictions_train.reshape(-1, 1)))\n",
    "        X_test_augmented = np.hstack((X_test_augmented, labeled_predictions_test.reshape(-1, 1)))\n",
    "\n",
    "# Train NMF on the augmented feature set\n",
    "nmf_model = NMF(n_components=3, random_state=42)\n",
    "nmf_model.fit(X_train_augmented)\n",
    "\n",
    "# Predictions using NMF\n",
    "test_predictions = nmf_model.transform(X_test_augmented)\n",
    "\n",
    "# Convert predictions to class names\n",
    "predicted_class_names = []\n",
    "for prediction in np.argmax(test_predictions, axis=1):\n",
    "    if prediction in class_name_mapping:\n",
    "        predicted_class_names.append(class_name_mapping[prediction])\n",
    "    else:\n",
    "        print(f\"Unexpected prediction: {prediction}\")\n",
    "        predicted_class_names.append('Unknown')\n",
    "\n",
    "# Compute metrics\n",
    "accuracy, precision, recall, f1 = compute_metrics(y_test, predicted_class_names)\n",
    "\n",
    "# Print metrics\n",
    "print(f\"Accuracy: {accuracy:.4f}\")\n",
    "print(f\"Precision: {precision:.4f}\")\n",
    "print(f\"Recall: {recall:.4f}\")\n",
    "print(f\"F1-score: {f1:.4f}\")\n"
   ]
  },
  {
   "cell_type": "code",
   "execution_count": null,
   "metadata": {},
   "outputs": [],
   "source": [
    "# Define all possible mappings\n",
    "cluster_class_mappings = {\n",
    "#    \"Mapping 1\": {0: 'Backend', 1: 'Frontend', 2: 'Security'},\n",
    "    \"Mapping 2\": {0: 'Frontend', 1: 'Backend', 2: 'Security'},\n",
    "#    \"Mapping 3\": {0: 'Security', 1: 'Frontend', 2: 'Backend'},\n",
    "#    \"Mapping 4\": {0: 'Backend', 1: 'Security', 2: 'Frontend'},\n",
    "#    \"Mapping 5\": {0: 'Frontend', 1: 'Security', 2: 'Backend'},\n",
    "#    \"Mapping 6\": {0: 'Security', 1: 'Backend', 2: 'Frontend'},\n",
    "}\n",
    "\n",
    "# Create a list of tuples containing the range of n-grams to consider\n",
    "ngram_ranges = [(i, j) for i in range(1, 16) for j in range(i, 16)]\n",
    "\n",
    "# Define the number of labeled examples\n",
    "labeled_data_size = 100  # Adjust as needed\n",
    "\n",
    "# Define a list of different numbers of components for ensemble models\n",
    "n_components_list = [2]  # Adjust as needed\n",
    "\n",
    "# Iterate over each n-gram range\n",
    "for ngram_range in ngram_ranges:\n",
    "    # Iterate over each number of components\n",
    "    for n_components in n_components_list:\n",
    "        print(f\"Processing ngram_range={ngram_range}, n_components={n_components}\")\n",
    "\n",
    "        # Split the data into labeled and unlabeled parts\n",
    "        labeled_data = filtered_train_df['bug_description'][:labeled_data_size]\n",
    "        labeled_labels = filtered_train_df['class_name'][:labeled_data_size]\n",
    "        test_data = filtered_test_df['bug_description']\n",
    "        test_labels = filtered_test_df['class_name']\n",
    "\n",
    "        # Usage example:\n",
    "        evaluate_cluster_mapping(labeled_data, labeled_labels, test_data, test_labels, cluster_class_mappings, n_components=n_components, ngram_range=ngram_range)\n",
    "        "
   ]
  },
  {
   "cell_type": "code",
   "execution_count": null,
   "metadata": {},
   "outputs": [],
   "source": []
  }
 ],
 "metadata": {
  "kernelspec": {
   "display_name": "Python 3",
   "language": "python",
   "name": "python3"
  },
  "language_info": {
   "codemirror_mode": {
    "name": "ipython",
    "version": 3
   },
   "file_extension": ".py",
   "mimetype": "text/x-python",
   "name": "python",
   "nbconvert_exporter": "python",
   "pygments_lexer": "ipython3",
   "version": "3.10.2"
  }
 },
 "nbformat": 4,
 "nbformat_minor": 2
}
