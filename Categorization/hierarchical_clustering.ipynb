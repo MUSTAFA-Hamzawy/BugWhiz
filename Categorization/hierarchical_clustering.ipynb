{
 "cells": [
  {
   "cell_type": "code",
   "execution_count": 1,
   "metadata": {},
   "outputs": [],
   "source": [
    "import pandas as pd\n",
    "import os\n",
    "import numpy as np\n",
    "import string\n",
    "import re\n",
    "from nltk.tokenize import word_tokenize\n",
    "from nltk.stem import WordNetLemmatizer"
   ]
  },
  {
   "cell_type": "code",
   "execution_count": 2,
   "metadata": {},
   "outputs": [],
   "source": [
    "# path of training data\n",
    "train_path = 'train.xlsx'\n",
    "\n",
    "# path of testing data\n",
    "test_path = 'test.xlsx'"
   ]
  },
  {
   "cell_type": "code",
   "execution_count": 3,
   "metadata": {},
   "outputs": [
    {
     "name": "stdout",
     "output_type": "stream",
     "text": [
      "                                              report class_name  class_index\n",
      "0  \"For any event on my bookmarked projects\" opti...    Backend            1\n",
      "1           Switch to using full l10n id's in urlbar   Frontend            2\n",
      "2  Consider removing hasicon property to simplify...   Frontend            2\n",
      "3  Method to obtain current URL from WebBrowserEd...   Frontend            2\n",
      "4              Fix: migration fails in MS SQL-Server    Backend            1\n",
      "                                              report class_name  class_index\n",
      "0  REST API - ability to list sub projects for a ...    Backend            1\n",
      "1  support selective text on right if set in GNOM...   Frontend            2\n",
      "2  [meta][userstory] Ship v1 of Pre-populated top...   Frontend            2\n",
      "3  Include updated_on and passwd_changed_on colum...    Backend            1\n",
      "4    Problem with email integration to MS Office 365    Backend            1\n"
     ]
    }
   ],
   "source": [
    "# show the first 5 rows of the training data\n",
    "train_df = pd.read_excel(train_path)\n",
    "print(train_df.head())\n",
    "\n",
    "# show the first 5 rows of the testing data\n",
    "test_df = pd.read_excel(test_path)\n",
    "print(test_df.head())"
   ]
  },
  {
   "cell_type": "code",
   "execution_count": 4,
   "metadata": {},
   "outputs": [],
   "source": [
    "def convert_lower_case(data):\n",
    "    return str(data).lower()"
   ]
  },
  {
   "cell_type": "code",
   "execution_count": 5,
   "metadata": {},
   "outputs": [],
   "source": [
    "def remove_punctuation(data):\n",
    "    symbols = \"!\\\"#$%&()*+-./:;<=>?@[\\]^_`{|}~\\n\"\n",
    "    for i in symbols:\n",
    "        data = np.char.replace(data, i, ' ')\n",
    "\n",
    "    return str(data)\n"
   ]
  },
  {
   "cell_type": "code",
   "execution_count": 6,
   "metadata": {},
   "outputs": [],
   "source": [
    "def remove_apostrophe(data):\n",
    "    return np.char.replace(data, \"'\", \"\")"
   ]
  },
  {
   "cell_type": "code",
   "execution_count": 7,
   "metadata": {},
   "outputs": [],
   "source": [
    "def remove_numbers(data):\n",
    "    return re.sub(r'\\d+', '', str(data))"
   ]
  },
  {
   "cell_type": "code",
   "execution_count": 8,
   "metadata": {},
   "outputs": [],
   "source": [
    "def remove_single_characters(tokens):\n",
    "    new_text = \"\"\n",
    "    for w in tokens:\n",
    "        if len(w) > 1:\n",
    "            new_text = new_text + \" \" + w\n",
    "    return new_text"
   ]
  },
  {
   "cell_type": "code",
   "execution_count": 9,
   "metadata": {},
   "outputs": [],
   "source": [
    "def lemmatization(data):\n",
    "    lemmatizer = WordNetLemmatizer()\n",
    "    tokens = word_tokenize(data)\n",
    "    data = remove_single_characters(tokens)\n",
    "    lemmatized_output = ' '.join([lemmatizer.lemmatize(word) for word in tokens])\n",
    "    return lemmatized_output"
   ]
  },
  {
   "cell_type": "code",
   "execution_count": 10,
   "metadata": {},
   "outputs": [],
   "source": [
    "def preprocess(data):\n",
    "    data = convert_lower_case(data)\n",
    "    data = remove_punctuation(data)\n",
    "    data = remove_apostrophe(data)\n",
    "    data = remove_numbers(data)\n",
    "    data = lemmatization(data)\n",
    "    return data"
   ]
  },
  {
   "cell_type": "code",
   "execution_count": 11,
   "metadata": {},
   "outputs": [
    {
     "name": "stdout",
     "output_type": "stream",
     "text": [
      "\"For any event on my bookmarked projects\" option not sending notifications for non-member bookmarked projects\n"
     ]
    }
   ],
   "source": [
    "# print the first report of the training data\n",
    "print(train_df['report'][0])\n"
   ]
  },
  {
   "cell_type": "code",
   "execution_count": 12,
   "metadata": {},
   "outputs": [
    {
     "name": "stdout",
     "output_type": "stream",
     "text": [
      "for any event on my bookmarked project option not sending notification for non member bookmarked project\n"
     ]
    }
   ],
   "source": [
    "# preprocess the first report of the training data\n",
    "print(preprocess(train_df['report'][0]))\n"
   ]
  },
  {
   "cell_type": "code",
   "execution_count": 14,
   "metadata": {},
   "outputs": [
    {
     "name": "stdout",
     "output_type": "stream",
     "text": [
      "\"For any event on my bookmarked projects\" option not sending notifications for non-member bookmarked projects\n"
     ]
    }
   ],
   "source": [
    "import pandas as pd\n",
    "\n",
    "# Assuming train_df is your DataFrame containing training data\n",
    "# Assuming train_df has columns 'id', 'report', and 'class_name'\n",
    "\n",
    "# Initialize counter\n",
    "counter = 1\n",
    "\n",
    "# Iterate over each row in the DataFrame\n",
    "with open('preprocessed_train_data.csv', 'w', encoding='utf-8') as f:\n",
    "    f.write('bug_description , class_name\\n')  # Write header\n",
    "\n",
    "    for _, row in train_df.iterrows():\n",
    "        # Preprocess the 'report' column\n",
    "        preprocessed_report = preprocess(row['report'])\n",
    "\n",
    "        # Write data to the file with incremented counter\n",
    "        f.write(f\"{preprocessed_report},{row['class_name']}\\n\")\n",
    "\n",
    "# Print the first preprocessed report\n",
    "print(train_df['report'][0])\n"
   ]
  },
  {
   "cell_type": "code",
   "execution_count": 15,
   "metadata": {},
   "outputs": [
    {
     "name": "stdout",
     "output_type": "stream",
     "text": [
      "REST API - ability to list sub projects for a project\n"
     ]
    }
   ],
   "source": [
    "# FOR TESTING DATA\n",
    "\n",
    "# Iterate over each row in the DataFrame\n",
    "with open('preprocessed_test_data.csv', 'w', encoding='utf-8') as f:\n",
    "    f.write('bug_description , class_name\\n')  # Write header\n",
    "\n",
    "    for _, row in test_df.iterrows():\n",
    "        # Preprocess the 'report' column\n",
    "        preprocessed_report = preprocess(row['report'])\n",
    "\n",
    "        # Write data to the file with incremented counter\n",
    "        f.write(f\"{preprocessed_report},{row['class_name']}\\n\")\n",
    "\n",
    "# Print the first preprocessed report\n",
    "print(test_df['report'][0])\n"
   ]
  },
  {
   "cell_type": "code",
   "execution_count": 16,
   "metadata": {},
   "outputs": [],
   "source": [
    "# Open the preprocessed data file for reading\n",
    "with open('preprocessed_train_data.csv', 'r', encoding='utf-8') as f:\n",
    "    # Open the new file for writing preprocessed data with 2 columns\n",
    "    with open('preprocessed_train_data2.csv', 'w', encoding='utf-8') as f_out:\n",
    "        # Iterate over each line in the file\n",
    "        for i, line in enumerate(f):\n",
    "            # Skip the header\n",
    "            if i == 0:\n",
    "                continue\n",
    "            \n",
    "            # Split the line into columns based on comma delimiter\n",
    "            columns = line.strip().split(',')\n",
    "            \n",
    "            # Check the number of columns\n",
    "            if len(columns) == 2:\n",
    "                # Get the preprocessed report and class name\n",
    "                preprocessed_report = columns[0]\n",
    "                class_name = columns[1]\n",
    "                \n",
    "                # Write the preprocessed report and class name to the new file\n",
    "                f_out.write(f\"{preprocessed_report},{class_name}\\n\")\n",
    "            else:\n",
    "                # Skip the line if it doesn't have exactly 2 columns\n",
    "                continue\n"
   ]
  },
  {
   "cell_type": "code",
   "execution_count": 17,
   "metadata": {},
   "outputs": [],
   "source": [
    "# FOR TESTING DATA\n",
    "\n",
    "# Open the preprocessed data file for reading\n",
    "with open('preprocessed_test_data.csv', 'r', encoding='utf-8') as f:\n",
    "    # Open the new file for writing preprocessed data with 2 columns\n",
    "    with open('preprocessed_test_data2.csv', 'w', encoding='utf-8') as f_out:\n",
    "        # Iterate over each line in the file\n",
    "        for i, line in enumerate(f):\n",
    "            # Skip the header\n",
    "            if i == 0:\n",
    "                continue\n",
    "            \n",
    "            # Split the line into columns based on comma delimiter\n",
    "            columns = line.strip().split(',')\n",
    "            \n",
    "            # Check the number of columns\n",
    "            if len(columns) == 2:\n",
    "                # Get the preprocessed report and class name\n",
    "                preprocessed_report = columns[0]\n",
    "                class_name = columns[1]\n",
    "                \n",
    "                # Write the preprocessed report and class name to the new file\n",
    "                f_out.write(f\"{preprocessed_report},{class_name}\\n\")\n",
    "            else:\n",
    "                # Skip the line if it doesn't have exactly 2 columns\n",
    "                continue\n"
   ]
  },
  {
   "cell_type": "code",
   "execution_count": 13,
   "metadata": {},
   "outputs": [
    {
     "name": "stdout",
     "output_type": "stream",
     "text": [
      "                                     bug_description class_name\n",
      "0  for any event on my bookmarked project option ...    Backend\n",
      "1               switch to using full ln id in urlbar   Frontend\n",
      "2  consider removing hasicon property to simplify...   Frontend\n",
      "3  method to obtain current url from webbrowsered...   Frontend\n",
      "4                fix migration fails in m sql server    Backend\n"
     ]
    }
   ],
   "source": [
    "# read the preprocessed data from the new file\n",
    "preprocessed_train_df = pd.read_csv('preprocessed_train_data2.csv')\n",
    "\n",
    "# show the first 5 rows of the preprocessed training data\n",
    "print(preprocessed_train_df.head())"
   ]
  },
  {
   "cell_type": "code",
   "execution_count": 14,
   "metadata": {},
   "outputs": [
    {
     "name": "stdout",
     "output_type": "stream",
     "text": [
      "                                     bug_description class_name\n",
      "0  rest api ability to list sub project for a pro...    Backend\n",
      "1  support selective text on right if set in gnom...   Frontend\n",
      "2  meta userstory ship v of pre populated topsite...   Frontend\n",
      "3  include updated on and passwd changed on colum...    Backend\n",
      "4         problem with email integration to m office    Backend\n"
     ]
    }
   ],
   "source": [
    "# read the preprocessed data from the new file\n",
    "preprocessed_test_df = pd.read_csv('preprocessed_test_data2.csv')\n",
    "\n",
    "# show the first 5 rows of the preprocessed training data\n",
    "print(preprocessed_test_df.head())"
   ]
  },
  {
   "cell_type": "markdown",
   "metadata": {},
   "source": [
    "## Feature Exraction"
   ]
  },
  {
   "cell_type": "code",
   "execution_count": 15,
   "metadata": {},
   "outputs": [
    {
     "name": "stdout",
     "output_type": "stream",
     "text": [
      "(13866, 7663)\n"
     ]
    }
   ],
   "source": [
    "from sklearn.feature_extraction.text import TfidfVectorizer\n",
    "\n",
    "# Replace NaN values with an empty string\n",
    "preprocessed_train_df['bug_description'].fillna('', inplace=True)\n",
    "\n",
    "# Initialize the TfidfVectorizer\n",
    "vectorizer = TfidfVectorizer()\n",
    "\n",
    "# Fit and transform the preprocessed data\n",
    "X_train = vectorizer.fit_transform(preprocessed_train_df['bug_description'])\n",
    "\n",
    "# Print the shape of the transformed data\n",
    "print(X_train.shape)\n"
   ]
  },
  {
   "cell_type": "code",
   "execution_count": 16,
   "metadata": {},
   "outputs": [
    {
     "name": "stdout",
     "output_type": "stream",
     "text": [
      "  (0, 3991)\t0.2538660078657135\n",
      "  (0, 4326)\t0.22188781122260037\n",
      "  (0, 4360)\t0.16200943672815057\n",
      "  (0, 5895)\t0.26840990743892756\n",
      "  (0, 4344)\t0.12359962887671232\n",
      "  (0, 4562)\t0.18653498271477986\n",
      "  (0, 5086)\t0.3360730020928219\n",
      "  (0, 692)\t0.6032988290912195\n",
      "  (0, 4234)\t0.2431528345726809\n",
      "  (0, 4482)\t0.13533242661691539\n",
      "  (0, 2189)\t0.24482610182777964\n",
      "  (0, 299)\t0.25719129168101634\n",
      "  (0, 2527)\t0.2398225552777558\n"
     ]
    }
   ],
   "source": [
    "# print the vector representation of the first report\n",
    "print(X_train[0])"
   ]
  },
  {
   "cell_type": "code",
   "execution_count": 17,
   "metadata": {},
   "outputs": [
    {
     "name": "stdout",
     "output_type": "stream",
     "text": [
      "5\n",
      "['Backend' 'Frontend' 'Security' 'Documentation' 'Performance']\n",
      "Backend          7437\n",
      "Frontend         5799\n",
      "Security          367\n",
      "Documentation     174\n",
      "Performance        89\n",
      "Name: class_name, dtype: int64\n"
     ]
    }
   ],
   "source": [
    "# Print the number of unique class_name in the training data\n",
    "print(preprocessed_train_df['class_name'].nunique())\n",
    "\n",
    "# print their unique values\n",
    "print(preprocessed_train_df['class_name'].unique())\n",
    "\n",
    "# print the number of reports in each class\n",
    "print(preprocessed_train_df['class_name'].value_counts())\n",
    "\n"
   ]
  },
  {
   "cell_type": "code",
   "execution_count": 20,
   "metadata": {},
   "outputs": [
    {
     "name": "stdout",
     "output_type": "stream",
     "text": [
      "[3 0 0 ... 0 0 0]\n",
      "0    10188\n",
      "3     2723\n",
      "2      489\n",
      "1      327\n",
      "4      139\n",
      "dtype: int64\n",
      "[3 0 0 0 3]\n"
     ]
    }
   ],
   "source": [
    "# let's try hierarchical clustering\n",
    "from sklearn.cluster import AgglomerativeClustering\n",
    "\n",
    "# Initialize the AgglomerativeClustering\n",
    "agg_clustering = AgglomerativeClustering(n_clusters=5)\n",
    "\n",
    "# Fit the model\n",
    "clusters = agg_clustering.fit_predict(X_train.toarray())\n",
    "\n",
    "# Print the cluster labels\n",
    "print(clusters)\n",
    "\n",
    "# Print the number of reports in each cluster\n",
    "print(pd.Series(clusters).value_counts())\n",
    "\n"
   ]
  },
  {
   "cell_type": "code",
   "execution_count": 25,
   "metadata": {},
   "outputs": [
    {
     "name": "stdout",
     "output_type": "stream",
     "text": [
      "class_name\n",
      "Backend          7437\n",
      "Documentation     174\n",
      "Frontend         5799\n",
      "Performance        89\n",
      "Security          367\n",
      "dtype: int64\n"
     ]
    }
   ],
   "source": [
    "# print the number of reports that belong to each class based on class_name\n",
    "print(preprocessed_train_df.groupby('class_name').size())\n"
   ]
  },
  {
   "cell_type": "code",
   "execution_count": 26,
   "metadata": {},
   "outputs": [],
   "source": [
    "# Create a mapping between cluster labels and class names\n",
    "cluster_class_mapping = {\n",
    "    0: 'Backend',  # Example mapping, adjust based on your actual clusters\n",
    "    3: 'Frontend',\n",
    "    2: 'Security',\n",
    "    1: 'Documentation',\n",
    "    4: 'Performance'\n",
    "}\n"
   ]
  },
  {
   "cell_type": "code",
   "execution_count": 27,
   "metadata": {},
   "outputs": [
    {
     "name": "stdout",
     "output_type": "stream",
     "text": [
      "Confusion Matrix:\n",
      "[[4029  327 2469  132  480]\n",
      " [ 143    0   28    2    1]\n",
      " [5584    0  205    3    7]\n",
      " [  73    0   13    2    1]\n",
      " [ 359    0    8    0    0]]\n",
      "Accuracy: 0.30549545651233234\n",
      "Precision: 0.24368463378857327\n",
      "Recall: 0.30549545651233234\n",
      "F1 Score: 0.26544705592175916\n"
     ]
    }
   ],
   "source": [
    "from sklearn.metrics import confusion_matrix, accuracy_score, precision_score, recall_score, f1_score\n",
    "\n",
    "# Map numerical indices to class names\n",
    "predicted_class_names = [cluster_class_mapping[label] for label in clusters]\n",
    "\n",
    "# Print the confusion matrix\n",
    "print(\"Confusion Matrix:\")\n",
    "print(confusion_matrix(preprocessed_train_df['class_name'], predicted_class_names))\n",
    "\n",
    "# Print the accuracy\n",
    "accuracy = accuracy_score(preprocessed_train_df['class_name'], predicted_class_names)\n",
    "print(\"Accuracy:\", accuracy)\n",
    "\n",
    "# Print the precision\n",
    "precision = precision_score(preprocessed_train_df['class_name'], predicted_class_names, average='weighted')\n",
    "print(\"Precision:\", precision)\n",
    "\n",
    "# Print the recall\n",
    "recall = recall_score(preprocessed_train_df['class_name'], predicted_class_names, average='weighted')\n",
    "print(\"Recall:\", recall)\n",
    "\n",
    "# Print the F1 score\n",
    "f1 = f1_score(preprocessed_train_df['class_name'], predicted_class_names, average='weighted')\n",
    "print(\"F1 Score:\", f1)\n"
   ]
  },
  {
   "cell_type": "code",
   "execution_count": null,
   "metadata": {},
   "outputs": [],
   "source": []
  }
 ],
 "metadata": {
  "kernelspec": {
   "display_name": "Python 3",
   "language": "python",
   "name": "python3"
  },
  "language_info": {
   "codemirror_mode": {
    "name": "ipython",
    "version": 3
   },
   "file_extension": ".py",
   "mimetype": "text/x-python",
   "name": "python",
   "nbconvert_exporter": "python",
   "pygments_lexer": "ipython3",
   "version": "3.10.2"
  }
 },
 "nbformat": 4,
 "nbformat_minor": 2
}
