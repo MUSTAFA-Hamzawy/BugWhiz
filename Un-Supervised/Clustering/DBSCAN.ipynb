{
  "nbformat": 4,
  "nbformat_minor": 0,
  "metadata": {
    "colab": {
      "provenance": []
    },
    "kernelspec": {
      "name": "python3",
      "display_name": "Python 3"
    },
    "language_info": {
      "name": "python"
    }
  },
  "cells": [
    {
      "cell_type": "code",
      "execution_count": 1,
      "metadata": {
        "id": "MY79wHSZv3mS"
      },
      "outputs": [],
      "source": [
        "import pandas as pd\n",
        "import nltk\n",
        "from nltk.corpus import stopwords\n",
        "from nltk.tokenize import word_tokenize\n",
        "from sklearn.feature_extraction.text import TfidfVectorizer\n",
        "from sklearn.feature_extraction.text import ENGLISH_STOP_WORDS\n",
        "from sklearn.decomposition import TruncatedSVD\n",
        "from gensim.models import Word2Vec\n",
        "import numpy as np"
      ]
    },
    {
      "cell_type": "code",
      "source": [
        "# Download NLTK resources\n",
        "nltk.download('punkt')\n",
        "nltk.download('stopwords')"
      ],
      "metadata": {
        "colab": {
          "base_uri": "https://localhost:8080/"
        },
        "id": "7CFExmf40fV3",
        "outputId": "589f471a-e938-4672-bd66-e8a5121e3c70"
      },
      "execution_count": 2,
      "outputs": [
        {
          "output_type": "stream",
          "name": "stderr",
          "text": [
            "[nltk_data] Downloading package punkt to /root/nltk_data...\n",
            "[nltk_data]   Unzipping tokenizers/punkt.zip.\n",
            "[nltk_data] Downloading package stopwords to /root/nltk_data...\n",
            "[nltk_data]   Unzipping corpora/stopwords.zip.\n"
          ]
        },
        {
          "output_type": "execute_result",
          "data": {
            "text/plain": [
              "True"
            ]
          },
          "metadata": {},
          "execution_count": 2
        }
      ]
    },
    {
      "cell_type": "code",
      "source": [
        "# Load the bug reports dataset\n",
        "data = pd.read_excel(\"train.xlsx\")\n",
        "bug_reports = data['report']\n",
        "\n",
        "# Tokenize bug reports and remove empty strings or tokens consisting only of spaces\n",
        "stop_words = set(stopwords.words('english'))\n",
        "tokenized_bug_reports = [[word.lower() for word in word_tokenize(report) if word.strip() and word.strip() not in stop_words] for report in bug_reports]\n",
        "\n",
        "# Train Word2Vec model\n",
        "word2vec_model = Word2Vec(sentences=tokenized_bug_reports, vector_size=100, window=5, min_count=1, sg=1)\n",
        "\n",
        "\n",
        "\n"
      ],
      "metadata": {
        "id": "rdlenX17v4qO"
      },
      "execution_count": 3,
      "outputs": []
    },
    {
      "cell_type": "code",
      "source": [
        "# Train Word2Vec model\n",
        "word2vec_model = Word2Vec(sentences=tokenized_bug_reports, vector_size=100, window=5, min_count=1, sg=1)"
      ],
      "metadata": {
        "id": "LU1z817o2DX2"
      },
      "execution_count": 4,
      "outputs": []
    },
    {
      "cell_type": "code",
      "source": [
        "tokenized_bug_reports[:3]\n"
      ],
      "metadata": {
        "colab": {
          "base_uri": "https://localhost:8080/"
        },
        "id": "yg2xazmY1Qdd",
        "outputId": "a53a0b9b-39ac-407b-d6a1-f03f41741a61"
      },
      "execution_count": 5,
      "outputs": [
        {
          "output_type": "execute_result",
          "data": {
            "text/plain": [
              "[['``',\n",
              "  'for',\n",
              "  'event',\n",
              "  'bookmarked',\n",
              "  'projects',\n",
              "  \"''\",\n",
              "  'option',\n",
              "  'sending',\n",
              "  'notifications',\n",
              "  'non-member',\n",
              "  'bookmarked',\n",
              "  'projects'],\n",
              " ['switch', 'using', 'full', 'l10n', 'id', \"'s\", 'urlbar'],\n",
              " ['consider', 'removing', 'hasicon', 'property', 'simplify', 'styling']]"
            ]
          },
          "metadata": {},
          "execution_count": 5
        }
      ]
    },
    {
      "cell_type": "code",
      "source": [
        "# Save or load Word2Vec model (optional)\n",
        "# word2vec_model.save(\"word2vec_model.bin\")\n",
        "# word2vec_model = Word2Vec.load(\"word2vec_model.bin\")"
      ],
      "metadata": {
        "id": "qEY84Lnj00BG"
      },
      "execution_count": 6,
      "outputs": []
    },
    {
      "cell_type": "code",
      "source": [
        "# Get the word vectors for a specific word\n",
        "test_word = \"email\"\n",
        "word_vector = word2vec_model.wv[test_word]\n",
        "\n",
        "# Print similar words to a given word\n",
        "similar_words = word2vec_model.wv.most_similar(test_word)\n",
        "\n",
        "print(similar_words)"
      ],
      "metadata": {
        "colab": {
          "base_uri": "https://localhost:8080/"
        },
        "id": "UTRftqMc00dO",
        "outputId": "bde28c4a-687d-4bfd-c708-8b8eee185866"
      },
      "execution_count": 7,
      "outputs": [
        {
          "output_type": "stream",
          "name": "stdout",
          "text": [
            "[('mails', 0.9055989384651184), ('security', 0.9007429480552673), ('e-mail', 0.8876593112945557), ('sending', 0.8875666856765747), ('send', 0.8861684799194336), ('asynchronously', 0.8857014775276184), ('blockquote', 0.8837966918945312), ('ignoring', 0.8833033442497253), ('header', 0.877933144569397), ('individual', 0.8761353492736816)]\n"
          ]
        }
      ]
    },
    {
      "cell_type": "code",
      "source": [
        "# Print the word embeddings\n",
        "print(\"Word Embeddings:\")\n",
        "for word in word2vec_model.wv.index_to_key[:10]:\n",
        "    print(f\"{word}: {word2vec_model.wv[word]}\")"
      ],
      "metadata": {
        "colab": {
          "base_uri": "https://localhost:8080/"
        },
        "id": "gjtHi1ozy1--",
        "outputId": "b94078b8-470b-40cb-d020-1ef71732e852"
      },
      "execution_count": 8,
      "outputs": [
        {
          "output_type": "stream",
          "name": "stdout",
          "text": [
            "Word Embeddings:\n",
            "]: [-0.6069968   0.6593733   0.1057519   0.155515   -0.41801435 -0.5526118\n",
            "  0.4756012   0.9945174  -0.20996909 -0.28483334  0.17468975 -0.21350573\n",
            " -0.17153755  0.45131359 -0.49547213 -0.3014303   0.2517686  -0.008357\n",
            " -0.6319362  -1.1900132   0.21800332  0.14718239  0.3597893  -0.10520825\n",
            "  0.20818785 -0.13928896 -0.30934566  0.1969882  -0.7976388  -0.25176725\n",
            " -0.2732775   0.00651973  0.4464566  -0.5881717   0.16643874  0.34214857\n",
            "  0.6189686  -0.51532155 -0.17159186 -0.40491366 -0.23962332  0.31840104\n",
            " -0.57413596 -0.1223287   0.25037622  0.04498958 -0.06790755  0.51227576\n",
            "  0.1359615   0.4731313   0.03501588  0.02872819 -0.16662107  0.04303793\n",
            "  0.27005756 -0.20261165  0.3533382  -0.41722652 -0.52050394  0.4203389\n",
            " -0.18876821 -0.20583105 -0.7481502  -0.31711552 -0.26687264  0.39894682\n",
            " -0.13405012  0.17222603 -0.21303271  0.30206847 -0.29327562  0.24214123\n",
            "  0.04029576 -0.39173934  0.1703357   0.05850625  0.14709118  0.08342044\n",
            " -0.04807295  0.14614724 -0.15254082  0.42047107  0.12700696  0.34247494\n",
            " -0.33346292  0.21167763 -0.01997546 -0.15903954  0.10611005  0.37250778\n",
            "  0.3764165   0.12876298  0.45795664  0.00943985  0.58085895  0.01544126\n",
            " -0.2543177  -0.5573     -0.38480315  0.34810024]\n",
            "[: [-0.8377506   0.599738    0.09045728  0.3015234  -0.32972878 -0.5872879\n",
            "  0.3479941   1.043565   -0.06622478 -0.38822103  0.16873345 -0.4704161\n",
            " -0.3092953   0.3940789  -0.46175224 -0.0268726   0.25960535  0.07113027\n",
            " -0.57843864 -1.1229837   0.17437543  0.253276    0.48599824 -0.4711367\n",
            "  0.1995581  -0.02996728 -0.35920173  0.02950309 -0.7522513   0.16029263\n",
            "  0.23821649 -0.05570438  0.53718257 -0.6315302   0.15933631  0.4836649\n",
            "  0.39652315 -0.4358239   0.03160068 -0.32852536  0.05064593  0.06273349\n",
            " -0.942154   -0.1766614   0.33720595 -0.12232731 -0.10706501  0.38786045\n",
            "  0.03976309  0.5530328   0.28491378 -0.07140961 -0.17797972  0.21464662\n",
            "  0.13713029  0.14473315  0.64048856 -0.11649234 -0.36987698  0.5885908\n",
            " -0.23204099 -0.16450003 -0.92375886 -0.4718285  -0.34213337  0.14927734\n",
            " -0.05568228 -0.01301806 -0.01998688  0.47840282 -0.35356793  0.03251037\n",
            "  0.13981973 -0.15126248  0.11329805 -0.11030727 -0.01765353 -0.1532923\n",
            " -0.05662798  0.12562343 -0.13782734  0.49723315  0.07159425  0.07613114\n",
            " -0.26636058  0.21764821 -0.21291587 -0.489333    0.36102158  0.31229717\n",
            "  0.32796958  0.01943573  0.2599955  -0.48064187  0.3354091   0.29187763\n",
            "  0.04293805 -0.5526141  -0.40316126  0.31432727]\n",
            "'': [-0.16129299  0.3427198  -0.05647679 -0.30311954  0.06619319 -0.13483487\n",
            "  0.2694006   0.68718696 -0.04058843 -0.2831909   0.07615886 -0.36019716\n",
            "  0.30073532 -0.08750135  0.3566912  -0.33882615  0.1721431  -0.12134822\n",
            "  0.08306199 -0.51850474 -0.00897147 -0.3399007   0.12723309 -0.52747464\n",
            " -0.18433009  0.21061872 -0.11759022  0.06950185 -0.05753667  0.01239227\n",
            "  0.07838882 -0.03917838 -0.15964302 -0.5658304   0.07607391  0.473774\n",
            "  0.08156997  0.10149384 -0.17269173 -0.22768612 -0.10350164 -0.12065248\n",
            " -0.00290799  0.01899667  0.5839514  -0.15573129  0.01126259 -0.25029483\n",
            "  0.2645741   0.01826574  0.3870274  -0.00147455 -0.09146409 -0.2853965\n",
            " -0.55195934  0.32171988  0.134643    0.00412358 -0.31253788 -0.07975983\n",
            "  0.21230143 -0.18155329  0.46185526 -0.0710392  -0.14484538  0.503413\n",
            " -0.13620615  0.7061611  -0.6071579   0.24238132  0.07663907  0.1183153\n",
            "  0.27721503  0.16973254  0.11882005  0.34956706 -0.04944893 -0.00926757\n",
            " -0.2249246   0.191906   -0.30396095 -0.17310329 -0.5527646   0.22904809\n",
            " -0.20344897 -0.2920373   0.04666317  0.11573268  0.5886964   0.01416609\n",
            "  0.18736362  0.27129453  0.30702803 -0.08521819  0.7231779   0.2940276\n",
            "  0.32947826 -0.05120393  0.29013535 -0.22773588]\n",
            "``: [-0.4813807   0.3960214   0.1783545  -0.24004102  0.15136506 -0.26230898\n",
            "  0.1886513   0.754909    0.05858824 -0.41131797  0.30773804 -0.34207526\n",
            "  0.12306669 -0.37269253  0.36253655 -0.43692425  0.21171924 -0.21375509\n",
            " -0.23152457 -0.5325502   0.11982977 -0.1434471   0.32111868 -0.09151403\n",
            " -0.5789843   0.1580652  -0.11657356  0.19509088  0.11591461  0.07016858\n",
            " -0.0831361   0.01821528 -0.17048661 -0.5750122   0.1241307   0.45876876\n",
            "  0.22348961 -0.20772801 -0.27254388 -0.1868502   0.0830784  -0.12883407\n",
            "  0.11007651  0.20870927  0.6698889  -0.2870778   0.00681563 -0.26167396\n",
            "  0.09362187  0.24122119  0.47095624 -0.08618816 -0.02294432 -0.42324007\n",
            " -0.3769531   0.34480545  0.17096761  0.16861434  0.02443     0.03455129\n",
            " -0.06431995 -0.07489477  0.48609447 -0.06792297 -0.02211653  0.2276166\n",
            "  0.05471998  0.8255206  -0.34368747  0.09415002  0.08179884 -0.03057844\n",
            "  0.31145063  0.36729494  0.1855289   0.10346798 -0.11157703  0.15733579\n",
            " -0.12524685  0.20518693 -0.4122734   0.09522068 -0.22305787  0.3085129\n",
            " -0.3415848  -0.14071785  0.2052112   0.19665629  0.26600343 -0.2987097\n",
            "  0.13068761  0.11453988  0.26256657  0.01513814  0.82773584  0.17625435\n",
            "  0.37756535 -0.3542519   0.04902868 -0.22844912]\n",
            ":: [-0.31308612  0.13211478 -0.02312322  0.09981473  0.16321985 -0.34444225\n",
            "  0.14994165  0.692659   -0.259943   -0.05964762 -0.13610135 -0.30598423\n",
            " -0.13470797  0.1065475   0.06045185 -0.3894859   0.04916227  0.05791325\n",
            " -0.24598432 -0.52874833 -0.10650043 -0.43300906  0.19351858  0.11765479\n",
            " -0.24291371  0.1544399  -0.2629802  -0.08797063 -0.13990258 -0.08718926\n",
            "  0.17296258 -0.15189804  0.06836438 -0.6270589   0.05781455  0.21275721\n",
            "  0.01949147  0.17314358  0.1678321  -0.28253523 -0.02111294 -0.13134453\n",
            " -0.23384294  0.20569676  0.4289268  -0.239706   -0.33510172 -0.12514457\n",
            "  0.41788355  0.13639179  0.27349448 -0.4154069   0.24686809 -0.23288624\n",
            " -0.05402891 -0.01610363  0.07833959 -0.09309866  0.20529255 -0.06560793\n",
            "  0.04658304 -0.20451584  0.03272317  0.03451923 -0.24829696  0.24774753\n",
            "  0.09832545  0.5813718  -0.16936173  0.7842144   0.06897495  0.12554812\n",
            "  0.3667535   0.15283969  0.29766586  0.21452853 -0.02467542  0.01356616\n",
            " -0.16919087 -0.38458407 -0.40963885 -0.42419136  0.03579702  0.34826186\n",
            " -0.21658622 -0.20174445  0.38387114 -0.14788197  0.0519022   0.04802421\n",
            "  0.5498492  -0.0405788   0.08852941 -0.2312279   0.710058    0.22882563\n",
            "  0.24761075 -0.12654215  0.36750168 -0.22123954]\n",
            "(: [ 0.04019622 -0.10814451 -0.07805982 -0.26253763 -0.2308211  -0.33186382\n",
            "  0.23257102  0.6849495  -0.17181559 -0.16974796 -0.19602539 -0.51675016\n",
            " -0.02728483  0.0525629   0.1978891  -0.15360528  0.19392473 -0.09601575\n",
            "  0.23513857 -0.28903797 -0.22074357  0.00628849  0.3226505   0.05173929\n",
            "  0.059268   -0.13643377 -0.26063752 -0.27902305  0.15952995  0.0442712\n",
            "  0.16642085 -0.2741694   0.00609488 -0.6088279   0.1718345   0.44705078\n",
            "  0.22131936 -0.03796741  0.10730587 -0.4608266   0.18361324 -0.23907718\n",
            " -0.26481122 -0.04025653  0.19388069 -0.04284321 -0.54026717  0.16233942\n",
            "  0.26348886 -0.00485054  0.04871768 -0.44590023  0.12981659  0.18974017\n",
            " -0.38972774  0.14639497  0.6879116  -0.25023177  0.06145604 -0.1839602\n",
            "  0.38019234 -0.00164194  0.56866914 -0.10927674 -0.10580659  0.26154503\n",
            " -0.1873293   0.25257203 -0.7395671  -0.10584644 -0.06979652  0.10489461\n",
            "  0.35703665  0.27287057  0.55742395  0.1649602  -0.23459609  0.12225472\n",
            " -0.16026112  0.17727722  0.0650396  -0.33298227  0.13064764  0.09836102\n",
            " -0.199108   -0.24923182  0.06178192  0.29170388  0.05521714 -0.08997947\n",
            "  0.40989748  0.31729913 -0.24097449  0.25338614  0.6433897   0.30933806\n",
            " -0.0254601  -0.43502325 -0.01677592 -0.23330434]\n",
            "): [ 0.12350213 -0.11813165  0.10081634 -0.16996399 -0.1987722  -0.4201118\n",
            "  0.43941116  0.66859007 -0.14923885 -0.29038143 -0.06527926 -0.38229924\n",
            "  0.0387899   0.2203316  -0.02897309  0.02028803  0.41661605  0.20803794\n",
            "  0.37793303 -0.52510506 -0.08997643 -0.16637965  0.39749244 -0.1080495\n",
            "  0.2518132  -0.08392787 -0.3310501  -0.06986251  0.11516272 -0.09575176\n",
            "  0.29877487  0.27181536  0.04188038 -0.38956666 -0.07043672  0.39219618\n",
            "  0.00202839 -0.30903125 -0.025097   -0.640534    0.22117597 -0.43336928\n",
            "  0.18236725 -0.19766249  0.19370629  0.14022158 -0.59563345 -0.13498336\n",
            "  0.09807252 -0.23650953  0.10545816 -0.367455   -0.13025665  0.0666137\n",
            " -0.27733764  0.02513084  0.19136535 -0.4922331  -0.04348141 -0.11011221\n",
            "  0.18970576  0.22841576  0.37277275  0.09252975 -0.27898532  0.31104487\n",
            " -0.2596226   0.17186046 -0.755067   -0.04170435 -0.07191518  0.02327649\n",
            "  0.10708278  0.3051993   0.7887231  -0.08710455 -0.00289818  0.1455753\n",
            " -0.19119047  0.2326647   0.15686    -0.06910685 -0.20878495  0.38490972\n",
            " -0.343686   -0.3951275   0.50494707  0.13883096 -0.05419124 -0.17385678\n",
            "  0.2926103   0.16493055  0.12061234  0.11882875  0.58561283  0.29104227\n",
            "  0.28722402 -0.3319711  -0.09561588 -0.05391637]\n",
            ",: [-0.05202586  0.01646783  0.20798929 -0.21414435 -0.09305771 -0.3234037\n",
            "  0.11657048  0.434843   -0.07871895 -0.10140342 -0.12780164 -0.33053654\n",
            "  0.18877046 -0.19973493  0.25101978  0.0286963   0.20854957 -0.33410284\n",
            "  0.13655128 -0.32455438  0.17806382  0.25977933  0.01149303 -0.3905192\n",
            " -0.07504375  0.02756193 -0.33438855 -0.07263496 -0.0691012  -0.06194402\n",
            "  0.05456273  0.11763898 -0.08316422 -0.3066966  -0.1374779   0.23324288\n",
            " -0.08795439 -0.19047756 -0.04485365 -0.548449    0.05696033 -0.34579593\n",
            "  0.3683895  -0.04088804  0.45804864 -0.35153502 -0.5585821  -0.08804372\n",
            "  0.0987729   0.11622985 -0.10389224 -0.18173973  0.15964645 -0.1771649\n",
            " -0.22510977  0.0666966   0.46399838  0.03539768  0.06528541  0.01547232\n",
            "  0.2968513  -0.17279403  0.25210875  0.09801167 -0.18061166  0.22789842\n",
            " -0.16092691  0.29366148 -0.5923764   0.09912454  0.02864574  0.07184564\n",
            "  0.2529321   0.04694141  0.2967639   0.06909421  0.08696569 -0.11886543\n",
            " -0.16505998  0.04625101 -0.02230852 -0.2866748  -0.51086074  0.34541747\n",
            " -0.09729588 -0.18936332  0.24976899  0.48852643  0.42574406 -0.18366058\n",
            "  0.04636791  0.07315182 -0.06736983  0.2919169   0.53796697  0.3500096\n",
            "  0.02242847 -0.07023902  0.32059306 -0.10609688]\n",
            "api: [-2.7780101e-01  5.0642955e-01 -2.5690030e-02  3.3287537e-01\n",
            "  9.6790813e-02 -5.2747898e-02  5.2910060e-01  4.9643159e-01\n",
            " -1.7567103e-01  1.6886105e-01 -5.2380882e-02 -6.3541788e-01\n",
            "  2.7977848e-01  3.9221942e-02  4.1119063e-01 -5.1974905e-01\n",
            " -1.7560544e-04 -4.8579398e-01 -3.5618865e-01 -5.5059123e-01\n",
            "  2.5179806e-01  2.3392904e-01  2.6974052e-01 -3.5574821e-01\n",
            "  9.1760814e-02 -2.3452976e-01 -3.4216344e-01 -8.5470873e-01\n",
            "  3.1321846e-02 -4.4052300e-01  4.0619737e-01 -5.5820727e-01\n",
            "  5.8626431e-01 -2.1938606e-01 -2.0221327e-01  4.6718517e-01\n",
            " -2.6012334e-01  2.9734710e-01  1.4184836e-02 -9.1048431e-01\n",
            " -1.6533116e-01 -1.9240443e-02  1.7390554e-01 -6.9333553e-02\n",
            "  3.2700732e-01 -2.7532199e-01 -4.0371513e-01  1.2254704e-01\n",
            " -1.3865298e-01  6.1791724e-01 -2.3129784e-01 -2.6391083e-01\n",
            " -2.6485443e-01 -4.8035994e-02  2.1023954e-01  6.5265663e-02\n",
            "  7.4638253e-01 -2.8979298e-01  2.1913695e-01  1.1980717e-02\n",
            "  2.3874782e-02 -1.8314472e-01  4.0186957e-01 -1.6052926e-01\n",
            " -8.3181518e-01  1.9273897e-01 -5.1328939e-01  4.1858044e-01\n",
            " -6.9563222e-01  8.9873862e-01 -2.7726126e-01  2.7392560e-01\n",
            "  6.2263578e-01  2.5186160e-01  5.1941419e-01 -3.3290318e-01\n",
            " -1.5895179e-01 -2.7490294e-01 -9.8051816e-01 -3.5462472e-01\n",
            " -4.4620407e-01 -4.7328323e-01 -3.5820606e-01  4.5937935e-01\n",
            " -9.9849574e-02 -2.8014066e-02  2.8389680e-01 -1.3291992e-01\n",
            " -2.6956538e-02 -3.5973627e-03  5.0465945e-02  6.6146277e-02\n",
            "  1.5312982e-01 -1.3561647e-02  8.2424629e-01  5.9205496e-01\n",
            " -7.2497703e-02 -1.2399565e-02  2.3278812e-01 -3.9446276e-01]\n",
            "tab: [-3.18479210e-01  1.45539969e-01  8.28259811e-02  6.91552460e-02\n",
            "  2.54433248e-02 -4.90554482e-01 -7.64582306e-02  7.80691326e-01\n",
            "  1.07263671e-02 -3.41970444e-01  2.78237790e-01 -5.18432319e-01\n",
            "  1.19572915e-01 -2.90853202e-01 -1.38737649e-01  7.78023675e-02\n",
            "  1.38590172e-01 -5.41197300e-01 -3.45380220e-04 -9.93697643e-01\n",
            " -2.28052542e-01  3.77832532e-01  1.09936945e-01 -3.73097360e-01\n",
            " -3.56844366e-01  1.41642481e-01 -4.24864680e-01  2.40613952e-01\n",
            " -3.01675379e-01  3.38304043e-02  6.94092959e-02  1.48112431e-01\n",
            "  1.76567316e-01 -4.23226297e-01 -1.02003209e-01  5.67455769e-01\n",
            "  1.92825705e-01 -4.34684038e-01 -2.31004179e-01 -3.68272901e-01\n",
            "  2.61346817e-01 -4.14547771e-01 -1.95645064e-01 -6.08246103e-02\n",
            "  5.76694012e-01 -4.63043153e-01 -3.08489650e-01 -2.09224358e-01\n",
            "  3.10767472e-01  2.41642118e-01  2.73193538e-01 -3.61978523e-02\n",
            "  4.27861780e-01 -6.95400266e-03 -3.48026723e-01  4.10059607e-03\n",
            "  1.51029423e-01  5.91551699e-02 -1.67606428e-01 -4.83197495e-02\n",
            " -4.58043814e-02 -1.82892337e-01  1.10882811e-01 -1.30030781e-01\n",
            " -1.79328427e-01 -5.94017543e-02 -3.17063093e-01  2.28816375e-01\n",
            " -5.50027192e-01  9.52768251e-02 -1.61846265e-01  3.10075283e-01\n",
            "  1.53486595e-01 -3.43245655e-01  1.30828097e-01  2.79771924e-01\n",
            "  9.04669687e-02 -1.26444936e-01  2.14047134e-02  2.42825329e-01\n",
            "  1.61186010e-01 -2.13977128e-01 -6.06511652e-01  5.79637051e-01\n",
            " -1.31772161e-01 -7.10798847e-03 -1.85521439e-01  2.85946220e-01\n",
            "  7.20590115e-01  4.50044215e-01 -1.45403296e-01  2.56635815e-01\n",
            " -1.31347343e-01  1.22728966e-01  8.60958695e-01  6.88454732e-02\n",
            "  1.80775151e-01  4.61819060e-02  4.10294175e-01  5.39659634e-02]\n"
          ]
        }
      ]
    },
    {
      "cell_type": "code",
      "source": [
        "# Derive document embeddings by averaging word embeddings\n",
        "document_embeddings = np.array([np.mean([word2vec_model.wv[word] for word in report if word in word2vec_model.wv], axis=0) for report in tokenized_bug_reports])\n",
        "\n",
        "print(document_embeddings.shape)"
      ],
      "metadata": {
        "colab": {
          "base_uri": "https://localhost:8080/"
        },
        "id": "9bPd5d3k2Wfm",
        "outputId": "622acf00-e30d-46c8-d7f9-e0090dccc3b1"
      },
      "execution_count": 9,
      "outputs": [
        {
          "output_type": "stream",
          "name": "stdout",
          "text": [
            "(14710, 100)\n"
          ]
        }
      ]
    },
    {
      "cell_type": "code",
      "source": [
        "# trying DBSCAN ( density-based clustering algorithms )\n",
        "from sklearn.cluster import DBSCAN\n",
        "\n",
        "# Create DBSCAN object\n",
        "dbscan = DBSCAN(eps=0.5, min_samples=20)  # Adjust parameters as needed\n",
        "\n",
        "# Fit DBSCAN clustering on document embeddings\n",
        "clusters = dbscan.fit_predict(document_embeddings)\n",
        "\n",
        "# Print the number of clusters and number of noise points\n",
        "n_clusters_ = len(set(clusters)) - (1 if -1 in clusters else 0)\n",
        "n_noise_ = list(clusters).count(-1)\n",
        "print(f\"Number of clusters: {n_clusters_}\")\n",
        "print(f\"Number of noise points: {n_noise_}\")\n"
      ],
      "metadata": {
        "colab": {
          "base_uri": "https://localhost:8080/"
        },
        "id": "Ok8aJC9-6hmj",
        "outputId": "c86e4656-94a0-4fbc-9a61-0a84b15a4976"
      },
      "execution_count": 10,
      "outputs": [
        {
          "output_type": "stream",
          "name": "stdout",
          "text": [
            "Number of clusters: 7\n",
            "Number of noise points: 954\n"
          ]
        }
      ]
    },
    {
      "cell_type": "code",
      "source": [
        "#  visualize clusters or perform further analysis\n",
        "import matplotlib.pyplot as plt\n",
        "\n",
        "# Visualize clusters\n",
        "def visualize_clusters(embeddings, clusters):\n",
        "    # Define colors for each cluster (including noise points)\n",
        "    unique_clusters = np.unique(clusters)\n",
        "    colors = [plt.cm.Spectral(each) for each in np.linspace(0, 1, len(unique_clusters))]\n",
        "\n",
        "    # Plot data points with cluster assignments\n",
        "    for cluster_id, color in zip(unique_clusters, colors):\n",
        "        if cluster_id == -1:\n",
        "            # Noise points (cluster_id = -1)\n",
        "            plt.scatter(embeddings[clusters == cluster_id][:, 0], embeddings[clusters == cluster_id][:, 1], color='black', label='Noise')\n",
        "        else:\n",
        "            # Core and border points\n",
        "            plt.scatter(embeddings[clusters == cluster_id][:, 0], embeddings[clusters == cluster_id][:, 1], color=color, label=f'Cluster {cluster_id}')\n",
        "\n",
        "    # Add legend and labels\n",
        "    plt.legend()\n",
        "    plt.xlabel('Dimension 1')\n",
        "    plt.ylabel('Dimension 2')\n",
        "    plt.title('DBSCAN Clustering')\n",
        "\n",
        "    # Show plot\n",
        "    plt.show()\n",
        "\n",
        "# Visualize clusters\n",
        "visualize_clusters(document_embeddings, clusters)\n"
      ],
      "metadata": {
        "colab": {
          "base_uri": "https://localhost:8080/",
          "height": 472
        },
        "id": "ZbOBDorG7PqL",
        "outputId": "1f44f4dd-89a2-48b0-b579-d5fbf3ddb73d"
      },
      "execution_count": 11,
      "outputs": [
        {
          "output_type": "display_data",
          "data": {
            "text/plain": [
              "<Figure size 640x480 with 1 Axes>"
            ],
            "image/png": "[encoded data removed]"
          },
          "metadata": {}
        }
      ]
    },
    {
      "cell_type": "code",
      "source": [
        "import csv\n",
        "\n",
        "# Define the output CSV file path\n",
        "output_csv_file = \"cluster_assignments.csv\"\n",
        "\n",
        "# Write cluster assignments to CSV file\n",
        "with open(output_csv_file, mode='w', newline='', encoding='utf-8') as file:\n",
        "    writer = csv.writer(file)\n",
        "    writer.writerow(['Cluster', 'Bug Report'])\n",
        "    for cluster_label, reports in cluster_reports.items():\n",
        "        if cluster_label == -1:\n",
        "            cluster_name = 'Noise'\n",
        "        else:\n",
        "            cluster_name = f'Cluster {cluster_label}'\n",
        "        for report in reports:\n",
        "            writer.writerow([cluster_name, report])\n",
        "\n",
        "print(f\"Cluster assignments saved to '{output_csv_file}'\")\n"
      ],
      "metadata": {
        "colab": {
          "base_uri": "https://localhost:8080/"
        },
        "id": "gigORD_473bL",
        "outputId": "7eedc848-4895-43af-b14f-548188d5f9d3"
      },
      "execution_count": null,
      "outputs": [
        {
          "output_type": "stream",
          "name": "stdout",
          "text": [
            "Cluster assignments saved to 'cluster_assignments.csv'\n"
          ]
        }
      ]
    },
    {
      "cell_type": "code",
      "source": [
        "from sklearn.metrics import silhouette_score, davies_bouldin_score\n",
        "\n",
        "# Compute Silhouette Score\n",
        "silhouette_avg = silhouette_score(document_embeddings, clusters)\n",
        "print(f\"Silhouette Score: {silhouette_avg}\")\n",
        "\n",
        "# Compute Davies–Bouldin Index\n",
        "db_index = davies_bouldin_score(document_embeddings, clusters)\n",
        "print(f\"Davies–Bouldin Index: {db_index}\")\n",
        "\n",
        "\n",
        "# The Silhouette Score being positive indicates that most samples are correctly clustered.\n",
        "# A score around 0.217 suggests that clusters are at least somewhat well-separated.\n",
        "# The Davies–Bouldin Index being around 1.368 indicates moderate separation between clusters.\n",
        "# Lower values would indicate better clustering."
      ],
      "metadata": {
        "colab": {
          "base_uri": "https://localhost:8080/"
        },
        "id": "gYBkEFnp-yDq",
        "outputId": "f59cf3d3-02fc-4f9d-cb24-f0d6a9e60aeb"
      },
      "execution_count": 12,
      "outputs": [
        {
          "output_type": "stream",
          "name": "stdout",
          "text": [
            "Silhouette Score: 0.21670055389404297\n",
            "Davies–Bouldin Index: 1.3676055581081128\n"
          ]
        }
      ]
    }
  ]
}