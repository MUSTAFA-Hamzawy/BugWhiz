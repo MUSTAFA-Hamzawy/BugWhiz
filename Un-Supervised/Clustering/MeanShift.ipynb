{
  "nbformat": 4,
  "nbformat_minor": 0,
  "metadata": {
    "colab": {
      "provenance": []
    },
    "kernelspec": {
      "name": "python3",
      "display_name": "Python 3"
    },
    "language_info": {
      "name": "python"
    }
  },
  "cells": [
    {
      "cell_type": "code",
      "execution_count": 1,
      "metadata": {
        "id": "MY79wHSZv3mS"
      },
      "outputs": [],
      "source": [
        "import pandas as pd\n",
        "import nltk\n",
        "from nltk.corpus import stopwords\n",
        "from nltk.tokenize import word_tokenize\n",
        "from sklearn.feature_extraction.text import TfidfVectorizer\n",
        "from sklearn.feature_extraction.text import ENGLISH_STOP_WORDS\n",
        "from sklearn.decomposition import TruncatedSVD\n",
        "from gensim.models import Word2Vec\n",
        "import numpy as np"
      ]
    },
    {
      "cell_type": "code",
      "source": [
        "# Download NLTK resources\n",
        "nltk.download('punkt')\n",
        "nltk.download('stopwords')"
      ],
      "metadata": {
        "colab": {
          "base_uri": "https://localhost:8080/"
        },
        "id": "7CFExmf40fV3",
        "outputId": "adb735f9-4af8-487e-e25f-00aa2e5d5f9b"
      },
      "execution_count": 2,
      "outputs": [
        {
          "output_type": "stream",
          "name": "stderr",
          "text": [
            "[nltk_data] Downloading package punkt to /root/nltk_data...\n",
            "[nltk_data]   Unzipping tokenizers/punkt.zip.\n",
            "[nltk_data] Downloading package stopwords to /root/nltk_data...\n",
            "[nltk_data]   Unzipping corpora/stopwords.zip.\n"
          ]
        },
        {
          "output_type": "execute_result",
          "data": {
            "text/plain": [
              "True"
            ]
          },
          "metadata": {},
          "execution_count": 2
        }
      ]
    },
    {
      "cell_type": "code",
      "source": [
        "# Load the bug reports dataset\n",
        "data = pd.read_excel(\"train.xlsx\")\n",
        "bug_reports = data['report']\n",
        "\n",
        "# Tokenize bug reports and remove empty strings or tokens consisting only of spaces\n",
        "stop_words = set(stopwords.words('english'))\n",
        "tokenized_bug_reports = [[word.lower() for word in word_tokenize(report) if word.strip() and word.strip() not in stop_words] for report in bug_reports]\n",
        "\n",
        "# Train Word2Vec model\n",
        "word2vec_model = Word2Vec(sentences=tokenized_bug_reports, vector_size=100, window=5, min_count=1, sg=1)\n",
        "\n",
        "\n",
        "\n"
      ],
      "metadata": {
        "id": "rdlenX17v4qO"
      },
      "execution_count": 7,
      "outputs": []
    },
    {
      "cell_type": "code",
      "source": [
        "# Train Word2Vec model\n",
        "word2vec_model = Word2Vec(sentences=tokenized_bug_reports, vector_size=100, window=5, min_count=1, sg=1)"
      ],
      "metadata": {
        "id": "LU1z817o2DX2"
      },
      "execution_count": 8,
      "outputs": []
    },
    {
      "cell_type": "code",
      "source": [
        "tokenized_bug_reports[:3]\n"
      ],
      "metadata": {
        "colab": {
          "base_uri": "https://localhost:8080/"
        },
        "id": "yg2xazmY1Qdd",
        "outputId": "a09e7d98-e5a9-4d30-92e8-4f9749cfa7ba"
      },
      "execution_count": 9,
      "outputs": [
        {
          "output_type": "execute_result",
          "data": {
            "text/plain": [
              "[['``',\n",
              "  'for',\n",
              "  'event',\n",
              "  'bookmarked',\n",
              "  'projects',\n",
              "  \"''\",\n",
              "  'option',\n",
              "  'sending',\n",
              "  'notifications',\n",
              "  'non-member',\n",
              "  'bookmarked',\n",
              "  'projects'],\n",
              " ['switch', 'using', 'full', 'l10n', 'id', \"'s\", 'urlbar'],\n",
              " ['consider', 'removing', 'hasicon', 'property', 'simplify', 'styling']]"
            ]
          },
          "metadata": {},
          "execution_count": 9
        }
      ]
    },
    {
      "cell_type": "code",
      "source": [
        "# Save or load Word2Vec model (optional)\n",
        "# word2vec_model.save(\"word2vec_model.bin\")\n",
        "# word2vec_model = Word2Vec.load(\"word2vec_model.bin\")"
      ],
      "metadata": {
        "id": "qEY84Lnj00BG"
      },
      "execution_count": 10,
      "outputs": []
    },
    {
      "cell_type": "code",
      "source": [
        "# Get the word vectors for a specific word\n",
        "test_word = \"email\"\n",
        "word_vector = word2vec_model.wv[test_word]\n",
        "\n",
        "# Print similar words to a given word\n",
        "similar_words = word2vec_model.wv.most_similar(test_word)\n",
        "\n",
        "print(similar_words)"
      ],
      "metadata": {
        "colab": {
          "base_uri": "https://localhost:8080/"
        },
        "id": "UTRftqMc00dO",
        "outputId": "6cf4f6c0-2250-472b-d243-7b465b6f0c2e"
      },
      "execution_count": 11,
      "outputs": [
        {
          "output_type": "stream",
          "name": "stdout",
          "text": [
            "[('mails', 0.9240984916687012), ('security', 0.9203272461891174), ('ignoring', 0.9187041521072388), ('e-mail', 0.9171749949455261), ('blockquote', 0.9165360927581787), ('sending', 0.9158561825752258), ('asynchronously', 0.9139227271080017), ('send', 0.91126948595047), ('header', 0.9048137068748474), ('alert', 0.9007105231285095)]\n"
          ]
        }
      ]
    },
    {
      "cell_type": "code",
      "source": [
        "# Print the word embeddings\n",
        "print(\"Word Embeddings:\")\n",
        "for word in word2vec_model.wv.index_to_key[:10]:\n",
        "    print(f\"{word}: {word2vec_model.wv[word]}\")"
      ],
      "metadata": {
        "colab": {
          "base_uri": "https://localhost:8080/"
        },
        "id": "gjtHi1ozy1--",
        "outputId": "a1e550eb-cceb-476e-d8cb-8113673685ee"
      },
      "execution_count": 12,
      "outputs": [
        {
          "output_type": "stream",
          "name": "stdout",
          "text": [
            "Word Embeddings:\n",
            "]: [-0.53750074  0.26458997  0.2769119   0.2481331  -0.62226945 -0.47160646\n",
            "  0.21903442  1.0568821  -0.20258772 -0.2385448   0.23223323 -0.2623591\n",
            " -0.19035095  0.3412698  -0.27751714 -0.19158882  0.456042    0.12780492\n",
            " -0.50588655 -1.0060073   0.38981664  0.14307466  0.5397854  -0.3658165\n",
            "  0.23994422 -0.25789723 -0.25722277  0.19848445 -0.79220027  0.03981844\n",
            " -0.45189622  0.11274085  0.03886789 -0.74818295  0.09493242  0.22749187\n",
            "  0.3724694  -0.4515283   0.00637098 -0.42331997 -0.20814139  0.18694863\n",
            " -0.57525724 -0.24606927  0.40416214 -0.02105139 -0.1035418   0.4530266\n",
            "  0.13843572  0.48384696  0.01100396 -0.0442043  -0.17185774 -0.02776158\n",
            "  0.06437865 -0.25580293  0.6165826  -0.4148008  -0.5109503   0.60494375\n",
            " -0.13290438 -0.08423628 -0.5988021  -0.3222611  -0.17728297  0.35969967\n",
            " -0.19168982  0.16278338 -0.11884812  0.28734705 -0.02211548  0.26191425\n",
            "  0.05627747 -0.46681976  0.28354335  0.13490966  0.25544313  0.32421553\n",
            " -0.01333705 -0.13778739 -0.0676292   0.51733196  0.21885456  0.09422027\n",
            " -0.26999092  0.21252471  0.02367366 -0.2599645   0.0904912   0.3398658\n",
            "  0.1600027   0.05932374  0.34348267 -0.23885493  0.7447148   0.21306792\n",
            " -0.36675432 -0.53791094 -0.37320036  0.21075913]\n",
            "[: [-0.7984603   0.39606917  0.37136826  0.31003225 -0.3634797  -0.59547675\n",
            "  0.2609344   1.0205585  -0.13014185 -0.3722366   0.05814359 -0.5371135\n",
            " -0.33336183  0.4881078  -0.33262044 -0.03256122  0.44627792 -0.01312299\n",
            " -0.41751716 -1.1499114   0.32808685  0.24717015  0.5173272  -0.47342268\n",
            "  0.255046   -0.19709069 -0.3497353   0.05029595 -0.6415463   0.07046556\n",
            " -0.02079926  0.05687509  0.2892858  -0.75368917  0.32223594  0.48684785\n",
            "  0.386254   -0.60875976  0.08885813 -0.11600909  0.03289162  0.13283333\n",
            " -0.74866223 -0.2864793   0.309475    0.08441214 -0.05515095  0.434277\n",
            "  0.21884176  0.6167077   0.16610238 -0.11633017 -0.06659175  0.11875362\n",
            " -0.04881525  0.0363016   0.68316966 -0.01050836 -0.35305685  0.63809836\n",
            " -0.01814687 -0.11291962 -0.6394195  -0.27047738 -0.29086885  0.1845581\n",
            " -0.08526018  0.02817568 -0.04607396  0.6320883  -0.3045318  -0.14545529\n",
            "  0.20620035 -0.14310081  0.13348496 -0.1900381   0.03124357  0.02317206\n",
            " -0.01703259  0.07943325 -0.23246136  0.63116294  0.1307521   0.0390217\n",
            " -0.21674858  0.10034003 -0.15662634 -0.5465051   0.3405305   0.36341682\n",
            "  0.25968266  0.06688701  0.08270239 -0.35408005  0.3982742   0.14879186\n",
            " -0.1636439  -0.49655384 -0.5273894   0.35627413]\n",
            "'': [-1.8909281e-02  3.4569529e-01 -1.6423891e-01 -3.5179800e-01\n",
            "  1.6278585e-02 -8.0337867e-02  9.5797651e-02  8.0720937e-01\n",
            " -1.1101512e-03 -2.1057379e-01 -8.5830353e-02 -5.3530455e-01\n",
            "  4.1787624e-01 -1.9501555e-01  4.8694432e-01 -2.4370643e-01\n",
            "  1.0247368e-01  1.3709034e-01  2.8993994e-02 -6.8867338e-01\n",
            " -2.0994674e-01 -2.1525900e-01  6.0046915e-02 -5.1590484e-01\n",
            "  4.3253828e-04  4.6009321e-02 -1.7957311e-02  1.1448232e-01\n",
            " -1.8246759e-01 -4.7146749e-02  9.6453279e-02 -1.5189210e-01\n",
            " -2.6870930e-01 -3.7171936e-01 -4.9527768e-02  4.0727416e-01\n",
            " -6.8386577e-02 -1.4258613e-01 -1.4198177e-01 -1.9081025e-01\n",
            " -5.2447461e-02 -1.9525240e-01 -5.3814586e-02  1.5658435e-01\n",
            "  5.1398790e-01 -1.5044388e-01  1.3336378e-02 -1.3208751e-01\n",
            "  1.3743210e-01 -4.1635584e-02  4.0615085e-01 -1.5246744e-01\n",
            "  8.6727113e-02 -2.7170548e-01 -3.7394515e-01  1.9515373e-01\n",
            "  2.9999363e-01 -1.0802316e-01 -1.1227941e-01 -1.5195759e-01\n",
            "  6.7097723e-02 -6.5183640e-02  3.0615005e-01  7.8598022e-02\n",
            " -1.3445866e-01  5.2569395e-01 -1.7365062e-01  5.7497692e-01\n",
            " -6.5573430e-01  2.2126713e-01 -5.6626610e-02  2.0201521e-01\n",
            "  3.8732195e-01  1.5590593e-01 -3.0397554e-03  4.7741690e-01\n",
            "  2.2386109e-02  1.4888585e-01 -1.1732974e-01  1.9093832e-01\n",
            " -2.6039234e-01 -1.8920101e-01 -4.3310225e-01  2.8839487e-01\n",
            " -1.7913605e-01 -1.7466587e-01  1.3937797e-01 -8.3192468e-02\n",
            "  5.0245756e-01  8.7208077e-02  1.7758445e-01  1.6616617e-01\n",
            "  1.3915382e-01 -3.4361873e-03  7.3000038e-01  4.4166338e-01\n",
            "  4.7370505e-01 -2.7457100e-01  7.5524673e-02 -5.1734704e-01]\n",
            "``: [-0.2007304   0.37412116 -0.11349902 -0.25969937  0.17564985 -0.32868\n",
            "  0.267162    0.96419185  0.18181391 -0.4197685   0.15483594 -0.23896402\n",
            "  0.18814135 -0.28602153  0.31291384 -0.32127303  0.16029471 -0.14083423\n",
            " -0.09003861 -0.47861186  0.20611423 -0.2058508   0.28800893 -0.2800674\n",
            " -0.38286775  0.1197875  -0.02462907  0.21698038 -0.05875639 -0.01601538\n",
            " -0.03180712 -0.07626011 -0.19604972 -0.5795053   0.06366305  0.6266458\n",
            "  0.32963455 -0.15205525 -0.3166861  -0.04747411  0.14851195 -0.25295517\n",
            "  0.03781089  0.26076454  0.51497895 -0.25378278 -0.01349362 -0.17721868\n",
            "  0.24286209  0.30015194  0.359297   -0.14423054 -0.02744467 -0.36871406\n",
            " -0.21480955  0.37921524  0.15749724  0.1743233   0.08310767 -0.09135998\n",
            "  0.07873499  0.05747986  0.4730776   0.00412852 -0.13769166  0.38795143\n",
            "  0.04557755  0.6862591  -0.40050733  0.11670338  0.15602545 -0.02011856\n",
            "  0.26741058  0.18797526  0.05805065  0.16365902 -0.11179347  0.2614527\n",
            " -0.09003834  0.2937154  -0.509808    0.19825274 -0.24943465  0.41937637\n",
            " -0.3464579  -0.17556778  0.2726234   0.26107326  0.3418247  -0.30592242\n",
            "  0.02941464  0.01113836  0.28439763  0.08956714  0.8085554   0.2351644\n",
            "  0.45866686 -0.40437868 -0.04868346 -0.27080774]\n",
            ":: [-0.1587803   0.28206834  0.12454055 -0.04363662  0.20136903 -0.39835015\n",
            "  0.13958527  0.6796593  -0.2892328  -0.126319   -0.1543887  -0.25450078\n",
            " -0.00324441  0.05109577  0.07283838 -0.1867526   0.13671368  0.13723306\n",
            " -0.19268303 -0.65284854 -0.11724195 -0.43930772  0.23505764 -0.10413335\n",
            " -0.1806882   0.21045412 -0.32818738  0.18696862 -0.11495232 -0.05601791\n",
            "  0.14999408  0.16118778  0.11872606 -0.49076787  0.13859884  0.31967735\n",
            " -0.0637242   0.11084862  0.20517698 -0.3776953   0.05447987 -0.20212232\n",
            " -0.23439784  0.2527446   0.39039665 -0.31426919 -0.25504807 -0.21144475\n",
            "  0.3493593  -0.04424349  0.30950472 -0.21522817  0.10733477 -0.26255864\n",
            "  0.10614862 -0.09277494  0.12148848  0.11897714  0.23335038  0.08675664\n",
            " -0.00519335 -0.30958897  0.06990931  0.12317519 -0.3287326   0.17053711\n",
            "  0.09017729  0.27602005 -0.26046446  0.6641177   0.20164691  0.0793082\n",
            "  0.20724846 -0.00081681  0.43518052  0.3492758   0.12224348 -0.10817061\n",
            " -0.1154278  -0.34095004 -0.16098796 -0.23477991  0.03370456  0.31421012\n",
            " -0.25468126 -0.10360972  0.42553046 -0.09916356  0.13473424  0.13535255\n",
            "  0.5616367  -0.10752055  0.11198247 -0.2061027   0.7724643   0.1198961\n",
            "  0.19397672 -0.04500782  0.36631873 -0.13953325]\n",
            "(: [-0.0359204   0.2093007  -0.16665234 -0.36352503 -0.25571823 -0.43938294\n",
            "  0.38653174  0.61453    -0.27540645 -0.31624442 -0.42104736 -0.56025606\n",
            " -0.23033963 -0.12129302 -0.02815026 -0.14654155  0.14784275 -0.06021845\n",
            "  0.34390634 -0.23760772 -0.30153856  0.03796161  0.49455038  0.06775059\n",
            " -0.12394388 -0.03555974 -0.3580636  -0.20403734 -0.03654306  0.1152767\n",
            "  0.36039114 -0.31411302 -0.00674447 -0.5224906   0.07250261  0.41116786\n",
            "  0.27784476 -0.03318899  0.1784216  -0.4843036   0.22209704 -0.33528495\n",
            " -0.09160763 -0.01194211  0.17221747 -0.0261997  -0.47773495 -0.06564207\n",
            "  0.10411824 -0.21344058  0.10018109 -0.5415318   0.18635547  0.18540913\n",
            " -0.36594418  0.03779359  0.44640762 -0.22540495 -0.19544403 -0.13399224\n",
            "  0.25600713  0.00473692  0.44144022 -0.08626162  0.11920047  0.20005907\n",
            " -0.01149516  0.2345733  -0.61868256 -0.16102827 -0.03975382  0.18984152\n",
            "  0.45751336  0.26440737  0.4330492   0.15412484 -0.29644006  0.06850868\n",
            " -0.14897548  0.11352961  0.19872083 -0.41161895  0.19540821  0.10792651\n",
            "  0.01679177 -0.31097117  0.17304799  0.28349563  0.00705848 -0.1516395\n",
            "  0.61350363  0.44522917 -0.17804387  0.06575533  0.76493543  0.47534665\n",
            " -0.04342803 -0.35006985  0.02816381 -0.2869583 ]\n",
            "): [ 0.2228223  -0.04939273  0.03378413 -0.24856056 -0.26853532 -0.2977547\n",
            "  0.41196793  0.60594636 -0.22699313 -0.3342875  -0.23970349 -0.5208665\n",
            "  0.01996677  0.27757093  0.07117364  0.03083145  0.348299    0.10837822\n",
            "  0.4552932  -0.5479581  -0.18701267 -0.18123844  0.3732081  -0.08085966\n",
            "  0.12567446 -0.02339605 -0.3628899  -0.13226137 -0.0492576  -0.10274236\n",
            "  0.28501198  0.32147843  0.09446321 -0.39252326 -0.17783642  0.3211825\n",
            " -0.10049246 -0.36721468 -0.14895    -0.53912663  0.14951909 -0.35968462\n",
            "  0.13075994 -0.13101467  0.08559991 -0.14846502 -0.6516672  -0.34380397\n",
            " -0.07031111 -0.35688263  0.1697088  -0.47274008 -0.29634643  0.09698542\n",
            " -0.5597636   0.00670714  0.253223   -0.51457006 -0.09293584 -0.1734304\n",
            "  0.12892322  0.08660167  0.2060229   0.15139556 -0.25650623  0.26147223\n",
            " -0.1930769   0.0730116  -0.50825834 -0.09777353 -0.04721116  0.02373019\n",
            "  0.18378985  0.29911467  0.58627206  0.02909683  0.11350222  0.18170966\n",
            " -0.27479866  0.2689922   0.21059807 -0.3613999  -0.22157595  0.27303752\n",
            " -0.16576213 -0.27853888  0.56447214  0.06707272 -0.129191   -0.18594624\n",
            "  0.3851024   0.11635187 -0.05056974  0.1022118   0.7457177   0.38969526\n",
            "  0.26828513 -0.37739712 -0.12813738 -0.1266038 ]\n",
            ",: [ 0.03072097  0.09759519  0.21144159 -0.28659862 -0.1685601  -0.20546225\n",
            "  0.19631006  0.5067062  -0.14150214 -0.03879209 -0.23800981 -0.3589435\n",
            "  0.22462036 -0.13189314  0.19492106  0.12101007  0.12390079 -0.20366028\n",
            "  0.10536257 -0.4282034   0.01109486  0.06044075 -0.00702566 -0.26625603\n",
            " -0.14142631 -0.04110178 -0.23361386  0.04137595  0.0097277  -0.02127501\n",
            "  0.1664032   0.13943361  0.02460478 -0.36014262 -0.14287382  0.24870396\n",
            " -0.11205157 -0.31641898 -0.11048727 -0.552628    0.08629169 -0.33716944\n",
            "  0.27737546 -0.02983016  0.5012151  -0.48771492 -0.5139926  -0.1691218\n",
            "  0.05182642 -0.09277217 -0.02642132 -0.2578053   0.14450912 -0.17392345\n",
            " -0.2506181  -0.03007817  0.3632939  -0.03683186  0.06338432  0.06327191\n",
            "  0.19679163 -0.17115799  0.18162833  0.16066846 -0.10938001  0.28161493\n",
            " -0.18785875  0.39081556 -0.5818065   0.02673747 -0.04449486  0.03443578\n",
            "  0.2392638   0.06091424  0.23502018  0.13285913  0.08237097 -0.0772888\n",
            " -0.11379889  0.08581597  0.03992089 -0.26931843 -0.41926792  0.44007346\n",
            " -0.14091109 -0.22687493  0.28741333  0.43045604  0.5146694  -0.1727118\n",
            "  0.14445627  0.0113881  -0.03984242  0.19853853  0.5257529   0.30692995\n",
            "  0.09509586 -0.25154397  0.25123858 -0.11116091]\n",
            "api: [-0.18138672  0.7687223  -0.153928    0.29525152  0.17537871 -0.17169051\n",
            "  0.40179807  0.4830758  -0.23253144  0.09448937  0.02157324 -0.52837133\n",
            "  0.20649682  0.01300583  0.35593897 -0.63624334  0.01832318 -0.355754\n",
            " -0.52363956 -0.6632972   0.29091454  0.27039874  0.34677473 -0.30952555\n",
            " -0.33420983 -0.12947977 -0.35076958 -0.85411775 -0.16036917 -0.2352475\n",
            "  0.36726442 -0.5869402   0.6096074  -0.27510107 -0.07284488  0.7790159\n",
            " -0.26322603  0.27810934 -0.07040473 -1.0413066  -0.1188194   0.00211484\n",
            "  0.1162813  -0.01585035  0.2881315  -0.36014444 -0.43342713  0.05662175\n",
            " -0.23678935  0.46227178 -0.2667708  -0.17416233 -0.29607478 -0.10709002\n",
            "  0.10634763 -0.09127049  0.7536095  -0.15367402 -0.05188575 -0.0965613\n",
            " -0.04176604 -0.44442064  0.39342856 -0.19734216 -0.8583917   0.34154695\n",
            " -0.41553637  0.5104811  -0.7395922   0.7207602  -0.33090356  0.19103664\n",
            "  0.53783125  0.2981664   0.47572607 -0.15017618 -0.06217601 -0.2562932\n",
            " -0.88091034 -0.1976812  -0.34018642 -0.390392   -0.1525233   0.39002025\n",
            " -0.13653487  0.01731236  0.26139334  0.01537703 -0.02790966  0.2385711\n",
            "  0.13572742 -0.08706191  0.00179107 -0.27580893  0.9237006   0.39295915\n",
            " -0.26950595  0.02417055  0.20863125 -0.38340718]\n",
            "tab: [-0.27181286  0.2015952   0.07408608 -0.13216482  0.07523128 -0.5439539\n",
            "  0.01006273  0.69481546  0.06390334 -0.2961719   0.22157486 -0.51190156\n",
            "  0.20788376 -0.38175952  0.00141206  0.0316615   0.19159265 -0.54072154\n",
            "  0.04642788 -1.0729775  -0.21240212  0.29257986  0.03174676 -0.24424133\n",
            " -0.3788945   0.11411048 -0.236405    0.29418677 -0.24310607 -0.07458559\n",
            " -0.05126278  0.30741975  0.13666648 -0.5680642  -0.21897227  0.5611013\n",
            "  0.22613728 -0.5159546  -0.268342   -0.19716106  0.25968218 -0.46095204\n",
            " -0.15145229 -0.05692618  0.42359462 -0.43293685 -0.34571907 -0.28302228\n",
            "  0.38040435  0.07945495  0.47856453  0.05184107  0.2508068  -0.0747916\n",
            " -0.30123663 -0.2457011   0.4078228   0.11721309  0.01723498  0.02861055\n",
            "  0.01728162 -0.1756572   0.16853346 -0.11732702 -0.18758693  0.24392691\n",
            " -0.37357762  0.14033775 -0.627239    0.09703001 -0.11705346  0.33923003\n",
            "  0.09731793 -0.39661923  0.08899726  0.2048818   0.13108757  0.01779966\n",
            " -0.0508655   0.2998866   0.0658778  -0.12052312 -0.6021659   0.52686757\n",
            " -0.19816609 -0.04795071 -0.1508933   0.4459666   0.7834983   0.288022\n",
            " -0.07281701  0.2750537  -0.04206865 -0.06365059  0.8527259  -0.09111832\n",
            "  0.14950769 -0.05981717  0.25841343  0.00618923]\n"
          ]
        }
      ]
    },
    {
      "cell_type": "code",
      "source": [
        "# Derive document embeddings by averaging word embeddings\n",
        "document_embeddings = np.array([np.mean([word2vec_model.wv[word] for word in report if word in word2vec_model.wv], axis=0) for report in tokenized_bug_reports])\n",
        "\n",
        "print(document_embeddings.shape)"
      ],
      "metadata": {
        "colab": {
          "base_uri": "https://localhost:8080/"
        },
        "id": "9bPd5d3k2Wfm",
        "outputId": "782c912f-ee69-4cf8-ac9a-ea96df6631ef"
      },
      "execution_count": 13,
      "outputs": [
        {
          "output_type": "stream",
          "name": "stdout",
          "text": [
            "(14710, 100)\n"
          ]
        }
      ]
    },
    {
      "cell_type": "code",
      "source": [
        "#  visualize clusters or perform further analysis\n",
        "import matplotlib.pyplot as plt\n",
        "\n",
        "# Visualize clusters\n",
        "def visualize_clusters(embeddings, clusters):\n",
        "    # Define colors for each cluster (including noise points)\n",
        "    unique_clusters = np.unique(clusters)\n",
        "    colors = [plt.cm.Spectral(each) for each in np.linspace(0, 1, len(unique_clusters))]\n",
        "\n",
        "    # Plot data points with cluster assignments\n",
        "    for cluster_id, color in zip(unique_clusters, colors):\n",
        "        if cluster_id == -1:\n",
        "            # Noise points (cluster_id = -1)\n",
        "            plt.scatter(embeddings[clusters == cluster_id][:, 0], embeddings[clusters == cluster_id][:, 1], color='black', label='Noise')\n",
        "        else:\n",
        "            # Core and border points\n",
        "            plt.scatter(embeddings[clusters == cluster_id][:, 0], embeddings[clusters == cluster_id][:, 1], color=color, label=f'Cluster {cluster_id}')\n",
        "\n",
        "    # Add legend and labels\n",
        "    plt.legend()\n",
        "    plt.xlabel('Dimension 1')\n",
        "    plt.ylabel('Dimension 2')\n",
        "    plt.title('Clustering')\n",
        "\n",
        "    # Show plot\n",
        "    plt.show()\n"
      ],
      "metadata": {
        "id": "m4dTGsTg8nHL"
      },
      "execution_count": 14,
      "outputs": []
    },
    {
      "cell_type": "code",
      "source": [
        "import csv\n",
        "\n",
        "def store_cluster_assignments(clusters, bug_reports, output_file):\n",
        "    # Create a dictionary to store bug reports for each cluster\n",
        "    cluster_reports = {}\n",
        "    for i, cluster_label in enumerate(clusters):\n",
        "        if cluster_label not in cluster_reports:\n",
        "            cluster_reports[cluster_label] = []\n",
        "        cluster_reports[cluster_label].append(bug_reports[i])\n",
        "\n",
        "    # Write cluster assignments to CSV file\n",
        "    with open(output_file, mode='w', newline='', encoding='utf-8') as file:\n",
        "        writer = csv.writer(file)\n",
        "        writer.writerow(['Cluster', 'Bug Report'])\n",
        "        for cluster_label, reports in cluster_reports.items():\n",
        "            if cluster_label == -1:\n",
        "                cluster_name = 'Noise'\n",
        "            else:\n",
        "                cluster_name = f'Cluster {cluster_label}'\n",
        "            for report in reports:\n",
        "                writer.writerow([cluster_name, report])\n",
        "\n",
        "    print(f\"Cluster assignments saved to '{output_file}'\")\n"
      ],
      "metadata": {
        "id": "ppwTcQg08_Lb"
      },
      "execution_count": 15,
      "outputs": []
    },
    {
      "cell_type": "code",
      "source": [
        "from sklearn.cluster import MeanShift\n",
        "\n",
        "#  the bandwidth parameter controls the size of the kernel used for density estimation\n",
        "# A larger bandwidth implies a larger neighborhood, resulting in smoother density estimation and potentially fewer clusters.\n",
        "meanshift = MeanShift(bandwidth=0.7)\n",
        "\n",
        "# Fit MeanShift clustering on document embeddings\n",
        "meanshift.fit(document_embeddings)\n",
        "\n",
        "# Predict cluster labels\n",
        "meanshift_clusters = meanshift.predict(document_embeddings)\n",
        "\n"
      ],
      "metadata": {
        "id": "Ok8aJC9-6hmj"
      },
      "execution_count": null,
      "outputs": []
    },
    {
      "cell_type": "code",
      "source": [
        "# Visualize clusters (optional)\n",
        "visualize_clusters(document_embeddings, meanshift_clusters)\n"
      ],
      "metadata": {
        "id": "QH7He7Xn9Dyq"
      },
      "execution_count": null,
      "outputs": []
    },
    {
      "cell_type": "code",
      "source": [
        "# Store cluster assignments in CSV file (optional)\n",
        "store_cluster_assignments(meanshift_clusters, bug_reports, \"meanshift_cluster_assignments.csv\")\n"
      ],
      "metadata": {
        "colab": {
          "base_uri": "https://localhost:8080/"
        },
        "id": "l3h3xm3s9ElJ",
        "outputId": "9927297b-8bfe-4ec2-946d-41e86b3e8ca0"
      },
      "execution_count": null,
      "outputs": [
        {
          "output_type": "stream",
          "name": "stdout",
          "text": [
            "Cluster assignments saved to 'gmm_cluster_assignments.csv'\n"
          ]
        }
      ]
    },
    {
      "cell_type": "code",
      "source": [
        "from sklearn.metrics import silhouette_score, davies_bouldin_score\n",
        "\n",
        "# Compute Silhouette Score\n",
        "silhouette_avg = silhouette_score(document_embeddings, meanshift_clusters)\n",
        "print(f\"Silhouette Score: {silhouette_avg}\")\n",
        "\n",
        "# Compute Davies–Bouldin Index\n",
        "db_index = davies_bouldin_score(document_embeddings, meanshift_clusters)\n",
        "print(f\"Davies–Bouldin Index: {db_index}\")\n",
        "\n",
        "\n",
        "#the Silhouette Score is 0.080 and the Davies–Bouldin Index is 2.053.\n",
        "# These values suggest that the clustering quality may not be optimal,\n",
        "# as the Silhouette Score is relatively low and the Davies–Bouldin Index is higher than expected."
      ],
      "metadata": {
        "colab": {
          "base_uri": "https://localhost:8080/"
        },
        "id": "adswC-AR9wE6",
        "outputId": "6d0fb0c4-1f11-4b7c-f7cc-802857aba2e3"
      },
      "execution_count": null,
      "outputs": [
        {
          "output_type": "stream",
          "name": "stdout",
          "text": [
            "Silhouette Score: 0.0804663673043251\n",
            "Davies–Bouldin Index: 2.0533898200278315\n"
          ]
        }
      ]
    }
  ]
}