{
  "nbformat": 4,
  "nbformat_minor": 0,
  "metadata": {
    "colab": {
      "provenance": []
    },
    "kernelspec": {
      "name": "python3",
      "display_name": "Python 3"
    },
    "language_info": {
      "name": "python"
    }
  },
  "cells": [
    {
      "cell_type": "code",
      "execution_count": 1,
      "metadata": {
        "id": "MY79wHSZv3mS"
      },
      "outputs": [],
      "source": [
        "import pandas as pd\n",
        "import nltk\n",
        "from nltk.corpus import stopwords\n",
        "from nltk.tokenize import word_tokenize\n",
        "from sklearn.feature_extraction.text import TfidfVectorizer\n",
        "from sklearn.feature_extraction.text import ENGLISH_STOP_WORDS\n",
        "from sklearn.decomposition import TruncatedSVD\n",
        "from gensim.models import Word2Vec\n",
        "import numpy as np"
      ]
    },
    {
      "cell_type": "code",
      "source": [
        "# Download NLTK resources\n",
        "nltk.download('punkt')\n",
        "nltk.download('stopwords')"
      ],
      "metadata": {
        "colab": {
          "base_uri": "https://localhost:8080/"
        },
        "id": "7CFExmf40fV3",
        "outputId": "2929a6bb-4f56-4977-e934-11f1e40a3795"
      },
      "execution_count": 2,
      "outputs": [
        {
          "output_type": "stream",
          "name": "stderr",
          "text": [
            "[nltk_data] Downloading package punkt to /root/nltk_data...\n",
            "[nltk_data]   Unzipping tokenizers/punkt.zip.\n",
            "[nltk_data] Downloading package stopwords to /root/nltk_data...\n",
            "[nltk_data]   Unzipping corpora/stopwords.zip.\n"
          ]
        },
        {
          "output_type": "execute_result",
          "data": {
            "text/plain": [
              "True"
            ]
          },
          "metadata": {},
          "execution_count": 2
        }
      ]
    },
    {
      "cell_type": "code",
      "source": [
        "# Load the bug reports dataset\n",
        "data = pd.read_excel(\"train.xlsx\")\n",
        "bug_reports = data['report']\n",
        "\n",
        "# Tokenize bug reports and remove empty strings or tokens consisting only of spaces\n",
        "stop_words = set(stopwords.words('english'))\n",
        "tokenized_bug_reports = [[word.lower() for word in word_tokenize(report) if word.strip() and word.strip() not in stop_words] for report in bug_reports]\n",
        "\n",
        "# Train Word2Vec model\n",
        "word2vec_model = Word2Vec(sentences=tokenized_bug_reports, vector_size=100, window=5, min_count=1, sg=1)\n",
        "\n",
        "\n",
        "\n"
      ],
      "metadata": {
        "id": "rdlenX17v4qO"
      },
      "execution_count": 4,
      "outputs": []
    },
    {
      "cell_type": "code",
      "source": [
        "# Train Word2Vec model\n",
        "word2vec_model = Word2Vec(sentences=tokenized_bug_reports, vector_size=100, window=5, min_count=1, sg=1)"
      ],
      "metadata": {
        "id": "LU1z817o2DX2"
      },
      "execution_count": 5,
      "outputs": []
    },
    {
      "cell_type": "code",
      "source": [
        "tokenized_bug_reports[:3]\n"
      ],
      "metadata": {
        "colab": {
          "base_uri": "https://localhost:8080/"
        },
        "id": "yg2xazmY1Qdd",
        "outputId": "3972d70a-5c8b-47cb-ce67-7918dce746c1"
      },
      "execution_count": 6,
      "outputs": [
        {
          "output_type": "execute_result",
          "data": {
            "text/plain": [
              "[['``',\n",
              "  'for',\n",
              "  'event',\n",
              "  'bookmarked',\n",
              "  'projects',\n",
              "  \"''\",\n",
              "  'option',\n",
              "  'sending',\n",
              "  'notifications',\n",
              "  'non-member',\n",
              "  'bookmarked',\n",
              "  'projects'],\n",
              " ['switch', 'using', 'full', 'l10n', 'id', \"'s\", 'urlbar'],\n",
              " ['consider', 'removing', 'hasicon', 'property', 'simplify', 'styling']]"
            ]
          },
          "metadata": {},
          "execution_count": 6
        }
      ]
    },
    {
      "cell_type": "code",
      "source": [
        "# Save or load Word2Vec model (optional)\n",
        "# word2vec_model.save(\"word2vec_model.bin\")\n",
        "# word2vec_model = Word2Vec.load(\"word2vec_model.bin\")"
      ],
      "metadata": {
        "id": "qEY84Lnj00BG"
      },
      "execution_count": 7,
      "outputs": []
    },
    {
      "cell_type": "code",
      "source": [
        "# Get the word vectors for a specific word\n",
        "test_word = \"email\"\n",
        "word_vector = word2vec_model.wv[test_word]\n",
        "\n",
        "# Print similar words to a given word\n",
        "similar_words = word2vec_model.wv.most_similar(test_word)\n",
        "\n",
        "print(similar_words)"
      ],
      "metadata": {
        "colab": {
          "base_uri": "https://localhost:8080/"
        },
        "id": "UTRftqMc00dO",
        "outputId": "29f99350-a942-4670-d783-316ddb0c1df1"
      },
      "execution_count": 8,
      "outputs": [
        {
          "output_type": "stream",
          "name": "stdout",
          "text": [
            "[('mails', 0.9208160638809204), ('security', 0.9033337235450745), ('sending', 0.897658109664917), ('ignoring', 0.8975818753242493), ('e-mail', 0.8942431211471558), ('per', 0.8900400400161743), ('asynchronously', 0.8863750696182251), ('mail', 0.8855650424957275), ('blockquote', 0.8854019641876221), ('header', 0.8843525052070618)]\n"
          ]
        }
      ]
    },
    {
      "cell_type": "code",
      "source": [
        "# Print the word embeddings\n",
        "print(\"Word Embeddings:\")\n",
        "for word in word2vec_model.wv.index_to_key[:10]:\n",
        "    print(f\"{word}: {word2vec_model.wv[word]}\")"
      ],
      "metadata": {
        "colab": {
          "base_uri": "https://localhost:8080/"
        },
        "id": "gjtHi1ozy1--",
        "outputId": "a0d8ab32-96be-4d13-cf54-aca6cb049a13"
      },
      "execution_count": 9,
      "outputs": [
        {
          "output_type": "stream",
          "name": "stdout",
          "text": [
            "Word Embeddings:\n",
            "]: [-0.48775527  0.34751374  0.12362641  0.12933517 -0.40709224 -0.36200988\n",
            "  0.42077538  0.8169236   0.06179025 -0.31451592  0.37885264 -0.32001513\n",
            " -0.04421509  0.44466314 -0.5105584  -0.06969985  0.47644824  0.08947372\n",
            " -0.5501806  -1.0166625   0.21029821  0.17860776  0.53065133 -0.27036846\n",
            "  0.33360538  0.09166688 -0.32983047  0.1666479  -0.56393504 -0.267935\n",
            " -0.3856317  -0.03387238  0.33059317 -0.7794229   0.15844497  0.51239884\n",
            "  0.5724359  -0.4858555  -0.2559945  -0.5791774  -0.23015982  0.15019621\n",
            " -0.69442743 -0.25194573  0.5345018   0.01438071 -0.24547169  0.36738542\n",
            "  0.3460121   0.6390299   0.21682116  0.07913808 -0.14817394 -0.03391649\n",
            "  0.1766783  -0.05065046  0.5724981  -0.12562102 -0.8372116   0.57444805\n",
            " -0.05378275 -0.21728921 -0.70771307 -0.36021465 -0.12062174  0.43719304\n",
            " -0.10795347  0.2691947  -0.05148944  0.23651616 -0.09520102  0.32274076\n",
            " -0.00400902 -0.49952772  0.14152516 -0.0296546   0.1310525   0.09713107\n",
            " -0.14527322  0.01037022 -0.39873883  0.37966844  0.17928696  0.30619696\n",
            " -0.20676291  0.2884224  -0.13719422 -0.22290112  0.07142354  0.34359777\n",
            "  0.2959756   0.05494107  0.4686402   0.03415357  0.46167246  0.06610042\n",
            " -0.25712478 -0.53685606 -0.49594915  0.40377682]\n",
            "[: [-7.33158350e-01  3.71313959e-01  1.99550465e-01  2.25060508e-01\n",
            " -1.03362545e-01 -5.45386314e-01  3.83745253e-01  1.03509140e+00\n",
            "  4.75064181e-02 -2.16999397e-01  1.93829626e-01 -6.56468868e-01\n",
            " -1.70463398e-01  3.92170072e-01 -5.24667621e-01  1.80051118e-01\n",
            "  3.47567588e-01  1.16519295e-01 -5.52344859e-01 -1.08467531e+00\n",
            "  2.68699348e-01  3.59192967e-01  6.94094419e-01 -5.55022120e-01\n",
            "  4.72713530e-01  6.80770501e-02 -3.50076973e-01  9.40822437e-02\n",
            " -6.90877140e-01 -9.17703612e-04  2.11386085e-01 -1.01548821e-01\n",
            "  4.57098424e-01 -4.45386350e-01  2.38518849e-01  3.82999599e-01\n",
            "  4.39819336e-01 -4.32993650e-01  2.43449509e-02 -2.71042734e-01\n",
            "  2.81977784e-02  9.87561345e-02 -9.71207023e-01 -2.50174135e-01\n",
            "  4.28486317e-01  2.60012951e-02 -2.20521435e-01  3.38210970e-01\n",
            "  1.81876808e-01  4.56337154e-01  4.46706682e-01  3.70709365e-03\n",
            " -1.33157719e-03  1.44840047e-01  1.86661735e-01  3.05625468e-01\n",
            "  7.08225012e-01 -7.53652379e-02 -6.46795392e-01  7.31004179e-01\n",
            " -2.67265201e-01 -1.99110672e-01 -7.73803413e-01 -5.34992576e-01\n",
            " -3.47332567e-01  1.50927335e-01 -1.16447054e-01 -9.09348857e-03\n",
            " -6.62517771e-02  3.32971007e-01 -2.70504087e-01  1.10530525e-01\n",
            "  1.76915348e-01 -1.56421050e-01  4.17972468e-02 -1.81014359e-01\n",
            "  8.88186470e-02 -2.69577771e-01 -1.79896340e-01  1.93492651e-01\n",
            " -3.15106690e-01  4.93408293e-01  1.47606641e-01  8.28410611e-02\n",
            " -3.22744161e-01  2.86426395e-01 -2.47553006e-01 -4.29549873e-01\n",
            "  4.85729247e-01  3.74553412e-01  3.45626473e-01  2.89150607e-02\n",
            "  2.41289556e-01 -4.15989935e-01  2.67452657e-01  1.86676189e-01\n",
            "  4.81192395e-02 -5.30156255e-01 -5.76142550e-01  2.19312206e-01]\n",
            "'': [-0.08380247  0.13445905 -0.06844377 -0.2860798   0.04461242 -0.15134305\n",
            "  0.2764101   0.6910396  -0.02393293 -0.20023403  0.05772782 -0.44894475\n",
            "  0.29618746 -0.06894071  0.33283412 -0.16563782  0.14428867 -0.01076322\n",
            "  0.15747951 -0.56775934 -0.00644861 -0.11678908  0.12335426 -0.45083544\n",
            "  0.05481195  0.13746022 -0.0779934   0.10227054  0.02434357  0.09384958\n",
            "  0.17867027 -0.05141884 -0.12395529 -0.5549943  -0.03038836  0.38277423\n",
            "  0.04150939  0.04373839 -0.20129234 -0.15118903 -0.0797755  -0.2071231\n",
            " -0.1821294   0.03424345  0.66906875 -0.09124872 -0.07437617 -0.3155574\n",
            "  0.2941682   0.16441175  0.32798618 -0.07218377 -0.18995461 -0.29514393\n",
            " -0.42973518  0.22310549  0.06385889  0.03650833 -0.3189813  -0.00915786\n",
            "  0.14447598 -0.19582674  0.47827435  0.02211362 -0.12675858  0.50054795\n",
            " -0.14772235  0.61309046 -0.5938759   0.39626878  0.15947331  0.06774268\n",
            "  0.46210593  0.10261645  0.16696863  0.4577107  -0.01803969 -0.148214\n",
            " -0.29662117  0.2940388  -0.20667247 -0.29055575 -0.59191585  0.17606583\n",
            " -0.21324517 -0.20802258  0.11495747  0.25300562  0.63704747  0.01039669\n",
            "  0.16116394  0.21487117  0.2920186  -0.09172635  0.5544688   0.24999939\n",
            "  0.38547188  0.01025734  0.20833462 -0.1686415 ]\n",
            "``: [-0.4088032   0.3185377   0.12037649 -0.35465065  0.23818482 -0.27250755\n",
            "  0.32553923  0.760597    0.04726909 -0.28642935  0.3854854  -0.28704992\n",
            "  0.12091494 -0.31185952  0.36680356 -0.3537397   0.26688114 -0.17324407\n",
            " -0.17214294 -0.4839137   0.32524177 -0.07151121  0.4082255  -0.07745958\n",
            " -0.47986138  0.2602634  -0.08860814  0.26394224  0.23196748  0.11529479\n",
            "  0.03696242 -0.04829546  0.04492743 -0.6238884   0.0907188   0.5725305\n",
            "  0.3594767  -0.18114725 -0.3340525  -0.04738679  0.11814582 -0.2113584\n",
            "  0.01365108  0.26603386  0.80542505 -0.21811228 -0.09579135 -0.32824376\n",
            "  0.06574085  0.2571893   0.5567986  -0.17376989  0.01805849 -0.4702062\n",
            " -0.2915817   0.39781132  0.06608994  0.20828408 -0.10418722 -0.00223541\n",
            " -0.02624748  0.03866635  0.6223341   0.01435765  0.02716687  0.29739955\n",
            " -0.02484449  0.8214292  -0.40858838  0.09082484  0.2213427  -0.06890042\n",
            "  0.3728799   0.3859159   0.21098725  0.18069974 -0.11365376  0.24976602\n",
            " -0.24813263  0.3170033  -0.42412886  0.05699233 -0.3282933   0.15601608\n",
            " -0.14004514 -0.1384734   0.2705494   0.2622418   0.31576207 -0.2568956\n",
            "  0.3542607   0.10395814  0.24069403 -0.05584491  0.79270273  0.16886845\n",
            "  0.41640893 -0.3517534   0.02611594 -0.26268622]\n",
            ":: [-2.15316311e-01  1.62378073e-01 -3.69828902e-02  1.06977284e-01\n",
            "  2.22303942e-01 -3.70645374e-01  1.38919219e-01  7.81407952e-01\n",
            " -1.41693801e-01 -2.45627444e-02 -4.00058663e-04 -2.89664179e-01\n",
            " -1.95969030e-01  6.50977418e-02 -2.51587909e-02 -2.14035779e-01\n",
            "  8.36770087e-02  7.32195005e-02 -2.37008810e-01 -5.09506047e-01\n",
            " -2.68310644e-02 -3.68146628e-01  1.65132612e-01  1.57941744e-01\n",
            " -1.99469149e-01  1.00142263e-01 -2.65965253e-01  6.15898008e-03\n",
            " -2.96252877e-01 -9.95151252e-02  3.09772342e-01 -4.43425775e-02\n",
            "  2.45503888e-01 -6.14847362e-01 -5.67017943e-02  6.91751167e-02\n",
            "  2.06655208e-02  1.13551423e-01  6.63259029e-02 -2.58918375e-01\n",
            " -4.28589620e-02 -2.28888065e-01 -3.04220855e-01  2.26695240e-01\n",
            "  5.71894109e-01 -2.27297321e-01 -3.00094754e-01 -2.50367552e-01\n",
            "  3.75740945e-01  2.33023182e-01  3.91970634e-01 -4.66910273e-01\n",
            "  3.21259707e-01 -3.62927943e-01  2.47419383e-02  2.13698670e-02\n",
            "  1.02897540e-01 -3.94981615e-02  1.19336344e-01  3.97767238e-02\n",
            " -5.80055490e-02 -1.92100719e-01 -8.94537121e-02  2.16945652e-02\n",
            " -3.30594897e-01  2.47745708e-01 -4.42243740e-02  4.02382642e-01\n",
            " -8.08490440e-02  8.27812135e-01  9.41084400e-02  3.33117768e-02\n",
            "  3.41817528e-01  1.01669140e-01  4.71055984e-01  3.28049839e-01\n",
            "  4.62511694e-03 -2.51538698e-02 -2.19527945e-01 -3.84554386e-01\n",
            " -4.07077104e-01 -3.99413258e-01 -2.20825136e-01  2.75159687e-01\n",
            " -1.84373349e-01 -3.35845083e-01  4.29980516e-01 -4.51954603e-02\n",
            "  2.58376673e-02  4.56842184e-02  5.64963818e-01 -3.39631969e-03\n",
            "  6.25223992e-03 -3.27422231e-01  6.90773308e-01  1.19704932e-01\n",
            "  3.19618851e-01  6.94857761e-02  3.63568842e-01 -2.21902668e-01]\n",
            "(: [ 1.55077785e-01 -1.85387641e-01  8.76851901e-02 -1.02338418e-01\n",
            " -2.14678541e-01 -4.23931122e-01  3.28169256e-01  6.52629495e-01\n",
            " -2.54267722e-01 -2.76793092e-01 -2.30620772e-01 -6.01928413e-01\n",
            " -1.01785257e-01  7.28042750e-03  8.64059627e-02 -3.93318124e-02\n",
            "  2.22136825e-01 -2.10168809e-02  2.90003300e-01 -2.73749858e-01\n",
            " -2.08473995e-01  8.27462524e-02  2.06253320e-01  1.90054644e-02\n",
            "  3.99957113e-02 -2.14570716e-01 -2.13151142e-01 -2.36564144e-01\n",
            "  1.49924932e-02  9.46325660e-02  2.64184773e-01 -1.99546680e-01\n",
            "  4.46043462e-02 -5.96668363e-01  4.13904674e-02  4.65758711e-01\n",
            "  2.23606303e-01 -1.20295286e-01  1.50004640e-01 -5.44555902e-01\n",
            "  1.69631571e-01 -3.87241572e-01 -3.36277068e-01  1.08585358e-01\n",
            "  3.53603035e-01  6.97635487e-02 -4.46415752e-01  1.06914192e-01\n",
            "  2.99356461e-01  3.97997093e-04 -3.18083242e-02 -3.04985940e-01\n",
            "  9.64999944e-02  1.28600225e-01 -5.58862567e-01  6.85023665e-02\n",
            "  5.57038069e-01 -3.19011956e-01 -1.20946683e-03 -1.40359655e-01\n",
            "  3.10172468e-01  7.66742527e-02  5.95955372e-01  3.19015458e-02\n",
            " -7.96554163e-02  2.40786478e-01 -1.72384635e-01  2.66656190e-01\n",
            " -7.74870157e-01  2.13803500e-02 -2.62543801e-02 -9.99332312e-03\n",
            "  3.64701003e-01  1.94817647e-01  6.10711753e-01  1.44637346e-01\n",
            " -2.51924872e-01  2.29152516e-02 -1.84537962e-01  1.86057672e-01\n",
            "  1.09826803e-01 -3.19514543e-01  1.93617538e-01  1.75332859e-01\n",
            " -1.56079948e-01 -1.99346691e-01  1.49254009e-01  3.10378611e-01\n",
            "  5.21206446e-02 -8.03707838e-02  4.00723517e-01  2.66847730e-01\n",
            " -4.33929041e-02  7.57680461e-02  4.23460186e-01  4.22329724e-01\n",
            "  3.66190337e-02 -4.44172829e-01  8.47758800e-02 -2.76195019e-01]\n",
            "): [ 0.12614265 -0.09884086  0.19093797 -0.06651545 -0.04761659 -0.39461866\n",
            "  0.45178756  0.70003885 -0.1674853  -0.27431703 -0.07541606 -0.46697703\n",
            "  0.0197604   0.2744494   0.01997664  0.10821789  0.507635    0.154753\n",
            "  0.18278302 -0.51576805 -0.11027178 -0.08603378  0.4079873  -0.01603762\n",
            "  0.20145434 -0.13671607 -0.34145465 -0.11390784  0.01098418  0.02138154\n",
            "  0.35051844  0.29871175  0.06142779 -0.42391646 -0.12897442  0.45839804\n",
            " -0.04578231 -0.43398267 -0.07136358 -0.5907611   0.18105893 -0.3314363\n",
            "  0.06360777 -0.18881336  0.34104234  0.21166925 -0.56072694 -0.27810585\n",
            "  0.03253473 -0.07171804  0.10038161 -0.25986272 -0.21518616  0.03758516\n",
            " -0.44587603 -0.05194199  0.109765   -0.4828411  -0.05421994 -0.06339329\n",
            "  0.09033498  0.2061256   0.45608205  0.24930911 -0.22988933  0.18600965\n",
            " -0.22632994  0.10738372 -0.7511964   0.00094265 -0.04543027 -0.01188362\n",
            "  0.14424388  0.17227739  0.725836   -0.11762615  0.05122854  0.07808498\n",
            " -0.2558892   0.17724086  0.16848642 -0.27231687 -0.17240356  0.26640534\n",
            " -0.38427874 -0.35334384  0.5374305   0.09455389 -0.0360381  -0.19955851\n",
            "  0.28648946  0.15212426  0.20996939 -0.02403975  0.43783054  0.28979552\n",
            "  0.3570958  -0.37364784  0.07250648 -0.07597972]\n",
            ",: [ 0.03045533 -0.03479739  0.2569164  -0.1551161  -0.05058667 -0.30772585\n",
            "  0.15955769  0.5174036  -0.10961739 -0.12515445 -0.08785158 -0.36010242\n",
            "  0.15868814 -0.14331107  0.19791886  0.05559012  0.23630692 -0.29265025\n",
            "  0.09233212 -0.3827254   0.1511555   0.27577636 -0.08279347 -0.33669552\n",
            " -0.00830383 -0.01558345 -0.33536196  0.00876142 -0.01337705  0.03194533\n",
            "  0.09192142  0.2312623  -0.02474521 -0.3137821  -0.17221425  0.21387747\n",
            " -0.02865529 -0.34290576 -0.05739694 -0.5028852   0.0993977  -0.3470682\n",
            "  0.28341058 -0.06595039  0.51108927 -0.35747522 -0.52576184 -0.2140926\n",
            "  0.04521493  0.17359976 -0.07281129 -0.14832833  0.12882242 -0.16604087\n",
            " -0.22998485  0.05623974  0.29871717  0.01824205  0.06609283  0.1133896\n",
            "  0.22862688 -0.04606709  0.24106833  0.20307194 -0.2761865   0.21514167\n",
            " -0.17546023  0.22262616 -0.56430566  0.2163488   0.02879212 -0.01492207\n",
            "  0.30572024 -0.04264182  0.3201841   0.03944124  0.06949198 -0.18758355\n",
            " -0.15847701  0.10040893  0.02052591 -0.30302602 -0.564182    0.3303416\n",
            " -0.13032389 -0.12406907  0.32055476  0.44436875  0.4976627  -0.21818784\n",
            "  0.05318427  0.06899405 -0.03412734  0.2571638   0.4523785   0.24301223\n",
            "  0.13587224 -0.12853664  0.32818744 -0.08498456]\n",
            "api: [-0.45571393  0.6236061  -0.04078337  0.3001874   0.00450247 -0.08690468\n",
            "  0.4974873   0.5219495  -0.11439176  0.30001342  0.04683391 -0.61836547\n",
            "  0.29830477 -0.15396893  0.4462394  -0.5607746   0.03216904 -0.6589006\n",
            " -0.5220636  -0.62597406  0.40189263  0.4149823   0.29831752 -0.28388995\n",
            "  0.03102839 -0.26719996 -0.34896997 -1.0113047  -0.04229464 -0.45746842\n",
            "  0.541707   -0.55434054  0.6469576  -0.08370486 -0.2879553   0.5569\n",
            " -0.3906718   0.15309326 -0.09844749 -0.84557486 -0.17122525 -0.02955672\n",
            "  0.10162352 -0.13127509  0.47687247 -0.37700278 -0.18088795  0.2303329\n",
            " -0.27051985  0.62888855 -0.18671766 -0.21163541 -0.31023955 -0.11788213\n",
            " -0.04140246  0.08641506  0.873883   -0.3151618   0.09145042 -0.08419399\n",
            " -0.12106045 -0.1907589   0.37464726 -0.2935833  -0.866749    0.20095877\n",
            " -0.6213955   0.29976073 -0.61263984  0.8775907  -0.4372065   0.32939196\n",
            "  0.6183378   0.26890165  0.3753827  -0.22590688 -0.1648867  -0.39175177\n",
            " -0.974021   -0.22998296 -0.47172293 -0.37368742 -0.34344518  0.5817973\n",
            "  0.00479528 -0.03792397  0.24608752 -0.09354477 -0.04616047  0.06957053\n",
            " -0.05247247  0.05865255  0.0216955  -0.18667032  0.6308132   0.4591753\n",
            " -0.22345996  0.0057734   0.13047849 -0.3852212 ]\n",
            "tab: [-2.42876306e-01  1.21445805e-01  6.05016276e-02 -4.04324830e-02\n",
            "  5.61146848e-02 -5.56875050e-01 -1.65232703e-01  8.57720315e-01\n",
            "  6.94084466e-02 -3.37771147e-01  4.09560174e-01 -5.23744226e-01\n",
            "  1.71028331e-01 -2.62043983e-01 -4.58115414e-02  9.85661149e-02\n",
            "  2.54927725e-01 -4.97889251e-01  8.82041752e-02 -8.43750954e-01\n",
            " -3.56863350e-01  3.15963030e-01  5.71944565e-02 -3.03836793e-01\n",
            " -3.21461946e-01  1.85880482e-01 -4.63045031e-01  3.05924743e-01\n",
            " -2.34294713e-01  4.65635471e-02 -9.66921449e-02  1.57461569e-01\n",
            "  9.00622159e-02 -3.87405276e-01 -1.82120442e-01  4.73497808e-01\n",
            "  4.34364617e-01 -5.16643643e-01 -2.74290383e-01 -3.07173550e-01\n",
            "  2.26916224e-01 -3.96490157e-01 -1.10218987e-01 -9.59757436e-03\n",
            "  6.43330514e-01 -2.89019138e-01 -3.23384941e-01 -1.91686839e-01\n",
            "  4.19209719e-01  1.49966955e-01  3.29829097e-01 -7.10794032e-02\n",
            "  2.98364669e-01  4.04531689e-04 -3.27776462e-01 -1.06103763e-01\n",
            "  1.35194376e-01  5.23093715e-02 -2.07446724e-01 -1.85800847e-02\n",
            " -1.08361416e-01 -1.47234201e-01  2.13082567e-01  3.26325595e-02\n",
            " -2.18761697e-01  8.70288312e-02 -2.89224625e-01  1.66044399e-01\n",
            " -5.52202880e-01  1.55385658e-01 -1.26706406e-01  2.33739555e-01\n",
            "  5.28749526e-02 -4.15762216e-01  2.63681024e-01  3.30961794e-01\n",
            "  6.94462284e-02 -2.36933120e-02 -1.01682760e-01  2.81671673e-01\n",
            "  9.58023146e-02 -2.50837177e-01 -5.50734699e-01  4.91387695e-01\n",
            " -1.53320298e-01  1.05525702e-01 -2.83569813e-01  3.50702792e-01\n",
            "  6.26376629e-01  4.59169567e-01 -3.10352258e-02  3.80021304e-01\n",
            " -9.33397040e-02  2.02498987e-01  8.69552374e-01  2.50370279e-02\n",
            "  2.19038829e-01  9.04477318e-04  3.84310663e-01  1.13202095e-01]\n"
          ]
        }
      ]
    },
    {
      "cell_type": "code",
      "source": [
        "# Derive document embeddings by averaging word embeddings\n",
        "document_embeddings = np.array([np.mean([word2vec_model.wv[word] for word in report if word in word2vec_model.wv], axis=0) for report in tokenized_bug_reports])\n",
        "\n",
        "print(document_embeddings.shape)"
      ],
      "metadata": {
        "colab": {
          "base_uri": "https://localhost:8080/"
        },
        "id": "9bPd5d3k2Wfm",
        "outputId": "53304e36-7831-4ca2-dd43-7bc078c433b4"
      },
      "execution_count": 10,
      "outputs": [
        {
          "output_type": "stream",
          "name": "stdout",
          "text": [
            "(14710, 100)\n"
          ]
        }
      ]
    },
    {
      "cell_type": "code",
      "source": [
        "#  visualize clusters or perform further analysis\n",
        "import matplotlib.pyplot as plt\n",
        "\n",
        "# Visualize clusters\n",
        "def visualize_clusters(embeddings, clusters):\n",
        "    # Define colors for each cluster (including noise points)\n",
        "    unique_clusters = np.unique(clusters)\n",
        "    colors = [plt.cm.Spectral(each) for each in np.linspace(0, 1, len(unique_clusters))]\n",
        "\n",
        "    # Plot data points with cluster assignments\n",
        "    for cluster_id, color in zip(unique_clusters, colors):\n",
        "        if cluster_id == -1:\n",
        "            # Noise points (cluster_id = -1)\n",
        "            plt.scatter(embeddings[clusters == cluster_id][:, 0], embeddings[clusters == cluster_id][:, 1], color='black', label='Noise')\n",
        "        else:\n",
        "            # Core and border points\n",
        "            plt.scatter(embeddings[clusters == cluster_id][:, 0], embeddings[clusters == cluster_id][:, 1], color=color, label=f'Cluster {cluster_id}')\n",
        "\n",
        "    # Add legend and labels\n",
        "    plt.legend()\n",
        "    plt.xlabel('Dimension 1')\n",
        "    plt.ylabel('Dimension 2')\n",
        "    plt.title('Clustering')\n",
        "\n",
        "    # Show plot\n",
        "    plt.show()\n"
      ],
      "metadata": {
        "id": "m4dTGsTg8nHL"
      },
      "execution_count": 11,
      "outputs": []
    },
    {
      "cell_type": "code",
      "source": [
        "import csv\n",
        "\n",
        "def store_cluster_assignments(clusters, bug_reports, output_file):\n",
        "    # Create a dictionary to store bug reports for each cluster\n",
        "    cluster_reports = {}\n",
        "    for i, cluster_label in enumerate(clusters):\n",
        "        if cluster_label not in cluster_reports:\n",
        "            cluster_reports[cluster_label] = []\n",
        "        cluster_reports[cluster_label].append(bug_reports[i])\n",
        "\n",
        "    # Write cluster assignments to CSV file\n",
        "    with open(output_file, mode='w', newline='', encoding='utf-8') as file:\n",
        "        writer = csv.writer(file)\n",
        "        writer.writerow(['Cluster', 'Bug Report'])\n",
        "        for cluster_label, reports in cluster_reports.items():\n",
        "            if cluster_label == -1:\n",
        "                cluster_name = 'Noise'\n",
        "            else:\n",
        "                cluster_name = f'Cluster {cluster_label}'\n",
        "            for report in reports:\n",
        "                writer.writerow([cluster_name, report])\n",
        "\n",
        "    print(f\"Cluster assignments saved to '{output_file}'\")\n"
      ],
      "metadata": {
        "id": "ppwTcQg08_Lb"
      },
      "execution_count": 12,
      "outputs": []
    },
    {
      "cell_type": "code",
      "source": [
        "from sklearn.cluster import KMeans\n",
        "\n",
        "# Create KMeans object\n",
        "kmeans = KMeans(n_clusters=5, random_state=42)\n",
        "\n",
        "# Fit KMeans clustering on document embeddings\n",
        "kmeans.fit(document_embeddings)\n",
        "\n",
        "# Predict cluster labels\n",
        "kmeans_clusters = kmeans.predict(document_embeddings)\n",
        "\n"
      ],
      "metadata": {
        "id": "Ok8aJC9-6hmj",
        "colab": {
          "base_uri": "https://localhost:8080/"
        },
        "outputId": "fe737a3c-9dc6-4dcc-8622-37abb5ffd905"
      },
      "execution_count": 13,
      "outputs": [
        {
          "output_type": "stream",
          "name": "stderr",
          "text": [
            "/usr/local/lib/python3.10/dist-packages/sklearn/cluster/_kmeans.py:870: FutureWarning: The default value of `n_init` will change from 10 to 'auto' in 1.4. Set the value of `n_init` explicitly to suppress the warning\n",
            "  warnings.warn(\n"
          ]
        }
      ]
    },
    {
      "cell_type": "code",
      "source": [
        "\n",
        "# Visualize clusters (optional)\n",
        "visualize_clusters(document_embeddings, kmeans_clusters)\n",
        "\n",
        "\n"
      ],
      "metadata": {
        "colab": {
          "base_uri": "https://localhost:8080/",
          "height": 472
        },
        "id": "QH7He7Xn9Dyq",
        "outputId": "9cd22b4c-ac72-40e7-b030-d6c5a5a3cadb"
      },
      "execution_count": 14,
      "outputs": [
        {
          "output_type": "display_data",
          "data": {
            "text/plain": [
              "<Figure size 640x480 with 1 Axes>"
            ],
            "image/png": "[encoded data removed]"
          },
          "metadata": {}
        }
      ]
    },
    {
      "cell_type": "code",
      "source": [
        "# Store cluster assignments in CSV file (optional)\n",
        "store_cluster_assignments(kmeans_clusters, bug_reports, \"kmeans_cluster_assignments.csv\")"
      ],
      "metadata": {
        "colab": {
          "base_uri": "https://localhost:8080/"
        },
        "id": "l3h3xm3s9ElJ",
        "outputId": "c6b792b0-ce39-4e41-8f04-874dad372666"
      },
      "execution_count": 15,
      "outputs": [
        {
          "output_type": "stream",
          "name": "stdout",
          "text": [
            "Cluster assignments saved to 'kmeans_cluster_assignments.csv'\n"
          ]
        }
      ]
    },
    {
      "cell_type": "code",
      "source": [
        "from sklearn.metrics import silhouette_score, davies_bouldin_score\n",
        "\n",
        "# Compute Silhouette Score\n",
        "silhouette_avg = silhouette_score(document_embeddings, kmeans_clusters)\n",
        "print(f\"Silhouette Score: {silhouette_avg}\")\n",
        "\n",
        "# Compute Davies–Bouldin Index\n",
        "db_index = davies_bouldin_score(document_embeddings, kmeans_clusters)\n",
        "print(f\"Davies–Bouldin Index: {db_index}\")\n",
        "\n",
        "\n",
        "#the Silhouette Score is 0.080 and the Davies–Bouldin Index is 2.053.\n",
        "# These values suggest that the clustering quality may not be optimal,\n",
        "# as the Silhouette Score is relatively low and the Davies–Bouldin Index is higher than expected."
      ],
      "metadata": {
        "colab": {
          "base_uri": "https://localhost:8080/"
        },
        "id": "adswC-AR9wE6",
        "outputId": "ff07ddee-fe8e-45c8-fe6f-5ac35cf42a46"
      },
      "execution_count": 17,
      "outputs": [
        {
          "output_type": "stream",
          "name": "stdout",
          "text": [
            "Silhouette Score: 0.23802728950977325\n",
            "Davies–Bouldin Index: 1.4320354436095655\n"
          ]
        }
      ]
    }
  ]
}