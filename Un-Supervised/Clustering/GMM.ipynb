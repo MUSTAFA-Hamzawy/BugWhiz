{
  "nbformat": 4,
  "nbformat_minor": 0,
  "metadata": {
    "colab": {
      "provenance": []
    },
    "kernelspec": {
      "name": "python3",
      "display_name": "Python 3"
    },
    "language_info": {
      "name": "python"
    }
  },
  "cells": [
    {
      "cell_type": "code",
      "execution_count": null,
      "metadata": {
        "id": "MY79wHSZv3mS"
      },
      "outputs": [],
      "source": [
        "import pandas as pd\n",
        "import nltk\n",
        "from nltk.corpus import stopwords\n",
        "from nltk.tokenize import word_tokenize\n",
        "from sklearn.feature_extraction.text import TfidfVectorizer\n",
        "from sklearn.feature_extraction.text import ENGLISH_STOP_WORDS\n",
        "from sklearn.decomposition import TruncatedSVD\n",
        "from gensim.models import Word2Vec\n",
        "import numpy as np"
      ]
    },
    {
      "cell_type": "code",
      "source": [
        "# Download NLTK resources\n",
        "nltk.download('punkt')\n",
        "nltk.download('stopwords')"
      ],
      "metadata": {
        "colab": {
          "base_uri": "https://localhost:8080/"
        },
        "id": "7CFExmf40fV3",
        "outputId": "3a1700b0-9138-4439-e6ab-c64d22d443f8"
      },
      "execution_count": null,
      "outputs": [
        {
          "output_type": "stream",
          "name": "stderr",
          "text": [
            "[nltk_data] Downloading package punkt to /root/nltk_data...\n",
            "[nltk_data]   Package punkt is already up-to-date!\n",
            "[nltk_data] Downloading package stopwords to /root/nltk_data...\n",
            "[nltk_data]   Package stopwords is already up-to-date!\n"
          ]
        },
        {
          "output_type": "execute_result",
          "data": {
            "text/plain": [
              "True"
            ]
          },
          "metadata": {},
          "execution_count": 5
        }
      ]
    },
    {
      "cell_type": "code",
      "source": [
        "# Load the bug reports dataset\n",
        "data = pd.read_excel(\"train.xlsx\")\n",
        "bug_reports = data['report']\n",
        "\n",
        "# Tokenize bug reports and remove empty strings or tokens consisting only of spaces\n",
        "stop_words = set(stopwords.words('english'))\n",
        "tokenized_bug_reports = [[word.lower() for word in word_tokenize(report) if word.strip() and word.strip() not in stop_words] for report in bug_reports]\n",
        "\n",
        "# Train Word2Vec model\n",
        "word2vec_model = Word2Vec(sentences=tokenized_bug_reports, vector_size=100, window=5, min_count=1, sg=1)\n",
        "\n",
        "\n",
        "\n"
      ],
      "metadata": {
        "id": "rdlenX17v4qO"
      },
      "execution_count": null,
      "outputs": []
    },
    {
      "cell_type": "code",
      "source": [
        "# Train Word2Vec model\n",
        "word2vec_model = Word2Vec(sentences=tokenized_bug_reports, vector_size=100, window=5, min_count=1, sg=1)"
      ],
      "metadata": {
        "id": "LU1z817o2DX2"
      },
      "execution_count": null,
      "outputs": []
    },
    {
      "cell_type": "code",
      "source": [
        "tokenized_bug_reports[:3]\n"
      ],
      "metadata": {
        "colab": {
          "base_uri": "https://localhost:8080/"
        },
        "id": "yg2xazmY1Qdd",
        "outputId": "25085d21-b403-4756-e744-f184a4bcd962"
      },
      "execution_count": null,
      "outputs": [
        {
          "output_type": "execute_result",
          "data": {
            "text/plain": [
              "[['``',\n",
              "  'for',\n",
              "  'event',\n",
              "  'bookmarked',\n",
              "  'projects',\n",
              "  \"''\",\n",
              "  'option',\n",
              "  'sending',\n",
              "  'notifications',\n",
              "  'non-member',\n",
              "  'bookmarked',\n",
              "  'projects'],\n",
              " ['switch', 'using', 'full', 'l10n', 'id', \"'s\", 'urlbar'],\n",
              " ['consider', 'removing', 'hasicon', 'property', 'simplify', 'styling']]"
            ]
          },
          "metadata": {},
          "execution_count": 29
        }
      ]
    },
    {
      "cell_type": "code",
      "source": [
        "# Save or load Word2Vec model (optional)\n",
        "# word2vec_model.save(\"word2vec_model.bin\")\n",
        "# word2vec_model = Word2Vec.load(\"word2vec_model.bin\")"
      ],
      "metadata": {
        "id": "qEY84Lnj00BG"
      },
      "execution_count": null,
      "outputs": []
    },
    {
      "cell_type": "code",
      "source": [
        "# Get the word vectors for a specific word\n",
        "test_word = \"email\"\n",
        "word_vector = word2vec_model.wv[test_word]\n",
        "\n",
        "# Print similar words to a given word\n",
        "similar_words = word2vec_model.wv.most_similar(test_word)\n",
        "\n",
        "print(similar_words)"
      ],
      "metadata": {
        "colab": {
          "base_uri": "https://localhost:8080/"
        },
        "id": "UTRftqMc00dO",
        "outputId": "82aaf78f-c710-45d6-9dac-66e166eabae6"
      },
      "execution_count": null,
      "outputs": [
        {
          "output_type": "stream",
          "name": "stdout",
          "text": [
            "[('mails', 0.9170035719871521), ('security', 0.9113664627075195), ('ignoring', 0.9091843366622925), ('e-mail', 0.9079545736312866), ('asynchronously', 0.9078869223594666), ('sending', 0.9012488722801208), ('send', 0.899113655090332), ('blockquote', 0.8954305648803711), ('header', 0.8928280472755432), ('notification', 0.8907178044319153)]\n"
          ]
        }
      ]
    },
    {
      "cell_type": "code",
      "source": [
        "# Print the word embeddings\n",
        "print(\"Word Embeddings:\")\n",
        "for word in word2vec_model.wv.index_to_key[:10]:\n",
        "    print(f\"{word}: {word2vec_model.wv[word]}\")"
      ],
      "metadata": {
        "colab": {
          "base_uri": "https://localhost:8080/"
        },
        "id": "gjtHi1ozy1--",
        "outputId": "bb3a87bd-75a0-4d0c-f6c3-dc6287cb6972"
      },
      "execution_count": null,
      "outputs": [
        {
          "output_type": "stream",
          "name": "stdout",
          "text": [
            "Word Embeddings:\n",
            "]: [-0.6271532   0.53290254  0.13806428  0.16274333 -0.2810106  -0.44703978\n",
            "  0.5002977   0.93884087 -0.161536   -0.24800996  0.2580331  -0.22471358\n",
            " -0.07773109  0.4219651  -0.37959316 -0.10209034  0.3008912   0.03555882\n",
            " -0.52577674 -1.1284969   0.33386013  0.19191398  0.36204714 -0.20566839\n",
            "  0.3819246  -0.12775978 -0.29534373  0.18408436 -0.5965072  -0.2684282\n",
            " -0.2340612  -0.15711585  0.31758466 -0.64148086  0.25746596  0.35354277\n",
            "  0.6304358  -0.3907594  -0.2409116  -0.37379855 -0.1902253   0.2677595\n",
            " -0.61159104 -0.14370087  0.31812832  0.08687482 -0.17681515  0.3591097\n",
            "  0.32458314  0.5801457   0.02351629  0.01417258 -0.21037276 -0.02564921\n",
            "  0.19545645 -0.18476844  0.5803009  -0.22520317 -0.6386946   0.6734824\n",
            " -0.17732862 -0.1454463  -0.6281573  -0.45558152 -0.17794043  0.42183658\n",
            " -0.15191056  0.28329545 -0.05008537  0.3277103  -0.31819165  0.23936538\n",
            "  0.07902338 -0.3586095   0.17268191  0.12872946  0.1238176   0.12526596\n",
            " -0.16574396  0.07174305 -0.30371118  0.4261689   0.19725904  0.3283485\n",
            " -0.21392414  0.22651206 -0.12351126 -0.2513982   0.2583682   0.42133948\n",
            "  0.3965796   0.01009     0.40448844 -0.1192487   0.5087402   0.09126894\n",
            " -0.29972374 -0.6335182  -0.32775456  0.3043456 ]\n",
            "[: [-0.82429147  0.31710422  0.12269337  0.27414805 -0.13384655 -0.5004609\n",
            "  0.3749585   1.0853459   0.06876196 -0.41671583  0.11722136 -0.50925386\n",
            " -0.2614841   0.34931952 -0.45766535  0.08057314  0.3232597   0.1307341\n",
            " -0.49499676 -1.0357337   0.36941472  0.40736645  0.59920245 -0.6910225\n",
            "  0.43720192  0.07306316 -0.45608208  0.08465365 -0.48201188  0.14727141\n",
            "  0.20954776 -0.16589849  0.45922804 -0.6114839   0.24798334  0.41123503\n",
            "  0.44970223 -0.40188253  0.04706994 -0.28769505  0.16405682 -0.00691741\n",
            " -0.81331676 -0.28244317  0.3608552  -0.09170721 -0.24633141  0.27443573\n",
            "  0.16909127  0.59424114  0.32188234 -0.11481252 -0.06912003  0.19773185\n",
            "  0.18939039  0.18586172  0.7138705   0.08472956 -0.49505398  0.7790109\n",
            " -0.08604471 -0.04997379 -0.6313265  -0.48059872 -0.32263103  0.17469275\n",
            " -0.08515018  0.0889575   0.01454545  0.48411363 -0.3887191  -0.01226807\n",
            "  0.22520018 -0.06862023  0.18112724 -0.17308219 -0.06437451 -0.2403596\n",
            " -0.08681717  0.25737002 -0.36079377  0.516834    0.0542214   0.12026969\n",
            " -0.1519977   0.2605095  -0.16691653 -0.5532656   0.33068675  0.21736391\n",
            "  0.26609358 -0.09717428  0.3450968  -0.55598783  0.2140042   0.27623746\n",
            "  0.03461285 -0.5097967  -0.5382705   0.24901077]\n",
            "'': [-0.1050863   0.27245975 -0.02846443 -0.25205192  0.05823607 -0.10173797\n",
            "  0.30645934  0.76128733 -0.06093622 -0.19177382  0.01049223 -0.29264933\n",
            "  0.293596    0.03251772  0.22002204 -0.23045395  0.19482084  0.01370554\n",
            "  0.24193697 -0.60981613  0.01377122 -0.40700248  0.07705817 -0.41997752\n",
            " -0.08510006  0.17747033 -0.03258533  0.04916377 -0.15331905 -0.01447777\n",
            "  0.13876477 -0.07084706 -0.05809189 -0.55236185  0.03919876  0.41293097\n",
            " -0.02471409  0.07311681 -0.17410962 -0.2760515  -0.01015842 -0.13811827\n",
            " -0.09059179  0.07537024  0.6391994  -0.14737512 -0.02078668 -0.32209858\n",
            "  0.285253    0.0554376   0.34947982  0.03050507 -0.17892057 -0.2277996\n",
            " -0.4947001   0.19969691  0.16757874 -0.07917824 -0.29494435 -0.10661003\n",
            "  0.15245152 -0.19867168  0.4390056  -0.0522809  -0.1422872   0.5094414\n",
            " -0.12163823  0.6602715  -0.523521    0.27948812  0.04597178  0.0758026\n",
            "  0.21912184  0.14712681  0.12970561  0.40504816  0.02722895 -0.06924621\n",
            " -0.22135615  0.28228933 -0.26111665 -0.25823006 -0.4898868   0.30262148\n",
            " -0.26396233 -0.28719652  0.04098395  0.09936371  0.5726365   0.07309911\n",
            "  0.13504894  0.20919101  0.34531906 -0.10902265  0.7085211   0.38679203\n",
            "  0.3344249  -0.03884523  0.4000188  -0.21728043]\n",
            "``: [-0.35974374  0.394442    0.13060847 -0.23788808  0.09996147 -0.2629836\n",
            "  0.2381144   0.82543725  0.12396649 -0.3152893   0.17512093 -0.3553234\n",
            "  0.16410722 -0.33386797  0.3425482  -0.44446778  0.22600128 -0.17706943\n",
            " -0.1473591  -0.52139753  0.26967528 -0.13600469  0.30715355 -0.23666033\n",
            " -0.5505698   0.12366946 -0.26069012  0.14770165  0.11062901  0.13018644\n",
            "  0.01549667 -0.10642597 -0.08945794 -0.55406606  0.06883106  0.51430434\n",
            "  0.2198595  -0.16075164 -0.22975668 -0.19638972  0.05058501 -0.19703865\n",
            "  0.09978203  0.2867667   0.6022068  -0.3019863   0.02066049 -0.34035078\n",
            "  0.05816852  0.1659513   0.5028801  -0.00614689 -0.07263476 -0.5402499\n",
            " -0.22078666  0.35740098  0.07800363  0.18378831 -0.06782446  0.00691991\n",
            "  0.03927424 -0.05018627  0.48971015 -0.09964411 -0.02388023  0.35137716\n",
            "  0.04774752  0.79174566 -0.2648016   0.08031256  0.0805779  -0.08058163\n",
            "  0.29109964  0.4445076   0.16194057  0.0739364  -0.14815815  0.11732852\n",
            " -0.19377571  0.31002116 -0.489909    0.18213898 -0.24813984  0.34190294\n",
            " -0.3433084  -0.11793651  0.15727895  0.16908127  0.3202705  -0.2623118\n",
            "  0.1937627   0.06463507  0.26334095 -0.07203808  0.7755294   0.15631628\n",
            "  0.38552698 -0.2867905   0.09312069 -0.28180096]\n",
            ":: [-0.26330927  0.11513919  0.1254259   0.17037082  0.2222112  -0.3446586\n",
            "  0.15769929  0.63303727 -0.21405612 -0.1506764  -0.07960146 -0.4488399\n",
            " -0.12505499  0.11458357  0.03231079 -0.17753291  0.02029596  0.10105666\n",
            " -0.1869842  -0.60750896 -0.15716235 -0.3694829   0.08993085  0.05866091\n",
            " -0.22048816  0.0334226  -0.26927418 -0.05987298 -0.28903702 -0.09148219\n",
            "  0.23288451 -0.10040557  0.09654598 -0.6641517   0.04011309  0.14358455\n",
            "  0.04474768  0.154552    0.18656197 -0.38295636  0.0718022  -0.23813064\n",
            " -0.27716944  0.18742411  0.4218587  -0.2403769  -0.41438705 -0.24749947\n",
            "  0.50892204  0.03696148  0.25508285 -0.440238    0.28665173 -0.27032208\n",
            " -0.07027707 -0.02102131  0.12281772 -0.00128474  0.22057743  0.01077608\n",
            " -0.02165571 -0.11442087 -0.03352367  0.06067128 -0.27804604  0.19309975\n",
            "  0.08741388  0.4558548  -0.04435093  0.76171035  0.07655393 -0.01800488\n",
            "  0.23612554  0.1116763   0.35765883  0.24152894  0.00455329 -0.13355558\n",
            " -0.16976891 -0.4340068  -0.30268392 -0.44577765 -0.00900912  0.26096347\n",
            " -0.25969252 -0.20791624  0.38827246 -0.16426449  0.10323878  0.16260804\n",
            "  0.52266777 -0.065879    0.07569601 -0.17837574  0.66621745  0.24352378\n",
            "  0.2264598  -0.11018454  0.46781063 -0.13323213]\n",
            "(: [-0.04265027 -0.23095302 -0.00280211 -0.23468705 -0.3076756  -0.36846402\n",
            "  0.28886712  0.7451628  -0.18461627 -0.23939097 -0.27497953 -0.39733592\n",
            " -0.10698611  0.01851984  0.14985217 -0.17113362  0.17196703 -0.03918213\n",
            "  0.25084397 -0.28353158 -0.2809766  -0.02246703  0.27653515  0.07203513\n",
            "  0.09651715 -0.09321059 -0.2947144  -0.25615504  0.08915157  0.03221996\n",
            "  0.19832611 -0.22529523  0.036227   -0.6580357   0.08036253  0.42104512\n",
            "  0.25356257 -0.0815139   0.13221563 -0.4712299   0.10346442 -0.20386022\n",
            " -0.34325564  0.0258106   0.14021128 -0.00884045 -0.47178254  0.21609402\n",
            "  0.29827905  0.00509612 -0.02246927 -0.32846618  0.147015    0.18331288\n",
            " -0.4601611   0.18911101  0.5006321  -0.23131213 -0.03866229 -0.14658041\n",
            "  0.4134862  -0.00223436  0.5420216  -0.07734359 -0.10699001  0.31646967\n",
            " -0.07623518  0.25315508 -0.7125424  -0.03112583  0.0363932   0.12958284\n",
            "  0.3109616   0.29051045  0.5353244   0.1750748  -0.17797375  0.18481624\n",
            " -0.08502697  0.2661864   0.03965306 -0.34443498  0.20246099  0.10126796\n",
            " -0.24889718 -0.28306726  0.10531779  0.44715288  0.03049188 -0.11751858\n",
            "  0.49001473  0.2877132  -0.12576878  0.20286055  0.6168579   0.35206455\n",
            "  0.04369477 -0.5601883  -0.0213246  -0.13164908]\n",
            "): [ 0.12902832 -0.15184973  0.17338671 -0.12605047 -0.15090433 -0.44562167\n",
            "  0.46627945  0.68794817 -0.16168877 -0.26916492 -0.03900549 -0.3272204\n",
            " -0.05971587  0.32703298 -0.01636411  0.06492669  0.4437955   0.19797587\n",
            "  0.30927277 -0.52587837 -0.0092925  -0.0929025   0.45255613 -0.00970011\n",
            "  0.26346764 -0.05411729 -0.2816074  -0.0226186   0.11162488 -0.07150534\n",
            "  0.293139    0.29855236  0.07012314 -0.4472328  -0.0665405   0.2928433\n",
            " -0.00108661 -0.41678414 -0.04037426 -0.69489527  0.23774841 -0.44050384\n",
            "  0.15223655 -0.24753655  0.18648502  0.10933628 -0.6149348  -0.21404415\n",
            "  0.07976621 -0.16214031  0.0484632  -0.35983366 -0.22129463  0.08262856\n",
            " -0.29969186 -0.06782443  0.17145921 -0.516015   -0.10749947 -0.06347464\n",
            "  0.13271858  0.27166608  0.30447686  0.2186323  -0.18875359  0.31141725\n",
            " -0.19630499  0.1315748  -0.74791455  0.04213478 -0.03793899  0.04111981\n",
            "  0.06157675  0.29182908  0.63744366 -0.16154785  0.110054    0.15779132\n",
            " -0.17647225  0.14537314  0.21065222 -0.11968897 -0.23578991  0.40169045\n",
            " -0.42661795 -0.27537924  0.53937995  0.16845022 -0.05757087 -0.19492187\n",
            "  0.3106928   0.15065312  0.2474245   0.1800296   0.56973344  0.30480295\n",
            "  0.31133723 -0.34936756 -0.0716509   0.05580164]\n",
            ",: [-0.07157861  0.01114307  0.11772447 -0.17289485 -0.07697005 -0.27667135\n",
            "  0.15011169  0.50643474 -0.03299006 -0.12194203 -0.06014099 -0.2992628\n",
            "  0.28236473 -0.10147908  0.16022632 -0.00244053  0.21275064 -0.31586\n",
            "  0.17058063 -0.3016185   0.1602209   0.14911334 -0.02372749 -0.2924896\n",
            " -0.03246919  0.0661504  -0.39123824  0.00457228 -0.05380112 -0.02738201\n",
            "  0.07982195  0.13549447 -0.05519559 -0.36713454 -0.14367066  0.24587442\n",
            " -0.03223995 -0.15949863 -0.04886111 -0.54733974  0.06885233 -0.29781604\n",
            "  0.23341252 -0.06385349  0.4837401  -0.44415674 -0.5491574  -0.22418256\n",
            "  0.1479624   0.09382068 -0.00823219 -0.12774119  0.12973265 -0.2040363\n",
            " -0.1919034   0.04881611  0.33594435  0.01830936 -0.04325278  0.02319451\n",
            "  0.27988115 -0.1540897   0.24020939  0.07242242 -0.19467506  0.3155863\n",
            " -0.15991151  0.35808134 -0.53223085  0.2370036   0.10535456  0.09795231\n",
            "  0.22949567  0.02660642  0.3338599   0.07171759  0.07424153 -0.07564087\n",
            " -0.13169871  0.09500127 -0.08775686 -0.36988834 -0.50921774  0.36502033\n",
            " -0.22982062 -0.22490619  0.2726083   0.3856268   0.47154403 -0.19178307\n",
            "  0.11317725  0.10897548  0.0304367   0.22976147  0.50588316  0.26994738\n",
            "  0.1201645  -0.09352862  0.42716104 -0.04881141]\n",
            "api: [-0.21413419  0.4479988  -0.09590134  0.38264582  0.09104774 -0.05856081\n",
            "  0.476468    0.48090833 -0.13034624  0.24770716 -0.00487351 -0.5674322\n",
            "  0.24990001  0.04566617  0.4863169  -0.6250594   0.0063529  -0.53686607\n",
            " -0.3542959  -0.5110349   0.25468713  0.2730372   0.22959028 -0.26376086\n",
            " -0.02821852 -0.34241328 -0.34476447 -0.8154202  -0.01806938 -0.47533974\n",
            "  0.45278308 -0.5161765   0.57204133 -0.17960222 -0.20373203  0.4771778\n",
            " -0.21820003  0.24678153  0.03610382 -0.93097156 -0.17512119  0.03593158\n",
            "  0.26442403 -0.0720395   0.27467403 -0.40071422 -0.40893656  0.07643624\n",
            " -0.18185012  0.6062147  -0.23291051 -0.29046845 -0.27281344 -0.02492693\n",
            "  0.13063811  0.09860355  0.7369732  -0.17905551  0.19105287  0.01020512\n",
            "  0.09913466 -0.12482174  0.36504626 -0.11297365 -0.8976106   0.3051177\n",
            " -0.6176478   0.42554435 -0.66687137  0.861291   -0.3295956   0.1964758\n",
            "  0.5337868   0.28828606  0.61294436 -0.38504714 -0.17656943 -0.12936746\n",
            " -1.031788   -0.3426082  -0.46002877 -0.3896171  -0.49201414  0.51364774\n",
            " -0.13747032 -0.04611782  0.24683309  0.12064362 -0.08184288 -0.02143203\n",
            "  0.05430932  0.06469981  0.10460771  0.03005516  0.81983995  0.5280902\n",
            " -0.12614553 -0.17912893  0.1942538  -0.32049295]\n",
            "tab: [-0.31104642  0.07750968  0.08921501  0.0739024  -0.00383348 -0.45545524\n",
            " -0.05381605  0.71509457  0.09906954 -0.3045349   0.33293933 -0.50071454\n",
            "  0.13666885 -0.2912141  -0.08292059  0.02924178  0.17392431 -0.42624697\n",
            " -0.04102739 -0.9827125  -0.23832919  0.35907072  0.08408204 -0.31804717\n",
            " -0.31291845  0.07980549 -0.48109886  0.1915903  -0.1503855   0.02436841\n",
            " -0.04967871  0.09097099  0.18755154 -0.33781657 -0.11442215  0.5534103\n",
            "  0.17969115 -0.4597174  -0.2241641  -0.3447299   0.31575662 -0.36164364\n",
            " -0.17233174 -0.15115963  0.60599935 -0.5509715  -0.32947487 -0.25224844\n",
            "  0.28532204  0.19402853  0.33420384  0.01571548  0.35358647 -0.02272763\n",
            " -0.30569106 -0.10423522  0.23652421  0.03504969 -0.19230941 -0.02726315\n",
            "  0.00582875 -0.0917803   0.14669347 -0.14141317 -0.21271968 -0.03684009\n",
            " -0.3198556   0.20329838 -0.62265337  0.16592233 -0.15044262  0.23547648\n",
            "  0.05808934 -0.3504327   0.17552571  0.31021535  0.09167075 -0.01405945\n",
            " -0.08347131  0.2598465   0.18274166 -0.26363134 -0.58789134  0.6279251\n",
            " -0.17797545  0.06339411 -0.15813239  0.33061358  0.74414545  0.40885356\n",
            " -0.1106611   0.3023754  -0.11745071  0.17099445  0.86268187 -0.02076014\n",
            "  0.16334775 -0.06867327  0.44753885  0.13694505]\n"
          ]
        }
      ]
    },
    {
      "cell_type": "code",
      "source": [
        "# Derive document embeddings by averaging word embeddings\n",
        "document_embeddings = np.array([np.mean([word2vec_model.wv[word] for word in report if word in word2vec_model.wv], axis=0) for report in tokenized_bug_reports])\n",
        "\n",
        "print(document_embeddings.shape)"
      ],
      "metadata": {
        "colab": {
          "base_uri": "https://localhost:8080/"
        },
        "id": "9bPd5d3k2Wfm",
        "outputId": "decde12b-d67b-4404-d40f-e83af364b66f"
      },
      "execution_count": null,
      "outputs": [
        {
          "output_type": "stream",
          "name": "stdout",
          "text": [
            "(14710, 100)\n"
          ]
        }
      ]
    },
    {
      "cell_type": "code",
      "source": [
        "#  visualize clusters or perform further analysis\n",
        "import matplotlib.pyplot as plt\n",
        "\n",
        "# Visualize clusters\n",
        "def visualize_clusters(embeddings, clusters):\n",
        "    # Define colors for each cluster (including noise points)\n",
        "    unique_clusters = np.unique(clusters)\n",
        "    colors = [plt.cm.Spectral(each) for each in np.linspace(0, 1, len(unique_clusters))]\n",
        "\n",
        "    # Plot data points with cluster assignments\n",
        "    for cluster_id, color in zip(unique_clusters, colors):\n",
        "        if cluster_id == -1:\n",
        "            # Noise points (cluster_id = -1)\n",
        "            plt.scatter(embeddings[clusters == cluster_id][:, 0], embeddings[clusters == cluster_id][:, 1], color='black', label='Noise')\n",
        "        else:\n",
        "            # Core and border points\n",
        "            plt.scatter(embeddings[clusters == cluster_id][:, 0], embeddings[clusters == cluster_id][:, 1], color=color, label=f'Cluster {cluster_id}')\n",
        "\n",
        "    # Add legend and labels\n",
        "    plt.legend()\n",
        "    plt.xlabel('Dimension 1')\n",
        "    plt.ylabel('Dimension 2')\n",
        "    plt.title('Clustering')\n",
        "\n",
        "    # Show plot\n",
        "    plt.show()\n"
      ],
      "metadata": {
        "id": "m4dTGsTg8nHL"
      },
      "execution_count": null,
      "outputs": []
    },
    {
      "cell_type": "code",
      "source": [
        "import csv\n",
        "\n",
        "def store_cluster_assignments(clusters, bug_reports, output_file):\n",
        "    # Create a dictionary to store bug reports for each cluster\n",
        "    cluster_reports = {}\n",
        "    for i, cluster_label in enumerate(clusters):\n",
        "        if cluster_label not in cluster_reports:\n",
        "            cluster_reports[cluster_label] = []\n",
        "        cluster_reports[cluster_label].append(bug_reports[i])\n",
        "\n",
        "    # Write cluster assignments to CSV file\n",
        "    with open(output_file, mode='w', newline='', encoding='utf-8') as file:\n",
        "        writer = csv.writer(file)\n",
        "        writer.writerow(['Cluster', 'Bug Report'])\n",
        "        for cluster_label, reports in cluster_reports.items():\n",
        "            if cluster_label == -1:\n",
        "                cluster_name = 'Noise'\n",
        "            else:\n",
        "                cluster_name = f'Cluster {cluster_label}'\n",
        "            for report in reports:\n",
        "                writer.writerow([cluster_name, report])\n",
        "\n",
        "    print(f\"Cluster assignments saved to '{output_file}'\")\n"
      ],
      "metadata": {
        "id": "ppwTcQg08_Lb"
      },
      "execution_count": null,
      "outputs": []
    },
    {
      "cell_type": "code",
      "source": [
        "# trying Gaussian Mixture Models (GMM) for clustering\n",
        "from sklearn.mixture import GaussianMixture\n",
        "\n",
        "# Create GaussianMixture object\n",
        "gmm = GaussianMixture(n_components=5, random_state=42)\n",
        "\n",
        "# Fit GMM clustering on document embeddings\n",
        "gmm.fit(document_embeddings)\n",
        "\n",
        "# Predict cluster labels\n",
        "gmm_clusters = gmm.predict(document_embeddings)\n",
        "\n"
      ],
      "metadata": {
        "id": "Ok8aJC9-6hmj"
      },
      "execution_count": null,
      "outputs": []
    },
    {
      "cell_type": "code",
      "source": [
        "# Visualize clusters (optional)\n",
        "visualize_clusters(document_embeddings, gmm_clusters)\n"
      ],
      "metadata": {
        "colab": {
          "base_uri": "https://localhost:8080/",
          "height": 472
        },
        "id": "QH7He7Xn9Dyq",
        "outputId": "a0da130a-78ba-44bb-b213-767bdf37a15f"
      },
      "execution_count": null,
      "outputs": [
        {
          "output_type": "display_data",
          "data": {
            "text/plain": [
              "<Figure size 640x480 with 1 Axes>"
            ],
            "image/png": "[encoded data removed]"
          },
          "metadata": {}
        }
      ]
    },
    {
      "cell_type": "code",
      "source": [
        "\n",
        "# Store cluster assignments in CSV file (optional)\n",
        "store_cluster_assignments(gmm_clusters, bug_reports, \"gmm_cluster_assignments.csv\")"
      ],
      "metadata": {
        "colab": {
          "base_uri": "https://localhost:8080/"
        },
        "id": "l3h3xm3s9ElJ",
        "outputId": "9927297b-8bfe-4ec2-946d-41e86b3e8ca0"
      },
      "execution_count": null,
      "outputs": [
        {
          "output_type": "stream",
          "name": "stdout",
          "text": [
            "Cluster assignments saved to 'gmm_cluster_assignments.csv'\n"
          ]
        }
      ]
    },
    {
      "cell_type": "code",
      "source": [
        "from sklearn.metrics import silhouette_score, davies_bouldin_score\n",
        "\n",
        "# Compute Silhouette Score\n",
        "silhouette_avg = silhouette_score(document_embeddings, gmm_clusters)\n",
        "print(f\"Silhouette Score: {silhouette_avg}\")\n",
        "\n",
        "# Compute Davies–Bouldin Index\n",
        "db_index = davies_bouldin_score(document_embeddings, gmm_clusters)\n",
        "print(f\"Davies–Bouldin Index: {db_index}\")\n",
        "\n",
        "\n",
        "#the Silhouette Score is 0.080 and the Davies–Bouldin Index is 2.053.\n",
        "# These values suggest that the clustering quality may not be optimal,\n",
        "# as the Silhouette Score is relatively low and the Davies–Bouldin Index is higher than expected."
      ],
      "metadata": {
        "colab": {
          "base_uri": "https://localhost:8080/"
        },
        "id": "adswC-AR9wE6",
        "outputId": "6d0fb0c4-1f11-4b7c-f7cc-802857aba2e3"
      },
      "execution_count": null,
      "outputs": [
        {
          "output_type": "stream",
          "name": "stdout",
          "text": [
            "Silhouette Score: 0.0804663673043251\n",
            "Davies–Bouldin Index: 2.0533898200278315\n"
          ]
        }
      ]
    }
  ]
}