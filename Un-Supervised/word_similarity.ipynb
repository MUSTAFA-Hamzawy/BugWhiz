{
  "nbformat": 4,
  "nbformat_minor": 0,
  "metadata": {
    "colab": {
      "provenance": []
    },
    "kernelspec": {
      "name": "python3",
      "display_name": "Python 3"
    },
    "language_info": {
      "name": "python"
    }
  },
  "cells": [
    {
      "cell_type": "code",
      "source": [
        "import nltk\n",
        "from nltk.corpus import stopwords\n",
        "from nltk.tokenize import word_tokenize\n",
        "from nltk.stem import PorterStemmer\n",
        "from nltk.tokenize import RegexpTokenizer\n",
        "from sklearn.feature_extraction.text import TfidfVectorizer\n",
        "from sklearn.metrics.pairwise import cosine_similarity\n",
        "\n",
        "nltk.download('punkt')\n",
        "nltk.download('stopwords')\n",
        "\n",
        "\n"
      ],
      "metadata": {
        "id": "jhwtDt4TL3LX",
        "colab": {
          "base_uri": "https://localhost:8080/"
        },
        "outputId": "2bc83680-e35c-4e30-a681-c46ec807b910"
      },
      "execution_count": 1,
      "outputs": [
        {
          "output_type": "stream",
          "name": "stderr",
          "text": [
            "[nltk_data] Downloading package punkt to /root/nltk_data...\n",
            "[nltk_data]   Unzipping tokenizers/punkt.zip.\n",
            "[nltk_data] Downloading package stopwords to /root/nltk_data...\n",
            "[nltk_data]   Unzipping corpora/stopwords.zip.\n"
          ]
        },
        {
          "output_type": "execute_result",
          "data": {
            "text/plain": [
              "True"
            ]
          },
          "metadata": {},
          "execution_count": 1
        }
      ]
    },
    {
      "cell_type": "code",
      "source": [
        "import os\n",
        "\n",
        "# Function to read text from a file\n",
        "def read_text_from_file(file_path):\n",
        "    with open(file_path, 'r', encoding='utf-8') as file:\n",
        "        return file.read()\n",
        "\n",
        "# Function to calculate similarity between report and each category\n",
        "def calculate_similarity_with_categories(report_text, category_folder):\n",
        "    category_similarity = {}\n",
        "\n",
        "    # Get list of category files\n",
        "    category_files = os.listdir(category_folder)\n",
        "\n",
        "    for category_file in category_files:\n",
        "\n",
        "        category_file_path = os.path.join(category_folder, category_file)\n",
        "        print(category_file_path)\n",
        "        if category_file_path == \"/content/categories/.ipynb_checkpoints\":\n",
        "          print(\"helekjfdl\")\n",
        "          continue\n",
        "        category_text = read_text_from_file(category_file_path)\n",
        "\n",
        "        # Calculate similarity\n",
        "        similarity_score = calculate_similarity(report_text, category_text)\n",
        "\n",
        "        # Store similarity score for category\n",
        "        category_name = os.path.splitext(category_file)[0]\n",
        "        category_similarity[category_name] = similarity_score\n",
        "\n",
        "    return category_similarity\n",
        "\n",
        "# Function to display similarity results\n",
        "def display_similarity_results(similarity_scores):\n",
        "    total_similarity = sum(similarity_scores.values())\n",
        "    for category, score in similarity_scores.items():\n",
        "        percentage = (score / total_similarity) * 100 if total_similarity > 0 else 0\n",
        "        print(f\"{category}: {percentage:.2f}%\")\n",
        "\n",
        "# Example usage\n",
        "report = \"There is a problem in displaying user interface and user can not login , problem in authorization and validation is not working\"\n",
        "category_folder = \"/content/categories\"  # Folder containing category files\n",
        "\n",
        "similarity_scores = calculate_similarity_with_categories(report, category_folder)\n",
        "display_similarity_results(similarity_scores)\n"
      ],
      "metadata": {
        "colab": {
          "base_uri": "https://localhost:8080/"
        },
        "id": "BC_y4ECVaEHd",
        "outputId": "9c26ed5e-22c3-4c88-96f0-c94aa9c35e75"
      },
      "execution_count": 40,
      "outputs": [
        {
          "output_type": "stream",
          "name": "stdout",
          "text": [
            "/content/categories/Frontend.txt\n",
            "problem displaying user interface user login problem authorization validation working\n",
            "frontend software application refers user interface users interact directly encompasses everything users see touch interact screens frontend development involves creating visual elements layout functionality application user interface frontend developers use variety technologies build responsive intuitive visually appealing interfaces html hypertext markup language provides structure webpage css cascading style sheets defines presentation layout javascript used add interactivity dynamic behavior frontend allowing users interact elements perform actions receive feedback real time addition core technologies frontend developers often utilize frameworks libraries streamline development enhance functionality popular frontend frameworks like react angular vue js provide reusable components state management routing capabilities allowing developers build complex user interfaces efficiently frontend development also involves ensuring cross browser compatibility accessibility performance optimization frontend developers need test code across different browsers devices ensure consistent functionality appearance also need consider accessibility standards ensure users including disabilities access use application effectively performance optimization involves minimizing load times optimizing images assets reducing unnecessary code ensure smooth responsive user experience overall frontend development plays crucial role creating engaging user friendly applications frontend developers combine technical skills design principles create interfaces look great also provide seamless intuitive user experience frontend category deals users see interact using software application making sure app looks great feels intuitive works smoothly everyone frontend developers focus designing layout buttons menus click using app make sure everything easy find use whether computer tablet phone example ever tried click profile picture app nothing happened could frontend issue button looks weird place phone something frontend developers would fix overall frontend category making sure app looks good works well easy enjoyable use everyone\n",
            "/content/categories/Documentation.txt\n",
            "problem displaying user interface user login problem authorization validation working\n",
            "documentation essential aspect software development encompassing creation maintenance dissemination written materials provide information software products systems processes effective documentation serves valuable resource developers users stakeholders offering guidance instructions reference materials facilitate understanding usage maintenance software systems context software development documentation takes various forms including technical specifications user manuals api documentation code comments release notes system architecture diagrams type documentation serves specific purpose audience providing relevant information guidance different stages software lifecycle technical specifications document design requirements functionality software systems outlining architecture components interfaces interactions within system documents serve blueprint developers guiding implementation integration software components ensuring alignment business requirements stakeholder expectations user manuals written guides provide instructions tutorials troubleshooting tips end users software applications documents explain install configure use software well troubleshoot common issues perform routine tasks user manuals help users navigate utilize software products effectively enhancing overall experience satisfaction api documentation describes application programming interfaces apis exposed software systems including methods parameters data formats used communication software components api documentation provides developers information need integrate interact software programmatically enabling build applications automate tasks extend functionality system code comments annotations embedded within source code software applications providing explanations clarifications context developers read maintain code comments document purpose functionality rationale behind specific code segments helping developers understand modify code effectively release notes accompany software releases updates providing information new features enhancements bug fixes known issues notes inform users stakeholders changes software helping assess impact updates plan accordingly release notes also serve record changes improvements made software time system architecture diagrams visualize structure components interactions software systems illustrating different parts system organized connected diagrams help developers architects stakeholders understand overall architecture software including dependencies scalability performance characteristics overall documentation plays crucial role software development serving bridge developers users stakeholders providing clear comprehensive accurate documentation organizations enhance collaboration communication productivity ultimately leading successful design development deployment software systems\n",
            "/content/categories/Backend.txt\n",
            "problem displaying user interface user login problem authorization validation working\n",
            "backend software application refers server side components responsible processing managing data well handling business logic application functionality directly visible users unlike frontend deals user interface client side interactions backend focuses server side operations database management authentication server server communication backend development involves building maintaining server side infrastructure supports frontend enables application function includes designing implementing apis application programming interfaces allow frontend applications communicate backend server apis define methods protocols requesting exchanging data different parts system backend developers use variety programming languages frameworks databases build scalable robust secure backend systems common programming languages backend development include python node js java ruby set frameworks libraries building web applications database management critical aspect backend development involves storing retrieving manipulating data structured manner backend developers work relational databases like mysql postgresql sql server well nosql databases like mongodb redis depending specific requirements application security another important consideration backend development backend systems often handle sensitive user data perform critical operations backend developers need implement authentication authorization mechanisms ensure authorized users access certain resources perform specific actions also need implement encryption input validation security measures protect common vulnerabilities like sql injection cross site scripting xss csrf cross site request forgery scalability performance optimization also key concerns backend development especially applications need handle large volumes traffic process intensive computations backend developers need design systems scalable meaning handle increased load adding resources distributing workload across multiple servers also need optimize database queries cache frequently accessed data implement performance enhancing techniques ensure application runs smoothly efficiently overall backend development essential building robust reliable secure web applications backend developers work behind scenes power frontend enable functionality features users interact frontend building scalable performant secure backend systems backend developers play crucial role delivering high quality web applications meet needs users businesses alike\n",
            "/content/categories/.ipynb_checkpoints\n",
            "helekjfdl\n",
            "/content/categories/Performance.txt\n",
            "problem displaying user interface user login problem authorization validation working\n",
            "performance optimization critical aspect software development focusing improving speed responsiveness efficiency software applications performance category developers strive enhance overall performance application ensuring handle increasing workloads process data efficiently deliver seamless user experience even heavy usage performance optimization encompasses various techniques strategies best practices aimed identifying eliminating bottlenecks reducing latency maximizing resource utilization involves analyzing performance characteristics application identifying areas improvement implementing optimizations address performance issues one key areas focus performance optimization reducing response times latency involves optimizing algorithms data structures code execution paths minimize time takes application respond user requests techniques caching memoization lazy loading help reduce unnecessary computation data retrieval resulting faster response times improved user experience another aspect performance optimization optimizing resource utilization including cpu memory disk network bandwidth involves optimizing code minimize resource consumption reducing memory leaks excessive disk operations optimizing network communication minimize latency maximize throughput techniques connection pooling load balancing parallel processing help distribute workloads efficiently across available resources ensuring optimal resource utilization performance database performance optimization also crucial performance category databases often serve backbone many software applications involves optimizing database queries indexing data retrieval strategies minimize query execution times improve overall database performance techniques query optimization index tuning database caching help reduce database load improve application performance scalability another key consideration performance optimization especially applications need handle large volumes traffic support growing user base scalability involves designing application architecture way scale horizontally vertically accommodate increased load demand techniques horizontal scaling adding servers vertical scaling upgrading server hardware help ensure application handle increased workload maintain performance grows performance testing integral part performance optimization involving evaluation validation application performance various conditions workloads performance testing helps identify performance bottlenecks measure response times assess system scalability reliability techniques load testing stress testing capacity planning help evaluate performance characteristics application identify areas improvement overall performance optimization essential ensuring software applications meet performance requirements expectations users stakeholders implementing performance optimizations developers enhance speed responsiveness efficiency applications delivering superior user experience maximizing value software product\n",
            "/content/categories/Security.txt\n",
            "problem displaying user interface user login problem authorization validation working\n",
            "security paramount importance realm software development encompassing broad range practices technologies methodologies aimed protecting digital assets data systems unauthorized access malicious attacks potential vulnerabilities context software development security measures implemented throughout software development lifecycle sdlc design development deployment maintenance involves identifying potential security risks vulnerabilities implementing appropriate safeguards countermeasures continuously monitoring updating security measures mitigate emerging threats one fundamental principles security software development principle least privilege states users processes granted minimum level access permissions required perform tasks helps minimize potential impact security breaches unauthorized access authentication authorization core components security software systems authentication verifies identity users entities accessing system typically use passwords biometrics multi factor authentication mfa authorization determines actions resources authenticated users allowed access based roles permissions data encryption another essential aspect security especially dealing sensitive information personal data financial records intellectual property encryption algorithms used encode data way authorized parties correct decryption keys access decipher helps protect data confidentiality integrity even intercepted accessed unauthorized parties secure coding practices crucial preventing common vulnerabilities security flaws software applications includes input validation prevent injection attacks like sql injection cross site scripting xss well output encoding mitigate risk injection attacks data manipulation secure coding practices include using parameterized queries escaping user input implementing proper error handling logging mechanisms security testing integral part software development process involving various techniques methodologies identify address security vulnerabilities weaknesses software applications includes penetration testing vulnerability scanning code reviews security audits among others security testing helps ensure software systems resilient attacks meet necessary security standards compliance requirements addition proactive security measures incident response disaster recovery planning essential components comprehensive security strategy involves preparing potential security incidents breaches establishing protocols procedures responding security incidents implementing measures minimize impact restore normal operations event security breach overall security multifaceted discipline requires ongoing vigilance collaboration investment protect software systems data evolving threats vulnerabilities integrating security every aspect software development lifecycle adopting proactive comprehensive approach security organizations build maintain secure resilient trustworthy software systems instill confidence users stakeholders alike\n",
            "Frontend: 38.00%\n",
            "Documentation: 12.61%\n",
            "Backend: 17.13%\n",
            "Performance: 21.59%\n",
            "Security: 10.67%\n"
          ]
        }
      ]
    },
    {
      "cell_type": "code",
      "source": [
        "import pandas as pd\n",
        "df = pd.read_excel(\"train.xlsx\")\n",
        "df['class_name'].unique().tolist()"
      ],
      "metadata": {
        "colab": {
          "base_uri": "https://localhost:8080/"
        },
        "id": "rtHz6zIRc83E",
        "outputId": "a4241a12-741a-40e9-d18a-c468b950b2ba"
      },
      "execution_count": 13,
      "outputs": [
        {
          "output_type": "execute_result",
          "data": {
            "text/plain": [
              "['Backend', 'Frontend', 'Security', 'Documentation', 'Performance']"
            ]
          },
          "metadata": {},
          "execution_count": 13
        }
      ]
    },
    {
      "cell_type": "code",
      "source": [
        "import pandas as pd\n",
        "\n",
        "# Function to read reports and labels from an Excel file\n",
        "def read_reports_from_excel(file_path):\n",
        "    df = pd.read_excel(file_path, nrows=1000)\n",
        "    return df['report'].tolist(), df['class_name'].tolist()\n",
        "\n",
        "# Function to calculate recall for each label\n",
        "def calculate_recall(predicted_labels, true_labels, labels):\n",
        "    recalls = {}\n",
        "    for label in labels:\n",
        "        true_positives = sum(1 for pred, true in zip(predicted_labels, true_labels) if pred == true == label)\n",
        "        actual_positives = true_labels.count(label)\n",
        "        recalls[label] = true_positives / actual_positives if actual_positives > 0 else 0\n",
        "    return recalls\n",
        "\n",
        "# Function to calculate similarity between report and each category\n",
        "def calculate_similarity_with_categories(report_text, category_folder):\n",
        "    category_similarity = {}\n",
        "\n",
        "    # Get list of category files\n",
        "    category_files = os.listdir(category_folder)\n",
        "\n",
        "    for category_file in category_files:\n",
        "        category_file_path = os.path.join(category_folder, category_file)\n",
        "        if category_file_path == \"categories/.ipynb_checkpoints\":\n",
        "          continue\n",
        "        category_text = read_text_from_file(category_file_path)\n",
        "\n",
        "        # Calculate similarity\n",
        "        similarity_score = calculate_similarity(report_text, category_text)\n",
        "\n",
        "        # Store similarity score for category\n",
        "        category_name = os.path.splitext(category_file)[0]\n",
        "        category_similarity[category_name] = similarity_score\n",
        "\n",
        "    return category_similarity\n",
        "\n",
        "# Function to determine the label with the highest similarity score\n",
        "def determine_highest_similarity_label(similarity_scores):\n",
        "    return max(similarity_scores, key=similarity_scores.get)\n",
        "\n",
        "# Function to calculate accuracy\n",
        "def calculate_accuracy(predicted_labels, true_labels):\n",
        "    correct_predictions = sum(1 for pred, true in zip(predicted_labels, true_labels) if pred == true)\n",
        "    total_reports = len(predicted_labels)\n",
        "    accuracy = (correct_predictions / total_reports) * 100\n",
        "    return accuracy\n",
        "\n",
        "# Example usage\n",
        "excel_file_path = \"train.xlsx\"  # Path to the Excel file\n",
        "category_folder = \"categories\"  # Folder containing category files\n",
        "\n",
        "# Read reports and labels from Excel file\n",
        "reports, true_labels = read_reports_from_excel(excel_file_path)\n",
        "\n",
        "# Get distinct labels\n",
        "distinct_labels = list(set(true_labels))\n",
        "predicted_labels = []\n",
        "for report in reports:\n",
        "    # Calculate similarity scores for the report\n",
        "    similarity_scores = calculate_similarity_with_categories(report, category_folder)\n",
        "\n",
        "    # Determine the predicted label with the highest similarity score\n",
        "    predicted_label = determine_highest_similarity_label(similarity_scores)\n",
        "    predicted_labels.append(predicted_label)\n",
        "\n",
        "# Calculate accuracy\n",
        "accuracy = calculate_accuracy(predicted_labels, true_labels)\n",
        "print(\"Accuracy:\", accuracy)\n",
        "\n",
        "# Calculate recall\n",
        "recall_scores = calculate_recall(predicted_labels, true_labels, distinct_labels)\n",
        "for label, recall in recall_scores.items():\n",
        "    print(f\"Recall for {label}: {recall:.2f}\")\n"
      ],
      "metadata": {
        "colab": {
          "base_uri": "https://localhost:8080/"
        },
        "id": "Fjvb0ozJceN9",
        "outputId": "d4d6783f-f299-4b5c-b614-59e48410a80e"
      },
      "execution_count": 35,
      "outputs": [
        {
          "output_type": "stream",
          "name": "stdout",
          "text": [
            "Accuracy: 34.4\n",
            "Recall for Backend: 0.15\n",
            "Recall for Frontend: 0.59\n",
            "Recall for Performance: 0.00\n",
            "Recall for Documentation: 0.46\n",
            "Recall for Security: 0.33\n"
          ]
        }
      ]
    },
    {
      "cell_type": "code",
      "source": [
        "import nltk\n",
        "from nltk.corpus import stopwords\n",
        "from nltk.tokenize import word_tokenize\n",
        "from nltk.stem import PorterStemmer\n",
        "from nltk.tokenize import RegexpTokenizer\n",
        "from sklearn.feature_extraction.text import TfidfVectorizer\n",
        "from sklearn.metrics.pairwise import cosine_similarity\n",
        "\n",
        "nltk.download('punkt')\n",
        "nltk.download('stopwords')\n",
        "\n",
        "def preprocess_text(text):\n",
        "    # Tokenize the text\n",
        "    tokenizer = RegexpTokenizer(r'\\w+')\n",
        "    tokens = tokenizer.tokenize(text.lower())\n",
        "\n",
        "\n",
        "\n",
        "    # Remove stopwords\n",
        "    stop_words = set(stopwords.words('english'))\n",
        "    filtered_tokens = [word for word in tokens if word not in stop_words]\n",
        "\n",
        "    # Stemming\n",
        "    # stemmer = PorterStemmer()\n",
        "    # stemmed_tokens = [stemmer.stem(word) for word in filtered_tokens]\n",
        "    print(' '.join(filtered_tokens))\n",
        "\n",
        "    # Return preprocessed text as a single string\n",
        "    return ' '.join(filtered_tokens)\n",
        "\n",
        "def calculate_similarity(text1, text2):\n",
        "    # Preprocess the texts\n",
        "    preprocessed_text1 = preprocess_text(text1)\n",
        "    preprocessed_text2 = preprocess_text(text2)\n",
        "\n",
        "    # Calculate TF-IDF vectors\n",
        "    vectorizer = TfidfVectorizer()\n",
        "    tfidf_matrix = vectorizer.fit_transform([preprocessed_text1, preprocessed_text2])\n",
        "\n",
        "    # Calculate cosine similarity\n",
        "    similarity = cosine_similarity(tfidf_matrix[0:1], tfidf_matrix[1:2])[0][0]\n",
        "\n",
        "    return similarity\n",
        "\n",
        "# Example usage\n",
        "text1 = \"The quick brown fox jumps over the lazy dog\"\n",
        "text2 = \"A fast red fox leaps over the tired hound\"\n",
        "similarity_score = calculate_similarity(text1, text2)\n",
        "print(\"Similarity score:\", similarity_score)\n"
      ],
      "metadata": {
        "colab": {
          "base_uri": "https://localhost:8080/"
        },
        "id": "h-y70LOch9Gz",
        "outputId": "e7804c52-e2e8-4485-adf5-f425b3cfc5dd"
      },
      "execution_count": 36,
      "outputs": [
        {
          "output_type": "stream",
          "name": "stdout",
          "text": [
            "quick brown fox jumps lazy dog\n",
            "fast red fox leaps tired hound\n",
            "Similarity score: 0.09193998174078082\n"
          ]
        },
        {
          "output_type": "stream",
          "name": "stderr",
          "text": [
            "[nltk_data] Downloading package punkt to /root/nltk_data...\n",
            "[nltk_data]   Package punkt is already up-to-date!\n",
            "[nltk_data] Downloading package stopwords to /root/nltk_data...\n",
            "[nltk_data]   Package stopwords is already up-to-date!\n"
          ]
        }
      ]
    }
  ]
}