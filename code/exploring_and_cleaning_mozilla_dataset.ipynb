{
 "cells": [
  {
   "cell_type": "code",
   "execution_count": 1,
   "metadata": {},
   "outputs": [],
   "source": [
    "import os\n",
    "import pandas as pd\n",
    "import re"
   ]
  },
  {
   "cell_type": "markdown",
   "metadata": {},
   "source": [
    "**Loading and merging the data**"
   ]
  },
  {
   "cell_type": "code",
   "execution_count": 2,
   "metadata": {},
   "outputs": [],
   "source": [
    "# Define the path to the directory containing the CSV files\n",
    "# 'os.path.join' is used to construct a directory path by joining folder names\n",
    "# The resulting path is relative to the current working directory\n",
    "directory_path = os.path.join('..', 'data', 'mozilla_dataset', 'dataset_before_merge')\n",
    " \n",
    "# List all CSV files in the directory\n",
    "# 'os.listdir' lists all files and directories in 'directory_path'\n",
    "# The list comprehension filters out only the files that end with '.csv'\n",
    "# 'os.path.join(directory_path, file)' constructs the full file path for each CSV file\n",
    "file_paths = [os.path.join(directory_path, file) for file in os.listdir(directory_path) if file.endswith('.csv')]\n",
    "\n",
    "# Read the CSV files into DataFrames\n",
    "# 'pd.read_csv(file)' reads each CSV file into a pandas DataFrame\n",
    "# The resulting DataFrames are stored in a list\n",
    "dataframes = [pd.read_csv(file) for file in file_paths]\n",
    "\n",
    "# Concatenate all DataFrames into a single DataFrame\n",
    "# 'pd.concat(dataframes, ignore_index=True)' concatenates the list of DataFrames into one DataFrame\n",
    "# 'ignore_index=True' resets the index in the resulting DataFrame\n",
    "mozilla_dataset = pd.concat(dataframes, ignore_index=True)"
   ]
  },
  {
   "cell_type": "markdown",
   "metadata": {},
   "source": [
    "**Exploring the data**"
   ]
  },
  {
   "cell_type": "code",
   "execution_count": 3,
   "metadata": {},
   "outputs": [
    {
     "name": "stdout",
     "output_type": "stream",
     "text": [
      "(89661, 9)\n"
     ]
    }
   ],
   "source": [
    "# Print the shape of the DataFrame 'mozilla_dataset'\n",
    "# 'shape' returns a tuple representing the dimensionality of the DataFrame\n",
    "# The first value is the number of rows, and the second value is the number of columns\n",
    "print(mozilla_dataset.shape)"
   ]
  },
  {
   "cell_type": "code",
   "execution_count": 6,
   "metadata": {},
   "outputs": [
    {
     "name": "stdout",
     "output_type": "stream",
     "text": [
      "Index(['Bug ID', 'Type', 'Summary', 'Product', 'Component', 'Assignee',\n",
      "       'Status', 'Resolution', 'Updated'],\n",
      "      dtype='object')\n"
     ]
    }
   ],
   "source": [
    "# Print the names of the columns in the DataFrame 'mozilla_dataset'\n",
    "# 'columns' returns an Index object containing the column labels of the DataFrame\n",
    "print(mozilla_dataset.columns)"
   ]
  },
  {
   "cell_type": "code",
   "execution_count": 7,
   "metadata": {},
   "outputs": [
    {
     "data": {
      "text/html": [
       "<div>\n",
       "<style scoped>\n",
       "    .dataframe tbody tr th:only-of-type {\n",
       "        vertical-align: middle;\n",
       "    }\n",
       "\n",
       "    .dataframe tbody tr th {\n",
       "        vertical-align: top;\n",
       "    }\n",
       "\n",
       "    .dataframe thead th {\n",
       "        text-align: right;\n",
       "    }\n",
       "</style>\n",
       "<table border=\"1\" class=\"dataframe\">\n",
       "  <thead>\n",
       "    <tr style=\"text-align: right;\">\n",
       "      <th></th>\n",
       "      <th>Bug ID</th>\n",
       "      <th>Type</th>\n",
       "      <th>Summary</th>\n",
       "      <th>Product</th>\n",
       "      <th>Component</th>\n",
       "      <th>Assignee</th>\n",
       "      <th>Status</th>\n",
       "      <th>Resolution</th>\n",
       "      <th>Updated</th>\n",
       "    </tr>\n",
       "  </thead>\n",
       "  <tbody>\n",
       "    <tr>\n",
       "      <th>0</th>\n",
       "      <td>1124005</td>\n",
       "      <td>defect</td>\n",
       "      <td>CSS cached in style editor</td>\n",
       "      <td>DevTools</td>\n",
       "      <td>Style Editor</td>\n",
       "      <td>nobody</td>\n",
       "      <td>UNCONFIRMED</td>\n",
       "      <td>---</td>\n",
       "      <td>2023-09-14 13:00:12</td>\n",
       "    </tr>\n",
       "    <tr>\n",
       "      <th>1</th>\n",
       "      <td>1312250</td>\n",
       "      <td>defect</td>\n",
       "      <td>Display non default properties before others, ...</td>\n",
       "      <td>DevTools</td>\n",
       "      <td>DOM</td>\n",
       "      <td>nobody</td>\n",
       "      <td>UNCONFIRMED</td>\n",
       "      <td>---</td>\n",
       "      <td>2024-02-22 23:15:00</td>\n",
       "    </tr>\n",
       "    <tr>\n",
       "      <th>2</th>\n",
       "      <td>1447966</td>\n",
       "      <td>enhancement</td>\n",
       "      <td>Add option to temporarily disable CSS features</td>\n",
       "      <td>DevTools</td>\n",
       "      <td>Inspector: Rules</td>\n",
       "      <td>nobody</td>\n",
       "      <td>UNCONFIRMED</td>\n",
       "      <td>---</td>\n",
       "      <td>2022-10-11 14:25:10</td>\n",
       "    </tr>\n",
       "    <tr>\n",
       "      <th>3</th>\n",
       "      <td>1457607</td>\n",
       "      <td>defect</td>\n",
       "      <td>Firefox 59+ version developer tool freeze, can...</td>\n",
       "      <td>DevTools</td>\n",
       "      <td>Console</td>\n",
       "      <td>nobody</td>\n",
       "      <td>UNCONFIRMED</td>\n",
       "      <td>---</td>\n",
       "      <td>2022-10-11 14:32:37</td>\n",
       "    </tr>\n",
       "    <tr>\n",
       "      <th>4</th>\n",
       "      <td>1503225</td>\n",
       "      <td>defect</td>\n",
       "      <td>ASAN build - UI freezes when switching from Ne...</td>\n",
       "      <td>DevTools</td>\n",
       "      <td>Console</td>\n",
       "      <td>nobody</td>\n",
       "      <td>UNCONFIRMED</td>\n",
       "      <td>---</td>\n",
       "      <td>2022-10-11 15:09:19</td>\n",
       "    </tr>\n",
       "    <tr>\n",
       "      <th>...</th>\n",
       "      <td>...</td>\n",
       "      <td>...</td>\n",
       "      <td>...</td>\n",
       "      <td>...</td>\n",
       "      <td>...</td>\n",
       "      <td>...</td>\n",
       "      <td>...</td>\n",
       "      <td>...</td>\n",
       "      <td>...</td>\n",
       "    </tr>\n",
       "    <tr>\n",
       "      <th>89656</th>\n",
       "      <td>1810575</td>\n",
       "      <td>task</td>\n",
       "      <td>Investigate mdn_yari.page_v1 schema errors</td>\n",
       "      <td>Data Platform and Tools</td>\n",
       "      <td>General</td>\n",
       "      <td>nobody</td>\n",
       "      <td>REOPENED</td>\n",
       "      <td>---</td>\n",
       "      <td>2024-01-19 11:21:30</td>\n",
       "    </tr>\n",
       "    <tr>\n",
       "      <th>89657</th>\n",
       "      <td>1822095</td>\n",
       "      <td>task</td>\n",
       "      <td>Review buildid SQL queries</td>\n",
       "      <td>Data Platform and Tools</td>\n",
       "      <td>Glean Platform</td>\n",
       "      <td>nobody</td>\n",
       "      <td>REOPENED</td>\n",
       "      <td>---</td>\n",
       "      <td>2023-05-05 05:18:28</td>\n",
       "    </tr>\n",
       "    <tr>\n",
       "      <th>89658</th>\n",
       "      <td>1844886</td>\n",
       "      <td>defect</td>\n",
       "      <td>Airflow task bqetl_main_summary .client_probe_...</td>\n",
       "      <td>Data Platform and Tools</td>\n",
       "      <td>General</td>\n",
       "      <td>nobody</td>\n",
       "      <td>REOPENED</td>\n",
       "      <td>---</td>\n",
       "      <td>2023-12-15 10:33:38</td>\n",
       "    </tr>\n",
       "    <tr>\n",
       "      <th>89659</th>\n",
       "      <td>1879863</td>\n",
       "      <td>defect</td>\n",
       "      <td>structured missing columns in `firefox_desktop...</td>\n",
       "      <td>Data Platform and Tools</td>\n",
       "      <td>General</td>\n",
       "      <td>nobody</td>\n",
       "      <td>REOPENED</td>\n",
       "      <td>---</td>\n",
       "      <td>2024-02-23 13:04:20</td>\n",
       "    </tr>\n",
       "    <tr>\n",
       "      <th>89660</th>\n",
       "      <td>1354049</td>\n",
       "      <td>task</td>\n",
       "      <td>AMO does not support IPv6 anymore, only IPv4</td>\n",
       "      <td>Cloud Services</td>\n",
       "      <td>Operations: AMO</td>\n",
       "      <td>wezhou</td>\n",
       "      <td>REOPENED</td>\n",
       "      <td>---</td>\n",
       "      <td>2023-05-25 11:39:14</td>\n",
       "    </tr>\n",
       "  </tbody>\n",
       "</table>\n",
       "<p>89661 rows × 9 columns</p>\n",
       "</div>"
      ],
      "text/plain": [
       "        Bug ID         Type  \\\n",
       "0      1124005       defect   \n",
       "1      1312250       defect   \n",
       "2      1447966  enhancement   \n",
       "3      1457607       defect   \n",
       "4      1503225       defect   \n",
       "...        ...          ...   \n",
       "89656  1810575         task   \n",
       "89657  1822095         task   \n",
       "89658  1844886       defect   \n",
       "89659  1879863       defect   \n",
       "89660  1354049         task   \n",
       "\n",
       "                                                 Summary  \\\n",
       "0                             CSS cached in style editor   \n",
       "1      Display non default properties before others, ...   \n",
       "2         Add option to temporarily disable CSS features   \n",
       "3      Firefox 59+ version developer tool freeze, can...   \n",
       "4      ASAN build - UI freezes when switching from Ne...   \n",
       "...                                                  ...   \n",
       "89656         Investigate mdn_yari.page_v1 schema errors   \n",
       "89657                         Review buildid SQL queries   \n",
       "89658  Airflow task bqetl_main_summary .client_probe_...   \n",
       "89659  structured missing columns in `firefox_desktop...   \n",
       "89660       AMO does not support IPv6 anymore, only IPv4   \n",
       "\n",
       "                       Product         Component Assignee       Status  \\\n",
       "0                     DevTools      Style Editor   nobody  UNCONFIRMED   \n",
       "1                     DevTools               DOM   nobody  UNCONFIRMED   \n",
       "2                     DevTools  Inspector: Rules   nobody  UNCONFIRMED   \n",
       "3                     DevTools           Console   nobody  UNCONFIRMED   \n",
       "4                     DevTools           Console   nobody  UNCONFIRMED   \n",
       "...                        ...               ...      ...          ...   \n",
       "89656  Data Platform and Tools           General   nobody     REOPENED   \n",
       "89657  Data Platform and Tools    Glean Platform   nobody     REOPENED   \n",
       "89658  Data Platform and Tools           General   nobody     REOPENED   \n",
       "89659  Data Platform and Tools           General   nobody     REOPENED   \n",
       "89660           Cloud Services   Operations: AMO   wezhou     REOPENED   \n",
       "\n",
       "      Resolution              Updated  \n",
       "0            ---  2023-09-14 13:00:12  \n",
       "1            ---  2024-02-22 23:15:00  \n",
       "2            ---  2022-10-11 14:25:10  \n",
       "3            ---  2022-10-11 14:32:37  \n",
       "4            ---  2022-10-11 15:09:19  \n",
       "...          ...                  ...  \n",
       "89656        ---  2024-01-19 11:21:30  \n",
       "89657        ---  2023-05-05 05:18:28  \n",
       "89658        ---  2023-12-15 10:33:38  \n",
       "89659        ---  2024-02-23 13:04:20  \n",
       "89660        ---  2023-05-25 11:39:14  \n",
       "\n",
       "[89661 rows x 9 columns]"
      ]
     },
     "execution_count": 7,
     "metadata": {},
     "output_type": "execute_result"
    }
   ],
   "source": [
    "# Display the DataFrame 'mozilla_dataset'\n",
    "# This will print the first and last 5 rows of the DataFrame along with the column names and index\n",
    "# Useful for a quick overview of the data after processing\n",
    "mozilla_dataset"
   ]
  },
  {
   "cell_type": "code",
   "execution_count": 8,
   "metadata": {},
   "outputs": [
    {
     "name": "stdout",
     "output_type": "stream",
     "text": [
      "<class 'pandas.core.frame.DataFrame'>\n",
      "RangeIndex: 89661 entries, 0 to 89660\n",
      "Data columns (total 9 columns):\n",
      " #   Column      Non-Null Count  Dtype \n",
      "---  ------      --------------  ----- \n",
      " 0   Bug ID      89661 non-null  int64 \n",
      " 1   Type        89661 non-null  object\n",
      " 2   Summary     89661 non-null  object\n",
      " 3   Product     89661 non-null  object\n",
      " 4   Component   89661 non-null  object\n",
      " 5   Assignee    89661 non-null  object\n",
      " 6   Status      89661 non-null  object\n",
      " 7   Resolution  89661 non-null  object\n",
      " 8   Updated     89661 non-null  object\n",
      "dtypes: int64(1), object(8)\n",
      "memory usage: 6.2+ MB\n",
      "None\n"
     ]
    }
   ],
   "source": [
    "# Print a concise summary of the DataFrame 'mozilla_dataset'\n",
    "# 'info()' provides essential information about the DataFrame, including:\n",
    "# - The number of non-null entries in each column\n",
    "# - The data type of each column\n",
    "# - The memory usage of the DataFrame\n",
    "# This is useful for understanding the structure, completeness, and memory footprint of the data\n",
    "print(mozilla_dataset.info())"
   ]
  },
  {
   "cell_type": "markdown",
   "metadata": {},
   "source": [
    "**Delete duplicate data [if exist]**"
   ]
  },
  {
   "cell_type": "code",
   "execution_count": 9,
   "metadata": {},
   "outputs": [
    {
     "data": {
      "text/plain": [
       "False"
      ]
     },
     "execution_count": 9,
     "metadata": {},
     "output_type": "execute_result"
    }
   ],
   "source": [
    "# Check if there are any duplicate rows in the DataFrame 'mozilla_dataset'\n",
    "# 'duplicated()' returns a Series of boolean values indicating whether each row is a duplicate of a previous row\n",
    "# 'any()' returns True if any element in the Series is True (indicating the presence of duplicates), otherwise False\n",
    "# This is useful for determining if there are any duplicate rows in the DataFrame\n",
    "mozilla_dataset.duplicated().any()"
   ]
  },
  {
   "cell_type": "markdown",
   "metadata": {},
   "source": [
    "**generates descriptive statistics of the data**"
   ]
  },
  {
   "cell_type": "code",
   "execution_count": 10,
   "metadata": {},
   "outputs": [
    {
     "data": {
      "text/html": [
       "<div>\n",
       "<style scoped>\n",
       "    .dataframe tbody tr th:only-of-type {\n",
       "        vertical-align: middle;\n",
       "    }\n",
       "\n",
       "    .dataframe tbody tr th {\n",
       "        vertical-align: top;\n",
       "    }\n",
       "\n",
       "    .dataframe thead th {\n",
       "        text-align: right;\n",
       "    }\n",
       "</style>\n",
       "<table border=\"1\" class=\"dataframe\">\n",
       "  <thead>\n",
       "    <tr style=\"text-align: right;\">\n",
       "      <th></th>\n",
       "      <th>Type</th>\n",
       "      <th>Summary</th>\n",
       "      <th>Product</th>\n",
       "      <th>Component</th>\n",
       "      <th>Assignee</th>\n",
       "      <th>Status</th>\n",
       "      <th>Resolution</th>\n",
       "      <th>Updated</th>\n",
       "    </tr>\n",
       "  </thead>\n",
       "  <tbody>\n",
       "    <tr>\n",
       "      <th>count</th>\n",
       "      <td>89661</td>\n",
       "      <td>89661</td>\n",
       "      <td>89661</td>\n",
       "      <td>89661</td>\n",
       "      <td>89661</td>\n",
       "      <td>89661</td>\n",
       "      <td>89661</td>\n",
       "      <td>89661</td>\n",
       "    </tr>\n",
       "    <tr>\n",
       "      <th>unique</th>\n",
       "      <td>3</td>\n",
       "      <td>89555</td>\n",
       "      <td>94</td>\n",
       "      <td>824</td>\n",
       "      <td>1003</td>\n",
       "      <td>4</td>\n",
       "      <td>1</td>\n",
       "      <td>77179</td>\n",
       "    </tr>\n",
       "    <tr>\n",
       "      <th>top</th>\n",
       "      <td>defect</td>\n",
       "      <td>ISPDB Database Entries</td>\n",
       "      <td>Core</td>\n",
       "      <td>General</td>\n",
       "      <td>nobody</td>\n",
       "      <td>NEW</td>\n",
       "      <td>---</td>\n",
       "      <td>2023-02-09 07:40:14</td>\n",
       "    </tr>\n",
       "    <tr>\n",
       "      <th>freq</th>\n",
       "      <td>55676</td>\n",
       "      <td>12</td>\n",
       "      <td>10000</td>\n",
       "      <td>12951</td>\n",
       "      <td>80538</td>\n",
       "      <td>59910</td>\n",
       "      <td>89661</td>\n",
       "      <td>128</td>\n",
       "    </tr>\n",
       "  </tbody>\n",
       "</table>\n",
       "</div>"
      ],
      "text/plain": [
       "          Type                 Summary Product Component Assignee Status  \\\n",
       "count    89661                   89661   89661     89661    89661  89661   \n",
       "unique       3                   89555      94       824     1003      4   \n",
       "top     defect  ISPDB Database Entries    Core   General   nobody    NEW   \n",
       "freq     55676                      12   10000     12951    80538  59910   \n",
       "\n",
       "       Resolution              Updated  \n",
       "count       89661                89661  \n",
       "unique          1                77179  \n",
       "top           ---  2023-02-09 07:40:14  \n",
       "freq        89661                  128  "
      ]
     },
     "execution_count": 10,
     "metadata": {},
     "output_type": "execute_result"
    }
   ],
   "source": [
    "# generates descriptive statistics of the data\n",
    "# include=\"O\": This parameter is specifying that you want to include columns with object data type \n",
    "# By default, describe works on numeric columns\n",
    "mozilla_dataset.describe(include = \"O\")"
   ]
  },
  {
   "cell_type": "code",
   "execution_count": 11,
   "metadata": {},
   "outputs": [
    {
     "data": {
      "text/plain": [
       "Bug ID        89661\n",
       "Type              3\n",
       "Summary       89555\n",
       "Product          94\n",
       "Component       824\n",
       "Assignee       1003\n",
       "Status            4\n",
       "Resolution        1\n",
       "Updated       77179\n",
       "dtype: int64"
      ]
     },
     "execution_count": 11,
     "metadata": {},
     "output_type": "execute_result"
    }
   ],
   "source": [
    "# Count the number of unique values in each column of the DataFrame 'mozilla_dataset'\n",
    "# 'nunique()' returns a Series with the number of unique values for each column\n",
    "# This is useful for understanding the variability and cardinality of data in each column\n",
    "mozilla_dataset.nunique()"
   ]
  },
  {
   "cell_type": "markdown",
   "metadata": {},
   "source": [
    "**Show the unique values for type column**"
   ]
  },
  {
   "cell_type": "code",
   "execution_count": 12,
   "metadata": {},
   "outputs": [
    {
     "name": "stdout",
     "output_type": "stream",
     "text": [
      "Unique values in the 'Type' column: ['defect' 'enhancement' 'task']\n"
     ]
    }
   ],
   "source": [
    "# Print the unique values in the 'Type' column of the DataFrame 'mozilla_dataset'\n",
    "# 'mozilla_dataset['Type'].unique()' retrieves an array of unique values from the 'Type' column\n",
    "type_unique_values = mozilla_dataset['Type'].unique()\n",
    "\n",
    "# Print the unique values array to the console\n",
    "print(f\"Unique values in the 'Type' column: {type_unique_values}\")"
   ]
  },
  {
   "cell_type": "markdown",
   "metadata": {},
   "source": [
    "**Show the unique values for status column**"
   ]
  },
  {
   "cell_type": "code",
   "execution_count": 13,
   "metadata": {},
   "outputs": [
    {
     "name": "stdout",
     "output_type": "stream",
     "text": [
      "Unique values in the 'Status' column: ['UNCONFIRMED' 'NEW' 'ASSIGNED' 'REOPENED']\n"
     ]
    }
   ],
   "source": [
    "# Print the unique values in the 'Status' column of the DataFrame 'mozilla_dataset'\n",
    "# 'mozilla_dataset['Status'].unique()' retrieves an array of unique values from the 'Status' column\n",
    "status_unique_values = mozilla_dataset['Status'].unique()\n",
    "\n",
    "# Print the unique values array to the console\n",
    "print(f\"Unique values in the 'Status' column: {status_unique_values}\")"
   ]
  },
  {
   "cell_type": "code",
   "execution_count": 14,
   "metadata": {},
   "outputs": [
    {
     "data": {
      "text/plain": [
       "\"\\nBug ID is unique for each column ==> remove it\\nResolution is the same for all rows ==> remove it\\nType, status, product, component, updated don't affect our task\\n\""
      ]
     },
     "execution_count": 14,
     "metadata": {},
     "output_type": "execute_result"
    }
   ],
   "source": [
    "'''\n",
    "Bug ID is unique for each column ==> remove it\n",
    "Resolution is the same for all rows ==> remove it\n",
    "Type, status, product, component, updated don't affect our task\n",
    "'''"
   ]
  },
  {
   "cell_type": "markdown",
   "metadata": {},
   "source": [
    "**Drop unnecessary columns**"
   ]
  },
  {
   "cell_type": "code",
   "execution_count": 4,
   "metadata": {},
   "outputs": [],
   "source": [
    "# Columns to drop from the DataFrame 'mozilla_dataset'\n",
    "columns_to_drop = ['Bug ID', 'Type', 'Product', 'Component', 'Status', 'Resolution', 'Updated']\n",
    "\n",
    "# Drop the specified columns from the DataFrame 'mozilla_dataset'\n",
    "# 'drop(columns=columns_to_drop)' removes the specified columns from the DataFrame\n",
    "mozilla_dataset = mozilla_dataset.drop(columns=columns_to_drop)"
   ]
  },
  {
   "cell_type": "code",
   "execution_count": 5,
   "metadata": {},
   "outputs": [
    {
     "name": "stdout",
     "output_type": "stream",
     "text": [
      "Index(['Summary', 'Assignee'], dtype='object')\n"
     ]
    }
   ],
   "source": [
    "# Print the names of the columns in the DataFrame 'mozilla_dataset'\n",
    "# 'columns' returns an Index object containing the column labels of the DataFrame\n",
    "print(mozilla_dataset.columns)"
   ]
  },
  {
   "cell_type": "markdown",
   "metadata": {},
   "source": [
    "**generates descriptive statistics of the data**"
   ]
  },
  {
   "cell_type": "code",
   "execution_count": 6,
   "metadata": {},
   "outputs": [
    {
     "data": {
      "text/html": [
       "<div>\n",
       "<style scoped>\n",
       "    .dataframe tbody tr th:only-of-type {\n",
       "        vertical-align: middle;\n",
       "    }\n",
       "\n",
       "    .dataframe tbody tr th {\n",
       "        vertical-align: top;\n",
       "    }\n",
       "\n",
       "    .dataframe thead th {\n",
       "        text-align: right;\n",
       "    }\n",
       "</style>\n",
       "<table border=\"1\" class=\"dataframe\">\n",
       "  <thead>\n",
       "    <tr style=\"text-align: right;\">\n",
       "      <th></th>\n",
       "      <th>Summary</th>\n",
       "      <th>Assignee</th>\n",
       "    </tr>\n",
       "  </thead>\n",
       "  <tbody>\n",
       "    <tr>\n",
       "      <th>count</th>\n",
       "      <td>89661</td>\n",
       "      <td>89661</td>\n",
       "    </tr>\n",
       "    <tr>\n",
       "      <th>unique</th>\n",
       "      <td>89555</td>\n",
       "      <td>1003</td>\n",
       "    </tr>\n",
       "    <tr>\n",
       "      <th>top</th>\n",
       "      <td>ISPDB Database Entries</td>\n",
       "      <td>nobody</td>\n",
       "    </tr>\n",
       "    <tr>\n",
       "      <th>freq</th>\n",
       "      <td>12</td>\n",
       "      <td>80538</td>\n",
       "    </tr>\n",
       "  </tbody>\n",
       "</table>\n",
       "</div>"
      ],
      "text/plain": [
       "                       Summary Assignee\n",
       "count                    89661    89661\n",
       "unique                   89555     1003\n",
       "top     ISPDB Database Entries   nobody\n",
       "freq                        12    80538"
      ]
     },
     "execution_count": 6,
     "metadata": {},
     "output_type": "execute_result"
    }
   ],
   "source": [
    "# generates descriptive statistics of the data\n",
    "# include=\"O\": This parameter is specifying that you want to include columns with object data type \n",
    "# By default, describe works on numeric columns\n",
    "mozilla_dataset.describe(include = \"O\")"
   ]
  },
  {
   "cell_type": "markdown",
   "metadata": {},
   "source": [
    "**Show the number of nulls in each column**"
   ]
  },
  {
   "cell_type": "code",
   "execution_count": 21,
   "metadata": {},
   "outputs": [
    {
     "name": "stdout",
     "output_type": "stream",
     "text": [
      "Summary     0\n",
      "Assignee    0\n",
      "dtype: int64\n"
     ]
    }
   ],
   "source": [
    "# Print the number of missing values (NaN) in each column of the DataFrame 'eclipse_dataset'\n",
    "# 'eclipse_dataset.isnull().sum()' calculates the sum of missing values across all columns\n",
    "print(mozilla_dataset.isnull().sum())"
   ]
  },
  {
   "cell_type": "markdown",
   "metadata": {},
   "source": [
    "**Print the minimum number of occurance of Assignee column**"
   ]
  },
  {
   "cell_type": "code",
   "execution_count": 22,
   "metadata": {},
   "outputs": [
    {
     "name": "stdout",
     "output_type": "stream",
     "text": [
      "The minimum number of occurrences in owner column is 1\n"
     ]
    }
   ],
   "source": [
    "# Calculate the minimum number of occurrences of each unique value in the 'Assignee' column\n",
    "# 'eclipse_datamozilla_datasetset['Assignee'].value_counts().min()' computes the minimum count of occurrences for any value in 'Assignee'\n",
    "min_occurrences = mozilla_dataset['Assignee'].value_counts().min()\n",
    "\n",
    "# Print the minimum number of occurrences found in the 'Assignee' column\n",
    "print(f\"The minimum number of occurrences in owner column is {min_occurrences}\")"
   ]
  },
  {
   "cell_type": "markdown",
   "metadata": {},
   "source": [
    "**Filter the dataset do the minimum occurance of each Assignee is 5**"
   ]
  },
  {
   "cell_type": "code",
   "execution_count": 7,
   "metadata": {},
   "outputs": [],
   "source": [
    "# Calculate the occurrences of each unique value in the 'Assignee' column\n",
    "# 'mozilla_dataset['Assignee'].value_counts()' computes the frequency of each unique value in 'Assignee'\n",
    "value_counts = mozilla_dataset['Assigneclipse_datasetee'].value_counts()\n",
    "\n",
    "# Filter the DataFrame 'eclipse_dataset' to include only rows where 'Assignee' has at least 5 occurrences\n",
    "# 'mozilla_dataset[eclipse_dataset['Assignee'].isin(value_counts[value_counts >= 5].index)]' filters rows based on occurrence count\n",
    "mozilla_dataset = mozilla_dataset[mozilla_dataset['Assignee'].isin(value_counts[value_counts >= 5].index)]"
   ]
  },
  {
   "cell_type": "code",
   "execution_count": 8,
   "metadata": {},
   "outputs": [
    {
     "name": "stdout",
     "output_type": "stream",
     "text": [
      "The minimum number of occurrences in owner column after filteration is 5\n"
     ]
    }
   ],
   "source": [
    "# Calculate the minimum number of occurrences of each unique value in the 'Assignee' column\n",
    "# 'eclipse_datamozilla_datasetset['Assignee'].value_counts().min()' computes the minimum count of occurrences for any value in 'Assignee'\n",
    "min_occurrences = mozilla_dataset['Assignee'].value_counts().min()\n",
    "\n",
    "# Print the minimum number of occurrences found in the 'Assignee' column\n",
    "print(f\"The minimum number of occurrences in owner column is {min_occurrences}\")"
   ]
  },
  {
   "cell_type": "code",
   "execution_count": 9,
   "metadata": {},
   "outputs": [
    {
     "name": "stdout",
     "output_type": "stream",
     "text": [
      "(88483, 2)\n"
     ]
    }
   ],
   "source": [
    "# Print the shape of the DataFrame 'mozilla_dataset'\n",
    "# 'shape' returns a tuple representing the dimensionality of the DataFrame\n",
    "# The first value is the number of rows, and the second value is the number of columns\n",
    "print(mozilla_dataset.shape)"
   ]
  },
  {
   "cell_type": "code",
   "execution_count": 29,
   "metadata": {},
   "outputs": [
    {
     "data": {
      "text/plain": [
       "Summary     88381\n",
       "Assignee      304\n",
       "dtype: int64"
      ]
     },
     "execution_count": 29,
     "metadata": {},
     "output_type": "execute_result"
    }
   ],
   "source": [
    "# Count the number of unique values in each column of the DataFrame 'mozilla_dataset'\n",
    "# 'nunique()' returns a Series with the number of unique values for each column\n",
    "# This is useful for understanding the variability and cardinality of data in each column\n",
    "mozilla_dataset.nunique()"
   ]
  },
  {
   "cell_type": "markdown",
   "metadata": {},
   "source": [
    "**Show the values of Assignee column**"
   ]
  },
  {
   "cell_type": "code",
   "execution_count": 30,
   "metadata": {},
   "outputs": [
    {
     "name": "stdout",
     "output_type": "stream",
     "text": [
      "Unique values in the 'Assignee' column:\n",
      "nobody\n",
      "hmanilla\n",
      "jimb\n",
      "poirot.alex\n",
      "gl\n",
      "jdescottes\n",
      "jwatt\n",
      "daisuke\n",
      "ayeddi\n",
      "emilio\n",
      "kaie\n",
      "nchevobbe\n",
      "gijskruitbosch+bugs\n",
      "continuation\n",
      "csabou\n",
      "dlee\n",
      "martin\n",
      "arai.unmht\n",
      "mcs\n",
      "bugzeeeeee\n",
      "jboek\n",
      "kkaya\n",
      "m_kato\n",
      "zmckenney\n",
      "dschubert\n",
      "mtighe\n",
      "rob\n",
      "jcristau\n",
      "timeless\n",
      "cdenizet\n",
      "tthibaud\n",
      "gregp\n",
      "jackyzy823\n",
      "nalexander\n",
      "bugzillamozillaorg_serge_20140323\n",
      "hikezoe.birchill\n",
      "bwerth\n",
      "krosylight\n",
      "valentin.gosu\n",
      "gsvelto\n",
      "haftandilian\n",
      "general\n",
      "gwatson\n",
      "jmuizelaar\n",
      "lissyx+mozillians\n",
      "mozilla\n",
      "sdowne\n",
      "chutten\n",
      "dmosedale\n",
      "emcminn\n",
      "gsuntop\n",
      "halemu\n",
      "jprickett\n",
      "mathieu\n",
      "mconley\n",
      "nsauermann\n",
      "pdahiya\n",
      "scunnane\n",
      "edilee\n",
      "enordin\n",
      "imani\n",
      "jteow\n",
      "mcheang\n",
      "mstriemer\n",
      "nrishel\n",
      "nsharpley\n",
      "rhelmer\n",
      "sgalich\n",
      "standard8\n",
      "teshaq\n",
      "cgeorgiu\n",
      "enndeakin\n",
      "mpohle\n",
      "ssachdev\n",
      "choller\n",
      "jhugman\n",
      "jneuberger\n",
      "joschmidt\n",
      "afranchuk\n",
      "hsohaney\n",
      "jules\n",
      "pmcmanis\n",
      "ajvincent\n",
      "brosa\n",
      "padenot\n",
      "tomica\n",
      "wdurand\n",
      "aryx.bugmail\n",
      "mh+mozilla\n",
      "neil\n",
      "dao+bmo\n",
      "rpierzina\n",
      "lgreco\n",
      "mak\n",
      "mtigley\n",
      "bugzilla\n",
      "itiel_yn8\n",
      "sphink\n",
      "mstange.moz\n",
      "jmaher\n",
      "zeid\n",
      "afinder\n",
      "aglavic\n",
      "gmierz2\n",
      "bacasandrei\n",
      "tom\n",
      "wptsync\n",
      "gbrown\n",
      "james\n",
      "kshampur\n",
      "ahal\n",
      "hskupin\n",
      "support\n",
      "rginda\n",
      "cbeard\n",
      "other\n",
      "win32\n",
      "buchanae+bugs\n",
      "mary\n",
      "mruttley\n",
      "ozten.bugs\n",
      "alqahira\n",
      "ashuk\n",
      "bhackett1024\n",
      "Jeff.Dlouhy\n",
      "kmcclusk\n",
      "slogan\n",
      "chris\n",
      "bugs\n",
      "bugzilla-graveyard\n",
      "froodian\n",
      "jono\n",
      "jshin1987\n",
      "laura\n",
      "mark\n",
      "me\n",
      "mnyromyr\n",
      "nick.kreeger\n",
      "samir_bugzilla\n",
      "ssu0262\n",
      "stuart.morgan+bugzilla\n",
      "tingley\n",
      "gregaryh\n",
      "administration\n",
      "import-export\n",
      "query-and-buglist\n",
      "user-accounts\n",
      "attach-and-request\n",
      "charting\n",
      "create-and-change\n",
      "database\n",
      "dependency.views\n",
      "documentation\n",
      "dylan\n",
      "dylan+test\n",
      "email-notifications\n",
      "extension.ideas\n",
      "extensions\n",
      "incoming.email\n",
      "installation\n",
      "testing\n",
      "ui\n",
      "webservice\n",
      "website\n",
      "whining\n",
      "alim94\n",
      "acelists\n",
      "ben.bucksch\n",
      "joshi.sunil\n",
      "justdave\n",
      "mockodin\n",
      "dthorn\n",
      "reed\n",
      "sven\n",
      "willkg\n",
      "bugmail\n",
      "wurblzap\n",
      "micah\n",
      "mkmelin+mozilla\n",
      "elijmitchell\n",
      "bugzilla2007\n",
      "philipp\n",
      "ahochheiden\n",
      "bpostelnicu\n",
      "sheehan\n",
      "sledru\n",
      "glob\n",
      "ishikawa\n",
      "sguelton\n",
      "daniel\n",
      "dkl\n",
      "rrelyea\n",
      "nkulatova\n",
      "gabriel\n",
      "jschanck\n",
      "john\n",
      "oriol-bugzilla\n",
      "yuki\n",
      "twisniewski\n",
      "RainerBielefeldNG\n",
      "installer\n",
      "jwalden+fxhelp\n",
      "mail\n",
      "kberezina\n",
      "search\n",
      "jag+mozilla\n",
      "sidebar\n",
      "db48x\n",
      "frgrahl\n",
      "iannbugzilla\n",
      "philip.chee\n",
      "tabbed-browser\n",
      "arcuscc1\n",
      "nunojsg\n",
      "craigcook.bugz\n",
      "jbalaco\n",
      "merwin\n",
      "pkim\n",
      "spike\n",
      "msalazar\n",
      "lsiebert\n",
      "relops\n",
      "epang\n",
      "jlorenzo\n",
      "poonam\n",
      "sescalante\n",
      "dveditz\n",
      "mcornmesser\n",
      "aaron.train\n",
      "adam\n",
      "andrea\n",
      "bart\n",
      "bdils.mozilla\n",
      "bhaack\n",
      "dgalindo\n",
      "fbertsch\n",
      "flopez\n",
      "garethcull.bugs\n",
      "gps\n",
      "infra\n",
      "irios.mozilla\n",
      "jaymoz\n",
      "jslater\n",
      "kardekani\n",
      "kparlante\n",
      "lmcardle\n",
      "matej\n",
      "mavis\n",
      "michael\n",
      "pmac\n",
      "rcvillink\n",
      "rweiss\n",
      "sabrina\n",
      "sethb\n",
      "tshahian\n",
      "vadimk\n",
      "yvanboily+mozbugmail\n",
      "bwilson\n",
      "cbrentano\n",
      "ltom\n",
      "mads.henriksveen\n",
      "mternoway\n",
      "rhonda\n",
      "pmoore\n",
      "gds\n",
      "smontagu\n",
      "benc\n",
      "solange\n",
      "alessandro\n",
      "m-wada\n",
      "philbaseless-firefox\n",
      "Pidgeot18\n",
      "rkent\n",
      "syshagarwal\n",
      "jonathan.protzenko\n",
      "jporterbugs\n",
      "vineet\n",
      "mscott\n",
      "h.w.forms\n",
      "geoff\n",
      "richard.marti\n",
      "ohall\n",
      "royang\n",
      "giorga\n",
      "mavduevskiy\n",
      "mcarare\n",
      "nbond\n",
      "towhite\n",
      "Vlad.DreghiciPopa\n",
      "ohorvath\n",
      "ajoltan\n",
      "hoglesby\n",
      "bobm\n",
      "jbuckley\n",
      "vzare\n",
      "ascholtz\n",
      "jrediger\n",
      "amiyaguchi\n",
      "bewu\n",
      "eolson\n",
      "cvalaas\n",
      "kignasiak\n",
      "u581815\n",
      "wezhou\n"
     ]
    }
   ],
   "source": [
    "# Print the unique values in the 'Assignee' column of the DataFrame 'mozilla_dataset'\n",
    "# 'mozilla_dataset['Assignee'].unique()' retrieves an array of unique values from the 'Assignee' column\n",
    "assignee_unique_values = mozilla_dataset['Assignee'].unique()\n",
    "\n",
    "# Print each unique value in the 'Assignee' column to the console\n",
    "print(f\"Unique values in the 'Assignee' column:\")\n",
    "for assignee_value in assignee_unique_values:\n",
    "    print(assignee_value)"
   ]
  },
  {
   "cell_type": "markdown",
   "metadata": {},
   "source": [
    "**Remove rows where the 'Assignee' column has the value 'nobody'**"
   ]
  },
  {
   "cell_type": "code",
   "execution_count": 10,
   "metadata": {},
   "outputs": [],
   "source": [
    "# Remove rows from the DataFrame 'mozilla_dataset' where the 'Assignee' column has the value 'nobody'\n",
    "# 'mozilla_dataset[mozilla_dataset['Assignee'] != 'nobody']' filters out rows with 'Assignee' not equal to 'nobody'\n",
    "mozilla_dataset = mozilla_dataset[mozilla_dataset['Assignee'] != 'nobody']"
   ]
  },
  {
   "cell_type": "code",
   "execution_count": 11,
   "metadata": {},
   "outputs": [
    {
     "name": "stdout",
     "output_type": "stream",
     "text": [
      "(7945, 2)\n"
     ]
    }
   ],
   "source": [
    "# Print the shape of the DataFrame 'mozilla_dataset'\n",
    "# 'shape' returns a tuple representing the dimensionality of the DataFrame\n",
    "# The first value is the number of rows, and the second value is the number of columns\n",
    "print(mozilla_dataset.shape)"
   ]
  },
  {
   "cell_type": "markdown",
   "metadata": {},
   "source": [
    "**clean the text in the summary column**"
   ]
  },
  {
   "cell_type": "code",
   "execution_count": 12,
   "metadata": {},
   "outputs": [],
   "source": [
    "def preprocess_summary(summary):\n",
    "    \"\"\"\n",
    "    Preprocesses a summary string by removing special characters, newlines, and hyperlinks.\n",
    "\n",
    "    Parameters:\n",
    "    summary (str): The summary string to preprocess.\n",
    "\n",
    "    Returns:\n",
    "    str: The preprocessed summary string.\n",
    "    \"\"\"\n",
    "    # Remove special characters using regular expression\n",
    "    summary = re.sub(r'[^\\w\\s]', '', summary)\n",
    "    \n",
    "    # Remove newlines by replacing with a space\n",
    "    summary = summary.replace('\\n', ' ')\n",
    "    \n",
    "    # Remove hyperlinks using regular expression\n",
    "    summary = re.sub(r'http\\S+', '', summary)\n",
    "    \n",
    "    return summary"
   ]
  },
  {
   "cell_type": "code",
   "execution_count": 13,
   "metadata": {},
   "outputs": [],
   "source": [
    "# Preprocess the 'Summary' column in the DataFrame 'v'\n",
    "# 'apply(preprocess_summary)' applies the function 'preprocess_summary' to each element in the 'Summary' column\n",
    "# This preprocesses each summary by removing special characters, newlines, and hyperlinks\n",
    "mozilla_dataset['Summary'] = mozilla_dataset['Summary'].apply(preprocess_summary)"
   ]
  },
  {
   "cell_type": "markdown",
   "metadata": {},
   "source": [
    "**Filter the dataset by the number of words in Summary column**"
   ]
  },
  {
   "cell_type": "code",
   "execution_count": 14,
   "metadata": {},
   "outputs": [],
   "source": [
    "def filter_by_word_count(df, min_word_count):\n",
    "    \"\"\"\n",
    "    Filter a DataFrame 'df' to include only rows where the 'Summary' column has at least 'min_word_count' words.\n",
    "\n",
    "    Parameters:\n",
    "    df (DataFrame): The input DataFrame containing a 'Summary' column.\n",
    "    min_word_count (int): The minimum number of words required in the 'Summary' column.\n",
    "\n",
    "    Returns:\n",
    "    DataFrame: A filtered DataFrame containing rows with at least 'min_word_count' words in the 'Summary' column.\n",
    "    \"\"\"\n",
    "    # Split each summary into words, count the number of words, and filter rows based on word count\n",
    "    return df[df['Summary'].str.split().str.len() >= min_word_count]"
   ]
  },
  {
   "cell_type": "code",
   "execution_count": 15,
   "metadata": {},
   "outputs": [],
   "source": [
    "# Define the minimum word count required in each summary\n",
    "min_word_count = 5\n",
    "\n",
    "# Filter rows in the DataFrame 'mozilla_dataset' to include only those where the 'Summary' column has at least 'min_word_count' words\n",
    "# 'filter_by_word_count(mozilla_dataset, min_word_count)' filters the DataFrame based on the word count in the 'Summary' column\n",
    "mozilla_dataset = filter_by_word_count(mozilla_dataset, min_word_count)"
   ]
  },
  {
   "cell_type": "code",
   "execution_count": 16,
   "metadata": {},
   "outputs": [
    {
     "name": "stdout",
     "output_type": "stream",
     "text": [
      "(7291, 2)\n"
     ]
    }
   ],
   "source": [
    "# Print the shape of the DataFrame 'mozilla_dataset'\n",
    "# 'shape' returns a tuple representing the dimensionality of the DataFrame\n",
    "# The first value is the number of rows, and the second value is the number of columns\n",
    "print(mozilla_dataset.shape)"
   ]
  },
  {
   "cell_type": "markdown",
   "metadata": {},
   "source": [
    "**Save cleaned data**"
   ]
  },
  {
   "cell_type": "code",
   "execution_count": 17,
   "metadata": {},
   "outputs": [],
   "source": [
    "# Get the current working directory\n",
    "current_dir = os.getcwd() \n",
    "\n",
    "# Define the relative path to save the cleaned DataFrame as a CSV file\n",
    "relative_path = os.path.join('..', 'data','mozilla_dataset' ,'cleaned_mozilla_dataset.csv')\n",
    "# Save the DataFrame 'kaggle_dataset' to a CSV file at the specified path\n",
    "# 'index=False' excludes the DataFrame index from being saved to the CSV file\n",
    "mozilla_dataset.to_csv(os.path.join(current_dir, relative_path), index=False) # exclude the DataFrame index from being saved to the CSV file."
   ]
  },
  {
   "cell_type": "code",
   "execution_count": null,
   "metadata": {},
   "outputs": [],
   "source": [
    "'''\n",
    "When exporting a DataFrame to CSV with the index included (index=True, which is the default), \n",
    "Pandas includes the index values as an additional column in the CSV file. \n",
    "If this index column is not needed for analysis or is redundant (especially if the index is just an integer sequence), \n",
    "excluding it can make the CSV file cleaner and more aligned with typical CSV data formats.\n",
    "'''"
   ]
  }
 ],
 "metadata": {
  "accelerator": "GPU",
  "colab": {
   "gpuType": "T4",
   "provenance": []
  },
  "kernelspec": {
   "display_name": "Python 3 (ipykernel)",
   "language": "python",
   "name": "python3"
  },
  "language_info": {
   "codemirror_mode": {
    "name": "ipython",
    "version": 3
   },
   "file_extension": ".py",
   "mimetype": "text/x-python",
   "name": "python",
   "nbconvert_exporter": "python",
   "pygments_lexer": "ipython3",
   "version": "3.8.10"
  }
 },
 "nbformat": 4,
 "nbformat_minor": 4
}
