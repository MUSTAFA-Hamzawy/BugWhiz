{
  "nbformat": 4,
  "nbformat_minor": 0,
  "metadata": {
    "colab": {
      "provenance": []
    },
    "kernelspec": {
      "name": "python3",
      "display_name": "Python 3"
    },
    "language_info": {
      "name": "python"
    }
  },
  "cells": [
    {
      "cell_type": "code",
      "execution_count": 1,
      "metadata": {
        "id": "GqWRX_HSDf9g"
      },
      "outputs": [],
      "source": [
        "import pandas as pd\n",
        "from sklearn.preprocessing import LabelEncoder\n",
        "from sklearn.feature_extraction.text import TfidfVectorizer\n",
        "from sklearn.svm import SVC\n",
        "from sklearn.metrics import accuracy_score\n",
        "from sklearn.model_selection import StratifiedShuffleSplit\n",
        "import joblib\n",
        "from sklearn.model_selection import train_test_split, GridSearchCV\n",
        "import nltk\n",
        "from nltk.corpus import stopwords\n",
        "from sklearn.pipeline import Pipeline\n",
        "from nltk.tokenize import word_tokenize\n",
        "from nltk.stem import PorterStemmer\n",
        "from nltk.corpus import stopwords"
      ]
    },
    {
      "cell_type": "markdown",
      "source": [
        "**Prepare tokenizer, stemmer and stop words**"
      ],
      "metadata": {
        "id": "rrnwO6Yw1uz_"
      }
    },
    {
      "cell_type": "code",
      "source": [
        "nltk.download('punkt')\n",
        "nltk.download('stopwords')\n",
        "stop_words = set(stopwords.words('english'))\n",
        "stemmer = PorterStemmer()"
      ],
      "metadata": {
        "colab": {
          "base_uri": "https://localhost:8080/"
        },
        "id": "ih4sgshXIGgG",
        "outputId": "59ab346c-0c89-440a-8a14-59c69e291f1e"
      },
      "execution_count": 2,
      "outputs": [
        {
          "output_type": "stream",
          "name": "stderr",
          "text": [
            "[nltk_data] Downloading package punkt to /root/nltk_data...\n",
            "[nltk_data]   Unzipping tokenizers/punkt.zip.\n"
          ]
        },
        {
          "output_type": "execute_result",
          "data": {
            "text/plain": [
              "True"
            ]
          },
          "metadata": {},
          "execution_count": 2
        }
      ]
    },
    {
      "cell_type": "markdown",
      "source": [
        "**Mount the drive**"
      ],
      "metadata": {
        "id": "zRWTtYsa1zfn"
      }
    },
    {
      "cell_type": "code",
      "source": [
        "# Mount Google Drive\n",
        "from google.colab import drive\n",
        "drive.mount('/content/drive')"
      ],
      "metadata": {
        "colab": {
          "base_uri": "https://localhost:8080/"
        },
        "id": "837wtVlaDoAm",
        "outputId": "46ee1f52-33b1-4d96-aaf3-e298bd04f23b"
      },
      "execution_count": 4,
      "outputs": [
        {
          "output_type": "stream",
          "name": "stdout",
          "text": [
            "Mounted at /content/drive\n"
          ]
        }
      ]
    },
    {
      "cell_type": "markdown",
      "source": [
        "**Load the claddifier, TF-IDF vectorizer and label encoder**"
      ],
      "metadata": {
        "id": "cdi0tKgm12Eu"
      }
    },
    {
      "cell_type": "code",
      "source": [
        "# Load the trained model and vectorizer\n",
        "svm_classifier = joblib.load('/content/drive/My Drive/checkpoints/svm_classifier_model.joblib')\n",
        "tfidf_vectorizer = joblib.load('/content/drive/My Drive/checkpoints/tfidf_vectorizer.joblib')\n",
        "label_encoder = joblib.load('/content/drive/My Drive/checkpoints/label_encoder.joblib')"
      ],
      "metadata": {
        "id": "_LXsv_2PdaRp"
      },
      "execution_count": 13,
      "outputs": []
    },
    {
      "cell_type": "markdown",
      "source": [
        "**Remove stop words from the bug report**"
      ],
      "metadata": {
        "id": "_zsRG7Oz2C0D"
      }
    },
    {
      "cell_type": "code",
      "source": [
        "def remove_stopwords(tokens):\n",
        "    return [word for word in tokens if word.lower() not in stop_words]"
      ],
      "metadata": {
        "id": "k8RQWkvJIT9k"
      },
      "execution_count": 16,
      "outputs": []
    },
    {
      "cell_type": "markdown",
      "source": [
        "**Apply stemming on the bug tokens**"
      ],
      "metadata": {
        "id": "jAY2XfLx2GT5"
      }
    },
    {
      "cell_type": "code",
      "source": [
        "def stem_tokens(tokens):\n",
        "    return [stemmer.stem(word) for word in tokens]"
      ],
      "metadata": {
        "id": "VKaXDiZqIz-j"
      },
      "execution_count": 18,
      "outputs": []
    },
    {
      "cell_type": "markdown",
      "source": [
        "**Get the class using the svm_classifier**"
      ],
      "metadata": {
        "id": "l0YHOEXR2O_O"
      }
    },
    {
      "cell_type": "code",
      "source": [
        "def predict_summary(summary):\n",
        "    # Preprocess the input summary\n",
        "    summary_tfidf = tfidf_vectorizer.transform(summary)\n",
        "\n",
        "    # Predict the class\n",
        "    predicted_class = svm_classifier.predict(summary_tfidf)\n",
        "\n",
        "    return predicted_class[0]"
      ],
      "metadata": {
        "id": "Q7YtLnOBJPi3"
      },
      "execution_count": 22,
      "outputs": []
    },
    {
      "cell_type": "markdown",
      "source": [
        "**Inference**"
      ],
      "metadata": {
        "id": "r3iuWeQS2VZD"
      }
    },
    {
      "cell_type": "code",
      "source": [
        "# Get the input bug report\n",
        "bug = input(\"Enter the bug report\")\n",
        "# Apply tokenization\n",
        "tokens = word_tokenize(bug)\n",
        "# Remove stop words\n",
        "remove_stopwords(tokens)\n",
        "# Apply stemming\n",
        "stem_tokens(tokens)\n",
        "# Predict the class using the svm_classifier after applying TF-IDF\n",
        "predicted_class = predict_summary(tokens)\n",
        "print(f\"The predicted class is: {predicted_class}\")\n",
        "# Decode the numeric labels back to the original class names\n",
        "decoded_prediction = label_encoder.inverse_transform([predicted_class])\n",
        "print(f\"The Developer name is: {decoded_prediction}\")"
      ],
      "metadata": {
        "colab": {
          "base_uri": "https://localhost:8080/"
        },
        "id": "jYdAny_k2CbC",
        "outputId": "37bd8292-5803-4742-e2c4-2770d3a701b3"
      },
      "execution_count": 29,
      "outputs": [
        {
          "output_type": "stream",
          "name": "stdout",
          "text": [
            "Enter the bug reportScrolling with some scroll mice touchpad etc scrolls down but not up Product Version see aboutversion URLs if applicable 0214927Other browsers tested Firefox IE Add OK or FAIL after other browsers where you have tested this issueSafari 3 Firefox 3 OK IE 7OK. What steps will reproduce the problem1 Open any webpage on compaq 6715s running vista2. Try scrolling with the touchpad3 Scrolling down will work  but up will not. What is the expected result. The page to scroll up. What happens instead The page doesnt move. Please provide any additional information below Attach a screenshot if possible. Only a minor bug\n",
            "The predicted class is: 1339\n",
            "The Developer name is: ['mdt-papyrus-inbox']\n"
          ]
        }
      ]
    },
    {
      "cell_type": "code",
      "source": [
        "bug = '''Scrolling with some scroll mice touchpad etc scrolls down but not up Product Version\n",
        "       see aboutversion URLs if applicable 0214927Other browsers tested Firefox\n",
        "       IE Add OK or FAIL after other browsers where you have tested this issueSafari 3\n",
        "       Firefox 3 OK\n",
        "       IE 7OK\n",
        "       What steps will reproduce the problem1 Open any webpage on compaq 6715s running vista2\n",
        "       Try scrolling with the touchpad3 Scrolling down will work  but up will not\n",
        "       What is the expected result\n",
        "       The page to scroll up\n",
        "       What happens instead The page doesnt move\n",
        "       Please provide any additional information below Attach a screenshot if possible\n",
        "       Only a minor bug'''"
      ],
      "metadata": {
        "id": "C1q6f5ufjcGA"
      },
      "execution_count": null,
      "outputs": []
    }
  ]
}