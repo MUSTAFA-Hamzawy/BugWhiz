{
  "cells": [
    {
      "cell_type": "markdown",
      "metadata": {
        "id": "H1owhJo-7c_s"
      },
      "source": [
        "**Import Libraries**"
      ]
    },
    {
      "cell_type": "code",
      "execution_count": 2,
      "metadata": {
        "id": "WfJvhCiZ6gft"
      },
      "outputs": [],
      "source": [
        "import pandas as pd\n",
        "from sklearn.preprocessing import LabelEncoder\n",
        "from sklearn.feature_extraction.text import TfidfVectorizer\n",
        "from sklearn.svm import SVC\n",
        "from sklearn.metrics import accuracy_score, top_k_accuracy_score, make_scorer\n",
        "from sklearn.model_selection import StratifiedShuffleSplit, cross_val_score\n",
        "import joblib\n",
        "import numpy as np\n",
        "from collections import defaultdict, Counter\n",
        "import math\n",
        "from scipy.sparse import csr_matrix\n",
        "import pickle"
      ]
    },
    {
      "cell_type": "markdown",
      "metadata": {
        "id": "mIjQw4jv7jlz"
      },
      "source": [
        "**Load The Dataset**"
      ]
    },
    {
      "cell_type": "code",
      "execution_count": 3,
      "metadata": {
        "colab": {
          "base_uri": "https://localhost:8080/"
        },
        "id": "tgkV2Cg3gIk5",
        "outputId": "720709fc-7f1b-4e19-f40d-082b2169cfaa"
      },
      "outputs": [
        {
          "output_type": "stream",
          "name": "stdout",
          "text": [
            "Drive already mounted at /content/drive; to attempt to forcibly remount, call drive.mount(\"/content/drive\", force_remount=True).\n"
          ]
        }
      ],
      "source": [
        "# Mount Google Drive\n",
        "from google.colab import drive\n",
        "drive.mount('/content/drive')"
      ]
    },
    {
      "cell_type": "code",
      "execution_count": 4,
      "metadata": {
        "id": "9bLUtRI77py8"
      },
      "outputs": [],
      "source": [
        "file_path = '/content/drive/My Drive/dataset_after_preprocessing.csv'\n",
        "dataset = pd.read_csv(file_path)"
      ]
    },
    {
      "cell_type": "code",
      "execution_count": 5,
      "metadata": {
        "colab": {
          "base_uri": "https://localhost:8080/",
          "height": 423
        },
        "id": "JOBbEojOA7sa",
        "outputId": "ceb7119c-5a9e-486d-8d19-94cab2ede692"
      },
      "outputs": [
        {
          "output_type": "execute_result",
          "data": {
            "text/plain": [
              "                                          Summary_Stemmed  \\\n",
              "0       ['scroll', 'scroll', 'mice', 'touchpad', 'etc'...   \n",
              "1       ['add', 'check', 'item', 'download', 'panel', ...   \n",
              "2       ['useafterfre', 'navig', 'document', 'form', '...   \n",
              "3       ['add', 'address', 'properli', 'autofil', 'opt...   \n",
              "4       ['libxmlgyp', 'defin', 'libxmlstat', 'direct',...   \n",
              "...                                                   ...   \n",
              "117376  ['updat', 'gleanj', 'dashboard', 'ignor', 'gle...   \n",
              "117377  ['autocomplet', 'type', 'valid', 'valu', 'pass...   \n",
              "117378  ['intermitt', 'slow', 'see', 'ping', 'show', '...   \n",
              "117379  ['investig', 'string', 'metric', 'type', 'adeq...   \n",
              "117380  ['remov', 'manual', 'page', 'load', 'event', '...   \n",
              "\n",
              "                                        processed_summary  \\\n",
              "0                  scroll scroll mice touchpad etc scroll   \n",
              "1              add check item download panel browser test   \n",
              "2       useafterfre navig document form valid messag s...   \n",
              "3          add address properli autofil option dialog box   \n",
              "4                libxmlgyp defin libxmlstat direct depend   \n",
              "...                                                   ...   \n",
              "117376    updat gleanj dashboard ignor glean sdk data vpn   \n",
              "117377            autocomplet type valid valu pass record   \n",
              "117378     intermitt slow see ping show debug ping viewer   \n",
              "117379  investig string metric type adequ captur gfxad...   \n",
              "117380  remov manual page load event glean debug ping ...   \n",
              "\n",
              "                    Assignee  \n",
              "0          amit@chromium.org  \n",
              "1       achuith@chromium.org  \n",
              "2         tkent@chromium.org  \n",
              "3           sky@chromium.org  \n",
              "4           wtc@chromium.org  \n",
              "...                      ...  \n",
              "117376                 brosa  \n",
              "117377                 brosa  \n",
              "117378                 brosa  \n",
              "117379              pmcmanis  \n",
              "117380                 brosa  \n",
              "\n",
              "[117381 rows x 3 columns]"
            ],
            "text/html": [
              "\n",
              "  <div id=\"df-8c48993b-ba78-43fb-b141-6fe6e17f4543\" class=\"colab-df-container\">\n",
              "    <div>\n",
              "<style scoped>\n",
              "    .dataframe tbody tr th:only-of-type {\n",
              "        vertical-align: middle;\n",
              "    }\n",
              "\n",
              "    .dataframe tbody tr th {\n",
              "        vertical-align: top;\n",
              "    }\n",
              "\n",
              "    .dataframe thead th {\n",
              "        text-align: right;\n",
              "    }\n",
              "</style>\n",
              "<table border=\"1\" class=\"dataframe\">\n",
              "  <thead>\n",
              "    <tr style=\"text-align: right;\">\n",
              "      <th></th>\n",
              "      <th>Summary_Stemmed</th>\n",
              "      <th>processed_summary</th>\n",
              "      <th>Assignee</th>\n",
              "    </tr>\n",
              "  </thead>\n",
              "  <tbody>\n",
              "    <tr>\n",
              "      <th>0</th>\n",
              "      <td>['scroll', 'scroll', 'mice', 'touchpad', 'etc'...</td>\n",
              "      <td>scroll scroll mice touchpad etc scroll</td>\n",
              "      <td>amit@chromium.org</td>\n",
              "    </tr>\n",
              "    <tr>\n",
              "      <th>1</th>\n",
              "      <td>['add', 'check', 'item', 'download', 'panel', ...</td>\n",
              "      <td>add check item download panel browser test</td>\n",
              "      <td>achuith@chromium.org</td>\n",
              "    </tr>\n",
              "    <tr>\n",
              "      <th>2</th>\n",
              "      <td>['useafterfre', 'navig', 'document', 'form', '...</td>\n",
              "      <td>useafterfre navig document form valid messag s...</td>\n",
              "      <td>tkent@chromium.org</td>\n",
              "    </tr>\n",
              "    <tr>\n",
              "      <th>3</th>\n",
              "      <td>['add', 'address', 'properli', 'autofil', 'opt...</td>\n",
              "      <td>add address properli autofil option dialog box</td>\n",
              "      <td>sky@chromium.org</td>\n",
              "    </tr>\n",
              "    <tr>\n",
              "      <th>4</th>\n",
              "      <td>['libxmlgyp', 'defin', 'libxmlstat', 'direct',...</td>\n",
              "      <td>libxmlgyp defin libxmlstat direct depend</td>\n",
              "      <td>wtc@chromium.org</td>\n",
              "    </tr>\n",
              "    <tr>\n",
              "      <th>...</th>\n",
              "      <td>...</td>\n",
              "      <td>...</td>\n",
              "      <td>...</td>\n",
              "    </tr>\n",
              "    <tr>\n",
              "      <th>117376</th>\n",
              "      <td>['updat', 'gleanj', 'dashboard', 'ignor', 'gle...</td>\n",
              "      <td>updat gleanj dashboard ignor glean sdk data vpn</td>\n",
              "      <td>brosa</td>\n",
              "    </tr>\n",
              "    <tr>\n",
              "      <th>117377</th>\n",
              "      <td>['autocomplet', 'type', 'valid', 'valu', 'pass...</td>\n",
              "      <td>autocomplet type valid valu pass record</td>\n",
              "      <td>brosa</td>\n",
              "    </tr>\n",
              "    <tr>\n",
              "      <th>117378</th>\n",
              "      <td>['intermitt', 'slow', 'see', 'ping', 'show', '...</td>\n",
              "      <td>intermitt slow see ping show debug ping viewer</td>\n",
              "      <td>brosa</td>\n",
              "    </tr>\n",
              "    <tr>\n",
              "      <th>117379</th>\n",
              "      <td>['investig', 'string', 'metric', 'type', 'adeq...</td>\n",
              "      <td>investig string metric type adequ captur gfxad...</td>\n",
              "      <td>pmcmanis</td>\n",
              "    </tr>\n",
              "    <tr>\n",
              "      <th>117380</th>\n",
              "      <td>['remov', 'manual', 'page', 'load', 'event', '...</td>\n",
              "      <td>remov manual page load event glean debug ping ...</td>\n",
              "      <td>brosa</td>\n",
              "    </tr>\n",
              "  </tbody>\n",
              "</table>\n",
              "<p>117381 rows × 3 columns</p>\n",
              "</div>\n",
              "    <div class=\"colab-df-buttons\">\n",
              "\n",
              "  <div class=\"colab-df-container\">\n",
              "    <button class=\"colab-df-convert\" onclick=\"convertToInteractive('df-8c48993b-ba78-43fb-b141-6fe6e17f4543')\"\n",
              "            title=\"Convert this dataframe to an interactive table.\"\n",
              "            style=\"display:none;\">\n",
              "\n",
              "  <svg xmlns=\"http://www.w3.org/2000/svg\" height=\"24px\" viewBox=\"0 -960 960 960\">\n",
              "    <path d=\"M120-120v-720h720v720H120Zm60-500h600v-160H180v160Zm220 220h160v-160H400v160Zm0 220h160v-160H400v160ZM180-400h160v-160H180v160Zm440 0h160v-160H620v160ZM180-180h160v-160H180v160Zm440 0h160v-160H620v160Z\"/>\n",
              "  </svg>\n",
              "    </button>\n",
              "\n",
              "  <style>\n",
              "    .colab-df-container {\n",
              "      display:flex;\n",
              "      gap: 12px;\n",
              "    }\n",
              "\n",
              "    .colab-df-convert {\n",
              "      background-color: #E8F0FE;\n",
              "      border: none;\n",
              "      border-radius: 50%;\n",
              "      cursor: pointer;\n",
              "      display: none;\n",
              "      fill: #1967D2;\n",
              "      height: 32px;\n",
              "      padding: 0 0 0 0;\n",
              "      width: 32px;\n",
              "    }\n",
              "\n",
              "    .colab-df-convert:hover {\n",
              "      background-color: #E2EBFA;\n",
              "      box-shadow: 0px 1px 2px rgba(60, 64, 67, 0.3), 0px 1px 3px 1px rgba(60, 64, 67, 0.15);\n",
              "      fill: #174EA6;\n",
              "    }\n",
              "\n",
              "    .colab-df-buttons div {\n",
              "      margin-bottom: 4px;\n",
              "    }\n",
              "\n",
              "    [theme=dark] .colab-df-convert {\n",
              "      background-color: #3B4455;\n",
              "      fill: #D2E3FC;\n",
              "    }\n",
              "\n",
              "    [theme=dark] .colab-df-convert:hover {\n",
              "      background-color: #434B5C;\n",
              "      box-shadow: 0px 1px 3px 1px rgba(0, 0, 0, 0.15);\n",
              "      filter: drop-shadow(0px 1px 2px rgba(0, 0, 0, 0.3));\n",
              "      fill: #FFFFFF;\n",
              "    }\n",
              "  </style>\n",
              "\n",
              "    <script>\n",
              "      const buttonEl =\n",
              "        document.querySelector('#df-8c48993b-ba78-43fb-b141-6fe6e17f4543 button.colab-df-convert');\n",
              "      buttonEl.style.display =\n",
              "        google.colab.kernel.accessAllowed ? 'block' : 'none';\n",
              "\n",
              "      async function convertToInteractive(key) {\n",
              "        const element = document.querySelector('#df-8c48993b-ba78-43fb-b141-6fe6e17f4543');\n",
              "        const dataTable =\n",
              "          await google.colab.kernel.invokeFunction('convertToInteractive',\n",
              "                                                    [key], {});\n",
              "        if (!dataTable) return;\n",
              "\n",
              "        const docLinkHtml = 'Like what you see? Visit the ' +\n",
              "          '<a target=\"_blank\" href=https://colab.research.google.com/notebooks/data_table.ipynb>data table notebook</a>'\n",
              "          + ' to learn more about interactive tables.';\n",
              "        element.innerHTML = '';\n",
              "        dataTable['output_type'] = 'display_data';\n",
              "        await google.colab.output.renderOutput(dataTable, element);\n",
              "        const docLink = document.createElement('div');\n",
              "        docLink.innerHTML = docLinkHtml;\n",
              "        element.appendChild(docLink);\n",
              "      }\n",
              "    </script>\n",
              "  </div>\n",
              "\n",
              "\n",
              "<div id=\"df-06b96879-cb51-44d2-a248-630c3d3661cc\">\n",
              "  <button class=\"colab-df-quickchart\" onclick=\"quickchart('df-06b96879-cb51-44d2-a248-630c3d3661cc')\"\n",
              "            title=\"Suggest charts\"\n",
              "            style=\"display:none;\">\n",
              "\n",
              "<svg xmlns=\"http://www.w3.org/2000/svg\" height=\"24px\"viewBox=\"0 0 24 24\"\n",
              "     width=\"24px\">\n",
              "    <g>\n",
              "        <path d=\"M19 3H5c-1.1 0-2 .9-2 2v14c0 1.1.9 2 2 2h14c1.1 0 2-.9 2-2V5c0-1.1-.9-2-2-2zM9 17H7v-7h2v7zm4 0h-2V7h2v10zm4 0h-2v-4h2v4z\"/>\n",
              "    </g>\n",
              "</svg>\n",
              "  </button>\n",
              "\n",
              "<style>\n",
              "  .colab-df-quickchart {\n",
              "      --bg-color: #E8F0FE;\n",
              "      --fill-color: #1967D2;\n",
              "      --hover-bg-color: #E2EBFA;\n",
              "      --hover-fill-color: #174EA6;\n",
              "      --disabled-fill-color: #AAA;\n",
              "      --disabled-bg-color: #DDD;\n",
              "  }\n",
              "\n",
              "  [theme=dark] .colab-df-quickchart {\n",
              "      --bg-color: #3B4455;\n",
              "      --fill-color: #D2E3FC;\n",
              "      --hover-bg-color: #434B5C;\n",
              "      --hover-fill-color: #FFFFFF;\n",
              "      --disabled-bg-color: #3B4455;\n",
              "      --disabled-fill-color: #666;\n",
              "  }\n",
              "\n",
              "  .colab-df-quickchart {\n",
              "    background-color: var(--bg-color);\n",
              "    border: none;\n",
              "    border-radius: 50%;\n",
              "    cursor: pointer;\n",
              "    display: none;\n",
              "    fill: var(--fill-color);\n",
              "    height: 32px;\n",
              "    padding: 0;\n",
              "    width: 32px;\n",
              "  }\n",
              "\n",
              "  .colab-df-quickchart:hover {\n",
              "    background-color: var(--hover-bg-color);\n",
              "    box-shadow: 0 1px 2px rgba(60, 64, 67, 0.3), 0 1px 3px 1px rgba(60, 64, 67, 0.15);\n",
              "    fill: var(--button-hover-fill-color);\n",
              "  }\n",
              "\n",
              "  .colab-df-quickchart-complete:disabled,\n",
              "  .colab-df-quickchart-complete:disabled:hover {\n",
              "    background-color: var(--disabled-bg-color);\n",
              "    fill: var(--disabled-fill-color);\n",
              "    box-shadow: none;\n",
              "  }\n",
              "\n",
              "  .colab-df-spinner {\n",
              "    border: 2px solid var(--fill-color);\n",
              "    border-color: transparent;\n",
              "    border-bottom-color: var(--fill-color);\n",
              "    animation:\n",
              "      spin 1s steps(1) infinite;\n",
              "  }\n",
              "\n",
              "  @keyframes spin {\n",
              "    0% {\n",
              "      border-color: transparent;\n",
              "      border-bottom-color: var(--fill-color);\n",
              "      border-left-color: var(--fill-color);\n",
              "    }\n",
              "    20% {\n",
              "      border-color: transparent;\n",
              "      border-left-color: var(--fill-color);\n",
              "      border-top-color: var(--fill-color);\n",
              "    }\n",
              "    30% {\n",
              "      border-color: transparent;\n",
              "      border-left-color: var(--fill-color);\n",
              "      border-top-color: var(--fill-color);\n",
              "      border-right-color: var(--fill-color);\n",
              "    }\n",
              "    40% {\n",
              "      border-color: transparent;\n",
              "      border-right-color: var(--fill-color);\n",
              "      border-top-color: var(--fill-color);\n",
              "    }\n",
              "    60% {\n",
              "      border-color: transparent;\n",
              "      border-right-color: var(--fill-color);\n",
              "    }\n",
              "    80% {\n",
              "      border-color: transparent;\n",
              "      border-right-color: var(--fill-color);\n",
              "      border-bottom-color: var(--fill-color);\n",
              "    }\n",
              "    90% {\n",
              "      border-color: transparent;\n",
              "      border-bottom-color: var(--fill-color);\n",
              "    }\n",
              "  }\n",
              "</style>\n",
              "\n",
              "  <script>\n",
              "    async function quickchart(key) {\n",
              "      const quickchartButtonEl =\n",
              "        document.querySelector('#' + key + ' button');\n",
              "      quickchartButtonEl.disabled = true;  // To prevent multiple clicks.\n",
              "      quickchartButtonEl.classList.add('colab-df-spinner');\n",
              "      try {\n",
              "        const charts = await google.colab.kernel.invokeFunction(\n",
              "            'suggestCharts', [key], {});\n",
              "      } catch (error) {\n",
              "        console.error('Error during call to suggestCharts:', error);\n",
              "      }\n",
              "      quickchartButtonEl.classList.remove('colab-df-spinner');\n",
              "      quickchartButtonEl.classList.add('colab-df-quickchart-complete');\n",
              "    }\n",
              "    (() => {\n",
              "      let quickchartButtonEl =\n",
              "        document.querySelector('#df-06b96879-cb51-44d2-a248-630c3d3661cc button');\n",
              "      quickchartButtonEl.style.display =\n",
              "        google.colab.kernel.accessAllowed ? 'block' : 'none';\n",
              "    })();\n",
              "  </script>\n",
              "</div>\n",
              "\n",
              "  <div id=\"id_bff05d35-fdfb-4e31-92d7-361a1ee697be\">\n",
              "    <style>\n",
              "      .colab-df-generate {\n",
              "        background-color: #E8F0FE;\n",
              "        border: none;\n",
              "        border-radius: 50%;\n",
              "        cursor: pointer;\n",
              "        display: none;\n",
              "        fill: #1967D2;\n",
              "        height: 32px;\n",
              "        padding: 0 0 0 0;\n",
              "        width: 32px;\n",
              "      }\n",
              "\n",
              "      .colab-df-generate:hover {\n",
              "        background-color: #E2EBFA;\n",
              "        box-shadow: 0px 1px 2px rgba(60, 64, 67, 0.3), 0px 1px 3px 1px rgba(60, 64, 67, 0.15);\n",
              "        fill: #174EA6;\n",
              "      }\n",
              "\n",
              "      [theme=dark] .colab-df-generate {\n",
              "        background-color: #3B4455;\n",
              "        fill: #D2E3FC;\n",
              "      }\n",
              "\n",
              "      [theme=dark] .colab-df-generate:hover {\n",
              "        background-color: #434B5C;\n",
              "        box-shadow: 0px 1px 3px 1px rgba(0, 0, 0, 0.15);\n",
              "        filter: drop-shadow(0px 1px 2px rgba(0, 0, 0, 0.3));\n",
              "        fill: #FFFFFF;\n",
              "      }\n",
              "    </style>\n",
              "    <button class=\"colab-df-generate\" onclick=\"generateWithVariable('dataset')\"\n",
              "            title=\"Generate code using this dataframe.\"\n",
              "            style=\"display:none;\">\n",
              "\n",
              "  <svg xmlns=\"http://www.w3.org/2000/svg\" height=\"24px\"viewBox=\"0 0 24 24\"\n",
              "       width=\"24px\">\n",
              "    <path d=\"M7,19H8.4L18.45,9,17,7.55,7,17.6ZM5,21V16.75L18.45,3.32a2,2,0,0,1,2.83,0l1.4,1.43a1.91,1.91,0,0,1,.58,1.4,1.91,1.91,0,0,1-.58,1.4L9.25,21ZM18.45,9,17,7.55Zm-12,3A5.31,5.31,0,0,0,4.9,8.1,5.31,5.31,0,0,0,1,6.5,5.31,5.31,0,0,0,4.9,4.9,5.31,5.31,0,0,0,6.5,1,5.31,5.31,0,0,0,8.1,4.9,5.31,5.31,0,0,0,12,6.5,5.46,5.46,0,0,0,6.5,12Z\"/>\n",
              "  </svg>\n",
              "    </button>\n",
              "    <script>\n",
              "      (() => {\n",
              "      const buttonEl =\n",
              "        document.querySelector('#id_bff05d35-fdfb-4e31-92d7-361a1ee697be button.colab-df-generate');\n",
              "      buttonEl.style.display =\n",
              "        google.colab.kernel.accessAllowed ? 'block' : 'none';\n",
              "\n",
              "      buttonEl.onclick = () => {\n",
              "        google.colab.notebook.generateWithVariable('dataset');\n",
              "      }\n",
              "      })();\n",
              "    </script>\n",
              "  </div>\n",
              "\n",
              "    </div>\n",
              "  </div>\n"
            ],
            "application/vnd.google.colaboratory.intrinsic+json": {
              "type": "dataframe",
              "variable_name": "dataset"
            }
          },
          "metadata": {},
          "execution_count": 5
        }
      ],
      "source": [
        "dataset"
      ]
    },
    {
      "cell_type": "markdown",
      "metadata": {
        "id": "DKXnH87j8Hmb"
      },
      "source": [
        "**Encode the labels**\n",
        "\n"
      ]
    },
    {
      "cell_type": "code",
      "execution_count": 6,
      "metadata": {
        "id": "s_m3q3r18K1V"
      },
      "outputs": [],
      "source": [
        "# Initialize the LabelEncoder\n",
        "label_encoder = LabelEncoder()\n",
        "\n",
        "# Fit and transform the 'Assignee' column to numeric labels\n",
        "dataset['Assignee_Class'] = label_encoder.fit_transform(dataset['Assignee'])"
      ]
    },
    {
      "cell_type": "code",
      "execution_count": 7,
      "metadata": {
        "colab": {
          "base_uri": "https://localhost:8080/",
          "height": 423
        },
        "id": "71-lnHG58VQN",
        "outputId": "6e136b95-1ca0-4cf1-9739-baa9572b7c63"
      },
      "outputs": [
        {
          "output_type": "execute_result",
          "data": {
            "text/plain": [
              "                                          Summary_Stemmed  \\\n",
              "0       ['scroll', 'scroll', 'mice', 'touchpad', 'etc'...   \n",
              "1       ['add', 'check', 'item', 'download', 'panel', ...   \n",
              "2       ['useafterfre', 'navig', 'document', 'form', '...   \n",
              "3       ['add', 'address', 'properli', 'autofil', 'opt...   \n",
              "4       ['libxmlgyp', 'defin', 'libxmlstat', 'direct',...   \n",
              "...                                                   ...   \n",
              "117376  ['updat', 'gleanj', 'dashboard', 'ignor', 'gle...   \n",
              "117377  ['autocomplet', 'type', 'valid', 'valu', 'pass...   \n",
              "117378  ['intermitt', 'slow', 'see', 'ping', 'show', '...   \n",
              "117379  ['investig', 'string', 'metric', 'type', 'adeq...   \n",
              "117380  ['remov', 'manual', 'page', 'load', 'event', '...   \n",
              "\n",
              "                                        processed_summary  \\\n",
              "0                  scroll scroll mice touchpad etc scroll   \n",
              "1              add check item download panel browser test   \n",
              "2       useafterfre navig document form valid messag s...   \n",
              "3          add address properli autofil option dialog box   \n",
              "4                libxmlgyp defin libxmlstat direct depend   \n",
              "...                                                   ...   \n",
              "117376    updat gleanj dashboard ignor glean sdk data vpn   \n",
              "117377            autocomplet type valid valu pass record   \n",
              "117378     intermitt slow see ping show debug ping viewer   \n",
              "117379  investig string metric type adequ captur gfxad...   \n",
              "117380  remov manual page load event glean debug ping ...   \n",
              "\n",
              "                    Assignee  Assignee_Class  \n",
              "0          amit@chromium.org             124  \n",
              "1       achuith@chromium.org              52  \n",
              "2         tkent@chromium.org            2118  \n",
              "3           sky@chromium.org            1972  \n",
              "4           wtc@chromium.org            2282  \n",
              "...                      ...             ...  \n",
              "117376                 brosa             278  \n",
              "117377                 brosa             278  \n",
              "117378                 brosa             278  \n",
              "117379              pmcmanis            1685  \n",
              "117380                 brosa             278  \n",
              "\n",
              "[117381 rows x 4 columns]"
            ],
            "text/html": [
              "\n",
              "  <div id=\"df-99aa9356-9122-4f92-9bca-6fc4db76f572\" class=\"colab-df-container\">\n",
              "    <div>\n",
              "<style scoped>\n",
              "    .dataframe tbody tr th:only-of-type {\n",
              "        vertical-align: middle;\n",
              "    }\n",
              "\n",
              "    .dataframe tbody tr th {\n",
              "        vertical-align: top;\n",
              "    }\n",
              "\n",
              "    .dataframe thead th {\n",
              "        text-align: right;\n",
              "    }\n",
              "</style>\n",
              "<table border=\"1\" class=\"dataframe\">\n",
              "  <thead>\n",
              "    <tr style=\"text-align: right;\">\n",
              "      <th></th>\n",
              "      <th>Summary_Stemmed</th>\n",
              "      <th>processed_summary</th>\n",
              "      <th>Assignee</th>\n",
              "      <th>Assignee_Class</th>\n",
              "    </tr>\n",
              "  </thead>\n",
              "  <tbody>\n",
              "    <tr>\n",
              "      <th>0</th>\n",
              "      <td>['scroll', 'scroll', 'mice', 'touchpad', 'etc'...</td>\n",
              "      <td>scroll scroll mice touchpad etc scroll</td>\n",
              "      <td>amit@chromium.org</td>\n",
              "      <td>124</td>\n",
              "    </tr>\n",
              "    <tr>\n",
              "      <th>1</th>\n",
              "      <td>['add', 'check', 'item', 'download', 'panel', ...</td>\n",
              "      <td>add check item download panel browser test</td>\n",
              "      <td>achuith@chromium.org</td>\n",
              "      <td>52</td>\n",
              "    </tr>\n",
              "    <tr>\n",
              "      <th>2</th>\n",
              "      <td>['useafterfre', 'navig', 'document', 'form', '...</td>\n",
              "      <td>useafterfre navig document form valid messag s...</td>\n",
              "      <td>tkent@chromium.org</td>\n",
              "      <td>2118</td>\n",
              "    </tr>\n",
              "    <tr>\n",
              "      <th>3</th>\n",
              "      <td>['add', 'address', 'properli', 'autofil', 'opt...</td>\n",
              "      <td>add address properli autofil option dialog box</td>\n",
              "      <td>sky@chromium.org</td>\n",
              "      <td>1972</td>\n",
              "    </tr>\n",
              "    <tr>\n",
              "      <th>4</th>\n",
              "      <td>['libxmlgyp', 'defin', 'libxmlstat', 'direct',...</td>\n",
              "      <td>libxmlgyp defin libxmlstat direct depend</td>\n",
              "      <td>wtc@chromium.org</td>\n",
              "      <td>2282</td>\n",
              "    </tr>\n",
              "    <tr>\n",
              "      <th>...</th>\n",
              "      <td>...</td>\n",
              "      <td>...</td>\n",
              "      <td>...</td>\n",
              "      <td>...</td>\n",
              "    </tr>\n",
              "    <tr>\n",
              "      <th>117376</th>\n",
              "      <td>['updat', 'gleanj', 'dashboard', 'ignor', 'gle...</td>\n",
              "      <td>updat gleanj dashboard ignor glean sdk data vpn</td>\n",
              "      <td>brosa</td>\n",
              "      <td>278</td>\n",
              "    </tr>\n",
              "    <tr>\n",
              "      <th>117377</th>\n",
              "      <td>['autocomplet', 'type', 'valid', 'valu', 'pass...</td>\n",
              "      <td>autocomplet type valid valu pass record</td>\n",
              "      <td>brosa</td>\n",
              "      <td>278</td>\n",
              "    </tr>\n",
              "    <tr>\n",
              "      <th>117378</th>\n",
              "      <td>['intermitt', 'slow', 'see', 'ping', 'show', '...</td>\n",
              "      <td>intermitt slow see ping show debug ping viewer</td>\n",
              "      <td>brosa</td>\n",
              "      <td>278</td>\n",
              "    </tr>\n",
              "    <tr>\n",
              "      <th>117379</th>\n",
              "      <td>['investig', 'string', 'metric', 'type', 'adeq...</td>\n",
              "      <td>investig string metric type adequ captur gfxad...</td>\n",
              "      <td>pmcmanis</td>\n",
              "      <td>1685</td>\n",
              "    </tr>\n",
              "    <tr>\n",
              "      <th>117380</th>\n",
              "      <td>['remov', 'manual', 'page', 'load', 'event', '...</td>\n",
              "      <td>remov manual page load event glean debug ping ...</td>\n",
              "      <td>brosa</td>\n",
              "      <td>278</td>\n",
              "    </tr>\n",
              "  </tbody>\n",
              "</table>\n",
              "<p>117381 rows × 4 columns</p>\n",
              "</div>\n",
              "    <div class=\"colab-df-buttons\">\n",
              "\n",
              "  <div class=\"colab-df-container\">\n",
              "    <button class=\"colab-df-convert\" onclick=\"convertToInteractive('df-99aa9356-9122-4f92-9bca-6fc4db76f572')\"\n",
              "            title=\"Convert this dataframe to an interactive table.\"\n",
              "            style=\"display:none;\">\n",
              "\n",
              "  <svg xmlns=\"http://www.w3.org/2000/svg\" height=\"24px\" viewBox=\"0 -960 960 960\">\n",
              "    <path d=\"M120-120v-720h720v720H120Zm60-500h600v-160H180v160Zm220 220h160v-160H400v160Zm0 220h160v-160H400v160ZM180-400h160v-160H180v160Zm440 0h160v-160H620v160ZM180-180h160v-160H180v160Zm440 0h160v-160H620v160Z\"/>\n",
              "  </svg>\n",
              "    </button>\n",
              "\n",
              "  <style>\n",
              "    .colab-df-container {\n",
              "      display:flex;\n",
              "      gap: 12px;\n",
              "    }\n",
              "\n",
              "    .colab-df-convert {\n",
              "      background-color: #E8F0FE;\n",
              "      border: none;\n",
              "      border-radius: 50%;\n",
              "      cursor: pointer;\n",
              "      display: none;\n",
              "      fill: #1967D2;\n",
              "      height: 32px;\n",
              "      padding: 0 0 0 0;\n",
              "      width: 32px;\n",
              "    }\n",
              "\n",
              "    .colab-df-convert:hover {\n",
              "      background-color: #E2EBFA;\n",
              "      box-shadow: 0px 1px 2px rgba(60, 64, 67, 0.3), 0px 1px 3px 1px rgba(60, 64, 67, 0.15);\n",
              "      fill: #174EA6;\n",
              "    }\n",
              "\n",
              "    .colab-df-buttons div {\n",
              "      margin-bottom: 4px;\n",
              "    }\n",
              "\n",
              "    [theme=dark] .colab-df-convert {\n",
              "      background-color: #3B4455;\n",
              "      fill: #D2E3FC;\n",
              "    }\n",
              "\n",
              "    [theme=dark] .colab-df-convert:hover {\n",
              "      background-color: #434B5C;\n",
              "      box-shadow: 0px 1px 3px 1px rgba(0, 0, 0, 0.15);\n",
              "      filter: drop-shadow(0px 1px 2px rgba(0, 0, 0, 0.3));\n",
              "      fill: #FFFFFF;\n",
              "    }\n",
              "  </style>\n",
              "\n",
              "    <script>\n",
              "      const buttonEl =\n",
              "        document.querySelector('#df-99aa9356-9122-4f92-9bca-6fc4db76f572 button.colab-df-convert');\n",
              "      buttonEl.style.display =\n",
              "        google.colab.kernel.accessAllowed ? 'block' : 'none';\n",
              "\n",
              "      async function convertToInteractive(key) {\n",
              "        const element = document.querySelector('#df-99aa9356-9122-4f92-9bca-6fc4db76f572');\n",
              "        const dataTable =\n",
              "          await google.colab.kernel.invokeFunction('convertToInteractive',\n",
              "                                                    [key], {});\n",
              "        if (!dataTable) return;\n",
              "\n",
              "        const docLinkHtml = 'Like what you see? Visit the ' +\n",
              "          '<a target=\"_blank\" href=https://colab.research.google.com/notebooks/data_table.ipynb>data table notebook</a>'\n",
              "          + ' to learn more about interactive tables.';\n",
              "        element.innerHTML = '';\n",
              "        dataTable['output_type'] = 'display_data';\n",
              "        await google.colab.output.renderOutput(dataTable, element);\n",
              "        const docLink = document.createElement('div');\n",
              "        docLink.innerHTML = docLinkHtml;\n",
              "        element.appendChild(docLink);\n",
              "      }\n",
              "    </script>\n",
              "  </div>\n",
              "\n",
              "\n",
              "<div id=\"df-44933aa4-ec84-4087-acb3-bb4f68b0da86\">\n",
              "  <button class=\"colab-df-quickchart\" onclick=\"quickchart('df-44933aa4-ec84-4087-acb3-bb4f68b0da86')\"\n",
              "            title=\"Suggest charts\"\n",
              "            style=\"display:none;\">\n",
              "\n",
              "<svg xmlns=\"http://www.w3.org/2000/svg\" height=\"24px\"viewBox=\"0 0 24 24\"\n",
              "     width=\"24px\">\n",
              "    <g>\n",
              "        <path d=\"M19 3H5c-1.1 0-2 .9-2 2v14c0 1.1.9 2 2 2h14c1.1 0 2-.9 2-2V5c0-1.1-.9-2-2-2zM9 17H7v-7h2v7zm4 0h-2V7h2v10zm4 0h-2v-4h2v4z\"/>\n",
              "    </g>\n",
              "</svg>\n",
              "  </button>\n",
              "\n",
              "<style>\n",
              "  .colab-df-quickchart {\n",
              "      --bg-color: #E8F0FE;\n",
              "      --fill-color: #1967D2;\n",
              "      --hover-bg-color: #E2EBFA;\n",
              "      --hover-fill-color: #174EA6;\n",
              "      --disabled-fill-color: #AAA;\n",
              "      --disabled-bg-color: #DDD;\n",
              "  }\n",
              "\n",
              "  [theme=dark] .colab-df-quickchart {\n",
              "      --bg-color: #3B4455;\n",
              "      --fill-color: #D2E3FC;\n",
              "      --hover-bg-color: #434B5C;\n",
              "      --hover-fill-color: #FFFFFF;\n",
              "      --disabled-bg-color: #3B4455;\n",
              "      --disabled-fill-color: #666;\n",
              "  }\n",
              "\n",
              "  .colab-df-quickchart {\n",
              "    background-color: var(--bg-color);\n",
              "    border: none;\n",
              "    border-radius: 50%;\n",
              "    cursor: pointer;\n",
              "    display: none;\n",
              "    fill: var(--fill-color);\n",
              "    height: 32px;\n",
              "    padding: 0;\n",
              "    width: 32px;\n",
              "  }\n",
              "\n",
              "  .colab-df-quickchart:hover {\n",
              "    background-color: var(--hover-bg-color);\n",
              "    box-shadow: 0 1px 2px rgba(60, 64, 67, 0.3), 0 1px 3px 1px rgba(60, 64, 67, 0.15);\n",
              "    fill: var(--button-hover-fill-color);\n",
              "  }\n",
              "\n",
              "  .colab-df-quickchart-complete:disabled,\n",
              "  .colab-df-quickchart-complete:disabled:hover {\n",
              "    background-color: var(--disabled-bg-color);\n",
              "    fill: var(--disabled-fill-color);\n",
              "    box-shadow: none;\n",
              "  }\n",
              "\n",
              "  .colab-df-spinner {\n",
              "    border: 2px solid var(--fill-color);\n",
              "    border-color: transparent;\n",
              "    border-bottom-color: var(--fill-color);\n",
              "    animation:\n",
              "      spin 1s steps(1) infinite;\n",
              "  }\n",
              "\n",
              "  @keyframes spin {\n",
              "    0% {\n",
              "      border-color: transparent;\n",
              "      border-bottom-color: var(--fill-color);\n",
              "      border-left-color: var(--fill-color);\n",
              "    }\n",
              "    20% {\n",
              "      border-color: transparent;\n",
              "      border-left-color: var(--fill-color);\n",
              "      border-top-color: var(--fill-color);\n",
              "    }\n",
              "    30% {\n",
              "      border-color: transparent;\n",
              "      border-left-color: var(--fill-color);\n",
              "      border-top-color: var(--fill-color);\n",
              "      border-right-color: var(--fill-color);\n",
              "    }\n",
              "    40% {\n",
              "      border-color: transparent;\n",
              "      border-right-color: var(--fill-color);\n",
              "      border-top-color: var(--fill-color);\n",
              "    }\n",
              "    60% {\n",
              "      border-color: transparent;\n",
              "      border-right-color: var(--fill-color);\n",
              "    }\n",
              "    80% {\n",
              "      border-color: transparent;\n",
              "      border-right-color: var(--fill-color);\n",
              "      border-bottom-color: var(--fill-color);\n",
              "    }\n",
              "    90% {\n",
              "      border-color: transparent;\n",
              "      border-bottom-color: var(--fill-color);\n",
              "    }\n",
              "  }\n",
              "</style>\n",
              "\n",
              "  <script>\n",
              "    async function quickchart(key) {\n",
              "      const quickchartButtonEl =\n",
              "        document.querySelector('#' + key + ' button');\n",
              "      quickchartButtonEl.disabled = true;  // To prevent multiple clicks.\n",
              "      quickchartButtonEl.classList.add('colab-df-spinner');\n",
              "      try {\n",
              "        const charts = await google.colab.kernel.invokeFunction(\n",
              "            'suggestCharts', [key], {});\n",
              "      } catch (error) {\n",
              "        console.error('Error during call to suggestCharts:', error);\n",
              "      }\n",
              "      quickchartButtonEl.classList.remove('colab-df-spinner');\n",
              "      quickchartButtonEl.classList.add('colab-df-quickchart-complete');\n",
              "    }\n",
              "    (() => {\n",
              "      let quickchartButtonEl =\n",
              "        document.querySelector('#df-44933aa4-ec84-4087-acb3-bb4f68b0da86 button');\n",
              "      quickchartButtonEl.style.display =\n",
              "        google.colab.kernel.accessAllowed ? 'block' : 'none';\n",
              "    })();\n",
              "  </script>\n",
              "</div>\n",
              "\n",
              "  <div id=\"id_fd569bba-cd03-4b30-965e-397ecc188087\">\n",
              "    <style>\n",
              "      .colab-df-generate {\n",
              "        background-color: #E8F0FE;\n",
              "        border: none;\n",
              "        border-radius: 50%;\n",
              "        cursor: pointer;\n",
              "        display: none;\n",
              "        fill: #1967D2;\n",
              "        height: 32px;\n",
              "        padding: 0 0 0 0;\n",
              "        width: 32px;\n",
              "      }\n",
              "\n",
              "      .colab-df-generate:hover {\n",
              "        background-color: #E2EBFA;\n",
              "        box-shadow: 0px 1px 2px rgba(60, 64, 67, 0.3), 0px 1px 3px 1px rgba(60, 64, 67, 0.15);\n",
              "        fill: #174EA6;\n",
              "      }\n",
              "\n",
              "      [theme=dark] .colab-df-generate {\n",
              "        background-color: #3B4455;\n",
              "        fill: #D2E3FC;\n",
              "      }\n",
              "\n",
              "      [theme=dark] .colab-df-generate:hover {\n",
              "        background-color: #434B5C;\n",
              "        box-shadow: 0px 1px 3px 1px rgba(0, 0, 0, 0.15);\n",
              "        filter: drop-shadow(0px 1px 2px rgba(0, 0, 0, 0.3));\n",
              "        fill: #FFFFFF;\n",
              "      }\n",
              "    </style>\n",
              "    <button class=\"colab-df-generate\" onclick=\"generateWithVariable('dataset')\"\n",
              "            title=\"Generate code using this dataframe.\"\n",
              "            style=\"display:none;\">\n",
              "\n",
              "  <svg xmlns=\"http://www.w3.org/2000/svg\" height=\"24px\"viewBox=\"0 0 24 24\"\n",
              "       width=\"24px\">\n",
              "    <path d=\"M7,19H8.4L18.45,9,17,7.55,7,17.6ZM5,21V16.75L18.45,3.32a2,2,0,0,1,2.83,0l1.4,1.43a1.91,1.91,0,0,1,.58,1.4,1.91,1.91,0,0,1-.58,1.4L9.25,21ZM18.45,9,17,7.55Zm-12,3A5.31,5.31,0,0,0,4.9,8.1,5.31,5.31,0,0,0,1,6.5,5.31,5.31,0,0,0,4.9,4.9,5.31,5.31,0,0,0,6.5,1,5.31,5.31,0,0,0,8.1,4.9,5.31,5.31,0,0,0,12,6.5,5.46,5.46,0,0,0,6.5,12Z\"/>\n",
              "  </svg>\n",
              "    </button>\n",
              "    <script>\n",
              "      (() => {\n",
              "      const buttonEl =\n",
              "        document.querySelector('#id_fd569bba-cd03-4b30-965e-397ecc188087 button.colab-df-generate');\n",
              "      buttonEl.style.display =\n",
              "        google.colab.kernel.accessAllowed ? 'block' : 'none';\n",
              "\n",
              "      buttonEl.onclick = () => {\n",
              "        google.colab.notebook.generateWithVariable('dataset');\n",
              "      }\n",
              "      })();\n",
              "    </script>\n",
              "  </div>\n",
              "\n",
              "    </div>\n",
              "  </div>\n"
            ],
            "application/vnd.google.colaboratory.intrinsic+json": {
              "type": "dataframe",
              "variable_name": "dataset"
            }
          },
          "metadata": {},
          "execution_count": 7
        }
      ],
      "source": [
        "dataset"
      ]
    },
    {
      "cell_type": "markdown",
      "source": [
        "**Show the number of unique classes**"
      ],
      "metadata": {
        "id": "hJOtP5QbYE09"
      }
    },
    {
      "cell_type": "code",
      "execution_count": 8,
      "metadata": {
        "colab": {
          "base_uri": "https://localhost:8080/"
        },
        "id": "AFY1Micb98uu",
        "outputId": "9f176b24-91d7-4a89-aeee-3cb37f214dd1"
      },
      "outputs": [
        {
          "output_type": "execute_result",
          "data": {
            "text/plain": [
              "Summary_Stemmed      117103\n",
              "processed_summary    117103\n",
              "Assignee               2370\n",
              "Assignee_Class         2370\n",
              "dtype: int64"
            ]
          },
          "metadata": {},
          "execution_count": 8
        }
      ],
      "source": [
        "# compute the number of unique values for each column in the DataFrame training_data.\n",
        "dataset.nunique()"
      ]
    },
    {
      "cell_type": "markdown",
      "metadata": {
        "id": "7rcK7Qwm89P_"
      },
      "source": [
        "**Split the dataset**"
      ]
    },
    {
      "cell_type": "code",
      "execution_count": 9,
      "metadata": {
        "colab": {
          "base_uri": "https://localhost:8080/"
        },
        "id": "9OkGo3er2ikC",
        "outputId": "3d623a7d-ef06-4d39-d138-f5f5042de7c5"
      },
      "outputs": [
        {
          "output_type": "stream",
          "name": "stdout",
          "text": [
            "(117381, 4)\n",
            "Assignee_Class\n",
            "1014    2478\n",
            "1408    2412\n",
            "1009    1467\n",
            "1643    1377\n",
            "1013    1162\n",
            "        ... \n",
            "1704       5\n",
            "607        5\n",
            "899        5\n",
            "351        5\n",
            "947        5\n",
            "Name: count, Length: 2370, dtype: int64\n"
          ]
        }
      ],
      "source": [
        "print(dataset.shape)  # Check the shape of the dataset\n",
        "print(dataset['Assignee_Class'].value_counts())  # Check class distribution"
      ]
    },
    {
      "cell_type": "code",
      "execution_count": 10,
      "metadata": {
        "id": "xNWFW87T2r_-"
      },
      "outputs": [],
      "source": [
        "# Create the StratifiedShuffleSplit object\n",
        "sss = StratifiedShuffleSplit(n_splits=1, test_size=0.2, random_state=42)\n",
        "# Split the dataset into train and test sets\n",
        "train_idx, test_idx = next(sss.split(dataset, dataset['Assignee_Class']))\n",
        "train_df = dataset.iloc[train_idx].reset_index(drop=True)\n",
        "test_df = dataset.iloc[test_idx].reset_index(drop=True)"
      ]
    },
    {
      "cell_type": "code",
      "execution_count": 11,
      "metadata": {
        "colab": {
          "base_uri": "https://localhost:8080/"
        },
        "id": "2dZqKl4vQyR4",
        "outputId": "604d7858-a352-4038-b9bc-d05cc0834e71"
      },
      "outputs": [
        {
          "output_type": "stream",
          "name": "stdout",
          "text": [
            "(93904, 4)\n",
            "(23477, 4)\n"
          ]
        }
      ],
      "source": [
        "print(train_df.shape)\n",
        "#print(val_df.shape)\n",
        "print(test_df.shape)"
      ]
    },
    {
      "cell_type": "markdown",
      "source": [
        "**Separate Features And Labels**"
      ],
      "metadata": {
        "id": "pNV67AIhYO5r"
      }
    },
    {
      "cell_type": "code",
      "execution_count": 12,
      "metadata": {
        "id": "e7wSnTmm28lY"
      },
      "outputs": [],
      "source": [
        "# Separate features (X) and labels (y) for train, and test sets\n",
        "X_train, y_train = train_df['processed_summary'], train_df['Assignee_Class']\n",
        "X_test, y_test = test_df['processed_summary'], test_df['Assignee_Class']"
      ]
    },
    {
      "cell_type": "markdown",
      "metadata": {
        "id": "kc04vMX7-RrB"
      },
      "source": [
        "**Apply TF-IDF Transformation**"
      ]
    },
    {
      "cell_type": "code",
      "execution_count": 13,
      "metadata": {
        "id": "U3PsBg22-TTW",
        "colab": {
          "base_uri": "https://localhost:8080/"
        },
        "outputId": "03c2d340-bd61-4c6e-d250-75dc098853c2"
      },
      "outputs": [
        {
          "output_type": "stream",
          "name": "stdout",
          "text": [
            "Training TF-IDF Sparse Matrix Shape: (93904, 43649)\n",
            "Test TF-IDF Sparse Matrix Shape: (23477, 43649)\n"
          ]
        }
      ],
      "source": [
        "# Function to compute Term Frequency\n",
        "def compute_tf(doc):\n",
        "    tf_dict = Counter(doc)\n",
        "    total_terms = len(doc)\n",
        "    tf_dict = {word: count / total_terms for word, count in tf_dict.items()}\n",
        "    return tf_dict\n",
        "\n",
        "# Function to compute Inverse Document Frequency\n",
        "def compute_idf(corpus):\n",
        "    idf_dict = defaultdict(int)\n",
        "    num_docs = len(corpus)\n",
        "\n",
        "    # Count the number of documents containing each word\n",
        "    for doc in corpus:\n",
        "        for word in set(doc):\n",
        "            idf_dict[word] += 1\n",
        "\n",
        "    # Calculate IDF for each word\n",
        "    idf_dict = {word: math.log(num_docs / count) for word, count in idf_dict.items()}\n",
        "    return idf_dict\n",
        "\n",
        "# Function to compute TF-IDF\n",
        "def compute_tfidf(tf, idf, default_idf):\n",
        "    tfidf = {word: tf_val * idf.get(word, default_idf) for word, tf_val in tf.items()}\n",
        "    return tfidf\n",
        "\n",
        "def custom_tokenize(text):\n",
        "    # Tokenize the text\n",
        "    tokens = text.split()  # Or use a more sophisticated tokenizer\n",
        "    # Filter out single-character tokens\n",
        "    tokens = [token for token in tokens if len(token) > 1]\n",
        "    return tokens\n",
        "\n",
        "# Tokenize the dataset using the custom tokenizer\n",
        "X_train_tokens = [custom_tokenize(doc) for doc in X_train]\n",
        "X_test_tokens = [custom_tokenize(doc) for doc in X_test]\n",
        "\n",
        "# Compute IDF using the training data\n",
        "idf = compute_idf(X_train_tokens)\n",
        "default_idf = math.log(len(X_train_tokens) / 1)  # Default IDF for unseen words\n",
        "\n",
        "# Compute TF-IDF for each document in the training set\n",
        "X_train_tfidf = [compute_tfidf(compute_tf(doc), idf, default_idf) for doc in X_train_tokens]\n",
        "\n",
        "# Transform validation and test sets using the IDF from the training set\n",
        "X_test_tfidf = [compute_tfidf(compute_tf(doc), idf, default_idf) for doc in X_test_tokens]\n",
        "\n",
        "# Function to convert TF-IDF vectors to sparse matrix\n",
        "def tfidf_to_sparse_matrix(tfidf_list, vocab, default_idx):\n",
        "    rows, cols, data = [], [], []\n",
        "    for row, tfidf in enumerate(tfidf_list):\n",
        "        for word, val in tfidf.items():\n",
        "            col = vocab.get(word, default_idx)\n",
        "            rows.append(row)\n",
        "            cols.append(col)\n",
        "            data.append(val)\n",
        "    return csr_matrix((data, (rows, cols)), shape=(len(tfidf_list), len(vocab) + 1))\n",
        "\n",
        "# Build vocabulary\n",
        "vocab = {word: idx for idx, word in enumerate(idf.keys())}\n",
        "\n",
        "# Use an index for unseen words\n",
        "default_idx = len(vocab)\n",
        "\n",
        "# Convert the TF-IDF vectors to a sparse matrix\n",
        "X_train_tfidf_matrix = tfidf_to_sparse_matrix(X_train_tfidf, vocab, default_idx)\n",
        "X_test_tfidf_matrix = tfidf_to_sparse_matrix(X_test_tfidf, vocab, default_idx)\n",
        "\n",
        "print(\"Training TF-IDF Sparse Matrix Shape:\", X_train_tfidf_matrix.shape)\n",
        "print(\"Test TF-IDF Sparse Matrix Shape:\", X_test_tfidf_matrix.shape)"
      ]
    },
    {
      "cell_type": "markdown",
      "source": [
        "**Save the Computed IDF and Vocabulary**"
      ],
      "metadata": {
        "id": "ZkqN78-pY7wr"
      }
    },
    {
      "cell_type": "code",
      "source": [
        "# Save the IDF dictionary and vocabulary\n",
        "with open('custom_tfidf.pkl', 'wb') as f:\n",
        "    pickle.dump({'idf': idf, 'vocab': vocab, 'default_idf': default_idf, 'default_idx': default_idx}, f)"
      ],
      "metadata": {
        "id": "GTnyN3pcZBw7"
      },
      "execution_count": 14,
      "outputs": []
    },
    {
      "cell_type": "markdown",
      "source": [
        "**Load the Saved Data**"
      ],
      "metadata": {
        "id": "HGCNzeU8antK"
      }
    },
    {
      "cell_type": "code",
      "source": [
        "# Load the saved IDF dictionary and vocabulary\n",
        "with open('custom_tfidf.pkl', 'rb') as f:\n",
        "    tfidf_data = pickle.load(f)\n",
        "\n",
        "idf = tfidf_data['idf']\n",
        "vocab = tfidf_data['vocab']\n",
        "default_idf = tfidf_data['default_idf']\n",
        "default_idx = tfidf_data['default_idx']\n"
      ],
      "metadata": {
        "id": "wrr9pwtOZ8dJ"
      },
      "execution_count": 15,
      "outputs": []
    },
    {
      "cell_type": "markdown",
      "metadata": {
        "id": "rJhb-p-w-e88"
      },
      "source": [
        "**Train SVM Classifier**"
      ]
    },
    {
      "cell_type": "markdown",
      "source": [
        "**Initialize the model**"
      ],
      "metadata": {
        "id": "MDeiRSYFasuZ"
      }
    },
    {
      "cell_type": "code",
      "source": [
        "# Initialize the SVM classifier\n",
        "svm_classifier = SVC(C=10, kernel='linear', probability=True)"
      ],
      "metadata": {
        "id": "wR6HbMsQhlyy"
      },
      "execution_count": 17,
      "outputs": []
    },
    {
      "cell_type": "markdown",
      "source": [
        "**Perform 5-fold cross-validation**"
      ],
      "metadata": {
        "id": "WTx614SvasUK"
      }
    },
    {
      "cell_type": "code",
      "source": [
        "# Perform 5-fold cross-validation\n",
        "cv_scores = cross_val_score(svm_classifier, X_train_tfidf, y_train, cv=5, scoring='accuracy')\n",
        "\n",
        "# Print cross-validation accuracy for each fold\n",
        "print(\"Cross-validation accuracies for each fold:\", cv_scores)\n",
        "\n",
        "# Print mean cross-validation accuracy\n",
        "mean_cv_accuracy = cv_scores.mean()\n",
        "print(\"Mean cross-validation accuracy:\", mean_cv_accuracy)"
      ],
      "metadata": {
        "id": "kpzc2ja3XskF"
      },
      "execution_count": null,
      "outputs": []
    },
    {
      "cell_type": "markdown",
      "source": [
        "**Perform 5-fold cross-validation with top-k accuracy**"
      ],
      "metadata": {
        "id": "GI0k3p0Aa3UK"
      }
    },
    {
      "cell_type": "code",
      "source": [
        "# Define the custom scoring function for top-k accuracy\n",
        "k = 5\n",
        "top_k_scorer = make_scorer(top_k_accuracy_score, k=k)\n",
        "\n",
        "# Perform 5-fold cross-validation with top-k accuracy\n",
        "cv_scores = cross_val_score(svm_classifier, X_train_tfidf, y_train, cv=5, scoring=top_k_scorer)\n",
        "\n",
        "# Print cross-validation top-k accuracies for each fold\n",
        "print(f\"Top-{k} cross-validation accuracies for each fold:\", cv_scores)\n",
        "\n",
        "# Print mean cross-validation top-k accuracy\n",
        "mean_cv_accuracy = cv_scores.mean()\n",
        "print(f\"Mean top-{k} cross-validation accuracy:\", mean_cv_accuracy)"
      ],
      "metadata": {
        "colab": {
          "base_uri": "https://localhost:8080/"
        },
        "id": "mTeoZyixXo1T",
        "outputId": "ee8ed512-0c55-4f1c-c766-92b942eac2bc"
      },
      "execution_count": null,
      "outputs": [
        {
          "output_type": "stream",
          "name": "stderr",
          "text": [
            "/usr/local/lib/python3.10/dist-packages/sklearn/model_selection/_split.py:700: UserWarning: The least populated class in y has only 4 members, which is less than n_splits=5.\n",
            "  warnings.warn(\n"
          ]
        }
      ]
    },
    {
      "cell_type": "markdown",
      "source": [
        "**Save The SVM model**"
      ],
      "metadata": {
        "id": "eafGUHlhXD41"
      }
    },
    {
      "cell_type": "code",
      "source": [
        "# Save the model to Google Drive\n",
        "model_filename = '/content/drive/My Drive/checkpoints/svm_classifier_model_with_probability.joblib'\n",
        "joblib.dump(svm_classifier, model_filename)"
      ],
      "metadata": {
        "id": "P4jvTHTAXDhi"
      },
      "execution_count": null,
      "outputs": []
    },
    {
      "cell_type": "markdown",
      "metadata": {
        "id": "z82UJoqB-8LE"
      },
      "source": [
        "**Load The SVM model**"
      ]
    },
    {
      "cell_type": "code",
      "source": [
        "# Load the model from Google Drive\n",
        "model_filename = '/content/drive/MyDrive/checkpoints/svm_classifier_model_with_probability.joblib'\n",
        "svm_classifier = joblib.load(model_filename)"
      ],
      "metadata": {
        "id": "X48deClM-Eao"
      },
      "execution_count": null,
      "outputs": []
    },
    {
      "cell_type": "markdown",
      "metadata": {
        "id": "TGJAwsof_Cgb"
      },
      "source": [
        "**Evaluate the Final Model on the Test Set**"
      ]
    },
    {
      "cell_type": "code",
      "execution_count": null,
      "metadata": {
        "id": "QLrui_9c_GxV",
        "colab": {
          "base_uri": "https://localhost:8080/"
        },
        "outputId": "312b4ad7-9042-4298-e979-e6aa6c78d4e5"
      },
      "outputs": [
        {
          "output_type": "stream",
          "name": "stdout",
          "text": [
            "Test Accuracy: 0.25778421433743665\n"
          ]
        }
      ],
      "source": [
        "# Predict labels on the test set\n",
        "test_predictions = svm_classifier.predict(X_test_tfidf)\n",
        "\n",
        "# Calculate accuracy on the test set\n",
        "test_accuracy = accuracy_score(y_test, test_predictions)\n",
        "print(\"Test Accuracy:\", test_accuracy)"
      ]
    },
    {
      "cell_type": "code",
      "source": [
        "# Predict probabilities on the test set\n",
        "test_probabilities = svm_classifier.predict_proba(X_test_tfidf)"
      ],
      "metadata": {
        "id": "xwW2MZmzN-Lo"
      },
      "execution_count": null,
      "outputs": []
    },
    {
      "cell_type": "code",
      "source": [
        "# Calculate top-3 accuracy\n",
        "top_k = 3\n",
        "test_top_k_accuracy = top_k_accuracy_score(y_test, test_probabilities, k=top_k)\n",
        "print(f\"Test Top-{top_k} Accuracy:\", test_top_k_accuracy)"
      ],
      "metadata": {
        "id": "3HHerzXSOHGP"
      },
      "execution_count": null,
      "outputs": []
    },
    {
      "cell_type": "code",
      "source": [
        "# Calculate top-3 accuracy\n",
        "top_k = 5\n",
        "test_top_k_accuracy = top_k_accuracy_score(y_test, test_probabilities, k=top_k)\n",
        "print(f\"Test Top-{top_k} Accuracy:\", test_top_k_accuracy)"
      ],
      "metadata": {
        "id": "CRYzWKEXOHiS"
      },
      "execution_count": null,
      "outputs": []
    },
    {
      "cell_type": "code",
      "source": [
        "# Calculate top-3 accuracy\n",
        "top_k = 10\n",
        "test_top_k_accuracy = top_k_accuracy_score(y_test, test_probabilities, k=top_k)\n",
        "print(f\"Test Top-{top_k} Accuracy:\", test_top_k_accuracy)"
      ],
      "metadata": {
        "id": "jeSCwitkOH-u"
      },
      "execution_count": null,
      "outputs": []
    }
  ],
  "metadata": {
    "colab": {
      "provenance": []
    },
    "kernelspec": {
      "display_name": "Python 3",
      "name": "python3"
    },
    "language_info": {
      "name": "python"
    }
  },
  "nbformat": 4,
  "nbformat_minor": 0
}