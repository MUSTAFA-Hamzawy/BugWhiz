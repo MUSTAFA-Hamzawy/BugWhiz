{
  "cells": [
    {
      "cell_type": "markdown",
      "metadata": {
        "id": "H1owhJo-7c_s"
      },
      "source": [
        "**Import Libraries**"
      ]
    },
    {
      "cell_type": "code",
      "execution_count": null,
      "metadata": {
        "id": "WfJvhCiZ6gft"
      },
      "outputs": [],
      "source": [
        "import pandas as pd\n",
        "from sklearn.preprocessing import LabelEncoder\n",
        "from sklearn.feature_extraction.text import TfidfVectorizer\n",
        "from sklearn.svm import SVC\n",
        "from sklearn.metrics import accuracy_score\n",
        "from sklearn.model_selection import StratifiedShuffleSplit\n",
        "import joblib\n",
        "from gensim.models import Word2Vec\n",
        "import numpy as np "
      ]
    },
    {
      "cell_type": "markdown",
      "metadata": {
        "id": "mIjQw4jv7jlz"
      },
      "source": [
        "**Load The Dataset**"
      ]
    },
    {
      "cell_type": "code",
      "execution_count": null,
      "metadata": {
        "colab": {
          "base_uri": "https://localhost:8080/"
        },
        "id": "tgkV2Cg3gIk5",
        "outputId": "47cf60fc-42ad-404a-9922-d9d44fbc1446"
      },
      "outputs": [
        {
          "name": "stdout",
          "output_type": "stream",
          "text": [
            "Mounted at /content/drive\n"
          ]
        }
      ],
      "source": [
        "# Mount Google Drive\n",
        "from google.colab import drive\n",
        "drive.mount('/content/drive')"
      ]
    },
    {
      "cell_type": "code",
      "execution_count": null,
      "metadata": {
        "id": "9bLUtRI77py8"
      },
      "outputs": [],
      "source": [
        "file_path = '/content/drive/My Drive/checkpoints/dataset_after_preprocessing.csv'\n",
        "dataset = pd.read_csv(file_path)"
      ]
    },
    {
      "cell_type": "markdown",
      "metadata": {
        "id": "DKXnH87j8Hmb"
      },
      "source": [
        "**Encode the labels**\n",
        "\n"
      ]
    },
    {
      "cell_type": "code",
      "execution_count": null,
      "metadata": {
        "id": "s_m3q3r18K1V"
      },
      "outputs": [],
      "source": [
        "# Initialize the LabelEncoder\n",
        "label_encoder = LabelEncoder()\n",
        "\n",
        "# Fit and transform the 'Assignee' column to numeric labels\n",
        "dataset['Assignee_Class'] = label_encoder.fit_transform(dataset['Assignee'])\n",
        "\n",
        "y = dataset['Assignee_Class']"
      ]
    },
    {
      "cell_type": "code",
      "execution_count": null,
      "metadata": {
        "colab": {
          "base_uri": "https://localhost:8080/"
        },
        "id": "AFY1Micb98uu",
        "outputId": "0cc8a4c3-0246-4504-c5bc-797cf1099f25"
      },
      "outputs": [
        {
          "data": {
            "text/plain": [
              "Summary_Stemmed    193207\n",
              "Assignee             2268\n",
              "Assignee_Class       2268\n",
              "dtype: int64"
            ]
          },
          "execution_count": 8,
          "metadata": {},
          "output_type": "execute_result"
        }
      ],
      "source": [
        "# compute the number of unique values for each column in the DataFrame training_data.\n",
        "dataset.nunique()"
      ]
    },
    {
      "cell_type": "markdown",
      "metadata": {
        "id": "7rcK7Qwm89P_"
      },
      "source": [
        "**Split the dataset**"
      ]
    },
    {
      "cell_type": "code",
      "execution_count": null,
      "metadata": {
        "colab": {
          "base_uri": "https://localhost:8080/"
        },
        "id": "9OkGo3er2ikC",
        "outputId": "fd2c50e2-acbd-4984-b2d7-33c1cf658af9"
      },
      "outputs": [
        {
          "name": "stdout",
          "output_type": "stream",
          "text": [
            "(193464, 3)\n",
            "Assignee_Class\n",
            "957     2478\n",
            "1339    2412\n",
            "952     1467\n",
            "1570    1377\n",
            "668     1197\n",
            "        ... \n",
            "49        10\n",
            "126       10\n",
            "1825      10\n",
            "521       10\n",
            "2005      10\n",
            "Name: count, Length: 2268, dtype: int64\n"
          ]
        }
      ],
      "source": [
        "print(dataset.shape)  # Check the shape of the dataset\n",
        "print(dataset['Assignee_Class'].value_counts())  # Check class distribution"
      ]
    },
    {
      "cell_type": "markdown",
      "metadata": {
        "id": "cp77sEmvGa6e"
      },
      "source": [
        "**Train Word2Vec model**"
      ]
    },
    {
      "cell_type": "code",
      "execution_count": null,
      "metadata": {
        "id": "JpFS7j27H7jm"
      },
      "outputs": [],
      "source": [
        "# Convert strings to lists of words\n",
        "def ensure_list_of_words(text):\n",
        "    if isinstance(text, str):\n",
        "        return text.split()  # or use word_tokenize(text) if tokenization is needed\n",
        "    return text"
      ]
    },
    {
      "cell_type": "code",
      "execution_count": null,
      "metadata": {
        "id": "19VoFfE5ILbQ"
      },
      "outputs": [],
      "source": [
        "dataset[\"Summary_Stemmed\"] = dataset[\"Summary_Stemmed\"].apply(ensure_list_of_words)"
      ]
    },
    {
      "cell_type": "code",
      "execution_count": null,
      "metadata": {
        "id": "k76X56U8Gc5q"
      },
      "outputs": [],
      "source": [
        "w2v_model = Word2Vec(sentences=dataset[\"Summary_Stemmed\"], vector_size=500, window=20, min_count=2, workers=4, epochs=250 )"
      ]
    },
    {
      "cell_type": "code",
      "execution_count": null,
      "metadata": {
        "id": "64CZ_l2Fyp7G"
      },
      "outputs": [],
      "source": [
        "# Save the model to a specified path on Google Drive\n",
        "model_path = '/content/drive/MyDrive/word2vec_model'\n",
        "w2v_model.save(model_path)"
      ]
    },
    {
      "cell_type": "code",
      "execution_count": null,
      "metadata": {
        "id": "7RzNgzZWPDSG"
      },
      "outputs": [],
      "source": [
        "model_path = '/content/drive/MyDrive/word2vec_model'\n",
        "w2v_model = Word2Vec.load(model_path)"
      ]
    },
    {
      "cell_type": "code",
      "execution_count": null,
      "metadata": {
        "id": "5XTOHLqTInfn"
      },
      "outputs": [],
      "source": [
        "# Convert each document to a fixed-size vector by averaging word vectors\n",
        "def document_vector(w2v_model, doc):\n",
        "    # Filter out words not in the model's vocabulary\n",
        "    doc = [word for word in doc if word in w2v_model.wv]\n",
        "    # If the document has no words in the vocabulary, return a zero vector\n",
        "    if len(doc) == 0:\n",
        "        return np.zeros(w2v_model.vector_size)\n",
        "    return np.mean(w2v_model.wv[doc], axis=0)\n",
        "\n",
        "# Apply document_vector function to each document\n",
        "X = np.array([document_vector(w2v_model, doc) for doc in dataset[\"Summary_Stemmed\"]])"
      ]
    },
    {
      "cell_type": "code",
      "execution_count": null,
      "metadata": {
        "id": "xNWFW87T2r_-"
      },
      "outputs": [],
      "source": [
        "# StratifiedShuffleSplit setup for initial train+val and test split\n",
        "sss1 = StratifiedShuffleSplit(n_splits=1, test_size=0.2, random_state=42)\n",
        "\n",
        "for train_val_index, test_index in sss1.split(X, y):\n",
        "    X_train_val, X_test = X[train_val_index], X[test_index]\n",
        "    y_train_val, y_test = y.iloc[train_val_index], y.iloc[test_index]"
      ]
    },
    {
      "cell_type": "code",
      "execution_count": null,
      "metadata": {
        "id": "__r_SW452wQ3"
      },
      "outputs": [],
      "source": [
        "# StratifiedShuffleSplit setup for train and validation split\n",
        "sss2 = StratifiedShuffleSplit(n_splits=1, test_size=0.25, random_state=42)\n",
        "\n",
        "for train_index, val_index in sss2.split(X_train_val, y_train_val):\n",
        "    X_train, X_val = X_train_val[train_index], X_train_val[val_index]\n",
        "    y_train, y_val = y_train_val.iloc[train_index], y_train_val.iloc[val_index]"
      ]
    },
    {
      "cell_type": "markdown",
      "metadata": {
        "id": "rJhb-p-w-e88"
      },
      "source": [
        "**Train an SVM Classifier**"
      ]
    },
    {
      "cell_type": "code",
      "execution_count": null,
      "metadata": {
        "colab": {
          "base_uri": "https://localhost:8080/",
          "height": 74
        },
        "id": "bMVkq31z-gpf",
        "outputId": "4604cd14-f24f-4e27-a932-dabc27db7038"
      },
      "outputs": [
        {
          "data": {
            "text/html": [
              "<style>#sk-container-id-1 {color: black;background-color: white;}#sk-container-id-1 pre{padding: 0;}#sk-container-id-1 div.sk-toggleable {background-color: white;}#sk-container-id-1 label.sk-toggleable__label {cursor: pointer;display: block;width: 100%;margin-bottom: 0;padding: 0.3em;box-sizing: border-box;text-align: center;}#sk-container-id-1 label.sk-toggleable__label-arrow:before {content: \"▸\";float: left;margin-right: 0.25em;color: #696969;}#sk-container-id-1 label.sk-toggleable__label-arrow:hover:before {color: black;}#sk-container-id-1 div.sk-estimator:hover label.sk-toggleable__label-arrow:before {color: black;}#sk-container-id-1 div.sk-toggleable__content {max-height: 0;max-width: 0;overflow: hidden;text-align: left;background-color: #f0f8ff;}#sk-container-id-1 div.sk-toggleable__content pre {margin: 0.2em;color: black;border-radius: 0.25em;background-color: #f0f8ff;}#sk-container-id-1 input.sk-toggleable__control:checked~div.sk-toggleable__content {max-height: 200px;max-width: 100%;overflow: auto;}#sk-container-id-1 input.sk-toggleable__control:checked~label.sk-toggleable__label-arrow:before {content: \"▾\";}#sk-container-id-1 div.sk-estimator input.sk-toggleable__control:checked~label.sk-toggleable__label {background-color: #d4ebff;}#sk-container-id-1 div.sk-label input.sk-toggleable__control:checked~label.sk-toggleable__label {background-color: #d4ebff;}#sk-container-id-1 input.sk-hidden--visually {border: 0;clip: rect(1px 1px 1px 1px);clip: rect(1px, 1px, 1px, 1px);height: 1px;margin: -1px;overflow: hidden;padding: 0;position: absolute;width: 1px;}#sk-container-id-1 div.sk-estimator {font-family: monospace;background-color: #f0f8ff;border: 1px dotted black;border-radius: 0.25em;box-sizing: border-box;margin-bottom: 0.5em;}#sk-container-id-1 div.sk-estimator:hover {background-color: #d4ebff;}#sk-container-id-1 div.sk-parallel-item::after {content: \"\";width: 100%;border-bottom: 1px solid gray;flex-grow: 1;}#sk-container-id-1 div.sk-label:hover label.sk-toggleable__label {background-color: #d4ebff;}#sk-container-id-1 div.sk-serial::before {content: \"\";position: absolute;border-left: 1px solid gray;box-sizing: border-box;top: 0;bottom: 0;left: 50%;z-index: 0;}#sk-container-id-1 div.sk-serial {display: flex;flex-direction: column;align-items: center;background-color: white;padding-right: 0.2em;padding-left: 0.2em;position: relative;}#sk-container-id-1 div.sk-item {position: relative;z-index: 1;}#sk-container-id-1 div.sk-parallel {display: flex;align-items: stretch;justify-content: center;background-color: white;position: relative;}#sk-container-id-1 div.sk-item::before, #sk-container-id-1 div.sk-parallel-item::before {content: \"\";position: absolute;border-left: 1px solid gray;box-sizing: border-box;top: 0;bottom: 0;left: 50%;z-index: -1;}#sk-container-id-1 div.sk-parallel-item {display: flex;flex-direction: column;z-index: 1;position: relative;background-color: white;}#sk-container-id-1 div.sk-parallel-item:first-child::after {align-self: flex-end;width: 50%;}#sk-container-id-1 div.sk-parallel-item:last-child::after {align-self: flex-start;width: 50%;}#sk-container-id-1 div.sk-parallel-item:only-child::after {width: 0;}#sk-container-id-1 div.sk-dashed-wrapped {border: 1px dashed gray;margin: 0 0.4em 0.5em 0.4em;box-sizing: border-box;padding-bottom: 0.4em;background-color: white;}#sk-container-id-1 div.sk-label label {font-family: monospace;font-weight: bold;display: inline-block;line-height: 1.2em;}#sk-container-id-1 div.sk-label-container {text-align: center;}#sk-container-id-1 div.sk-container {/* jupyter's `normalize.less` sets `[hidden] { display: none; }` but bootstrap.min.css set `[hidden] { display: none !important; }` so we also need the `!important` here to be able to override the default hidden behavior on the sphinx rendered scikit-learn.org. See: https://github.com/scikit-learn/scikit-learn/issues/21755 */display: inline-block !important;position: relative;}#sk-container-id-1 div.sk-text-repr-fallback {display: none;}</style><div id=\"sk-container-id-1\" class=\"sk-top-container\"><div class=\"sk-text-repr-fallback\"><pre>SVC(C=1, kernel=&#x27;linear&#x27;)</pre><b>In a Jupyter environment, please rerun this cell to show the HTML representation or trust the notebook. <br />On GitHub, the HTML representation is unable to render, please try loading this page with nbviewer.org.</b></div><div class=\"sk-container\" hidden><div class=\"sk-item\"><div class=\"sk-estimator sk-toggleable\"><input class=\"sk-toggleable__control sk-hidden--visually\" id=\"sk-estimator-id-1\" type=\"checkbox\" checked><label for=\"sk-estimator-id-1\" class=\"sk-toggleable__label sk-toggleable__label-arrow\">SVC</label><div class=\"sk-toggleable__content\"><pre>SVC(C=1, kernel=&#x27;linear&#x27;)</pre></div></div></div></div></div>"
            ],
            "text/plain": [
              "SVC(C=1, kernel='linear')"
            ]
          },
          "execution_count": 16,
          "metadata": {},
          "output_type": "execute_result"
        }
      ],
      "source": [
        "svm_classifier = SVC(C = 1, kernel = 'linear')\n",
        "svm_classifier.fit(X_train, y_train)"
      ]
    },
    {
      "cell_type": "code",
      "execution_count": null,
      "metadata": {
        "colab": {
          "base_uri": "https://localhost:8080/"
        },
        "id": "yVmiKcLoYzDG",
        "outputId": "f11f4bd3-5060-4349-da20-b40b0ebd71fb"
      },
      "outputs": [
        {
          "data": {
            "text/plain": [
              "['/content/drive/MyDrive/svm_classifier_model_word2vec.joblib']"
            ]
          },
          "execution_count": 17,
          "metadata": {},
          "output_type": "execute_result"
        }
      ],
      "source": [
        "# Save the model to Google Drive\n",
        "model_filename = '/content/drive/MyDrive/svm_classifier_model_word2vec.joblib'\n",
        "joblib.dump(svm_classifier, model_filename)"
      ]
    },
    {
      "cell_type": "markdown",
      "metadata": {
        "id": "z82UJoqB-8LE"
      },
      "source": [
        "**Evaluate the Classifier on the Validation Set**"
      ]
    },
    {
      "cell_type": "code",
      "execution_count": null,
      "metadata": {
        "id": "umjyytvDdHnC"
      },
      "outputs": [],
      "source": [
        "# Load the model from Google Drive\n",
        "model_filename = '/content/drive/MyDrive/svm_classifier_model_word2vec.joblib'\n",
        "svm_classifier = joblib.load(model_filename)"
      ]
    },
    {
      "cell_type": "code",
      "execution_count": null,
      "metadata": {
        "colab": {
          "base_uri": "https://localhost:8080/"
        },
        "id": "ZiifYLID-9er",
        "outputId": "17ee5587-dd10-4b8a-e6e2-616464bf20b2"
      },
      "outputs": [
        {
          "name": "stdout",
          "output_type": "stream",
          "text": [
            "Validation Accuracy: 0.02336339906443026\n"
          ]
        }
      ],
      "source": [
        "# Predict labels on the validation set\n",
        "val_predictions = svm_classifier.predict(X_val)\n",
        "\n",
        "# Calculate accuracy on the validation set\n",
        "val_accuracy = accuracy_score(y_val, val_predictions)\n",
        "print(\"Validation Accuracy:\", val_accuracy)"
      ]
    }
  ],
  "metadata": {
    "colab": {
      "provenance": []
    },
    "kernelspec": {
      "display_name": "Python 3",
      "name": "python3"
    },
    "language_info": {
      "name": "python"
    }
  },
  "nbformat": 4,
  "nbformat_minor": 0
}
