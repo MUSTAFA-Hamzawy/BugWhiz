{
  "cells": [
    {
      "cell_type": "markdown",
      "metadata": {
        "id": "4RN_3P3DwiIb"
      },
      "source": [
        "**Imports**"
      ]
    },
    {
      "cell_type": "code",
      "execution_count": 1,
      "metadata": {
        "id": "yXcje3lluSks"
      },
      "outputs": [],
      "source": [
        "import os\n",
        "import pandas as pd\n",
        "import re\n",
        "import nltk\n",
        "from nltk.tokenize import word_tokenize\n",
        "from nltk.corpus import stopwords\n",
        "from nltk.stem import PorterStemmer\n",
        "import string"
      ]
    },
    {
      "cell_type": "markdown",
      "metadata": {
        "id": "NTUrsb_azd0-"
      },
      "source": [
        "**Download necessary NLTK data**"
      ]
    },
    {
      "cell_type": "code",
      "execution_count": 2,
      "metadata": {
        "colab": {
          "base_uri": "https://localhost:8080/"
        },
        "id": "MF4Y4B4Rzc-f",
        "outputId": "6fc13625-523a-4876-e31c-8d3a69c4138f"
      },
      "outputs": [
        {
          "name": "stderr",
          "output_type": "stream",
          "text": [
            "[nltk_data] Downloading package punkt to /home/donia/nltk_data...\n",
            "[nltk_data]   Package punkt is already up-to-date!\n",
            "[nltk_data] Downloading package stopwords to /home/donia/nltk_data...\n",
            "[nltk_data]   Package stopwords is already up-to-date!\n"
          ]
        },
        {
          "data": {
            "text/plain": [
              "True"
            ]
          },
          "execution_count": 2,
          "metadata": {},
          "output_type": "execute_result"
        }
      ],
      "source": [
        "# Download the 'punkt' tokenizer from NLTK (Natural Language Toolkit) if not already downloaded\n",
        "nltk.download('punkt')\n",
        "\n",
        "# Download the stopwords dataset from NLTK if not already downloaded\n",
        "nltk.download('stopwords')"
      ]
    },
    {
      "cell_type": "markdown",
      "metadata": {
        "id": "j8TejzlazkD_"
      },
      "source": [
        "**Initialize the stemmer and stop words**"
      ]
    },
    {
      "cell_type": "code",
      "execution_count": 3,
      "metadata": {
        "id": "fImnRVrfznyy"
      },
      "outputs": [],
      "source": [
        "# Initialize a Porter stemmer from NLTK for stemming words\n",
        "stemmer = PorterStemmer()\n",
        "\n",
        "# Retrieve the set of stopwords in English from NLTK\n",
        "stop_words = set(stopwords.words('english'))"
      ]
    },
    {
      "cell_type": "markdown",
      "metadata": {
        "id": "HUkDWHw0woC1"
      },
      "source": [
        "**Load the data**"
      ]
    },
    {
      "cell_type": "code",
      "execution_count": 4,
      "metadata": {
        "id": "q-FMWVBdsENS"
      },
      "outputs": [],
      "source": [
        "# Read the cleaned Kaggle dataset from the CSV file into a Pandas DataFrame\n",
        "kaggle_data_set = pd.read_csv('../data/kaggle_dataset/cleaned_kaggle_dataset.csv')\n",
        "\n",
        "# Read the cleaned Mozilla dataset from the CSV file into a Pandas DataFrame\n",
        "mozilla_data_set = pd.read_csv('../data/mozilla_dataset/cleaned_mozilla_dataset.csv')\n",
        "\n",
        "# Read the cleaned Eclipse dataset from the CSV file into a Pandas DataFrame\n",
        "eclipse_data_set = pd.read_csv('../data/eclipse_dataset/cleaned_eclipse_dataset.csv')"
      ]
    },
    {
      "cell_type": "markdown",
      "metadata": {
        "id": "lryV358jwqvc"
      },
      "source": [
        "**Show the data**"
      ]
    },
    {
      "cell_type": "code",
      "execution_count": 5,
      "metadata": {
        "colab": {
          "base_uri": "https://localhost:8080/",
          "height": 423
        },
        "id": "1bOXhIBZuw9j",
        "outputId": "9775f820-c68a-41d8-ca42-4b26cb339971"
      },
      "outputs": [
        {
          "data": {
            "text/html": [
              "<div>\n",
              "<style scoped>\n",
              "    .dataframe tbody tr th:only-of-type {\n",
              "        vertical-align: middle;\n",
              "    }\n",
              "\n",
              "    .dataframe tbody tr th {\n",
              "        vertical-align: top;\n",
              "    }\n",
              "\n",
              "    .dataframe thead th {\n",
              "        text-align: right;\n",
              "    }\n",
              "</style>\n",
              "<table border=\"1\" class=\"dataframe\">\n",
              "  <thead>\n",
              "    <tr style=\"text-align: right;\">\n",
              "      <th></th>\n",
              "      <th>owner</th>\n",
              "      <th>Summary</th>\n",
              "    </tr>\n",
              "  </thead>\n",
              "  <tbody>\n",
              "    <tr>\n",
              "      <th>0</th>\n",
              "      <td>amit@chromium.org</td>\n",
              "      <td>Scrolling with some scroll mice touchpad etc s...</td>\n",
              "    </tr>\n",
              "    <tr>\n",
              "      <th>1</th>\n",
              "      <td>jon@chromium.org</td>\n",
              "      <td>Proxy causes some or all network requests to fail</td>\n",
              "    </tr>\n",
              "    <tr>\n",
              "      <th>2</th>\n",
              "      <td>pfeldman@chromium.org</td>\n",
              "      <td>Web inspector button dock to main window does ...</td>\n",
              "    </tr>\n",
              "    <tr>\n",
              "      <th>3</th>\n",
              "      <td>jon@chromium.org</td>\n",
              "      <td>Habari admin interface is not rendered correctly</td>\n",
              "    </tr>\n",
              "    <tr>\n",
              "      <th>4</th>\n",
              "      <td>pkasting@chromium.org</td>\n",
              "      <td>Maximize on second larger monitor not working</td>\n",
              "    </tr>\n",
              "    <tr>\n",
              "      <th>...</th>\n",
              "      <td>...</td>\n",
              "      <td>...</td>\n",
              "    </tr>\n",
              "    <tr>\n",
              "      <th>100042</th>\n",
              "      <td>cyrusm@chromium.org</td>\n",
              "      <td>Bypassing policies set by removing battery can...</td>\n",
              "    </tr>\n",
              "    <tr>\n",
              "      <th>100043</th>\n",
              "      <td>mlchan@chromium.org</td>\n",
              "      <td>Chrome OS  Eureka setup UI is not a 100 visibl...</td>\n",
              "    </tr>\n",
              "    <tr>\n",
              "      <th>100044</th>\n",
              "      <td>lottie@chromium.org</td>\n",
              "      <td>Broken Link on Web Store Upload Page</td>\n",
              "    </tr>\n",
              "    <tr>\n",
              "      <th>100045</th>\n",
              "      <td>mario.pr...@samsung.com</td>\n",
              "      <td>Weird overlapping of text Friend observed in C...</td>\n",
              "    </tr>\n",
              "    <tr>\n",
              "      <th>100046</th>\n",
              "      <td>radhikabhar@chromium.org</td>\n",
              "      <td>Suggest installing SP3 on invalid certificate ...</td>\n",
              "    </tr>\n",
              "  </tbody>\n",
              "</table>\n",
              "<p>100047 rows × 2 columns</p>\n",
              "</div>"
            ],
            "text/plain": [
              "                           owner  \\\n",
              "0              amit@chromium.org   \n",
              "1               jon@chromium.org   \n",
              "2          pfeldman@chromium.org   \n",
              "3               jon@chromium.org   \n",
              "4          pkasting@chromium.org   \n",
              "...                          ...   \n",
              "100042       cyrusm@chromium.org   \n",
              "100043       mlchan@chromium.org   \n",
              "100044       lottie@chromium.org   \n",
              "100045   mario.pr...@samsung.com   \n",
              "100046  radhikabhar@chromium.org   \n",
              "\n",
              "                                                  Summary  \n",
              "0       Scrolling with some scroll mice touchpad etc s...  \n",
              "1       Proxy causes some or all network requests to fail  \n",
              "2       Web inspector button dock to main window does ...  \n",
              "3        Habari admin interface is not rendered correctly  \n",
              "4           Maximize on second larger monitor not working  \n",
              "...                                                   ...  \n",
              "100042  Bypassing policies set by removing battery can...  \n",
              "100043  Chrome OS  Eureka setup UI is not a 100 visibl...  \n",
              "100044               Broken Link on Web Store Upload Page  \n",
              "100045  Weird overlapping of text Friend observed in C...  \n",
              "100046  Suggest installing SP3 on invalid certificate ...  \n",
              "\n",
              "[100047 rows x 2 columns]"
            ]
          },
          "execution_count": 5,
          "metadata": {},
          "output_type": "execute_result"
        }
      ],
      "source": [
        "# Display the DataFrame 'kaggle_data_set'\n",
        "# This will print the first and last 5 rows of the DataFrame along with the column names and index\n",
        "# Useful for a quick overview of the data after processing\n",
        "kaggle_data_set "
      ]
    },
    {
      "cell_type": "code",
      "execution_count": 6,
      "metadata": {
        "colab": {
          "base_uri": "https://localhost:8080/",
          "height": 423
        },
        "id": "-yYB_q7JuyvX",
        "outputId": "25cf0586-d5de-4ede-b04f-6b1662750e11"
      },
      "outputs": [
        {
          "data": {
            "text/html": [
              "<div>\n",
              "<style scoped>\n",
              "    .dataframe tbody tr th:only-of-type {\n",
              "        vertical-align: middle;\n",
              "    }\n",
              "\n",
              "    .dataframe tbody tr th {\n",
              "        vertical-align: top;\n",
              "    }\n",
              "\n",
              "    .dataframe thead th {\n",
              "        text-align: right;\n",
              "    }\n",
              "</style>\n",
              "<table border=\"1\" class=\"dataframe\">\n",
              "  <thead>\n",
              "    <tr style=\"text-align: right;\">\n",
              "      <th></th>\n",
              "      <th>Summary</th>\n",
              "      <th>Assignee</th>\n",
              "    </tr>\n",
              "  </thead>\n",
              "  <tbody>\n",
              "    <tr>\n",
              "      <th>0</th>\n",
              "      <td>Allow inspecting a logged DOM nodes tree vs th...</td>\n",
              "      <td>hmanilla</td>\n",
              "    </tr>\n",
              "    <tr>\n",
              "      <th>1</th>\n",
              "      <td>Display response for multipart content type</td>\n",
              "      <td>hmanilla</td>\n",
              "    </tr>\n",
              "    <tr>\n",
              "      <th>2</th>\n",
              "      <td>3934  463 damp customprettyprintjsdebuggerrelo...</td>\n",
              "      <td>hmanilla</td>\n",
              "    </tr>\n",
              "    <tr>\n",
              "      <th>3</th>\n",
              "      <td>Devtools go into infinite loop after creating ...</td>\n",
              "      <td>jimb</td>\n",
              "    </tr>\n",
              "    <tr>\n",
              "      <th>4</th>\n",
              "      <td>Allow hotreloading stylesheets for temporary i...</td>\n",
              "      <td>poirot.alex</td>\n",
              "    </tr>\n",
              "    <tr>\n",
              "      <th>...</th>\n",
              "      <td>...</td>\n",
              "      <td>...</td>\n",
              "    </tr>\n",
              "    <tr>\n",
              "      <th>7286</th>\n",
              "      <td>Run event timestamp experiment on Android</td>\n",
              "      <td>jrediger</td>\n",
              "    </tr>\n",
              "    <tr>\n",
              "      <th>7287</th>\n",
              "      <td>Speed up table deploys in bqetl_artifact_deplo...</td>\n",
              "      <td>ascholtz</td>\n",
              "    </tr>\n",
              "    <tr>\n",
              "      <th>7288</th>\n",
              "      <td>Implement Glean Server Knobs for mobile products</td>\n",
              "      <td>brosa</td>\n",
              "    </tr>\n",
              "    <tr>\n",
              "      <th>7289</th>\n",
              "      <td>Airflow task bqetl_firefox_ioschecks__fail_fir...</td>\n",
              "      <td>kignasiak</td>\n",
              "    </tr>\n",
              "    <tr>\n",
              "      <th>7290</th>\n",
              "      <td>AMO does not support IPv6 anymore only IPv4</td>\n",
              "      <td>wezhou</td>\n",
              "    </tr>\n",
              "  </tbody>\n",
              "</table>\n",
              "<p>7291 rows × 2 columns</p>\n",
              "</div>"
            ],
            "text/plain": [
              "                                                Summary     Assignee\n",
              "0     Allow inspecting a logged DOM nodes tree vs th...     hmanilla\n",
              "1           Display response for multipart content type     hmanilla\n",
              "2     3934  463 damp customprettyprintjsdebuggerrelo...     hmanilla\n",
              "3     Devtools go into infinite loop after creating ...         jimb\n",
              "4     Allow hotreloading stylesheets for temporary i...  poirot.alex\n",
              "...                                                 ...          ...\n",
              "7286          Run event timestamp experiment on Android     jrediger\n",
              "7287  Speed up table deploys in bqetl_artifact_deplo...     ascholtz\n",
              "7288   Implement Glean Server Knobs for mobile products        brosa\n",
              "7289  Airflow task bqetl_firefox_ioschecks__fail_fir...    kignasiak\n",
              "7290        AMO does not support IPv6 anymore only IPv4       wezhou\n",
              "\n",
              "[7291 rows x 2 columns]"
            ]
          },
          "execution_count": 6,
          "metadata": {},
          "output_type": "execute_result"
        }
      ],
      "source": [
        "# Display the DataFrame 'mozilla_data_set'\n",
        "# This will print the first and last 5 rows of the DataFrame along with the column names and index\n",
        "# Useful for a quick overview of the data after processing\n",
        "mozilla_data_set"
      ]
    },
    {
      "cell_type": "code",
      "execution_count": 7,
      "metadata": {
        "colab": {
          "base_uri": "https://localhost:8080/",
          "height": 423
        },
        "id": "J6mUcEZzu2kR",
        "outputId": "9ac8884f-bc86-4e24-d3f9-ef4f77901e4d"
      },
      "outputs": [
        {
          "data": {
            "text/html": [
              "<div>\n",
              "<style scoped>\n",
              "    .dataframe tbody tr th:only-of-type {\n",
              "        vertical-align: middle;\n",
              "    }\n",
              "\n",
              "    .dataframe tbody tr th {\n",
              "        vertical-align: top;\n",
              "    }\n",
              "\n",
              "    .dataframe thead th {\n",
              "        text-align: right;\n",
              "    }\n",
              "</style>\n",
              "<table border=\"1\" class=\"dataframe\">\n",
              "  <thead>\n",
              "    <tr style=\"text-align: right;\">\n",
              "      <th></th>\n",
              "      <th>Assignee</th>\n",
              "      <th>Summary</th>\n",
              "    </tr>\n",
              "  </thead>\n",
              "  <tbody>\n",
              "    <tr>\n",
              "      <th>0</th>\n",
              "      <td>sphinx-inbox</td>\n",
              "      <td>Usage of HashSet and HashMap does not preserve...</td>\n",
              "    </tr>\n",
              "    <tr>\n",
              "      <th>1</th>\n",
              "      <td>sphinx-inbox</td>\n",
              "      <td>Add support for scheduling rules in the dynami...</td>\n",
              "    </tr>\n",
              "    <tr>\n",
              "      <th>2</th>\n",
              "      <td>sphinx-inbox</td>\n",
              "      <td>Class loading problem during dynamic workflow ...</td>\n",
              "    </tr>\n",
              "    <tr>\n",
              "      <th>3</th>\n",
              "      <td>sphinx-inbox</td>\n",
              "      <td>BasicTransactionalFormEditor addPages method i...</td>\n",
              "    </tr>\n",
              "    <tr>\n",
              "      <th>4</th>\n",
              "      <td>sphinx-inbox</td>\n",
              "      <td>Make Class loading in BasicWorkflowRunnerOpera...</td>\n",
              "    </tr>\n",
              "    <tr>\n",
              "      <th>...</th>\n",
              "      <td>...</td>\n",
              "      <td>...</td>\n",
              "    </tr>\n",
              "    <tr>\n",
              "      <th>247992</th>\n",
              "      <td>kmunir</td>\n",
              "      <td>Change action for Filters should be removed</td>\n",
              "    </tr>\n",
              "    <tr>\n",
              "      <th>247993</th>\n",
              "      <td>mober.at+eclipse</td>\n",
              "      <td>RSE Project Filters show up as ViewFilterRSETe...</td>\n",
              "    </tr>\n",
              "    <tr>\n",
              "      <th>247994</th>\n",
              "      <td>mober.at+eclipse</td>\n",
              "      <td>typo on RSE Tutorials help page</td>\n",
              "    </tr>\n",
              "    <tr>\n",
              "      <th>247995</th>\n",
              "      <td>mober.at+eclipse</td>\n",
              "      <td>Need to update the year of copyright in Univer...</td>\n",
              "    </tr>\n",
              "    <tr>\n",
              "      <th>247996</th>\n",
              "      <td>mober.at+eclipse</td>\n",
              "      <td>TVT36TCT199 Mnemonics on TestConnection contex...</td>\n",
              "    </tr>\n",
              "  </tbody>\n",
              "</table>\n",
              "<p>247997 rows × 2 columns</p>\n",
              "</div>"
            ],
            "text/plain": [
              "                Assignee                                            Summary\n",
              "0           sphinx-inbox  Usage of HashSet and HashMap does not preserve...\n",
              "1           sphinx-inbox  Add support for scheduling rules in the dynami...\n",
              "2           sphinx-inbox  Class loading problem during dynamic workflow ...\n",
              "3           sphinx-inbox  BasicTransactionalFormEditor addPages method i...\n",
              "4           sphinx-inbox  Make Class loading in BasicWorkflowRunnerOpera...\n",
              "...                  ...                                                ...\n",
              "247992            kmunir        Change action for Filters should be removed\n",
              "247993  mober.at+eclipse  RSE Project Filters show up as ViewFilterRSETe...\n",
              "247994  mober.at+eclipse                    typo on RSE Tutorials help page\n",
              "247995  mober.at+eclipse  Need to update the year of copyright in Univer...\n",
              "247996  mober.at+eclipse  TVT36TCT199 Mnemonics on TestConnection contex...\n",
              "\n",
              "[247997 rows x 2 columns]"
            ]
          },
          "execution_count": 7,
          "metadata": {},
          "output_type": "execute_result"
        }
      ],
      "source": [
        "# Display the DataFrame 'eclipse_data_set'\n",
        "# This will print the first and last 5 rows of the DataFrame along with the column names and index\n",
        "# Useful for a quick overview of the data after processing\n",
        "eclipse_data_set"
      ]
    },
    {
      "cell_type": "markdown",
      "metadata": {
        "id": "LDcJ0ZY-wtrG"
      },
      "source": [
        "**Rename 'owner' column in kaggle dataset to be 'Assignee'**"
      ]
    },
    {
      "cell_type": "code",
      "execution_count": 5,
      "metadata": {
        "id": "XXGfMQFvu7be"
      },
      "outputs": [],
      "source": [
        "# Rename the 'owner' column in the DataFrame 'kaggle_data_set' to 'Assignee'\n",
        "# 'kaggle_data_set.rename(columns={'owner': 'Assignee'}, inplace=True)' renames the specified column in place\n",
        "kaggle_data_set.rename(columns={'owner': 'Assignee'}, inplace=True)"
      ]
    },
    {
      "cell_type": "code",
      "execution_count": 9,
      "metadata": {
        "colab": {
          "base_uri": "https://localhost:8080/",
          "height": 423
        },
        "id": "zCrzsjHcvB9w",
        "outputId": "4de4d9d5-5186-49ac-b2a9-bdbe6b7a0dc0"
      },
      "outputs": [
        {
          "data": {
            "text/html": [
              "<div>\n",
              "<style scoped>\n",
              "    .dataframe tbody tr th:only-of-type {\n",
              "        vertical-align: middle;\n",
              "    }\n",
              "\n",
              "    .dataframe tbody tr th {\n",
              "        vertical-align: top;\n",
              "    }\n",
              "\n",
              "    .dataframe thead th {\n",
              "        text-align: right;\n",
              "    }\n",
              "</style>\n",
              "<table border=\"1\" class=\"dataframe\">\n",
              "  <thead>\n",
              "    <tr style=\"text-align: right;\">\n",
              "      <th></th>\n",
              "      <th>Assignee</th>\n",
              "      <th>Summary</th>\n",
              "    </tr>\n",
              "  </thead>\n",
              "  <tbody>\n",
              "    <tr>\n",
              "      <th>0</th>\n",
              "      <td>amit@chromium.org</td>\n",
              "      <td>Scrolling with some scroll mice touchpad etc s...</td>\n",
              "    </tr>\n",
              "    <tr>\n",
              "      <th>1</th>\n",
              "      <td>jon@chromium.org</td>\n",
              "      <td>Proxy causes some or all network requests to fail</td>\n",
              "    </tr>\n",
              "    <tr>\n",
              "      <th>2</th>\n",
              "      <td>pfeldman@chromium.org</td>\n",
              "      <td>Web inspector button dock to main window does ...</td>\n",
              "    </tr>\n",
              "    <tr>\n",
              "      <th>3</th>\n",
              "      <td>jon@chromium.org</td>\n",
              "      <td>Habari admin interface is not rendered correctly</td>\n",
              "    </tr>\n",
              "    <tr>\n",
              "      <th>4</th>\n",
              "      <td>pkasting@chromium.org</td>\n",
              "      <td>Maximize on second larger monitor not working</td>\n",
              "    </tr>\n",
              "    <tr>\n",
              "      <th>...</th>\n",
              "      <td>...</td>\n",
              "      <td>...</td>\n",
              "    </tr>\n",
              "    <tr>\n",
              "      <th>100042</th>\n",
              "      <td>cyrusm@chromium.org</td>\n",
              "      <td>Bypassing policies set by removing battery can...</td>\n",
              "    </tr>\n",
              "    <tr>\n",
              "      <th>100043</th>\n",
              "      <td>mlchan@chromium.org</td>\n",
              "      <td>Chrome OS  Eureka setup UI is not a 100 visibl...</td>\n",
              "    </tr>\n",
              "    <tr>\n",
              "      <th>100044</th>\n",
              "      <td>lottie@chromium.org</td>\n",
              "      <td>Broken Link on Web Store Upload Page</td>\n",
              "    </tr>\n",
              "    <tr>\n",
              "      <th>100045</th>\n",
              "      <td>mario.pr...@samsung.com</td>\n",
              "      <td>Weird overlapping of text Friend observed in C...</td>\n",
              "    </tr>\n",
              "    <tr>\n",
              "      <th>100046</th>\n",
              "      <td>radhikabhar@chromium.org</td>\n",
              "      <td>Suggest installing SP3 on invalid certificate ...</td>\n",
              "    </tr>\n",
              "  </tbody>\n",
              "</table>\n",
              "<p>100047 rows × 2 columns</p>\n",
              "</div>"
            ],
            "text/plain": [
              "                        Assignee  \\\n",
              "0              amit@chromium.org   \n",
              "1               jon@chromium.org   \n",
              "2          pfeldman@chromium.org   \n",
              "3               jon@chromium.org   \n",
              "4          pkasting@chromium.org   \n",
              "...                          ...   \n",
              "100042       cyrusm@chromium.org   \n",
              "100043       mlchan@chromium.org   \n",
              "100044       lottie@chromium.org   \n",
              "100045   mario.pr...@samsung.com   \n",
              "100046  radhikabhar@chromium.org   \n",
              "\n",
              "                                                  Summary  \n",
              "0       Scrolling with some scroll mice touchpad etc s...  \n",
              "1       Proxy causes some or all network requests to fail  \n",
              "2       Web inspector button dock to main window does ...  \n",
              "3        Habari admin interface is not rendered correctly  \n",
              "4           Maximize on second larger monitor not working  \n",
              "...                                                   ...  \n",
              "100042  Bypassing policies set by removing battery can...  \n",
              "100043  Chrome OS  Eureka setup UI is not a 100 visibl...  \n",
              "100044               Broken Link on Web Store Upload Page  \n",
              "100045  Weird overlapping of text Friend observed in C...  \n",
              "100046  Suggest installing SP3 on invalid certificate ...  \n",
              "\n",
              "[100047 rows x 2 columns]"
            ]
          },
          "execution_count": 9,
          "metadata": {},
          "output_type": "execute_result"
        }
      ],
      "source": [
        "# Display the DataFrame 'kaggle_data_set'\n",
        "# This will print the first and last 5 rows of the DataFrame along with the column names and index\n",
        "# Useful for a quick overview of the data after processing\n",
        "kaggle_data_set "
      ]
    },
    {
      "cell_type": "markdown",
      "metadata": {
        "id": "QhC76YY3w0vz"
      },
      "source": [
        "**Exchange columns in kaggle and eclipse datasets to be 'Summary then 'Assignee'**"
      ]
    },
    {
      "cell_type": "code",
      "execution_count": 6,
      "metadata": {
        "id": "Pvppif7gvMMg"
      },
      "outputs": [],
      "source": [
        "# Get a list of column names from the DataFrame 'kaggle_data_set'\n",
        "cols = list(kaggle_data_set.columns)\n",
        "\n",
        "# Swap the positions of columns 'Assignee' and 'Summary' in the list of column names\n",
        "cols[0], cols[1] = cols[1], cols[0]  # Swapping column positions\n",
        "\n",
        "# Reorder the DataFrame 'kaggle_data_set' based on the updated list of column names\n",
        "kaggle_data_set = kaggle_data_set[cols]"
      ]
    },
    {
      "cell_type": "code",
      "execution_count": 11,
      "metadata": {
        "colab": {
          "base_uri": "https://localhost:8080/",
          "height": 423
        },
        "id": "2dGjg27cviJw",
        "outputId": "b4722491-b4c7-4b9d-eec0-313bb8e407a7"
      },
      "outputs": [
        {
          "data": {
            "text/html": [
              "<div>\n",
              "<style scoped>\n",
              "    .dataframe tbody tr th:only-of-type {\n",
              "        vertical-align: middle;\n",
              "    }\n",
              "\n",
              "    .dataframe tbody tr th {\n",
              "        vertical-align: top;\n",
              "    }\n",
              "\n",
              "    .dataframe thead th {\n",
              "        text-align: right;\n",
              "    }\n",
              "</style>\n",
              "<table border=\"1\" class=\"dataframe\">\n",
              "  <thead>\n",
              "    <tr style=\"text-align: right;\">\n",
              "      <th></th>\n",
              "      <th>Summary</th>\n",
              "      <th>Assignee</th>\n",
              "    </tr>\n",
              "  </thead>\n",
              "  <tbody>\n",
              "    <tr>\n",
              "      <th>0</th>\n",
              "      <td>Scrolling with some scroll mice touchpad etc s...</td>\n",
              "      <td>amit@chromium.org</td>\n",
              "    </tr>\n",
              "    <tr>\n",
              "      <th>1</th>\n",
              "      <td>Proxy causes some or all network requests to fail</td>\n",
              "      <td>jon@chromium.org</td>\n",
              "    </tr>\n",
              "    <tr>\n",
              "      <th>2</th>\n",
              "      <td>Web inspector button dock to main window does ...</td>\n",
              "      <td>pfeldman@chromium.org</td>\n",
              "    </tr>\n",
              "    <tr>\n",
              "      <th>3</th>\n",
              "      <td>Habari admin interface is not rendered correctly</td>\n",
              "      <td>jon@chromium.org</td>\n",
              "    </tr>\n",
              "    <tr>\n",
              "      <th>4</th>\n",
              "      <td>Maximize on second larger monitor not working</td>\n",
              "      <td>pkasting@chromium.org</td>\n",
              "    </tr>\n",
              "    <tr>\n",
              "      <th>...</th>\n",
              "      <td>...</td>\n",
              "      <td>...</td>\n",
              "    </tr>\n",
              "    <tr>\n",
              "      <th>100042</th>\n",
              "      <td>Bypassing policies set by removing battery can...</td>\n",
              "      <td>cyrusm@chromium.org</td>\n",
              "    </tr>\n",
              "    <tr>\n",
              "      <th>100043</th>\n",
              "      <td>Chrome OS  Eureka setup UI is not a 100 visibl...</td>\n",
              "      <td>mlchan@chromium.org</td>\n",
              "    </tr>\n",
              "    <tr>\n",
              "      <th>100044</th>\n",
              "      <td>Broken Link on Web Store Upload Page</td>\n",
              "      <td>lottie@chromium.org</td>\n",
              "    </tr>\n",
              "    <tr>\n",
              "      <th>100045</th>\n",
              "      <td>Weird overlapping of text Friend observed in C...</td>\n",
              "      <td>mario.pr...@samsung.com</td>\n",
              "    </tr>\n",
              "    <tr>\n",
              "      <th>100046</th>\n",
              "      <td>Suggest installing SP3 on invalid certificate ...</td>\n",
              "      <td>radhikabhar@chromium.org</td>\n",
              "    </tr>\n",
              "  </tbody>\n",
              "</table>\n",
              "<p>100047 rows × 2 columns</p>\n",
              "</div>"
            ],
            "text/plain": [
              "                                                  Summary  \\\n",
              "0       Scrolling with some scroll mice touchpad etc s...   \n",
              "1       Proxy causes some or all network requests to fail   \n",
              "2       Web inspector button dock to main window does ...   \n",
              "3        Habari admin interface is not rendered correctly   \n",
              "4           Maximize on second larger monitor not working   \n",
              "...                                                   ...   \n",
              "100042  Bypassing policies set by removing battery can...   \n",
              "100043  Chrome OS  Eureka setup UI is not a 100 visibl...   \n",
              "100044               Broken Link on Web Store Upload Page   \n",
              "100045  Weird overlapping of text Friend observed in C...   \n",
              "100046  Suggest installing SP3 on invalid certificate ...   \n",
              "\n",
              "                        Assignee  \n",
              "0              amit@chromium.org  \n",
              "1               jon@chromium.org  \n",
              "2          pfeldman@chromium.org  \n",
              "3               jon@chromium.org  \n",
              "4          pkasting@chromium.org  \n",
              "...                          ...  \n",
              "100042       cyrusm@chromium.org  \n",
              "100043       mlchan@chromium.org  \n",
              "100044       lottie@chromium.org  \n",
              "100045   mario.pr...@samsung.com  \n",
              "100046  radhikabhar@chromium.org  \n",
              "\n",
              "[100047 rows x 2 columns]"
            ]
          },
          "execution_count": 11,
          "metadata": {},
          "output_type": "execute_result"
        }
      ],
      "source": [
        "# Display the DataFrame 'kaggle_data_set'\n",
        "# This will print the first and last 5 rows of the DataFrame along with the column names and index\n",
        "# Useful for a quick overview of the data after processing\n",
        "kaggle_data_set "
      ]
    },
    {
      "cell_type": "code",
      "execution_count": 7,
      "metadata": {
        "id": "vpPzrplNvZ2d"
      },
      "outputs": [],
      "source": [
        "# Get a list of column names from the DataFrame 'eclipse_data_set'\n",
        "cols = list(eclipse_data_set.columns)\n",
        "\n",
        "# Swap the positions of columns 'Assignee' and 'Summary' in the list of column names\n",
        "cols[0], cols[1] = cols[1], cols[0]  # Swapping column positions\n",
        "\n",
        "# Reorder the DataFrame 'eclipse_data_set' based on the updated list of column names\n",
        "eclipse_data_set = eclipse_data_set[cols]"
      ]
    },
    {
      "cell_type": "code",
      "execution_count": 13,
      "metadata": {
        "colab": {
          "base_uri": "https://localhost:8080/",
          "height": 423
        },
        "id": "YiL18NEbvkH8",
        "outputId": "57e84ba8-887c-4e0e-8995-02905f7902df"
      },
      "outputs": [
        {
          "data": {
            "text/html": [
              "<div>\n",
              "<style scoped>\n",
              "    .dataframe tbody tr th:only-of-type {\n",
              "        vertical-align: middle;\n",
              "    }\n",
              "\n",
              "    .dataframe tbody tr th {\n",
              "        vertical-align: top;\n",
              "    }\n",
              "\n",
              "    .dataframe thead th {\n",
              "        text-align: right;\n",
              "    }\n",
              "</style>\n",
              "<table border=\"1\" class=\"dataframe\">\n",
              "  <thead>\n",
              "    <tr style=\"text-align: right;\">\n",
              "      <th></th>\n",
              "      <th>Summary</th>\n",
              "      <th>Assignee</th>\n",
              "    </tr>\n",
              "  </thead>\n",
              "  <tbody>\n",
              "    <tr>\n",
              "      <th>0</th>\n",
              "      <td>Usage of HashSet and HashMap does not preserve...</td>\n",
              "      <td>sphinx-inbox</td>\n",
              "    </tr>\n",
              "    <tr>\n",
              "      <th>1</th>\n",
              "      <td>Add support for scheduling rules in the dynami...</td>\n",
              "      <td>sphinx-inbox</td>\n",
              "    </tr>\n",
              "    <tr>\n",
              "      <th>2</th>\n",
              "      <td>Class loading problem during dynamic workflow ...</td>\n",
              "      <td>sphinx-inbox</td>\n",
              "    </tr>\n",
              "    <tr>\n",
              "      <th>3</th>\n",
              "      <td>BasicTransactionalFormEditor addPages method i...</td>\n",
              "      <td>sphinx-inbox</td>\n",
              "    </tr>\n",
              "    <tr>\n",
              "      <th>4</th>\n",
              "      <td>Make Class loading in BasicWorkflowRunnerOpera...</td>\n",
              "      <td>sphinx-inbox</td>\n",
              "    </tr>\n",
              "    <tr>\n",
              "      <th>...</th>\n",
              "      <td>...</td>\n",
              "      <td>...</td>\n",
              "    </tr>\n",
              "    <tr>\n",
              "      <th>247992</th>\n",
              "      <td>Change action for Filters should be removed</td>\n",
              "      <td>kmunir</td>\n",
              "    </tr>\n",
              "    <tr>\n",
              "      <th>247993</th>\n",
              "      <td>RSE Project Filters show up as ViewFilterRSETe...</td>\n",
              "      <td>mober.at+eclipse</td>\n",
              "    </tr>\n",
              "    <tr>\n",
              "      <th>247994</th>\n",
              "      <td>typo on RSE Tutorials help page</td>\n",
              "      <td>mober.at+eclipse</td>\n",
              "    </tr>\n",
              "    <tr>\n",
              "      <th>247995</th>\n",
              "      <td>Need to update the year of copyright in Univer...</td>\n",
              "      <td>mober.at+eclipse</td>\n",
              "    </tr>\n",
              "    <tr>\n",
              "      <th>247996</th>\n",
              "      <td>TVT36TCT199 Mnemonics on TestConnection contex...</td>\n",
              "      <td>mober.at+eclipse</td>\n",
              "    </tr>\n",
              "  </tbody>\n",
              "</table>\n",
              "<p>247997 rows × 2 columns</p>\n",
              "</div>"
            ],
            "text/plain": [
              "                                                  Summary          Assignee\n",
              "0       Usage of HashSet and HashMap does not preserve...      sphinx-inbox\n",
              "1       Add support for scheduling rules in the dynami...      sphinx-inbox\n",
              "2       Class loading problem during dynamic workflow ...      sphinx-inbox\n",
              "3       BasicTransactionalFormEditor addPages method i...      sphinx-inbox\n",
              "4       Make Class loading in BasicWorkflowRunnerOpera...      sphinx-inbox\n",
              "...                                                   ...               ...\n",
              "247992        Change action for Filters should be removed            kmunir\n",
              "247993  RSE Project Filters show up as ViewFilterRSETe...  mober.at+eclipse\n",
              "247994                    typo on RSE Tutorials help page  mober.at+eclipse\n",
              "247995  Need to update the year of copyright in Univer...  mober.at+eclipse\n",
              "247996  TVT36TCT199 Mnemonics on TestConnection contex...  mober.at+eclipse\n",
              "\n",
              "[247997 rows x 2 columns]"
            ]
          },
          "execution_count": 13,
          "metadata": {},
          "output_type": "execute_result"
        }
      ],
      "source": [
        "# Display the DataFrame 'eclipse_data_set'\n",
        "# This will print the first and last 5 rows of the DataFrame along with the column names and index\n",
        "# Useful for a quick overview of the data after processing\n",
        "eclipse_data_set"
      ]
    },
    {
      "cell_type": "markdown",
      "metadata": {
        "id": "7T5NU_S_xGBT"
      },
      "source": [
        "**Nerge the 3 datasets into one dataset**"
      ]
    },
    {
      "cell_type": "code",
      "execution_count": 32,
      "metadata": {
        "id": "T8VbB2qzvlwl"
      },
      "outputs": [],
      "source": [
        "# Concatenate the DataFrames 'kaggle_data_set', 'eclipse_data_set', and 'mozilla_data_set' into a single DataFrame 'dataset'\n",
        "# 'pd.concat(...)' concatenates the specified DataFrames into one, ignoring existing indexes and resetting to a new index\n",
        "dataset = pd.concat([kaggle_data_set, eclipse_data_set, mozilla_data_set], ignore_index=True)"
      ]
    },
    {
      "cell_type": "code",
      "execution_count": 33,
      "metadata": {
        "colab": {
          "base_uri": "https://localhost:8080/"
        },
        "id": "aMp_B861vzFM",
        "outputId": "bbd3b95a-3bc0-4ff1-b763-7aadee173b09"
      },
      "outputs": [
        {
          "data": {
            "text/plain": [
              "(355335, 2)"
            ]
          },
          "execution_count": 33,
          "metadata": {},
          "output_type": "execute_result"
        }
      ],
      "source": [
        "# Print the shape of the DataFrame 'dataset'\n",
        "# 'shape' returns a tuple representing the dimensionality of the DataFrame\n",
        "# The first value is the number of rows, and the second value is the number of columns\n",
        "dataset.shape"
      ]
    },
    {
      "cell_type": "markdown",
      "metadata": {
        "id": "o8E8zbsCxJnX"
      },
      "source": [
        "**Check if there are duplicates**"
      ]
    },
    {
      "cell_type": "code",
      "execution_count": 34,
      "metadata": {
        "colab": {
          "base_uri": "https://localhost:8080/"
        },
        "id": "5UIwYK6Jv9kI",
        "outputId": "b21a855e-d0b3-4a6f-e129-2485abc0afe6"
      },
      "outputs": [
        {
          "data": {
            "text/plain": [
              "True"
            ]
          },
          "execution_count": 34,
          "metadata": {},
          "output_type": "execute_result"
        }
      ],
      "source": [
        "# Check if there are any duplicate rows in the DataFrame 'dataset'\n",
        "# 'duplicated()' returns a Series of boolean values indicating whether each row is a duplicate of a previous row\n",
        "# 'any()' returns True if any element in the Series is True (indicating the presence of duplicates), otherwise False\n",
        "# This is useful for determining if there are any duplicate rows in the DataFrame\n",
        "dataset.duplicated().any()"
      ]
    },
    {
      "cell_type": "markdown",
      "metadata": {
        "id": "4XNcmD_txNVX"
      },
      "source": [
        "**Drop duplicate rows**"
      ]
    },
    {
      "cell_type": "code",
      "execution_count": 35,
      "metadata": {
        "id": "9FYAJvR9wYWz"
      },
      "outputs": [],
      "source": [
        "# Remove duplicate rows from the DataFrame 'dataset'\n",
        "# 'dataset.drop_duplicates()' removes rows that are duplicates based on all columns\n",
        "dataset = dataset.drop_duplicates()"
      ]
    },
    {
      "cell_type": "code",
      "execution_count": 36,
      "metadata": {
        "colab": {
          "base_uri": "https://localhost:8080/"
        },
        "id": "oliBkACtwbja",
        "outputId": "f95d0536-abde-407a-b867-1586a3f11631"
      },
      "outputs": [
        {
          "data": {
            "text/plain": [
              "False"
            ]
          },
          "execution_count": 36,
          "metadata": {},
          "output_type": "execute_result"
        }
      ],
      "source": [
        "# Check if there are any duplicate rows in the DataFrame 'dataset'\n",
        "# 'duplicated()' returns a Series of boolean values indicating whether each row is a duplicate of a previous row\n",
        "# 'any()' returns True if any element in the Series is True (indicating the presence of duplicates), otherwise False\n",
        "# This is useful for determining if there are any duplicate rows in the DataFrame\n",
        "dataset.duplicated().any()"
      ]
    },
    {
      "cell_type": "code",
      "execution_count": 37,
      "metadata": {
        "colab": {
          "base_uri": "https://localhost:8080/"
        },
        "id": "C8TJW4MSwd7Y",
        "outputId": "a3c35410-c19c-4b28-a364-58801619cb04"
      },
      "outputs": [
        {
          "data": {
            "text/plain": [
              "(353694, 2)"
            ]
          },
          "execution_count": 37,
          "metadata": {},
          "output_type": "execute_result"
        }
      ],
      "source": [
        "# Print the shape of the DataFrame 'dataset'\n",
        "# 'shape' returns a tuple representing the dimensionality of the DataFrame\n",
        "# The first value is the number of rows, and the second value is the number of columns\n",
        "dataset.shape"
      ]
    },
    {
      "cell_type": "markdown",
      "metadata": {
        "id": "hpYFieVQxUr5"
      },
      "source": [
        "**Remove sources on noise**"
      ]
    },
    {
      "cell_type": "code",
      "execution_count": 38,
      "metadata": {
        "id": "gRV8_2UWxQsa"
      },
      "outputs": [],
      "source": [
        "def clean_text(text):\n",
        "    \"\"\"\n",
        "    Clean and preprocesses text data by removing hyperlinks, newlines, and special characters.\n",
        "\n",
        "    Parameters:\n",
        "    ----------\n",
        "    text : str\n",
        "        The input text to be cleaned.\n",
        "\n",
        "    Returns:\n",
        "    -------\n",
        "    str\n",
        "        Cleaned text with hyperlinks, newlines, and special characters removed.\n",
        "    \"\"\"\n",
        "    # Remove hyperlinks from the text using regular expressions\n",
        "    text = re.sub(r'http\\S+|www\\S+|https\\S+', '', text, flags=re.MULTILINE)\n",
        "\n",
        "    # Replace newline and carriage return characters with spaces\n",
        "    text = text.replace('\\n', ' ').replace('\\r', ' ')\n",
        "\n",
        "    # Remove special characters (keep only alphanumeric characters and spaces)\n",
        "    text = re.sub(r'[^A-Za-z0-9 ]+', '', text)\n",
        "\n",
        "    return text"
      ]
    },
    {
      "cell_type": "code",
      "execution_count": 39,
      "metadata": {
        "id": "ldSxTKVnxl_a"
      },
      "outputs": [],
      "source": [
        "# Apply the 'clean_text' function to preprocess the 'Summary' column in the DataFrame 'dataset'\n",
        "dataset['Summary'] = dataset['Summary'].apply(clean_text)"
      ]
    },
    {
      "cell_type": "markdown",
      "metadata": {
        "id": "sKjlr0t-yncT"
      },
      "source": [
        "**Show the number of nulls in each column**"
      ]
    },
    {
      "cell_type": "code",
      "execution_count": 40,
      "metadata": {
        "colab": {
          "base_uri": "https://localhost:8080/"
        },
        "id": "imgS8XvpyoSt",
        "outputId": "724acf95-739e-4982-b019-006ed5428327"
      },
      "outputs": [
        {
          "name": "stdout",
          "output_type": "stream",
          "text": [
            "Summary     0\n",
            "Assignee    0\n",
            "dtype: int64\n"
          ]
        }
      ],
      "source": [
        "# Print the number of null values in each column of the DataFrame 'dataset'\n",
        "print(dataset.isnull().sum())"
      ]
    },
    {
      "cell_type": "code",
      "execution_count": null,
      "metadata": {
        "colab": {
          "base_uri": "https://localhost:8080/",
          "height": 36
        },
        "id": "PdGpITTqys3J",
        "outputId": "255d54f3-204d-423f-fe36-b34d7264edac"
      },
      "outputs": [
        {
          "data": {
            "application/vnd.google.colaboratory.intrinsic+json": {
              "type": "string"
            },
            "text/plain": [
              "'\\nThere is no nulls\\n'"
            ]
          },
          "execution_count": 23,
          "metadata": {},
          "output_type": "execute_result"
        }
      ],
      "source": [
        "'''\n",
        "There is no nulls\n",
        "'''"
      ]
    },
    {
      "cell_type": "markdown",
      "metadata": {
        "id": "I-QrVotvx-WC"
      },
      "source": [
        "**Remove rows with fewer than 10 words in their 'Summary' column**"
      ]
    },
    {
      "cell_type": "code",
      "execution_count": 41,
      "metadata": {
        "id": "QMlJVgvUySWX"
      },
      "outputs": [],
      "source": [
        "def filter_by_word_count(df, min_word_count):\n",
        "    \"\"\"\n",
        "    Filter rows in a DataFrame based on the word count in the 'Summary' column.\n",
        "\n",
        "    Parameters:\n",
        "    -----------\n",
        "    df : pandas.DataFrame\n",
        "        The input DataFrame containing the 'Summary' column to filter.\n",
        "    min_word_count : int\n",
        "        The minimum number of words required in each 'Summary' to retain a row.\n",
        "\n",
        "    Returns:\n",
        "    --------\n",
        "    pandas.DataFrame\n",
        "        Filtered DataFrame containing rows where the 'Summary' meets the word count criteria.\n",
        "    \"\"\"\n",
        "    return df[df['Summary'].str.split().str.len() >= min_word_count]"
      ]
    },
    {
      "cell_type": "code",
      "execution_count": 44,
      "metadata": {
        "id": "_kaL5RLxzIIA"
      },
      "outputs": [],
      "source": [
        "# Define the minimum word count required in the 'Summary' column\n",
        "min_word_count = 10\n",
        "\n",
        "# Filter rows in the DataFrame 'dataset' where the 'Summary' has at least min_word_count words\n",
        "dataset = filter_by_word_count(dataset, min_word_count)"
      ]
    },
    {
      "cell_type": "code",
      "execution_count": 45,
      "metadata": {
        "colab": {
          "base_uri": "https://localhost:8080/"
        },
        "id": "aoeGrdJYzNA1",
        "outputId": "ed8cd657-2d7e-4689-cee0-8b5d445e3171"
      },
      "outputs": [
        {
          "data": {
            "text/plain": [
              "(119919, 2)"
            ]
          },
          "execution_count": 45,
          "metadata": {},
          "output_type": "execute_result"
        }
      ],
      "source": [
        "# Print the shape of the DataFrame 'dataset'\n",
        "# 'shape' returns a tuple representing the dimensionality of the DataFrame\n",
        "# The first value is the number of rows, and the second value is the number of columns\n",
        "dataset.shape"
      ]
    },
    {
      "cell_type": "markdown",
      "metadata": {
        "id": "OzrVlE8iz6dV"
      },
      "source": [
        "**Apply Tokenization on 'Summary' column**"
      ]
    },
    {
      "cell_type": "code",
      "execution_count": 46,
      "metadata": {},
      "outputs": [],
      "source": [
        "def tokenize_summary(text):\n",
        "    \"\"\"\n",
        "    Tokenize the input text into words using word_tokenize from nltk.\n",
        "\n",
        "    Parameters:\n",
        "    -----------\n",
        "    text : str\n",
        "        The input text to tokenize.\n",
        "\n",
        "    Returns:\n",
        "    --------\n",
        "    list\n",
        "        A list of tokens (words) extracted from the input text.\n",
        "    \"\"\"\n",
        "    # Tokenize the text into words, converting to lowercase\n",
        "    return word_tokenize(text.lower())"
      ]
    },
    {
      "cell_type": "code",
      "execution_count": 47,
      "metadata": {
        "id": "tNY7Yoia0G8V"
      },
      "outputs": [],
      "source": [
        "# Apply the 'tokenize_summary' function to tokenize the 'Summary' column in the DataFrame 'dataset'\n",
        "dataset['Summary_Tokens'] = dataset['Summary'].apply(tokenize_summary)"
      ]
    },
    {
      "cell_type": "code",
      "execution_count": 48,
      "metadata": {
        "colab": {
          "base_uri": "https://localhost:8080/",
          "height": 597
        },
        "id": "ApK9YByn0iG3",
        "outputId": "f2967283-30ea-4739-a6d7-8c51c3e80a72"
      },
      "outputs": [
        {
          "data": {
            "text/html": [
              "<div>\n",
              "<style scoped>\n",
              "    .dataframe tbody tr th:only-of-type {\n",
              "        vertical-align: middle;\n",
              "    }\n",
              "\n",
              "    .dataframe tbody tr th {\n",
              "        vertical-align: top;\n",
              "    }\n",
              "\n",
              "    .dataframe thead th {\n",
              "        text-align: right;\n",
              "    }\n",
              "</style>\n",
              "<table border=\"1\" class=\"dataframe\">\n",
              "  <thead>\n",
              "    <tr style=\"text-align: right;\">\n",
              "      <th></th>\n",
              "      <th>Summary</th>\n",
              "      <th>Assignee</th>\n",
              "      <th>Summary_Tokens</th>\n",
              "    </tr>\n",
              "  </thead>\n",
              "  <tbody>\n",
              "    <tr>\n",
              "      <th>0</th>\n",
              "      <td>Scrolling with some scroll mice touchpad etc s...</td>\n",
              "      <td>amit@chromium.org</td>\n",
              "      <td>[scrolling, with, some, scroll, mice, touchpad...</td>\n",
              "    </tr>\n",
              "    <tr>\n",
              "      <th>19</th>\n",
              "      <td>Add checks for items in the download panel in ...</td>\n",
              "      <td>achuith@chromium.org</td>\n",
              "      <td>[add, checks, for, items, in, the, download, p...</td>\n",
              "    </tr>\n",
              "    <tr>\n",
              "      <th>20</th>\n",
              "      <td>Useafterfree by navigating out a document duri...</td>\n",
              "      <td>tkent@chromium.org</td>\n",
              "      <td>[useafterfree, by, navigating, out, a, documen...</td>\n",
              "    </tr>\n",
              "    <tr>\n",
              "      <th>24</th>\n",
              "      <td>Cannot add an address properly in the  AutoFil...</td>\n",
              "      <td>sky@chromium.org</td>\n",
              "      <td>[can, not, add, an, address, properly, in, the...</td>\n",
              "    </tr>\n",
              "    <tr>\n",
              "      <th>25</th>\n",
              "      <td>libxmlgyp should define LIBXMLSTATIC for itsel...</td>\n",
              "      <td>wtc@chromium.org</td>\n",
              "      <td>[libxmlgyp, should, define, libxmlstatic, for,...</td>\n",
              "    </tr>\n",
              "    <tr>\n",
              "      <th>...</th>\n",
              "      <td>...</td>\n",
              "      <td>...</td>\n",
              "      <td>...</td>\n",
              "    </tr>\n",
              "    <tr>\n",
              "      <th>355322</th>\n",
              "      <td>Remove manual page load events from the Glean ...</td>\n",
              "      <td>brosa</td>\n",
              "      <td>[remove, manual, page, load, events, from, the...</td>\n",
              "    </tr>\n",
              "    <tr>\n",
              "      <th>355324</th>\n",
              "      <td>redirects to main AMO homepage instead of rev...</td>\n",
              "      <td>wezhou</td>\n",
              "      <td>[redirects, to, main, amo, homepage, instead, ...</td>\n",
              "    </tr>\n",
              "    <tr>\n",
              "      <th>355325</th>\n",
              "      <td>Add git shortref in deployment messages to clo...</td>\n",
              "      <td>sven</td>\n",
              "      <td>[add, git, shortref, in, deployment, messages,...</td>\n",
              "    </tr>\n",
              "    <tr>\n",
              "      <th>355328</th>\n",
              "      <td>sign testpilot and system addons for Fx 58 wit...</td>\n",
              "      <td>u581815</td>\n",
              "      <td>[sign, testpilot, and, system, addons, for, fx...</td>\n",
              "    </tr>\n",
              "    <tr>\n",
              "      <th>355329</th>\n",
              "      <td>verify PKCS7 signatures with an ECDSA intermed...</td>\n",
              "      <td>u581815</td>\n",
              "      <td>[verify, pkcs7, signatures, with, an, ecdsa, i...</td>\n",
              "    </tr>\n",
              "  </tbody>\n",
              "</table>\n",
              "<p>119919 rows × 3 columns</p>\n",
              "</div>"
            ],
            "text/plain": [
              "                                                  Summary  \\\n",
              "0       Scrolling with some scroll mice touchpad etc s...   \n",
              "19      Add checks for items in the download panel in ...   \n",
              "20      Useafterfree by navigating out a document duri...   \n",
              "24      Cannot add an address properly in the  AutoFil...   \n",
              "25      libxmlgyp should define LIBXMLSTATIC for itsel...   \n",
              "...                                                   ...   \n",
              "355322  Remove manual page load events from the Glean ...   \n",
              "355324   redirects to main AMO homepage instead of rev...   \n",
              "355325  Add git shortref in deployment messages to clo...   \n",
              "355328  sign testpilot and system addons for Fx 58 wit...   \n",
              "355329  verify PKCS7 signatures with an ECDSA intermed...   \n",
              "\n",
              "                    Assignee  \\\n",
              "0          amit@chromium.org   \n",
              "19      achuith@chromium.org   \n",
              "20        tkent@chromium.org   \n",
              "24          sky@chromium.org   \n",
              "25          wtc@chromium.org   \n",
              "...                      ...   \n",
              "355322                 brosa   \n",
              "355324                wezhou   \n",
              "355325                  sven   \n",
              "355328               u581815   \n",
              "355329               u581815   \n",
              "\n",
              "                                           Summary_Tokens  \n",
              "0       [scrolling, with, some, scroll, mice, touchpad...  \n",
              "19      [add, checks, for, items, in, the, download, p...  \n",
              "20      [useafterfree, by, navigating, out, a, documen...  \n",
              "24      [can, not, add, an, address, properly, in, the...  \n",
              "25      [libxmlgyp, should, define, libxmlstatic, for,...  \n",
              "...                                                   ...  \n",
              "355322  [remove, manual, page, load, events, from, the...  \n",
              "355324  [redirects, to, main, amo, homepage, instead, ...  \n",
              "355325  [add, git, shortref, in, deployment, messages,...  \n",
              "355328  [sign, testpilot, and, system, addons, for, fx...  \n",
              "355329  [verify, pkcs7, signatures, with, an, ecdsa, i...  \n",
              "\n",
              "[119919 rows x 3 columns]"
            ]
          },
          "execution_count": 48,
          "metadata": {},
          "output_type": "execute_result"
        }
      ],
      "source": [
        "# Display the DataFrame 'dataset'\n",
        "# This will print the first and last 5 rows of the DataFrame along with the column names and index\n",
        "# Useful for a quick overview of the data after processing\n",
        "dataset"
      ]
    },
    {
      "cell_type": "markdown",
      "metadata": {
        "id": "mIHxhX0b0eSD"
      },
      "source": [
        "**Remove stop words**"
      ]
    },
    {
      "cell_type": "code",
      "execution_count": 49,
      "metadata": {
        "id": "hcJ0VqSv0oJL"
      },
      "outputs": [],
      "source": [
        "# Initialize a set of stop words using NLTK's stopwords for the English language\n",
        "stop_words = set(stopwords.words('english'))"
      ]
    },
    {
      "cell_type": "code",
      "execution_count": 50,
      "metadata": {
        "id": "0HwHmpxd1eOl"
      },
      "outputs": [],
      "source": [
        "def remove_stopwords(tokens):\n",
        "    \"\"\"\n",
        "    Remove stopwords and punctuation from a list of tokens.\n",
        "\n",
        "    Parameters:\n",
        "    -----------\n",
        "    tokens : list\n",
        "        A list of tokens (words) from which stopwords and punctuation will be removed.\n",
        "\n",
        "    Returns:\n",
        "    --------\n",
        "    list\n",
        "        A list of tokens with stopwords and punctuation removed.\n",
        "    \"\"\"\n",
        "    # List comprehension to filter out stopwords and punctuation\n",
        "    return [word for word in tokens if word not in stop_words and word not in string.punctuation]"
      ]
    },
    {
      "cell_type": "code",
      "execution_count": 51,
      "metadata": {
        "id": "dWG3fr9W1hfH"
      },
      "outputs": [],
      "source": [
        "# Apply the 'remove_stopwords' function to remove stopwords and punctuation from the 'Summary_Tokens' column\n",
        "dataset['Summary_Cleaned'] = dataset['Summary_Tokens'].apply(remove_stopwords)"
      ]
    },
    {
      "cell_type": "code",
      "execution_count": 52,
      "metadata": {
        "colab": {
          "base_uri": "https://localhost:8080/",
          "height": 823
        },
        "id": "ngeAmdfD1zFS",
        "outputId": "2e2072d5-7c1b-47ed-e8a8-fc30574f508f"
      },
      "outputs": [
        {
          "data": {
            "text/html": [
              "<div>\n",
              "<style scoped>\n",
              "    .dataframe tbody tr th:only-of-type {\n",
              "        vertical-align: middle;\n",
              "    }\n",
              "\n",
              "    .dataframe tbody tr th {\n",
              "        vertical-align: top;\n",
              "    }\n",
              "\n",
              "    .dataframe thead th {\n",
              "        text-align: right;\n",
              "    }\n",
              "</style>\n",
              "<table border=\"1\" class=\"dataframe\">\n",
              "  <thead>\n",
              "    <tr style=\"text-align: right;\">\n",
              "      <th></th>\n",
              "      <th>Summary</th>\n",
              "      <th>Assignee</th>\n",
              "      <th>Summary_Tokens</th>\n",
              "      <th>Summary_Cleaned</th>\n",
              "    </tr>\n",
              "  </thead>\n",
              "  <tbody>\n",
              "    <tr>\n",
              "      <th>0</th>\n",
              "      <td>Scrolling with some scroll mice touchpad etc s...</td>\n",
              "      <td>amit@chromium.org</td>\n",
              "      <td>[scrolling, with, some, scroll, mice, touchpad...</td>\n",
              "      <td>[scrolling, scroll, mice, touchpad, etc, scrolls]</td>\n",
              "    </tr>\n",
              "    <tr>\n",
              "      <th>19</th>\n",
              "      <td>Add checks for items in the download panel in ...</td>\n",
              "      <td>achuith@chromium.org</td>\n",
              "      <td>[add, checks, for, items, in, the, download, p...</td>\n",
              "      <td>[add, checks, items, download, panel, browser,...</td>\n",
              "    </tr>\n",
              "    <tr>\n",
              "      <th>20</th>\n",
              "      <td>Useafterfree by navigating out a document duri...</td>\n",
              "      <td>tkent@chromium.org</td>\n",
              "      <td>[useafterfree, by, navigating, out, a, documen...</td>\n",
              "      <td>[useafterfree, navigating, document, form, val...</td>\n",
              "    </tr>\n",
              "    <tr>\n",
              "      <th>24</th>\n",
              "      <td>Cannot add an address properly in the  AutoFil...</td>\n",
              "      <td>sky@chromium.org</td>\n",
              "      <td>[can, not, add, an, address, properly, in, the...</td>\n",
              "      <td>[add, address, properly, autofill, options, di...</td>\n",
              "    </tr>\n",
              "    <tr>\n",
              "      <th>25</th>\n",
              "      <td>libxmlgyp should define LIBXMLSTATIC for itsel...</td>\n",
              "      <td>wtc@chromium.org</td>\n",
              "      <td>[libxmlgyp, should, define, libxmlstatic, for,...</td>\n",
              "      <td>[libxmlgyp, define, libxmlstatic, direct, depe...</td>\n",
              "    </tr>\n",
              "    <tr>\n",
              "      <th>...</th>\n",
              "      <td>...</td>\n",
              "      <td>...</td>\n",
              "      <td>...</td>\n",
              "      <td>...</td>\n",
              "    </tr>\n",
              "    <tr>\n",
              "      <th>355322</th>\n",
              "      <td>Remove manual page load events from the Glean ...</td>\n",
              "      <td>brosa</td>\n",
              "      <td>[remove, manual, page, load, events, from, the...</td>\n",
              "      <td>[remove, manual, page, load, events, glean, de...</td>\n",
              "    </tr>\n",
              "    <tr>\n",
              "      <th>355324</th>\n",
              "      <td>redirects to main AMO homepage instead of rev...</td>\n",
              "      <td>wezhou</td>\n",
              "      <td>[redirects, to, main, amo, homepage, instead, ...</td>\n",
              "      <td>[redirects, main, amo, homepage, instead, revi...</td>\n",
              "    </tr>\n",
              "    <tr>\n",
              "      <th>355325</th>\n",
              "      <td>Add git shortref in deployment messages to clo...</td>\n",
              "      <td>sven</td>\n",
              "      <td>[add, git, shortref, in, deployment, messages,...</td>\n",
              "      <td>[add, git, shortref, deployment, messages, clo...</td>\n",
              "    </tr>\n",
              "    <tr>\n",
              "      <th>355328</th>\n",
              "      <td>sign testpilot and system addons for Fx 58 wit...</td>\n",
              "      <td>u581815</td>\n",
              "      <td>[sign, testpilot, and, system, addons, for, fx...</td>\n",
              "      <td>[sign, testpilot, system, addons, fx, 58, pkcs...</td>\n",
              "    </tr>\n",
              "    <tr>\n",
              "      <th>355329</th>\n",
              "      <td>verify PKCS7 signatures with an ECDSA intermed...</td>\n",
              "      <td>u581815</td>\n",
              "      <td>[verify, pkcs7, signatures, with, an, ecdsa, i...</td>\n",
              "      <td>[verify, pkcs7, signatures, ecdsa, intermediat...</td>\n",
              "    </tr>\n",
              "  </tbody>\n",
              "</table>\n",
              "<p>119919 rows × 4 columns</p>\n",
              "</div>"
            ],
            "text/plain": [
              "                                                  Summary  \\\n",
              "0       Scrolling with some scroll mice touchpad etc s...   \n",
              "19      Add checks for items in the download panel in ...   \n",
              "20      Useafterfree by navigating out a document duri...   \n",
              "24      Cannot add an address properly in the  AutoFil...   \n",
              "25      libxmlgyp should define LIBXMLSTATIC for itsel...   \n",
              "...                                                   ...   \n",
              "355322  Remove manual page load events from the Glean ...   \n",
              "355324   redirects to main AMO homepage instead of rev...   \n",
              "355325  Add git shortref in deployment messages to clo...   \n",
              "355328  sign testpilot and system addons for Fx 58 wit...   \n",
              "355329  verify PKCS7 signatures with an ECDSA intermed...   \n",
              "\n",
              "                    Assignee  \\\n",
              "0          amit@chromium.org   \n",
              "19      achuith@chromium.org   \n",
              "20        tkent@chromium.org   \n",
              "24          sky@chromium.org   \n",
              "25          wtc@chromium.org   \n",
              "...                      ...   \n",
              "355322                 brosa   \n",
              "355324                wezhou   \n",
              "355325                  sven   \n",
              "355328               u581815   \n",
              "355329               u581815   \n",
              "\n",
              "                                           Summary_Tokens  \\\n",
              "0       [scrolling, with, some, scroll, mice, touchpad...   \n",
              "19      [add, checks, for, items, in, the, download, p...   \n",
              "20      [useafterfree, by, navigating, out, a, documen...   \n",
              "24      [can, not, add, an, address, properly, in, the...   \n",
              "25      [libxmlgyp, should, define, libxmlstatic, for,...   \n",
              "...                                                   ...   \n",
              "355322  [remove, manual, page, load, events, from, the...   \n",
              "355324  [redirects, to, main, amo, homepage, instead, ...   \n",
              "355325  [add, git, shortref, in, deployment, messages,...   \n",
              "355328  [sign, testpilot, and, system, addons, for, fx...   \n",
              "355329  [verify, pkcs7, signatures, with, an, ecdsa, i...   \n",
              "\n",
              "                                          Summary_Cleaned  \n",
              "0       [scrolling, scroll, mice, touchpad, etc, scrolls]  \n",
              "19      [add, checks, items, download, panel, browser,...  \n",
              "20      [useafterfree, navigating, document, form, val...  \n",
              "24      [add, address, properly, autofill, options, di...  \n",
              "25      [libxmlgyp, define, libxmlstatic, direct, depe...  \n",
              "...                                                   ...  \n",
              "355322  [remove, manual, page, load, events, glean, de...  \n",
              "355324  [redirects, main, amo, homepage, instead, revi...  \n",
              "355325  [add, git, shortref, deployment, messages, clo...  \n",
              "355328  [sign, testpilot, system, addons, fx, 58, pkcs...  \n",
              "355329  [verify, pkcs7, signatures, ecdsa, intermediat...  \n",
              "\n",
              "[119919 rows x 4 columns]"
            ]
          },
          "execution_count": 52,
          "metadata": {},
          "output_type": "execute_result"
        }
      ],
      "source": [
        "# Display the DataFrame 'dataset'\n",
        "# This will print the first and last 5 rows of the DataFrame along with the column names and index\n",
        "# Useful for a quick overview of the data after processing\n",
        "dataset"
      ]
    },
    {
      "cell_type": "markdown",
      "metadata": {
        "id": "Y3Q3nCNM2GRx"
      },
      "source": [
        "**Apply stemming**"
      ]
    },
    {
      "cell_type": "code",
      "execution_count": 53,
      "metadata": {
        "id": "QrckrTh32CUr"
      },
      "outputs": [],
      "source": [
        "def stem_tokens(tokens):\n",
        "    \"\"\"\n",
        "    Apply stemming to a list of tokens.\n",
        "\n",
        "    Parameters:\n",
        "    -----------\n",
        "    tokens : list\n",
        "        A list of tokens (words) to be stemmed.\n",
        "\n",
        "    Returns:\n",
        "    --------\n",
        "    list\n",
        "        A list of stemmed tokens.\n",
        "    \"\"\"\n",
        "    # Apply stemming using the Porter Stemmer\n",
        "    return [stemmer.stem(word) for word in tokens]"
      ]
    },
    {
      "cell_type": "code",
      "execution_count": 54,
      "metadata": {
        "id": "Z-prXfq62MDc"
      },
      "outputs": [],
      "source": [
        "# Apply the 'stem_tokens' function to stem the tokens in the 'Summary_Cleaned' column\n",
        "dataset['Summary_Stemmed'] = dataset['Summary_Cleaned'].apply(stem_tokens)"
      ]
    },
    {
      "cell_type": "code",
      "execution_count": 55,
      "metadata": {
        "colab": {
          "base_uri": "https://localhost:8080/",
          "height": 1000
        },
        "id": "BF1SnP1x2ObB",
        "outputId": "9d73bf68-5bb0-4782-9542-5fc3bbd3969f"
      },
      "outputs": [
        {
          "data": {
            "text/html": [
              "<div>\n",
              "<style scoped>\n",
              "    .dataframe tbody tr th:only-of-type {\n",
              "        vertical-align: middle;\n",
              "    }\n",
              "\n",
              "    .dataframe tbody tr th {\n",
              "        vertical-align: top;\n",
              "    }\n",
              "\n",
              "    .dataframe thead th {\n",
              "        text-align: right;\n",
              "    }\n",
              "</style>\n",
              "<table border=\"1\" class=\"dataframe\">\n",
              "  <thead>\n",
              "    <tr style=\"text-align: right;\">\n",
              "      <th></th>\n",
              "      <th>Summary</th>\n",
              "      <th>Assignee</th>\n",
              "      <th>Summary_Tokens</th>\n",
              "      <th>Summary_Cleaned</th>\n",
              "      <th>Summary_Stemmed</th>\n",
              "    </tr>\n",
              "  </thead>\n",
              "  <tbody>\n",
              "    <tr>\n",
              "      <th>0</th>\n",
              "      <td>Scrolling with some scroll mice touchpad etc s...</td>\n",
              "      <td>amit@chromium.org</td>\n",
              "      <td>[scrolling, with, some, scroll, mice, touchpad...</td>\n",
              "      <td>[scrolling, scroll, mice, touchpad, etc, scrolls]</td>\n",
              "      <td>[scroll, scroll, mice, touchpad, etc, scroll]</td>\n",
              "    </tr>\n",
              "    <tr>\n",
              "      <th>19</th>\n",
              "      <td>Add checks for items in the download panel in ...</td>\n",
              "      <td>achuith@chromium.org</td>\n",
              "      <td>[add, checks, for, items, in, the, download, p...</td>\n",
              "      <td>[add, checks, items, download, panel, browser,...</td>\n",
              "      <td>[add, check, item, download, panel, browser, t...</td>\n",
              "    </tr>\n",
              "    <tr>\n",
              "      <th>20</th>\n",
              "      <td>Useafterfree by navigating out a document duri...</td>\n",
              "      <td>tkent@chromium.org</td>\n",
              "      <td>[useafterfree, by, navigating, out, a, documen...</td>\n",
              "      <td>[useafterfree, navigating, document, form, val...</td>\n",
              "      <td>[useafterfre, navig, document, form, valid, me...</td>\n",
              "    </tr>\n",
              "    <tr>\n",
              "      <th>24</th>\n",
              "      <td>Cannot add an address properly in the  AutoFil...</td>\n",
              "      <td>sky@chromium.org</td>\n",
              "      <td>[can, not, add, an, address, properly, in, the...</td>\n",
              "      <td>[add, address, properly, autofill, options, di...</td>\n",
              "      <td>[add, address, properli, autofil, option, dial...</td>\n",
              "    </tr>\n",
              "    <tr>\n",
              "      <th>25</th>\n",
              "      <td>libxmlgyp should define LIBXMLSTATIC for itsel...</td>\n",
              "      <td>wtc@chromium.org</td>\n",
              "      <td>[libxmlgyp, should, define, libxmlstatic, for,...</td>\n",
              "      <td>[libxmlgyp, define, libxmlstatic, direct, depe...</td>\n",
              "      <td>[libxmlgyp, defin, libxmlstat, direct, depend]</td>\n",
              "    </tr>\n",
              "    <tr>\n",
              "      <th>...</th>\n",
              "      <td>...</td>\n",
              "      <td>...</td>\n",
              "      <td>...</td>\n",
              "      <td>...</td>\n",
              "      <td>...</td>\n",
              "    </tr>\n",
              "    <tr>\n",
              "      <th>355322</th>\n",
              "      <td>Remove manual page load events from the Glean ...</td>\n",
              "      <td>brosa</td>\n",
              "      <td>[remove, manual, page, load, events, from, the...</td>\n",
              "      <td>[remove, manual, page, load, events, glean, de...</td>\n",
              "      <td>[remov, manual, page, load, event, glean, debu...</td>\n",
              "    </tr>\n",
              "    <tr>\n",
              "      <th>355324</th>\n",
              "      <td>redirects to main AMO homepage instead of rev...</td>\n",
              "      <td>wezhou</td>\n",
              "      <td>[redirects, to, main, amo, homepage, instead, ...</td>\n",
              "      <td>[redirects, main, amo, homepage, instead, revi...</td>\n",
              "      <td>[redirect, main, amo, homepag, instead, review...</td>\n",
              "    </tr>\n",
              "    <tr>\n",
              "      <th>355325</th>\n",
              "      <td>Add git shortref in deployment messages to clo...</td>\n",
              "      <td>sven</td>\n",
              "      <td>[add, git, shortref, in, deployment, messages,...</td>\n",
              "      <td>[add, git, shortref, deployment, messages, clo...</td>\n",
              "      <td>[add, git, shortref, deploy, messag, cloudop, ...</td>\n",
              "    </tr>\n",
              "    <tr>\n",
              "      <th>355328</th>\n",
              "      <td>sign testpilot and system addons for Fx 58 wit...</td>\n",
              "      <td>u581815</td>\n",
              "      <td>[sign, testpilot, and, system, addons, for, fx...</td>\n",
              "      <td>[sign, testpilot, system, addons, fx, 58, pkcs...</td>\n",
              "      <td>[sign, testpilot, system, addon, fx, 58, pkcs7...</td>\n",
              "    </tr>\n",
              "    <tr>\n",
              "      <th>355329</th>\n",
              "      <td>verify PKCS7 signatures with an ECDSA intermed...</td>\n",
              "      <td>u581815</td>\n",
              "      <td>[verify, pkcs7, signatures, with, an, ecdsa, i...</td>\n",
              "      <td>[verify, pkcs7, signatures, ecdsa, intermediat...</td>\n",
              "      <td>[verifi, pkcs7, signatur, ecdsa, intermedi, wo...</td>\n",
              "    </tr>\n",
              "  </tbody>\n",
              "</table>\n",
              "<p>119919 rows × 5 columns</p>\n",
              "</div>"
            ],
            "text/plain": [
              "                                                  Summary  \\\n",
              "0       Scrolling with some scroll mice touchpad etc s...   \n",
              "19      Add checks for items in the download panel in ...   \n",
              "20      Useafterfree by navigating out a document duri...   \n",
              "24      Cannot add an address properly in the  AutoFil...   \n",
              "25      libxmlgyp should define LIBXMLSTATIC for itsel...   \n",
              "...                                                   ...   \n",
              "355322  Remove manual page load events from the Glean ...   \n",
              "355324   redirects to main AMO homepage instead of rev...   \n",
              "355325  Add git shortref in deployment messages to clo...   \n",
              "355328  sign testpilot and system addons for Fx 58 wit...   \n",
              "355329  verify PKCS7 signatures with an ECDSA intermed...   \n",
              "\n",
              "                    Assignee  \\\n",
              "0          amit@chromium.org   \n",
              "19      achuith@chromium.org   \n",
              "20        tkent@chromium.org   \n",
              "24          sky@chromium.org   \n",
              "25          wtc@chromium.org   \n",
              "...                      ...   \n",
              "355322                 brosa   \n",
              "355324                wezhou   \n",
              "355325                  sven   \n",
              "355328               u581815   \n",
              "355329               u581815   \n",
              "\n",
              "                                           Summary_Tokens  \\\n",
              "0       [scrolling, with, some, scroll, mice, touchpad...   \n",
              "19      [add, checks, for, items, in, the, download, p...   \n",
              "20      [useafterfree, by, navigating, out, a, documen...   \n",
              "24      [can, not, add, an, address, properly, in, the...   \n",
              "25      [libxmlgyp, should, define, libxmlstatic, for,...   \n",
              "...                                                   ...   \n",
              "355322  [remove, manual, page, load, events, from, the...   \n",
              "355324  [redirects, to, main, amo, homepage, instead, ...   \n",
              "355325  [add, git, shortref, in, deployment, messages,...   \n",
              "355328  [sign, testpilot, and, system, addons, for, fx...   \n",
              "355329  [verify, pkcs7, signatures, with, an, ecdsa, i...   \n",
              "\n",
              "                                          Summary_Cleaned  \\\n",
              "0       [scrolling, scroll, mice, touchpad, etc, scrolls]   \n",
              "19      [add, checks, items, download, panel, browser,...   \n",
              "20      [useafterfree, navigating, document, form, val...   \n",
              "24      [add, address, properly, autofill, options, di...   \n",
              "25      [libxmlgyp, define, libxmlstatic, direct, depe...   \n",
              "...                                                   ...   \n",
              "355322  [remove, manual, page, load, events, glean, de...   \n",
              "355324  [redirects, main, amo, homepage, instead, revi...   \n",
              "355325  [add, git, shortref, deployment, messages, clo...   \n",
              "355328  [sign, testpilot, system, addons, fx, 58, pkcs...   \n",
              "355329  [verify, pkcs7, signatures, ecdsa, intermediat...   \n",
              "\n",
              "                                          Summary_Stemmed  \n",
              "0           [scroll, scroll, mice, touchpad, etc, scroll]  \n",
              "19      [add, check, item, download, panel, browser, t...  \n",
              "20      [useafterfre, navig, document, form, valid, me...  \n",
              "24      [add, address, properli, autofil, option, dial...  \n",
              "25         [libxmlgyp, defin, libxmlstat, direct, depend]  \n",
              "...                                                   ...  \n",
              "355322  [remov, manual, page, load, event, glean, debu...  \n",
              "355324  [redirect, main, amo, homepag, instead, review...  \n",
              "355325  [add, git, shortref, deploy, messag, cloudop, ...  \n",
              "355328  [sign, testpilot, system, addon, fx, 58, pkcs7...  \n",
              "355329  [verifi, pkcs7, signatur, ecdsa, intermedi, wo...  \n",
              "\n",
              "[119919 rows x 5 columns]"
            ]
          },
          "execution_count": 55,
          "metadata": {},
          "output_type": "execute_result"
        }
      ],
      "source": [
        "# Display the DataFrame 'dataset'\n",
        "# This will print the first and last 5 rows of the DataFrame along with the column names and index\n",
        "# Useful for a quick overview of the data after processing\n",
        "dataset"
      ]
    },
    {
      "cell_type": "markdown",
      "metadata": {},
      "source": [
        "**join tokens into a single string**"
      ]
    },
    {
      "cell_type": "code",
      "execution_count": 56,
      "metadata": {},
      "outputs": [],
      "source": [
        "def join_tokens(tokens):\n",
        "    \"\"\"\n",
        "    Join a list of tokens into a single string.\n",
        "\n",
        "    Parameters:\n",
        "    -----------\n",
        "    tokens : list\n",
        "        A list of tokens (words) to be joined into a string.\n",
        "\n",
        "    Returns:\n",
        "    --------\n",
        "    str\n",
        "        A single string where tokens are joined by a space.\n",
        "    \"\"\"\n",
        "    # Join tokens into a single string separated by a space\n",
        "    return ' '.join(tokens)"
      ]
    },
    {
      "cell_type": "code",
      "execution_count": 57,
      "metadata": {},
      "outputs": [],
      "source": [
        "# Apply the 'join_tokens' function to join the tokens in the 'Summary_Stemmed' column into a single string\n",
        "dataset['processed_summary'] = dataset['Summary_Stemmed'].apply(join_tokens)"
      ]
    },
    {
      "cell_type": "code",
      "execution_count": 58,
      "metadata": {},
      "outputs": [
        {
          "data": {
            "text/html": [
              "<div>\n",
              "<style scoped>\n",
              "    .dataframe tbody tr th:only-of-type {\n",
              "        vertical-align: middle;\n",
              "    }\n",
              "\n",
              "    .dataframe tbody tr th {\n",
              "        vertical-align: top;\n",
              "    }\n",
              "\n",
              "    .dataframe thead th {\n",
              "        text-align: right;\n",
              "    }\n",
              "</style>\n",
              "<table border=\"1\" class=\"dataframe\">\n",
              "  <thead>\n",
              "    <tr style=\"text-align: right;\">\n",
              "      <th></th>\n",
              "      <th>Summary</th>\n",
              "      <th>Assignee</th>\n",
              "      <th>Summary_Tokens</th>\n",
              "      <th>Summary_Cleaned</th>\n",
              "      <th>Summary_Stemmed</th>\n",
              "      <th>processed_summary</th>\n",
              "    </tr>\n",
              "  </thead>\n",
              "  <tbody>\n",
              "    <tr>\n",
              "      <th>0</th>\n",
              "      <td>Scrolling with some scroll mice touchpad etc s...</td>\n",
              "      <td>amit@chromium.org</td>\n",
              "      <td>[scrolling, with, some, scroll, mice, touchpad...</td>\n",
              "      <td>[scrolling, scroll, mice, touchpad, etc, scrolls]</td>\n",
              "      <td>[scroll, scroll, mice, touchpad, etc, scroll]</td>\n",
              "      <td>scroll scroll mice touchpad etc scroll</td>\n",
              "    </tr>\n",
              "    <tr>\n",
              "      <th>19</th>\n",
              "      <td>Add checks for items in the download panel in ...</td>\n",
              "      <td>achuith@chromium.org</td>\n",
              "      <td>[add, checks, for, items, in, the, download, p...</td>\n",
              "      <td>[add, checks, items, download, panel, browser,...</td>\n",
              "      <td>[add, check, item, download, panel, browser, t...</td>\n",
              "      <td>add check item download panel browser test</td>\n",
              "    </tr>\n",
              "    <tr>\n",
              "      <th>20</th>\n",
              "      <td>Useafterfree by navigating out a document duri...</td>\n",
              "      <td>tkent@chromium.org</td>\n",
              "      <td>[useafterfree, by, navigating, out, a, documen...</td>\n",
              "      <td>[useafterfree, navigating, document, form, val...</td>\n",
              "      <td>[useafterfre, navig, document, form, valid, me...</td>\n",
              "      <td>useafterfre navig document form valid messag s...</td>\n",
              "    </tr>\n",
              "    <tr>\n",
              "      <th>24</th>\n",
              "      <td>Cannot add an address properly in the  AutoFil...</td>\n",
              "      <td>sky@chromium.org</td>\n",
              "      <td>[can, not, add, an, address, properly, in, the...</td>\n",
              "      <td>[add, address, properly, autofill, options, di...</td>\n",
              "      <td>[add, address, properli, autofil, option, dial...</td>\n",
              "      <td>add address properli autofil option dialog box</td>\n",
              "    </tr>\n",
              "    <tr>\n",
              "      <th>25</th>\n",
              "      <td>libxmlgyp should define LIBXMLSTATIC for itsel...</td>\n",
              "      <td>wtc@chromium.org</td>\n",
              "      <td>[libxmlgyp, should, define, libxmlstatic, for,...</td>\n",
              "      <td>[libxmlgyp, define, libxmlstatic, direct, depe...</td>\n",
              "      <td>[libxmlgyp, defin, libxmlstat, direct, depend]</td>\n",
              "      <td>libxmlgyp defin libxmlstat direct depend</td>\n",
              "    </tr>\n",
              "    <tr>\n",
              "      <th>...</th>\n",
              "      <td>...</td>\n",
              "      <td>...</td>\n",
              "      <td>...</td>\n",
              "      <td>...</td>\n",
              "      <td>...</td>\n",
              "      <td>...</td>\n",
              "    </tr>\n",
              "    <tr>\n",
              "      <th>355322</th>\n",
              "      <td>Remove manual page load events from the Glean ...</td>\n",
              "      <td>brosa</td>\n",
              "      <td>[remove, manual, page, load, events, from, the...</td>\n",
              "      <td>[remove, manual, page, load, events, glean, de...</td>\n",
              "      <td>[remov, manual, page, load, event, glean, debu...</td>\n",
              "      <td>remov manual page load event glean debug ping ...</td>\n",
              "    </tr>\n",
              "    <tr>\n",
              "      <th>355324</th>\n",
              "      <td>redirects to main AMO homepage instead of rev...</td>\n",
              "      <td>wezhou</td>\n",
              "      <td>[redirects, to, main, amo, homepage, instead, ...</td>\n",
              "      <td>[redirects, main, amo, homepage, instead, revi...</td>\n",
              "      <td>[redirect, main, amo, homepag, instead, review...</td>\n",
              "      <td>redirect main amo homepag instead review tool ...</td>\n",
              "    </tr>\n",
              "    <tr>\n",
              "      <th>355325</th>\n",
              "      <td>Add git shortref in deployment messages to clo...</td>\n",
              "      <td>sven</td>\n",
              "      <td>[add, git, shortref, in, deployment, messages,...</td>\n",
              "      <td>[add, git, shortref, deployment, messages, clo...</td>\n",
              "      <td>[add, git, shortref, deploy, messag, cloudop, ...</td>\n",
              "      <td>add git shortref deploy messag cloudop slack bot</td>\n",
              "    </tr>\n",
              "    <tr>\n",
              "      <th>355328</th>\n",
              "      <td>sign testpilot and system addons for Fx 58 wit...</td>\n",
              "      <td>u581815</td>\n",
              "      <td>[sign, testpilot, and, system, addons, for, fx...</td>\n",
              "      <td>[sign, testpilot, system, addons, fx, 58, pkcs...</td>\n",
              "      <td>[sign, testpilot, system, addon, fx, 58, pkcs7...</td>\n",
              "      <td>sign testpilot system addon fx 58 pkcs7 sha256...</td>\n",
              "    </tr>\n",
              "    <tr>\n",
              "      <th>355329</th>\n",
              "      <td>verify PKCS7 signatures with an ECDSA intermed...</td>\n",
              "      <td>u581815</td>\n",
              "      <td>[verify, pkcs7, signatures, with, an, ecdsa, i...</td>\n",
              "      <td>[verify, pkcs7, signatures, ecdsa, intermediat...</td>\n",
              "      <td>[verifi, pkcs7, signatur, ecdsa, intermedi, wo...</td>\n",
              "      <td>verifi pkcs7 signatur ecdsa intermedi work fx</td>\n",
              "    </tr>\n",
              "  </tbody>\n",
              "</table>\n",
              "<p>119919 rows × 6 columns</p>\n",
              "</div>"
            ],
            "text/plain": [
              "                                                  Summary  \\\n",
              "0       Scrolling with some scroll mice touchpad etc s...   \n",
              "19      Add checks for items in the download panel in ...   \n",
              "20      Useafterfree by navigating out a document duri...   \n",
              "24      Cannot add an address properly in the  AutoFil...   \n",
              "25      libxmlgyp should define LIBXMLSTATIC for itsel...   \n",
              "...                                                   ...   \n",
              "355322  Remove manual page load events from the Glean ...   \n",
              "355324   redirects to main AMO homepage instead of rev...   \n",
              "355325  Add git shortref in deployment messages to clo...   \n",
              "355328  sign testpilot and system addons for Fx 58 wit...   \n",
              "355329  verify PKCS7 signatures with an ECDSA intermed...   \n",
              "\n",
              "                    Assignee  \\\n",
              "0          amit@chromium.org   \n",
              "19      achuith@chromium.org   \n",
              "20        tkent@chromium.org   \n",
              "24          sky@chromium.org   \n",
              "25          wtc@chromium.org   \n",
              "...                      ...   \n",
              "355322                 brosa   \n",
              "355324                wezhou   \n",
              "355325                  sven   \n",
              "355328               u581815   \n",
              "355329               u581815   \n",
              "\n",
              "                                           Summary_Tokens  \\\n",
              "0       [scrolling, with, some, scroll, mice, touchpad...   \n",
              "19      [add, checks, for, items, in, the, download, p...   \n",
              "20      [useafterfree, by, navigating, out, a, documen...   \n",
              "24      [can, not, add, an, address, properly, in, the...   \n",
              "25      [libxmlgyp, should, define, libxmlstatic, for,...   \n",
              "...                                                   ...   \n",
              "355322  [remove, manual, page, load, events, from, the...   \n",
              "355324  [redirects, to, main, amo, homepage, instead, ...   \n",
              "355325  [add, git, shortref, in, deployment, messages,...   \n",
              "355328  [sign, testpilot, and, system, addons, for, fx...   \n",
              "355329  [verify, pkcs7, signatures, with, an, ecdsa, i...   \n",
              "\n",
              "                                          Summary_Cleaned  \\\n",
              "0       [scrolling, scroll, mice, touchpad, etc, scrolls]   \n",
              "19      [add, checks, items, download, panel, browser,...   \n",
              "20      [useafterfree, navigating, document, form, val...   \n",
              "24      [add, address, properly, autofill, options, di...   \n",
              "25      [libxmlgyp, define, libxmlstatic, direct, depe...   \n",
              "...                                                   ...   \n",
              "355322  [remove, manual, page, load, events, glean, de...   \n",
              "355324  [redirects, main, amo, homepage, instead, revi...   \n",
              "355325  [add, git, shortref, deployment, messages, clo...   \n",
              "355328  [sign, testpilot, system, addons, fx, 58, pkcs...   \n",
              "355329  [verify, pkcs7, signatures, ecdsa, intermediat...   \n",
              "\n",
              "                                          Summary_Stemmed  \\\n",
              "0           [scroll, scroll, mice, touchpad, etc, scroll]   \n",
              "19      [add, check, item, download, panel, browser, t...   \n",
              "20      [useafterfre, navig, document, form, valid, me...   \n",
              "24      [add, address, properli, autofil, option, dial...   \n",
              "25         [libxmlgyp, defin, libxmlstat, direct, depend]   \n",
              "...                                                   ...   \n",
              "355322  [remov, manual, page, load, event, glean, debu...   \n",
              "355324  [redirect, main, amo, homepag, instead, review...   \n",
              "355325  [add, git, shortref, deploy, messag, cloudop, ...   \n",
              "355328  [sign, testpilot, system, addon, fx, 58, pkcs7...   \n",
              "355329  [verifi, pkcs7, signatur, ecdsa, intermedi, wo...   \n",
              "\n",
              "                                        processed_summary  \n",
              "0                  scroll scroll mice touchpad etc scroll  \n",
              "19             add check item download panel browser test  \n",
              "20      useafterfre navig document form valid messag s...  \n",
              "24         add address properli autofil option dialog box  \n",
              "25               libxmlgyp defin libxmlstat direct depend  \n",
              "...                                                   ...  \n",
              "355322  remov manual page load event glean debug ping ...  \n",
              "355324  redirect main amo homepag instead review tool ...  \n",
              "355325   add git shortref deploy messag cloudop slack bot  \n",
              "355328  sign testpilot system addon fx 58 pkcs7 sha256...  \n",
              "355329      verifi pkcs7 signatur ecdsa intermedi work fx  \n",
              "\n",
              "[119919 rows x 6 columns]"
            ]
          },
          "execution_count": 58,
          "metadata": {},
          "output_type": "execute_result"
        }
      ],
      "source": [
        "# Display the DataFrame 'dataset'\n",
        "# This will print the first and last 5 rows of the DataFrame along with the column names and index\n",
        "# Useful for a quick overview of the data after processing\n",
        "dataset"
      ]
    },
    {
      "cell_type": "markdown",
      "metadata": {
        "id": "ewwMFQuVo6J9"
      },
      "source": [
        "**Filter the dataset do the minimum occurance of each owner is 5**"
      ]
    },
    {
      "cell_type": "code",
      "execution_count": 59,
      "metadata": {
        "colab": {
          "base_uri": "https://localhost:8080/"
        },
        "id": "bjWfQpe9pDA6",
        "outputId": "eaf0331d-290a-4ed2-a2b7-7154b1b0d31d"
      },
      "outputs": [
        {
          "name": "stdout",
          "output_type": "stream",
          "text": [
            "The minimum number of occurrences in Assignee column is 1\n"
          ]
        }
      ],
      "source": [
        "# Calculate the minimum number of occurrences of any value in the 'Assignee' column\n",
        "min_occurrences = dataset['Assignee'].value_counts().min()\n",
        "\n",
        "# Print the result\n",
        "print(f\"The minimum number of occurrences in Assignee column is {min_occurrences}\")"
      ]
    },
    {
      "cell_type": "code",
      "execution_count": 60,
      "metadata": {
        "id": "gvO0GAGbuw5t"
      },
      "outputs": [],
      "source": [
        "# Calculate the occurrences of each value in the 'Assignee' column\n",
        "value_counts = dataset['Assignee'].value_counts()\n",
        "\n",
        "# Filter the dataset to include only rows where the value in 'Assignee' has at least 5 occurrences\n",
        "dataset = dataset[dataset['Assignee'].isin(value_counts[value_counts >= 5].index)]"
      ]
    },
    {
      "cell_type": "code",
      "execution_count": 61,
      "metadata": {
        "colab": {
          "base_uri": "https://localhost:8080/"
        },
        "id": "lKCeDQrou7eH",
        "outputId": "473561de-4b19-428f-9531-b34435eaf5d9"
      },
      "outputs": [
        {
          "name": "stdout",
          "output_type": "stream",
          "text": [
            "The minimum number of occurrences in Assignee column is 5\n"
          ]
        }
      ],
      "source": [
        "# Calculate the minimum number of occurrences of any value in the 'Assignee' column\n",
        "min_occurrences = dataset['Assignee'].value_counts().min()\n",
        "\n",
        "# Print the result\n",
        "print(f\"The minimum number of occurrences in Assignee column is {min_occurrences}\")"
      ]
    },
    {
      "cell_type": "code",
      "execution_count": 62,
      "metadata": {
        "colab": {
          "base_uri": "https://localhost:8080/"
        },
        "id": "WHZNgnZGvBQi",
        "outputId": "bad58bd9-314e-439c-9793-5d8ac4c42028"
      },
      "outputs": [
        {
          "data": {
            "text/plain": [
              "(117381, 6)"
            ]
          },
          "execution_count": 62,
          "metadata": {},
          "output_type": "execute_result"
        }
      ],
      "source": [
        "# Print the shape of the DataFrame 'dataset'\n",
        "# 'shape' returns a tuple representing the dimensionality of the DataFrame\n",
        "# The first value is the number of rows, and the second value is the number of columns\n",
        "dataset.shape"
      ]
    },
    {
      "cell_type": "markdown",
      "metadata": {
        "id": "Ucm0DR8C3Nwt"
      },
      "source": [
        "**Save the 'Assignee' and 'Sumamry_stemmed' columns to csv file**"
      ]
    },
    {
      "cell_type": "code",
      "execution_count": 64,
      "metadata": {
        "id": "HibxVh7i3V1G"
      },
      "outputs": [],
      "source": [
        "# Define columns to save in the final dataset\n",
        "columns_to_save = ['Summary_Stemmed', 'processed_summary', 'Assignee']\n",
        "\n",
        "# Get the current working directory\n",
        "current_dir = os.getcwd()\n",
        "\n",
        "# Define the relative path for saving the CSV file\n",
        "relative_path = os.path.join('..', 'data', 'dataset_after_preprocessing.csv')\n",
        "\n",
        "# Save the selected columns to a CSV file, excluding the DataFrame index\n",
        "dataset[columns_to_save].to_csv(os.path.join(current_dir, relative_path), index=False)"
      ]
    }
  ],
  "metadata": {
    "colab": {
      "provenance": []
    },
    "kernelspec": {
      "display_name": "Python 3",
      "name": "python3"
    },
    "language_info": {
      "codemirror_mode": {
        "name": "ipython",
        "version": 3
      },
      "file_extension": ".py",
      "mimetype": "text/x-python",
      "name": "python",
      "nbconvert_exporter": "python",
      "pygments_lexer": "ipython3",
      "version": "3.8.10"
    }
  },
  "nbformat": 4,
  "nbformat_minor": 0
}
