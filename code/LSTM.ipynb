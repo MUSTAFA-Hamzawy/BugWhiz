{
  "nbformat": 4,
  "nbformat_minor": 0,
  "metadata": {
    "colab": {
      "provenance": [],
      "gpuType": "T4"
    },
    "kernelspec": {
      "name": "python3",
      "display_name": "Python 3"
    },
    "language_info": {
      "name": "python"
    },
    "accelerator": "GPU"
  },
  "cells": [
    {
      "cell_type": "markdown",
      "source": [
        "**Imports**"
      ],
      "metadata": {
        "id": "CqIyTwhXrZyJ"
      }
    },
    {
      "cell_type": "code",
      "execution_count": null,
      "metadata": {
        "id": "r5P44griq21H"
      },
      "outputs": [],
      "source": [
        "import numpy as np\n",
        "import pandas as pd\n",
        "from tensorflow.keras.preprocessing.text import Tokenizer\n",
        "from tensorflow.keras.preprocessing.sequence import pad_sequences\n",
        "from tensorflow.keras.models import Sequential\n",
        "from tensorflow.keras.layers import Embedding, LSTM, Dense\n",
        "from tensorflow.keras.utils import to_categorical\n",
        "from sklearn.model_selection import train_test_split\n",
        "from sklearn.preprocessing import LabelEncoder\n",
        "import tensorflow as tf\n",
        "from sklearn.model_selection import StratifiedShuffleSplit\n",
        "import gc"
      ]
    },
    {
      "cell_type": "markdown",
      "source": [
        "**Load The Dataset**"
      ],
      "metadata": {
        "id": "Bl4oitvbrex3"
      }
    },
    {
      "cell_type": "code",
      "source": [
        "dataset = pd.read_csv(\"dataset_after_preprocessing.csv\")"
      ],
      "metadata": {
        "id": "lrhi2Xv_rfeG"
      },
      "execution_count": null,
      "outputs": []
    },
    {
      "cell_type": "markdown",
      "source": [
        "**Extract labels and summaries**"
      ],
      "metadata": {
        "id": "ZB16r6XRr0Q4"
      }
    },
    {
      "cell_type": "code",
      "source": [
        "# Extract labels and summaries\n",
        "labels = dataset['Assignee'].values\n",
        "summaries = dataset['Summary_Stemmed'].values"
      ],
      "metadata": {
        "id": "J3hz64RCrz4K"
      },
      "execution_count": null,
      "outputs": []
    },
    {
      "cell_type": "code",
      "source": [
        "del dataset"
      ],
      "metadata": {
        "id": "dbzV249bvlrd"
      },
      "execution_count": null,
      "outputs": []
    },
    {
      "cell_type": "markdown",
      "source": [
        "**Encode the labels**"
      ],
      "metadata": {
        "id": "dTKrED5NsJqQ"
      }
    },
    {
      "cell_type": "code",
      "source": [
        "# Encode labels\n",
        "label_encoder = LabelEncoder()\n",
        "encoded_labels = label_encoder.fit_transform(labels)\n",
        "categorical_labels = to_categorical(encoded_labels)\n"
      ],
      "metadata": {
        "id": "JXnJShyVsCxr"
      },
      "execution_count": null,
      "outputs": []
    },
    {
      "cell_type": "code",
      "source": [
        "del labels"
      ],
      "metadata": {
        "id": "lQa5-RAGsHHB"
      },
      "execution_count": null,
      "outputs": []
    },
    {
      "cell_type": "markdown",
      "source": [
        "**Tokenize and Pad Text Data**"
      ],
      "metadata": {
        "id": "ND9lSqXmsShd"
      }
    },
    {
      "cell_type": "code",
      "source": [
        "# Tokenize and pad text data\n",
        "tokenizer = Tokenizer()\n",
        "tokenizer.fit_on_texts(summaries)\n",
        "sequences = tokenizer.texts_to_sequences(summaries)\n",
        "max_sequence_length = max(len(seq) for seq in sequences)\n",
        "padded_sequences = pad_sequences(sequences, maxlen=max_sequence_length, padding='post')\n",
        "vocab_size = len(tokenizer.word_index) + 1\n"
      ],
      "metadata": {
        "id": "RJUmuFhpsTko"
      },
      "execution_count": null,
      "outputs": []
    },
    {
      "cell_type": "code",
      "source": [
        "del summaries\n",
        "del sequences"
      ],
      "metadata": {
        "id": "0M5fpcbRv0nV"
      },
      "execution_count": null,
      "outputs": []
    },
    {
      "cell_type": "markdown",
      "source": [
        "**Split Data into Training and Test Sets**"
      ],
      "metadata": {
        "id": "fmezYe29srbM"
      }
    },
    {
      "cell_type": "code",
      "source": [
        "# Initialize StratifiedShuffleSplit\n",
        "sss = StratifiedShuffleSplit(n_splits=1, test_size=0.2, random_state=42)\n",
        "\n",
        "# Split data into training and test sets\n",
        "for train_index, test_index in sss.split(padded_sequences, encoded_labels):\n",
        "    X_train, X_test = padded_sequences[train_index], padded_sequences[test_index]\n",
        "    y_train, y_test = categorical_labels[train_index], categorical_labels[test_index]\n",
        "\n",
        "# Further split the training data into training and validation sets\n",
        "X_train, X_val, y_train, y_val = train_test_split(X_train, y_train, test_size=0.1, random_state=42)\n"
      ],
      "metadata": {
        "id": "0XGmqapfuS7q"
      },
      "execution_count": null,
      "outputs": []
    },
    {
      "cell_type": "code",
      "source": [
        "del sss\n",
        "gc.collect()"
      ],
      "metadata": {
        "colab": {
          "base_uri": "https://localhost:8080/"
        },
        "id": "-ARAjbb5wHFk",
        "outputId": "d84e749a-1814-4e17-d697-7e09e73ee8a1"
      },
      "execution_count": null,
      "outputs": [
        {
          "output_type": "execute_result",
          "data": {
            "text/plain": [
              "0"
            ]
          },
          "metadata": {},
          "execution_count": 11
        }
      ]
    },
    {
      "cell_type": "code",
      "source": [
        "# Clear unnecessary variables to free up memory\n",
        "del padded_sequences, encoded_labels, categorical_labels\n",
        "gc.collect()"
      ],
      "metadata": {
        "colab": {
          "base_uri": "https://localhost:8080/"
        },
        "id": "41S87NYHxb8V",
        "outputId": "e74647b2-518a-43b8-b61b-79a6567a843f"
      },
      "execution_count": null,
      "outputs": [
        {
          "output_type": "execute_result",
          "data": {
            "text/plain": [
              "0"
            ]
          },
          "metadata": {},
          "execution_count": 12
        }
      ]
    },
    {
      "cell_type": "markdown",
      "source": [
        "**Build the LSTM Model**"
      ],
      "metadata": {
        "id": "zr6LU5QjtEUB"
      }
    },
    {
      "cell_type": "code",
      "source": [
        "# Build the LSTM model\n",
        "embedding_dim = 100\n",
        "\n",
        "model = Sequential()\n",
        "model.add(Embedding(input_dim=vocab_size, output_dim=embedding_dim, input_length=max_sequence_length))\n",
        "model.add(LSTM(units=128, dropout=0.2, recurrent_dropout=0.2))\n",
        "model.add(Dense(units=y_train.shape[1], activation='softmax'))\n",
        "\n",
        "model.compile(optimizer='adam', loss='categorical_crossentropy', metrics=['accuracy'])\n",
        "\n",
        "model.summary()"
      ],
      "metadata": {
        "colab": {
          "base_uri": "https://localhost:8080/"
        },
        "id": "7RlRkRrHtF6x",
        "outputId": "59a81d66-6e5c-46da-ec2d-f0144cb783d9"
      },
      "execution_count": null,
      "outputs": [
        {
          "output_type": "stream",
          "name": "stderr",
          "text": [
            "WARNING:tensorflow:Layer lstm will not use cuDNN kernels since it doesn't meet the criteria. It will use a generic GPU kernel as fallback when running on GPU.\n"
          ]
        },
        {
          "output_type": "stream",
          "name": "stdout",
          "text": [
            "Model: \"sequential\"\n",
            "_________________________________________________________________\n",
            " Layer (type)                Output Shape              Param #   \n",
            "=================================================================\n",
            " embedding (Embedding)       (None, 3762, 100)         102752800 \n",
            "                                                                 \n",
            " lstm (LSTM)                 (None, 128)               117248    \n",
            "                                                                 \n",
            " dense (Dense)               (None, 2932)              378228    \n",
            "                                                                 \n",
            "=================================================================\n",
            "Total params: 103248276 (393.86 MB)\n",
            "Trainable params: 103248276 (393.86 MB)\n",
            "Non-trainable params: 0 (0.00 Byte)\n",
            "_________________________________________________________________\n"
          ]
        }
      ]
    },
    {
      "cell_type": "markdown",
      "source": [
        "**Train the LSTM Model**"
      ],
      "metadata": {
        "id": "lss0HSLTtJQ6"
      }
    },
    {
      "cell_type": "code",
      "source": [
        "# Train the model\n",
        "epochs = 10\n",
        "batch_size = 32\n",
        "\n",
        "history = model.fit(\n",
        "    X_train, y_train,\n",
        "    epochs=epochs,\n",
        "    batch_size=batch_size,\n",
        "    validation_split=0.1,\n",
        "    verbose=2,\n",
        "    #callbacks=[PrintTrainingAccuracy()]\n",
        ")"
      ],
      "metadata": {
        "id": "iTS1fKXktKcV"
      },
      "execution_count": null,
      "outputs": []
    },
    {
      "cell_type": "code",
      "source": [
        "# Clear session and free memory\n",
        "K.clear_session()\n",
        "gc.collect()"
      ],
      "metadata": {
        "id": "UfCvVyQrxwLA"
      },
      "execution_count": null,
      "outputs": []
    },
    {
      "cell_type": "code",
      "source": [
        "# Evaluate the model\n",
        "loss, accuracy = model.evaluate(X_test, y_test, verbose=2)\n",
        "print(f'Test Accuracy: {accuracy * 100:.2f}%')"
      ],
      "metadata": {
        "id": "NgmidNRztOUu"
      },
      "execution_count": null,
      "outputs": []
    }
  ]
}