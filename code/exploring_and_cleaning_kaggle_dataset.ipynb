{
 "cells": [
  {
   "cell_type": "code",
   "execution_count": 3,
   "metadata": {},
   "outputs": [],
   "source": [
    "import os\n",
    "import pandas as pd"
   ]
  },
  {
   "cell_type": "markdown",
   "metadata": {},
   "source": [
    "**Loading the data**"
   ]
  },
  {
   "cell_type": "code",
   "execution_count": 2,
   "metadata": {},
   "outputs": [],
   "source": [
    "# Get the current working directory & Construct the relative path to train.csv\n",
    "current_dir = os.getcwd() \n",
    "relative_path = os.path.join('..', 'data', 'kaggle_dataset','kaggle_dataset.csv')"
   ]
  },
  {
   "cell_type": "code",
   "execution_count": 4,
   "metadata": {},
   "outputs": [],
   "source": [
    "kaggle_dataset = pd.read_csv(os.path.join(current_dir, relative_path))"
   ]
  },
  {
   "cell_type": "markdown",
   "metadata": {},
   "source": [
    "**Exploring the data**"
   ]
  },
  {
   "cell_type": "code",
   "execution_count": 5,
   "metadata": {},
   "outputs": [
    {
     "name": "stdout",
     "output_type": "stream",
     "text": [
      "(118643, 3)\n"
     ]
    }
   ],
   "source": [
    "print(kaggle_dataset.shape)"
   ]
  },
  {
   "cell_type": "code",
   "execution_count": 6,
   "metadata": {},
   "outputs": [
    {
     "name": "stdout",
     "output_type": "stream",
     "text": [
      "Index(['owner', 'issue_title', 'description'], dtype='object')\n"
     ]
    }
   ],
   "source": [
    "print(kaggle_dataset.columns)"
   ]
  },
  {
   "cell_type": "code",
   "execution_count": 7,
   "metadata": {},
   "outputs": [
    {
     "data": {
      "text/html": [
       "<div>\n",
       "<style scoped>\n",
       "    .dataframe tbody tr th:only-of-type {\n",
       "        vertical-align: middle;\n",
       "    }\n",
       "\n",
       "    .dataframe tbody tr th {\n",
       "        vertical-align: top;\n",
       "    }\n",
       "\n",
       "    .dataframe thead th {\n",
       "        text-align: right;\n",
       "    }\n",
       "</style>\n",
       "<table border=\"1\" class=\"dataframe\">\n",
       "  <thead>\n",
       "    <tr style=\"text-align: right;\">\n",
       "      <th></th>\n",
       "      <th>owner</th>\n",
       "      <th>issue_title</th>\n",
       "      <th>description</th>\n",
       "    </tr>\n",
       "  </thead>\n",
       "  <tbody>\n",
       "    <tr>\n",
       "      <th>0</th>\n",
       "      <td>amit@chromium.org</td>\n",
       "      <td>Scrolling with some scroll mice (touchpad, etc...</td>\n",
       "      <td>Product Version      : &lt;see about:version&gt;URLs...</td>\n",
       "    </tr>\n",
       "    <tr>\n",
       "      <th>1</th>\n",
       "      <td>jon@chromium.org</td>\n",
       "      <td>Proxy causes some or all network requests to fail</td>\n",
       "      <td>Product Version      : 0.2.149.27 (1583)URLs (...</td>\n",
       "    </tr>\n",
       "    <tr>\n",
       "      <th>2</th>\n",
       "      <td>pfeldman@chromium.org</td>\n",
       "      <td>Web inspector button \"dock to main window\" doe...</td>\n",
       "      <td>Product Version      : chrome beta 1URLs (if a...</td>\n",
       "    </tr>\n",
       "    <tr>\n",
       "      <th>3</th>\n",
       "      <td>jon@chromium.org</td>\n",
       "      <td>Habari admin interface is not rendered correctly</td>\n",
       "      <td>Product Version      : 0.2.149.27 (1583)URLs (...</td>\n",
       "    </tr>\n",
       "    <tr>\n",
       "      <th>4</th>\n",
       "      <td>pkasting@chromium.org</td>\n",
       "      <td>Maximize on second larger monitor not working</td>\n",
       "      <td>Product Version      : 0.2.149.27URLs (if appl...</td>\n",
       "    </tr>\n",
       "    <tr>\n",
       "      <th>...</th>\n",
       "      <td>...</td>\n",
       "      <td>...</td>\n",
       "      <td>...</td>\n",
       "    </tr>\n",
       "    <tr>\n",
       "      <th>118638</th>\n",
       "      <td>navabi@chromium.org</td>\n",
       "      <td>Launch clank_qa recipes to the waterfall</td>\n",
       "      <td>We had git trouble</td>\n",
       "    </tr>\n",
       "    <tr>\n",
       "      <th>118639</th>\n",
       "      <td>bulach@chromium.org</td>\n",
       "      <td>data race in ThreadWatcherListTest</td>\n",
       "      <td>r255322 is culprithttp://build.chromium.org/p/...</td>\n",
       "    </tr>\n",
       "    <tr>\n",
       "      <th>118640</th>\n",
       "      <td>pfeldman@chromium.org</td>\n",
       "      <td>window.console object should not be configurable</td>\n",
       "      <td>Recently sites have begun replacing window.con...</td>\n",
       "    </tr>\n",
       "    <tr>\n",
       "      <th>118641</th>\n",
       "      <td>ernstm@chromium.org</td>\n",
       "      <td>Windows GPU bots failing on multiple tests</td>\n",
       "      <td>All Windows GPU bots are failing a variety of ...</td>\n",
       "    </tr>\n",
       "    <tr>\n",
       "      <th>118642</th>\n",
       "      <td>apavlov@chromium.org</td>\n",
       "      <td>CSS auto-complete suggestion list is incomplet...</td>\n",
       "      <td>UserAgent: Mozilla/5.0 (X11; Linux x86_64) App...</td>\n",
       "    </tr>\n",
       "  </tbody>\n",
       "</table>\n",
       "<p>118643 rows × 3 columns</p>\n",
       "</div>"
      ],
      "text/plain": [
       "                        owner  \\\n",
       "0           amit@chromium.org   \n",
       "1            jon@chromium.org   \n",
       "2       pfeldman@chromium.org   \n",
       "3            jon@chromium.org   \n",
       "4       pkasting@chromium.org   \n",
       "...                       ...   \n",
       "118638    navabi@chromium.org   \n",
       "118639    bulach@chromium.org   \n",
       "118640  pfeldman@chromium.org   \n",
       "118641    ernstm@chromium.org   \n",
       "118642   apavlov@chromium.org   \n",
       "\n",
       "                                              issue_title  \\\n",
       "0       Scrolling with some scroll mice (touchpad, etc...   \n",
       "1       Proxy causes some or all network requests to fail   \n",
       "2       Web inspector button \"dock to main window\" doe...   \n",
       "3        Habari admin interface is not rendered correctly   \n",
       "4           Maximize on second larger monitor not working   \n",
       "...                                                   ...   \n",
       "118638           Launch clank_qa recipes to the waterfall   \n",
       "118639                 data race in ThreadWatcherListTest   \n",
       "118640   window.console object should not be configurable   \n",
       "118641         Windows GPU bots failing on multiple tests   \n",
       "118642  CSS auto-complete suggestion list is incomplet...   \n",
       "\n",
       "                                              description  \n",
       "0       Product Version      : <see about:version>URLs...  \n",
       "1       Product Version      : 0.2.149.27 (1583)URLs (...  \n",
       "2       Product Version      : chrome beta 1URLs (if a...  \n",
       "3       Product Version      : 0.2.149.27 (1583)URLs (...  \n",
       "4       Product Version      : 0.2.149.27URLs (if appl...  \n",
       "...                                                   ...  \n",
       "118638                                We had git trouble   \n",
       "118639  r255322 is culprithttp://build.chromium.org/p/...  \n",
       "118640  Recently sites have begun replacing window.con...  \n",
       "118641  All Windows GPU bots are failing a variety of ...  \n",
       "118642  UserAgent: Mozilla/5.0 (X11; Linux x86_64) App...  \n",
       "\n",
       "[118643 rows x 3 columns]"
      ]
     },
     "execution_count": 7,
     "metadata": {},
     "output_type": "execute_result"
    }
   ],
   "source": [
    "kaggle_dataset"
   ]
  },
  {
   "cell_type": "code",
   "execution_count": 8,
   "metadata": {},
   "outputs": [
    {
     "name": "stdout",
     "output_type": "stream",
     "text": [
      "<class 'pandas.core.frame.DataFrame'>\n",
      "RangeIndex: 118643 entries, 0 to 118642\n",
      "Data columns (total 3 columns):\n",
      " #   Column       Non-Null Count   Dtype \n",
      "---  ------       --------------   ----- \n",
      " 0   owner        118643 non-null  object\n",
      " 1   issue_title  118642 non-null  object\n",
      " 2   description  118642 non-null  object\n",
      "dtypes: object(3)\n",
      "memory usage: 2.7+ MB\n",
      "None\n"
     ]
    }
   ],
   "source": [
    "print(kaggle_dataset.info())"
   ]
  },
  {
   "cell_type": "markdown",
   "metadata": {},
   "source": [
    "**Delete duplicate data [if exist]**"
   ]
  },
  {
   "cell_type": "code",
   "execution_count": 9,
   "metadata": {},
   "outputs": [
    {
     "data": {
      "text/plain": [
       "True"
      ]
     },
     "execution_count": 9,
     "metadata": {},
     "output_type": "execute_result"
    }
   ],
   "source": [
    "kaggle_dataset.duplicated().any()"
   ]
  },
  {
   "cell_type": "code",
   "execution_count": 10,
   "metadata": {},
   "outputs": [],
   "source": [
    "kaggle_dataset = kaggle_dataset.drop_duplicates()"
   ]
  },
  {
   "cell_type": "code",
   "execution_count": 11,
   "metadata": {},
   "outputs": [
    {
     "data": {
      "text/plain": [
       "False"
      ]
     },
     "execution_count": 11,
     "metadata": {},
     "output_type": "execute_result"
    }
   ],
   "source": [
    "kaggle_dataset.duplicated().any()"
   ]
  },
  {
   "cell_type": "code",
   "execution_count": 12,
   "metadata": {},
   "outputs": [
    {
     "name": "stdout",
     "output_type": "stream",
     "text": [
      "(118587, 3)\n"
     ]
    }
   ],
   "source": [
    "print(kaggle_dataset.shape)"
   ]
  },
  {
   "cell_type": "markdown",
   "metadata": {},
   "source": [
    "**generates descriptive statistics of the data**"
   ]
  },
  {
   "cell_type": "code",
   "execution_count": 13,
   "metadata": {},
   "outputs": [
    {
     "data": {
      "text/html": [
       "<div>\n",
       "<style scoped>\n",
       "    .dataframe tbody tr th:only-of-type {\n",
       "        vertical-align: middle;\n",
       "    }\n",
       "\n",
       "    .dataframe tbody tr th {\n",
       "        vertical-align: top;\n",
       "    }\n",
       "\n",
       "    .dataframe thead th {\n",
       "        text-align: right;\n",
       "    }\n",
       "</style>\n",
       "<table border=\"1\" class=\"dataframe\">\n",
       "  <thead>\n",
       "    <tr style=\"text-align: right;\">\n",
       "      <th></th>\n",
       "      <th>owner</th>\n",
       "      <th>issue_title</th>\n",
       "      <th>description</th>\n",
       "    </tr>\n",
       "  </thead>\n",
       "  <tbody>\n",
       "    <tr>\n",
       "      <th>count</th>\n",
       "      <td>118587</td>\n",
       "      <td>118586</td>\n",
       "      <td>118586</td>\n",
       "    </tr>\n",
       "    <tr>\n",
       "      <th>unique</th>\n",
       "      <td>2564</td>\n",
       "      <td>118012</td>\n",
       "      <td>116371</td>\n",
       "    </tr>\n",
       "    <tr>\n",
       "      <th>top</th>\n",
       "      <td>estade@chromium.org</td>\n",
       "      <td>Skia image rebaseline</td>\n",
       "      <td>See the link to graphs below.</td>\n",
       "    </tr>\n",
       "    <tr>\n",
       "      <th>freq</th>\n",
       "      <td>1249</td>\n",
       "      <td>38</td>\n",
       "      <td>1398</td>\n",
       "    </tr>\n",
       "  </tbody>\n",
       "</table>\n",
       "</div>"
      ],
      "text/plain": [
       "                      owner            issue_title  \\\n",
       "count                118587                 118586   \n",
       "unique                 2564                 118012   \n",
       "top     estade@chromium.org  Skia image rebaseline   \n",
       "freq                   1249                     38   \n",
       "\n",
       "                           description  \n",
       "count                           118586  \n",
       "unique                          116371  \n",
       "top     See the link to graphs below.   \n",
       "freq                              1398  "
      ]
     },
     "execution_count": 13,
     "metadata": {},
     "output_type": "execute_result"
    }
   ],
   "source": [
    "# generates descriptive statistics of the data\n",
    "# include=\"O\": This parameter is specifying that you want to include columns with object data type \n",
    "kaggle_dataset.describe(include = \"O\")"
   ]
  },
  {
   "cell_type": "code",
   "execution_count": 14,
   "metadata": {},
   "outputs": [
    {
     "data": {
      "text/plain": [
       "owner            2564\n",
       "issue_title    118012\n",
       "description    116371\n",
       "dtype: int64"
      ]
     },
     "execution_count": 14,
     "metadata": {},
     "output_type": "execute_result"
    }
   ],
   "source": [
    "# compute the number of unique values for each column in the DataFrame training_data.\n",
    "kaggle_dataset.nunique()"
   ]
  },
  {
   "cell_type": "code",
   "execution_count": null,
   "metadata": {},
   "outputs": [],
   "source": [
    "'''\n",
    "number of unique titles is less than number of rows\n",
    "so there are duplicate titles\n",
    "remove rows of duplicate titles\n",
    "'''"
   ]
  },
  {
   "cell_type": "markdown",
   "metadata": {},
   "source": [
    "**Remove duplicate titles**"
   ]
  },
  {
   "cell_type": "code",
   "execution_count": 15,
   "metadata": {},
   "outputs": [],
   "source": [
    "kaggle_dataset = kaggle_dataset.drop_duplicates(subset='issue_title')"
   ]
  },
  {
   "cell_type": "code",
   "execution_count": 16,
   "metadata": {},
   "outputs": [
    {
     "name": "stdout",
     "output_type": "stream",
     "text": [
      "(118013, 3)\n"
     ]
    }
   ],
   "source": [
    "print(kaggle_dataset.shape)"
   ]
  },
  {
   "cell_type": "code",
   "execution_count": 18,
   "metadata": {},
   "outputs": [
    {
     "data": {
      "text/plain": [
       "owner            2563\n",
       "issue_title    118012\n",
       "description    115812\n",
       "dtype: int64"
      ]
     },
     "execution_count": 18,
     "metadata": {},
     "output_type": "execute_result"
    }
   ],
   "source": [
    "# compute the number of unique values for each column in the DataFrame training_data.\n",
    "kaggle_dataset.nunique()"
   ]
  },
  {
   "cell_type": "markdown",
   "metadata": {},
   "source": [
    "**generates descriptive statistics of the data**"
   ]
  },
  {
   "cell_type": "code",
   "execution_count": 17,
   "metadata": {},
   "outputs": [
    {
     "data": {
      "text/html": [
       "<div>\n",
       "<style scoped>\n",
       "    .dataframe tbody tr th:only-of-type {\n",
       "        vertical-align: middle;\n",
       "    }\n",
       "\n",
       "    .dataframe tbody tr th {\n",
       "        vertical-align: top;\n",
       "    }\n",
       "\n",
       "    .dataframe thead th {\n",
       "        text-align: right;\n",
       "    }\n",
       "</style>\n",
       "<table border=\"1\" class=\"dataframe\">\n",
       "  <thead>\n",
       "    <tr style=\"text-align: right;\">\n",
       "      <th></th>\n",
       "      <th>owner</th>\n",
       "      <th>issue_title</th>\n",
       "      <th>description</th>\n",
       "    </tr>\n",
       "  </thead>\n",
       "  <tbody>\n",
       "    <tr>\n",
       "      <th>count</th>\n",
       "      <td>118013</td>\n",
       "      <td>118012</td>\n",
       "      <td>118012</td>\n",
       "    </tr>\n",
       "    <tr>\n",
       "      <th>unique</th>\n",
       "      <td>2563</td>\n",
       "      <td>118012</td>\n",
       "      <td>115812</td>\n",
       "    </tr>\n",
       "    <tr>\n",
       "      <th>top</th>\n",
       "      <td>estade@chromium.org</td>\n",
       "      <td>Scrolling with some scroll mice (touchpad, etc...</td>\n",
       "      <td>See the link to graphs below.</td>\n",
       "    </tr>\n",
       "    <tr>\n",
       "      <th>freq</th>\n",
       "      <td>1243</td>\n",
       "      <td>1</td>\n",
       "      <td>1396</td>\n",
       "    </tr>\n",
       "  </tbody>\n",
       "</table>\n",
       "</div>"
      ],
      "text/plain": [
       "                      owner  \\\n",
       "count                118013   \n",
       "unique                 2563   \n",
       "top     estade@chromium.org   \n",
       "freq                   1243   \n",
       "\n",
       "                                              issue_title  \\\n",
       "count                                              118012   \n",
       "unique                                             118012   \n",
       "top     Scrolling with some scroll mice (touchpad, etc...   \n",
       "freq                                                    1   \n",
       "\n",
       "                           description  \n",
       "count                           118012  \n",
       "unique                          115812  \n",
       "top     See the link to graphs below.   \n",
       "freq                              1396  "
      ]
     },
     "execution_count": 17,
     "metadata": {},
     "output_type": "execute_result"
    }
   ],
   "source": [
    "# generates descriptive statistics of the data\n",
    "# include=\"O\": This parameter is specifying that you want to include columns with object data type \n",
    "kaggle_dataset.describe(include = \"O\")"
   ]
  },
  {
   "cell_type": "markdown",
   "metadata": {},
   "source": [
    "**Show the number of nulls in each column**"
   ]
  },
  {
   "cell_type": "code",
   "execution_count": 19,
   "metadata": {},
   "outputs": [
    {
     "name": "stdout",
     "output_type": "stream",
     "text": [
      "owner          0\n",
      "issue_title    1\n",
      "description    1\n",
      "dtype: int64\n"
     ]
    }
   ],
   "source": [
    "# Print the number of null values in each column in the training data\n",
    "print(kaggle_dataset.isnull().sum())"
   ]
  },
  {
   "cell_type": "markdown",
   "metadata": {},
   "source": [
    "**Remove rows with null values**"
   ]
  },
  {
   "cell_type": "code",
   "execution_count": 20,
   "metadata": {},
   "outputs": [
    {
     "name": "stdout",
     "output_type": "stream",
     "text": [
      "owner          0\n",
      "issue_title    0\n",
      "description    0\n",
      "dtype: int64\n"
     ]
    }
   ],
   "source": [
    "# remove rows with missing values from the dataset\n",
    "kaggle_dataset.dropna(inplace=True)\n",
    "print(kaggle_dataset.isnull().sum())"
   ]
  },
  {
   "cell_type": "markdown",
   "metadata": {},
   "source": [
    "**Save cleaned data**"
   ]
  },
  {
   "cell_type": "code",
   "execution_count": 21,
   "metadata": {},
   "outputs": [],
   "source": [
    "relative_path = os.path.join('..', 'data','kaggle_dataset' ,'cleaned_kaggle_dataset.csv')\n",
    "kaggle_dataset.to_csv(os.path.join(current_dir, relative_path), index=False) # exclude the DataFrame index from being saved to the CSV file."
   ]
  }
 ],
 "metadata": {
  "accelerator": "GPU",
  "colab": {
   "gpuType": "T4",
   "provenance": []
  },
  "kernelspec": {
   "display_name": "Python 3 (ipykernel)",
   "language": "python",
   "name": "python3"
  },
  "language_info": {
   "codemirror_mode": {
    "name": "ipython",
    "version": 3
   },
   "file_extension": ".py",
   "mimetype": "text/x-python",
   "name": "python",
   "nbconvert_exporter": "python",
   "pygments_lexer": "ipython3",
   "version": "3.8.10"
  }
 },
 "nbformat": 4,
 "nbformat_minor": 4
}
