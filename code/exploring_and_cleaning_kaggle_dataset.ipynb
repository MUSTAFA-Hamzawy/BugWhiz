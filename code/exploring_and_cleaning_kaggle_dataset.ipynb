{
 "cells": [
  {
   "cell_type": "code",
   "execution_count": 1,
   "metadata": {},
   "outputs": [],
   "source": [
    "import os\n",
    "import pandas as pd\n",
    "import re"
   ]
  },
  {
   "cell_type": "markdown",
   "metadata": {},
   "source": [
    "**Loading and merging the data**"
   ]
  },
  {
   "cell_type": "code",
   "execution_count": 2,
   "metadata": {},
   "outputs": [],
   "source": [
    "# Define the path to the directory containing the CSV files\n",
    "# 'os.path.join' is used to construct a directory path by joining folder names\n",
    "# The resulting path is relative to the current working directory\n",
    "directory_path = os.path.join('..', 'data', 'kaggle_dataset', 'dataset_before_merge')\n",
    "\n",
    "# List all CSV files in the directory\n",
    "# 'os.listdir' lists all files and directories in 'directory_path'\n",
    "# The list comprehension filters out only the files that end with '.csv'\n",
    "# 'os.path.join(directory_path, file)' constructs the full file path for each CSV file\n",
    "file_paths = [os.path.join(directory_path, file) for file in os.listdir(directory_path) if file.endswith('.csv')]\n",
    "\n",
    "# Read the CSV files into DataFrames\n",
    "# 'pd.read_csv(file)' reads each CSV file into a pandas DataFrame\n",
    "# The resulting DataFrames are stored in a list\n",
    "dataframes = [pd.read_csv(file) for file in file_paths]\n",
    "\n",
    "# Concatenate all DataFrames into a single DataFrame\n",
    "# 'pd.concat(dataframes, ignore_index=True)' concatenates the list of DataFrames into one DataFrame\n",
    "# 'ignore_index=True' resets the index in the resulting DataFrame\n",
    "kaggle_dataset = pd.concat(dataframes, ignore_index=True)"
   ]
  },
  {
   "cell_type": "markdown",
   "metadata": {},
   "source": [
    "**Exploring the data**"
   ]
  },
  {
   "cell_type": "code",
   "execution_count": 3,
   "metadata": {},
   "outputs": [
    {
     "name": "stdout",
     "output_type": "stream",
     "text": [
      "(460299, 3)\n"
     ]
    }
   ],
   "source": [
    "# Print the shape of the DataFrame 'kaggle_dataset'\n",
    "# 'shape' returns a tuple representing the dimensionality of the DataFrame\n",
    "# The first value is the number of rows, and the second value is the number of columns\n",
    "print(kaggle_dataset.shape)"
   ]
  },
  {
   "cell_type": "code",
   "execution_count": 5,
   "metadata": {},
   "outputs": [
    {
     "name": "stdout",
     "output_type": "stream",
     "text": [
      "Index(['owner', 'issue_title', 'description'], dtype='object')\n"
     ]
    }
   ],
   "source": [
    "# Print the names of the columns in the DataFrame 'kaggle_dataset'\n",
    "# 'columns' returns an Index object containing the column labels of the DataFrame\n",
    "print(kaggle_dataset.columns)"
   ]
  },
  {
   "cell_type": "code",
   "execution_count": 6,
   "metadata": {},
   "outputs": [
    {
     "data": {
      "text/html": [
       "<div>\n",
       "<style scoped>\n",
       "    .dataframe tbody tr th:only-of-type {\n",
       "        vertical-align: middle;\n",
       "    }\n",
       "\n",
       "    .dataframe tbody tr th {\n",
       "        vertical-align: top;\n",
       "    }\n",
       "\n",
       "    .dataframe thead th {\n",
       "        text-align: right;\n",
       "    }\n",
       "</style>\n",
       "<table border=\"1\" class=\"dataframe\">\n",
       "  <thead>\n",
       "    <tr style=\"text-align: right;\">\n",
       "      <th></th>\n",
       "      <th>owner</th>\n",
       "      <th>issue_title</th>\n",
       "      <th>description</th>\n",
       "    </tr>\n",
       "  </thead>\n",
       "  <tbody>\n",
       "    <tr>\n",
       "      <th>0</th>\n",
       "      <td>amit@chromium.org</td>\n",
       "      <td>Scrolling with some scroll mice (touchpad, etc...</td>\n",
       "      <td>Product Version      : &lt;see about:version&gt;URLs...</td>\n",
       "    </tr>\n",
       "    <tr>\n",
       "      <th>1</th>\n",
       "      <td>jon@chromium.org</td>\n",
       "      <td>Proxy causes some or all network requests to fail</td>\n",
       "      <td>Product Version      : 0.2.149.27 (1583)URLs (...</td>\n",
       "    </tr>\n",
       "    <tr>\n",
       "      <th>2</th>\n",
       "      <td>pfeldman@chromium.org</td>\n",
       "      <td>Web inspector button \"dock to main window\" doe...</td>\n",
       "      <td>Product Version      : chrome beta 1URLs (if a...</td>\n",
       "    </tr>\n",
       "    <tr>\n",
       "      <th>3</th>\n",
       "      <td>jon@chromium.org</td>\n",
       "      <td>Habari admin interface is not rendered correctly</td>\n",
       "      <td>Product Version      : 0.2.149.27 (1583)URLs (...</td>\n",
       "    </tr>\n",
       "    <tr>\n",
       "      <th>4</th>\n",
       "      <td>pkasting@chromium.org</td>\n",
       "      <td>Maximize on second larger monitor not working</td>\n",
       "      <td>Product Version      : 0.2.149.27URLs (if appl...</td>\n",
       "    </tr>\n",
       "    <tr>\n",
       "      <th>...</th>\n",
       "      <td>...</td>\n",
       "      <td>...</td>\n",
       "      <td>...</td>\n",
       "    </tr>\n",
       "    <tr>\n",
       "      <th>460294</th>\n",
       "      <td>navabi@chromium.org</td>\n",
       "      <td>Launch clank_qa recipes to the waterfall</td>\n",
       "      <td>We had git trouble</td>\n",
       "    </tr>\n",
       "    <tr>\n",
       "      <th>460295</th>\n",
       "      <td>bulach@chromium.org</td>\n",
       "      <td>data race in ThreadWatcherListTest</td>\n",
       "      <td>r255322 is culprithttp://build.chromium.org/p/...</td>\n",
       "    </tr>\n",
       "    <tr>\n",
       "      <th>460296</th>\n",
       "      <td>pfeldman@chromium.org</td>\n",
       "      <td>window.console object should not be configurable</td>\n",
       "      <td>Recently sites have begun replacing window.con...</td>\n",
       "    </tr>\n",
       "    <tr>\n",
       "      <th>460297</th>\n",
       "      <td>ernstm@chromium.org</td>\n",
       "      <td>Windows GPU bots failing on multiple tests</td>\n",
       "      <td>All Windows GPU bots are failing a variety of ...</td>\n",
       "    </tr>\n",
       "    <tr>\n",
       "      <th>460298</th>\n",
       "      <td>apavlov@chromium.org</td>\n",
       "      <td>CSS auto-complete suggestion list is incomplet...</td>\n",
       "      <td>UserAgent: Mozilla/5.0 (X11; Linux x86_64) App...</td>\n",
       "    </tr>\n",
       "  </tbody>\n",
       "</table>\n",
       "<p>460299 rows × 3 columns</p>\n",
       "</div>"
      ],
      "text/plain": [
       "                        owner  \\\n",
       "0           amit@chromium.org   \n",
       "1            jon@chromium.org   \n",
       "2       pfeldman@chromium.org   \n",
       "3            jon@chromium.org   \n",
       "4       pkasting@chromium.org   \n",
       "...                       ...   \n",
       "460294    navabi@chromium.org   \n",
       "460295    bulach@chromium.org   \n",
       "460296  pfeldman@chromium.org   \n",
       "460297    ernstm@chromium.org   \n",
       "460298   apavlov@chromium.org   \n",
       "\n",
       "                                              issue_title  \\\n",
       "0       Scrolling with some scroll mice (touchpad, etc...   \n",
       "1       Proxy causes some or all network requests to fail   \n",
       "2       Web inspector button \"dock to main window\" doe...   \n",
       "3        Habari admin interface is not rendered correctly   \n",
       "4           Maximize on second larger monitor not working   \n",
       "...                                                   ...   \n",
       "460294           Launch clank_qa recipes to the waterfall   \n",
       "460295                 data race in ThreadWatcherListTest   \n",
       "460296   window.console object should not be configurable   \n",
       "460297         Windows GPU bots failing on multiple tests   \n",
       "460298  CSS auto-complete suggestion list is incomplet...   \n",
       "\n",
       "                                              description  \n",
       "0       Product Version      : <see about:version>URLs...  \n",
       "1       Product Version      : 0.2.149.27 (1583)URLs (...  \n",
       "2       Product Version      : chrome beta 1URLs (if a...  \n",
       "3       Product Version      : 0.2.149.27 (1583)URLs (...  \n",
       "4       Product Version      : 0.2.149.27URLs (if appl...  \n",
       "...                                                   ...  \n",
       "460294                                We had git trouble   \n",
       "460295  r255322 is culprithttp://build.chromium.org/p/...  \n",
       "460296  Recently sites have begun replacing window.con...  \n",
       "460297  All Windows GPU bots are failing a variety of ...  \n",
       "460298  UserAgent: Mozilla/5.0 (X11; Linux x86_64) App...  \n",
       "\n",
       "[460299 rows x 3 columns]"
      ]
     },
     "execution_count": 6,
     "metadata": {},
     "output_type": "execute_result"
    }
   ],
   "source": [
    "# Display the DataFrame 'kaggle_dataset'\n",
    "# This will print the first and last 5 rows of the DataFrame along with the column names and index\n",
    "# Useful for a quick overview of the data after processing\n",
    "kaggle_dataset"
   ]
  },
  {
   "cell_type": "code",
   "execution_count": 16,
   "metadata": {},
   "outputs": [
    {
     "name": "stdout",
     "output_type": "stream",
     "text": [
      "<class 'pandas.core.frame.DataFrame'>\n",
      "RangeIndex: 460299 entries, 0 to 460298\n",
      "Data columns (total 3 columns):\n",
      " #   Column       Non-Null Count   Dtype \n",
      "---  ------       --------------   ----- \n",
      " 0   owner        460299 non-null  object\n",
      " 1   issue_title  460295 non-null  object\n",
      " 2   description  460295 non-null  object\n",
      "dtypes: object(3)\n",
      "memory usage: 10.5+ MB\n",
      "None\n"
     ]
    }
   ],
   "source": [
    "# Print a concise summary of the DataFrame 'kaggle_dataset'\n",
    "# 'info()' provides essential information about the DataFrame, including:\n",
    "# - The number of non-null entries in each column\n",
    "# - The data type of each column\n",
    "# - The memory usage of the DataFrame\n",
    "# This is useful for understanding the structure, completeness, and memory footprint of the data\n",
    "print(kaggle_dataset.info())"
   ]
  },
  {
   "cell_type": "markdown",
   "metadata": {},
   "source": [
    "**Delete duplicate data [if exist]**"
   ]
  },
  {
   "cell_type": "code",
   "execution_count": 4,
   "metadata": {},
   "outputs": [
    {
     "data": {
      "text/plain": [
       "True"
      ]
     },
     "execution_count": 4,
     "metadata": {},
     "output_type": "execute_result"
    }
   ],
   "source": [
    "# Check if there are any duplicate rows in the DataFrame 'kaggle_dataset'\n",
    "# 'duplicated()' returns a Series of boolean values indicating whether each row is a duplicate of a previous row\n",
    "# 'any()' returns True if any element in the Series is True (indicating the presence of duplicates), otherwise False\n",
    "# This is useful for determining if there are any duplicate rows in the DataFrame\n",
    "kaggle_dataset.duplicated().any()"
   ]
  },
  {
   "cell_type": "code",
   "execution_count": 5,
   "metadata": {},
   "outputs": [],
   "source": [
    "# Remove all duplicate rows from the DataFrame 'kaggle_dataset'\n",
    "# 'drop_duplicates()' removes duplicate rows, keeping only the first occurrence of each set of duplicates\n",
    "# The updated DataFrame without duplicates is assigned back to 'kaggle_dataset'\n",
    "# This ensures that all rows in the DataFrame are unique\n",
    "kaggle_dataset = kaggle_dataset.drop_duplicates()"
   ]
  },
  {
   "cell_type": "code",
   "execution_count": 6,
   "metadata": {},
   "outputs": [
    {
     "data": {
      "text/plain": [
       "False"
      ]
     },
     "execution_count": 6,
     "metadata": {},
     "output_type": "execute_result"
    }
   ],
   "source": [
    "# Check if there are any duplicate rows in the DataFrame 'kaggle_dataset'\n",
    "# 'duplicated()' returns a Series of boolean values indicating whether each row is a duplicate of a previous row\n",
    "# 'any()' returns True if any element in the Series is True (indicating the presence of duplicates), otherwise False\n",
    "# This is useful for determining if there are any duplicate rows in the DataFrame\n",
    "kaggle_dataset.duplicated().any()"
   ]
  },
  {
   "cell_type": "code",
   "execution_count": 7,
   "metadata": {},
   "outputs": [
    {
     "name": "stdout",
     "output_type": "stream",
     "text": [
      "(118587, 3)\n"
     ]
    }
   ],
   "source": [
    "# Print the shape of the DataFrame 'kaggle_dataset'\n",
    "# 'shape' returns a tuple representing the dimensionality of the DataFrame\n",
    "# The first value is the number of rows, and the second value is the number of columns\n",
    "print(kaggle_dataset.shape)"
   ]
  },
  {
   "cell_type": "markdown",
   "metadata": {},
   "source": [
    "**generates descriptive statistics of the data**"
   ]
  },
  {
   "cell_type": "code",
   "execution_count": 21,
   "metadata": {},
   "outputs": [
    {
     "data": {
      "text/html": [
       "<div>\n",
       "<style scoped>\n",
       "    .dataframe tbody tr th:only-of-type {\n",
       "        vertical-align: middle;\n",
       "    }\n",
       "\n",
       "    .dataframe tbody tr th {\n",
       "        vertical-align: top;\n",
       "    }\n",
       "\n",
       "    .dataframe thead th {\n",
       "        text-align: right;\n",
       "    }\n",
       "</style>\n",
       "<table border=\"1\" class=\"dataframe\">\n",
       "  <thead>\n",
       "    <tr style=\"text-align: right;\">\n",
       "      <th></th>\n",
       "      <th>owner</th>\n",
       "      <th>issue_title</th>\n",
       "      <th>description</th>\n",
       "    </tr>\n",
       "  </thead>\n",
       "  <tbody>\n",
       "    <tr>\n",
       "      <th>count</th>\n",
       "      <td>118587</td>\n",
       "      <td>118586</td>\n",
       "      <td>118586</td>\n",
       "    </tr>\n",
       "    <tr>\n",
       "      <th>unique</th>\n",
       "      <td>2564</td>\n",
       "      <td>118012</td>\n",
       "      <td>116371</td>\n",
       "    </tr>\n",
       "    <tr>\n",
       "      <th>top</th>\n",
       "      <td>estade@chromium.org</td>\n",
       "      <td>Skia image rebaseline</td>\n",
       "      <td>See the link to graphs below.</td>\n",
       "    </tr>\n",
       "    <tr>\n",
       "      <th>freq</th>\n",
       "      <td>1249</td>\n",
       "      <td>38</td>\n",
       "      <td>1398</td>\n",
       "    </tr>\n",
       "  </tbody>\n",
       "</table>\n",
       "</div>"
      ],
      "text/plain": [
       "                      owner            issue_title  \\\n",
       "count                118587                 118586   \n",
       "unique                 2564                 118012   \n",
       "top     estade@chromium.org  Skia image rebaseline   \n",
       "freq                   1249                     38   \n",
       "\n",
       "                           description  \n",
       "count                           118586  \n",
       "unique                          116371  \n",
       "top     See the link to graphs below.   \n",
       "freq                              1398  "
      ]
     },
     "execution_count": 21,
     "metadata": {},
     "output_type": "execute_result"
    }
   ],
   "source": [
    "# generates descriptive statistics of the data\n",
    "# include=\"O\": This parameter is specifying that you want to include columns with object data type \n",
    "# By default, describe works on numeric columns\n",
    "kaggle_dataset.describe(include = \"O\")"
   ]
  },
  {
   "cell_type": "code",
   "execution_count": 22,
   "metadata": {},
   "outputs": [
    {
     "data": {
      "text/plain": [
       "owner            2564\n",
       "issue_title    118012\n",
       "description    116371\n",
       "dtype: int64"
      ]
     },
     "execution_count": 22,
     "metadata": {},
     "output_type": "execute_result"
    }
   ],
   "source": [
    "# Count the number of unique values in each column of the DataFrame 'kaggle_dataset'\n",
    "# 'nunique()' returns a Series with the number of unique values for each column\n",
    "# This is useful for understanding the variability and cardinality of data in each column\n",
    "kaggle_dataset.nunique()"
   ]
  },
  {
   "cell_type": "code",
   "execution_count": null,
   "metadata": {},
   "outputs": [],
   "source": [
    "'''\n",
    "number of unique titles is less than number of rows\n",
    "so there are duplicate titles\n",
    "remove rows of duplicate titles\n",
    "'''"
   ]
  },
  {
   "cell_type": "markdown",
   "metadata": {},
   "source": [
    "**Remove duplicate titles**"
   ]
  },
  {
   "cell_type": "code",
   "execution_count": 8,
   "metadata": {},
   "outputs": [],
   "source": [
    "# Remove duplicate rows from the DataFrame 'kaggle_dataset' based on the 'issue_title' column\n",
    "# 'subset' specifies the column to consider when identifying duplicates\n",
    "# 'drop_duplicates(subset='issue_title')' keeps the first occurrence of each unique 'issue_title' and removes the rest\n",
    "# The updated DataFrame without duplicates is assigned back to 'kaggle_dataset'\n",
    "# This ensures that each issue title appears only once in the DataFrame\n",
    "kaggle_dataset = kaggle_dataset.drop_duplicates(subset='issue_title')"
   ]
  },
  {
   "cell_type": "code",
   "execution_count": 9,
   "metadata": {},
   "outputs": [
    {
     "name": "stdout",
     "output_type": "stream",
     "text": [
      "(118013, 3)\n"
     ]
    }
   ],
   "source": [
    "# Print the shape of the DataFrame 'kaggle_dataset'\n",
    "# 'shape' returns a tuple representing the dimensionality of the DataFrame\n",
    "# The first value is the number of rows, and the second value is the number of columns\n",
    "print(kaggle_dataset.shape)"
   ]
  },
  {
   "cell_type": "code",
   "execution_count": 25,
   "metadata": {},
   "outputs": [
    {
     "data": {
      "text/plain": [
       "owner            2563\n",
       "issue_title    118012\n",
       "description    115812\n",
       "dtype: int64"
      ]
     },
     "execution_count": 25,
     "metadata": {},
     "output_type": "execute_result"
    }
   ],
   "source": [
    "# Count the number of unique values in each column of the DataFrame 'kaggle_dataset'\n",
    "# 'nunique()' returns a Series with the number of unique values for each column\n",
    "# This is useful for understanding the variability and cardinality of data in each column\n",
    "kaggle_dataset.nunique()"
   ]
  },
  {
   "cell_type": "markdown",
   "metadata": {},
   "source": [
    "**generates descriptive statistics of the data**"
   ]
  },
  {
   "cell_type": "code",
   "execution_count": 26,
   "metadata": {},
   "outputs": [
    {
     "data": {
      "text/html": [
       "<div>\n",
       "<style scoped>\n",
       "    .dataframe tbody tr th:only-of-type {\n",
       "        vertical-align: middle;\n",
       "    }\n",
       "\n",
       "    .dataframe tbody tr th {\n",
       "        vertical-align: top;\n",
       "    }\n",
       "\n",
       "    .dataframe thead th {\n",
       "        text-align: right;\n",
       "    }\n",
       "</style>\n",
       "<table border=\"1\" class=\"dataframe\">\n",
       "  <thead>\n",
       "    <tr style=\"text-align: right;\">\n",
       "      <th></th>\n",
       "      <th>owner</th>\n",
       "      <th>issue_title</th>\n",
       "      <th>description</th>\n",
       "    </tr>\n",
       "  </thead>\n",
       "  <tbody>\n",
       "    <tr>\n",
       "      <th>count</th>\n",
       "      <td>118013</td>\n",
       "      <td>118012</td>\n",
       "      <td>118012</td>\n",
       "    </tr>\n",
       "    <tr>\n",
       "      <th>unique</th>\n",
       "      <td>2563</td>\n",
       "      <td>118012</td>\n",
       "      <td>115812</td>\n",
       "    </tr>\n",
       "    <tr>\n",
       "      <th>top</th>\n",
       "      <td>estade@chromium.org</td>\n",
       "      <td>Scrolling with some scroll mice (touchpad, etc...</td>\n",
       "      <td>See the link to graphs below.</td>\n",
       "    </tr>\n",
       "    <tr>\n",
       "      <th>freq</th>\n",
       "      <td>1243</td>\n",
       "      <td>1</td>\n",
       "      <td>1396</td>\n",
       "    </tr>\n",
       "  </tbody>\n",
       "</table>\n",
       "</div>"
      ],
      "text/plain": [
       "                      owner  \\\n",
       "count                118013   \n",
       "unique                 2563   \n",
       "top     estade@chromium.org   \n",
       "freq                   1243   \n",
       "\n",
       "                                              issue_title  \\\n",
       "count                                              118012   \n",
       "unique                                             118012   \n",
       "top     Scrolling with some scroll mice (touchpad, etc...   \n",
       "freq                                                    1   \n",
       "\n",
       "                           description  \n",
       "count                           118012  \n",
       "unique                          115812  \n",
       "top     See the link to graphs below.   \n",
       "freq                              1396  "
      ]
     },
     "execution_count": 26,
     "metadata": {},
     "output_type": "execute_result"
    }
   ],
   "source": [
    "# Generate summary statistics for columns with object dtype in the DataFrame 'kaggle_dataset'\n",
    "# 'describe(include=\"O\")' provides descriptive statistics for columns containing object-type (string) data\n",
    "# The output includes count, unique, top, and freq for each object-type column\n",
    "# This is useful for gaining insights into categorical or textual data in the DataFrame\n",
    "kaggle_dataset.describe(include=\"O\")"
   ]
  },
  {
   "cell_type": "markdown",
   "metadata": {},
   "source": [
    "**Show the number of nulls in each column**"
   ]
  },
  {
   "cell_type": "code",
   "execution_count": 27,
   "metadata": {},
   "outputs": [
    {
     "name": "stdout",
     "output_type": "stream",
     "text": [
      "owner          0\n",
      "issue_title    1\n",
      "description    1\n",
      "dtype: int64\n"
     ]
    }
   ],
   "source": [
    "# Print the sum of missing values (NaN) in each column of the DataFrame 'kaggle_dataset'\n",
    "# 'isnull()' returns a DataFrame of boolean values indicating where NaN values are present\n",
    "# 'sum()' then sums these boolean values along each column, giving the count of NaN values in each column\n",
    "# This is useful for identifying columns with missing data in the DataFrame\n",
    "print(kaggle_dataset.isnull().sum())"
   ]
  },
  {
   "cell_type": "markdown",
   "metadata": {},
   "source": [
    "**Remove rows with null values**"
   ]
  },
  {
   "cell_type": "code",
   "execution_count": 10,
   "metadata": {},
   "outputs": [
    {
     "name": "stdout",
     "output_type": "stream",
     "text": [
      "owner          0\n",
      "issue_title    0\n",
      "description    0\n",
      "dtype: int64\n"
     ]
    }
   ],
   "source": [
    "# Remove rows with missing values (NaN) from the DataFrame 'kaggle_dataset'\n",
    "# 'dropna(inplace=True)' drops all rows containing NaN values from the DataFrame 'kaggle_dataset'\n",
    "# 'inplace=True' modifies 'kaggle_dataset' directly without creating a new DataFrame\n",
    "# This ensures that the DataFrame only contains rows with complete data\n",
    "kaggle_dataset.dropna(inplace=True)\n",
    "print(kaggle_dataset.isnull().sum())"
   ]
  },
  {
   "cell_type": "markdown",
   "metadata": {},
   "source": [
    "**Print the minimum number of occurance of owner column**"
   ]
  },
  {
   "cell_type": "code",
   "execution_count": 11,
   "metadata": {},
   "outputs": [
    {
     "name": "stdout",
     "output_type": "stream",
     "text": [
      "The minimum number of occurrences in owner column is 1\n"
     ]
    }
   ],
   "source": [
    "# Calculate the minimum number of occurrences of each unique value in the 'owner' column of the DataFrame 'kaggle_dataset'\n",
    "# 'value_counts()' counts the occurrences of each unique value in the 'owner' column\n",
    "# 'min()' then calculates the minimum number of occurrences among these values\n",
    "min_occurrences = kaggle_dataset['owner'].value_counts().min()\n",
    "\n",
    "# Print the minimum number of occurrences in the 'owner' column\n",
    "print(f\"The minimum number of occurrences in owner column is {min_occurrences}\")"
   ]
  },
  {
   "cell_type": "markdown",
   "metadata": {},
   "source": [
    "**Filter the dataset do the minimum occurance of each owner is 5**"
   ]
  },
  {
   "cell_type": "code",
   "execution_count": 13,
   "metadata": {},
   "outputs": [],
   "source": [
    "# Calculate the occurrences of each value in the 'owner' column of the DataFrame 'kaggle_dataset'\n",
    "value_counts = kaggle_dataset['owner'].value_counts()\n",
    "\n",
    "# Filter 'kaggle_dataset' to include only rows where the 'owner' column has at least 5 occurrences\n",
    "# 'value_counts[value_counts >= 5].index' filters the index (unique values) where the occurrence count is at least 5\n",
    "# 'kaggle_dataset['owner'].isin(...)' filters rows based on whether their 'owner' value is in the filtered index\n",
    "kaggle_dataset = kaggle_dataset[kaggle_dataset['owner'].isin(value_counts[value_counts >= 5].index)]"
   ]
  },
  {
   "cell_type": "code",
   "execution_count": 14,
   "metadata": {},
   "outputs": [
    {
     "name": "stdout",
     "output_type": "stream",
     "text": [
      "The minimum number of occurrences in owner column after filteration is 5\n"
     ]
    }
   ],
   "source": [
    "# Calculate the minimum number of occurrences of each unique value in the 'owner' column of the DataFrame 'kaggle_dataset'\n",
    "# 'value_counts()' counts the occurrences of each unique value in the 'owner' column\n",
    "# 'min()' then calculates the minimum number of occurrences among these values\n",
    "min_occurrences = kaggle_dataset['owner'].value_counts().min()\n",
    "\n",
    "# Print the minimum number of occurrences in the 'owner' column\n",
    "print(f\"The minimum number of occurrences in owner column is {min_occurrences}\")"
   ]
  },
  {
   "cell_type": "code",
   "execution_count": 15,
   "metadata": {},
   "outputs": [
    {
     "name": "stdout",
     "output_type": "stream",
     "text": [
      "(116298, 3)\n"
     ]
    }
   ],
   "source": [
    "# Print the shape of the DataFrame 'kaggle_dataset'\n",
    "# 'shape' returns a tuple representing the dimensionality of the DataFrame\n",
    "# The first value is the number of rows, and the second value is the number of columns\n",
    "print(kaggle_dataset.shape)"
   ]
  },
  {
   "cell_type": "code",
   "execution_count": 16,
   "metadata": {},
   "outputs": [
    {
     "data": {
      "text/plain": [
       "owner            1688\n",
       "issue_title    116298\n",
       "description    114125\n",
       "dtype: int64"
      ]
     },
     "execution_count": 16,
     "metadata": {},
     "output_type": "execute_result"
    }
   ],
   "source": [
    "# Count the number of unique values in each column of the DataFrame 'kaggle_dataset'\n",
    "# 'nunique()' returns a Series with the number of unique values for each column\n",
    "# This is useful for understanding the variability and cardinality of data in each column\n",
    "kaggle_dataset.nunique()"
   ]
  },
  {
   "cell_type": "markdown",
   "metadata": {},
   "source": [
    "**Merge the title and description into one (Summary) column**"
   ]
  },
  {
   "cell_type": "code",
   "execution_count": 17,
   "metadata": {},
   "outputs": [],
   "source": [
    "def preprocess_summary(summary):\n",
    "    \"\"\"\n",
    "    Preprocesses a summary string by removing special characters, newlines, and hyperlinks.\n",
    "\n",
    "    Parameters:\n",
    "    summary (str): The summary string to preprocess.\n",
    "\n",
    "    Returns:\n",
    "    str: The preprocessed summary string.\n",
    "    \"\"\"\n",
    "    # Remove special characters using regular expression\n",
    "    summary = re.sub(r'[^\\w\\s]', '', summary)\n",
    "    \n",
    "    # Remove newlines by replacing with a space\n",
    "    summary = summary.replace('\\n', ' ')\n",
    "    \n",
    "    # Remove hyperlinks using regular expression\n",
    "    summary = re.sub(r'http\\S+', '', summary)\n",
    "    \n",
    "    return summary"
   ]
  },
  {
   "cell_type": "code",
   "execution_count": 18,
   "metadata": {},
   "outputs": [],
   "source": [
    "def filter_by_word_count(df, min_word_count):\n",
    "    \"\"\"\n",
    "    Filter a DataFrame 'df' to include only rows where the 'Summary' column has at least 'min_word_count' words.\n",
    "\n",
    "    Parameters:\n",
    "    df (DataFrame): The input DataFrame containing a 'Summary' column.\n",
    "    min_word_count (int): The minimum number of words required in the 'Summary' column.\n",
    "\n",
    "    Returns:\n",
    "    DataFrame: A filtered DataFrame containing rows with at least 'min_word_count' words in the 'Summary' column.\n",
    "    \"\"\"\n",
    "    # Split each summary into words, count the number of words, and filter rows based on word count\n",
    "    return df[df['Summary'].str.split().str.len() >= min_word_count]"
   ]
  },
  {
   "cell_type": "code",
   "execution_count": 19,
   "metadata": {},
   "outputs": [],
   "source": [
    "# This assigns the values from 'issue_title' column to the 'Summary' column\n",
    "kaggle_dataset['Summary'] = kaggle_dataset['issue_title']"
   ]
  },
  {
   "cell_type": "code",
   "execution_count": 20,
   "metadata": {},
   "outputs": [],
   "source": [
    "# Preprocess the 'Summary' column in the DataFrame 'kaggle_dataset'\n",
    "# 'apply(preprocess_summary)' applies the function 'preprocess_summary' to each element in the 'Summary' column\n",
    "# This preprocesses each summary by removing special characters, newlines, and hyperlinks\n",
    "kaggle_dataset['Summary'] = kaggle_dataset['Summary'].apply(preprocess_summary)"
   ]
  },
  {
   "cell_type": "code",
   "execution_count": 21,
   "metadata": {},
   "outputs": [],
   "source": [
    "# Drop the 'issue_title' and 'description' columns from the DataFrame 'kaggle_dataset'\n",
    "# 'drop(columns=['issue_title','description'])' removes the specified columns from the DataFrame\n",
    "# The updated DataFrame without 'issue_title' and 'description' columns is assigned back to 'kaggle_dataset'\n",
    "kaggle_dataset = kaggle_dataset.drop(columns=['issue_title', 'description'])"
   ]
  },
  {
   "cell_type": "markdown",
   "metadata": {},
   "source": [
    "**Filter the dataset by the number of words in Summary column**"
   ]
  },
  {
   "cell_type": "code",
   "execution_count": 22,
   "metadata": {},
   "outputs": [],
   "source": [
    "# Define the minimum word count required in each summary\n",
    "min_word_count = 5\n",
    "\n",
    "# Filter rows in the DataFrame 'kaggle_dataset' to include only those where the 'Summary' column has at least 'min_word_count' words\n",
    "# 'filter_by_word_count(kaggle_dataset, min_word_count)' filters the DataFrame based on the word count in the 'Summary' column\n",
    "kaggle_dataset = filter_by_word_count(kaggle_dataset, min_word_count)"
   ]
  },
  {
   "cell_type": "code",
   "execution_count": 23,
   "metadata": {},
   "outputs": [
    {
     "name": "stdout",
     "output_type": "stream",
     "text": [
      "(100047, 2)\n"
     ]
    }
   ],
   "source": [
    "# Print the shape of the DataFrame 'kaggle_dataset'\n",
    "# 'shape' returns a tuple representing the dimensionality of the DataFrame\n",
    "# The first value is the number of rows, and the second value is the number of columns\n",
    "print(kaggle_dataset.shape)"
   ]
  },
  {
   "cell_type": "code",
   "execution_count": 24,
   "metadata": {},
   "outputs": [
    {
     "name": "stdout",
     "output_type": "stream",
     "text": [
      "Index(['owner', 'Summary'], dtype='object')\n"
     ]
    }
   ],
   "source": [
    "# Print the names of the columns in the DataFrame 'kaggle_dataset'\n",
    "# 'columns' returns an Index object containing the column labels of the DataFrame\n",
    "print(kaggle_dataset.columns)"
   ]
  },
  {
   "cell_type": "markdown",
   "metadata": {},
   "source": [
    "**Save cleaned data**"
   ]
  },
  {
   "cell_type": "code",
   "execution_count": 25,
   "metadata": {},
   "outputs": [],
   "source": [
    "# Get the current working directory\n",
    "current_dir = os.getcwd()\n",
    "\n",
    "# Define the relative path to save the cleaned DataFrame as a CSV file\n",
    "relative_path = os.path.join('..', 'data', 'kaggle_dataset', 'cleaned_kaggle_dataset.csv')\n",
    "\n",
    "# Save the DataFrame 'kaggle_dataset' to a CSV file at the specified path\n",
    "# 'index=False' excludes the DataFrame index from being saved to the CSV file\n",
    "kaggle_dataset.to_csv(os.path.join(current_dir, relative_path), index=False)"
   ]
  }
 ],
 "metadata": {
  "accelerator": "GPU",
  "colab": {
   "gpuType": "T4",
   "provenance": []
  },
  "kernelspec": {
   "display_name": "Python 3 (ipykernel)",
   "language": "python",
   "name": "python3"
  },
  "language_info": {
   "codemirror_mode": {
    "name": "ipython",
    "version": 3
   },
   "file_extension": ".py",
   "mimetype": "text/x-python",
   "name": "python",
   "nbconvert_exporter": "python",
   "pygments_lexer": "ipython3",
   "version": "3.8.10"
  }
 },
 "nbformat": 4,
 "nbformat_minor": 4
}
